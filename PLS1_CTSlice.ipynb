{
 "cells": [
  {
   "cell_type": "code",
   "execution_count": 11,
   "id": "76adf7f7-c8b4-4cf8-90e2-37e2fc7c0d1f",
   "metadata": {
    "collapsed": false
   },
   "outputs": [],
   "source": [
    "import importlib\n",
    "from sklearn.model_selection import GridSearchCV, KFold\n",
    "from sklearn.utils import gen_batches\n",
    "import numpy as np\n",
    "from Code.SGDPLS import SGDPLS\n",
    "from Code.OLPLS import OLPLS\n",
    "from Code.CIPLS import CIPLS\n",
    "from Code.SIMPLS import SIMPLS\n",
    "from Code.IPLS import IPLS\n",
    "from Code.PLS1 import IPLS1\n",
    "# ----------\n",
    "from sklearn.cross_decomposition import PLSRegression\n",
    "from pytictoc import TicToc\n",
    "tictoc=TicToc()"
   ]
  },
  {
   "cell_type": "code",
   "execution_count": 3,
   "id": "01f4c6f3-df3c-4f29-934a-c2a128f7acc2",
   "metadata": {
    "collapsed": false
   },
   "outputs": [],
   "source": [
    "dataset='CTSlices'\n",
    "CT_dat = np.genfromtxt(\"data/CTSlices/slice_localization_data.csv\",\n",
    "                       delimiter=\",\",\n",
    "                       skip_header=1)\n",
    "X_train = CT_dat[:,1:-1]\n",
    "y_train = CT_dat[:,-1]\n",
    "\n",
    "n_train = X_train.shape[0]\n",
    "batch_size = 100\n",
    "batch_num = int(n_train/batch_size)\n",
    "print(n_train, batch_num, batch_size)\n",
    "trainset = [ slice((i+1)*batch_size) for i in range(batch_num)]"
   ]
  },
  {
   "cell_type": "code",
   "execution_count": 28,
   "id": "68e547bf-c023-4499-95b2-4aa48fb71ad5",
   "metadata": {
    "collapsed": false
   },
   "outputs": [],
   "source": [
    "ypred_all = {}\n",
    "tlst = {'samples': [(i+1)*batch_size for i in range(batch_num)]}"
   ]
  },
  {
   "cell_type": "code",
   "execution_count": 21,
   "id": "85c87eb2-e496-466c-aa2e-14cf791baa81",
   "metadata": {
    "collapsed": false
   },
   "outputs": [],
   "source": [
    "def RunExp(pls,timer):\n",
    "    for ind,batch in enumerate(gen_batches(n_train,batch_size)):\n",
    "        tictoc.tic()\n",
    "        pls.fit(X_train[batch], y_train[batch])\n",
    "        timer[ind] = tictoc.tocvalue()\n",
    "    ypred = pls.predict(X_train[:])\n",
    "\n",
    "    return timer,ypred"
   ]
  },
  {
   "cell_type": "code",
   "execution_count": 29,
   "id": "985841f6-debe-4e01-bb0b-07b6c66563e5",
   "metadata": {
    "collapsed": false
   },
   "outputs": [],
   "source": [
    "pls = PLSRegression(n_components=7, scale=False).\\\n",
    "    fit(X_train[:n_train,:],y_train[:n_train])\n",
    "pls_pred = pls.predict(X_train[:n_train]).ravel()\n",
    "ypred_all.update({'PLRegression': pls_pred})"
   ]
  },
  {
   "cell_type": "code",
   "execution_count": 33,
   "id": "8d0323dc-1296-4ef3-9501-1e88b74d38fd",
   "metadata": {
    "collapsed": false
   },
   "outputs": [],
   "source": [
    "n_comp=7\n",
    "timer = np.zeros((batch_num, ))\n",
    "pls = OLPLS(n_components=n_comp,amnesic=0.99,mu=1e-4)\n",
    "timer,ypred = RunExp(pls,timer)\n",
    "ypred_all.update({'OLPLS': ypred.ravel()})\n",
    "tlst.update({'OLPLS': timer})"
   ]
  },
  {
   "cell_type": "code",
   "execution_count": null,
   "id": "7aadf232-cc07-40d1-9695-0e8c106027c1",
   "metadata": {
    "collapsed": false
   },
   "outputs": [],
   "source": [
    "n_comp=8\n",
    "timer = np.zeros((batch_num, ))\n",
    "pls = SIMPLS(n_components=n_comp)\n",
    "timer,ypred = RunExp(pls,timer)\n",
    "ypred_all.update({'SIMPLS': ypred.ravel()})\n",
    "tlst.update({'SIMPLS': timer})"
   ]
  },
  {
   "cell_type": "code",
   "execution_count": null,
   "id": "b29b1fb2-6907-4def-9c57-1727c1e83d1c",
   "metadata": {
    "collapsed": false
   },
   "outputs": [],
   "source": [
    "n_comp=7\n",
    "timer = np.zeros((batch_num, ))\n",
    "pls = IPLS1(n_components=n_comp)\n",
    "timer,ypred = RunExp(pls,timer)\n",
    "ypred_all.update({'IPLS1': ypred.ravel()})\n",
    "tlst.update({'IPLS1': timer})"
   ]
  },
  {
   "cell_type": "code",
   "execution_count": 34,
   "id": "53777d36-7c93-4f0c-89cb-434ad38d3f1f",
   "metadata": {
    "collapsed": false
   },
   "outputs": [],
   "source": [
    "n_comp=7\n",
    "timer = np.zeros((batch_num, ))\n",
    "pls = SGDPLS(n_components=n_comp,epochs=100,eta=1e-4)\n",
    "timer,ypred = RunExp(pls,timer)\n",
    "ypred_all.update({'SGDPLS': ypred.ravel()})\n",
    "tlst.update({'SGDPL': timer})"
   ]
  },
  {
   "cell_type": "code",
   "execution_count": 35,
   "id": "10089460-e412-497b-a374-02adde7ce93d",
   "metadata": {
    "collapsed": false
   },
   "outputs": [
    {
     "name": "stdout",
     "output_type": "stream",
     "text": [
      "{'PLRegression': array([18.06983939, 19.83481596, 20.57304785, ..., 41.05752271,\n",
      "       12.81999267, 11.3007853 ]), 'OLPLS': array([40.41111774, 40.63270067, 40.68833153, ..., 47.38210415,\n",
      "       44.99744747, 45.28198677])}\n"
     ]
    }
   ],
   "source": [
    "print(ypred_all)"
   ]
  },
  {
   "cell_type": "code",
   "execution_count": null,
   "id": "838939d1-8767-4b6a-a2c2-eb00510a3bf9",
   "metadata": {
    "collapsed": false
   },
   "outputs": [],
   "source": []
  }
 ],
 "metadata": {
  "kernelspec": {
   "argv": [
    "python",
    "-m",
    "ipykernel_launcher",
    "-f",
    "{connection_file}"
   ],
   "display_name": "Python 3 (ipykernel)",
   "env": null,
   "interrupt_mode": "signal",
   "language": "python",
   "metadata": {
    "debugger": true
   },
   "name": "python3"
  },
  "name": "PLS1_CTSlice.ipynb"
 },
 "nbformat": 4,
 "nbformat_minor": 5
}
