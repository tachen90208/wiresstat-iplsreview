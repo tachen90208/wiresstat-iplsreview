{
 "cells": [
  {
   "cell_type": "code",
   "execution_count": 51,
   "id": "1fa47994-c7dd-4961-a181-549a7ba83e0a",
   "metadata": {
    "collapsed": false,
    "jupyter": {
     "outputs_hidden": false
    }
   },
   "outputs": [],
   "source": [
    "import importlib\n",
    "from sklearn.metrics import accuracy_score\n",
    "import copy\n",
    "from sklearn.model_selection import GridSearchCV, KFold, train_test_split\n",
    "from sklearn.utils import gen_batches\n",
    "from sklearn.linear_model import LogisticRegression\n",
    "from sklearn.cross_decomposition import PLSRegression\n",
    "import numpy as np\n",
    "from numpy.linalg import norm\n",
    "# ----------------------------------------\n",
    "from skopt.space import Integer, Real\n",
    "from skopt.utils import use_named_args\n",
    "from skopt import gp_minimize\n",
    "# ----------------------------------------\n",
    "\n",
    "# import warnings\n",
    "# warnings.filterwarnings('ignore')\n",
    "\n",
    "from pytictoc import TicToc\n",
    "tim=TicToc()\n",
    "tim_tot = TicToc()"
   ]
  },
  {
   "cell_type": "code",
   "execution_count": 48,
   "id": "7923ec1f-55c0-4800-949a-217b41582331",
   "metadata": {
    "collapsed": false,
    "jupyter": {
     "outputs_hidden": false
    }
   },
   "outputs": [
    {
     "name": "stdout",
     "output_type": "stream",
     "text": [
      "(2200, 512)\n",
      "(1000, 512)\n",
      "(2200,)\n",
      "(1000,)\n"
     ]
    }
   ],
   "source": [
    "with np.load(\"./data/lfw.npz\") as data:\n",
    "    fea_train = data['fea_train']\n",
    "    fea_test  = data['fea_test']\n",
    "    X_train    = data['X_train']\n",
    "    label_train    = data['y_train']\n",
    "    X_test    = data['X_test']\n",
    "    label_test    = data['y_test']\n",
    "print(fea_train.shape)\n",
    "print(fea_test.shape)\n",
    "# print(X_train.shape)\n",
    "# print(X_test.shape)\n",
    "print(label_train.shape)\n",
    "print(label_test.shape)"
   ]
  },
  {
   "cell_type": "code",
   "execution_count": 49,
   "id": "077d81fa-6276-446a-a457-5dd5089bf798",
   "metadata": {
    "collapsed": false,
    "jupyter": {
     "outputs_hidden": false
    }
   },
   "outputs": [],
   "source": [
    "X_train, X_test, y_train, y_test = train_test_split(\n",
    "    fea_train, label_train, test_size=0.1, random_state=42)\n",
    "\n",
    "def Batch_Update_CV(pls_i):\n",
    "    pls = copy.deepcopy(pls_i)\n",
    "    X_score_train = np.zeros((X_train.shape[0], 1))\n",
    "    # try:\n",
    "    for i,batch in enumerate(gen_batches(X_train.shape[0], 100)):\n",
    "        pls.fit(X_train[batch], y_train[batch])\n",
    "        X_score_train[batch] = norm(pls.transform(X_train[batch]), ord=1, axis=1, keepdims=True)\n",
    "\n",
    "    X_score_test  = norm(pls.transform(X_test), ord=1, axis=1, keepdims=True)\n",
    "    y_pred = LogisticRegression(penalty=None).fit(X_score_train, y_train) \\\n",
    "                                             .predict(X_score_test)\n",
    "    score = accuracy_score(y_test, y_pred)\n",
    "    # except Exception as e:\n",
    "    #     print(\"-\"*20)\n",
    "    #     print(\" Error: \", e)\n",
    "    #     score = np.nan\n",
    "    return score\n",
    "\n",
    "def Model_Score(pls):\n",
    "    pls.fit(X_train, y_train)\n",
    "    X_score_train = norm(pls.transform(X_train), ord=1, axis=1, keepdims=True)\n",
    "    X_score_test  = norm(pls.transform(X_test), ord=1, axis=1, keepdims=True)\n",
    "    y_pred = LogisticRegression(penalty=None).fit(X_score_train, y_train) \\\n",
    "                                             .predict(X_score_test)\n",
    "\n",
    "    return accuracy_score(y_test, y_pred)"
   ]
  },
  {
   "cell_type": "code",
   "execution_count": 5,
   "id": "71372619-1570-4672-96b6-430f3d83f33d",
   "metadata": {
    "collapsed": false,
    "jupyter": {
     "outputs_hidden": false
    }
   },
   "outputs": [
    {
     "name": "stdout",
     "output_type": "stream",
     "text": [
      "params={'n_comp': 1}, score=6.2727273e-01, \n",
      "params={'n_comp': 2}, score=6.8636364e-01, \n",
      "params={'n_comp': 3}, score=7.3181818e-01, \n"
     ]
    },
    {
     "name": "stdout",
     "output_type": "stream",
     "text": [
      "params={'n_comp': 4}, score=7.1363636e-01, \n",
      "params={'n_comp': 5}, score=7.3636364e-01, \n"
     ]
    },
    {
     "name": "stdout",
     "output_type": "stream",
     "text": [
      "params={'n_comp': 6}, score=7.5454545e-01, \n",
      "params={'n_comp': 7}, score=7.5909091e-01, \n",
      "params={'n_comp': 8}, score=7.8636364e-01, \n"
     ]
    },
    {
     "name": "stdout",
     "output_type": "stream",
     "text": [
      "params={'n_comp': 9}, score=7.9090909e-01, \n",
      "params={'n_comp': 10}, score=7.9545455e-01, \n",
      "params={'n_comp': 11}, score=7.8636364e-01, \n"
     ]
    },
    {
     "name": "stdout",
     "output_type": "stream",
     "text": [
      "params={'n_comp': 12}, score=8.0000000e-01, \n",
      "params={'n_comp': 13}, score=7.9090909e-01, \n"
     ]
    },
    {
     "name": "stdout",
     "output_type": "stream",
     "text": [
      "params={'n_comp': 14}, score=7.8636364e-01, \n",
      "params={'n_comp': 15}, score=7.9545455e-01, \n"
     ]
    },
    {
     "name": "stdout",
     "output_type": "stream",
     "text": [
      "params={'n_comp': 16}, score=8.0000000e-01, \n",
      "params={'n_comp': 17}, score=8.0454545e-01, \n"
     ]
    },
    {
     "name": "stdout",
     "output_type": "stream",
     "text": [
      "params={'n_comp': 18}, score=8.0909091e-01, \n"
     ]
    },
    {
     "name": "stdout",
     "output_type": "stream",
     "text": [
      "params={'n_comp': 19}, score=8.1818182e-01, \n",
      "params={'n_comp': 20}, score=8.1818182e-01, \n"
     ]
    },
    {
     "name": "stdout",
     "output_type": "stream",
     "text": [
      "params={'n_comp': 21}, score=8.2727273e-01, \n",
      "params={'n_comp': 22}, score=8.0454545e-01, \n"
     ]
    },
    {
     "name": "stdout",
     "output_type": "stream",
     "text": [
      "params={'n_comp': 23}, score=8.0454545e-01, \n",
      "params={'n_comp': 24}, score=8.1818182e-01, \n"
     ]
    },
    {
     "name": "stdout",
     "output_type": "stream",
     "text": [
      "params={'n_comp': 25}, score=8.3636364e-01, \n",
      "params={'n_comp': 26}, score=8.2272727e-01, \n"
     ]
    },
    {
     "name": "stdout",
     "output_type": "stream",
     "text": [
      "params={'n_comp': 27}, score=8.3636364e-01, \n",
      "params={'n_comp': 28}, score=8.3181818e-01, \n"
     ]
    },
    {
     "name": "stdout",
     "output_type": "stream",
     "text": [
      "params={'n_comp': 29}, score=8.2727273e-01, \n",
      "params={'n_comp': 30}, score=8.4545455e-01, \n"
     ]
    },
    {
     "name": "stdout",
     "output_type": "stream",
     "text": [
      "params={'n_comp': 31}, score=8.5454545e-01, \n",
      "params={'n_comp': 32}, score=8.4545455e-01, \n"
     ]
    },
    {
     "name": "stdout",
     "output_type": "stream",
     "text": [
      "params={'n_comp': 33}, score=8.5000000e-01, \n"
     ]
    },
    {
     "name": "stdout",
     "output_type": "stream",
     "text": [
      "params={'n_comp': 34}, score=8.3636364e-01, \n"
     ]
    },
    {
     "name": "stdout",
     "output_type": "stream",
     "text": [
      "params={'n_comp': 35}, score=8.4090909e-01, \n"
     ]
    },
    {
     "name": "stdout",
     "output_type": "stream",
     "text": [
      "params={'n_comp': 36}, score=8.3181818e-01, \n"
     ]
    },
    {
     "name": "stdout",
     "output_type": "stream",
     "text": [
      "params={'n_comp': 37}, score=8.3181818e-01, \n"
     ]
    },
    {
     "name": "stdout",
     "output_type": "stream",
     "text": [
      "params={'n_comp': 38}, score=8.5000000e-01, \n"
     ]
    },
    {
     "name": "stdout",
     "output_type": "stream",
     "text": [
      "params={'n_comp': 39}, score=8.4545455e-01, \n"
     ]
    },
    {
     "name": "stdout",
     "output_type": "stream",
     "text": [
      "params={'n_comp': 40}, score=8.3181818e-01, \n"
     ]
    },
    {
     "name": "stdout",
     "output_type": "stream",
     "text": [
      "params={'n_comp': 41}, score=8.3181818e-01, \n"
     ]
    },
    {
     "name": "stdout",
     "output_type": "stream",
     "text": [
      "params={'n_comp': 42}, score=8.5000000e-01, \n"
     ]
    },
    {
     "name": "stdout",
     "output_type": "stream",
     "text": [
      "params={'n_comp': 43}, score=8.5454545e-01, \n"
     ]
    },
    {
     "name": "stdout",
     "output_type": "stream",
     "text": [
      "params={'n_comp': 44}, score=8.5454545e-01, \n"
     ]
    },
    {
     "name": "stdout",
     "output_type": "stream",
     "text": [
      "params={'n_comp': 45}, score=8.4090909e-01, \n"
     ]
    },
    {
     "name": "stdout",
     "output_type": "stream",
     "text": [
      "params={'n_comp': 46}, score=8.3181818e-01, \n"
     ]
    },
    {
     "name": "stdout",
     "output_type": "stream",
     "text": [
      "params={'n_comp': 47}, score=8.3636364e-01, \n"
     ]
    },
    {
     "name": "stdout",
     "output_type": "stream",
     "text": [
      "params={'n_comp': 48}, score=8.3636364e-01, \n"
     ]
    },
    {
     "name": "stdout",
     "output_type": "stream",
     "text": [
      "params={'n_comp': 49}, score=8.3181818e-01, \n"
     ]
    },
    {
     "name": "stdout",
     "output_type": "stream",
     "text": [
      "params={'n_comp': 50}, score=8.3636364e-01, \n"
     ]
    },
    {
     "name": "stdout",
     "output_type": "stream",
     "text": [
      "params={'n_comp': 51}, score=8.2727273e-01, \n"
     ]
    },
    {
     "name": "stdout",
     "output_type": "stream",
     "text": [
      "params={'n_comp': 52}, score=8.2727273e-01, \n"
     ]
    },
    {
     "name": "stdout",
     "output_type": "stream",
     "text": [
      "params={'n_comp': 53}, score=8.2727273e-01, \n"
     ]
    },
    {
     "name": "stdout",
     "output_type": "stream",
     "text": [
      "params={'n_comp': 54}, score=8.3181818e-01, \n"
     ]
    },
    {
     "name": "stdout",
     "output_type": "stream",
     "text": [
      "params={'n_comp': 55}, score=8.2727273e-01, \n"
     ]
    },
    {
     "name": "stdout",
     "output_type": "stream",
     "text": [
      "params={'n_comp': 56}, score=8.3181818e-01, \n"
     ]
    },
    {
     "name": "stdout",
     "output_type": "stream",
     "text": [
      "params={'n_comp': 57}, score=8.3181818e-01, \n"
     ]
    },
    {
     "name": "stdout",
     "output_type": "stream",
     "text": [
      "params={'n_comp': 58}, score=8.2272727e-01, \n"
     ]
    },
    {
     "name": "stdout",
     "output_type": "stream",
     "text": [
      "params={'n_comp': 59}, score=8.1818182e-01, \n"
     ]
    },
    {
     "name": "stdout",
     "output_type": "stream",
     "text": [
      "params={'n_comp': 60}, score=8.3181818e-01, \n"
     ]
    },
    {
     "name": "stdout",
     "output_type": "stream",
     "text": [
      "params={'n_comp': 61}, score=8.2272727e-01, \n"
     ]
    },
    {
     "name": "stdout",
     "output_type": "stream",
     "text": [
      "params={'n_comp': 62}, score=8.2727273e-01, \n"
     ]
    },
    {
     "name": "stdout",
     "output_type": "stream",
     "text": [
      "params={'n_comp': 63}, score=8.3636364e-01, \n"
     ]
    },
    {
     "name": "stdout",
     "output_type": "stream",
     "text": [
      "params={'n_comp': 64}, score=8.3636364e-01, \n"
     ]
    },
    {
     "name": "stdout",
     "output_type": "stream",
     "text": [
      "params={'n_comp': 65}, score=8.3181818e-01, \n"
     ]
    },
    {
     "name": "stdout",
     "output_type": "stream",
     "text": [
      "params={'n_comp': 66}, score=8.2272727e-01, \n"
     ]
    },
    {
     "name": "stdout",
     "output_type": "stream",
     "text": [
      "params={'n_comp': 67}, score=8.2727273e-01, \n"
     ]
    },
    {
     "name": "stdout",
     "output_type": "stream",
     "text": [
      "params={'n_comp': 68}, score=8.3636364e-01, \n"
     ]
    },
    {
     "name": "stdout",
     "output_type": "stream",
     "text": [
      "params={'n_comp': 69}, score=8.2727273e-01, \n"
     ]
    },
    {
     "name": "stdout",
     "output_type": "stream",
     "text": [
      "params={'n_comp': 70}, score=8.2727273e-01, \n"
     ]
    },
    {
     "name": "stdout",
     "output_type": "stream",
     "text": [
      "params={'n_comp': 71}, score=8.2727273e-01, \n"
     ]
    },
    {
     "name": "stdout",
     "output_type": "stream",
     "text": [
      "params={'n_comp': 72}, score=8.3636364e-01, \n"
     ]
    },
    {
     "name": "stdout",
     "output_type": "stream",
     "text": [
      "params={'n_comp': 73}, score=8.2272727e-01, \n"
     ]
    },
    {
     "name": "stdout",
     "output_type": "stream",
     "text": [
      "params={'n_comp': 74}, score=8.2272727e-01, \n"
     ]
    },
    {
     "name": "stdout",
     "output_type": "stream",
     "text": [
      "params={'n_comp': 75}, score=8.2727273e-01, \n"
     ]
    },
    {
     "name": "stdout",
     "output_type": "stream",
     "text": [
      "params={'n_comp': 76}, score=8.2272727e-01, \n"
     ]
    },
    {
     "name": "stdout",
     "output_type": "stream",
     "text": [
      "params={'n_comp': 77}, score=8.1363636e-01, \n"
     ]
    },
    {
     "name": "stdout",
     "output_type": "stream",
     "text": [
      "params={'n_comp': 78}, score=8.0909091e-01, \n"
     ]
    },
    {
     "name": "stdout",
     "output_type": "stream",
     "text": [
      "params={'n_comp': 79}, score=8.0909091e-01, \n"
     ]
    },
    {
     "name": "stdout",
     "output_type": "stream",
     "text": [
      "params={'n_comp': 80}, score=8.0909091e-01, \n"
     ]
    },
    {
     "name": "stdout",
     "output_type": "stream",
     "text": [
      "params={'n_comp': 81}, score=8.1818182e-01, \n"
     ]
    },
    {
     "name": "stdout",
     "output_type": "stream",
     "text": [
      "params={'n_comp': 82}, score=8.1363636e-01, \n"
     ]
    },
    {
     "name": "stdout",
     "output_type": "stream",
     "text": [
      "params={'n_comp': 83}, score=8.0909091e-01, \n"
     ]
    },
    {
     "name": "stdout",
     "output_type": "stream",
     "text": [
      "params={'n_comp': 84}, score=8.1363636e-01, \n"
     ]
    },
    {
     "name": "stdout",
     "output_type": "stream",
     "text": [
      "params={'n_comp': 85}, score=8.1363636e-01, \n"
     ]
    },
    {
     "name": "stdout",
     "output_type": "stream",
     "text": [
      "params={'n_comp': 86}, score=8.0454545e-01, \n"
     ]
    },
    {
     "name": "stdout",
     "output_type": "stream",
     "text": [
      "params={'n_comp': 87}, score=8.1363636e-01, \n"
     ]
    },
    {
     "name": "stdout",
     "output_type": "stream",
     "text": [
      "params={'n_comp': 88}, score=8.1363636e-01, \n"
     ]
    },
    {
     "name": "stdout",
     "output_type": "stream",
     "text": [
      "params={'n_comp': 89}, score=8.0454545e-01, \n"
     ]
    },
    {
     "name": "stdout",
     "output_type": "stream",
     "text": [
      "params={'n_comp': 90}, score=8.1363636e-01, \n"
     ]
    },
    {
     "name": "stdout",
     "output_type": "stream",
     "text": [
      "params={'n_comp': 91}, score=8.2727273e-01, \n"
     ]
    },
    {
     "name": "stdout",
     "output_type": "stream",
     "text": [
      "params={'n_comp': 92}, score=8.1818182e-01, \n"
     ]
    },
    {
     "name": "stdout",
     "output_type": "stream",
     "text": [
      "params={'n_comp': 93}, score=8.1363636e-01, \n"
     ]
    },
    {
     "name": "stdout",
     "output_type": "stream",
     "text": [
      "params={'n_comp': 94}, score=8.1818182e-01, \n"
     ]
    },
    {
     "name": "stdout",
     "output_type": "stream",
     "text": [
      "params={'n_comp': 95}, score=8.1363636e-01, \n"
     ]
    },
    {
     "name": "stdout",
     "output_type": "stream",
     "text": [
      "params={'n_comp': 96}, score=8.1363636e-01, \n"
     ]
    },
    {
     "name": "stdout",
     "output_type": "stream",
     "text": [
      "params={'n_comp': 97}, score=8.0909091e-01, \n"
     ]
    },
    {
     "name": "stdout",
     "output_type": "stream",
     "text": [
      "params={'n_comp': 98}, score=8.0909091e-01, \n"
     ]
    },
    {
     "name": "stdout",
     "output_type": "stream",
     "text": [
      "params={'n_comp': 99}, score=8.0909091e-01, \n",
      "\n",
      "best parameter: {'n_comp': 31}; score: 8.5454545e-01; \n"
     ]
    }
   ],
   "source": [
    "n_Comp_lst=list(range(1,100))\n",
    "scores = []\n",
    "params = []\n",
    "for n_comp in n_comp_lst:\n",
    "    pls = PLSRegression(n_components=n_comp, scale=False)\n",
    "    scores.append(Model_Score(pls, fea_train, label_train))\n",
    "    params.append({'n_comp': n_comp})\n",
    "    print(f\"params={params[-1]}, score={scores[-1]:.7e}, \")\n",
    "\n",
    "best_ind = np.nanargmax(scores)\n",
    "print(\"\")\n",
    "print(f\"best parameter: {params[best_ind]}; score: {scores[best_ind]:.7e}; \")\n",
    "\n",
    "\n"
   ]
  },
  {
   "cell_type": "code",
   "execution_count": 13,
   "id": "85853f42-129b-4e11-933a-7bd3149cf0d4",
   "metadata": {
    "collapsed": false,
    "jupyter": {
     "outputs_hidden": false
    }
   },
   "outputs": [
    {
     "name": "stdout",
     "output_type": "stream",
     "text": [
      "params={'n_comp': 1}, score=6.2727273e-01, \n",
      "params={'n_comp': 2}, score=6.9545455e-01, \n",
      "params={'n_comp': 3}, score=7.2727273e-01, \n",
      "params={'n_comp': 4}, score=7.1818182e-01, \n",
      "params={'n_comp': 5}, score=7.1818182e-01, \n",
      "params={'n_comp': 6}, score=7.2727273e-01, \n",
      "params={'n_comp': 7}, score=7.5000000e-01, \n"
     ]
    },
    {
     "name": "stdout",
     "output_type": "stream",
     "text": [
      "params={'n_comp': 8}, score=7.6363636e-01, \n",
      "params={'n_comp': 9}, score=7.7727273e-01, \n",
      "params={'n_comp': 10}, score=7.7272727e-01, \n",
      "params={'n_comp': 11}, score=7.8181818e-01, \n",
      "params={'n_comp': 12}, score=7.8636364e-01, \n",
      "params={'n_comp': 13}, score=7.9090909e-01, \n"
     ]
    },
    {
     "name": "stdout",
     "output_type": "stream",
     "text": [
      "params={'n_comp': 14}, score=7.8636364e-01, \n",
      "params={'n_comp': 15}, score=7.8181818e-01, \n",
      "params={'n_comp': 16}, score=7.7272727e-01, \n",
      "params={'n_comp': 17}, score=8.0909091e-01, \n",
      "params={'n_comp': 18}, score=8.1363636e-01, \n"
     ]
    },
    {
     "name": "stdout",
     "output_type": "stream",
     "text": [
      "params={'n_comp': 19}, score=8.1363636e-01, \n",
      "params={'n_comp': 20}, score=8.0909091e-01, \n",
      "params={'n_comp': 21}, score=8.2272727e-01, \n",
      "params={'n_comp': 22}, score=8.0909091e-01, \n"
     ]
    },
    {
     "name": "stdout",
     "output_type": "stream",
     "text": [
      "params={'n_comp': 23}, score=8.0909091e-01, \n",
      "params={'n_comp': 24}, score=8.3181818e-01, \n",
      "params={'n_comp': 25}, score=8.4545455e-01, \n",
      "params={'n_comp': 26}, score=8.3636364e-01, \n"
     ]
    },
    {
     "name": "stdout",
     "output_type": "stream",
     "text": [
      "params={'n_comp': 27}, score=8.3636364e-01, \n",
      "params={'n_comp': 28}, score=8.4545455e-01, \n",
      "params={'n_comp': 29}, score=8.4090909e-01, \n",
      "params={'n_comp': 30}, score=8.5000000e-01, \n"
     ]
    },
    {
     "name": "stdout",
     "output_type": "stream",
     "text": [
      "params={'n_comp': 31}, score=8.5454545e-01, \n",
      "params={'n_comp': 32}, score=8.5454545e-01, \n",
      "params={'n_comp': 33}, score=8.5909091e-01, \n",
      "params={'n_comp': 34}, score=8.6818182e-01, \n"
     ]
    },
    {
     "name": "stdout",
     "output_type": "stream",
     "text": [
      "params={'n_comp': 35}, score=8.5000000e-01, \n",
      "params={'n_comp': 36}, score=8.5000000e-01, \n",
      "params={'n_comp': 37}, score=8.4090909e-01, \n",
      "params={'n_comp': 38}, score=8.5000000e-01, \n"
     ]
    },
    {
     "name": "stdout",
     "output_type": "stream",
     "text": [
      "params={'n_comp': 39}, score=8.5000000e-01, \n",
      "params={'n_comp': 40}, score=8.5000000e-01, \n",
      "params={'n_comp': 41}, score=8.5909091e-01, \n",
      "params={'n_comp': 42}, score=8.5454545e-01, \n"
     ]
    },
    {
     "name": "stdout",
     "output_type": "stream",
     "text": [
      "params={'n_comp': 43}, score=8.5000000e-01, \n",
      "params={'n_comp': 44}, score=8.5000000e-01, \n",
      "params={'n_comp': 45}, score=8.4090909e-01, \n",
      "params={'n_comp': 46}, score=8.4090909e-01, \n"
     ]
    },
    {
     "name": "stdout",
     "output_type": "stream",
     "text": [
      "params={'n_comp': 47}, score=8.3636364e-01, \n",
      "params={'n_comp': 48}, score=8.3636364e-01, \n",
      "params={'n_comp': 49}, score=8.3181818e-01, \n",
      "params={'n_comp': 50}, score=8.3181818e-01, \n"
     ]
    },
    {
     "name": "stdout",
     "output_type": "stream",
     "text": [
      "params={'n_comp': 51}, score=8.3181818e-01, \n",
      "params={'n_comp': 52}, score=8.3636364e-01, \n",
      "params={'n_comp': 53}, score=8.4545455e-01, \n",
      "params={'n_comp': 54}, score=8.2727273e-01, \n"
     ]
    },
    {
     "name": "stdout",
     "output_type": "stream",
     "text": [
      "params={'n_comp': 55}, score=8.2727273e-01, \n",
      "params={'n_comp': 56}, score=8.3636364e-01, \n",
      "params={'n_comp': 57}, score=8.3181818e-01, \n"
     ]
    },
    {
     "name": "stdout",
     "output_type": "stream",
     "text": [
      "params={'n_comp': 58}, score=8.3181818e-01, \n",
      "params={'n_comp': 59}, score=8.3181818e-01, \n",
      "params={'n_comp': 60}, score=8.3636364e-01, \n"
     ]
    },
    {
     "name": "stdout",
     "output_type": "stream",
     "text": [
      "params={'n_comp': 61}, score=8.3181818e-01, \n",
      "params={'n_comp': 62}, score=8.3181818e-01, \n",
      "params={'n_comp': 63}, score=8.2727273e-01, \n"
     ]
    },
    {
     "name": "stdout",
     "output_type": "stream",
     "text": [
      "params={'n_comp': 64}, score=8.2727273e-01, \n",
      "params={'n_comp': 65}, score=8.2727273e-01, \n",
      "params={'n_comp': 66}, score=8.2727273e-01, \n"
     ]
    },
    {
     "name": "stdout",
     "output_type": "stream",
     "text": [
      "params={'n_comp': 67}, score=8.1818182e-01, \n",
      "params={'n_comp': 68}, score=8.1363636e-01, \n",
      "params={'n_comp': 69}, score=8.1818182e-01, \n"
     ]
    },
    {
     "name": "stdout",
     "output_type": "stream",
     "text": [
      "params={'n_comp': 70}, score=8.1818182e-01, \n",
      "params={'n_comp': 71}, score=8.1818182e-01, \n",
      "params={'n_comp': 72}, score=8.1818182e-01, \n"
     ]
    },
    {
     "name": "stdout",
     "output_type": "stream",
     "text": [
      "params={'n_comp': 73}, score=8.1818182e-01, \n",
      "params={'n_comp': 74}, score=8.1363636e-01, \n",
      "params={'n_comp': 75}, score=8.2727273e-01, \n"
     ]
    },
    {
     "name": "stdout",
     "output_type": "stream",
     "text": [
      "params={'n_comp': 76}, score=8.1818182e-01, \n",
      "params={'n_comp': 77}, score=8.1363636e-01, \n",
      "params={'n_comp': 78}, score=8.0000000e-01, \n"
     ]
    },
    {
     "name": "stdout",
     "output_type": "stream",
     "text": [
      "params={'n_comp': 79}, score=8.0454545e-01, \n",
      "params={'n_comp': 80}, score=8.1363636e-01, \n",
      "params={'n_comp': 81}, score=8.1363636e-01, \n"
     ]
    },
    {
     "name": "stdout",
     "output_type": "stream",
     "text": [
      "params={'n_comp': 82}, score=8.1363636e-01, \n",
      "params={'n_comp': 83}, score=8.0909091e-01, \n",
      "params={'n_comp': 84}, score=8.0909091e-01, \n"
     ]
    },
    {
     "name": "stdout",
     "output_type": "stream",
     "text": [
      "params={'n_comp': 85}, score=8.1363636e-01, \n",
      "params={'n_comp': 86}, score=8.0909091e-01, \n",
      "params={'n_comp': 87}, score=8.1363636e-01, \n"
     ]
    },
    {
     "name": "stdout",
     "output_type": "stream",
     "text": [
      "params={'n_comp': 88}, score=8.1818182e-01, \n",
      "params={'n_comp': 89}, score=8.2272727e-01, \n",
      "params={'n_comp': 90}, score=8.2272727e-01, \n"
     ]
    },
    {
     "name": "stdout",
     "output_type": "stream",
     "text": [
      "params={'n_comp': 91}, score=8.1818182e-01, \n",
      "params={'n_comp': 92}, score=8.1363636e-01, \n",
      "params={'n_comp': 93}, score=8.1363636e-01, \n"
     ]
    },
    {
     "name": "stdout",
     "output_type": "stream",
     "text": [
      "params={'n_comp': 94}, score=8.1363636e-01, \n",
      "params={'n_comp': 95}, score=8.1363636e-01, \n",
      "params={'n_comp': 96}, score=8.0909091e-01, \n"
     ]
    },
    {
     "name": "stdout",
     "output_type": "stream",
     "text": [
      "params={'n_comp': 97}, score=8.1818182e-01, \n",
      "params={'n_comp': 98}, score=8.1363636e-01, \n",
      "params={'n_comp': 99}, score=8.1363636e-01, \n",
      "\n",
      "best parameter: {'n_comp': 34}; score: 8.6818182e-01; \n"
     ]
    }
   ],
   "source": [
    "import Code.SIMPLS\n",
    "importlib.reload(Code.SIMPLS)\n",
    "from Code.SIMPLS import SIMPLS\n",
    "\n",
    "n_comp_lst=list(range(1,100))\n",
    "scores = []\n",
    "params = []\n",
    "for n_comp in n_comp_lst:\n",
    "    pls = SIMPLS(n_components=n_comp)\n",
    "    scores.append(Model_Score(pls))\n",
    "    params.append({'n_comp': n_comp})\n",
    "    print(f\"params={params[-1]}, score={scores[-1]:.7e}, \")\n",
    "\n",
    "best_ind = np.nanargmax(scores)\n",
    "print(\"\")\n",
    "print(f\"best parameter: {params[best_ind]}; score: {scores[best_ind]:.7e}; \")"
   ]
  },
  {
   "cell_type": "code",
   "execution_count": 50,
   "id": "9cde7fb9-a6d2-4da5-8fa3-1cccaead1cf9",
   "metadata": {
    "collapsed": false,
    "jupyter": {
     "outputs_hidden": false
    }
   },
   "outputs": [
    {
     "name": "stdout",
     "output_type": "stream",
     "text": [
      "46.0 100\n"
     ]
    },
    {
     "name": "stdout",
     "output_type": "stream",
     "text": [
      "46.0 100\n",
      "58.0 100\n",
      "48.0 100\n",
      "56.0 100\n",
      "46.0 100\n",
      "44.0 100\n",
      "49.0 100\n",
      "47.0 100\n",
      "58.0 100\n",
      "54.0 100\n",
      "53.0 100\n",
      "46.0 100\n",
      "46.0 100\n",
      "52.0 100\n",
      "57.0 100\n",
      "50.0 100\n",
      "42.0 100\n",
      "42.0 100\n",
      "39.0 80\n"
     ]
    },
    {
     "name": "stdout",
     "output_type": "stream",
     "text": [
      "params={'n_comp': 1}, score=6.1818182e-01, \n",
      "46.0 100\n",
      "46.0 100\n",
      "58.0 100\n",
      "48.0 100\n",
      "56.0 100\n",
      "46.0 100\n",
      "44.0 100\n",
      "49.0 100\n",
      "47.0 100\n",
      "58.0 100\n",
      "54.0 100\n",
      "53.0 100\n",
      "46.0 100\n",
      "46.0 100\n",
      "52.0 100\n",
      "57.0 100\n",
      "50.0 100\n",
      "42.0 100\n",
      "42.0 100\n",
      "39.0 80\n",
      "params={'n_comp': 2}, score=6.9090909e-01, \n",
      "46.0 100\n",
      "46.0 100\n",
      "58.0 100\n",
      "48.0 100\n",
      "56.0 100\n",
      "46.0 100\n",
      "44.0 100\n",
      "49.0 100\n",
      "47.0 100\n",
      "58.0 100\n",
      "54.0 100\n",
      "53.0 100\n",
      "46.0 100\n"
     ]
    },
    {
     "name": "stdout",
     "output_type": "stream",
     "text": [
      "46.0 100\n",
      "52.0 100\n",
      "57.0 100\n",
      "50.0 100\n",
      "42.0 100\n",
      "42.0 100\n",
      "39.0 80\n",
      "params={'n_comp': 3}, score=7.2272727e-01, \n",
      "46.0 100\n",
      "46.0 100\n"
     ]
    },
    {
     "name": "stdout",
     "output_type": "stream",
     "text": [
      "58.0 100\n",
      "48.0 100\n",
      "56.0 100\n",
      "46.0 100\n",
      "44.0 100\n",
      "49.0 100\n",
      "47.0 100\n",
      "58.0 100\n",
      "54.0 100\n",
      "53.0 100\n",
      "46.0 100\n",
      "46.0 100\n",
      "52.0 100\n",
      "57.0 100\n",
      "50.0 100\n",
      "42.0 100\n",
      "42.0 100\n",
      "39.0 80\n",
      "params={'n_comp': 4}, score=7.1818182e-01, \n",
      "46.0 100\n",
      "46.0 100\n",
      "58.0 100\n",
      "48.0 100\n",
      "56.0 100\n",
      "46.0 100\n",
      "44.0 100\n",
      "49.0 100\n",
      "47.0 100\n",
      "58.0 100\n",
      "54.0 100\n",
      "53.0 100\n",
      "46.0 100\n",
      "46.0 100\n",
      "52.0 100\n",
      "57.0 100\n",
      "50.0 100\n"
     ]
    },
    {
     "name": "stdout",
     "output_type": "stream",
     "text": [
      "42.0 100\n",
      "42.0 100\n",
      "39.0 80\n",
      "params={'n_comp': 5}, score=7.2727273e-01, \n",
      "46.0 100\n",
      "46.0 100\n",
      "58.0 100\n",
      "48.0 100\n",
      "56.0 100\n",
      "46.0 100\n",
      "44.0 100\n",
      "49.0 100\n",
      "47.0 100\n",
      "58.0 100\n",
      "54.0 100\n",
      "53.0 100\n",
      "46.0 100\n",
      "46.0 100\n",
      "52.0 100\n",
      "57.0 100\n",
      "50.0 100\n",
      "42.0 100\n",
      "42.0 100\n",
      "39.0 80\n"
     ]
    },
    {
     "name": "stdout",
     "output_type": "stream",
     "text": [
      "params={'n_comp': 6}, score=7.2727273e-01, \n",
      "46.0 100\n",
      "46.0 100\n",
      "58.0 100\n",
      "48.0 100\n",
      "56.0 100\n",
      "46.0 100\n",
      "44.0 100\n",
      "49.0 100\n",
      "47.0 100\n",
      "58.0 100\n",
      "54.0 100\n",
      "53.0 100\n",
      "46.0 100\n",
      "46.0 100\n",
      "52.0 100\n",
      "57.0 100\n",
      "50.0 100\n",
      "42.0 100\n",
      "42.0 100\n",
      "39.0 80\n",
      "params={'n_comp': 7}, score=7.4090909e-01, \n",
      "46.0 100\n"
     ]
    },
    {
     "name": "stdout",
     "output_type": "stream",
     "text": [
      "46.0 100\n",
      "58.0 100\n",
      "48.0 100\n",
      "56.0 100\n",
      "46.0 100\n",
      "44.0 100\n",
      "49.0 100\n",
      "47.0 100\n",
      "58.0 100\n",
      "54.0 100\n",
      "53.0 100\n",
      "46.0 100\n",
      "46.0 100\n",
      "52.0 100\n",
      "57.0 100\n",
      "50.0 100\n",
      "42.0 100\n",
      "42.0 100\n",
      "39.0 80\n"
     ]
    },
    {
     "name": "stdout",
     "output_type": "stream",
     "text": [
      "params={'n_comp': 8}, score=7.5454545e-01, \n",
      "46.0 100\n",
      "46.0 100\n",
      "58.0 100\n",
      "48.0 100\n",
      "56.0 100\n",
      "46.0 100\n",
      "44.0 100\n",
      "49.0 100\n",
      "47.0 100\n",
      "58.0 100\n",
      "54.0 100\n",
      "53.0 100\n",
      "46.0 100\n",
      "46.0 100\n",
      "52.0 100\n",
      "57.0 100\n",
      "50.0 100\n",
      "42.0 100\n",
      "42.0 100\n",
      "39.0 80\n",
      "params={'n_comp': 9}, score=7.6818182e-01, \n",
      "46.0 100\n",
      "46.0 100\n",
      "58.0 100\n",
      "48.0 100\n",
      "56.0 100\n",
      "46.0 100\n",
      "44.0 100\n",
      "49.0 100\n",
      "47.0 100\n",
      "58.0 100\n",
      "54.0 100\n"
     ]
    },
    {
     "name": "stdout",
     "output_type": "stream",
     "text": [
      "53.0 100\n",
      "46.0 100\n",
      "46.0 100\n",
      "52.0 100\n",
      "57.0 100\n",
      "50.0 100\n",
      "42.0 100\n",
      "42.0 100\n",
      "39.0 80\n",
      "params={'n_comp': 10}, score=7.8636364e-01, \n",
      "46.0 100\n",
      "46.0 100\n",
      "58.0 100\n",
      "48.0 100\n",
      "56.0 100\n",
      "46.0 100\n",
      "44.0 100\n",
      "49.0 100\n",
      "47.0 100\n",
      "58.0 100\n",
      "54.0 100\n",
      "53.0 100\n",
      "46.0 100\n",
      "46.0 100\n"
     ]
    },
    {
     "name": "stdout",
     "output_type": "stream",
     "text": [
      "52.0 100\n",
      "57.0 100\n",
      "50.0 100\n",
      "42.0 100\n",
      "42.0 100\n",
      "39.0 80\n",
      "params={'n_comp': 11}, score=7.7727273e-01, \n",
      "46.0 100\n",
      "46.0 100\n",
      "58.0 100\n",
      "48.0 100\n",
      "56.0 100\n",
      "46.0 100\n",
      "44.0 100\n",
      "49.0 100\n",
      "47.0 100\n",
      "58.0 100\n",
      "54.0 100\n",
      "53.0 100\n",
      "46.0 100\n",
      "46.0 100\n",
      "52.0 100\n",
      "57.0 100\n"
     ]
    },
    {
     "name": "stdout",
     "output_type": "stream",
     "text": [
      "50.0 100\n",
      "42.0 100\n",
      "42.0 100\n",
      "39.0 80\n",
      "params={'n_comp': 12}, score=7.7727273e-01, \n",
      "46.0 100\n",
      "46.0 100\n",
      "58.0 100\n",
      "48.0 100\n",
      "56.0 100\n",
      "46.0 100\n",
      "44.0 100\n",
      "49.0 100\n",
      "47.0 100\n",
      "58.0 100\n",
      "54.0 100\n",
      "53.0 100\n",
      "46.0 100\n",
      "46.0 100\n",
      "52.0 100\n",
      "57.0 100\n",
      "50.0 100\n",
      "42.0 100\n",
      "42.0 100\n",
      "39.0 80\n"
     ]
    },
    {
     "name": "stdout",
     "output_type": "stream",
     "text": [
      "params={'n_comp': 13}, score=8.0000000e-01, \n",
      "46.0 100\n",
      "46.0 100\n",
      "58.0 100\n",
      "48.0 100\n",
      "56.0 100\n",
      "46.0 100\n",
      "44.0 100\n",
      "49.0 100\n",
      "47.0 100\n",
      "58.0 100\n",
      "54.0 100\n",
      "53.0 100\n",
      "46.0 100\n",
      "46.0 100\n",
      "52.0 100\n",
      "57.0 100\n",
      "50.0 100\n",
      "42.0 100\n",
      "42.0 100\n",
      "39.0 80\n",
      "params={'n_comp': 14}, score=7.9545455e-01, \n",
      "46.0 100\n",
      "46.0 100\n"
     ]
    },
    {
     "name": "stdout",
     "output_type": "stream",
     "text": [
      "58.0 100\n",
      "48.0 100\n",
      "56.0 100\n",
      "46.0 100\n",
      "44.0 100\n",
      "49.0 100\n",
      "47.0 100\n",
      "58.0 100\n",
      "54.0 100\n",
      "53.0 100\n",
      "46.0 100\n",
      "46.0 100\n",
      "52.0 100\n",
      "57.0 100\n",
      "50.0 100\n",
      "42.0 100\n",
      "42.0 100\n",
      "39.0 80\n",
      "params={'n_comp': 15}, score=7.6818182e-01, \n",
      "46.0 100\n",
      "46.0 100\n",
      "58.0 100\n",
      "48.0 100\n",
      "56.0 100\n",
      "46.0 100\n"
     ]
    },
    {
     "name": "stdout",
     "output_type": "stream",
     "text": [
      "44.0 100\n",
      "49.0 100\n",
      "47.0 100\n",
      "58.0 100\n",
      "54.0 100\n",
      "53.0 100\n",
      "46.0 100\n",
      "46.0 100\n",
      "52.0 100\n",
      "57.0 100\n",
      "50.0 100\n",
      "42.0 100\n",
      "42.0 100\n",
      "39.0 80\n",
      "params={'n_comp': 16}, score=8.0454545e-01, \n",
      "46.0 100\n",
      "46.0 100\n",
      "58.0 100\n",
      "48.0 100\n",
      "56.0 100\n",
      "46.0 100\n",
      "44.0 100\n",
      "49.0 100\n",
      "47.0 100\n",
      "58.0 100\n",
      "54.0 100\n"
     ]
    },
    {
     "name": "stdout",
     "output_type": "stream",
     "text": [
      "53.0 100\n",
      "46.0 100\n",
      "46.0 100\n",
      "52.0 100\n",
      "57.0 100\n",
      "50.0 100\n",
      "42.0 100\n",
      "42.0 100\n",
      "39.0 80\n",
      "params={'n_comp': 17}, score=8.0909091e-01, \n",
      "46.0 100\n",
      "46.0 100\n",
      "58.0 100\n",
      "48.0 100\n",
      "56.0 100\n",
      "46.0 100\n",
      "44.0 100\n",
      "49.0 100\n",
      "47.0 100\n",
      "58.0 100\n",
      "54.0 100\n",
      "53.0 100\n",
      "46.0 100\n",
      "46.0 100\n",
      "52.0 100\n"
     ]
    },
    {
     "name": "stdout",
     "output_type": "stream",
     "text": [
      "57.0 100\n",
      "50.0 100\n",
      "42.0 100\n",
      "42.0 100\n",
      "39.0 80\n",
      "params={'n_comp': 18}, score=8.0909091e-01, \n",
      "46.0 100\n",
      "46.0 100\n",
      "58.0 100\n",
      "48.0 100\n",
      "56.0 100\n",
      "46.0 100\n",
      "44.0 100\n",
      "49.0 100\n",
      "47.0 100\n",
      "58.0 100\n",
      "54.0 100\n",
      "53.0 100\n",
      "46.0 100\n",
      "46.0 100\n",
      "52.0 100\n",
      "57.0 100\n",
      "50.0 100\n"
     ]
    },
    {
     "name": "stdout",
     "output_type": "stream",
     "text": [
      "42.0 100\n",
      "42.0 100\n",
      "39.0 80\n",
      "params={'n_comp': 19}, score=8.3181818e-01, \n",
      "46.0 100\n",
      "46.0 100\n",
      "58.0 100\n",
      "48.0 100\n",
      "56.0 100\n",
      "46.0 100\n",
      "44.0 100\n",
      "49.0 100\n",
      "47.0 100\n",
      "58.0 100\n",
      "54.0 100\n",
      "53.0 100\n",
      "46.0 100\n",
      "46.0 100\n",
      "52.0 100\n",
      "57.0 100\n",
      "50.0 100\n",
      "42.0 100\n",
      "42.0 100\n"
     ]
    },
    {
     "name": "stdout",
     "output_type": "stream",
     "text": [
      "39.0 80\n",
      "params={'n_comp': 20}, score=8.1818182e-01, \n",
      "46.0 100\n",
      "46.0 100\n",
      "58.0 100\n",
      "48.0 100\n",
      "56.0 100\n",
      "46.0 100\n",
      "44.0 100\n",
      "49.0 100\n",
      "47.0 100\n",
      "58.0 100\n",
      "54.0 100\n",
      "53.0 100\n",
      "46.0 100\n",
      "46.0 100\n",
      "52.0 100\n",
      "57.0 100\n",
      "50.0 100\n",
      "42.0 100\n",
      "42.0 100\n",
      "39.0 80\n"
     ]
    },
    {
     "name": "stdout",
     "output_type": "stream",
     "text": [
      "params={'n_comp': 21}, score=8.0909091e-01, \n",
      "46.0 100\n",
      "46.0 100\n",
      "58.0 100\n",
      "48.0 100\n",
      "56.0 100\n",
      "46.0 100\n",
      "44.0 100\n",
      "49.0 100\n",
      "47.0 100\n",
      "58.0 100\n",
      "54.0 100\n",
      "53.0 100\n",
      "46.0 100\n",
      "46.0 100\n",
      "52.0 100\n",
      "57.0 100\n",
      "50.0 100\n",
      "42.0 100\n",
      "42.0 100\n",
      "39.0 80\n"
     ]
    },
    {
     "name": "stdout",
     "output_type": "stream",
     "text": [
      "params={'n_comp': 22}, score=8.0000000e-01, \n",
      "46.0 100\n",
      "46.0 100\n",
      "58.0 100\n",
      "48.0 100\n",
      "56.0 100\n",
      "46.0 100\n",
      "44.0 100\n",
      "49.0 100\n",
      "47.0 100\n",
      "58.0 100\n",
      "54.0 100\n",
      "53.0 100\n",
      "46.0 100\n",
      "46.0 100\n",
      "52.0 100\n",
      "57.0 100\n",
      "50.0 100\n",
      "42.0 100\n",
      "42.0 100\n",
      "39.0 80\n",
      "params={'n_comp': 23}, score=8.0000000e-01, \n",
      "46.0 100\n",
      "46.0 100\n",
      "58.0 100\n"
     ]
    },
    {
     "name": "stdout",
     "output_type": "stream",
     "text": [
      "48.0 100\n",
      "56.0 100\n",
      "46.0 100\n",
      "44.0 100\n",
      "49.0 100\n",
      "47.0 100\n",
      "58.0 100\n",
      "54.0 100\n",
      "53.0 100\n",
      "46.0 100\n",
      "46.0 100\n",
      "52.0 100\n",
      "57.0 100\n",
      "50.0 100\n",
      "42.0 100\n",
      "42.0 100\n",
      "39.0 80\n",
      "params={'n_comp': 24}, score=8.0909091e-01, \n",
      "46.0 100\n",
      "46.0 100\n",
      "58.0 100\n",
      "48.0 100\n"
     ]
    },
    {
     "name": "stdout",
     "output_type": "stream",
     "text": [
      "56.0 100\n",
      "46.0 100\n",
      "44.0 100\n",
      "49.0 100\n",
      "47.0 100\n",
      "58.0 100\n",
      "54.0 100\n",
      "53.0 100\n",
      "46.0 100\n",
      "46.0 100\n",
      "52.0 100\n",
      "57.0 100\n",
      "50.0 100\n",
      "42.0 100\n",
      "42.0 100\n",
      "39.0 80\n",
      "params={'n_comp': 25}, score=8.4545455e-01, \n",
      "46.0 100\n",
      "46.0 100\n",
      "58.0 100\n",
      "48.0 100\n",
      "56.0 100\n"
     ]
    },
    {
     "name": "stdout",
     "output_type": "stream",
     "text": [
      "46.0 100\n",
      "44.0 100\n",
      "49.0 100\n",
      "47.0 100\n",
      "58.0 100\n",
      "54.0 100\n",
      "53.0 100\n",
      "46.0 100\n",
      "46.0 100\n",
      "52.0 100\n",
      "57.0 100\n",
      "50.0 100\n",
      "42.0 100\n",
      "42.0 100\n",
      "39.0 80\n",
      "params={'n_comp': 26}, score=8.3636364e-01, \n",
      "46.0 100\n",
      "46.0 100\n",
      "58.0 100\n",
      "48.0 100\n",
      "56.0 100\n"
     ]
    },
    {
     "name": "stdout",
     "output_type": "stream",
     "text": [
      "46.0 100\n",
      "44.0 100\n",
      "49.0 100\n",
      "47.0 100\n",
      "58.0 100\n",
      "54.0 100\n",
      "53.0 100\n",
      "46.0 100\n",
      "46.0 100\n",
      "52.0 100\n",
      "57.0 100\n",
      "50.0 100\n",
      "42.0 100\n",
      "42.0 100\n",
      "39.0 80\n",
      "params={'n_comp': 27}, score=8.2727273e-01, \n",
      "46.0 100\n",
      "46.0 100\n",
      "58.0 100\n",
      "48.0 100\n",
      "56.0 100\n"
     ]
    },
    {
     "name": "stdout",
     "output_type": "stream",
     "text": [
      "46.0 100\n",
      "44.0 100\n",
      "49.0 100\n",
      "47.0 100\n",
      "58.0 100\n",
      "54.0 100\n",
      "53.0 100\n",
      "46.0 100\n",
      "46.0 100\n",
      "52.0 100\n",
      "57.0 100\n",
      "50.0 100\n",
      "42.0 100\n",
      "42.0 100\n",
      "39.0 80\n",
      "params={'n_comp': 28}, score=8.3636364e-01, \n",
      "46.0 100\n",
      "46.0 100\n",
      "58.0 100\n"
     ]
    },
    {
     "name": "stdout",
     "output_type": "stream",
     "text": [
      "48.0 100\n",
      "56.0 100\n",
      "46.0 100\n",
      "44.0 100\n",
      "49.0 100\n",
      "47.0 100\n",
      "58.0 100\n",
      "54.0 100\n",
      "53.0 100\n",
      "46.0 100\n",
      "46.0 100\n",
      "52.0 100\n",
      "57.0 100\n",
      "50.0 100\n",
      "42.0 100\n",
      "42.0 100\n",
      "39.0 80\n"
     ]
    },
    {
     "name": "stdout",
     "output_type": "stream",
     "text": [
      "params={'n_comp': 29}, score=8.3636364e-01, \n",
      "46.0 100\n",
      "46.0 100\n",
      "58.0 100\n",
      "48.0 100\n",
      "56.0 100\n",
      "46.0 100\n",
      "44.0 100\n",
      "49.0 100\n",
      "47.0 100\n",
      "58.0 100\n",
      "54.0 100\n",
      "53.0 100\n",
      "46.0 100\n",
      "46.0 100\n",
      "52.0 100\n",
      "57.0 100\n",
      "50.0 100\n",
      "42.0 100\n",
      "42.0 100\n",
      "39.0 80\n"
     ]
    },
    {
     "name": "stdout",
     "output_type": "stream",
     "text": [
      "params={'n_comp': 30}, score=8.5000000e-01, \n",
      "46.0 100\n",
      "46.0 100\n",
      "58.0 100\n",
      "48.0 100\n",
      "56.0 100\n",
      "46.0 100\n",
      "44.0 100\n",
      "49.0 100\n",
      "47.0 100\n",
      "58.0 100\n",
      "54.0 100\n",
      "53.0 100\n",
      "46.0 100\n",
      "46.0 100\n",
      "52.0 100\n",
      "57.0 100\n",
      "50.0 100\n",
      "42.0 100\n",
      "42.0 100\n"
     ]
    },
    {
     "name": "stdout",
     "output_type": "stream",
     "text": [
      "39.0 80\n",
      "params={'n_comp': 31}, score=8.5909091e-01, \n",
      "46.0 100\n",
      "46.0 100\n",
      "58.0 100\n",
      "48.0 100\n",
      "56.0 100\n",
      "46.0 100\n",
      "44.0 100\n",
      "49.0 100\n",
      "47.0 100\n",
      "58.0 100\n",
      "54.0 100\n",
      "53.0 100\n",
      "46.0 100\n",
      "46.0 100\n",
      "52.0 100\n",
      "57.0 100\n"
     ]
    },
    {
     "name": "stdout",
     "output_type": "stream",
     "text": [
      "50.0 100\n",
      "42.0 100\n",
      "42.0 100\n",
      "39.0 80\n",
      "params={'n_comp': 32}, score=8.5909091e-01, \n",
      "46.0 100\n",
      "46.0 100\n",
      "58.0 100\n",
      "48.0 100\n",
      "56.0 100\n",
      "46.0 100\n",
      "44.0 100\n",
      "49.0 100\n",
      "47.0 100\n",
      "58.0 100\n",
      "54.0 100\n",
      "53.0 100\n",
      "46.0 100\n"
     ]
    },
    {
     "name": "stdout",
     "output_type": "stream",
     "text": [
      "46.0 100\n",
      "52.0 100\n",
      "57.0 100\n",
      "50.0 100\n",
      "42.0 100\n",
      "42.0 100\n",
      "39.0 80\n",
      "params={'n_comp': 33}, score=8.5909091e-01, \n",
      "46.0 100\n",
      "46.0 100\n",
      "58.0 100\n",
      "48.0 100\n",
      "56.0 100\n",
      "46.0 100\n",
      "44.0 100\n",
      "49.0 100\n",
      "47.0 100\n",
      "58.0 100\n",
      "54.0 100\n"
     ]
    },
    {
     "name": "stdout",
     "output_type": "stream",
     "text": [
      "53.0 100\n",
      "46.0 100\n",
      "46.0 100\n",
      "52.0 100\n",
      "57.0 100\n",
      "50.0 100\n",
      "42.0 100\n",
      "42.0 100\n",
      "39.0 80\n",
      "params={'n_comp': 34}, score=8.6818182e-01, \n",
      "46.0 100\n",
      "46.0 100\n",
      "58.0 100\n",
      "48.0 100\n",
      "56.0 100\n",
      "46.0 100\n"
     ]
    },
    {
     "name": "stdout",
     "output_type": "stream",
     "text": [
      "44.0 100\n",
      "49.0 100\n",
      "47.0 100\n",
      "58.0 100\n",
      "54.0 100\n",
      "53.0 100\n",
      "46.0 100\n",
      "46.0 100\n",
      "52.0 100\n",
      "57.0 100\n",
      "50.0 100\n",
      "42.0 100\n",
      "42.0 100\n",
      "39.0 80\n",
      "params={'n_comp': 35}, score=8.5454545e-01, \n",
      "46.0 100\n",
      "46.0 100\n",
      "58.0 100\n"
     ]
    },
    {
     "name": "stdout",
     "output_type": "stream",
     "text": [
      "48.0 100\n",
      "56.0 100\n",
      "46.0 100\n",
      "44.0 100\n",
      "49.0 100\n",
      "47.0 100\n",
      "58.0 100\n",
      "54.0 100\n",
      "53.0 100\n",
      "46.0 100\n",
      "46.0 100\n",
      "52.0 100\n",
      "57.0 100\n",
      "50.0 100\n",
      "42.0 100\n",
      "42.0 100\n",
      "39.0 80\n"
     ]
    },
    {
     "name": "stdout",
     "output_type": "stream",
     "text": [
      "params={'n_comp': 36}, score=8.5454545e-01, \n",
      "46.0 100\n",
      "46.0 100\n",
      "58.0 100\n",
      "48.0 100\n",
      "56.0 100\n",
      "46.0 100\n",
      "44.0 100\n",
      "49.0 100\n",
      "47.0 100\n",
      "58.0 100\n",
      "54.0 100\n",
      "53.0 100\n",
      "46.0 100\n",
      "46.0 100\n",
      "52.0 100\n"
     ]
    },
    {
     "name": "stdout",
     "output_type": "stream",
     "text": [
      "57.0 100\n",
      "50.0 100\n",
      "42.0 100\n",
      "42.0 100\n",
      "39.0 80\n",
      "params={'n_comp': 37}, score=8.4090909e-01, \n",
      "46.0 100\n",
      "46.0 100\n",
      "58.0 100\n",
      "48.0 100\n",
      "56.0 100\n",
      "46.0 100\n",
      "44.0 100\n",
      "49.0 100\n",
      "47.0 100\n",
      "58.0 100\n",
      "54.0 100\n",
      "53.0 100\n"
     ]
    },
    {
     "name": "stdout",
     "output_type": "stream",
     "text": [
      "46.0 100\n",
      "46.0 100\n",
      "52.0 100\n",
      "57.0 100\n",
      "50.0 100\n",
      "42.0 100\n",
      "42.0 100\n",
      "39.0 80\n",
      "params={'n_comp': 38}, score=8.5454545e-01, \n",
      "46.0 100\n",
      "46.0 100\n",
      "58.0 100\n",
      "48.0 100\n",
      "56.0 100\n",
      "46.0 100\n",
      "44.0 100\n",
      "49.0 100\n"
     ]
    },
    {
     "name": "stdout",
     "output_type": "stream",
     "text": [
      "47.0 100\n",
      "58.0 100\n",
      "54.0 100\n",
      "53.0 100\n",
      "46.0 100\n",
      "46.0 100\n",
      "52.0 100\n",
      "57.0 100\n",
      "50.0 100\n",
      "42.0 100\n",
      "42.0 100\n",
      "39.0 80\n",
      "params={'n_comp': 39}, score=8.4545455e-01, \n",
      "46.0 100\n",
      "46.0 100\n",
      "58.0 100\n",
      "48.0 100\n"
     ]
    },
    {
     "name": "stdout",
     "output_type": "stream",
     "text": [
      "56.0 100\n",
      "46.0 100\n",
      "44.0 100\n",
      "49.0 100\n",
      "47.0 100\n",
      "58.0 100\n",
      "54.0 100\n",
      "53.0 100\n",
      "46.0 100\n",
      "46.0 100\n",
      "52.0 100\n",
      "57.0 100\n",
      "50.0 100\n",
      "42.0 100\n",
      "42.0 100\n",
      "39.0 80\n"
     ]
    },
    {
     "name": "stdout",
     "output_type": "stream",
     "text": [
      "params={'n_comp': 40}, score=8.6363636e-01, \n",
      "46.0 100\n",
      "46.0 100\n",
      "58.0 100\n",
      "48.0 100\n",
      "56.0 100\n",
      "46.0 100\n",
      "44.0 100\n",
      "49.0 100\n",
      "47.0 100\n",
      "58.0 100\n",
      "54.0 100\n",
      "53.0 100\n",
      "46.0 100\n",
      "46.0 100\n",
      "52.0 100\n",
      "57.0 100\n",
      "50.0 100\n",
      "42.0 100\n"
     ]
    },
    {
     "name": "stdout",
     "output_type": "stream",
     "text": [
      "42.0 100\n",
      "39.0 80\n",
      "params={'n_comp': 41}, score=8.7272727e-01, \n",
      "46.0 100\n",
      "46.0 100\n",
      "58.0 100\n",
      "48.0 100\n",
      "56.0 100\n",
      "46.0 100\n",
      "44.0 100\n",
      "49.0 100\n",
      "47.0 100\n",
      "58.0 100\n",
      "54.0 100\n",
      "53.0 100\n",
      "46.0 100\n"
     ]
    },
    {
     "name": "stdout",
     "output_type": "stream",
     "text": [
      "46.0 100\n",
      "52.0 100\n",
      "57.0 100\n",
      "50.0 100\n",
      "42.0 100\n",
      "42.0 100\n",
      "39.0 80\n",
      "params={'n_comp': 42}, score=8.5909091e-01, \n",
      "46.0 100\n",
      "46.0 100\n",
      "58.0 100\n",
      "48.0 100\n",
      "56.0 100\n",
      "46.0 100\n",
      "44.0 100\n",
      "49.0 100\n"
     ]
    },
    {
     "name": "stdout",
     "output_type": "stream",
     "text": [
      "47.0 100\n",
      "58.0 100\n",
      "54.0 100\n",
      "53.0 100\n",
      "46.0 100\n",
      "46.0 100\n",
      "52.0 100\n",
      "57.0 100\n",
      "50.0 100\n",
      "42.0 100\n",
      "42.0 100\n",
      "39.0 80\n",
      "params={'n_comp': 43}, score=8.6818182e-01, \n",
      "46.0 100\n",
      "46.0 100\n"
     ]
    },
    {
     "name": "stdout",
     "output_type": "stream",
     "text": [
      "58.0 100\n",
      "48.0 100\n",
      "56.0 100\n",
      "46.0 100\n",
      "44.0 100\n",
      "49.0 100\n",
      "47.0 100\n",
      "58.0 100\n",
      "54.0 100\n",
      "53.0 100\n",
      "46.0 100\n",
      "46.0 100\n",
      "52.0 100\n",
      "57.0 100\n",
      "50.0 100\n",
      "42.0 100\n"
     ]
    },
    {
     "name": "stdout",
     "output_type": "stream",
     "text": [
      "42.0 100\n",
      "39.0 80\n",
      "params={'n_comp': 44}, score=8.5000000e-01, \n",
      "46.0 100\n",
      "46.0 100\n",
      "58.0 100\n",
      "48.0 100\n",
      "56.0 100\n",
      "46.0 100\n",
      "44.0 100\n",
      "49.0 100\n",
      "47.0 100\n",
      "58.0 100\n",
      "54.0 100\n"
     ]
    },
    {
     "name": "stdout",
     "output_type": "stream",
     "text": [
      "53.0 100\n",
      "46.0 100\n",
      "46.0 100\n",
      "52.0 100\n",
      "57.0 100\n",
      "50.0 100\n",
      "42.0 100\n",
      "42.0 100\n",
      "39.0 80\n",
      "params={'n_comp': 45}, score=8.3636364e-01, \n",
      "46.0 100\n",
      "46.0 100\n",
      "58.0 100\n",
      "48.0 100\n",
      "56.0 100\n",
      "46.0 100\n"
     ]
    },
    {
     "name": "stdout",
     "output_type": "stream",
     "text": [
      "44.0 100\n",
      "49.0 100\n",
      "47.0 100\n",
      "58.0 100\n",
      "54.0 100\n",
      "53.0 100\n",
      "46.0 100\n",
      "46.0 100\n",
      "52.0 100\n",
      "57.0 100\n",
      "50.0 100\n",
      "42.0 100\n",
      "42.0 100\n",
      "39.0 80\n",
      "params={'n_comp': 46}, score=8.5909091e-01, \n",
      "46.0 100\n"
     ]
    },
    {
     "name": "stdout",
     "output_type": "stream",
     "text": [
      "46.0 100\n",
      "58.0 100\n",
      "48.0 100\n",
      "56.0 100\n",
      "46.0 100\n",
      "44.0 100\n",
      "49.0 100\n",
      "47.0 100\n",
      "58.0 100\n",
      "54.0 100\n",
      "53.0 100\n",
      "46.0 100\n",
      "46.0 100\n",
      "52.0 100\n",
      "57.0 100\n",
      "50.0 100\n"
     ]
    },
    {
     "name": "stdout",
     "output_type": "stream",
     "text": [
      "42.0 100\n",
      "42.0 100\n",
      "39.0 80\n",
      "params={'n_comp': 47}, score=8.5000000e-01, \n",
      "46.0 100\n",
      "46.0 100\n",
      "58.0 100\n",
      "48.0 100\n",
      "56.0 100\n",
      "46.0 100\n",
      "44.0 100\n",
      "49.0 100\n",
      "47.0 100\n",
      "58.0 100\n",
      "54.0 100\n"
     ]
    },
    {
     "name": "stdout",
     "output_type": "stream",
     "text": [
      "53.0 100\n",
      "46.0 100\n",
      "46.0 100\n",
      "52.0 100\n",
      "57.0 100\n",
      "50.0 100\n",
      "42.0 100\n",
      "42.0 100\n",
      "39.0 80\n",
      "params={'n_comp': 48}, score=8.4545455e-01, \n",
      "46.0 100\n",
      "46.0 100\n",
      "58.0 100\n",
      "48.0 100\n",
      "56.0 100\n"
     ]
    },
    {
     "name": "stdout",
     "output_type": "stream",
     "text": [
      "46.0 100\n",
      "44.0 100\n",
      "49.0 100\n",
      "47.0 100\n",
      "58.0 100\n",
      "54.0 100\n",
      "53.0 100\n",
      "46.0 100\n",
      "46.0 100\n",
      "52.0 100\n",
      "57.0 100\n",
      "50.0 100\n",
      "42.0 100\n",
      "42.0 100\n",
      "39.0 80\n"
     ]
    },
    {
     "name": "stdout",
     "output_type": "stream",
     "text": [
      "params={'n_comp': 49}, score=8.3636364e-01, \n",
      "46.0 100\n",
      "46.0 100\n",
      "58.0 100\n",
      "48.0 100\n",
      "56.0 100\n",
      "46.0 100\n",
      "44.0 100\n",
      "49.0 100\n",
      "47.0 100\n",
      "58.0 100\n",
      "54.0 100\n",
      "53.0 100\n",
      "46.0 100\n",
      "46.0 100\n",
      "52.0 100\n",
      "57.0 100\n"
     ]
    },
    {
     "name": "stdout",
     "output_type": "stream",
     "text": [
      "50.0 100\n",
      "42.0 100\n",
      "42.0 100\n",
      "39.0 80\n",
      "params={'n_comp': 50}, score=8.4090909e-01, \n",
      "46.0 100\n",
      "46.0 100\n",
      "58.0 100\n",
      "48.0 100\n",
      "56.0 100\n",
      "46.0 100\n",
      "44.0 100\n",
      "49.0 100\n",
      "47.0 100\n",
      "58.0 100\n"
     ]
    },
    {
     "name": "stdout",
     "output_type": "stream",
     "text": [
      "54.0 100\n",
      "53.0 100\n",
      "46.0 100\n",
      "46.0 100\n",
      "52.0 100\n",
      "57.0 100\n",
      "50.0 100\n",
      "42.0 100\n",
      "42.0 100\n",
      "39.0 80\n",
      "params={'n_comp': 51}, score=8.4090909e-01, \n",
      "46.0 100\n",
      "46.0 100\n",
      "58.0 100\n"
     ]
    },
    {
     "name": "stdout",
     "output_type": "stream",
     "text": [
      "48.0 100\n",
      "56.0 100\n",
      "46.0 100\n",
      "44.0 100\n",
      "49.0 100\n",
      "47.0 100\n",
      "58.0 100\n",
      "54.0 100\n",
      "53.0 100\n"
     ]
    },
    {
     "name": "stdout",
     "output_type": "stream",
     "text": [
      "46.0 100\n",
      "46.0 100\n",
      "52.0 100\n",
      "57.0 100\n",
      "50.0 100\n",
      "42.0 100\n",
      "42.0 100\n",
      "39.0 80\n"
     ]
    },
    {
     "name": "stdout",
     "output_type": "stream",
     "text": [
      "params={'n_comp': 52}, score=8.3636364e-01, \n",
      "46.0 100\n",
      "46.0 100\n",
      "58.0 100\n",
      "48.0 100\n",
      "56.0 100\n",
      "46.0 100\n",
      "44.0 100\n",
      "49.0 100\n",
      "47.0 100\n"
     ]
    },
    {
     "name": "stdout",
     "output_type": "stream",
     "text": [
      "58.0 100\n",
      "54.0 100\n",
      "53.0 100\n",
      "46.0 100\n",
      "46.0 100\n",
      "52.0 100\n",
      "57.0 100\n",
      "50.0 100\n",
      "42.0 100\n",
      "42.0 100\n",
      "39.0 80\n",
      "params={'n_comp': 53}, score=8.3181818e-01, \n",
      "46.0 100\n",
      "46.0 100\n",
      "58.0 100\n"
     ]
    },
    {
     "name": "stdout",
     "output_type": "stream",
     "text": [
      "48.0 100\n",
      "56.0 100\n",
      "46.0 100\n",
      "44.0 100\n",
      "49.0 100\n",
      "47.0 100\n",
      "58.0 100\n",
      "54.0 100\n",
      "53.0 100\n",
      "46.0 100\n",
      "46.0 100\n",
      "52.0 100\n",
      "57.0 100\n",
      "50.0 100\n"
     ]
    },
    {
     "name": "stdout",
     "output_type": "stream",
     "text": [
      "42.0 100\n",
      "42.0 100\n",
      "39.0 80\n",
      "params={'n_comp': 54}, score=8.4545455e-01, \n",
      "46.0 100\n",
      "46.0 100\n",
      "58.0 100\n",
      "48.0 100\n",
      "56.0 100\n",
      "46.0 100\n",
      "44.0 100\n",
      "49.0 100\n",
      "47.0 100\n",
      "58.0 100\n"
     ]
    },
    {
     "name": "stdout",
     "output_type": "stream",
     "text": [
      "54.0 100\n",
      "53.0 100\n",
      "46.0 100\n",
      "46.0 100\n",
      "52.0 100\n",
      "57.0 100\n",
      "50.0 100\n",
      "42.0 100\n",
      "42.0 100\n",
      "39.0 80\n",
      "params={'n_comp': 55}, score=8.3636364e-01, \n",
      "46.0 100\n",
      "46.0 100\n",
      "58.0 100\n"
     ]
    },
    {
     "name": "stdout",
     "output_type": "stream",
     "text": [
      "48.0 100\n",
      "56.0 100\n",
      "46.0 100\n",
      "44.0 100\n",
      "49.0 100\n",
      "47.0 100\n",
      "58.0 100\n",
      "54.0 100\n",
      "53.0 100\n",
      "46.0 100\n",
      "46.0 100\n",
      "52.0 100\n",
      "57.0 100\n",
      "50.0 100\n"
     ]
    },
    {
     "name": "stdout",
     "output_type": "stream",
     "text": [
      "42.0 100\n",
      "42.0 100\n",
      "39.0 80\n",
      "params={'n_comp': 56}, score=8.4090909e-01, \n",
      "46.0 100\n",
      "46.0 100\n",
      "58.0 100\n",
      "48.0 100\n",
      "56.0 100\n",
      "46.0 100\n",
      "44.0 100\n",
      "49.0 100\n",
      "47.0 100\n",
      "58.0 100\n"
     ]
    },
    {
     "name": "stdout",
     "output_type": "stream",
     "text": [
      "54.0 100\n",
      "53.0 100\n",
      "46.0 100\n",
      "46.0 100\n",
      "52.0 100\n",
      "57.0 100\n",
      "50.0 100\n",
      "42.0 100\n",
      "42.0 100\n",
      "39.0 80\n",
      "params={'n_comp': 57}, score=8.3181818e-01, \n",
      "46.0 100\n",
      "46.0 100\n"
     ]
    },
    {
     "name": "stdout",
     "output_type": "stream",
     "text": [
      "58.0 100\n",
      "48.0 100\n",
      "56.0 100\n",
      "46.0 100\n",
      "44.0 100\n",
      "49.0 100\n",
      "47.0 100\n",
      "58.0 100\n",
      "54.0 100\n",
      "53.0 100\n",
      "46.0 100\n",
      "46.0 100\n",
      "52.0 100\n",
      "57.0 100\n",
      "50.0 100\n"
     ]
    },
    {
     "name": "stdout",
     "output_type": "stream",
     "text": [
      "42.0 100\n",
      "42.0 100\n",
      "39.0 80\n",
      "params={'n_comp': 58}, score=8.1818182e-01, \n",
      "46.0 100\n",
      "46.0 100\n",
      "58.0 100\n",
      "48.0 100\n",
      "56.0 100\n",
      "46.0 100\n",
      "44.0 100\n",
      "49.0 100\n",
      "47.0 100\n"
     ]
    },
    {
     "name": "stdout",
     "output_type": "stream",
     "text": [
      "58.0 100\n",
      "54.0 100\n",
      "53.0 100\n",
      "46.0 100\n",
      "46.0 100\n",
      "52.0 100\n",
      "57.0 100\n",
      "50.0 100\n",
      "42.0 100\n",
      "42.0 100\n",
      "39.0 80\n",
      "params={'n_comp': 59}, score=8.2272727e-01, \n",
      "46.0 100\n"
     ]
    },
    {
     "name": "stdout",
     "output_type": "stream",
     "text": [
      "46.0 100\n",
      "58.0 100\n",
      "48.0 100\n",
      "56.0 100\n",
      "46.0 100\n",
      "44.0 100\n",
      "49.0 100\n",
      "47.0 100\n",
      "58.0 100\n",
      "54.0 100\n",
      "53.0 100\n",
      "46.0 100\n",
      "46.0 100\n"
     ]
    },
    {
     "name": "stdout",
     "output_type": "stream",
     "text": [
      "52.0 100\n",
      "57.0 100\n",
      "50.0 100\n",
      "42.0 100\n",
      "42.0 100\n",
      "39.0 80\n",
      "params={'n_comp': 60}, score=8.3181818e-01, \n",
      "46.0 100\n",
      "46.0 100\n",
      "58.0 100\n",
      "48.0 100\n",
      "56.0 100\n",
      "46.0 100\n"
     ]
    },
    {
     "name": "stdout",
     "output_type": "stream",
     "text": [
      "44.0 100\n",
      "49.0 100\n",
      "47.0 100\n",
      "58.0 100\n",
      "54.0 100\n",
      "53.0 100\n",
      "46.0 100\n",
      "46.0 100\n",
      "52.0 100\n",
      "57.0 100\n",
      "50.0 100\n",
      "42.0 100\n",
      "42.0 100\n"
     ]
    },
    {
     "name": "stdout",
     "output_type": "stream",
     "text": [
      "39.0 80\n",
      "params={'n_comp': 61}, score=8.2727273e-01, \n",
      "46.0 100\n",
      "46.0 100\n",
      "58.0 100\n",
      "48.0 100\n",
      "56.0 100\n",
      "46.0 100\n",
      "44.0 100\n",
      "49.0 100\n",
      "47.0 100\n",
      "58.0 100\n",
      "54.0 100\n"
     ]
    },
    {
     "name": "stdout",
     "output_type": "stream",
     "text": [
      "53.0 100\n",
      "46.0 100\n",
      "46.0 100\n",
      "52.0 100\n",
      "57.0 100\n",
      "50.0 100\n",
      "42.0 100\n",
      "42.0 100\n",
      "39.0 80\n",
      "params={'n_comp': 62}, score=8.2272727e-01, \n",
      "46.0 100\n",
      "46.0 100\n"
     ]
    },
    {
     "name": "stdout",
     "output_type": "stream",
     "text": [
      "58.0 100\n",
      "48.0 100\n",
      "56.0 100\n",
      "46.0 100\n",
      "44.0 100\n",
      "49.0 100\n",
      "47.0 100\n",
      "58.0 100\n",
      "54.0 100\n",
      "53.0 100\n",
      "46.0 100\n",
      "46.0 100\n",
      "52.0 100\n"
     ]
    },
    {
     "name": "stdout",
     "output_type": "stream",
     "text": [
      "57.0 100\n",
      "50.0 100\n",
      "42.0 100\n",
      "42.0 100\n",
      "39.0 80\n",
      "params={'n_comp': 63}, score=8.2272727e-01, \n",
      "46.0 100\n",
      "46.0 100\n",
      "58.0 100\n",
      "48.0 100\n",
      "56.0 100\n",
      "46.0 100\n",
      "44.0 100\n"
     ]
    },
    {
     "name": "stdout",
     "output_type": "stream",
     "text": [
      "49.0 100\n",
      "47.0 100\n",
      "58.0 100\n",
      "54.0 100\n",
      "53.0 100\n",
      "46.0 100\n",
      "46.0 100\n",
      "52.0 100\n",
      "57.0 100\n",
      "50.0 100\n",
      "42.0 100\n",
      "42.0 100\n"
     ]
    },
    {
     "name": "stdout",
     "output_type": "stream",
     "text": [
      "39.0 80\n",
      "params={'n_comp': 64}, score=8.2727273e-01, \n",
      "46.0 100\n",
      "46.0 100\n",
      "58.0 100\n",
      "48.0 100\n",
      "56.0 100\n",
      "46.0 100\n",
      "44.0 100\n",
      "49.0 100\n",
      "47.0 100\n",
      "58.0 100\n",
      "54.0 100\n"
     ]
    },
    {
     "name": "stdout",
     "output_type": "stream",
     "text": [
      "53.0 100\n",
      "46.0 100\n",
      "46.0 100\n",
      "52.0 100\n",
      "57.0 100\n",
      "50.0 100\n",
      "42.0 100\n",
      "42.0 100\n",
      "39.0 80\n",
      "params={'n_comp': 65}, score=8.2727273e-01, \n",
      "46.0 100\n",
      "46.0 100\n"
     ]
    },
    {
     "name": "stdout",
     "output_type": "stream",
     "text": [
      "58.0 100\n",
      "48.0 100\n",
      "56.0 100\n",
      "46.0 100\n",
      "44.0 100\n",
      "49.0 100\n",
      "47.0 100\n",
      "58.0 100\n",
      "54.0 100\n",
      "53.0 100\n",
      "46.0 100\n",
      "46.0 100\n"
     ]
    },
    {
     "name": "stdout",
     "output_type": "stream",
     "text": [
      "52.0 100\n",
      "57.0 100\n",
      "50.0 100\n",
      "42.0 100\n",
      "42.0 100\n",
      "39.0 80\n",
      "params={'n_comp': 66}, score=8.1818182e-01, \n",
      "46.0 100\n",
      "46.0 100\n",
      "58.0 100\n",
      "48.0 100\n",
      "56.0 100\n"
     ]
    },
    {
     "name": "stdout",
     "output_type": "stream",
     "text": [
      "46.0 100\n",
      "44.0 100\n",
      "49.0 100\n",
      "47.0 100\n",
      "58.0 100\n",
      "54.0 100\n",
      "53.0 100\n",
      "46.0 100\n",
      "46.0 100\n",
      "52.0 100\n",
      "57.0 100\n",
      "50.0 100\n"
     ]
    },
    {
     "name": "stdout",
     "output_type": "stream",
     "text": [
      "42.0 100\n",
      "42.0 100\n",
      "39.0 80\n",
      "params={'n_comp': 67}, score=8.1818182e-01, \n",
      "46.0 100\n",
      "46.0 100\n",
      "58.0 100\n",
      "48.0 100\n",
      "56.0 100\n",
      "46.0 100\n",
      "44.0 100\n",
      "49.0 100\n"
     ]
    },
    {
     "name": "stdout",
     "output_type": "stream",
     "text": [
      "47.0 100\n",
      "58.0 100\n",
      "54.0 100\n",
      "53.0 100\n",
      "46.0 100\n",
      "46.0 100\n",
      "52.0 100\n",
      "57.0 100\n",
      "50.0 100\n",
      "42.0 100\n",
      "42.0 100\n",
      "39.0 80\n"
     ]
    },
    {
     "name": "stdout",
     "output_type": "stream",
     "text": [
      "params={'n_comp': 68}, score=8.1363636e-01, \n",
      "46.0 100\n",
      "46.0 100\n",
      "58.0 100\n",
      "48.0 100\n",
      "56.0 100\n",
      "46.0 100\n",
      "44.0 100\n",
      "49.0 100\n",
      "47.0 100\n",
      "58.0 100\n",
      "54.0 100\n"
     ]
    },
    {
     "name": "stdout",
     "output_type": "stream",
     "text": [
      "53.0 100\n",
      "46.0 100\n",
      "46.0 100\n",
      "52.0 100\n",
      "57.0 100\n",
      "50.0 100\n",
      "42.0 100\n",
      "42.0 100\n",
      "39.0 80\n",
      "params={'n_comp': 69}, score=8.0909091e-01, \n",
      "46.0 100\n"
     ]
    },
    {
     "name": "stdout",
     "output_type": "stream",
     "text": [
      "46.0 100\n",
      "58.0 100\n",
      "48.0 100\n",
      "56.0 100\n",
      "46.0 100\n",
      "44.0 100\n",
      "49.0 100\n",
      "47.0 100\n"
     ]
    },
    {
     "name": "stdout",
     "output_type": "stream",
     "text": [
      "58.0 100\n",
      "54.0 100\n",
      "53.0 100\n",
      "46.0 100\n",
      "46.0 100\n",
      "52.0 100\n",
      "57.0 100\n",
      "50.0 100\n",
      "42.0 100\n",
      "42.0 100\n",
      "39.0 80\n"
     ]
    },
    {
     "name": "stdout",
     "output_type": "stream",
     "text": [
      "params={'n_comp': 70}, score=8.0909091e-01, \n",
      "46.0 100\n",
      "46.0 100\n",
      "58.0 100\n",
      "48.0 100\n",
      "56.0 100\n",
      "46.0 100\n",
      "44.0 100\n",
      "49.0 100\n",
      "47.0 100\n",
      "58.0 100\n",
      "54.0 100\n"
     ]
    },
    {
     "name": "stdout",
     "output_type": "stream",
     "text": [
      "53.0 100\n",
      "46.0 100\n",
      "46.0 100\n",
      "52.0 100\n",
      "57.0 100\n",
      "50.0 100\n",
      "42.0 100\n",
      "42.0 100\n",
      "39.0 80\n",
      "params={'n_comp': 71}, score=8.1818182e-01, \n",
      "46.0 100\n",
      "46.0 100\n",
      "58.0 100\n"
     ]
    },
    {
     "name": "stdout",
     "output_type": "stream",
     "text": [
      "48.0 100\n",
      "56.0 100\n",
      "46.0 100\n",
      "44.0 100\n",
      "49.0 100\n",
      "47.0 100\n",
      "58.0 100\n",
      "54.0 100\n",
      "53.0 100\n",
      "46.0 100\n",
      "46.0 100\n",
      "52.0 100\n"
     ]
    },
    {
     "name": "stdout",
     "output_type": "stream",
     "text": [
      "57.0 100\n",
      "50.0 100\n",
      "42.0 100\n",
      "42.0 100\n",
      "39.0 80\n",
      "params={'n_comp': 72}, score=8.1363636e-01, \n",
      "46.0 100\n",
      "46.0 100\n",
      "58.0 100\n",
      "48.0 100\n",
      "56.0 100\n",
      "46.0 100\n"
     ]
    },
    {
     "name": "stdout",
     "output_type": "stream",
     "text": [
      "44.0 100\n",
      "49.0 100\n",
      "47.0 100\n",
      "58.0 100\n",
      "54.0 100\n",
      "53.0 100\n",
      "46.0 100\n",
      "46.0 100\n",
      "52.0 100\n",
      "57.0 100\n",
      "50.0 100\n",
      "42.0 100\n"
     ]
    },
    {
     "name": "stdout",
     "output_type": "stream",
     "text": [
      "42.0 100\n",
      "39.0 80\n",
      "params={'n_comp': 73}, score=8.1363636e-01, \n",
      "46.0 100\n",
      "46.0 100\n",
      "58.0 100\n",
      "48.0 100\n",
      "56.0 100\n"
     ]
    },
    {
     "name": "stdout",
     "output_type": "stream",
     "text": [
      "46.0 100\n",
      "44.0 100\n",
      "49.0 100\n",
      "47.0 100\n",
      "58.0 100\n",
      "54.0 100\n",
      "53.0 100\n",
      "46.0 100\n",
      "46.0 100\n",
      "52.0 100\n",
      "57.0 100\n",
      "50.0 100\n"
     ]
    },
    {
     "name": "stdout",
     "output_type": "stream",
     "text": [
      "42.0 100\n",
      "42.0 100\n",
      "39.0 80\n",
      "params={'n_comp': 74}, score=8.2272727e-01, \n",
      "46.0 100\n",
      "46.0 100\n",
      "58.0 100\n",
      "48.0 100\n",
      "56.0 100\n",
      "46.0 100\n",
      "44.0 100\n"
     ]
    },
    {
     "name": "stdout",
     "output_type": "stream",
     "text": [
      "49.0 100\n",
      "47.0 100\n",
      "58.0 100\n",
      "54.0 100\n",
      "53.0 100\n",
      "46.0 100\n",
      "46.0 100\n",
      "52.0 100\n",
      "57.0 100\n",
      "50.0 100\n",
      "42.0 100\n",
      "42.0 100\n"
     ]
    },
    {
     "name": "stdout",
     "output_type": "stream",
     "text": [
      "39.0 80\n",
      "params={'n_comp': 75}, score=8.2727273e-01, \n",
      "46.0 100\n",
      "46.0 100\n",
      "58.0 100\n",
      "48.0 100\n",
      "56.0 100\n",
      "46.0 100\n",
      "44.0 100\n",
      "49.0 100\n",
      "47.0 100\n"
     ]
    },
    {
     "name": "stdout",
     "output_type": "stream",
     "text": [
      "58.0 100\n",
      "54.0 100\n",
      "53.0 100\n",
      "46.0 100\n",
      "46.0 100\n",
      "52.0 100\n",
      "57.0 100\n",
      "50.0 100\n",
      "42.0 100\n",
      "42.0 100\n",
      "39.0 80\n"
     ]
    },
    {
     "name": "stdout",
     "output_type": "stream",
     "text": [
      "params={'n_comp': 76}, score=8.1818182e-01, \n",
      "46.0 100\n",
      "46.0 100\n",
      "58.0 100\n",
      "48.0 100\n",
      "56.0 100\n",
      "46.0 100\n",
      "44.0 100\n",
      "49.0 100\n",
      "47.0 100\n",
      "58.0 100\n",
      "54.0 100\n"
     ]
    },
    {
     "name": "stdout",
     "output_type": "stream",
     "text": [
      "53.0 100\n",
      "46.0 100\n",
      "46.0 100\n",
      "52.0 100\n",
      "57.0 100\n",
      "50.0 100\n",
      "42.0 100\n",
      "42.0 100\n",
      "39.0 80\n",
      "params={'n_comp': 77}, score=8.1818182e-01, \n",
      "46.0 100\n",
      "46.0 100\n"
     ]
    },
    {
     "name": "stdout",
     "output_type": "stream",
     "text": [
      "58.0 100\n",
      "48.0 100\n",
      "56.0 100\n",
      "46.0 100\n",
      "44.0 100\n",
      "49.0 100\n",
      "47.0 100\n",
      "58.0 100\n",
      "54.0 100\n",
      "53.0 100\n",
      "46.0 100\n",
      "46.0 100\n"
     ]
    },
    {
     "name": "stdout",
     "output_type": "stream",
     "text": [
      "52.0 100\n",
      "57.0 100\n",
      "50.0 100\n",
      "42.0 100\n",
      "42.0 100\n",
      "39.0 80\n",
      "params={'n_comp': 78}, score=8.1363636e-01, \n",
      "46.0 100\n",
      "46.0 100\n",
      "58.0 100\n",
      "48.0 100\n",
      "56.0 100\n"
     ]
    },
    {
     "name": "stdout",
     "output_type": "stream",
     "text": [
      "46.0 100\n",
      "44.0 100\n",
      "49.0 100\n",
      "47.0 100\n",
      "58.0 100\n",
      "54.0 100\n",
      "53.0 100\n",
      "46.0 100\n",
      "46.0 100\n",
      "52.0 100\n",
      "57.0 100\n"
     ]
    },
    {
     "name": "stdout",
     "output_type": "stream",
     "text": [
      "50.0 100\n",
      "42.0 100\n",
      "42.0 100\n",
      "39.0 80\n",
      "params={'n_comp': 79}, score=8.1818182e-01, \n",
      "46.0 100\n",
      "46.0 100\n",
      "58.0 100\n",
      "48.0 100\n",
      "56.0 100\n",
      "46.0 100\n"
     ]
    },
    {
     "name": "stdout",
     "output_type": "stream",
     "text": [
      "44.0 100\n",
      "49.0 100\n",
      "47.0 100\n",
      "58.0 100\n",
      "54.0 100\n",
      "53.0 100\n",
      "46.0 100\n",
      "46.0 100\n",
      "52.0 100\n",
      "57.0 100\n",
      "50.0 100\n"
     ]
    },
    {
     "name": "stdout",
     "output_type": "stream",
     "text": [
      "42.0 100\n",
      "42.0 100\n",
      "39.0 80\n",
      "params={'n_comp': 80}, score=8.1363636e-01, \n",
      "46.0 100\n",
      "46.0 100\n",
      "58.0 100\n",
      "48.0 100\n",
      "56.0 100\n",
      "46.0 100\n"
     ]
    },
    {
     "name": "stdout",
     "output_type": "stream",
     "text": [
      "44.0 100\n",
      "49.0 100\n",
      "47.0 100\n",
      "58.0 100\n",
      "54.0 100\n",
      "53.0 100\n",
      "46.0 100\n",
      "46.0 100\n",
      "52.0 100\n",
      "57.0 100\n",
      "50.0 100\n"
     ]
    },
    {
     "name": "stdout",
     "output_type": "stream",
     "text": [
      "42.0 100\n",
      "42.0 100\n",
      "39.0 80\n",
      "params={'n_comp': 81}, score=8.1818182e-01, \n",
      "46.0 100\n",
      "46.0 100\n",
      "58.0 100\n",
      "48.0 100\n",
      "56.0 100\n",
      "46.0 100\n",
      "44.0 100\n"
     ]
    },
    {
     "name": "stdout",
     "output_type": "stream",
     "text": [
      "49.0 100\n",
      "47.0 100\n",
      "58.0 100\n",
      "54.0 100\n",
      "53.0 100\n",
      "46.0 100\n",
      "46.0 100\n",
      "52.0 100\n",
      "57.0 100\n",
      "50.0 100\n",
      "42.0 100\n"
     ]
    },
    {
     "name": "stdout",
     "output_type": "stream",
     "text": [
      "42.0 100\n",
      "39.0 80\n",
      "params={'n_comp': 82}, score=8.1818182e-01, \n",
      "46.0 100\n",
      "46.0 100\n",
      "58.0 100\n",
      "48.0 100\n",
      "56.0 100\n",
      "46.0 100\n",
      "44.0 100\n",
      "49.0 100\n"
     ]
    },
    {
     "name": "stdout",
     "output_type": "stream",
     "text": [
      "47.0 100\n",
      "58.0 100\n",
      "54.0 100\n",
      "53.0 100\n",
      "46.0 100\n",
      "46.0 100\n",
      "52.0 100\n",
      "57.0 100\n",
      "50.0 100\n",
      "42.0 100\n",
      "42.0 100\n"
     ]
    },
    {
     "name": "stdout",
     "output_type": "stream",
     "text": [
      "39.0 80\n",
      "params={'n_comp': 83}, score=8.3181818e-01, \n",
      "46.0 100\n",
      "46.0 100\n",
      "58.0 100\n",
      "48.0 100\n",
      "56.0 100\n",
      "46.0 100\n",
      "44.0 100\n",
      "49.0 100\n",
      "47.0 100\n"
     ]
    },
    {
     "name": "stdout",
     "output_type": "stream",
     "text": [
      "58.0 100\n",
      "54.0 100\n",
      "53.0 100\n",
      "46.0 100\n",
      "46.0 100\n",
      "52.0 100\n",
      "57.0 100\n",
      "50.0 100\n",
      "42.0 100\n"
     ]
    },
    {
     "name": "stdout",
     "output_type": "stream",
     "text": [
      "42.0 100\n",
      "39.0 80\n",
      "params={'n_comp': 84}, score=8.2727273e-01, \n",
      "46.0 100\n",
      "46.0 100\n",
      "58.0 100\n",
      "48.0 100\n",
      "56.0 100\n",
      "46.0 100\n",
      "44.0 100\n",
      "49.0 100\n"
     ]
    },
    {
     "name": "stdout",
     "output_type": "stream",
     "text": [
      "47.0 100\n",
      "58.0 100\n",
      "54.0 100\n",
      "53.0 100\n",
      "46.0 100\n",
      "46.0 100\n",
      "52.0 100\n"
     ]
    },
    {
     "name": "stdout",
     "output_type": "stream",
     "text": [
      "57.0 100\n",
      "50.0 100\n",
      "42.0 100\n",
      "42.0 100\n",
      "39.0 80\n",
      "params={'n_comp': 85}, score=8.2272727e-01, \n",
      "46.0 100\n"
     ]
    },
    {
     "name": "stdout",
     "output_type": "stream",
     "text": [
      "46.0 100\n",
      "58.0 100\n",
      "48.0 100\n",
      "56.0 100\n",
      "46.0 100\n",
      "44.0 100\n",
      "49.0 100\n",
      "47.0 100\n",
      "58.0 100\n"
     ]
    },
    {
     "name": "stdout",
     "output_type": "stream",
     "text": [
      "54.0 100\n",
      "53.0 100\n",
      "46.0 100\n",
      "46.0 100\n",
      "52.0 100\n",
      "57.0 100\n",
      "50.0 100\n",
      "42.0 100\n",
      "42.0 100\n",
      "39.0 80\n"
     ]
    },
    {
     "name": "stdout",
     "output_type": "stream",
     "text": [
      "params={'n_comp': 86}, score=8.2727273e-01, \n",
      "46.0 100\n",
      "46.0 100\n",
      "58.0 100\n",
      "48.0 100\n",
      "56.0 100\n",
      "46.0 100\n",
      "44.0 100\n",
      "49.0 100\n",
      "47.0 100\n"
     ]
    },
    {
     "name": "stdout",
     "output_type": "stream",
     "text": [
      "58.0 100\n",
      "54.0 100\n",
      "53.0 100\n",
      "46.0 100\n",
      "46.0 100\n",
      "52.0 100\n",
      "57.0 100\n"
     ]
    },
    {
     "name": "stdout",
     "output_type": "stream",
     "text": [
      "50.0 100\n",
      "42.0 100\n",
      "42.0 100\n",
      "39.0 80\n",
      "params={'n_comp': 87}, score=8.2272727e-01, \n",
      "46.0 100\n",
      "46.0 100\n",
      "58.0 100\n",
      "48.0 100\n",
      "56.0 100\n",
      "46.0 100\n"
     ]
    },
    {
     "name": "stdout",
     "output_type": "stream",
     "text": [
      "44.0 100\n",
      "49.0 100\n",
      "47.0 100\n",
      "58.0 100\n",
      "54.0 100\n",
      "53.0 100\n",
      "46.0 100\n"
     ]
    },
    {
     "name": "stdout",
     "output_type": "stream",
     "text": [
      "46.0 100\n",
      "52.0 100\n",
      "57.0 100\n",
      "50.0 100\n",
      "42.0 100\n"
     ]
    },
    {
     "name": "stdout",
     "output_type": "stream",
     "text": [
      "42.0 100\n",
      "39.0 80\n",
      "params={'n_comp': 88}, score=8.2727273e-01, \n",
      "46.0 100\n",
      "46.0 100\n",
      "58.0 100\n"
     ]
    },
    {
     "name": "stdout",
     "output_type": "stream",
     "text": [
      "48.0 100\n",
      "56.0 100\n",
      "46.0 100\n",
      "44.0 100\n",
      "49.0 100\n",
      "47.0 100\n",
      "58.0 100\n",
      "54.0 100\n",
      "53.0 100\n",
      "46.0 100\n",
      "46.0 100\n"
     ]
    },
    {
     "name": "stdout",
     "output_type": "stream",
     "text": [
      "52.0 100\n",
      "57.0 100\n",
      "50.0 100\n",
      "42.0 100\n",
      "42.0 100\n",
      "39.0 80\n",
      "params={'n_comp': 89}, score=8.2727273e-01, \n",
      "46.0 100\n",
      "46.0 100\n",
      "58.0 100\n",
      "48.0 100\n"
     ]
    },
    {
     "name": "stdout",
     "output_type": "stream",
     "text": [
      "56.0 100\n",
      "46.0 100\n",
      "44.0 100\n",
      "49.0 100\n",
      "47.0 100\n",
      "58.0 100\n",
      "54.0 100\n",
      "53.0 100\n",
      "46.0 100\n",
      "46.0 100\n"
     ]
    },
    {
     "name": "stdout",
     "output_type": "stream",
     "text": [
      "52.0 100\n",
      "57.0 100\n",
      "50.0 100\n",
      "42.0 100\n",
      "42.0 100\n",
      "39.0 80\n",
      "params={'n_comp': 90}, score=8.1818182e-01, \n",
      "46.0 100\n",
      "46.0 100\n",
      "58.0 100\n",
      "48.0 100\n"
     ]
    },
    {
     "name": "stdout",
     "output_type": "stream",
     "text": [
      "56.0 100\n",
      "46.0 100\n",
      "44.0 100\n",
      "49.0 100\n",
      "47.0 100\n",
      "58.0 100\n",
      "54.0 100\n",
      "53.0 100\n",
      "46.0 100\n",
      "46.0 100\n"
     ]
    },
    {
     "name": "stdout",
     "output_type": "stream",
     "text": [
      "52.0 100\n",
      "57.0 100\n",
      "50.0 100\n",
      "42.0 100\n",
      "42.0 100\n",
      "39.0 80\n"
     ]
    },
    {
     "name": "stdout",
     "output_type": "stream",
     "text": [
      "params={'n_comp': 91}, score=8.1818182e-01, \n",
      "46.0 100\n",
      "46.0 100\n",
      "58.0 100\n",
      "48.0 100\n",
      "56.0 100\n",
      "46.0 100\n",
      "44.0 100\n",
      "49.0 100\n",
      "47.0 100\n",
      "58.0 100\n"
     ]
    },
    {
     "name": "stdout",
     "output_type": "stream",
     "text": [
      "54.0 100\n",
      "53.0 100\n",
      "46.0 100\n",
      "46.0 100\n",
      "52.0 100\n",
      "57.0 100\n",
      "50.0 100\n",
      "42.0 100\n",
      "42.0 100\n",
      "39.0 80\n"
     ]
    },
    {
     "name": "stdout",
     "output_type": "stream",
     "text": [
      "params={'n_comp': 92}, score=8.1818182e-01, \n",
      "46.0 100\n",
      "46.0 100\n",
      "58.0 100\n",
      "48.0 100\n",
      "56.0 100\n",
      "46.0 100\n",
      "44.0 100\n"
     ]
    },
    {
     "name": "stdout",
     "output_type": "stream",
     "text": [
      "49.0 100\n",
      "47.0 100\n",
      "58.0 100\n",
      "54.0 100\n",
      "53.0 100\n",
      "46.0 100\n",
      "46.0 100\n"
     ]
    },
    {
     "name": "stdout",
     "output_type": "stream",
     "text": [
      "52.0 100\n",
      "57.0 100\n",
      "50.0 100\n",
      "42.0 100\n",
      "42.0 100\n",
      "39.0 80\n"
     ]
    },
    {
     "name": "stdout",
     "output_type": "stream",
     "text": [
      "params={'n_comp': 93}, score=8.1818182e-01, \n",
      "46.0 100\n",
      "46.0 100\n",
      "58.0 100\n",
      "48.0 100\n",
      "56.0 100\n",
      "46.0 100\n",
      "44.0 100\n"
     ]
    },
    {
     "name": "stdout",
     "output_type": "stream",
     "text": [
      "49.0 100\n",
      "47.0 100\n",
      "58.0 100\n",
      "54.0 100\n",
      "53.0 100\n",
      "46.0 100\n",
      "46.0 100\n",
      "52.0 100\n",
      "57.0 100\n",
      "50.0 100\n"
     ]
    },
    {
     "name": "stdout",
     "output_type": "stream",
     "text": [
      "42.0 100\n",
      "42.0 100\n",
      "39.0 80\n",
      "params={'n_comp': 94}, score=8.1818182e-01, \n",
      "46.0 100\n",
      "46.0 100\n",
      "58.0 100\n",
      "48.0 100\n",
      "56.0 100\n",
      "46.0 100\n"
     ]
    },
    {
     "name": "stdout",
     "output_type": "stream",
     "text": [
      "44.0 100\n",
      "49.0 100\n",
      "47.0 100\n",
      "58.0 100\n",
      "54.0 100\n",
      "53.0 100\n",
      "46.0 100\n",
      "46.0 100\n",
      "52.0 100\n",
      "57.0 100\n"
     ]
    },
    {
     "name": "stdout",
     "output_type": "stream",
     "text": [
      "50.0 100\n",
      "42.0 100\n",
      "42.0 100\n",
      "39.0 80\n",
      "params={'n_comp': 95}, score=8.1818182e-01, \n",
      "46.0 100\n",
      "46.0 100\n",
      "58.0 100\n"
     ]
    },
    {
     "name": "stdout",
     "output_type": "stream",
     "text": [
      "48.0 100\n",
      "56.0 100\n",
      "46.0 100\n",
      "44.0 100\n",
      "49.0 100\n",
      "47.0 100\n"
     ]
    },
    {
     "name": "stdout",
     "output_type": "stream",
     "text": [
      "58.0 100\n",
      "54.0 100\n",
      "53.0 100\n",
      "46.0 100\n",
      "46.0 100\n",
      "52.0 100\n",
      "57.0 100\n",
      "50.0 100\n",
      "42.0 100\n"
     ]
    },
    {
     "name": "stdout",
     "output_type": "stream",
     "text": [
      "42.0 100\n",
      "39.0 80\n",
      "params={'n_comp': 96}, score=8.2272727e-01, \n",
      "46.0 100\n",
      "46.0 100\n",
      "58.0 100\n",
      "48.0 100\n",
      "56.0 100\n",
      "46.0 100\n",
      "44.0 100\n"
     ]
    },
    {
     "name": "stdout",
     "output_type": "stream",
     "text": [
      "49.0 100\n",
      "47.0 100\n",
      "58.0 100\n",
      "54.0 100\n",
      "53.0 100\n",
      "46.0 100\n"
     ]
    },
    {
     "name": "stdout",
     "output_type": "stream",
     "text": [
      "46.0 100\n",
      "52.0 100\n",
      "57.0 100\n",
      "50.0 100\n",
      "42.0 100\n"
     ]
    },
    {
     "name": "stdout",
     "output_type": "stream",
     "text": [
      "42.0 100\n",
      "39.0 80\n",
      "params={'n_comp': 97}, score=8.1818182e-01, \n",
      "46.0 100\n",
      "46.0 100\n",
      "58.0 100\n"
     ]
    },
    {
     "name": "stdout",
     "output_type": "stream",
     "text": [
      "48.0 100\n",
      "56.0 100\n",
      "46.0 100\n",
      "44.0 100\n",
      "49.0 100\n",
      "47.0 100\n",
      "58.0 100\n",
      "54.0 100\n",
      "53.0 100\n"
     ]
    },
    {
     "name": "stdout",
     "output_type": "stream",
     "text": [
      "46.0 100\n",
      "46.0 100\n",
      "52.0 100\n",
      "57.0 100\n",
      "50.0 100\n",
      "42.0 100\n",
      "42.0 100\n",
      "39.0 80\n"
     ]
    },
    {
     "name": "stdout",
     "output_type": "stream",
     "text": [
      "params={'n_comp': 98}, score=8.1818182e-01, \n",
      "46.0 100\n",
      "46.0 100\n",
      "58.0 100\n",
      "48.0 100\n",
      "56.0 100\n",
      "46.0 100\n",
      "44.0 100\n",
      "49.0 100\n"
     ]
    },
    {
     "name": "stdout",
     "output_type": "stream",
     "text": [
      "47.0 100\n",
      "58.0 100\n",
      "54.0 100\n",
      "53.0 100\n",
      "46.0 100\n",
      "46.0 100\n"
     ]
    },
    {
     "name": "stdout",
     "output_type": "stream",
     "text": [
      "52.0 100\n",
      "57.0 100\n",
      "50.0 100\n",
      "42.0 100\n",
      "42.0 100\n",
      "39.0 80\n",
      "params={'n_comp': 99}, score=8.1818182e-01, \n"
     ]
    },
    {
     "name": "stdout",
     "output_type": "stream",
     "text": [
      "\n",
      "best parameter: {'n_comp': 41}; score: 8.7272727e-01; \n"
     ]
    }
   ],
   "source": [
    "import Code.ISIMPLS\n",
    "importlib.reload(Code.ISIMPLS)\n",
    "from Code.ISIMPLS import ISIMPLS\n",
    "\n",
    "n_comp_lst=list(range(1,100))\n",
    "scores = []\n",
    "params = []\n",
    "for n_comp in n_comp_lst:\n",
    "    pls = ISIMPLS(n_components=n_comp)\n",
    "    scores.append(Batch_Update_CV(pls))\n",
    "    params.append({'n_comp': n_comp})\n",
    "    print(f\"params={params[-1]}, score={scores[-1]:.7e}, \")\n",
    "\n",
    "best_ind = np.nanargmax(scores)\n",
    "print(\"\")\n",
    "print(f\"best parameter: {params[best_ind]}; score: {scores[best_ind]:.7e}; \")\n",
    "\n"
   ]
  },
  {
   "cell_type": "code",
   "execution_count": 50,
   "id": "dbd47821-a22a-4c94-8b9c-fd4a5a7c5b0c",
   "metadata": {
    "collapsed": false
   },
   "outputs": [
    {
     "name": "stdout",
     "output_type": "stream",
     "text": [
      "params={'n_comp': 1}, score=6.2727273e-01, \n",
      "params={'n_comp': 2}, score=6.6818182e-01, \n",
      "params={'n_comp': 3}, score=6.9545455e-01, \n",
      "params={'n_comp': 4}, score=7.3181818e-01, \n",
      "params={'n_comp': 5}, score=7.1363636e-01, \n",
      "params={'n_comp': 6}, score=7.2727273e-01, \n"
     ]
    },
    {
     "name": "stdout",
     "output_type": "stream",
     "text": [
      "params={'n_comp': 7}, score=7.5909091e-01, \n",
      "params={'n_comp': 8}, score=7.6818182e-01, \n",
      "params={'n_comp': 9}, score=8.1818182e-01, \n",
      "params={'n_comp': 10}, score=8.0454545e-01, \n"
     ]
    },
    {
     "name": "stdout",
     "output_type": "stream",
     "text": [
      "params={'n_comp': 11}, score=8.0454545e-01, \n",
      "params={'n_comp': 12}, score=8.0454545e-01, \n",
      "params={'n_comp': 13}, score=8.3181818e-01, \n",
      "params={'n_comp': 14}, score=8.3636364e-01, \n"
     ]
    },
    {
     "name": "stdout",
     "output_type": "stream",
     "text": [
      "params={'n_comp': 15}, score=8.2727273e-01, \n",
      "params={'n_comp': 16}, score=8.1363636e-01, \n",
      "params={'n_comp': 17}, score=8.1363636e-01, \n",
      "params={'n_comp': 18}, score=8.4545455e-01, \n",
      "params={'n_comp': 19}, score=8.2272727e-01, \n"
     ]
    },
    {
     "name": "stdout",
     "output_type": "stream",
     "text": [
      "params={'n_comp': 20}, score=8.3181818e-01, \n",
      "params={'n_comp': 21}, score=8.3181818e-01, \n",
      "params={'n_comp': 22}, score=8.2727273e-01, \n",
      "params={'n_comp': 23}, score=8.2272727e-01, \n",
      "params={'n_comp': 24}, score=8.2272727e-01, \n"
     ]
    },
    {
     "name": "stdout",
     "output_type": "stream",
     "text": [
      "params={'n_comp': 25}, score=8.3636364e-01, \n",
      "params={'n_comp': 26}, score=8.1818182e-01, \n",
      "params={'n_comp': 27}, score=8.1818182e-01, \n",
      "params={'n_comp': 28}, score=8.2727273e-01, \n",
      "params={'n_comp': 29}, score=8.2727273e-01, \n"
     ]
    },
    {
     "name": "stdout",
     "output_type": "stream",
     "text": [
      "params={'n_comp': 30}, score=8.1818182e-01, \n",
      "params={'n_comp': 31}, score=8.3636364e-01, \n",
      "params={'n_comp': 32}, score=8.4545455e-01, \n",
      "params={'n_comp': 33}, score=8.6363636e-01, \n"
     ]
    },
    {
     "name": "stdout",
     "output_type": "stream",
     "text": [
      "params={'n_comp': 34}, score=8.5000000e-01, \n",
      "params={'n_comp': 35}, score=8.6363636e-01, \n",
      "params={'n_comp': 36}, score=8.6363636e-01, \n",
      "params={'n_comp': 37}, score=8.6818182e-01, \n"
     ]
    },
    {
     "name": "stdout",
     "output_type": "stream",
     "text": [
      "params={'n_comp': 38}, score=8.6363636e-01, \n",
      "params={'n_comp': 39}, score=8.7727273e-01, \n",
      "params={'n_comp': 40}, score=8.6818182e-01, \n",
      "params={'n_comp': 41}, score=8.6818182e-01, \n"
     ]
    },
    {
     "name": "stdout",
     "output_type": "stream",
     "text": [
      "params={'n_comp': 42}, score=8.5909091e-01, \n",
      "params={'n_comp': 43}, score=8.7727273e-01, \n",
      "params={'n_comp': 44}, score=8.6363636e-01, \n",
      "params={'n_comp': 45}, score=8.6363636e-01, \n",
      "params={'n_comp': 46}, score=8.6818182e-01, \n"
     ]
    },
    {
     "name": "stdout",
     "output_type": "stream",
     "text": [
      "params={'n_comp': 47}, score=8.6818182e-01, \n",
      "params={'n_comp': 48}, score=8.6818182e-01, \n",
      "params={'n_comp': 49}, score=8.5909091e-01, \n",
      "params={'n_comp': 50}, score=8.6818182e-01, \n"
     ]
    },
    {
     "name": "stdout",
     "output_type": "stream",
     "text": [
      "params={'n_comp': 51}, score=8.7272727e-01, \n",
      "params={'n_comp': 52}, score=8.7727273e-01, \n",
      "params={'n_comp': 53}, score=8.7727273e-01, \n",
      "params={'n_comp': 54}, score=8.8181818e-01, \n"
     ]
    },
    {
     "name": "stdout",
     "output_type": "stream",
     "text": [
      "params={'n_comp': 55}, score=8.8636364e-01, \n",
      "params={'n_comp': 56}, score=8.8636364e-01, \n",
      "params={'n_comp': 57}, score=8.7272727e-01, \n",
      "params={'n_comp': 58}, score=8.7272727e-01, \n"
     ]
    },
    {
     "name": "stdout",
     "output_type": "stream",
     "text": [
      "params={'n_comp': 59}, score=8.7272727e-01, \n",
      "params={'n_comp': 60}, score=8.5909091e-01, \n",
      "params={'n_comp': 61}, score=8.7272727e-01, \n",
      "params={'n_comp': 62}, score=8.6818182e-01, \n"
     ]
    },
    {
     "name": "stdout",
     "output_type": "stream",
     "text": [
      "params={'n_comp': 63}, score=8.6818182e-01, \n",
      "params={'n_comp': 64}, score=8.7272727e-01, \n",
      "params={'n_comp': 65}, score=8.7272727e-01, \n",
      "params={'n_comp': 66}, score=8.8636364e-01, \n"
     ]
    },
    {
     "name": "stdout",
     "output_type": "stream",
     "text": [
      "params={'n_comp': 67}, score=8.8181818e-01, \n",
      "params={'n_comp': 68}, score=8.9090909e-01, \n",
      "params={'n_comp': 69}, score=9.0000000e-01, \n",
      "params={'n_comp': 70}, score=8.9545455e-01, \n"
     ]
    },
    {
     "name": "stdout",
     "output_type": "stream",
     "text": [
      "params={'n_comp': 71}, score=8.9545455e-01, \n",
      "params={'n_comp': 72}, score=9.0000000e-01, \n",
      "params={'n_comp': 73}, score=9.0000000e-01, \n",
      "params={'n_comp': 74}, score=9.0000000e-01, \n"
     ]
    },
    {
     "name": "stdout",
     "output_type": "stream",
     "text": [
      "params={'n_comp': 75}, score=8.8181818e-01, \n",
      "params={'n_comp': 76}, score=8.8636364e-01, \n",
      "params={'n_comp': 77}, score=8.8636364e-01, \n",
      "params={'n_comp': 78}, score=8.8636364e-01, \n"
     ]
    },
    {
     "name": "stdout",
     "output_type": "stream",
     "text": [
      "params={'n_comp': 79}, score=8.8636364e-01, \n",
      "params={'n_comp': 80}, score=8.9090909e-01, \n",
      "params={'n_comp': 81}, score=8.9090909e-01, \n",
      "params={'n_comp': 82}, score=8.9090909e-01, \n"
     ]
    },
    {
     "name": "stdout",
     "output_type": "stream",
     "text": [
      "params={'n_comp': 83}, score=8.9090909e-01, \n",
      "params={'n_comp': 84}, score=8.9545455e-01, \n",
      "params={'n_comp': 85}, score=8.9090909e-01, \n",
      "params={'n_comp': 86}, score=8.9090909e-01, \n"
     ]
    },
    {
     "name": "stdout",
     "output_type": "stream",
     "text": [
      "params={'n_comp': 87}, score=8.9090909e-01, \n",
      "params={'n_comp': 88}, score=8.9090909e-01, \n",
      "params={'n_comp': 89}, score=8.9090909e-01, \n",
      "params={'n_comp': 90}, score=8.9545455e-01, \n"
     ]
    },
    {
     "name": "stdout",
     "output_type": "stream",
     "text": [
      "params={'n_comp': 91}, score=8.9545455e-01, \n",
      "params={'n_comp': 92}, score=8.9545455e-01, \n",
      "params={'n_comp': 93}, score=8.9545455e-01, \n",
      "params={'n_comp': 94}, score=9.0000000e-01, \n"
     ]
    },
    {
     "name": "stdout",
     "output_type": "stream",
     "text": [
      "params={'n_comp': 95}, score=8.9545455e-01, \n",
      "params={'n_comp': 96}, score=9.0000000e-01, \n",
      "params={'n_comp': 97}, score=8.9545455e-01, \n",
      "params={'n_comp': 98}, score=8.9090909e-01, \n"
     ]
    },
    {
     "name": "stdout",
     "output_type": "stream",
     "text": [
      "params={'n_comp': 99}, score=8.9090909e-01, \n",
      "\n",
      "best parameter: {'n_comp': 69}; score: 9.0000000e-01; \n"
     ]
    }
   ],
   "source": [
    "import Code.PLS1\n",
    "importlib.reload(Code.PLS1)\n",
    "from Code.PLS1 import PLS1\n",
    "\n",
    "n_comp_lst=list(range(1,100))\n",
    "scores = []\n",
    "params = []\n",
    "for n_comp in n_comp_lst:\n",
    "    pls = PLS1(n_components=n_comp)\n",
    "    scores.append(Model_Score(pls))\n",
    "    params.append({'n_comp': n_comp})\n",
    "    print(f\"params={params[-1]}, score={scores[-1]:.7e}, \")\n",
    "\n",
    "best_ind = np.nanargmax(scores)\n",
    "print(\"\")\n",
    "print(f\"best parameter: {params[best_ind]}; score: {scores[best_ind]:.7e}; \")"
   ]
  },
  {
   "cell_type": "code",
   "execution_count": 42,
   "id": "26eeac8c-1aa0-444a-ace9-3f43320d6842",
   "metadata": {
    "collapsed": false,
    "jupyter": {
     "outputs_hidden": false
    }
   },
   "outputs": [
    {
     "name": "stdout",
     "output_type": "stream",
     "text": [
      "params={'n_comp': 1}, score=6.1818182e-01, \n",
      "params={'n_comp': 2}, score=6.6818182e-01, \n"
     ]
    },
    {
     "name": "stdout",
     "output_type": "stream",
     "text": [
      "params={'n_comp': 3}, score=6.8636364e-01, \n",
      "params={'n_comp': 4}, score=7.1363636e-01, \n"
     ]
    },
    {
     "name": "stdout",
     "output_type": "stream",
     "text": [
      "params={'n_comp': 5}, score=7.0909091e-01, \n",
      "params={'n_comp': 6}, score=7.2727273e-01, \n"
     ]
    },
    {
     "name": "stdout",
     "output_type": "stream",
     "text": [
      "params={'n_comp': 7}, score=7.6363636e-01, \n",
      "params={'n_comp': 8}, score=7.7272727e-01, \n"
     ]
    },
    {
     "name": "stdout",
     "output_type": "stream",
     "text": [
      "params={'n_comp': 9}, score=7.9090909e-01, \n",
      "params={'n_comp': 10}, score=8.0454545e-01, \n"
     ]
    },
    {
     "name": "stdout",
     "output_type": "stream",
     "text": [
      "params={'n_comp': 11}, score=8.0454545e-01, \n",
      "params={'n_comp': 12}, score=8.0909091e-01, \n"
     ]
    },
    {
     "name": "stdout",
     "output_type": "stream",
     "text": [
      "params={'n_comp': 13}, score=8.1818182e-01, \n",
      "params={'n_comp': 14}, score=8.2727273e-01, \n"
     ]
    },
    {
     "name": "stdout",
     "output_type": "stream",
     "text": [
      "params={'n_comp': 15}, score=8.1818182e-01, \n",
      "params={'n_comp': 16}, score=8.1363636e-01, \n"
     ]
    },
    {
     "name": "stdout",
     "output_type": "stream",
     "text": [
      "params={'n_comp': 17}, score=8.1818182e-01, \n",
      "params={'n_comp': 18}, score=8.4545455e-01, \n"
     ]
    },
    {
     "name": "stdout",
     "output_type": "stream",
     "text": [
      "params={'n_comp': 19}, score=8.2727273e-01, \n",
      "params={'n_comp': 20}, score=8.4090909e-01, \n"
     ]
    },
    {
     "name": "stdout",
     "output_type": "stream",
     "text": [
      "params={'n_comp': 21}, score=8.2272727e-01, \n",
      "params={'n_comp': 22}, score=8.0454545e-01, \n"
     ]
    },
    {
     "name": "stdout",
     "output_type": "stream",
     "text": [
      "params={'n_comp': 23}, score=8.2272727e-01, \n",
      "params={'n_comp': 24}, score=8.2272727e-01, \n"
     ]
    },
    {
     "name": "stdout",
     "output_type": "stream",
     "text": [
      "params={'n_comp': 25}, score=8.2727273e-01, \n",
      "params={'n_comp': 26}, score=8.1818182e-01, \n"
     ]
    },
    {
     "name": "stdout",
     "output_type": "stream",
     "text": [
      "params={'n_comp': 27}, score=8.1363636e-01, \n",
      "params={'n_comp': 28}, score=8.1818182e-01, \n"
     ]
    },
    {
     "name": "stdout",
     "output_type": "stream",
     "text": [
      "params={'n_comp': 29}, score=8.1818182e-01, \n",
      "params={'n_comp': 30}, score=8.3636364e-01, \n"
     ]
    },
    {
     "name": "stdout",
     "output_type": "stream",
     "text": [
      "params={'n_comp': 31}, score=8.4545455e-01, \n",
      "params={'n_comp': 32}, score=8.4545455e-01, \n"
     ]
    },
    {
     "name": "stdout",
     "output_type": "stream",
     "text": [
      "params={'n_comp': 33}, score=8.5909091e-01, \n"
     ]
    },
    {
     "name": "stdout",
     "output_type": "stream",
     "text": [
      "params={'n_comp': 34}, score=8.5454545e-01, \n"
     ]
    },
    {
     "name": "stdout",
     "output_type": "stream",
     "text": [
      "params={'n_comp': 35}, score=8.5454545e-01, \n"
     ]
    },
    {
     "name": "stdout",
     "output_type": "stream",
     "text": [
      "params={'n_comp': 36}, score=8.5454545e-01, \n"
     ]
    },
    {
     "name": "stdout",
     "output_type": "stream",
     "text": [
      "params={'n_comp': 37}, score=8.6363636e-01, \n"
     ]
    },
    {
     "name": "stdout",
     "output_type": "stream",
     "text": [
      "params={'n_comp': 38}, score=8.5454545e-01, \n"
     ]
    },
    {
     "name": "stdout",
     "output_type": "stream",
     "text": [
      "params={'n_comp': 39}, score=8.4545455e-01, \n"
     ]
    },
    {
     "name": "stdout",
     "output_type": "stream",
     "text": [
      "params={'n_comp': 40}, score=8.3636364e-01, \n"
     ]
    },
    {
     "name": "stdout",
     "output_type": "stream",
     "text": [
      "params={'n_comp': 41}, score=8.5000000e-01, \n"
     ]
    },
    {
     "name": "stdout",
     "output_type": "stream",
     "text": [
      "params={'n_comp': 42}, score=8.5909091e-01, \n"
     ]
    },
    {
     "name": "stdout",
     "output_type": "stream",
     "text": [
      "params={'n_comp': 43}, score=8.5000000e-01, \n"
     ]
    },
    {
     "name": "stdout",
     "output_type": "stream",
     "text": [
      "params={'n_comp': 44}, score=8.4545455e-01, \n"
     ]
    },
    {
     "name": "stdout",
     "output_type": "stream",
     "text": [
      "params={'n_comp': 45}, score=8.4090909e-01, \n"
     ]
    },
    {
     "name": "stdout",
     "output_type": "stream",
     "text": [
      "params={'n_comp': 46}, score=8.5909091e-01, \n"
     ]
    },
    {
     "name": "stdout",
     "output_type": "stream",
     "text": [
      "params={'n_comp': 47}, score=8.5454545e-01, \n"
     ]
    },
    {
     "name": "stdout",
     "output_type": "stream",
     "text": [
      "params={'n_comp': 48}, score=8.5454545e-01, \n"
     ]
    },
    {
     "name": "stdout",
     "output_type": "stream",
     "text": [
      "params={'n_comp': 49}, score=8.5454545e-01, \n"
     ]
    },
    {
     "name": "stdout",
     "output_type": "stream",
     "text": [
      "params={'n_comp': 50}, score=8.6363636e-01, \n"
     ]
    },
    {
     "name": "stdout",
     "output_type": "stream",
     "text": [
      "params={'n_comp': 51}, score=8.6363636e-01, \n"
     ]
    },
    {
     "name": "stdout",
     "output_type": "stream",
     "text": [
      "params={'n_comp': 52}, score=8.6363636e-01, \n"
     ]
    },
    {
     "name": "stdout",
     "output_type": "stream",
     "text": [
      "params={'n_comp': 53}, score=8.5909091e-01, \n"
     ]
    },
    {
     "name": "stdout",
     "output_type": "stream",
     "text": [
      "params={'n_comp': 54}, score=8.5454545e-01, \n"
     ]
    },
    {
     "name": "stdout",
     "output_type": "stream",
     "text": [
      "params={'n_comp': 55}, score=8.6363636e-01, \n"
     ]
    },
    {
     "name": "stdout",
     "output_type": "stream",
     "text": [
      "params={'n_comp': 56}, score=8.5909091e-01, \n"
     ]
    },
    {
     "name": "stdout",
     "output_type": "stream",
     "text": [
      "params={'n_comp': 57}, score=8.6363636e-01, \n"
     ]
    },
    {
     "name": "stdout",
     "output_type": "stream",
     "text": [
      "params={'n_comp': 58}, score=8.5909091e-01, \n"
     ]
    },
    {
     "name": "stdout",
     "output_type": "stream",
     "text": [
      "params={'n_comp': 59}, score=8.6818182e-01, \n"
     ]
    },
    {
     "name": "stdout",
     "output_type": "stream",
     "text": [
      "params={'n_comp': 60}, score=8.6818182e-01, \n"
     ]
    },
    {
     "name": "stdout",
     "output_type": "stream",
     "text": [
      "params={'n_comp': 61}, score=8.6818182e-01, \n"
     ]
    },
    {
     "name": "stdout",
     "output_type": "stream",
     "text": [
      "params={'n_comp': 62}, score=8.7272727e-01, \n"
     ]
    },
    {
     "name": "stdout",
     "output_type": "stream",
     "text": [
      "params={'n_comp': 63}, score=8.6818182e-01, \n"
     ]
    },
    {
     "name": "stdout",
     "output_type": "stream",
     "text": [
      "params={'n_comp': 64}, score=8.6818182e-01, \n"
     ]
    },
    {
     "name": "stdout",
     "output_type": "stream",
     "text": [
      "params={'n_comp': 65}, score=8.5909091e-01, \n"
     ]
    },
    {
     "name": "stdout",
     "output_type": "stream",
     "text": [
      "params={'n_comp': 66}, score=8.5909091e-01, \n"
     ]
    },
    {
     "name": "stdout",
     "output_type": "stream",
     "text": [
      "params={'n_comp': 67}, score=8.7272727e-01, \n"
     ]
    },
    {
     "name": "stdout",
     "output_type": "stream",
     "text": [
      "params={'n_comp': 68}, score=8.7727273e-01, \n"
     ]
    },
    {
     "name": "stdout",
     "output_type": "stream",
     "text": [
      "params={'n_comp': 69}, score=8.7272727e-01, \n"
     ]
    },
    {
     "name": "stdout",
     "output_type": "stream",
     "text": [
      "params={'n_comp': 70}, score=8.6818182e-01, \n"
     ]
    },
    {
     "name": "stdout",
     "output_type": "stream",
     "text": [
      "params={'n_comp': 71}, score=8.6818182e-01, \n"
     ]
    },
    {
     "name": "stdout",
     "output_type": "stream",
     "text": [
      "params={'n_comp': 72}, score=8.6363636e-01, \n"
     ]
    },
    {
     "name": "stdout",
     "output_type": "stream",
     "text": [
      "params={'n_comp': 73}, score=8.7272727e-01, \n"
     ]
    },
    {
     "name": "stdout",
     "output_type": "stream",
     "text": [
      "params={'n_comp': 74}, score=8.7272727e-01, \n"
     ]
    },
    {
     "name": "stdout",
     "output_type": "stream",
     "text": [
      "params={'n_comp': 75}, score=8.7727273e-01, \n"
     ]
    },
    {
     "name": "stdout",
     "output_type": "stream",
     "text": [
      "params={'n_comp': 76}, score=8.8181818e-01, \n"
     ]
    },
    {
     "name": "stdout",
     "output_type": "stream",
     "text": [
      "params={'n_comp': 77}, score=8.8181818e-01, \n"
     ]
    },
    {
     "name": "stdout",
     "output_type": "stream",
     "text": [
      "params={'n_comp': 78}, score=8.8181818e-01, \n"
     ]
    },
    {
     "name": "stdout",
     "output_type": "stream",
     "text": [
      "params={'n_comp': 79}, score=8.8181818e-01, \n"
     ]
    },
    {
     "name": "stdout",
     "output_type": "stream",
     "text": [
      "params={'n_comp': 80}, score=8.8181818e-01, \n"
     ]
    },
    {
     "name": "stdout",
     "output_type": "stream",
     "text": [
      "params={'n_comp': 81}, score=8.8181818e-01, \n"
     ]
    },
    {
     "name": "stdout",
     "output_type": "stream",
     "text": [
      "params={'n_comp': 82}, score=8.7272727e-01, \n"
     ]
    },
    {
     "name": "stdout",
     "output_type": "stream",
     "text": [
      "params={'n_comp': 83}, score=8.8181818e-01, \n"
     ]
    },
    {
     "name": "stdout",
     "output_type": "stream",
     "text": [
      "params={'n_comp': 84}, score=8.7727273e-01, \n"
     ]
    },
    {
     "name": "stdout",
     "output_type": "stream",
     "text": [
      "params={'n_comp': 85}, score=8.7727273e-01, \n"
     ]
    },
    {
     "name": "stdout",
     "output_type": "stream",
     "text": [
      "params={'n_comp': 86}, score=8.7727273e-01, \n"
     ]
    },
    {
     "name": "stdout",
     "output_type": "stream",
     "text": [
      "params={'n_comp': 87}, score=8.7727273e-01, \n"
     ]
    },
    {
     "name": "stdout",
     "output_type": "stream",
     "text": [
      "params={'n_comp': 88}, score=8.8181818e-01, \n"
     ]
    },
    {
     "name": "stdout",
     "output_type": "stream",
     "text": [
      "params={'n_comp': 89}, score=8.8636364e-01, \n"
     ]
    },
    {
     "name": "stdout",
     "output_type": "stream",
     "text": [
      "params={'n_comp': 90}, score=8.8181818e-01, \n"
     ]
    },
    {
     "name": "stdout",
     "output_type": "stream",
     "text": [
      "params={'n_comp': 91}, score=8.8636364e-01, \n"
     ]
    },
    {
     "name": "stdout",
     "output_type": "stream",
     "text": [
      "params={'n_comp': 92}, score=8.8636364e-01, \n"
     ]
    },
    {
     "name": "stdout",
     "output_type": "stream",
     "text": [
      "params={'n_comp': 93}, score=8.7727273e-01, \n"
     ]
    },
    {
     "name": "stdout",
     "output_type": "stream",
     "text": [
      "params={'n_comp': 94}, score=8.8636364e-01, \n"
     ]
    },
    {
     "name": "stdout",
     "output_type": "stream",
     "text": [
      "params={'n_comp': 95}, score=8.8636364e-01, \n"
     ]
    },
    {
     "name": "stdout",
     "output_type": "stream",
     "text": [
      "params={'n_comp': 96}, score=8.8636364e-01, \n"
     ]
    },
    {
     "name": "stdout",
     "output_type": "stream",
     "text": [
      "params={'n_comp': 97}, score=8.8636364e-01, \n"
     ]
    },
    {
     "name": "stdout",
     "output_type": "stream",
     "text": [
      "params={'n_comp': 98}, score=8.8636364e-01, \n"
     ]
    },
    {
     "name": "stdout",
     "output_type": "stream",
     "text": [
      "params={'n_comp': 99}, score=8.8181818e-01, \n",
      "\n",
      "best parameter: {'n_comp': 89}; score: 8.8636364e-01; \n"
     ]
    }
   ],
   "source": [
    "import Code.PLS1\n",
    "importlib.reload(Code.PLS1)\n",
    "from Code.PLS1 import IPLS1\n",
    "\n",
    "n_comp_lst=list(range(1,100))\n",
    "scores = []\n",
    "params = []\n",
    "for n_comp in n_comp_lst:\n",
    "    pls = IPLS1(n_components=n_comp)\n",
    "    scores.append(Batch_Update_CV(pls))\n",
    "    params.append({'n_comp': n_comp})\n",
    "    print(f\"params={params[-1]}, score={scores[-1]:.7e}, \")\n",
    "\n",
    "best_ind = np.nanargmax(scores)\n",
    "print(\"\")\n",
    "print(f\"best parameter: {params[best_ind]}; score: {scores[best_ind]:.7e}; \")"
   ]
  },
  {
   "cell_type": "code",
   "execution_count": null,
   "id": "b97e48e1-5ddb-40a8-8a15-1c34ed6b0f40",
   "metadata": {
    "collapsed": false,
    "jupyter": {
     "outputs_hidden": false
    }
   },
   "outputs": [],
   "source": [
    "import Code.OLPLS\n",
    "importlib.reload(Code.OLPLS)\n",
    "from Code.OLPLS import OLPLS\n",
    "\n",
    "n_comp_max = 100\n",
    "\n",
    "space  = [ Real(1e-9, 1e-5, name='mu', prior=\"log-uniform\"),\n",
    "           Real(0, 1, name='amnesic')]\n",
    "\n",
    "@use_named_args(space)\n",
    "def Comp_Model_Score(mu, amnesic):\n",
    "    X_train, X_test, y_train, y_test = train_test_split(\n",
    "        fea_train, label_train, test_size=0.1, random_state=42)\n",
    "    score_loc = np.zeros((n_comp_max, ))\n",
    "\n",
    "    PLS=OLPLS(n_components=n_comp_max, mu=mu, amnesic=amnesic)\n",
    "    print(f\"__mu={PLS.mu:.4e}, amnesic={PLS.amnesic:.2f}\")\n",
    "\n",
    "    PLS.fit(X_train, y_train)\n",
    "    for n_comp in range(1, n_comp_max+1):\n",
    "        X_score_train = norm(np.dot(X_train, PLS.W[:,:n_comp]), ord=1, axis=1, keepdims=True)\n",
    "        X_score_test = norm(np.dot(X_test, PLS.W[:,:n_comp]), ord=1, axis=1, keepdims=True)\n",
    "        y_pred = LogisticRegression(penalty=None).fit(X_score_train, y_train) \\\n",
    "                                                     .predict(X_score_test)\n",
    "        score_loc[n_comp-1] = accuracy_score(y_test, y_pred)\n",
    "\n",
    "    # print(score_loc)\n",
    "    score = np.nanmax(score_loc)\n",
    "    if (np.isnan(score)):\n",
    "        score = 0\n",
    "        print(\"____failure\")\n",
    "    else:\n",
    "        print(f\"____best n_comp: {np.nanargmax(score_loc)+1:d}\")\n",
    "        print(f\"____best score: {score:.4f}\")\n",
    "    return -score\n",
    "\n",
    "tim_tot.tic()\n",
    "res_gp = gp_minimize(Comp_Model_Score, space, n_calls=100,\n",
    "                     n_initial_points = 30, initial_point_generator=\"lhs\", \n",
    "                     random_state=0, verbose=True)\n",
    "\n",
    "print(\"-\"*40)\n",
    "print(f\"Best amnesic = {res_gp.x[0]}\")\n",
    "print(f\"Best mu = {res_gp.x[1]}\")\n",
    "print(f\"Best score = {-res_gp.fun:.4f}\")\n",
    "print(f\"total time = {tim_tot.tocvalue():.1f}s\")"
   ]
  },
  {
   "cell_type": "code",
   "execution_count": 52,
   "id": "b391212a-ab36-4d06-87a2-ca2329179d02",
   "metadata": {
    "collapsed": false,
    "jupyter": {
     "outputs_hidden": false
    }
   },
   "outputs": [
    {
     "name": "stdout",
     "output_type": "stream",
     "text": [
      "Iteration No: 1 started. Evaluating function at random point.\n",
      "__eta=9.2092e-07\n"
     ]
    },
    {
     "name": "stdout",
     "output_type": "stream",
     "text": [
      "____best n_comp: 99\n",
      "____best score: 0.9000\n",
      "Iteration No: 1 ended. Evaluation done at random point.\n",
      "Time taken: 151.1136\n",
      "Function value obtained: -0.9000\n",
      "Current minimum: -0.9000\n",
      "Iteration No: 2 started. Evaluating function at random point.\n",
      "__eta=1.6647e-05\n"
     ]
    },
    {
     "name": "stdout",
     "output_type": "stream",
     "text": [
      "____best n_comp: 35\n",
      "____best score: 0.8773\n",
      "Iteration No: 2 ended. Evaluation done at random point.\n",
      "Time taken: 151.5146\n",
      "Function value obtained: -0.8773\n",
      "Current minimum: -0.9000\n",
      "Iteration No: 3 started. Evaluating function at random point.\n",
      "__eta=1.9486e-05\n"
     ]
    },
    {
     "name": "stdout",
     "output_type": "stream",
     "text": [
      "____best n_comp: 87\n",
      "____best score: 0.8909\n",
      "Iteration No: 3 ended. Evaluation done at random point.\n",
      "Time taken: 152.6080\n",
      "Function value obtained: -0.8909\n",
      "Current minimum: -0.9000\n",
      "Iteration No: 4 started. Evaluating function at random point.\n",
      "__eta=1.7229e-05\n"
     ]
    },
    {
     "name": "stdout",
     "output_type": "stream",
     "text": [
      "____best n_comp: 96\n",
      "____best score: 0.8864\n",
      "Iteration No: 4 ended. Evaluation done at random point.\n",
      "Time taken: 151.9424\n",
      "Function value obtained: -0.8864\n",
      "Current minimum: -0.9000\n",
      "Iteration No: 5 started. Evaluating function at random point.\n",
      "__eta=1.3117e-06\n"
     ]
    },
    {
     "name": "stdout",
     "output_type": "stream",
     "text": [
      "____best n_comp: 79\n",
      "____best score: 0.8727\n",
      "Iteration No: 5 ended. Evaluation done at random point.\n",
      "Time taken: 151.8439\n",
      "Function value obtained: -0.8727\n",
      "Current minimum: -0.9000\n",
      "Iteration No: 6 started. Evaluating function at random point.\n",
      "__eta=8.3543e-08\n"
     ]
    },
    {
     "name": "stdout",
     "output_type": "stream",
     "text": [
      "____best n_comp: 92\n",
      "____best score: 0.8864\n",
      "Iteration No: 6 ended. Evaluation done at random point.\n",
      "Time taken: 152.2256\n",
      "Function value obtained: -0.8864\n",
      "Current minimum: -0.9000\n",
      "Iteration No: 7 started. Evaluating function at random point.\n",
      "__eta=3.0738e-08\n"
     ]
    },
    {
     "name": "stdout",
     "output_type": "stream",
     "text": [
      "____best n_comp: 79\n",
      "____best score: 0.8636\n",
      "Iteration No: 7 ended. Evaluation done at random point.\n",
      "Time taken: 152.4710\n",
      "Function value obtained: -0.8636\n",
      "Current minimum: -0.9000\n",
      "Iteration No: 8 started. Evaluating function at random point.\n",
      "__eta=1.9212e-09\n"
     ]
    },
    {
     "name": "stdout",
     "output_type": "stream",
     "text": [
      "____best n_comp: 76\n",
      "____best score: 0.8636\n",
      "Iteration No: 8 ended. Evaluation done at random point.\n",
      "Time taken: 151.9867\n",
      "Function value obtained: -0.8636\n",
      "Current minimum: -0.9000\n",
      "Iteration No: 9 started. Evaluating function at random point.\n",
      "__eta=2.3082e-08\n"
     ]
    },
    {
     "name": "stdout",
     "output_type": "stream",
     "text": [
      "____best n_comp: 85\n",
      "____best score: 0.8955\n",
      "Iteration No: 9 ended. Evaluation done at random point.\n",
      "Time taken: 152.0489\n",
      "Function value obtained: -0.8955\n",
      "Current minimum: -0.9000\n",
      "Iteration No: 10 started. Evaluating function at random point.\n",
      "__eta=2.4453e-07\n"
     ]
    },
    {
     "name": "stdout",
     "output_type": "stream",
     "text": [
      "____best n_comp: 93\n",
      "____best score: 0.8682\n"
     ]
    },
    {
     "name": "stdout",
     "output_type": "stream",
     "text": [
      "Iteration No: 10 ended. Evaluation done at random point.\n",
      "Time taken: 153.0083\n",
      "Function value obtained: -0.8682\n",
      "Current minimum: -0.9000\n",
      "----------------------------------------\n",
      "Best eta = 9.209225155490904e-07\n",
      "Best score = 0.9000\n",
      "total time = 1520.8s\n"
     ]
    }
   ],
   "source": [
    "import Code.SGDPLS\n",
    "importlib.reload(Code.SGDPLS)\n",
    "from Code.SGDPLS import SGDPLS\n",
    "n_comp_max = 100\n",
    "\n",
    "space  = [ Real(1e-9, 1e-4, name='eta', prior=\"log-uniform\")]\n",
    "\n",
    "@use_named_args(space)\n",
    "def Comp_Model_Score(eta):\n",
    "    X_train, X_test, y_train, y_test = train_test_split(\n",
    "        fea_train, label_train, test_size=0.1, random_state=42)\n",
    "    score_loc = np.zeros((n_comp_max, ))\n",
    "\n",
    "    PLS=SGDPLS(n_components=n_comp_max, eta=eta)\n",
    "    print(f\"__eta={PLS.eta:.4e}\")\n",
    "\n",
    "    PLS.fit(X_train, y_train)\n",
    "    U = PLS.normalize(PLS.x_rotations)\n",
    "    for n_comp in range(1, n_comp_max+1):\n",
    "        X_score_train = norm(np.dot(X_train, U[:,:n_comp]), ord=1, axis=1, keepdims=True)\n",
    "        X_score_test = norm(np.dot(X_test, U[:,:n_comp]), ord=1, axis=1, keepdims=True)\n",
    "        y_pred = LogisticRegression(penalty=None).fit(X_score_train, y_train) \\\n",
    "                                                     .predict(X_score_test)\n",
    "        score_loc[n_comp-1] = accuracy_score(y_test, y_pred)\n",
    "\n",
    "    score = np.nanmax(score_loc)\n",
    "    if (np.isnan(score)):\n",
    "        score = 0\n",
    "        print(\"____failure\")\n",
    "    else:\n",
    "        print(f\"____best n_comp: {np.nanargmax(score_loc)+1:d}\")\n",
    "        print(f\"____best score: {score:.4f}\")\n",
    "    return -score\n",
    "\n",
    "tim_tot.tic()\n",
    "res_gp = gp_minimize(Comp_Model_Score, space, n_calls=100,\n",
    "                     n_initial_points = 30, initial_point_generator=\"lhs\", \n",
    "                     random_state=0, verbose=True)\n",
    "\n",
    "print(\"-\"*40)\n",
    "print(f\"Best eta = {res_gp.x[0]}\")\n",
    "print(f\"Best score = {-res_gp.fun:.4f}\")\n",
    "print(f\"total time = {tim_tot.tocvalue():.1f}s\")"
   ]
  },
  {
   "cell_type": "code",
   "execution_count": 53,
   "id": "da3c941f-ae6e-410f-b99a-31ca93a7d48a",
   "metadata": {
    "collapsed": false,
    "jupyter": {
     "outputs_hidden": false
    }
   },
   "outputs": [
    {
     "name": "stdout",
     "output_type": "stream",
     "text": [
      "params={'n_comp': 1}, score=6.2727273e-01, \n"
     ]
    },
    {
     "name": "stdout",
     "output_type": "stream",
     "text": [
      "params={'n_comp': 2}, score=6.4090909e-01, \n"
     ]
    },
    {
     "name": "stdout",
     "output_type": "stream",
     "text": [
      "params={'n_comp': 3}, score=6.2272727e-01, \n"
     ]
    },
    {
     "name": "stdout",
     "output_type": "stream",
     "text": [
      "params={'n_comp': 4}, score=6.1818182e-01, \n"
     ]
    },
    {
     "name": "stdout",
     "output_type": "stream",
     "text": [
      "params={'n_comp': 5}, score=6.1818182e-01, \n",
      "--------------------\n",
      " Error:  Input contains infinity or a value too large for dtype('float64').\n",
      "params={'n_comp': 6}, score=nan, \n",
      "--------------------\n",
      " Error:  Input contains infinity or a value too large for dtype('float64').\n",
      "params={'n_comp': 7}, score=nan, \n",
      "--------------------\n",
      " Error:  Input contains infinity or a value too large for dtype('float64').\n",
      "params={'n_comp': 8}, score=nan, \n",
      "--------------------\n",
      " Error:  Input contains infinity or a value too large for dtype('float64').\n",
      "params={'n_comp': 9}, score=nan, \n",
      "--------------------\n",
      " Error:  Input contains infinity or a value too large for dtype('float64').\n",
      "params={'n_comp': 10}, score=nan, \n",
      "--------------------\n",
      " Error:  Input contains infinity or a value too large for dtype('float64').\n",
      "params={'n_comp': 11}, score=nan, \n",
      "--------------------\n",
      " Error:  Input contains infinity or a value too large for dtype('float64').\n",
      "params={'n_comp': 12}, score=nan, \n",
      "--------------------\n",
      " Error:  Input contains infinity or a value too large for dtype('float64').\n",
      "params={'n_comp': 13}, score=nan, \n",
      "--------------------\n",
      " Error:  Input contains infinity or a value too large for dtype('float64').\n",
      "params={'n_comp': 14}, score=nan, \n",
      "--------------------\n",
      " Error:  Input contains infinity or a value too large for dtype('float64').\n",
      "params={'n_comp': 15}, score=nan, \n",
      "--------------------\n",
      " Error:  Input contains infinity or a value too large for dtype('float64').\n",
      "params={'n_comp': 16}, score=nan, \n",
      "--------------------\n",
      " Error:  Input contains infinity or a value too large for dtype('float64').\n",
      "params={'n_comp': 17}, score=nan, \n",
      "--------------------\n",
      " Error:  Input contains infinity or a value too large for dtype('float64').\n",
      "params={'n_comp': 18}, score=nan, \n",
      "--------------------\n",
      " Error:  Input contains infinity or a value too large for dtype('float64').\n",
      "params={'n_comp': 19}, score=nan, \n",
      "--------------------\n",
      " Error:  Input contains infinity or a value too large for dtype('float64').\n",
      "params={'n_comp': 20}, score=nan, \n",
      "--------------------\n",
      " Error:  Input contains infinity or a value too large for dtype('float64').\n",
      "params={'n_comp': 21}, score=nan, \n",
      "--------------------\n",
      " Error:  Input contains infinity or a value too large for dtype('float64').\n",
      "params={'n_comp': 22}, score=nan, \n",
      "--------------------\n",
      " Error:  Input contains infinity or a value too large for dtype('float64').\n",
      "params={'n_comp': 23}, score=nan, \n",
      "--------------------\n",
      " Error:  Input contains infinity or a value too large for dtype('float64').\n",
      "params={'n_comp': 24}, score=nan, \n",
      "--------------------\n",
      " Error:  Input contains infinity or a value too large for dtype('float64').\n",
      "params={'n_comp': 25}, score=nan, \n",
      "--------------------\n",
      " Error:  Input contains infinity or a value too large for dtype('float64').\n",
      "params={'n_comp': 26}, score=nan, \n",
      "--------------------\n",
      " Error:  Input contains infinity or a value too large for dtype('float64').\n",
      "params={'n_comp': 27}, score=nan, \n",
      "--------------------\n",
      " Error:  Input contains infinity or a value too large for dtype('float64').\n",
      "params={'n_comp': 28}, score=nan, \n",
      "--------------------\n",
      " Error:  Input contains infinity or a value too large for dtype('float64').\n",
      "params={'n_comp': 29}, score=nan, \n",
      "--------------------\n",
      " Error:  Input contains infinity or a value too large for dtype('float64').\n",
      "params={'n_comp': 30}, score=nan, \n",
      "--------------------\n",
      " Error:  Input contains infinity or a value too large for dtype('float64').\n",
      "params={'n_comp': 31}, score=nan, \n",
      "--------------------\n",
      " Error:  Input contains infinity or a value too large for dtype('float64').\n",
      "params={'n_comp': 32}, score=nan, \n",
      "--------------------\n",
      " Error:  Input contains infinity or a value too large for dtype('float64').\n",
      "params={'n_comp': 33}, score=nan, \n",
      "--------------------\n",
      " Error:  Input contains infinity or a value too large for dtype('float64').\n",
      "params={'n_comp': 34}, score=nan, \n",
      "--------------------\n",
      " Error:  Input contains infinity or a value too large for dtype('float64').\n",
      "params={'n_comp': 35}, score=nan, \n",
      "--------------------\n",
      " Error:  Input contains infinity or a value too large for dtype('float64').\n",
      "params={'n_comp': 36}, score=nan, \n",
      "--------------------\n",
      " Error:  Input contains infinity or a value too large for dtype('float64').\n",
      "params={'n_comp': 37}, score=nan, \n",
      "--------------------\n",
      " Error:  Input contains infinity or a value too large for dtype('float64').\n",
      "params={'n_comp': 38}, score=nan, \n",
      "--------------------\n",
      " Error:  Input contains infinity or a value too large for dtype('float64').\n",
      "params={'n_comp': 39}, score=nan, \n",
      "--------------------\n",
      " Error:  Input contains infinity or a value too large for dtype('float64').\n",
      "params={'n_comp': 40}, score=nan, \n",
      "--------------------\n",
      " Error:  Input contains infinity or a value too large for dtype('float64').\n",
      "params={'n_comp': 41}, score=nan, \n",
      "--------------------\n",
      " Error:  Input contains infinity or a value too large for dtype('float64').\n",
      "params={'n_comp': 42}, score=nan, \n",
      "--------------------\n",
      " Error:  Input contains infinity or a value too large for dtype('float64').\n",
      "params={'n_comp': 43}, score=nan, \n",
      "--------------------\n",
      " Error:  Input contains infinity or a value too large for dtype('float64').\n",
      "params={'n_comp': 44}, score=nan, \n",
      "--------------------\n",
      " Error:  Input contains infinity or a value too large for dtype('float64').\n",
      "params={'n_comp': 45}, score=nan, \n",
      "--------------------\n",
      " Error:  Input contains infinity or a value too large for dtype('float64').\n",
      "params={'n_comp': 46}, score=nan, \n",
      "--------------------\n",
      " Error:  Input contains infinity or a value too large for dtype('float64').\n",
      "params={'n_comp': 47}, score=nan, \n",
      "--------------------\n",
      " Error:  Input contains infinity or a value too large for dtype('float64').\n",
      "params={'n_comp': 48}, score=nan, \n",
      "--------------------\n",
      " Error:  Input contains infinity or a value too large for dtype('float64').\n",
      "params={'n_comp': 49}, score=nan, \n",
      "\n",
      "best parameter: {'n_comp': 2}; score: 6.4090909e-01; \n"
     ]
    }
   ],
   "source": [
    " import Code.CIPLS\n",
    "importlib.reload(Code.CIPLS)\n",
    "from Code.CIPLS import CIPLS\n",
    "\n",
    "n_comp_lst=list(range(1,50))\n",
    "scores = []\n",
    "params = []\n",
    "for n_comp in n_comp_lst:\n",
    "    pls = CIPLS(n_components=n_comp)\n",
    "    scores.append(Batch_Update_CV(pls))\n",
    "    params.append({'n_comp': n_comp})\n",
    "    print(f\"params={params[-1]}, score={scores[-1]:.7e}, \")\n",
    "\n",
    "best_ind = np.nanargmax(scores)\n",
    "print(\"\")\n",
    "print(f\"best parameter: {params[best_ind]}; score: {scores[best_ind]:.7e}; \")"
   ]
  },
  {
   "cell_type": "code",
   "execution_count": 4,
   "id": "6b186b4a-6f9a-44ac-8104-fcd3306c7826",
   "metadata": {
    "collapsed": false
   },
   "outputs": [
    {
     "name": "stdout",
     "output_type": "stream",
     "text": [
      "params={'n_comp': 1}, score=6.2727273e-01, \n"
     ]
    },
    {
     "name": "stdout",
     "output_type": "stream",
     "text": [
      "params={'n_comp': 2}, score=6.5909091e-01, \n"
     ]
    },
    {
     "name": "stdout",
     "output_type": "stream",
     "text": [
      "params={'n_comp': 3}, score=6.9545455e-01, \n"
     ]
    },
    {
     "name": "stdout",
     "output_type": "stream",
     "text": [
      "params={'n_comp': 4}, score=7.0454545e-01, \n"
     ]
    },
    {
     "name": "stdout",
     "output_type": "stream",
     "text": [
      "params={'n_comp': 5}, score=7.0000000e-01, \n"
     ]
    },
    {
     "name": "stdout",
     "output_type": "stream",
     "text": [
      "params={'n_comp': 6}, score=6.8181818e-01, \n"
     ]
    },
    {
     "name": "stdout",
     "output_type": "stream",
     "text": [
      "params={'n_comp': 7}, score=7.1363636e-01, \n"
     ]
    },
    {
     "name": "stdout",
     "output_type": "stream",
     "text": [
      "params={'n_comp': 8}, score=7.1363636e-01, \n"
     ]
    },
    {
     "name": "stdout",
     "output_type": "stream",
     "text": [
      "params={'n_comp': 9}, score=7.1363636e-01, \n"
     ]
    },
    {
     "name": "stdout",
     "output_type": "stream",
     "text": [
      "params={'n_comp': 10}, score=7.1363636e-01, \n"
     ]
    },
    {
     "name": "stdout",
     "output_type": "stream",
     "text": [
      "params={'n_comp': 11}, score=7.1363636e-01, \n"
     ]
    },
    {
     "name": "stdout",
     "output_type": "stream",
     "text": [
      "params={'n_comp': 12}, score=7.1363636e-01, \n"
     ]
    },
    {
     "name": "stdout",
     "output_type": "stream",
     "text": [
      "params={'n_comp': 13}, score=7.1363636e-01, \n"
     ]
    },
    {
     "name": "stdout",
     "output_type": "stream",
     "text": [
      "params={'n_comp': 14}, score=7.1363636e-01, \n"
     ]
    },
    {
     "name": "stdout",
     "output_type": "stream",
     "text": [
      "params={'n_comp': 15}, score=7.1363636e-01, \n"
     ]
    },
    {
     "name": "stdout",
     "output_type": "stream",
     "text": [
      "params={'n_comp': 16}, score=7.1363636e-01, \n"
     ]
    },
    {
     "name": "stdout",
     "output_type": "stream",
     "text": [
      "params={'n_comp': 17}, score=7.1363636e-01, \n"
     ]
    },
    {
     "name": "stdout",
     "output_type": "stream",
     "text": [
      "params={'n_comp': 18}, score=7.1363636e-01, \n"
     ]
    },
    {
     "name": "stdout",
     "output_type": "stream",
     "text": [
      "params={'n_comp': 19}, score=7.1363636e-01, \n"
     ]
    },
    {
     "name": "stdout",
     "output_type": "stream",
     "text": [
      "params={'n_comp': 20}, score=7.1363636e-01, \n"
     ]
    },
    {
     "name": "stdout",
     "output_type": "stream",
     "text": [
      "params={'n_comp': 21}, score=7.1363636e-01, \n"
     ]
    },
    {
     "name": "stdout",
     "output_type": "stream",
     "text": [
      "params={'n_comp': 22}, score=7.1363636e-01, \n"
     ]
    },
    {
     "name": "stdout",
     "output_type": "stream",
     "text": [
      "params={'n_comp': 23}, score=7.1363636e-01, \n"
     ]
    },
    {
     "name": "stdout",
     "output_type": "stream",
     "text": [
      "params={'n_comp': 24}, score=7.1363636e-01, \n"
     ]
    },
    {
     "name": "stdout",
     "output_type": "stream",
     "text": [
      "params={'n_comp': 25}, score=7.1363636e-01, \n"
     ]
    },
    {
     "name": "stdout",
     "output_type": "stream",
     "text": [
      "params={'n_comp': 26}, score=7.1363636e-01, \n"
     ]
    },
    {
     "name": "stdout",
     "output_type": "stream",
     "text": [
      "params={'n_comp': 27}, score=7.1363636e-01, \n"
     ]
    },
    {
     "name": "stdout",
     "output_type": "stream",
     "text": [
      "params={'n_comp': 28}, score=7.1363636e-01, \n"
     ]
    },
    {
     "name": "stdout",
     "output_type": "stream",
     "text": [
      "params={'n_comp': 29}, score=7.1363636e-01, \n"
     ]
    },
    {
     "name": "stdout",
     "output_type": "stream",
     "text": [
      "params={'n_comp': 30}, score=7.1363636e-01, \n"
     ]
    },
    {
     "name": "stdout",
     "output_type": "stream",
     "text": [
      "params={'n_comp': 31}, score=7.1363636e-01, \n"
     ]
    },
    {
     "name": "stdout",
     "output_type": "stream",
     "text": [
      "params={'n_comp': 32}, score=7.1363636e-01, \n"
     ]
    },
    {
     "name": "stdout",
     "output_type": "stream",
     "text": [
      "params={'n_comp': 33}, score=7.1363636e-01, \n"
     ]
    },
    {
     "name": "stdout",
     "output_type": "stream",
     "text": [
      "params={'n_comp': 34}, score=7.1363636e-01, \n"
     ]
    },
    {
     "name": "stdout",
     "output_type": "stream",
     "text": [
      "params={'n_comp': 35}, score=7.1363636e-01, \n"
     ]
    },
    {
     "name": "stdout",
     "output_type": "stream",
     "text": [
      "params={'n_comp': 36}, score=7.1363636e-01, \n"
     ]
    },
    {
     "name": "stdout",
     "output_type": "stream",
     "text": [
      "params={'n_comp': 37}, score=7.1363636e-01, \n"
     ]
    },
    {
     "name": "stdout",
     "output_type": "stream",
     "text": [
      "params={'n_comp': 38}, score=7.1363636e-01, \n"
     ]
    },
    {
     "name": "stdout",
     "output_type": "stream",
     "text": [
      "params={'n_comp': 39}, score=7.1363636e-01, \n"
     ]
    },
    {
     "name": "stdout",
     "output_type": "stream",
     "text": [
      "params={'n_comp': 40}, score=7.1363636e-01, \n"
     ]
    },
    {
     "name": "stdout",
     "output_type": "stream",
     "text": [
      "params={'n_comp': 41}, score=7.1363636e-01, \n"
     ]
    },
    {
     "name": "stdout",
     "output_type": "stream",
     "text": [
      "params={'n_comp': 42}, score=7.1363636e-01, \n"
     ]
    },
    {
     "name": "stdout",
     "output_type": "stream",
     "text": [
      "params={'n_comp': 43}, score=7.1363636e-01, \n"
     ]
    },
    {
     "name": "stdout",
     "output_type": "stream",
     "text": [
      "params={'n_comp': 44}, score=7.1363636e-01, \n"
     ]
    },
    {
     "name": "stdout",
     "output_type": "stream",
     "text": [
      "params={'n_comp': 45}, score=7.1363636e-01, \n"
     ]
    },
    {
     "name": "stdout",
     "output_type": "stream",
     "text": [
      "params={'n_comp': 46}, score=7.1363636e-01, \n"
     ]
    },
    {
     "name": "stdout",
     "output_type": "stream",
     "text": [
      "params={'n_comp': 47}, score=7.1363636e-01, \n"
     ]
    },
    {
     "name": "stdout",
     "output_type": "stream",
     "text": [
      "params={'n_comp': 48}, score=7.1363636e-01, \n"
     ]
    },
    {
     "name": "stdout",
     "output_type": "stream",
     "text": [
      "params={'n_comp': 49}, score=7.1363636e-01, \n",
      "\n",
      "best parameter: {'n_comp': 7}; score: 7.1363636e-01; \n"
     ]
    }
   ],
   "source": [
    " import Code.IPLS\n",
    "importlib.reload(Code.IPLS)\n",
    "from Code.IPLS import IPLS\n",
    "\n",
    "n_comp_lst=list(range(1,50))\n",
    "scores = []\n",
    "params = []\n",
    "for n_comp in n_comp_lst:\n",
    "    pls = IPLS(n_components=n_comp)\n",
    "    scores.append(Batch_Update_CV(pls))\n",
    "    params.append({'n_comp': n_comp})\n",
    "    print(f\"params={params[-1]}, score={scores[-1]:.7e}, \")\n",
    "\n",
    "best_ind = np.nanargmax(scores)\n",
    "print(\"\")\n",
    "print(f\"best parameter: {params[best_ind]}; score: {scores[best_ind]:.7e}; \")"
   ]
  },
  {
   "cell_type": "code",
   "execution_count": null,
   "id": "0e441136-496c-44e8-9901-64e3f3b0e3b1",
   "metadata": {
    "collapsed": false
   },
   "outputs": [],
   "source": []
  }
 ],
 "metadata": {
  "kernelspec": {
   "argv": [
    "/home/tingan/miniconda3/envs/pls/bin/python",
    "-m",
    "ipykernel_launcher",
    "-f",
    "{connection_file}"
   ],
   "display_name": "Python 3 (ipykernel)",
   "env": null,
   "interrupt_mode": "signal",
   "language": "python",
   "metadata": {
    "debugger": true
   },
   "name": "python3"
  },
  "language_info": {
   "codemirror_mode": {
    "name": "ipython",
    "version": 3
   },
   "file_extension": ".py",
   "mimetype": "text/x-python",
   "name": "python",
   "nbconvert_exporter": "python",
   "pygments_lexer": "ipython3",
   "version": "3.9.15"
  },
  "name": "CV_LFW.ipynb"
 },
 "nbformat": 4,
 "nbformat_minor": 5
}
