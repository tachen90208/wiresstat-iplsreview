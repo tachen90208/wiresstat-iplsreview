{
 "cells": [
  {
   "cell_type": "code",
   "execution_count": 1,
   "id": "1fa47994-c7dd-4961-a181-549a7ba83e0a",
   "metadata": {
    "collapsed": false,
    "jupyter": {
     "outputs_hidden": false
    }
   },
   "outputs": [],
   "source": [
    "import importlib\n",
    "from sklearn.metrics import accuracy_score\n",
    "import copy\n",
    "from sklearn.model_selection import GridSearchCV, KFold, train_test_split\n",
    "from sklearn.utils import gen_batches\n",
    "from sklearn.linear_model import LogisticRegression\n",
    "from sklearn.cross_decomposition import PLSRegression\n",
    "import numpy as np\n",
    "from numpy.linalg import norm\n",
    "# ----------------------------------------\n",
    "from skopt.space import Integer, Real\n",
    "from skopt.utils import use_named_args\n",
    "from skopt import gp_minimize\n",
    "# ----------------------------------------\n",
    "\n",
    "# import warnings\n",
    "# warnings.filterwarnings('ignore')\n",
    "\n",
    "from pytictoc import TicToc\n",
    "tim=TicToc()\n",
    "tim_tot = TicToc()"
   ]
  },
  {
   "cell_type": "code",
   "execution_count": 2,
   "id": "7923ec1f-55c0-4800-949a-217b41582331",
   "metadata": {
    "collapsed": false,
    "jupyter": {
     "outputs_hidden": false
    }
   },
   "outputs": [
    {
     "name": "stdout",
     "output_type": "stream",
     "text": [
      "(2200, 512)\n",
      "(1000, 512)\n",
      "(2200,)\n",
      "(1000,)\n"
     ]
    }
   ],
   "source": [
    "with np.load(\"./data/lfw.npz\") as data:\n",
    "    fea_train = data['fea_train']\n",
    "    fea_test  = data['fea_test']\n",
    "    X_train    = data['X_train']\n",
    "    label_train    = data['y_train']\n",
    "    X_test    = data['X_test']\n",
    "    label_test    = data['y_test']\n",
    "print(fea_train.shape)\n",
    "print(fea_test.shape)\n",
    "# print(X_train.shape)\n",
    "# print(X_test.shape)\n",
    "print(label_train.shape)\n",
    "print(label_test.shape)"
   ]
  },
  {
   "cell_type": "code",
   "execution_count": 3,
   "id": "077d81fa-6276-446a-a457-5dd5089bf798",
   "metadata": {
    "collapsed": false,
    "jupyter": {
     "outputs_hidden": false
    }
   },
   "outputs": [],
   "source": [
    "X_train, X_test, y_train, y_test = train_test_split(\n",
    "    fea_train, label_train, test_size=0.1, random_state=42)\n",
    "\n",
    "def Batch_Update_CV(pls_i):\n",
    "    pls = copy.deepcopy(pls_i)\n",
    "    X_score_train = np.zeros((X_train.shape[0], 1))\n",
    "    # try:\n",
    "    for i,batch in enumerate(gen_batches(X_train.shape[0], 100)):\n",
    "        pls.fit(X_train[batch], y_train[batch])\n",
    "        X_score_train[batch] = norm(pls.transform(X_train[batch]), ord=1, axis=1, keepdims=True)\n",
    "\n",
    "    X_score_test  = norm(pls.transform(X_test), ord=1, axis=1, keepdims=True)\n",
    "    y_pred = LogisticRegression(penalty=None).fit(X_score_train, y_train) \\\n",
    "                                             .predict(X_score_test)\n",
    "    score = accuracy_score(y_test, y_pred)\n",
    "    # except Exception as e:\n",
    "    #     print(\"-\"*20)\n",
    "    #     print(\" Error: \", e)\n",
    "    #     score = np.nan\n",
    "    return score\n",
    "\n",
    "def Model_Score(pls):\n",
    "    pls.fit(X_train, y_train)\n",
    "    X_score_train = norm(pls.transform(X_train), ord=1, axis=1, keepdims=True)\n",
    "    X_score_test  = norm(pls.transform(X_test), ord=1, axis=1, keepdims=True)\n",
    "    y_pred = LogisticRegression(penalty=None).fit(X_score_train, y_train) \\\n",
    "                                             .predict(X_score_test)\n",
    "\n",
    "    return accuracy_score(y_test, y_pred)"
   ]
  },
  {
   "cell_type": "code",
   "execution_count": 5,
   "id": "71372619-1570-4672-96b6-430f3d83f33d",
   "metadata": {
    "collapsed": false,
    "jupyter": {
     "outputs_hidden": false
    }
   },
   "outputs": [
    {
     "name": "stdout",
     "output_type": "stream",
     "text": [
      "params={'n_comp': 1}, score=6.2727273e-01, \n",
      "params={'n_comp': 2}, score=6.8636364e-01, \n",
      "params={'n_comp': 3}, score=7.3181818e-01, \n"
     ]
    },
    {
     "name": "stdout",
     "output_type": "stream",
     "text": [
      "params={'n_comp': 4}, score=7.1363636e-01, \n",
      "params={'n_comp': 5}, score=7.3636364e-01, \n"
     ]
    },
    {
     "name": "stdout",
     "output_type": "stream",
     "text": [
      "params={'n_comp': 6}, score=7.5454545e-01, \n",
      "params={'n_comp': 7}, score=7.5909091e-01, \n",
      "params={'n_comp': 8}, score=7.8636364e-01, \n"
     ]
    },
    {
     "name": "stdout",
     "output_type": "stream",
     "text": [
      "params={'n_comp': 9}, score=7.9090909e-01, \n",
      "params={'n_comp': 10}, score=7.9545455e-01, \n",
      "params={'n_comp': 11}, score=7.8636364e-01, \n"
     ]
    },
    {
     "name": "stdout",
     "output_type": "stream",
     "text": [
      "params={'n_comp': 12}, score=8.0000000e-01, \n",
      "params={'n_comp': 13}, score=7.9090909e-01, \n"
     ]
    },
    {
     "name": "stdout",
     "output_type": "stream",
     "text": [
      "params={'n_comp': 14}, score=7.8636364e-01, \n",
      "params={'n_comp': 15}, score=7.9545455e-01, \n"
     ]
    },
    {
     "name": "stdout",
     "output_type": "stream",
     "text": [
      "params={'n_comp': 16}, score=8.0000000e-01, \n",
      "params={'n_comp': 17}, score=8.0454545e-01, \n"
     ]
    },
    {
     "name": "stdout",
     "output_type": "stream",
     "text": [
      "params={'n_comp': 18}, score=8.0909091e-01, \n"
     ]
    },
    {
     "name": "stdout",
     "output_type": "stream",
     "text": [
      "params={'n_comp': 19}, score=8.1818182e-01, \n",
      "params={'n_comp': 20}, score=8.1818182e-01, \n"
     ]
    },
    {
     "name": "stdout",
     "output_type": "stream",
     "text": [
      "params={'n_comp': 21}, score=8.2727273e-01, \n",
      "params={'n_comp': 22}, score=8.0454545e-01, \n"
     ]
    },
    {
     "name": "stdout",
     "output_type": "stream",
     "text": [
      "params={'n_comp': 23}, score=8.0454545e-01, \n",
      "params={'n_comp': 24}, score=8.1818182e-01, \n"
     ]
    },
    {
     "name": "stdout",
     "output_type": "stream",
     "text": [
      "params={'n_comp': 25}, score=8.3636364e-01, \n",
      "params={'n_comp': 26}, score=8.2272727e-01, \n"
     ]
    },
    {
     "name": "stdout",
     "output_type": "stream",
     "text": [
      "params={'n_comp': 27}, score=8.3636364e-01, \n",
      "params={'n_comp': 28}, score=8.3181818e-01, \n"
     ]
    },
    {
     "name": "stdout",
     "output_type": "stream",
     "text": [
      "params={'n_comp': 29}, score=8.2727273e-01, \n",
      "params={'n_comp': 30}, score=8.4545455e-01, \n"
     ]
    },
    {
     "name": "stdout",
     "output_type": "stream",
     "text": [
      "params={'n_comp': 31}, score=8.5454545e-01, \n",
      "params={'n_comp': 32}, score=8.4545455e-01, \n"
     ]
    },
    {
     "name": "stdout",
     "output_type": "stream",
     "text": [
      "params={'n_comp': 33}, score=8.5000000e-01, \n"
     ]
    },
    {
     "name": "stdout",
     "output_type": "stream",
     "text": [
      "params={'n_comp': 34}, score=8.3636364e-01, \n"
     ]
    },
    {
     "name": "stdout",
     "output_type": "stream",
     "text": [
      "params={'n_comp': 35}, score=8.4090909e-01, \n"
     ]
    },
    {
     "name": "stdout",
     "output_type": "stream",
     "text": [
      "params={'n_comp': 36}, score=8.3181818e-01, \n"
     ]
    },
    {
     "name": "stdout",
     "output_type": "stream",
     "text": [
      "params={'n_comp': 37}, score=8.3181818e-01, \n"
     ]
    },
    {
     "name": "stdout",
     "output_type": "stream",
     "text": [
      "params={'n_comp': 38}, score=8.5000000e-01, \n"
     ]
    },
    {
     "name": "stdout",
     "output_type": "stream",
     "text": [
      "params={'n_comp': 39}, score=8.4545455e-01, \n"
     ]
    },
    {
     "name": "stdout",
     "output_type": "stream",
     "text": [
      "params={'n_comp': 40}, score=8.3181818e-01, \n"
     ]
    },
    {
     "name": "stdout",
     "output_type": "stream",
     "text": [
      "params={'n_comp': 41}, score=8.3181818e-01, \n"
     ]
    },
    {
     "name": "stdout",
     "output_type": "stream",
     "text": [
      "params={'n_comp': 42}, score=8.5000000e-01, \n"
     ]
    },
    {
     "name": "stdout",
     "output_type": "stream",
     "text": [
      "params={'n_comp': 43}, score=8.5454545e-01, \n"
     ]
    },
    {
     "name": "stdout",
     "output_type": "stream",
     "text": [
      "params={'n_comp': 44}, score=8.5454545e-01, \n"
     ]
    },
    {
     "name": "stdout",
     "output_type": "stream",
     "text": [
      "params={'n_comp': 45}, score=8.4090909e-01, \n"
     ]
    },
    {
     "name": "stdout",
     "output_type": "stream",
     "text": [
      "params={'n_comp': 46}, score=8.3181818e-01, \n"
     ]
    },
    {
     "name": "stdout",
     "output_type": "stream",
     "text": [
      "params={'n_comp': 47}, score=8.3636364e-01, \n"
     ]
    },
    {
     "name": "stdout",
     "output_type": "stream",
     "text": [
      "params={'n_comp': 48}, score=8.3636364e-01, \n"
     ]
    },
    {
     "name": "stdout",
     "output_type": "stream",
     "text": [
      "params={'n_comp': 49}, score=8.3181818e-01, \n"
     ]
    },
    {
     "name": "stdout",
     "output_type": "stream",
     "text": [
      "params={'n_comp': 50}, score=8.3636364e-01, \n"
     ]
    },
    {
     "name": "stdout",
     "output_type": "stream",
     "text": [
      "params={'n_comp': 51}, score=8.2727273e-01, \n"
     ]
    },
    {
     "name": "stdout",
     "output_type": "stream",
     "text": [
      "params={'n_comp': 52}, score=8.2727273e-01, \n"
     ]
    },
    {
     "name": "stdout",
     "output_type": "stream",
     "text": [
      "params={'n_comp': 53}, score=8.2727273e-01, \n"
     ]
    },
    {
     "name": "stdout",
     "output_type": "stream",
     "text": [
      "params={'n_comp': 54}, score=8.3181818e-01, \n"
     ]
    },
    {
     "name": "stdout",
     "output_type": "stream",
     "text": [
      "params={'n_comp': 55}, score=8.2727273e-01, \n"
     ]
    },
    {
     "name": "stdout",
     "output_type": "stream",
     "text": [
      "params={'n_comp': 56}, score=8.3181818e-01, \n"
     ]
    },
    {
     "name": "stdout",
     "output_type": "stream",
     "text": [
      "params={'n_comp': 57}, score=8.3181818e-01, \n"
     ]
    },
    {
     "name": "stdout",
     "output_type": "stream",
     "text": [
      "params={'n_comp': 58}, score=8.2272727e-01, \n"
     ]
    },
    {
     "name": "stdout",
     "output_type": "stream",
     "text": [
      "params={'n_comp': 59}, score=8.1818182e-01, \n"
     ]
    },
    {
     "name": "stdout",
     "output_type": "stream",
     "text": [
      "params={'n_comp': 60}, score=8.3181818e-01, \n"
     ]
    },
    {
     "name": "stdout",
     "output_type": "stream",
     "text": [
      "params={'n_comp': 61}, score=8.2272727e-01, \n"
     ]
    },
    {
     "name": "stdout",
     "output_type": "stream",
     "text": [
      "params={'n_comp': 62}, score=8.2727273e-01, \n"
     ]
    },
    {
     "name": "stdout",
     "output_type": "stream",
     "text": [
      "params={'n_comp': 63}, score=8.3636364e-01, \n"
     ]
    },
    {
     "name": "stdout",
     "output_type": "stream",
     "text": [
      "params={'n_comp': 64}, score=8.3636364e-01, \n"
     ]
    },
    {
     "name": "stdout",
     "output_type": "stream",
     "text": [
      "params={'n_comp': 65}, score=8.3181818e-01, \n"
     ]
    },
    {
     "name": "stdout",
     "output_type": "stream",
     "text": [
      "params={'n_comp': 66}, score=8.2272727e-01, \n"
     ]
    },
    {
     "name": "stdout",
     "output_type": "stream",
     "text": [
      "params={'n_comp': 67}, score=8.2727273e-01, \n"
     ]
    },
    {
     "name": "stdout",
     "output_type": "stream",
     "text": [
      "params={'n_comp': 68}, score=8.3636364e-01, \n"
     ]
    },
    {
     "name": "stdout",
     "output_type": "stream",
     "text": [
      "params={'n_comp': 69}, score=8.2727273e-01, \n"
     ]
    },
    {
     "name": "stdout",
     "output_type": "stream",
     "text": [
      "params={'n_comp': 70}, score=8.2727273e-01, \n"
     ]
    },
    {
     "name": "stdout",
     "output_type": "stream",
     "text": [
      "params={'n_comp': 71}, score=8.2727273e-01, \n"
     ]
    },
    {
     "name": "stdout",
     "output_type": "stream",
     "text": [
      "params={'n_comp': 72}, score=8.3636364e-01, \n"
     ]
    },
    {
     "name": "stdout",
     "output_type": "stream",
     "text": [
      "params={'n_comp': 73}, score=8.2272727e-01, \n"
     ]
    },
    {
     "name": "stdout",
     "output_type": "stream",
     "text": [
      "params={'n_comp': 74}, score=8.2272727e-01, \n"
     ]
    },
    {
     "name": "stdout",
     "output_type": "stream",
     "text": [
      "params={'n_comp': 75}, score=8.2727273e-01, \n"
     ]
    },
    {
     "name": "stdout",
     "output_type": "stream",
     "text": [
      "params={'n_comp': 76}, score=8.2272727e-01, \n"
     ]
    },
    {
     "name": "stdout",
     "output_type": "stream",
     "text": [
      "params={'n_comp': 77}, score=8.1363636e-01, \n"
     ]
    },
    {
     "name": "stdout",
     "output_type": "stream",
     "text": [
      "params={'n_comp': 78}, score=8.0909091e-01, \n"
     ]
    },
    {
     "name": "stdout",
     "output_type": "stream",
     "text": [
      "params={'n_comp': 79}, score=8.0909091e-01, \n"
     ]
    },
    {
     "name": "stdout",
     "output_type": "stream",
     "text": [
      "params={'n_comp': 80}, score=8.0909091e-01, \n"
     ]
    },
    {
     "name": "stdout",
     "output_type": "stream",
     "text": [
      "params={'n_comp': 81}, score=8.1818182e-01, \n"
     ]
    },
    {
     "name": "stdout",
     "output_type": "stream",
     "text": [
      "params={'n_comp': 82}, score=8.1363636e-01, \n"
     ]
    },
    {
     "name": "stdout",
     "output_type": "stream",
     "text": [
      "params={'n_comp': 83}, score=8.0909091e-01, \n"
     ]
    },
    {
     "name": "stdout",
     "output_type": "stream",
     "text": [
      "params={'n_comp': 84}, score=8.1363636e-01, \n"
     ]
    },
    {
     "name": "stdout",
     "output_type": "stream",
     "text": [
      "params={'n_comp': 85}, score=8.1363636e-01, \n"
     ]
    },
    {
     "name": "stdout",
     "output_type": "stream",
     "text": [
      "params={'n_comp': 86}, score=8.0454545e-01, \n"
     ]
    },
    {
     "name": "stdout",
     "output_type": "stream",
     "text": [
      "params={'n_comp': 87}, score=8.1363636e-01, \n"
     ]
    },
    {
     "name": "stdout",
     "output_type": "stream",
     "text": [
      "params={'n_comp': 88}, score=8.1363636e-01, \n"
     ]
    },
    {
     "name": "stdout",
     "output_type": "stream",
     "text": [
      "params={'n_comp': 89}, score=8.0454545e-01, \n"
     ]
    },
    {
     "name": "stdout",
     "output_type": "stream",
     "text": [
      "params={'n_comp': 90}, score=8.1363636e-01, \n"
     ]
    },
    {
     "name": "stdout",
     "output_type": "stream",
     "text": [
      "params={'n_comp': 91}, score=8.2727273e-01, \n"
     ]
    },
    {
     "name": "stdout",
     "output_type": "stream",
     "text": [
      "params={'n_comp': 92}, score=8.1818182e-01, \n"
     ]
    },
    {
     "name": "stdout",
     "output_type": "stream",
     "text": [
      "params={'n_comp': 93}, score=8.1363636e-01, \n"
     ]
    },
    {
     "name": "stdout",
     "output_type": "stream",
     "text": [
      "params={'n_comp': 94}, score=8.1818182e-01, \n"
     ]
    },
    {
     "name": "stdout",
     "output_type": "stream",
     "text": [
      "params={'n_comp': 95}, score=8.1363636e-01, \n"
     ]
    },
    {
     "name": "stdout",
     "output_type": "stream",
     "text": [
      "params={'n_comp': 96}, score=8.1363636e-01, \n"
     ]
    },
    {
     "name": "stdout",
     "output_type": "stream",
     "text": [
      "params={'n_comp': 97}, score=8.0909091e-01, \n"
     ]
    },
    {
     "name": "stdout",
     "output_type": "stream",
     "text": [
      "params={'n_comp': 98}, score=8.0909091e-01, \n"
     ]
    },
    {
     "name": "stdout",
     "output_type": "stream",
     "text": [
      "params={'n_comp': 99}, score=8.0909091e-01, \n",
      "\n",
      "best parameter: {'n_comp': 31}; score: 8.5454545e-01; \n"
     ]
    }
   ],
   "source": [
    "n_Comp_lst=list(range(1,100))\n",
    "scores = []\n",
    "params = []\n",
    "for n_comp in n_comp_lst:\n",
    "    pls = PLSRegression(n_components=n_comp, scale=False)\n",
    "    scores.append(Model_Score(pls, fea_train, label_train))\n",
    "    params.append({'n_comp': n_comp})\n",
    "    print(f\"params={params[-1]}, score={scores[-1]:.7e}, \")\n",
    "\n",
    "best_ind = np.nanargmax(scores)\n",
    "print(\"\")\n",
    "print(f\"best parameter: {params[best_ind]}; score: {scores[best_ind]:.7e}; \")\n",
    "\n",
    "\n"
   ]
  },
  {
   "cell_type": "code",
   "execution_count": 13,
   "id": "85853f42-129b-4e11-933a-7bd3149cf0d4",
   "metadata": {
    "collapsed": false,
    "jupyter": {
     "outputs_hidden": false
    }
   },
   "outputs": [
    {
     "name": "stdout",
     "output_type": "stream",
     "text": [
      "params={'n_comp': 1}, score=6.2727273e-01, \n",
      "params={'n_comp': 2}, score=6.9545455e-01, \n",
      "params={'n_comp': 3}, score=7.2727273e-01, \n",
      "params={'n_comp': 4}, score=7.1818182e-01, \n",
      "params={'n_comp': 5}, score=7.1818182e-01, \n",
      "params={'n_comp': 6}, score=7.2727273e-01, \n",
      "params={'n_comp': 7}, score=7.5000000e-01, \n"
     ]
    },
    {
     "name": "stdout",
     "output_type": "stream",
     "text": [
      "params={'n_comp': 8}, score=7.6363636e-01, \n",
      "params={'n_comp': 9}, score=7.7727273e-01, \n",
      "params={'n_comp': 10}, score=7.7272727e-01, \n",
      "params={'n_comp': 11}, score=7.8181818e-01, \n",
      "params={'n_comp': 12}, score=7.8636364e-01, \n",
      "params={'n_comp': 13}, score=7.9090909e-01, \n"
     ]
    },
    {
     "name": "stdout",
     "output_type": "stream",
     "text": [
      "params={'n_comp': 14}, score=7.8636364e-01, \n",
      "params={'n_comp': 15}, score=7.8181818e-01, \n",
      "params={'n_comp': 16}, score=7.7272727e-01, \n",
      "params={'n_comp': 17}, score=8.0909091e-01, \n",
      "params={'n_comp': 18}, score=8.1363636e-01, \n"
     ]
    },
    {
     "name": "stdout",
     "output_type": "stream",
     "text": [
      "params={'n_comp': 19}, score=8.1363636e-01, \n",
      "params={'n_comp': 20}, score=8.0909091e-01, \n",
      "params={'n_comp': 21}, score=8.2272727e-01, \n",
      "params={'n_comp': 22}, score=8.0909091e-01, \n"
     ]
    },
    {
     "name": "stdout",
     "output_type": "stream",
     "text": [
      "params={'n_comp': 23}, score=8.0909091e-01, \n",
      "params={'n_comp': 24}, score=8.3181818e-01, \n",
      "params={'n_comp': 25}, score=8.4545455e-01, \n",
      "params={'n_comp': 26}, score=8.3636364e-01, \n"
     ]
    },
    {
     "name": "stdout",
     "output_type": "stream",
     "text": [
      "params={'n_comp': 27}, score=8.3636364e-01, \n",
      "params={'n_comp': 28}, score=8.4545455e-01, \n",
      "params={'n_comp': 29}, score=8.4090909e-01, \n",
      "params={'n_comp': 30}, score=8.5000000e-01, \n"
     ]
    },
    {
     "name": "stdout",
     "output_type": "stream",
     "text": [
      "params={'n_comp': 31}, score=8.5454545e-01, \n",
      "params={'n_comp': 32}, score=8.5454545e-01, \n",
      "params={'n_comp': 33}, score=8.5909091e-01, \n",
      "params={'n_comp': 34}, score=8.6818182e-01, \n"
     ]
    },
    {
     "name": "stdout",
     "output_type": "stream",
     "text": [
      "params={'n_comp': 35}, score=8.5000000e-01, \n",
      "params={'n_comp': 36}, score=8.5000000e-01, \n",
      "params={'n_comp': 37}, score=8.4090909e-01, \n",
      "params={'n_comp': 38}, score=8.5000000e-01, \n"
     ]
    },
    {
     "name": "stdout",
     "output_type": "stream",
     "text": [
      "params={'n_comp': 39}, score=8.5000000e-01, \n",
      "params={'n_comp': 40}, score=8.5000000e-01, \n",
      "params={'n_comp': 41}, score=8.5909091e-01, \n",
      "params={'n_comp': 42}, score=8.5454545e-01, \n"
     ]
    },
    {
     "name": "stdout",
     "output_type": "stream",
     "text": [
      "params={'n_comp': 43}, score=8.5000000e-01, \n",
      "params={'n_comp': 44}, score=8.5000000e-01, \n",
      "params={'n_comp': 45}, score=8.4090909e-01, \n",
      "params={'n_comp': 46}, score=8.4090909e-01, \n"
     ]
    },
    {
     "name": "stdout",
     "output_type": "stream",
     "text": [
      "params={'n_comp': 47}, score=8.3636364e-01, \n",
      "params={'n_comp': 48}, score=8.3636364e-01, \n",
      "params={'n_comp': 49}, score=8.3181818e-01, \n",
      "params={'n_comp': 50}, score=8.3181818e-01, \n"
     ]
    },
    {
     "name": "stdout",
     "output_type": "stream",
     "text": [
      "params={'n_comp': 51}, score=8.3181818e-01, \n",
      "params={'n_comp': 52}, score=8.3636364e-01, \n",
      "params={'n_comp': 53}, score=8.4545455e-01, \n",
      "params={'n_comp': 54}, score=8.2727273e-01, \n"
     ]
    },
    {
     "name": "stdout",
     "output_type": "stream",
     "text": [
      "params={'n_comp': 55}, score=8.2727273e-01, \n",
      "params={'n_comp': 56}, score=8.3636364e-01, \n",
      "params={'n_comp': 57}, score=8.3181818e-01, \n"
     ]
    },
    {
     "name": "stdout",
     "output_type": "stream",
     "text": [
      "params={'n_comp': 58}, score=8.3181818e-01, \n",
      "params={'n_comp': 59}, score=8.3181818e-01, \n",
      "params={'n_comp': 60}, score=8.3636364e-01, \n"
     ]
    },
    {
     "name": "stdout",
     "output_type": "stream",
     "text": [
      "params={'n_comp': 61}, score=8.3181818e-01, \n",
      "params={'n_comp': 62}, score=8.3181818e-01, \n",
      "params={'n_comp': 63}, score=8.2727273e-01, \n"
     ]
    },
    {
     "name": "stdout",
     "output_type": "stream",
     "text": [
      "params={'n_comp': 64}, score=8.2727273e-01, \n",
      "params={'n_comp': 65}, score=8.2727273e-01, \n",
      "params={'n_comp': 66}, score=8.2727273e-01, \n"
     ]
    },
    {
     "name": "stdout",
     "output_type": "stream",
     "text": [
      "params={'n_comp': 67}, score=8.1818182e-01, \n",
      "params={'n_comp': 68}, score=8.1363636e-01, \n",
      "params={'n_comp': 69}, score=8.1818182e-01, \n"
     ]
    },
    {
     "name": "stdout",
     "output_type": "stream",
     "text": [
      "params={'n_comp': 70}, score=8.1818182e-01, \n",
      "params={'n_comp': 71}, score=8.1818182e-01, \n",
      "params={'n_comp': 72}, score=8.1818182e-01, \n"
     ]
    },
    {
     "name": "stdout",
     "output_type": "stream",
     "text": [
      "params={'n_comp': 73}, score=8.1818182e-01, \n",
      "params={'n_comp': 74}, score=8.1363636e-01, \n",
      "params={'n_comp': 75}, score=8.2727273e-01, \n"
     ]
    },
    {
     "name": "stdout",
     "output_type": "stream",
     "text": [
      "params={'n_comp': 76}, score=8.1818182e-01, \n",
      "params={'n_comp': 77}, score=8.1363636e-01, \n",
      "params={'n_comp': 78}, score=8.0000000e-01, \n"
     ]
    },
    {
     "name": "stdout",
     "output_type": "stream",
     "text": [
      "params={'n_comp': 79}, score=8.0454545e-01, \n",
      "params={'n_comp': 80}, score=8.1363636e-01, \n",
      "params={'n_comp': 81}, score=8.1363636e-01, \n"
     ]
    },
    {
     "name": "stdout",
     "output_type": "stream",
     "text": [
      "params={'n_comp': 82}, score=8.1363636e-01, \n",
      "params={'n_comp': 83}, score=8.0909091e-01, \n",
      "params={'n_comp': 84}, score=8.0909091e-01, \n"
     ]
    },
    {
     "name": "stdout",
     "output_type": "stream",
     "text": [
      "params={'n_comp': 85}, score=8.1363636e-01, \n",
      "params={'n_comp': 86}, score=8.0909091e-01, \n",
      "params={'n_comp': 87}, score=8.1363636e-01, \n"
     ]
    },
    {
     "name": "stdout",
     "output_type": "stream",
     "text": [
      "params={'n_comp': 88}, score=8.1818182e-01, \n",
      "params={'n_comp': 89}, score=8.2272727e-01, \n",
      "params={'n_comp': 90}, score=8.2272727e-01, \n"
     ]
    },
    {
     "name": "stdout",
     "output_type": "stream",
     "text": [
      "params={'n_comp': 91}, score=8.1818182e-01, \n",
      "params={'n_comp': 92}, score=8.1363636e-01, \n",
      "params={'n_comp': 93}, score=8.1363636e-01, \n"
     ]
    },
    {
     "name": "stdout",
     "output_type": "stream",
     "text": [
      "params={'n_comp': 94}, score=8.1363636e-01, \n",
      "params={'n_comp': 95}, score=8.1363636e-01, \n",
      "params={'n_comp': 96}, score=8.0909091e-01, \n"
     ]
    },
    {
     "name": "stdout",
     "output_type": "stream",
     "text": [
      "params={'n_comp': 97}, score=8.1818182e-01, \n",
      "params={'n_comp': 98}, score=8.1363636e-01, \n",
      "params={'n_comp': 99}, score=8.1363636e-01, \n",
      "\n",
      "best parameter: {'n_comp': 34}; score: 8.6818182e-01; \n"
     ]
    }
   ],
   "source": [
    "import Code.SIMPLS\n",
    "importlib.reload(Code.SIMPLS)\n",
    "from Code.SIMPLS import SIMPLS\n",
    "\n",
    "n_comp_lst=list(range(1,100))\n",
    "scores = []\n",
    "params = []\n",
    "for n_comp in n_comp_lst:\n",
    "    pls = SIMPLS(n_components=n_comp)\n",
    "    scores.append(Model_Score(pls))\n",
    "    params.append({'n_comp': n_comp})\n",
    "    print(f\"params={params[-1]}, score={scores[-1]:.7e}, \")\n",
    "\n",
    "best_ind = np.nanargmax(scores)\n",
    "print(\"\")\n",
    "print(f\"best parameter: {params[best_ind]}; score: {scores[best_ind]:.7e}; \")"
   ]
  },
  {
   "cell_type": "code",
   "execution_count": 4,
   "id": "9cde7fb9-a6d2-4da5-8fa3-1cccaead1cf9",
   "metadata": {
    "collapsed": false,
    "jupyter": {
     "outputs_hidden": false
    }
   },
   "outputs": [
    {
     "name": "stdout",
     "output_type": "stream",
     "text": [
      "params={'n_comp': 1}, score=6.1818182e-01, \n"
     ]
    },
    {
     "name": "stdout",
     "output_type": "stream",
     "text": [
      "params={'n_comp': 2}, score=6.9090909e-01, \n"
     ]
    },
    {
     "name": "stdout",
     "output_type": "stream",
     "text": [
      "params={'n_comp': 3}, score=7.2272727e-01, \n",
      "params={'n_comp': 4}, score=7.1818182e-01, \n"
     ]
    },
    {
     "name": "stdout",
     "output_type": "stream",
     "text": [
      "params={'n_comp': 5}, score=7.2727273e-01, \n",
      "params={'n_comp': 6}, score=7.2727273e-01, \n"
     ]
    },
    {
     "name": "stdout",
     "output_type": "stream",
     "text": [
      "params={'n_comp': 7}, score=7.4090909e-01, \n",
      "params={'n_comp': 8}, score=7.5454545e-01, \n"
     ]
    },
    {
     "name": "stdout",
     "output_type": "stream",
     "text": [
      "params={'n_comp': 9}, score=7.6818182e-01, \n",
      "params={'n_comp': 10}, score=7.8636364e-01, \n"
     ]
    },
    {
     "name": "stdout",
     "output_type": "stream",
     "text": [
      "params={'n_comp': 11}, score=7.7727273e-01, \n",
      "params={'n_comp': 12}, score=7.7727273e-01, \n"
     ]
    },
    {
     "name": "stdout",
     "output_type": "stream",
     "text": [
      "params={'n_comp': 13}, score=8.0000000e-01, \n",
      "params={'n_comp': 14}, score=7.9545455e-01, \n"
     ]
    },
    {
     "name": "stdout",
     "output_type": "stream",
     "text": [
      "params={'n_comp': 15}, score=7.6818182e-01, \n",
      "params={'n_comp': 16}, score=8.0454545e-01, \n"
     ]
    },
    {
     "name": "stdout",
     "output_type": "stream",
     "text": [
      "params={'n_comp': 17}, score=8.0909091e-01, \n",
      "params={'n_comp': 18}, score=8.0909091e-01, \n"
     ]
    },
    {
     "name": "stdout",
     "output_type": "stream",
     "text": [
      "params={'n_comp': 19}, score=8.3181818e-01, \n"
     ]
    },
    {
     "name": "stdout",
     "output_type": "stream",
     "text": [
      "params={'n_comp': 20}, score=8.1818182e-01, \n"
     ]
    },
    {
     "name": "stdout",
     "output_type": "stream",
     "text": [
      "params={'n_comp': 21}, score=8.0909091e-01, \n",
      "params={'n_comp': 22}, score=8.0000000e-01, \n"
     ]
    },
    {
     "name": "stdout",
     "output_type": "stream",
     "text": [
      "params={'n_comp': 23}, score=8.0000000e-01, \n",
      "params={'n_comp': 24}, score=8.0909091e-01, \n"
     ]
    },
    {
     "name": "stdout",
     "output_type": "stream",
     "text": [
      "params={'n_comp': 25}, score=8.4545455e-01, \n",
      "params={'n_comp': 26}, score=8.3636364e-01, \n"
     ]
    },
    {
     "name": "stdout",
     "output_type": "stream",
     "text": [
      "params={'n_comp': 27}, score=8.2727273e-01, \n",
      "params={'n_comp': 28}, score=8.3636364e-01, \n"
     ]
    },
    {
     "name": "stdout",
     "output_type": "stream",
     "text": [
      "params={'n_comp': 29}, score=8.3636364e-01, \n"
     ]
    },
    {
     "name": "stdout",
     "output_type": "stream",
     "text": [
      "params={'n_comp': 30}, score=8.5000000e-01, \n"
     ]
    },
    {
     "name": "stdout",
     "output_type": "stream",
     "text": [
      "params={'n_comp': 31}, score=8.5909091e-01, \n"
     ]
    },
    {
     "name": "stdout",
     "output_type": "stream",
     "text": [
      "params={'n_comp': 32}, score=8.5909091e-01, \n"
     ]
    },
    {
     "name": "stdout",
     "output_type": "stream",
     "text": [
      "params={'n_comp': 33}, score=8.5909091e-01, \n"
     ]
    },
    {
     "name": "stdout",
     "output_type": "stream",
     "text": [
      "params={'n_comp': 34}, score=8.6818182e-01, \n"
     ]
    },
    {
     "name": "stdout",
     "output_type": "stream",
     "text": [
      "params={'n_comp': 35}, score=8.5454545e-01, \n"
     ]
    },
    {
     "name": "stdout",
     "output_type": "stream",
     "text": [
      "params={'n_comp': 36}, score=8.5454545e-01, \n"
     ]
    },
    {
     "name": "stdout",
     "output_type": "stream",
     "text": [
      "params={'n_comp': 37}, score=8.4090909e-01, \n"
     ]
    },
    {
     "name": "stdout",
     "output_type": "stream",
     "text": [
      "params={'n_comp': 38}, score=8.5454545e-01, \n"
     ]
    },
    {
     "name": "stdout",
     "output_type": "stream",
     "text": [
      "params={'n_comp': 39}, score=8.4545455e-01, \n"
     ]
    },
    {
     "name": "stdout",
     "output_type": "stream",
     "text": [
      "params={'n_comp': 40}, score=8.6363636e-01, \n"
     ]
    },
    {
     "name": "stdout",
     "output_type": "stream",
     "text": [
      "params={'n_comp': 41}, score=8.7272727e-01, \n"
     ]
    },
    {
     "name": "stdout",
     "output_type": "stream",
     "text": [
      "params={'n_comp': 42}, score=8.5909091e-01, \n"
     ]
    },
    {
     "name": "stdout",
     "output_type": "stream",
     "text": [
      "params={'n_comp': 43}, score=8.6818182e-01, \n"
     ]
    },
    {
     "name": "stdout",
     "output_type": "stream",
     "text": [
      "params={'n_comp': 44}, score=8.5000000e-01, \n"
     ]
    },
    {
     "name": "stdout",
     "output_type": "stream",
     "text": [
      "params={'n_comp': 45}, score=8.3636364e-01, \n"
     ]
    },
    {
     "name": "stdout",
     "output_type": "stream",
     "text": [
      "params={'n_comp': 46}, score=8.5909091e-01, \n"
     ]
    },
    {
     "name": "stdout",
     "output_type": "stream",
     "text": [
      "params={'n_comp': 47}, score=8.5000000e-01, \n"
     ]
    },
    {
     "name": "stdout",
     "output_type": "stream",
     "text": [
      "params={'n_comp': 48}, score=8.4545455e-01, \n"
     ]
    },
    {
     "name": "stdout",
     "output_type": "stream",
     "text": [
      "params={'n_comp': 49}, score=8.3636364e-01, \n"
     ]
    },
    {
     "name": "stdout",
     "output_type": "stream",
     "text": [
      "params={'n_comp': 50}, score=8.4090909e-01, \n"
     ]
    },
    {
     "name": "stdout",
     "output_type": "stream",
     "text": [
      "params={'n_comp': 51}, score=8.4090909e-01, \n"
     ]
    },
    {
     "name": "stdout",
     "output_type": "stream",
     "text": [
      "params={'n_comp': 52}, score=8.3636364e-01, \n"
     ]
    },
    {
     "name": "stdout",
     "output_type": "stream",
     "text": [
      "params={'n_comp': 53}, score=8.3181818e-01, \n"
     ]
    },
    {
     "name": "stdout",
     "output_type": "stream",
     "text": [
      "params={'n_comp': 54}, score=8.4545455e-01, \n"
     ]
    },
    {
     "name": "stdout",
     "output_type": "stream",
     "text": [
      "params={'n_comp': 55}, score=8.3636364e-01, \n"
     ]
    },
    {
     "name": "stdout",
     "output_type": "stream",
     "text": [
      "params={'n_comp': 56}, score=8.4090909e-01, \n"
     ]
    },
    {
     "name": "stdout",
     "output_type": "stream",
     "text": [
      "params={'n_comp': 57}, score=8.3181818e-01, \n"
     ]
    },
    {
     "name": "stdout",
     "output_type": "stream",
     "text": [
      "params={'n_comp': 58}, score=8.1818182e-01, \n"
     ]
    },
    {
     "name": "stdout",
     "output_type": "stream",
     "text": [
      "params={'n_comp': 59}, score=8.2272727e-01, \n"
     ]
    },
    {
     "name": "stdout",
     "output_type": "stream",
     "text": [
      "params={'n_comp': 60}, score=8.3181818e-01, \n"
     ]
    },
    {
     "name": "stdout",
     "output_type": "stream",
     "text": [
      "params={'n_comp': 61}, score=8.2727273e-01, \n"
     ]
    },
    {
     "name": "stdout",
     "output_type": "stream",
     "text": [
      "params={'n_comp': 62}, score=8.2272727e-01, \n"
     ]
    },
    {
     "name": "stdout",
     "output_type": "stream",
     "text": [
      "params={'n_comp': 63}, score=8.2272727e-01, \n"
     ]
    },
    {
     "name": "stdout",
     "output_type": "stream",
     "text": [
      "params={'n_comp': 64}, score=8.2727273e-01, \n"
     ]
    },
    {
     "name": "stdout",
     "output_type": "stream",
     "text": [
      "params={'n_comp': 65}, score=8.2727273e-01, \n"
     ]
    },
    {
     "name": "stdout",
     "output_type": "stream",
     "text": [
      "params={'n_comp': 66}, score=8.1818182e-01, \n"
     ]
    },
    {
     "name": "stdout",
     "output_type": "stream",
     "text": [
      "params={'n_comp': 67}, score=8.1818182e-01, \n"
     ]
    },
    {
     "name": "stdout",
     "output_type": "stream",
     "text": [
      "params={'n_comp': 68}, score=8.1363636e-01, \n"
     ]
    },
    {
     "name": "stdout",
     "output_type": "stream",
     "text": [
      "params={'n_comp': 69}, score=8.0909091e-01, \n"
     ]
    },
    {
     "name": "stdout",
     "output_type": "stream",
     "text": [
      "params={'n_comp': 70}, score=8.0909091e-01, \n"
     ]
    },
    {
     "name": "stdout",
     "output_type": "stream",
     "text": [
      "params={'n_comp': 71}, score=8.1818182e-01, \n"
     ]
    },
    {
     "name": "stdout",
     "output_type": "stream",
     "text": [
      "params={'n_comp': 72}, score=8.1363636e-01, \n"
     ]
    },
    {
     "name": "stdout",
     "output_type": "stream",
     "text": [
      "params={'n_comp': 73}, score=8.1363636e-01, \n"
     ]
    },
    {
     "name": "stdout",
     "output_type": "stream",
     "text": [
      "params={'n_comp': 74}, score=8.2272727e-01, \n"
     ]
    },
    {
     "name": "stdout",
     "output_type": "stream",
     "text": [
      "params={'n_comp': 75}, score=8.2727273e-01, \n"
     ]
    },
    {
     "name": "stdout",
     "output_type": "stream",
     "text": [
      "params={'n_comp': 76}, score=8.1818182e-01, \n"
     ]
    },
    {
     "name": "stdout",
     "output_type": "stream",
     "text": [
      "params={'n_comp': 77}, score=8.1818182e-01, \n"
     ]
    },
    {
     "name": "stdout",
     "output_type": "stream",
     "text": [
      "params={'n_comp': 78}, score=8.1363636e-01, \n"
     ]
    },
    {
     "name": "stdout",
     "output_type": "stream",
     "text": [
      "params={'n_comp': 79}, score=8.1818182e-01, \n"
     ]
    },
    {
     "name": "stdout",
     "output_type": "stream",
     "text": [
      "params={'n_comp': 80}, score=8.1363636e-01, \n"
     ]
    },
    {
     "name": "stdout",
     "output_type": "stream",
     "text": [
      "params={'n_comp': 81}, score=8.1818182e-01, \n"
     ]
    },
    {
     "name": "stdout",
     "output_type": "stream",
     "text": [
      "params={'n_comp': 82}, score=8.1818182e-01, \n"
     ]
    },
    {
     "name": "stdout",
     "output_type": "stream",
     "text": [
      "params={'n_comp': 83}, score=8.3181818e-01, \n"
     ]
    },
    {
     "name": "stdout",
     "output_type": "stream",
     "text": [
      "params={'n_comp': 84}, score=8.2727273e-01, \n"
     ]
    },
    {
     "name": "stdout",
     "output_type": "stream",
     "text": [
      "params={'n_comp': 85}, score=8.2272727e-01, \n"
     ]
    },
    {
     "name": "stdout",
     "output_type": "stream",
     "text": [
      "params={'n_comp': 86}, score=8.2727273e-01, \n"
     ]
    },
    {
     "name": "stdout",
     "output_type": "stream",
     "text": [
      "params={'n_comp': 87}, score=8.2272727e-01, \n"
     ]
    },
    {
     "name": "stdout",
     "output_type": "stream",
     "text": [
      "params={'n_comp': 88}, score=8.2727273e-01, \n"
     ]
    },
    {
     "name": "stdout",
     "output_type": "stream",
     "text": [
      "params={'n_comp': 89}, score=8.2727273e-01, \n"
     ]
    },
    {
     "name": "stdout",
     "output_type": "stream",
     "text": [
      "params={'n_comp': 90}, score=8.1818182e-01, \n"
     ]
    },
    {
     "name": "stdout",
     "output_type": "stream",
     "text": [
      "params={'n_comp': 91}, score=8.1818182e-01, \n"
     ]
    },
    {
     "name": "stdout",
     "output_type": "stream",
     "text": [
      "params={'n_comp': 92}, score=8.1818182e-01, \n"
     ]
    },
    {
     "name": "stdout",
     "output_type": "stream",
     "text": [
      "params={'n_comp': 93}, score=8.1818182e-01, \n"
     ]
    },
    {
     "name": "stdout",
     "output_type": "stream",
     "text": [
      "params={'n_comp': 94}, score=8.1818182e-01, \n"
     ]
    },
    {
     "name": "stdout",
     "output_type": "stream",
     "text": [
      "params={'n_comp': 95}, score=8.1818182e-01, \n"
     ]
    },
    {
     "name": "stdout",
     "output_type": "stream",
     "text": [
      "params={'n_comp': 96}, score=8.2272727e-01, \n"
     ]
    },
    {
     "name": "stdout",
     "output_type": "stream",
     "text": [
      "params={'n_comp': 97}, score=8.1818182e-01, \n"
     ]
    },
    {
     "name": "stdout",
     "output_type": "stream",
     "text": [
      "params={'n_comp': 98}, score=8.1818182e-01, \n"
     ]
    },
    {
     "name": "stdout",
     "output_type": "stream",
     "text": [
      "params={'n_comp': 99}, score=8.1818182e-01, \n",
      "\n",
      "best parameter: {'n_comp': 41}; score: 8.7272727e-01; \n"
     ]
    }
   ],
   "source": [
    "import Code.ISIMPLS\n",
    "importlib.reload(Code.ISIMPLS)\n",
    "from Code.ISIMPLS import ISIMPLS\n",
    "\n",
    "n_comp_lst=list(range(1,100))\n",
    "scores = []\n",
    "params = []\n",
    "for n_comp in n_comp_lst:\n",
    "    pls = ISIMPLS(n_components=n_comp)\n",
    "    scores.append(Batch_Update_CV(pls))\n",
    "    params.append({'n_comp': n_comp})\n",
    "    print(f\"params={params[-1]}, score={scores[-1]:.7e}, \")\n",
    "\n",
    "best_ind = np.nanargmax(scores)\n",
    "print(\"\")\n",
    "print(f\"best parameter: {params[best_ind]}; score: {scores[best_ind]:.7e}; \")\n",
    "\n"
   ]
  },
  {
   "cell_type": "code",
   "execution_count": 50,
   "id": "dbd47821-a22a-4c94-8b9c-fd4a5a7c5b0c",
   "metadata": {
    "collapsed": false
   },
   "outputs": [
    {
     "name": "stdout",
     "output_type": "stream",
     "text": [
      "params={'n_comp': 1}, score=6.2727273e-01, \n",
      "params={'n_comp': 2}, score=6.6818182e-01, \n",
      "params={'n_comp': 3}, score=6.9545455e-01, \n",
      "params={'n_comp': 4}, score=7.3181818e-01, \n",
      "params={'n_comp': 5}, score=7.1363636e-01, \n",
      "params={'n_comp': 6}, score=7.2727273e-01, \n"
     ]
    },
    {
     "name": "stdout",
     "output_type": "stream",
     "text": [
      "params={'n_comp': 7}, score=7.5909091e-01, \n",
      "params={'n_comp': 8}, score=7.6818182e-01, \n",
      "params={'n_comp': 9}, score=8.1818182e-01, \n",
      "params={'n_comp': 10}, score=8.0454545e-01, \n"
     ]
    },
    {
     "name": "stdout",
     "output_type": "stream",
     "text": [
      "params={'n_comp': 11}, score=8.0454545e-01, \n",
      "params={'n_comp': 12}, score=8.0454545e-01, \n",
      "params={'n_comp': 13}, score=8.3181818e-01, \n",
      "params={'n_comp': 14}, score=8.3636364e-01, \n"
     ]
    },
    {
     "name": "stdout",
     "output_type": "stream",
     "text": [
      "params={'n_comp': 15}, score=8.2727273e-01, \n",
      "params={'n_comp': 16}, score=8.1363636e-01, \n",
      "params={'n_comp': 17}, score=8.1363636e-01, \n",
      "params={'n_comp': 18}, score=8.4545455e-01, \n",
      "params={'n_comp': 19}, score=8.2272727e-01, \n"
     ]
    },
    {
     "name": "stdout",
     "output_type": "stream",
     "text": [
      "params={'n_comp': 20}, score=8.3181818e-01, \n",
      "params={'n_comp': 21}, score=8.3181818e-01, \n",
      "params={'n_comp': 22}, score=8.2727273e-01, \n",
      "params={'n_comp': 23}, score=8.2272727e-01, \n",
      "params={'n_comp': 24}, score=8.2272727e-01, \n"
     ]
    },
    {
     "name": "stdout",
     "output_type": "stream",
     "text": [
      "params={'n_comp': 25}, score=8.3636364e-01, \n",
      "params={'n_comp': 26}, score=8.1818182e-01, \n",
      "params={'n_comp': 27}, score=8.1818182e-01, \n",
      "params={'n_comp': 28}, score=8.2727273e-01, \n",
      "params={'n_comp': 29}, score=8.2727273e-01, \n"
     ]
    },
    {
     "name": "stdout",
     "output_type": "stream",
     "text": [
      "params={'n_comp': 30}, score=8.1818182e-01, \n",
      "params={'n_comp': 31}, score=8.3636364e-01, \n",
      "params={'n_comp': 32}, score=8.4545455e-01, \n",
      "params={'n_comp': 33}, score=8.6363636e-01, \n"
     ]
    },
    {
     "name": "stdout",
     "output_type": "stream",
     "text": [
      "params={'n_comp': 34}, score=8.5000000e-01, \n",
      "params={'n_comp': 35}, score=8.6363636e-01, \n",
      "params={'n_comp': 36}, score=8.6363636e-01, \n",
      "params={'n_comp': 37}, score=8.6818182e-01, \n"
     ]
    },
    {
     "name": "stdout",
     "output_type": "stream",
     "text": [
      "params={'n_comp': 38}, score=8.6363636e-01, \n",
      "params={'n_comp': 39}, score=8.7727273e-01, \n",
      "params={'n_comp': 40}, score=8.6818182e-01, \n",
      "params={'n_comp': 41}, score=8.6818182e-01, \n"
     ]
    },
    {
     "name": "stdout",
     "output_type": "stream",
     "text": [
      "params={'n_comp': 42}, score=8.5909091e-01, \n",
      "params={'n_comp': 43}, score=8.7727273e-01, \n",
      "params={'n_comp': 44}, score=8.6363636e-01, \n",
      "params={'n_comp': 45}, score=8.6363636e-01, \n",
      "params={'n_comp': 46}, score=8.6818182e-01, \n"
     ]
    },
    {
     "name": "stdout",
     "output_type": "stream",
     "text": [
      "params={'n_comp': 47}, score=8.6818182e-01, \n",
      "params={'n_comp': 48}, score=8.6818182e-01, \n",
      "params={'n_comp': 49}, score=8.5909091e-01, \n",
      "params={'n_comp': 50}, score=8.6818182e-01, \n"
     ]
    },
    {
     "name": "stdout",
     "output_type": "stream",
     "text": [
      "params={'n_comp': 51}, score=8.7272727e-01, \n",
      "params={'n_comp': 52}, score=8.7727273e-01, \n",
      "params={'n_comp': 53}, score=8.7727273e-01, \n",
      "params={'n_comp': 54}, score=8.8181818e-01, \n"
     ]
    },
    {
     "name": "stdout",
     "output_type": "stream",
     "text": [
      "params={'n_comp': 55}, score=8.8636364e-01, \n",
      "params={'n_comp': 56}, score=8.8636364e-01, \n",
      "params={'n_comp': 57}, score=8.7272727e-01, \n",
      "params={'n_comp': 58}, score=8.7272727e-01, \n"
     ]
    },
    {
     "name": "stdout",
     "output_type": "stream",
     "text": [
      "params={'n_comp': 59}, score=8.7272727e-01, \n",
      "params={'n_comp': 60}, score=8.5909091e-01, \n",
      "params={'n_comp': 61}, score=8.7272727e-01, \n",
      "params={'n_comp': 62}, score=8.6818182e-01, \n"
     ]
    },
    {
     "name": "stdout",
     "output_type": "stream",
     "text": [
      "params={'n_comp': 63}, score=8.6818182e-01, \n",
      "params={'n_comp': 64}, score=8.7272727e-01, \n",
      "params={'n_comp': 65}, score=8.7272727e-01, \n",
      "params={'n_comp': 66}, score=8.8636364e-01, \n"
     ]
    },
    {
     "name": "stdout",
     "output_type": "stream",
     "text": [
      "params={'n_comp': 67}, score=8.8181818e-01, \n",
      "params={'n_comp': 68}, score=8.9090909e-01, \n",
      "params={'n_comp': 69}, score=9.0000000e-01, \n",
      "params={'n_comp': 70}, score=8.9545455e-01, \n"
     ]
    },
    {
     "name": "stdout",
     "output_type": "stream",
     "text": [
      "params={'n_comp': 71}, score=8.9545455e-01, \n",
      "params={'n_comp': 72}, score=9.0000000e-01, \n",
      "params={'n_comp': 73}, score=9.0000000e-01, \n",
      "params={'n_comp': 74}, score=9.0000000e-01, \n"
     ]
    },
    {
     "name": "stdout",
     "output_type": "stream",
     "text": [
      "params={'n_comp': 75}, score=8.8181818e-01, \n",
      "params={'n_comp': 76}, score=8.8636364e-01, \n",
      "params={'n_comp': 77}, score=8.8636364e-01, \n",
      "params={'n_comp': 78}, score=8.8636364e-01, \n"
     ]
    },
    {
     "name": "stdout",
     "output_type": "stream",
     "text": [
      "params={'n_comp': 79}, score=8.8636364e-01, \n",
      "params={'n_comp': 80}, score=8.9090909e-01, \n",
      "params={'n_comp': 81}, score=8.9090909e-01, \n",
      "params={'n_comp': 82}, score=8.9090909e-01, \n"
     ]
    },
    {
     "name": "stdout",
     "output_type": "stream",
     "text": [
      "params={'n_comp': 83}, score=8.9090909e-01, \n",
      "params={'n_comp': 84}, score=8.9545455e-01, \n",
      "params={'n_comp': 85}, score=8.9090909e-01, \n",
      "params={'n_comp': 86}, score=8.9090909e-01, \n"
     ]
    },
    {
     "name": "stdout",
     "output_type": "stream",
     "text": [
      "params={'n_comp': 87}, score=8.9090909e-01, \n",
      "params={'n_comp': 88}, score=8.9090909e-01, \n",
      "params={'n_comp': 89}, score=8.9090909e-01, \n",
      "params={'n_comp': 90}, score=8.9545455e-01, \n"
     ]
    },
    {
     "name": "stdout",
     "output_type": "stream",
     "text": [
      "params={'n_comp': 91}, score=8.9545455e-01, \n",
      "params={'n_comp': 92}, score=8.9545455e-01, \n",
      "params={'n_comp': 93}, score=8.9545455e-01, \n",
      "params={'n_comp': 94}, score=9.0000000e-01, \n"
     ]
    },
    {
     "name": "stdout",
     "output_type": "stream",
     "text": [
      "params={'n_comp': 95}, score=8.9545455e-01, \n",
      "params={'n_comp': 96}, score=9.0000000e-01, \n",
      "params={'n_comp': 97}, score=8.9545455e-01, \n",
      "params={'n_comp': 98}, score=8.9090909e-01, \n"
     ]
    },
    {
     "name": "stdout",
     "output_type": "stream",
     "text": [
      "params={'n_comp': 99}, score=8.9090909e-01, \n",
      "\n",
      "best parameter: {'n_comp': 69}; score: 9.0000000e-01; \n"
     ]
    }
   ],
   "source": [
    "import Code.PLS1\n",
    "importlib.reload(Code.PLS1)\n",
    "from Code.PLS1 import PLS1\n",
    "\n",
    "n_comp_lst=list(range(1,100))\n",
    "scores = []\n",
    "params = []\n",
    "for n_comp in n_comp_lst:\n",
    "    pls = PLS1(n_components=n_comp)\n",
    "    scores.append(Model_Score(pls))\n",
    "    params.append({'n_comp': n_comp})\n",
    "    print(f\"params={params[-1]}, score={scores[-1]:.7e}, \")\n",
    "\n",
    "best_ind = np.nanargmax(scores)\n",
    "print(\"\")\n",
    "print(f\"best parameter: {params[best_ind]}; score: {scores[best_ind]:.7e}; \")"
   ]
  },
  {
   "cell_type": "code",
   "execution_count": 5,
   "id": "26eeac8c-1aa0-444a-ace9-3f43320d6842",
   "metadata": {
    "collapsed": false,
    "jupyter": {
     "outputs_hidden": false
    }
   },
   "outputs": [
    {
     "name": "stdout",
     "output_type": "stream",
     "text": [
      "params={'n_comp': 1}, score=6.1818182e-01, \n",
      "params={'n_comp': 2}, score=6.6818182e-01, \n"
     ]
    },
    {
     "name": "stdout",
     "output_type": "stream",
     "text": [
      "params={'n_comp': 3}, score=6.8636364e-01, \n",
      "params={'n_comp': 4}, score=7.1363636e-01, \n"
     ]
    },
    {
     "name": "stdout",
     "output_type": "stream",
     "text": [
      "params={'n_comp': 5}, score=7.0909091e-01, \n",
      "params={'n_comp': 6}, score=7.2727273e-01, \n"
     ]
    },
    {
     "name": "stdout",
     "output_type": "stream",
     "text": [
      "params={'n_comp': 7}, score=7.6363636e-01, \n",
      "params={'n_comp': 8}, score=7.7272727e-01, \n"
     ]
    },
    {
     "name": "stdout",
     "output_type": "stream",
     "text": [
      "params={'n_comp': 9}, score=7.9090909e-01, \n",
      "params={'n_comp': 10}, score=8.0454545e-01, \n"
     ]
    },
    {
     "name": "stdout",
     "output_type": "stream",
     "text": [
      "params={'n_comp': 11}, score=8.0454545e-01, \n",
      "params={'n_comp': 12}, score=8.0909091e-01, \n"
     ]
    },
    {
     "name": "stdout",
     "output_type": "stream",
     "text": [
      "params={'n_comp': 13}, score=8.1818182e-01, \n",
      "params={'n_comp': 14}, score=8.2727273e-01, \n"
     ]
    },
    {
     "name": "stdout",
     "output_type": "stream",
     "text": [
      "params={'n_comp': 15}, score=8.1818182e-01, \n",
      "params={'n_comp': 16}, score=8.1363636e-01, \n"
     ]
    },
    {
     "name": "stdout",
     "output_type": "stream",
     "text": [
      "params={'n_comp': 17}, score=8.1818182e-01, \n"
     ]
    },
    {
     "name": "stdout",
     "output_type": "stream",
     "text": [
      "params={'n_comp': 18}, score=8.4545455e-01, \n"
     ]
    },
    {
     "name": "stdout",
     "output_type": "stream",
     "text": [
      "params={'n_comp': 19}, score=8.2727273e-01, \n"
     ]
    },
    {
     "name": "stdout",
     "output_type": "stream",
     "text": [
      "params={'n_comp': 20}, score=8.4090909e-01, \n"
     ]
    },
    {
     "name": "stdout",
     "output_type": "stream",
     "text": [
      "params={'n_comp': 21}, score=8.2272727e-01, \n",
      "params={'n_comp': 22}, score=8.0454545e-01, \n"
     ]
    },
    {
     "name": "stdout",
     "output_type": "stream",
     "text": [
      "params={'n_comp': 23}, score=8.2272727e-01, \n"
     ]
    },
    {
     "name": "stdout",
     "output_type": "stream",
     "text": [
      "params={'n_comp': 24}, score=8.2272727e-01, \n"
     ]
    },
    {
     "name": "stdout",
     "output_type": "stream",
     "text": [
      "params={'n_comp': 25}, score=8.2727273e-01, \n"
     ]
    },
    {
     "name": "stdout",
     "output_type": "stream",
     "text": [
      "params={'n_comp': 26}, score=8.1818182e-01, \n"
     ]
    },
    {
     "name": "stdout",
     "output_type": "stream",
     "text": [
      "params={'n_comp': 27}, score=8.1363636e-01, \n"
     ]
    },
    {
     "name": "stdout",
     "output_type": "stream",
     "text": [
      "params={'n_comp': 28}, score=8.1818182e-01, \n"
     ]
    },
    {
     "name": "stdout",
     "output_type": "stream",
     "text": [
      "params={'n_comp': 29}, score=8.1818182e-01, \n"
     ]
    },
    {
     "name": "stdout",
     "output_type": "stream",
     "text": [
      "params={'n_comp': 30}, score=8.3636364e-01, \n"
     ]
    },
    {
     "name": "stdout",
     "output_type": "stream",
     "text": [
      "params={'n_comp': 31}, score=8.4545455e-01, \n"
     ]
    },
    {
     "name": "stdout",
     "output_type": "stream",
     "text": [
      "params={'n_comp': 32}, score=8.4545455e-01, \n"
     ]
    },
    {
     "name": "stdout",
     "output_type": "stream",
     "text": [
      "params={'n_comp': 33}, score=8.5909091e-01, \n"
     ]
    },
    {
     "name": "stdout",
     "output_type": "stream",
     "text": [
      "params={'n_comp': 34}, score=8.5454545e-01, \n"
     ]
    },
    {
     "name": "stdout",
     "output_type": "stream",
     "text": [
      "params={'n_comp': 35}, score=8.5454545e-01, \n"
     ]
    },
    {
     "name": "stdout",
     "output_type": "stream",
     "text": [
      "params={'n_comp': 36}, score=8.5454545e-01, \n"
     ]
    },
    {
     "name": "stdout",
     "output_type": "stream",
     "text": [
      "params={'n_comp': 37}, score=8.6363636e-01, \n"
     ]
    },
    {
     "name": "stdout",
     "output_type": "stream",
     "text": [
      "params={'n_comp': 38}, score=8.5454545e-01, \n"
     ]
    },
    {
     "name": "stdout",
     "output_type": "stream",
     "text": [
      "params={'n_comp': 39}, score=8.4545455e-01, \n"
     ]
    },
    {
     "name": "stdout",
     "output_type": "stream",
     "text": [
      "params={'n_comp': 40}, score=8.3636364e-01, \n"
     ]
    },
    {
     "name": "stdout",
     "output_type": "stream",
     "text": [
      "params={'n_comp': 41}, score=8.5000000e-01, \n"
     ]
    },
    {
     "name": "stdout",
     "output_type": "stream",
     "text": [
      "params={'n_comp': 42}, score=8.5909091e-01, \n"
     ]
    },
    {
     "name": "stdout",
     "output_type": "stream",
     "text": [
      "params={'n_comp': 43}, score=8.5000000e-01, \n"
     ]
    },
    {
     "name": "stdout",
     "output_type": "stream",
     "text": [
      "params={'n_comp': 44}, score=8.4545455e-01, \n"
     ]
    },
    {
     "name": "stdout",
     "output_type": "stream",
     "text": [
      "params={'n_comp': 45}, score=8.4090909e-01, \n"
     ]
    },
    {
     "name": "stdout",
     "output_type": "stream",
     "text": [
      "params={'n_comp': 46}, score=8.5909091e-01, \n"
     ]
    },
    {
     "name": "stdout",
     "output_type": "stream",
     "text": [
      "params={'n_comp': 47}, score=8.5454545e-01, \n"
     ]
    },
    {
     "name": "stdout",
     "output_type": "stream",
     "text": [
      "params={'n_comp': 48}, score=8.5454545e-01, \n"
     ]
    },
    {
     "name": "stdout",
     "output_type": "stream",
     "text": [
      "params={'n_comp': 49}, score=8.5454545e-01, \n"
     ]
    },
    {
     "name": "stdout",
     "output_type": "stream",
     "text": [
      "params={'n_comp': 50}, score=8.6363636e-01, \n"
     ]
    },
    {
     "name": "stdout",
     "output_type": "stream",
     "text": [
      "params={'n_comp': 51}, score=8.6363636e-01, \n"
     ]
    },
    {
     "name": "stdout",
     "output_type": "stream",
     "text": [
      "params={'n_comp': 52}, score=8.6363636e-01, \n"
     ]
    },
    {
     "name": "stdout",
     "output_type": "stream",
     "text": [
      "params={'n_comp': 53}, score=8.5909091e-01, \n"
     ]
    },
    {
     "name": "stdout",
     "output_type": "stream",
     "text": [
      "params={'n_comp': 54}, score=8.5454545e-01, \n"
     ]
    },
    {
     "name": "stdout",
     "output_type": "stream",
     "text": [
      "params={'n_comp': 55}, score=8.6363636e-01, \n"
     ]
    },
    {
     "name": "stdout",
     "output_type": "stream",
     "text": [
      "params={'n_comp': 56}, score=8.5909091e-01, \n"
     ]
    },
    {
     "name": "stdout",
     "output_type": "stream",
     "text": [
      "params={'n_comp': 57}, score=8.6363636e-01, \n"
     ]
    },
    {
     "name": "stdout",
     "output_type": "stream",
     "text": [
      "params={'n_comp': 58}, score=8.5909091e-01, \n"
     ]
    },
    {
     "name": "stdout",
     "output_type": "stream",
     "text": [
      "params={'n_comp': 59}, score=8.6818182e-01, \n"
     ]
    },
    {
     "name": "stdout",
     "output_type": "stream",
     "text": [
      "params={'n_comp': 60}, score=8.6818182e-01, \n"
     ]
    },
    {
     "name": "stdout",
     "output_type": "stream",
     "text": [
      "params={'n_comp': 61}, score=8.6818182e-01, \n"
     ]
    },
    {
     "name": "stdout",
     "output_type": "stream",
     "text": [
      "params={'n_comp': 62}, score=8.7272727e-01, \n"
     ]
    },
    {
     "name": "stdout",
     "output_type": "stream",
     "text": [
      "params={'n_comp': 63}, score=8.6818182e-01, \n"
     ]
    },
    {
     "name": "stdout",
     "output_type": "stream",
     "text": [
      "params={'n_comp': 64}, score=8.6818182e-01, \n"
     ]
    },
    {
     "name": "stdout",
     "output_type": "stream",
     "text": [
      "params={'n_comp': 65}, score=8.5909091e-01, \n"
     ]
    },
    {
     "name": "stdout",
     "output_type": "stream",
     "text": [
      "params={'n_comp': 66}, score=8.5909091e-01, \n"
     ]
    },
    {
     "name": "stdout",
     "output_type": "stream",
     "text": [
      "params={'n_comp': 67}, score=8.7272727e-01, \n"
     ]
    },
    {
     "name": "stdout",
     "output_type": "stream",
     "text": [
      "params={'n_comp': 68}, score=8.7727273e-01, \n"
     ]
    },
    {
     "name": "stdout",
     "output_type": "stream",
     "text": [
      "params={'n_comp': 69}, score=8.7272727e-01, \n"
     ]
    },
    {
     "name": "stdout",
     "output_type": "stream",
     "text": [
      "params={'n_comp': 70}, score=8.6818182e-01, \n"
     ]
    },
    {
     "name": "stdout",
     "output_type": "stream",
     "text": [
      "params={'n_comp': 71}, score=8.6818182e-01, \n"
     ]
    },
    {
     "name": "stdout",
     "output_type": "stream",
     "text": [
      "params={'n_comp': 72}, score=8.6363636e-01, \n"
     ]
    },
    {
     "name": "stdout",
     "output_type": "stream",
     "text": [
      "params={'n_comp': 73}, score=8.7272727e-01, \n"
     ]
    },
    {
     "name": "stdout",
     "output_type": "stream",
     "text": [
      "params={'n_comp': 74}, score=8.7272727e-01, \n"
     ]
    },
    {
     "name": "stdout",
     "output_type": "stream",
     "text": [
      "params={'n_comp': 75}, score=8.7727273e-01, \n"
     ]
    },
    {
     "name": "stdout",
     "output_type": "stream",
     "text": [
      "params={'n_comp': 76}, score=8.8181818e-01, \n"
     ]
    },
    {
     "name": "stdout",
     "output_type": "stream",
     "text": [
      "params={'n_comp': 77}, score=8.8181818e-01, \n"
     ]
    },
    {
     "name": "stdout",
     "output_type": "stream",
     "text": [
      "params={'n_comp': 78}, score=8.8181818e-01, \n"
     ]
    },
    {
     "name": "stdout",
     "output_type": "stream",
     "text": [
      "params={'n_comp': 79}, score=8.8181818e-01, \n"
     ]
    },
    {
     "name": "stdout",
     "output_type": "stream",
     "text": [
      "params={'n_comp': 80}, score=8.8181818e-01, \n"
     ]
    },
    {
     "name": "stdout",
     "output_type": "stream",
     "text": [
      "params={'n_comp': 81}, score=8.8181818e-01, \n"
     ]
    },
    {
     "name": "stdout",
     "output_type": "stream",
     "text": [
      "params={'n_comp': 82}, score=8.7272727e-01, \n"
     ]
    },
    {
     "name": "stdout",
     "output_type": "stream",
     "text": [
      "params={'n_comp': 83}, score=8.8181818e-01, \n"
     ]
    },
    {
     "name": "stdout",
     "output_type": "stream",
     "text": [
      "params={'n_comp': 84}, score=8.7727273e-01, \n"
     ]
    },
    {
     "name": "stdout",
     "output_type": "stream",
     "text": [
      "params={'n_comp': 85}, score=8.7727273e-01, \n"
     ]
    },
    {
     "name": "stdout",
     "output_type": "stream",
     "text": [
      "params={'n_comp': 86}, score=8.7727273e-01, \n"
     ]
    },
    {
     "name": "stdout",
     "output_type": "stream",
     "text": [
      "params={'n_comp': 87}, score=8.7727273e-01, \n"
     ]
    },
    {
     "name": "stdout",
     "output_type": "stream",
     "text": [
      "params={'n_comp': 88}, score=8.8181818e-01, \n"
     ]
    },
    {
     "name": "stdout",
     "output_type": "stream",
     "text": [
      "params={'n_comp': 89}, score=8.8636364e-01, \n"
     ]
    },
    {
     "name": "stdout",
     "output_type": "stream",
     "text": [
      "params={'n_comp': 90}, score=8.8181818e-01, \n"
     ]
    },
    {
     "name": "stdout",
     "output_type": "stream",
     "text": [
      "params={'n_comp': 91}, score=8.8636364e-01, \n"
     ]
    },
    {
     "name": "stdout",
     "output_type": "stream",
     "text": [
      "params={'n_comp': 92}, score=8.8636364e-01, \n"
     ]
    },
    {
     "name": "stdout",
     "output_type": "stream",
     "text": [
      "params={'n_comp': 93}, score=8.7727273e-01, \n"
     ]
    },
    {
     "name": "stdout",
     "output_type": "stream",
     "text": [
      "params={'n_comp': 94}, score=8.8636364e-01, \n"
     ]
    },
    {
     "name": "stdout",
     "output_type": "stream",
     "text": [
      "params={'n_comp': 95}, score=8.8636364e-01, \n"
     ]
    },
    {
     "name": "stdout",
     "output_type": "stream",
     "text": [
      "params={'n_comp': 96}, score=8.8636364e-01, \n"
     ]
    },
    {
     "name": "stdout",
     "output_type": "stream",
     "text": [
      "params={'n_comp': 97}, score=8.8636364e-01, \n"
     ]
    },
    {
     "name": "stdout",
     "output_type": "stream",
     "text": [
      "params={'n_comp': 98}, score=8.8636364e-01, \n"
     ]
    },
    {
     "name": "stdout",
     "output_type": "stream",
     "text": [
      "params={'n_comp': 99}, score=8.8181818e-01, \n",
      "\n",
      "best parameter: {'n_comp': 89}; score: 8.8636364e-01; \n"
     ]
    }
   ],
   "source": [
    "import Code.PLS1\n",
    "importlib.reload(Code.PLS1)\n",
    "from Code.PLS1 import IPLS1\n",
    "\n",
    "n_comp_lst=list(range(1,100))\n",
    "scores = []\n",
    "params = []\n",
    "for n_comp in n_comp_lst:\n",
    "    pls = IPLS1(n_components=n_comp)\n",
    "    scores.append(Batch_Update_CV(pls))\n",
    "    params.append({'n_comp': n_comp})\n",
    "    print(f\"params={params[-1]}, score={scores[-1]:.7e}, \")\n",
    "\n",
    "best_ind = np.nanargmax(scores)\n",
    "print(\"\")\n",
    "print(f\"best parameter: {params[best_ind]}; score: {scores[best_ind]:.7e}; \")"
   ]
  },
  {
   "cell_type": "code",
   "execution_count": null,
   "id": "b97e48e1-5ddb-40a8-8a15-1c34ed6b0f40",
   "metadata": {
    "collapsed": false,
    "jupyter": {
     "outputs_hidden": false
    }
   },
   "outputs": [],
   "source": [
    "import Code.OLPLS\n",
    "importlib.reload(Code.OLPLS)\n",
    "from Code.OLPLS import OLPLS\n",
    "\n",
    "n_comp_max = 100\n",
    "\n",
    "space  = [ Real(1e-9, 1e-5, name='mu', prior=\"log-uniform\"),\n",
    "           Real(0, 1, name='amnesic')]\n",
    "\n",
    "@use_named_args(space)\n",
    "def Comp_Model_Score(mu, amnesic):\n",
    "    X_train, X_test, y_train, y_test = train_test_split(\n",
    "        fea_train, label_train, test_size=0.1, random_state=42)\n",
    "    score_loc = np.zeros((n_comp_max, ))\n",
    "\n",
    "    PLS=OLPLS(n_components=n_comp_max, mu=mu, amnesic=amnesic)\n",
    "    print(f\"__mu={PLS.mu:.4e}, amnesic={PLS.amnesic:.2f}\")\n",
    "\n",
    "    PLS.fit(X_train, y_train)\n",
    "    for n_comp in range(1, n_comp_max+1):\n",
    "        X_score_train = norm(np.dot(X_train, PLS.W[:,:n_comp]), ord=1, axis=1, keepdims=True)\n",
    "        X_score_test = norm(np.dot(X_test, PLS.W[:,:n_comp]), ord=1, axis=1, keepdims=True)\n",
    "        y_pred = LogisticRegression(penalty=None).fit(X_score_train, y_train) \\\n",
    "                                                     .predict(X_score_test)\n",
    "        score_loc[n_comp-1] = accuracy_score(y_test, y_pred)\n",
    "\n",
    "    # print(score_loc)\n",
    "    score = np.nanmax(score_loc)\n",
    "    if (np.isnan(score)):\n",
    "        score = 0\n",
    "        print(\"____failure\")\n",
    "    else:\n",
    "        print(f\"____best n_comp: {np.nanargmax(score_loc)+1:d}\")\n",
    "        print(f\"____best score: {score:.4f}\")\n",
    "    return -score\n",
    "\n",
    "tim_tot.tic()\n",
    "res_gp = gp_minimize(Comp_Model_Score, space, n_calls=100,\n",
    "                     n_initial_points = 30, initial_point_generator=\"lhs\", \n",
    "                     random_state=0, verbose=True)\n",
    "\n",
    "print(\"-\"*40)\n",
    "print(f\"Best amnesic = {res_gp.x[0]}\")\n",
    "print(f\"Best mu = {res_gp.x[1]}\")\n",
    "print(f\"Best score = {-res_gp.fun:.4f}\")\n",
    "print(f\"total time = {tim_tot.tocvalue():.1f}s\")"
   ]
  },
  {
   "cell_type": "code",
   "execution_count": 52,
   "id": "b391212a-ab36-4d06-87a2-ca2329179d02",
   "metadata": {
    "collapsed": false,
    "jupyter": {
     "outputs_hidden": false
    }
   },
   "outputs": [
    {
     "name": "stdout",
     "output_type": "stream",
     "text": [
      "Iteration No: 1 started. Evaluating function at random point.\n",
      "__eta=9.2092e-07\n"
     ]
    },
    {
     "name": "stdout",
     "output_type": "stream",
     "text": [
      "____best n_comp: 99\n",
      "____best score: 0.9000\n",
      "Iteration No: 1 ended. Evaluation done at random point.\n",
      "Time taken: 151.1136\n",
      "Function value obtained: -0.9000\n",
      "Current minimum: -0.9000\n",
      "Iteration No: 2 started. Evaluating function at random point.\n",
      "__eta=1.6647e-05\n"
     ]
    },
    {
     "name": "stdout",
     "output_type": "stream",
     "text": [
      "____best n_comp: 35\n",
      "____best score: 0.8773\n",
      "Iteration No: 2 ended. Evaluation done at random point.\n",
      "Time taken: 151.5146\n",
      "Function value obtained: -0.8773\n",
      "Current minimum: -0.9000\n",
      "Iteration No: 3 started. Evaluating function at random point.\n",
      "__eta=1.9486e-05\n"
     ]
    },
    {
     "name": "stdout",
     "output_type": "stream",
     "text": [
      "____best n_comp: 87\n",
      "____best score: 0.8909\n",
      "Iteration No: 3 ended. Evaluation done at random point.\n",
      "Time taken: 152.6080\n",
      "Function value obtained: -0.8909\n",
      "Current minimum: -0.9000\n",
      "Iteration No: 4 started. Evaluating function at random point.\n",
      "__eta=1.7229e-05\n"
     ]
    },
    {
     "name": "stdout",
     "output_type": "stream",
     "text": [
      "____best n_comp: 96\n",
      "____best score: 0.8864\n",
      "Iteration No: 4 ended. Evaluation done at random point.\n",
      "Time taken: 151.9424\n",
      "Function value obtained: -0.8864\n",
      "Current minimum: -0.9000\n",
      "Iteration No: 5 started. Evaluating function at random point.\n",
      "__eta=1.3117e-06\n"
     ]
    },
    {
     "name": "stdout",
     "output_type": "stream",
     "text": [
      "____best n_comp: 79\n",
      "____best score: 0.8727\n",
      "Iteration No: 5 ended. Evaluation done at random point.\n",
      "Time taken: 151.8439\n",
      "Function value obtained: -0.8727\n",
      "Current minimum: -0.9000\n",
      "Iteration No: 6 started. Evaluating function at random point.\n",
      "__eta=8.3543e-08\n"
     ]
    },
    {
     "name": "stdout",
     "output_type": "stream",
     "text": [
      "____best n_comp: 92\n",
      "____best score: 0.8864\n",
      "Iteration No: 6 ended. Evaluation done at random point.\n",
      "Time taken: 152.2256\n",
      "Function value obtained: -0.8864\n",
      "Current minimum: -0.9000\n",
      "Iteration No: 7 started. Evaluating function at random point.\n",
      "__eta=3.0738e-08\n"
     ]
    },
    {
     "name": "stdout",
     "output_type": "stream",
     "text": [
      "____best n_comp: 79\n",
      "____best score: 0.8636\n",
      "Iteration No: 7 ended. Evaluation done at random point.\n",
      "Time taken: 152.4710\n",
      "Function value obtained: -0.8636\n",
      "Current minimum: -0.9000\n",
      "Iteration No: 8 started. Evaluating function at random point.\n",
      "__eta=1.9212e-09\n"
     ]
    },
    {
     "name": "stdout",
     "output_type": "stream",
     "text": [
      "____best n_comp: 76\n",
      "____best score: 0.8636\n",
      "Iteration No: 8 ended. Evaluation done at random point.\n",
      "Time taken: 151.9867\n",
      "Function value obtained: -0.8636\n",
      "Current minimum: -0.9000\n",
      "Iteration No: 9 started. Evaluating function at random point.\n",
      "__eta=2.3082e-08\n"
     ]
    },
    {
     "name": "stdout",
     "output_type": "stream",
     "text": [
      "____best n_comp: 85\n",
      "____best score: 0.8955\n",
      "Iteration No: 9 ended. Evaluation done at random point.\n",
      "Time taken: 152.0489\n",
      "Function value obtained: -0.8955\n",
      "Current minimum: -0.9000\n",
      "Iteration No: 10 started. Evaluating function at random point.\n",
      "__eta=2.4453e-07\n"
     ]
    },
    {
     "name": "stdout",
     "output_type": "stream",
     "text": [
      "____best n_comp: 93\n",
      "____best score: 0.8682\n"
     ]
    },
    {
     "name": "stdout",
     "output_type": "stream",
     "text": [
      "Iteration No: 10 ended. Evaluation done at random point.\n",
      "Time taken: 153.0083\n",
      "Function value obtained: -0.8682\n",
      "Current minimum: -0.9000\n",
      "----------------------------------------\n",
      "Best eta = 9.209225155490904e-07\n",
      "Best score = 0.9000\n",
      "total time = 1520.8s\n"
     ]
    }
   ],
   "source": [
    "import Code.SGDPLS\n",
    "importlib.reload(Code.SGDPLS)\n",
    "from Code.SGDPLS import SGDPLS\n",
    "n_comp_max = 100\n",
    "\n",
    "space  = [ Real(1e-9, 1e-4, name='eta', prior=\"log-uniform\")]\n",
    "\n",
    "@use_named_args(space)\n",
    "def Comp_Model_Score(eta):\n",
    "    X_train, X_test, y_train, y_test = train_test_split(\n",
    "        fea_train, label_train, test_size=0.1, random_state=42)\n",
    "    score_loc = np.zeros((n_comp_max, ))\n",
    "\n",
    "    PLS=SGDPLS(n_components=n_comp_max, eta=eta)\n",
    "    print(f\"__eta={PLS.eta:.4e}\")\n",
    "\n",
    "    PLS.fit(X_train, y_train)\n",
    "    U = PLS.normalize(PLS.x_rotations)\n",
    "    for n_comp in range(1, n_comp_max+1):\n",
    "        X_score_train = norm(np.dot(X_train, U[:,:n_comp]), ord=1, axis=1, keepdims=True)\n",
    "        X_score_test = norm(np.dot(X_test, U[:,:n_comp]), ord=1, axis=1, keepdims=True)\n",
    "        y_pred = LogisticRegression(penalty=None).fit(X_score_train, y_train) \\\n",
    "                                                     .predict(X_score_test)\n",
    "        score_loc[n_comp-1] = accuracy_score(y_test, y_pred)\n",
    "\n",
    "    score = np.nanmax(score_loc)\n",
    "    if (np.isnan(score)):\n",
    "        score = 0\n",
    "        print(\"____failure\")\n",
    "    else:\n",
    "        print(f\"____best n_comp: {np.nanargmax(score_loc)+1:d}\")\n",
    "        print(f\"____best score: {score:.4f}\")\n",
    "    return -score\n",
    "\n",
    "tim_tot.tic()\n",
    "res_gp = gp_minimize(Comp_Model_Score, space, n_calls=100,\n",
    "                     n_initial_points = 30, initial_point_generator=\"lhs\", \n",
    "                     random_state=0, verbose=True)\n",
    "\n",
    "print(\"-\"*40)\n",
    "print(f\"Best eta = {res_gp.x[0]}\")\n",
    "print(f\"Best score = {-res_gp.fun:.4f}\")\n",
    "print(f\"total time = {tim_tot.tocvalue():.1f}s\")"
   ]
  },
  {
   "cell_type": "code",
   "execution_count": 6,
   "id": "da3c941f-ae6e-410f-b99a-31ca93a7d48a",
   "metadata": {
    "collapsed": false,
    "jupyter": {
     "outputs_hidden": false
    }
   },
   "outputs": [
    {
     "name": "stdout",
     "output_type": "stream",
     "text": [
      "params={'n_comp': 1}, score=6.1818182e-01, \n"
     ]
    },
    {
     "name": "stdout",
     "output_type": "stream",
     "text": [
      "params={'n_comp': 2}, score=6.3181818e-01, \n"
     ]
    },
    {
     "name": "stdout",
     "output_type": "stream",
     "text": [
      "params={'n_comp': 3}, score=6.2272727e-01, \n"
     ]
    },
    {
     "name": "stdout",
     "output_type": "stream",
     "text": [
      "params={'n_comp': 4}, score=6.1363636e-01, \n"
     ]
    },
    {
     "name": "stdout",
     "output_type": "stream",
     "text": [
      "params={'n_comp': 5}, score=6.1363636e-01, \n"
     ]
    },
    {
     "name": "stderr",
     "output_type": "stream",
     "text": [
      "/video/data/tingan/GitRep/IPLSreview/Code/CIPLS.py:103: RuntimeWarning: overflow encountered in multiply\n",
      "  W[c]   += (u * l)\n",
      "/home/tingan/.local/lib/python3.9/site-packages/numpy/core/fromnumeric.py:86: RuntimeWarning: invalid value encountered in reduce\n",
      "  return ufunc.reduce(obj, axis, dtype, out, **passkwargs)\n"
     ]
    },
    {
     "ename": "ValueError",
     "evalue": "Input contains infinity or a value too large for dtype('float64').",
     "output_type": "error",
     "traceback": [
      "\u001b[0;31m---------------------------------------------------------------------------\u001b[0m",
      "\u001b[0;31mValueError\u001b[0m                                Traceback (most recent call last)",
      "Cell \u001b[0;32mIn[6], line 10\u001b[0m\n\u001b[1;32m      8\u001b[0m \u001b[38;5;28;01mfor\u001b[39;00m n_comp \u001b[38;5;129;01min\u001b[39;00m n_comp_lst:\n\u001b[1;32m      9\u001b[0m    pls \u001b[38;5;241m=\u001b[39m CIPLS(n_components\u001b[38;5;241m=\u001b[39mn_comp)\n\u001b[0;32m---> 10\u001b[0m    scores\u001b[38;5;241m.\u001b[39mappend(\u001b[43mBatch_Update_CV\u001b[49m\u001b[43m(\u001b[49m\u001b[43mpls\u001b[49m\u001b[43m)\u001b[49m)\n\u001b[1;32m     11\u001b[0m    params\u001b[38;5;241m.\u001b[39mappend({\u001b[38;5;124m'\u001b[39m\u001b[38;5;124mn_comp\u001b[39m\u001b[38;5;124m'\u001b[39m: n_comp})\n\u001b[1;32m     12\u001b[0m    \u001b[38;5;28mprint\u001b[39m(\u001b[38;5;124mf\u001b[39m\u001b[38;5;124m\"\u001b[39m\u001b[38;5;124mparams=\u001b[39m\u001b[38;5;132;01m{\u001b[39;00mparams[\u001b[38;5;241m-\u001b[39m\u001b[38;5;241m1\u001b[39m]\u001b[38;5;132;01m}\u001b[39;00m\u001b[38;5;124m, score=\u001b[39m\u001b[38;5;132;01m{\u001b[39;00mscores[\u001b[38;5;241m-\u001b[39m\u001b[38;5;241m1\u001b[39m]\u001b[38;5;132;01m:\u001b[39;00m\u001b[38;5;124m.7e\u001b[39m\u001b[38;5;132;01m}\u001b[39;00m\u001b[38;5;124m, \u001b[39m\u001b[38;5;124m\"\u001b[39m)\n",
      "Cell \u001b[0;32mIn[3], line 9\u001b[0m, in \u001b[0;36mBatch_Update_CV\u001b[0;34m(pls_i)\u001b[0m\n\u001b[1;32m      7\u001b[0m \u001b[38;5;66;03m# try:\u001b[39;00m\n\u001b[1;32m      8\u001b[0m \u001b[38;5;28;01mfor\u001b[39;00m i,batch \u001b[38;5;129;01min\u001b[39;00m \u001b[38;5;28menumerate\u001b[39m(gen_batches(X_train\u001b[38;5;241m.\u001b[39mshape[\u001b[38;5;241m0\u001b[39m], \u001b[38;5;241m100\u001b[39m)):\n\u001b[0;32m----> 9\u001b[0m     \u001b[43mpls\u001b[49m\u001b[38;5;241;43m.\u001b[39;49m\u001b[43mfit\u001b[49m\u001b[43m(\u001b[49m\u001b[43mX_train\u001b[49m\u001b[43m[\u001b[49m\u001b[43mbatch\u001b[49m\u001b[43m]\u001b[49m\u001b[43m,\u001b[49m\u001b[43m \u001b[49m\u001b[43my_train\u001b[49m\u001b[43m[\u001b[49m\u001b[43mbatch\u001b[49m\u001b[43m]\u001b[49m\u001b[43m)\u001b[49m\n\u001b[1;32m     10\u001b[0m     X_score_train[batch] \u001b[38;5;241m=\u001b[39m norm(pls\u001b[38;5;241m.\u001b[39mtransform(X_train[batch]), \u001b[38;5;28mord\u001b[39m\u001b[38;5;241m=\u001b[39m\u001b[38;5;241m1\u001b[39m, axis\u001b[38;5;241m=\u001b[39m\u001b[38;5;241m1\u001b[39m, keepdims\u001b[38;5;241m=\u001b[39m\u001b[38;5;28;01mTrue\u001b[39;00m)\n\u001b[1;32m     12\u001b[0m X_score_test  \u001b[38;5;241m=\u001b[39m norm(pls\u001b[38;5;241m.\u001b[39mtransform(X_test), \u001b[38;5;28mord\u001b[39m\u001b[38;5;241m=\u001b[39m\u001b[38;5;241m1\u001b[39m, axis\u001b[38;5;241m=\u001b[39m\u001b[38;5;241m1\u001b[39m, keepdims\u001b[38;5;241m=\u001b[39m\u001b[38;5;28;01mTrue\u001b[39;00m)\n",
      "File \u001b[0;32m/video/data/tingan/GitRep/IPLSreview/Code/CIPLS.py:106\u001b[0m, in \u001b[0;36mCIPLS.fit\u001b[0;34m(self, X, Y)\u001b[0m\n\u001b[1;32m    104\u001b[0m             \u001b[38;5;28mself\u001b[39m\u001b[38;5;241m.\u001b[39mx_loadings_[:, c] \u001b[38;5;241m+\u001b[39m\u001b[38;5;241m=\u001b[39m (u \u001b[38;5;241m*\u001b[39m t)\n\u001b[1;32m    105\u001b[0m             \u001b[38;5;28mself\u001b[39m\u001b[38;5;241m.\u001b[39my_loadings_[:, c] \u001b[38;5;241m+\u001b[39m\u001b[38;5;241m=\u001b[39m (l \u001b[38;5;241m*\u001b[39m t)\n\u001b[0;32m--> 106\u001b[0m             t \u001b[38;5;241m=\u001b[39m np\u001b[38;5;241m.\u001b[39mdot(u, \u001b[38;5;28;43mself\u001b[39;49m\u001b[38;5;241;43m.\u001b[39;49m\u001b[43mnormalize\u001b[49m\u001b[43m(\u001b[49m\u001b[43mW\u001b[49m\u001b[43m[\u001b[49m\u001b[43mc\u001b[49m\u001b[43m]\u001b[49m\u001b[38;5;241;43m.\u001b[39;49m\u001b[43mT\u001b[49m\u001b[43m)\u001b[49m)\n\u001b[1;32m    108\u001b[0m \u001b[38;5;28mself\u001b[39m\u001b[38;5;241m.\u001b[39mx_weights_ \u001b[38;5;241m=\u001b[39m W\u001b[38;5;241m.\u001b[39mT\n\u001b[1;32m    109\u001b[0m \u001b[38;5;28;01mreturn\u001b[39;00m \u001b[38;5;28mself\u001b[39m\n",
      "File \u001b[0;32m/video/data/tingan/GitRep/IPLSreview/Code/CIPLS.py:55\u001b[0m, in \u001b[0;36mCIPLS.normalize\u001b[0;34m(self, x)\u001b[0m\n\u001b[1;32m     54\u001b[0m \u001b[38;5;28;01mdef\u001b[39;00m \u001b[38;5;21mnormalize\u001b[39m(\u001b[38;5;28mself\u001b[39m, x):\n\u001b[0;32m---> 55\u001b[0m     \u001b[38;5;28;01mreturn\u001b[39;00m \u001b[43mnormalize\u001b[49m\u001b[43m(\u001b[49m\u001b[43mx\u001b[49m\u001b[43m[\u001b[49m\u001b[43m:\u001b[49m\u001b[43m,\u001b[49m\u001b[43m \u001b[49m\u001b[43mnp\u001b[49m\u001b[38;5;241;43m.\u001b[39;49m\u001b[43mnewaxis\u001b[49m\u001b[43m]\u001b[49m\u001b[43m,\u001b[49m\u001b[43m \u001b[49m\u001b[43maxis\u001b[49m\u001b[38;5;241;43m=\u001b[39;49m\u001b[38;5;241;43m0\u001b[39;49m\u001b[43m)\u001b[49m\u001b[38;5;241m.\u001b[39mravel()\n",
      "File \u001b[0;32m~/miniconda3/envs/pls/lib/python3.9/site-packages/sklearn/utils/_param_validation.py:213\u001b[0m, in \u001b[0;36mvalidate_params.<locals>.decorator.<locals>.wrapper\u001b[0;34m(*args, **kwargs)\u001b[0m\n\u001b[1;32m    207\u001b[0m \u001b[38;5;28;01mtry\u001b[39;00m:\n\u001b[1;32m    208\u001b[0m     \u001b[38;5;28;01mwith\u001b[39;00m config_context(\n\u001b[1;32m    209\u001b[0m         skip_parameter_validation\u001b[38;5;241m=\u001b[39m(\n\u001b[1;32m    210\u001b[0m             prefer_skip_nested_validation \u001b[38;5;129;01mor\u001b[39;00m global_skip_validation\n\u001b[1;32m    211\u001b[0m         )\n\u001b[1;32m    212\u001b[0m     ):\n\u001b[0;32m--> 213\u001b[0m         \u001b[38;5;28;01mreturn\u001b[39;00m \u001b[43mfunc\u001b[49m\u001b[43m(\u001b[49m\u001b[38;5;241;43m*\u001b[39;49m\u001b[43margs\u001b[49m\u001b[43m,\u001b[49m\u001b[43m \u001b[49m\u001b[38;5;241;43m*\u001b[39;49m\u001b[38;5;241;43m*\u001b[39;49m\u001b[43mkwargs\u001b[49m\u001b[43m)\u001b[49m\n\u001b[1;32m    214\u001b[0m \u001b[38;5;28;01mexcept\u001b[39;00m InvalidParameterError \u001b[38;5;28;01mas\u001b[39;00m e:\n\u001b[1;32m    215\u001b[0m     \u001b[38;5;66;03m# When the function is just a wrapper around an estimator, we allow\u001b[39;00m\n\u001b[1;32m    216\u001b[0m     \u001b[38;5;66;03m# the function to delegate validation to the estimator, but we replace\u001b[39;00m\n\u001b[1;32m    217\u001b[0m     \u001b[38;5;66;03m# the name of the estimator by the name of the function in the error\u001b[39;00m\n\u001b[1;32m    218\u001b[0m     \u001b[38;5;66;03m# message to avoid confusion.\u001b[39;00m\n\u001b[1;32m    219\u001b[0m     msg \u001b[38;5;241m=\u001b[39m re\u001b[38;5;241m.\u001b[39msub(\n\u001b[1;32m    220\u001b[0m         \u001b[38;5;124mr\u001b[39m\u001b[38;5;124m\"\u001b[39m\u001b[38;5;124mparameter of \u001b[39m\u001b[38;5;124m\\\u001b[39m\u001b[38;5;124mw+ must be\u001b[39m\u001b[38;5;124m\"\u001b[39m,\n\u001b[1;32m    221\u001b[0m         \u001b[38;5;124mf\u001b[39m\u001b[38;5;124m\"\u001b[39m\u001b[38;5;124mparameter of \u001b[39m\u001b[38;5;132;01m{\u001b[39;00mfunc\u001b[38;5;241m.\u001b[39m\u001b[38;5;18m__qualname__\u001b[39m\u001b[38;5;132;01m}\u001b[39;00m\u001b[38;5;124m must be\u001b[39m\u001b[38;5;124m\"\u001b[39m,\n\u001b[1;32m    222\u001b[0m         \u001b[38;5;28mstr\u001b[39m(e),\n\u001b[1;32m    223\u001b[0m     )\n",
      "File \u001b[0;32m~/miniconda3/envs/pls/lib/python3.9/site-packages/sklearn/preprocessing/_data.py:1925\u001b[0m, in \u001b[0;36mnormalize\u001b[0;34m(X, norm, axis, copy, return_norm)\u001b[0m\n\u001b[1;32m   1921\u001b[0m     sparse_format \u001b[38;5;241m=\u001b[39m \u001b[38;5;124m\"\u001b[39m\u001b[38;5;124mcsr\u001b[39m\u001b[38;5;124m\"\u001b[39m\n\u001b[1;32m   1923\u001b[0m xp, _ \u001b[38;5;241m=\u001b[39m get_namespace(X)\n\u001b[0;32m-> 1925\u001b[0m X \u001b[38;5;241m=\u001b[39m \u001b[43mcheck_array\u001b[49m\u001b[43m(\u001b[49m\n\u001b[1;32m   1926\u001b[0m \u001b[43m    \u001b[49m\u001b[43mX\u001b[49m\u001b[43m,\u001b[49m\n\u001b[1;32m   1927\u001b[0m \u001b[43m    \u001b[49m\u001b[43maccept_sparse\u001b[49m\u001b[38;5;241;43m=\u001b[39;49m\u001b[43msparse_format\u001b[49m\u001b[43m,\u001b[49m\n\u001b[1;32m   1928\u001b[0m \u001b[43m    \u001b[49m\u001b[43mcopy\u001b[49m\u001b[38;5;241;43m=\u001b[39;49m\u001b[43mcopy\u001b[49m\u001b[43m,\u001b[49m\n\u001b[1;32m   1929\u001b[0m \u001b[43m    \u001b[49m\u001b[43mestimator\u001b[49m\u001b[38;5;241;43m=\u001b[39;49m\u001b[38;5;124;43m\"\u001b[39;49m\u001b[38;5;124;43mthe normalize function\u001b[39;49m\u001b[38;5;124;43m\"\u001b[39;49m\u001b[43m,\u001b[49m\n\u001b[1;32m   1930\u001b[0m \u001b[43m    \u001b[49m\u001b[43mdtype\u001b[49m\u001b[38;5;241;43m=\u001b[39;49m\u001b[43m_array_api\u001b[49m\u001b[38;5;241;43m.\u001b[39;49m\u001b[43msupported_float_dtypes\u001b[49m\u001b[43m(\u001b[49m\u001b[43mxp\u001b[49m\u001b[43m)\u001b[49m\u001b[43m,\u001b[49m\n\u001b[1;32m   1931\u001b[0m \u001b[43m\u001b[49m\u001b[43m)\u001b[49m\n\u001b[1;32m   1932\u001b[0m \u001b[38;5;28;01mif\u001b[39;00m axis \u001b[38;5;241m==\u001b[39m \u001b[38;5;241m0\u001b[39m:\n\u001b[1;32m   1933\u001b[0m     X \u001b[38;5;241m=\u001b[39m X\u001b[38;5;241m.\u001b[39mT\n",
      "File \u001b[0;32m~/miniconda3/envs/pls/lib/python3.9/site-packages/sklearn/utils/validation.py:1059\u001b[0m, in \u001b[0;36mcheck_array\u001b[0;34m(array, accept_sparse, accept_large_sparse, dtype, order, copy, force_all_finite, ensure_2d, allow_nd, ensure_min_samples, ensure_min_features, estimator, input_name)\u001b[0m\n\u001b[1;32m   1053\u001b[0m     \u001b[38;5;28;01mraise\u001b[39;00m \u001b[38;5;167;01mValueError\u001b[39;00m(\n\u001b[1;32m   1054\u001b[0m         \u001b[38;5;124m\"\u001b[39m\u001b[38;5;124mFound array with dim \u001b[39m\u001b[38;5;132;01m%d\u001b[39;00m\u001b[38;5;124m. \u001b[39m\u001b[38;5;132;01m%s\u001b[39;00m\u001b[38;5;124m expected <= 2.\u001b[39m\u001b[38;5;124m\"\u001b[39m\n\u001b[1;32m   1055\u001b[0m         \u001b[38;5;241m%\u001b[39m (array\u001b[38;5;241m.\u001b[39mndim, estimator_name)\n\u001b[1;32m   1056\u001b[0m     )\n\u001b[1;32m   1058\u001b[0m \u001b[38;5;28;01mif\u001b[39;00m force_all_finite:\n\u001b[0;32m-> 1059\u001b[0m     \u001b[43m_assert_all_finite\u001b[49m\u001b[43m(\u001b[49m\n\u001b[1;32m   1060\u001b[0m \u001b[43m        \u001b[49m\u001b[43marray\u001b[49m\u001b[43m,\u001b[49m\n\u001b[1;32m   1061\u001b[0m \u001b[43m        \u001b[49m\u001b[43minput_name\u001b[49m\u001b[38;5;241;43m=\u001b[39;49m\u001b[43minput_name\u001b[49m\u001b[43m,\u001b[49m\n\u001b[1;32m   1062\u001b[0m \u001b[43m        \u001b[49m\u001b[43mestimator_name\u001b[49m\u001b[38;5;241;43m=\u001b[39;49m\u001b[43mestimator_name\u001b[49m\u001b[43m,\u001b[49m\n\u001b[1;32m   1063\u001b[0m \u001b[43m        \u001b[49m\u001b[43mallow_nan\u001b[49m\u001b[38;5;241;43m=\u001b[39;49m\u001b[43mforce_all_finite\u001b[49m\u001b[43m \u001b[49m\u001b[38;5;241;43m==\u001b[39;49m\u001b[43m \u001b[49m\u001b[38;5;124;43m\"\u001b[39;49m\u001b[38;5;124;43mallow-nan\u001b[39;49m\u001b[38;5;124;43m\"\u001b[39;49m\u001b[43m,\u001b[49m\n\u001b[1;32m   1064\u001b[0m \u001b[43m    \u001b[49m\u001b[43m)\u001b[49m\n\u001b[1;32m   1066\u001b[0m \u001b[38;5;28;01mif\u001b[39;00m copy:\n\u001b[1;32m   1067\u001b[0m     \u001b[38;5;28;01mif\u001b[39;00m _is_numpy_namespace(xp):\n\u001b[1;32m   1068\u001b[0m         \u001b[38;5;66;03m# only make a copy if `array` and `array_orig` may share memory`\u001b[39;00m\n",
      "File \u001b[0;32m~/miniconda3/envs/pls/lib/python3.9/site-packages/sklearn/utils/validation.py:126\u001b[0m, in \u001b[0;36m_assert_all_finite\u001b[0;34m(X, allow_nan, msg_dtype, estimator_name, input_name)\u001b[0m\n\u001b[1;32m    123\u001b[0m \u001b[38;5;28;01mif\u001b[39;00m first_pass_isfinite:\n\u001b[1;32m    124\u001b[0m     \u001b[38;5;28;01mreturn\u001b[39;00m\n\u001b[0;32m--> 126\u001b[0m \u001b[43m_assert_all_finite_element_wise\u001b[49m\u001b[43m(\u001b[49m\n\u001b[1;32m    127\u001b[0m \u001b[43m    \u001b[49m\u001b[43mX\u001b[49m\u001b[43m,\u001b[49m\n\u001b[1;32m    128\u001b[0m \u001b[43m    \u001b[49m\u001b[43mxp\u001b[49m\u001b[38;5;241;43m=\u001b[39;49m\u001b[43mxp\u001b[49m\u001b[43m,\u001b[49m\n\u001b[1;32m    129\u001b[0m \u001b[43m    \u001b[49m\u001b[43mallow_nan\u001b[49m\u001b[38;5;241;43m=\u001b[39;49m\u001b[43mallow_nan\u001b[49m\u001b[43m,\u001b[49m\n\u001b[1;32m    130\u001b[0m \u001b[43m    \u001b[49m\u001b[43mmsg_dtype\u001b[49m\u001b[38;5;241;43m=\u001b[39;49m\u001b[43mmsg_dtype\u001b[49m\u001b[43m,\u001b[49m\n\u001b[1;32m    131\u001b[0m \u001b[43m    \u001b[49m\u001b[43mestimator_name\u001b[49m\u001b[38;5;241;43m=\u001b[39;49m\u001b[43mestimator_name\u001b[49m\u001b[43m,\u001b[49m\n\u001b[1;32m    132\u001b[0m \u001b[43m    \u001b[49m\u001b[43minput_name\u001b[49m\u001b[38;5;241;43m=\u001b[39;49m\u001b[43minput_name\u001b[49m\u001b[43m,\u001b[49m\n\u001b[1;32m    133\u001b[0m \u001b[43m\u001b[49m\u001b[43m)\u001b[49m\n",
      "File \u001b[0;32m~/miniconda3/envs/pls/lib/python3.9/site-packages/sklearn/utils/validation.py:175\u001b[0m, in \u001b[0;36m_assert_all_finite_element_wise\u001b[0;34m(X, xp, allow_nan, msg_dtype, estimator_name, input_name)\u001b[0m\n\u001b[1;32m    158\u001b[0m \u001b[38;5;28;01mif\u001b[39;00m estimator_name \u001b[38;5;129;01mand\u001b[39;00m input_name \u001b[38;5;241m==\u001b[39m \u001b[38;5;124m\"\u001b[39m\u001b[38;5;124mX\u001b[39m\u001b[38;5;124m\"\u001b[39m \u001b[38;5;129;01mand\u001b[39;00m has_nan_error:\n\u001b[1;32m    159\u001b[0m     \u001b[38;5;66;03m# Improve the error message on how to handle missing values in\u001b[39;00m\n\u001b[1;32m    160\u001b[0m     \u001b[38;5;66;03m# scikit-learn.\u001b[39;00m\n\u001b[1;32m    161\u001b[0m     msg_err \u001b[38;5;241m+\u001b[39m\u001b[38;5;241m=\u001b[39m (\n\u001b[1;32m    162\u001b[0m         \u001b[38;5;124mf\u001b[39m\u001b[38;5;124m\"\u001b[39m\u001b[38;5;130;01m\\n\u001b[39;00m\u001b[38;5;132;01m{\u001b[39;00mestimator_name\u001b[38;5;132;01m}\u001b[39;00m\u001b[38;5;124m does not accept missing values\u001b[39m\u001b[38;5;124m\"\u001b[39m\n\u001b[1;32m    163\u001b[0m         \u001b[38;5;124m\"\u001b[39m\u001b[38;5;124m encoded as NaN natively. For supervised learning, you might want\u001b[39m\u001b[38;5;124m\"\u001b[39m\n\u001b[0;32m   (...)\u001b[0m\n\u001b[1;32m    173\u001b[0m         \u001b[38;5;124m\"\u001b[39m\u001b[38;5;124m#estimators-that-handle-nan-values\u001b[39m\u001b[38;5;124m\"\u001b[39m\n\u001b[1;32m    174\u001b[0m     )\n\u001b[0;32m--> 175\u001b[0m \u001b[38;5;28;01mraise\u001b[39;00m \u001b[38;5;167;01mValueError\u001b[39;00m(msg_err)\n",
      "\u001b[0;31mValueError\u001b[0m: Input contains infinity or a value too large for dtype('float64')."
     ]
    }
   ],
   "source": [
    " import Code.CIPLS\n",
    "importlib.reload(Code.CIPLS)\n",
    "from Code.CIPLS import CIPLS\n",
    "\n",
    "n_comp_lst=list(range(1,50))\n",
    "scores = []\n",
    "params = []\n",
    "for n_comp in n_comp_lst:\n",
    "    pls = CIPLS(n_components=n_comp)\n",
    "    scores.append(Batch_Update_CV(pls))\n",
    "    params.append({'n_comp': n_comp})\n",
    "    print(f\"params={params[-1]}, score={scores[-1]:.7e}, \")\n",
    "\n",
    "best_ind = np.nanargmax(scores)\n",
    "print(\"\")\n",
    "print(f\"best parameter: {params[best_ind]}; score: {scores[best_ind]:.7e}; \")"
   ]
  },
  {
   "cell_type": "code",
   "execution_count": 7,
   "id": "6b186b4a-6f9a-44ac-8104-fcd3306c7826",
   "metadata": {
    "collapsed": false
   },
   "outputs": [
    {
     "name": "stdout",
     "output_type": "stream",
     "text": [
      "params={'n_comp': 1}, score=6.1818182e-01, \n"
     ]
    },
    {
     "name": "stdout",
     "output_type": "stream",
     "text": [
      "params={'n_comp': 2}, score=6.6363636e-01, \n"
     ]
    },
    {
     "name": "stdout",
     "output_type": "stream",
     "text": [
      "params={'n_comp': 3}, score=6.9090909e-01, \n"
     ]
    },
    {
     "name": "stdout",
     "output_type": "stream",
     "text": [
      "params={'n_comp': 4}, score=7.1363636e-01, \n"
     ]
    },
    {
     "name": "stdout",
     "output_type": "stream",
     "text": [
      "params={'n_comp': 5}, score=7.0909091e-01, \n"
     ]
    },
    {
     "name": "stdout",
     "output_type": "stream",
     "text": [
      "params={'n_comp': 6}, score=6.9090909e-01, \n"
     ]
    },
    {
     "name": "stdout",
     "output_type": "stream",
     "text": [
      "params={'n_comp': 7}, score=7.2727273e-01, \n"
     ]
    },
    {
     "name": "stdout",
     "output_type": "stream",
     "text": [
      "params={'n_comp': 8}, score=7.3181818e-01, \n"
     ]
    },
    {
     "name": "stdout",
     "output_type": "stream",
     "text": [
      "params={'n_comp': 9}, score=7.1818182e-01, \n"
     ]
    },
    {
     "name": "stdout",
     "output_type": "stream",
     "text": [
      "params={'n_comp': 10}, score=7.1363636e-01, \n"
     ]
    },
    {
     "name": "stdout",
     "output_type": "stream",
     "text": [
      "params={'n_comp': 11}, score=7.0000000e-01, \n"
     ]
    },
    {
     "name": "stdout",
     "output_type": "stream",
     "text": [
      "params={'n_comp': 12}, score=7.0454545e-01, \n"
     ]
    },
    {
     "name": "stdout",
     "output_type": "stream",
     "text": [
      "params={'n_comp': 13}, score=7.1363636e-01, \n"
     ]
    },
    {
     "name": "stdout",
     "output_type": "stream",
     "text": [
      "params={'n_comp': 14}, score=6.9545455e-01, \n"
     ]
    },
    {
     "name": "stdout",
     "output_type": "stream",
     "text": [
      "params={'n_comp': 15}, score=6.8636364e-01, \n"
     ]
    },
    {
     "name": "stdout",
     "output_type": "stream",
     "text": [
      "params={'n_comp': 16}, score=6.6818182e-01, \n"
     ]
    },
    {
     "name": "stdout",
     "output_type": "stream",
     "text": [
      "params={'n_comp': 17}, score=6.5909091e-01, \n"
     ]
    },
    {
     "name": "stdout",
     "output_type": "stream",
     "text": [
      "params={'n_comp': 18}, score=6.5000000e-01, \n"
     ]
    },
    {
     "name": "stdout",
     "output_type": "stream",
     "text": [
      "params={'n_comp': 19}, score=6.5000000e-01, \n"
     ]
    },
    {
     "name": "stdout",
     "output_type": "stream",
     "text": [
      "params={'n_comp': 20}, score=6.4545455e-01, \n"
     ]
    },
    {
     "name": "stdout",
     "output_type": "stream",
     "text": [
      "params={'n_comp': 21}, score=6.4545455e-01, \n"
     ]
    },
    {
     "name": "stdout",
     "output_type": "stream",
     "text": [
      "params={'n_comp': 22}, score=6.4090909e-01, \n"
     ]
    },
    {
     "name": "stdout",
     "output_type": "stream",
     "text": [
      "params={'n_comp': 23}, score=6.3181818e-01, \n"
     ]
    },
    {
     "name": "stdout",
     "output_type": "stream",
     "text": [
      "params={'n_comp': 24}, score=6.3181818e-01, \n"
     ]
    },
    {
     "name": "stdout",
     "output_type": "stream",
     "text": [
      "params={'n_comp': 25}, score=6.3181818e-01, \n"
     ]
    },
    {
     "name": "stdout",
     "output_type": "stream",
     "text": [
      "params={'n_comp': 26}, score=6.3181818e-01, \n"
     ]
    },
    {
     "name": "stdout",
     "output_type": "stream",
     "text": [
      "params={'n_comp': 27}, score=6.3181818e-01, \n"
     ]
    },
    {
     "name": "stdout",
     "output_type": "stream",
     "text": [
      "params={'n_comp': 28}, score=6.3181818e-01, \n"
     ]
    },
    {
     "name": "stdout",
     "output_type": "stream",
     "text": [
      "params={'n_comp': 29}, score=6.3181818e-01, \n"
     ]
    },
    {
     "name": "stdout",
     "output_type": "stream",
     "text": [
      "params={'n_comp': 30}, score=6.2727273e-01, \n"
     ]
    },
    {
     "name": "stdout",
     "output_type": "stream",
     "text": [
      "params={'n_comp': 31}, score=6.2727273e-01, \n"
     ]
    },
    {
     "name": "stdout",
     "output_type": "stream",
     "text": [
      "params={'n_comp': 32}, score=6.2272727e-01, \n"
     ]
    },
    {
     "name": "stdout",
     "output_type": "stream",
     "text": [
      "params={'n_comp': 33}, score=6.1818182e-01, \n"
     ]
    },
    {
     "name": "stdout",
     "output_type": "stream",
     "text": [
      "params={'n_comp': 34}, score=6.1818182e-01, \n"
     ]
    },
    {
     "name": "stdout",
     "output_type": "stream",
     "text": [
      "params={'n_comp': 35}, score=6.0909091e-01, \n"
     ]
    },
    {
     "name": "stdout",
     "output_type": "stream",
     "text": [
      "params={'n_comp': 36}, score=6.0909091e-01, \n"
     ]
    },
    {
     "name": "stdout",
     "output_type": "stream",
     "text": [
      "params={'n_comp': 37}, score=6.0909091e-01, \n"
     ]
    },
    {
     "name": "stdout",
     "output_type": "stream",
     "text": [
      "params={'n_comp': 38}, score=6.0454545e-01, \n"
     ]
    },
    {
     "name": "stdout",
     "output_type": "stream",
     "text": [
      "params={'n_comp': 39}, score=6.0454545e-01, \n"
     ]
    },
    {
     "name": "stdout",
     "output_type": "stream",
     "text": [
      "params={'n_comp': 40}, score=6.0454545e-01, \n"
     ]
    },
    {
     "name": "stdout",
     "output_type": "stream",
     "text": [
      "params={'n_comp': 41}, score=6.0454545e-01, \n"
     ]
    },
    {
     "name": "stdout",
     "output_type": "stream",
     "text": [
      "params={'n_comp': 42}, score=6.0454545e-01, \n"
     ]
    },
    {
     "name": "stdout",
     "output_type": "stream",
     "text": [
      "params={'n_comp': 43}, score=6.0454545e-01, \n"
     ]
    },
    {
     "name": "stdout",
     "output_type": "stream",
     "text": [
      "params={'n_comp': 44}, score=6.0454545e-01, \n"
     ]
    },
    {
     "name": "stdout",
     "output_type": "stream",
     "text": [
      "params={'n_comp': 45}, score=6.0454545e-01, \n"
     ]
    },
    {
     "name": "stdout",
     "output_type": "stream",
     "text": [
      "params={'n_comp': 46}, score=6.0454545e-01, \n"
     ]
    },
    {
     "name": "stdout",
     "output_type": "stream",
     "text": [
      "params={'n_comp': 47}, score=6.0454545e-01, \n"
     ]
    },
    {
     "name": "stdout",
     "output_type": "stream",
     "text": [
      "params={'n_comp': 48}, score=6.0454545e-01, \n"
     ]
    },
    {
     "name": "stdout",
     "output_type": "stream",
     "text": [
      "params={'n_comp': 49}, score=6.0454545e-01, \n",
      "\n",
      "best parameter: {'n_comp': 8}; score: 7.3181818e-01; \n"
     ]
    }
   ],
   "source": [
    " import Code.IPLS\n",
    "importlib.reload(Code.IPLS)\n",
    "from Code.IPLS import IPLS\n",
    "\n",
    "n_comp_lst=list(range(1,50))\n",
    "scores = []\n",
    "params = []\n",
    "for n_comp in n_comp_lst:\n",
    "    pls = IPLS(n_components=n_comp)\n",
    "    scores.append(Batch_Update_CV(pls))\n",
    "    params.append({'n_comp': n_comp})\n",
    "    print(f\"params={params[-1]}, score={scores[-1]:.7e}, \")\n",
    "\n",
    "best_ind = np.nanargmax(scores)\n",
    "print(\"\")\n",
    "print(f\"best parameter: {params[best_ind]}; score: {scores[best_ind]:.7e}; \")"
   ]
  },
  {
   "cell_type": "code",
   "execution_count": null,
   "id": "0e441136-496c-44e8-9901-64e3f3b0e3b1",
   "metadata": {
    "collapsed": false
   },
   "outputs": [],
   "source": []
  }
 ],
 "metadata": {
  "kernelspec": {
   "argv": [
    "/home/tingan/miniconda3/envs/pls/bin/python",
    "-m",
    "ipykernel_launcher",
    "-f",
    "{connection_file}"
   ],
   "display_name": "Python 3 (ipykernel)",
   "env": null,
   "interrupt_mode": "signal",
   "language": "python",
   "metadata": {
    "debugger": true
   },
   "name": "python3"
  },
  "language_info": {
   "codemirror_mode": {
    "name": "ipython",
    "version": 3
   },
   "file_extension": ".py",
   "mimetype": "text/x-python",
   "name": "python",
   "nbconvert_exporter": "python",
   "pygments_lexer": "ipython3",
   "version": "3.9.15"
  },
  "name": "CV_LFW.ipynb"
 },
 "nbformat": 4,
 "nbformat_minor": 5
}
