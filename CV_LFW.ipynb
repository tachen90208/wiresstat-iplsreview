{
 "cells": [
  {
   "cell_type": "code",
   "execution_count": 1,
   "id": "1fa47994-c7dd-4961-a181-549a7ba83e0a",
   "metadata": {
    "collapsed": false,
    "jupyter": {
     "outputs_hidden": false
    }
   },
   "outputs": [],
   "source": [
    "import importlib\n",
    "from sklearn.metrics import accuracy_score\n",
    "import copy\n",
    "from sklearn.model_selection import GridSearchCV, KFold, train_test_split\n",
    "from sklearn.utils import gen_batches\n",
    "from sklearn.linear_model import LogisticRegression\n",
    "from sklearn.cross_decomposition import PLSRegression\n",
    "import numpy as np\n",
    "from numpy.linalg import norm\n",
    "# ----------------------------------------\n",
    "from skopt.space import Integer, Real\n",
    "from skopt.utils import use_named_args\n",
    "from skopt import gp_minimize\n",
    "# ----------------------------------------\n",
    "\n",
    "# import warnings\n",
    "# warnings.filterwarnings('ignore')\n",
    "\n",
    "from pytictoc import TicToc\n",
    "tim=TicToc()\n",
    "tim_tot = TicToc()"
   ]
  },
  {
   "cell_type": "code",
   "execution_count": 2,
   "id": "7923ec1f-55c0-4800-949a-217b41582331",
   "metadata": {
    "collapsed": false,
    "jupyter": {
     "outputs_hidden": false
    }
   },
   "outputs": [
    {
     "name": "stdout",
     "output_type": "stream",
     "text": [
      "(2200, 512)\n",
      "(1000, 512)\n",
      "(2200,)\n",
      "(1000,)\n"
     ]
    }
   ],
   "source": [
    "with np.load(\"./data/lfw.npz\") as data:\n",
    "    fea_train = data['fea_train']\n",
    "    fea_test  = data['fea_test']\n",
    "    X_train    = data['X_train']\n",
    "    label_train    = data['y_train']\n",
    "    X_test    = data['X_test']\n",
    "    label_test    = data['y_test']\n",
    "print(fea_train.shape)\n",
    "print(fea_test.shape)\n",
    "# print(X_train.shape)\n",
    "# print(X_test.shape)\n",
    "print(label_train.shape)\n",
    "print(label_test.shape)"
   ]
  },
  {
   "cell_type": "code",
   "execution_count": 3,
   "id": "077d81fa-6276-446a-a457-5dd5089bf798",
   "metadata": {
    "collapsed": false,
    "jupyter": {
     "outputs_hidden": false
    }
   },
   "outputs": [],
   "source": [
    "X_train, X_test, y_train, y_test = train_test_split(\n",
    "    fea_train, label_train, test_size=0.1, random_state=42)\n",
    "\n",
    "def Batch_Update_CV(pls_i):\n",
    "    pls = copy.deepcopy(pls_i)\n",
    "    X_score_train = np.zeros((X_train.shape[0], 1))\n",
    "    # try:\n",
    "    for i,batch in enumerate(gen_batches(X_train.shape[0], 100)):\n",
    "        pls.fit(X_train[batch], y_train[batch])\n",
    "        X_score_train[batch] = norm(pls.transform(X_train[batch]), ord=1, axis=1, keepdims=True)\n",
    "\n",
    "    X_score_test  = norm(pls.transform(X_test), ord=1, axis=1, keepdims=True)\n",
    "    y_pred = LogisticRegression(penalty=None).fit(X_score_train, y_train) \\\n",
    "                                             .predict(X_score_test)\n",
    "    score = accuracy_score(y_test, y_pred)\n",
    "    # except Exception as e:\n",
    "    #     print(\"-\"*20)\n",
    "    #     print(\" Error: \", e)\n",
    "    #     score = np.nan\n",
    "    return score\n",
    "\n",
    "def Model_Score(pls):\n",
    "    pls.fit(X_train, y_train)\n",
    "    X_score_train = norm(pls.transform(X_train), ord=1, axis=1, keepdims=True)\n",
    "    X_score_test  = norm(pls.transform(X_test), ord=1, axis=1, keepdims=True)\n",
    "    y_pred = LogisticRegression(penalty=None).fit(X_score_train, y_train) \\\n",
    "                                             .predict(X_score_test)\n",
    "\n",
    "    return accuracy_score(y_test, y_pred)"
   ]
  },
  {
   "cell_type": "code",
   "execution_count": 5,
   "id": "71372619-1570-4672-96b6-430f3d83f33d",
   "metadata": {
    "collapsed": false,
    "jupyter": {
     "outputs_hidden": false
    }
   },
   "outputs": [
    {
     "name": "stdout",
     "output_type": "stream",
     "text": [
      "params={'n_comp': 1}, score=6.2727273e-01, \n",
      "params={'n_comp': 2}, score=6.8636364e-01, \n",
      "params={'n_comp': 3}, score=7.3181818e-01, \n"
     ]
    },
    {
     "name": "stdout",
     "output_type": "stream",
     "text": [
      "params={'n_comp': 4}, score=7.1363636e-01, \n",
      "params={'n_comp': 5}, score=7.3636364e-01, \n"
     ]
    },
    {
     "name": "stdout",
     "output_type": "stream",
     "text": [
      "params={'n_comp': 6}, score=7.5454545e-01, \n",
      "params={'n_comp': 7}, score=7.5909091e-01, \n",
      "params={'n_comp': 8}, score=7.8636364e-01, \n"
     ]
    },
    {
     "name": "stdout",
     "output_type": "stream",
     "text": [
      "params={'n_comp': 9}, score=7.9090909e-01, \n",
      "params={'n_comp': 10}, score=7.9545455e-01, \n",
      "params={'n_comp': 11}, score=7.8636364e-01, \n"
     ]
    },
    {
     "name": "stdout",
     "output_type": "stream",
     "text": [
      "params={'n_comp': 12}, score=8.0000000e-01, \n",
      "params={'n_comp': 13}, score=7.9090909e-01, \n"
     ]
    },
    {
     "name": "stdout",
     "output_type": "stream",
     "text": [
      "params={'n_comp': 14}, score=7.8636364e-01, \n",
      "params={'n_comp': 15}, score=7.9545455e-01, \n"
     ]
    },
    {
     "name": "stdout",
     "output_type": "stream",
     "text": [
      "params={'n_comp': 16}, score=8.0000000e-01, \n",
      "params={'n_comp': 17}, score=8.0454545e-01, \n"
     ]
    },
    {
     "name": "stdout",
     "output_type": "stream",
     "text": [
      "params={'n_comp': 18}, score=8.0909091e-01, \n"
     ]
    },
    {
     "name": "stdout",
     "output_type": "stream",
     "text": [
      "params={'n_comp': 19}, score=8.1818182e-01, \n",
      "params={'n_comp': 20}, score=8.1818182e-01, \n"
     ]
    },
    {
     "name": "stdout",
     "output_type": "stream",
     "text": [
      "params={'n_comp': 21}, score=8.2727273e-01, \n",
      "params={'n_comp': 22}, score=8.0454545e-01, \n"
     ]
    },
    {
     "name": "stdout",
     "output_type": "stream",
     "text": [
      "params={'n_comp': 23}, score=8.0454545e-01, \n",
      "params={'n_comp': 24}, score=8.1818182e-01, \n"
     ]
    },
    {
     "name": "stdout",
     "output_type": "stream",
     "text": [
      "params={'n_comp': 25}, score=8.3636364e-01, \n",
      "params={'n_comp': 26}, score=8.2272727e-01, \n"
     ]
    },
    {
     "name": "stdout",
     "output_type": "stream",
     "text": [
      "params={'n_comp': 27}, score=8.3636364e-01, \n",
      "params={'n_comp': 28}, score=8.3181818e-01, \n"
     ]
    },
    {
     "name": "stdout",
     "output_type": "stream",
     "text": [
      "params={'n_comp': 29}, score=8.2727273e-01, \n",
      "params={'n_comp': 30}, score=8.4545455e-01, \n"
     ]
    },
    {
     "name": "stdout",
     "output_type": "stream",
     "text": [
      "params={'n_comp': 31}, score=8.5454545e-01, \n",
      "params={'n_comp': 32}, score=8.4545455e-01, \n"
     ]
    },
    {
     "name": "stdout",
     "output_type": "stream",
     "text": [
      "params={'n_comp': 33}, score=8.5000000e-01, \n"
     ]
    },
    {
     "name": "stdout",
     "output_type": "stream",
     "text": [
      "params={'n_comp': 34}, score=8.3636364e-01, \n"
     ]
    },
    {
     "name": "stdout",
     "output_type": "stream",
     "text": [
      "params={'n_comp': 35}, score=8.4090909e-01, \n"
     ]
    },
    {
     "name": "stdout",
     "output_type": "stream",
     "text": [
      "params={'n_comp': 36}, score=8.3181818e-01, \n"
     ]
    },
    {
     "name": "stdout",
     "output_type": "stream",
     "text": [
      "params={'n_comp': 37}, score=8.3181818e-01, \n"
     ]
    },
    {
     "name": "stdout",
     "output_type": "stream",
     "text": [
      "params={'n_comp': 38}, score=8.5000000e-01, \n"
     ]
    },
    {
     "name": "stdout",
     "output_type": "stream",
     "text": [
      "params={'n_comp': 39}, score=8.4545455e-01, \n"
     ]
    },
    {
     "name": "stdout",
     "output_type": "stream",
     "text": [
      "params={'n_comp': 40}, score=8.3181818e-01, \n"
     ]
    },
    {
     "name": "stdout",
     "output_type": "stream",
     "text": [
      "params={'n_comp': 41}, score=8.3181818e-01, \n"
     ]
    },
    {
     "name": "stdout",
     "output_type": "stream",
     "text": [
      "params={'n_comp': 42}, score=8.5000000e-01, \n"
     ]
    },
    {
     "name": "stdout",
     "output_type": "stream",
     "text": [
      "params={'n_comp': 43}, score=8.5454545e-01, \n"
     ]
    },
    {
     "name": "stdout",
     "output_type": "stream",
     "text": [
      "params={'n_comp': 44}, score=8.5454545e-01, \n"
     ]
    },
    {
     "name": "stdout",
     "output_type": "stream",
     "text": [
      "params={'n_comp': 45}, score=8.4090909e-01, \n"
     ]
    },
    {
     "name": "stdout",
     "output_type": "stream",
     "text": [
      "params={'n_comp': 46}, score=8.3181818e-01, \n"
     ]
    },
    {
     "name": "stdout",
     "output_type": "stream",
     "text": [
      "params={'n_comp': 47}, score=8.3636364e-01, \n"
     ]
    },
    {
     "name": "stdout",
     "output_type": "stream",
     "text": [
      "params={'n_comp': 48}, score=8.3636364e-01, \n"
     ]
    },
    {
     "name": "stdout",
     "output_type": "stream",
     "text": [
      "params={'n_comp': 49}, score=8.3181818e-01, \n"
     ]
    },
    {
     "name": "stdout",
     "output_type": "stream",
     "text": [
      "params={'n_comp': 50}, score=8.3636364e-01, \n"
     ]
    },
    {
     "name": "stdout",
     "output_type": "stream",
     "text": [
      "params={'n_comp': 51}, score=8.2727273e-01, \n"
     ]
    },
    {
     "name": "stdout",
     "output_type": "stream",
     "text": [
      "params={'n_comp': 52}, score=8.2727273e-01, \n"
     ]
    },
    {
     "name": "stdout",
     "output_type": "stream",
     "text": [
      "params={'n_comp': 53}, score=8.2727273e-01, \n"
     ]
    },
    {
     "name": "stdout",
     "output_type": "stream",
     "text": [
      "params={'n_comp': 54}, score=8.3181818e-01, \n"
     ]
    },
    {
     "name": "stdout",
     "output_type": "stream",
     "text": [
      "params={'n_comp': 55}, score=8.2727273e-01, \n"
     ]
    },
    {
     "name": "stdout",
     "output_type": "stream",
     "text": [
      "params={'n_comp': 56}, score=8.3181818e-01, \n"
     ]
    },
    {
     "name": "stdout",
     "output_type": "stream",
     "text": [
      "params={'n_comp': 57}, score=8.3181818e-01, \n"
     ]
    },
    {
     "name": "stdout",
     "output_type": "stream",
     "text": [
      "params={'n_comp': 58}, score=8.2272727e-01, \n"
     ]
    },
    {
     "name": "stdout",
     "output_type": "stream",
     "text": [
      "params={'n_comp': 59}, score=8.1818182e-01, \n"
     ]
    },
    {
     "name": "stdout",
     "output_type": "stream",
     "text": [
      "params={'n_comp': 60}, score=8.3181818e-01, \n"
     ]
    },
    {
     "name": "stdout",
     "output_type": "stream",
     "text": [
      "params={'n_comp': 61}, score=8.2272727e-01, \n"
     ]
    },
    {
     "name": "stdout",
     "output_type": "stream",
     "text": [
      "params={'n_comp': 62}, score=8.2727273e-01, \n"
     ]
    },
    {
     "name": "stdout",
     "output_type": "stream",
     "text": [
      "params={'n_comp': 63}, score=8.3636364e-01, \n"
     ]
    },
    {
     "name": "stdout",
     "output_type": "stream",
     "text": [
      "params={'n_comp': 64}, score=8.3636364e-01, \n"
     ]
    },
    {
     "name": "stdout",
     "output_type": "stream",
     "text": [
      "params={'n_comp': 65}, score=8.3181818e-01, \n"
     ]
    },
    {
     "name": "stdout",
     "output_type": "stream",
     "text": [
      "params={'n_comp': 66}, score=8.2272727e-01, \n"
     ]
    },
    {
     "name": "stdout",
     "output_type": "stream",
     "text": [
      "params={'n_comp': 67}, score=8.2727273e-01, \n"
     ]
    },
    {
     "name": "stdout",
     "output_type": "stream",
     "text": [
      "params={'n_comp': 68}, score=8.3636364e-01, \n"
     ]
    },
    {
     "name": "stdout",
     "output_type": "stream",
     "text": [
      "params={'n_comp': 69}, score=8.2727273e-01, \n"
     ]
    },
    {
     "name": "stdout",
     "output_type": "stream",
     "text": [
      "params={'n_comp': 70}, score=8.2727273e-01, \n"
     ]
    },
    {
     "name": "stdout",
     "output_type": "stream",
     "text": [
      "params={'n_comp': 71}, score=8.2727273e-01, \n"
     ]
    },
    {
     "name": "stdout",
     "output_type": "stream",
     "text": [
      "params={'n_comp': 72}, score=8.3636364e-01, \n"
     ]
    },
    {
     "name": "stdout",
     "output_type": "stream",
     "text": [
      "params={'n_comp': 73}, score=8.2272727e-01, \n"
     ]
    },
    {
     "name": "stdout",
     "output_type": "stream",
     "text": [
      "params={'n_comp': 74}, score=8.2272727e-01, \n"
     ]
    },
    {
     "name": "stdout",
     "output_type": "stream",
     "text": [
      "params={'n_comp': 75}, score=8.2727273e-01, \n"
     ]
    },
    {
     "name": "stdout",
     "output_type": "stream",
     "text": [
      "params={'n_comp': 76}, score=8.2272727e-01, \n"
     ]
    },
    {
     "name": "stdout",
     "output_type": "stream",
     "text": [
      "params={'n_comp': 77}, score=8.1363636e-01, \n"
     ]
    },
    {
     "name": "stdout",
     "output_type": "stream",
     "text": [
      "params={'n_comp': 78}, score=8.0909091e-01, \n"
     ]
    },
    {
     "name": "stdout",
     "output_type": "stream",
     "text": [
      "params={'n_comp': 79}, score=8.0909091e-01, \n"
     ]
    },
    {
     "name": "stdout",
     "output_type": "stream",
     "text": [
      "params={'n_comp': 80}, score=8.0909091e-01, \n"
     ]
    },
    {
     "name": "stdout",
     "output_type": "stream",
     "text": [
      "params={'n_comp': 81}, score=8.1818182e-01, \n"
     ]
    },
    {
     "name": "stdout",
     "output_type": "stream",
     "text": [
      "params={'n_comp': 82}, score=8.1363636e-01, \n"
     ]
    },
    {
     "name": "stdout",
     "output_type": "stream",
     "text": [
      "params={'n_comp': 83}, score=8.0909091e-01, \n"
     ]
    },
    {
     "name": "stdout",
     "output_type": "stream",
     "text": [
      "params={'n_comp': 84}, score=8.1363636e-01, \n"
     ]
    },
    {
     "name": "stdout",
     "output_type": "stream",
     "text": [
      "params={'n_comp': 85}, score=8.1363636e-01, \n"
     ]
    },
    {
     "name": "stdout",
     "output_type": "stream",
     "text": [
      "params={'n_comp': 86}, score=8.0454545e-01, \n"
     ]
    },
    {
     "name": "stdout",
     "output_type": "stream",
     "text": [
      "params={'n_comp': 87}, score=8.1363636e-01, \n"
     ]
    },
    {
     "name": "stdout",
     "output_type": "stream",
     "text": [
      "params={'n_comp': 88}, score=8.1363636e-01, \n"
     ]
    },
    {
     "name": "stdout",
     "output_type": "stream",
     "text": [
      "params={'n_comp': 89}, score=8.0454545e-01, \n"
     ]
    },
    {
     "name": "stdout",
     "output_type": "stream",
     "text": [
      "params={'n_comp': 90}, score=8.1363636e-01, \n"
     ]
    },
    {
     "name": "stdout",
     "output_type": "stream",
     "text": [
      "params={'n_comp': 91}, score=8.2727273e-01, \n"
     ]
    },
    {
     "name": "stdout",
     "output_type": "stream",
     "text": [
      "params={'n_comp': 92}, score=8.1818182e-01, \n"
     ]
    },
    {
     "name": "stdout",
     "output_type": "stream",
     "text": [
      "params={'n_comp': 93}, score=8.1363636e-01, \n"
     ]
    },
    {
     "name": "stdout",
     "output_type": "stream",
     "text": [
      "params={'n_comp': 94}, score=8.1818182e-01, \n"
     ]
    },
    {
     "name": "stdout",
     "output_type": "stream",
     "text": [
      "params={'n_comp': 95}, score=8.1363636e-01, \n"
     ]
    },
    {
     "name": "stdout",
     "output_type": "stream",
     "text": [
      "params={'n_comp': 96}, score=8.1363636e-01, \n"
     ]
    },
    {
     "name": "stdout",
     "output_type": "stream",
     "text": [
      "params={'n_comp': 97}, score=8.0909091e-01, \n"
     ]
    },
    {
     "name": "stdout",
     "output_type": "stream",
     "text": [
      "params={'n_comp': 98}, score=8.0909091e-01, \n"
     ]
    },
    {
     "name": "stdout",
     "output_type": "stream",
     "text": [
      "params={'n_comp': 99}, score=8.0909091e-01, \n",
      "\n",
      "best parameter: {'n_comp': 31}; score: 8.5454545e-01; \n"
     ]
    }
   ],
   "source": [
    "n_Comp_lst=list(range(1,100))\n",
    "scores = []\n",
    "params = []\n",
    "for n_comp in n_comp_lst:\n",
    "    pls = PLSRegression(n_components=n_comp, scale=False)\n",
    "    scores.append(Model_Score(pls, fea_train, label_train))\n",
    "    params.append({'n_comp': n_comp})\n",
    "    print(f\"params={params[-1]}, score={scores[-1]:.7e}, \")\n",
    "\n",
    "best_ind = np.nanargmax(scores)\n",
    "print(\"\")\n",
    "print(f\"best parameter: {params[best_ind]}; score: {scores[best_ind]:.7e}; \")\n",
    "\n",
    "\n"
   ]
  },
  {
   "cell_type": "code",
   "execution_count": 13,
   "id": "85853f42-129b-4e11-933a-7bd3149cf0d4",
   "metadata": {
    "collapsed": false,
    "jupyter": {
     "outputs_hidden": false
    }
   },
   "outputs": [
    {
     "name": "stdout",
     "output_type": "stream",
     "text": [
      "params={'n_comp': 1}, score=6.2727273e-01, \n",
      "params={'n_comp': 2}, score=6.9545455e-01, \n",
      "params={'n_comp': 3}, score=7.2727273e-01, \n",
      "params={'n_comp': 4}, score=7.1818182e-01, \n",
      "params={'n_comp': 5}, score=7.1818182e-01, \n",
      "params={'n_comp': 6}, score=7.2727273e-01, \n",
      "params={'n_comp': 7}, score=7.5000000e-01, \n"
     ]
    },
    {
     "name": "stdout",
     "output_type": "stream",
     "text": [
      "params={'n_comp': 8}, score=7.6363636e-01, \n",
      "params={'n_comp': 9}, score=7.7727273e-01, \n",
      "params={'n_comp': 10}, score=7.7272727e-01, \n",
      "params={'n_comp': 11}, score=7.8181818e-01, \n",
      "params={'n_comp': 12}, score=7.8636364e-01, \n",
      "params={'n_comp': 13}, score=7.9090909e-01, \n"
     ]
    },
    {
     "name": "stdout",
     "output_type": "stream",
     "text": [
      "params={'n_comp': 14}, score=7.8636364e-01, \n",
      "params={'n_comp': 15}, score=7.8181818e-01, \n",
      "params={'n_comp': 16}, score=7.7272727e-01, \n",
      "params={'n_comp': 17}, score=8.0909091e-01, \n",
      "params={'n_comp': 18}, score=8.1363636e-01, \n"
     ]
    },
    {
     "name": "stdout",
     "output_type": "stream",
     "text": [
      "params={'n_comp': 19}, score=8.1363636e-01, \n",
      "params={'n_comp': 20}, score=8.0909091e-01, \n",
      "params={'n_comp': 21}, score=8.2272727e-01, \n",
      "params={'n_comp': 22}, score=8.0909091e-01, \n"
     ]
    },
    {
     "name": "stdout",
     "output_type": "stream",
     "text": [
      "params={'n_comp': 23}, score=8.0909091e-01, \n",
      "params={'n_comp': 24}, score=8.3181818e-01, \n",
      "params={'n_comp': 25}, score=8.4545455e-01, \n",
      "params={'n_comp': 26}, score=8.3636364e-01, \n"
     ]
    },
    {
     "name": "stdout",
     "output_type": "stream",
     "text": [
      "params={'n_comp': 27}, score=8.3636364e-01, \n",
      "params={'n_comp': 28}, score=8.4545455e-01, \n",
      "params={'n_comp': 29}, score=8.4090909e-01, \n",
      "params={'n_comp': 30}, score=8.5000000e-01, \n"
     ]
    },
    {
     "name": "stdout",
     "output_type": "stream",
     "text": [
      "params={'n_comp': 31}, score=8.5454545e-01, \n",
      "params={'n_comp': 32}, score=8.5454545e-01, \n",
      "params={'n_comp': 33}, score=8.5909091e-01, \n",
      "params={'n_comp': 34}, score=8.6818182e-01, \n"
     ]
    },
    {
     "name": "stdout",
     "output_type": "stream",
     "text": [
      "params={'n_comp': 35}, score=8.5000000e-01, \n",
      "params={'n_comp': 36}, score=8.5000000e-01, \n",
      "params={'n_comp': 37}, score=8.4090909e-01, \n",
      "params={'n_comp': 38}, score=8.5000000e-01, \n"
     ]
    },
    {
     "name": "stdout",
     "output_type": "stream",
     "text": [
      "params={'n_comp': 39}, score=8.5000000e-01, \n",
      "params={'n_comp': 40}, score=8.5000000e-01, \n",
      "params={'n_comp': 41}, score=8.5909091e-01, \n",
      "params={'n_comp': 42}, score=8.5454545e-01, \n"
     ]
    },
    {
     "name": "stdout",
     "output_type": "stream",
     "text": [
      "params={'n_comp': 43}, score=8.5000000e-01, \n",
      "params={'n_comp': 44}, score=8.5000000e-01, \n",
      "params={'n_comp': 45}, score=8.4090909e-01, \n",
      "params={'n_comp': 46}, score=8.4090909e-01, \n"
     ]
    },
    {
     "name": "stdout",
     "output_type": "stream",
     "text": [
      "params={'n_comp': 47}, score=8.3636364e-01, \n",
      "params={'n_comp': 48}, score=8.3636364e-01, \n",
      "params={'n_comp': 49}, score=8.3181818e-01, \n",
      "params={'n_comp': 50}, score=8.3181818e-01, \n"
     ]
    },
    {
     "name": "stdout",
     "output_type": "stream",
     "text": [
      "params={'n_comp': 51}, score=8.3181818e-01, \n",
      "params={'n_comp': 52}, score=8.3636364e-01, \n",
      "params={'n_comp': 53}, score=8.4545455e-01, \n",
      "params={'n_comp': 54}, score=8.2727273e-01, \n"
     ]
    },
    {
     "name": "stdout",
     "output_type": "stream",
     "text": [
      "params={'n_comp': 55}, score=8.2727273e-01, \n",
      "params={'n_comp': 56}, score=8.3636364e-01, \n",
      "params={'n_comp': 57}, score=8.3181818e-01, \n"
     ]
    },
    {
     "name": "stdout",
     "output_type": "stream",
     "text": [
      "params={'n_comp': 58}, score=8.3181818e-01, \n",
      "params={'n_comp': 59}, score=8.3181818e-01, \n",
      "params={'n_comp': 60}, score=8.3636364e-01, \n"
     ]
    },
    {
     "name": "stdout",
     "output_type": "stream",
     "text": [
      "params={'n_comp': 61}, score=8.3181818e-01, \n",
      "params={'n_comp': 62}, score=8.3181818e-01, \n",
      "params={'n_comp': 63}, score=8.2727273e-01, \n"
     ]
    },
    {
     "name": "stdout",
     "output_type": "stream",
     "text": [
      "params={'n_comp': 64}, score=8.2727273e-01, \n",
      "params={'n_comp': 65}, score=8.2727273e-01, \n",
      "params={'n_comp': 66}, score=8.2727273e-01, \n"
     ]
    },
    {
     "name": "stdout",
     "output_type": "stream",
     "text": [
      "params={'n_comp': 67}, score=8.1818182e-01, \n",
      "params={'n_comp': 68}, score=8.1363636e-01, \n",
      "params={'n_comp': 69}, score=8.1818182e-01, \n"
     ]
    },
    {
     "name": "stdout",
     "output_type": "stream",
     "text": [
      "params={'n_comp': 70}, score=8.1818182e-01, \n",
      "params={'n_comp': 71}, score=8.1818182e-01, \n",
      "params={'n_comp': 72}, score=8.1818182e-01, \n"
     ]
    },
    {
     "name": "stdout",
     "output_type": "stream",
     "text": [
      "params={'n_comp': 73}, score=8.1818182e-01, \n",
      "params={'n_comp': 74}, score=8.1363636e-01, \n",
      "params={'n_comp': 75}, score=8.2727273e-01, \n"
     ]
    },
    {
     "name": "stdout",
     "output_type": "stream",
     "text": [
      "params={'n_comp': 76}, score=8.1818182e-01, \n",
      "params={'n_comp': 77}, score=8.1363636e-01, \n",
      "params={'n_comp': 78}, score=8.0000000e-01, \n"
     ]
    },
    {
     "name": "stdout",
     "output_type": "stream",
     "text": [
      "params={'n_comp': 79}, score=8.0454545e-01, \n",
      "params={'n_comp': 80}, score=8.1363636e-01, \n",
      "params={'n_comp': 81}, score=8.1363636e-01, \n"
     ]
    },
    {
     "name": "stdout",
     "output_type": "stream",
     "text": [
      "params={'n_comp': 82}, score=8.1363636e-01, \n",
      "params={'n_comp': 83}, score=8.0909091e-01, \n",
      "params={'n_comp': 84}, score=8.0909091e-01, \n"
     ]
    },
    {
     "name": "stdout",
     "output_type": "stream",
     "text": [
      "params={'n_comp': 85}, score=8.1363636e-01, \n",
      "params={'n_comp': 86}, score=8.0909091e-01, \n",
      "params={'n_comp': 87}, score=8.1363636e-01, \n"
     ]
    },
    {
     "name": "stdout",
     "output_type": "stream",
     "text": [
      "params={'n_comp': 88}, score=8.1818182e-01, \n",
      "params={'n_comp': 89}, score=8.2272727e-01, \n",
      "params={'n_comp': 90}, score=8.2272727e-01, \n"
     ]
    },
    {
     "name": "stdout",
     "output_type": "stream",
     "text": [
      "params={'n_comp': 91}, score=8.1818182e-01, \n",
      "params={'n_comp': 92}, score=8.1363636e-01, \n",
      "params={'n_comp': 93}, score=8.1363636e-01, \n"
     ]
    },
    {
     "name": "stdout",
     "output_type": "stream",
     "text": [
      "params={'n_comp': 94}, score=8.1363636e-01, \n",
      "params={'n_comp': 95}, score=8.1363636e-01, \n",
      "params={'n_comp': 96}, score=8.0909091e-01, \n"
     ]
    },
    {
     "name": "stdout",
     "output_type": "stream",
     "text": [
      "params={'n_comp': 97}, score=8.1818182e-01, \n",
      "params={'n_comp': 98}, score=8.1363636e-01, \n",
      "params={'n_comp': 99}, score=8.1363636e-01, \n",
      "\n",
      "best parameter: {'n_comp': 34}; score: 8.6818182e-01; \n"
     ]
    }
   ],
   "source": [
    "import Code.SIMPLS\n",
    "importlib.reload(Code.SIMPLS)\n",
    "from Code.SIMPLS import SIMPLS\n",
    "\n",
    "n_comp_lst=list(range(1,100))\n",
    "scores = []\n",
    "params = []\n",
    "for n_comp in n_comp_lst:\n",
    "    pls = SIMPLS(n_components=n_comp)\n",
    "    scores.append(Model_Score(pls))\n",
    "    params.append({'n_comp': n_comp})\n",
    "    print(f\"params={params[-1]}, score={scores[-1]:.7e}, \")\n",
    "\n",
    "best_ind = np.nanargmax(scores)\n",
    "print(\"\")\n",
    "print(f\"best parameter: {params[best_ind]}; score: {scores[best_ind]:.7e}; \")"
   ]
  },
  {
   "cell_type": "code",
   "execution_count": 4,
   "id": "9cde7fb9-a6d2-4da5-8fa3-1cccaead1cf9",
   "metadata": {
    "collapsed": false,
    "jupyter": {
     "outputs_hidden": false
    }
   },
   "outputs": [
    {
     "name": "stdout",
     "output_type": "stream",
     "text": [
      "params={'n_comp': 1}, score=6.1818182e-01, \n"
     ]
    },
    {
     "name": "stdout",
     "output_type": "stream",
     "text": [
      "params={'n_comp': 2}, score=6.9090909e-01, \n"
     ]
    },
    {
     "name": "stdout",
     "output_type": "stream",
     "text": [
      "params={'n_comp': 3}, score=7.2272727e-01, \n",
      "params={'n_comp': 4}, score=7.1818182e-01, \n"
     ]
    },
    {
     "name": "stdout",
     "output_type": "stream",
     "text": [
      "params={'n_comp': 5}, score=7.2727273e-01, \n",
      "params={'n_comp': 6}, score=7.2727273e-01, \n"
     ]
    },
    {
     "name": "stdout",
     "output_type": "stream",
     "text": [
      "params={'n_comp': 7}, score=7.4090909e-01, \n",
      "params={'n_comp': 8}, score=7.5454545e-01, \n"
     ]
    },
    {
     "name": "stdout",
     "output_type": "stream",
     "text": [
      "params={'n_comp': 9}, score=7.6818182e-01, \n",
      "params={'n_comp': 10}, score=7.8636364e-01, \n"
     ]
    },
    {
     "name": "stdout",
     "output_type": "stream",
     "text": [
      "params={'n_comp': 11}, score=7.7727273e-01, \n",
      "params={'n_comp': 12}, score=7.7727273e-01, \n"
     ]
    },
    {
     "name": "stdout",
     "output_type": "stream",
     "text": [
      "params={'n_comp': 13}, score=8.0000000e-01, \n",
      "params={'n_comp': 14}, score=7.9545455e-01, \n"
     ]
    },
    {
     "name": "stdout",
     "output_type": "stream",
     "text": [
      "params={'n_comp': 15}, score=7.6818182e-01, \n",
      "params={'n_comp': 16}, score=8.0454545e-01, \n"
     ]
    },
    {
     "name": "stdout",
     "output_type": "stream",
     "text": [
      "params={'n_comp': 17}, score=8.0909091e-01, \n",
      "params={'n_comp': 18}, score=8.0909091e-01, \n"
     ]
    },
    {
     "name": "stdout",
     "output_type": "stream",
     "text": [
      "params={'n_comp': 19}, score=8.3181818e-01, \n"
     ]
    },
    {
     "name": "stdout",
     "output_type": "stream",
     "text": [
      "params={'n_comp': 20}, score=8.1818182e-01, \n"
     ]
    },
    {
     "name": "stdout",
     "output_type": "stream",
     "text": [
      "params={'n_comp': 21}, score=8.0909091e-01, \n",
      "params={'n_comp': 22}, score=8.0000000e-01, \n"
     ]
    },
    {
     "name": "stdout",
     "output_type": "stream",
     "text": [
      "params={'n_comp': 23}, score=8.0000000e-01, \n",
      "params={'n_comp': 24}, score=8.0909091e-01, \n"
     ]
    },
    {
     "name": "stdout",
     "output_type": "stream",
     "text": [
      "params={'n_comp': 25}, score=8.4545455e-01, \n",
      "params={'n_comp': 26}, score=8.3636364e-01, \n"
     ]
    },
    {
     "name": "stdout",
     "output_type": "stream",
     "text": [
      "params={'n_comp': 27}, score=8.2727273e-01, \n",
      "params={'n_comp': 28}, score=8.3636364e-01, \n"
     ]
    },
    {
     "name": "stdout",
     "output_type": "stream",
     "text": [
      "params={'n_comp': 29}, score=8.3636364e-01, \n"
     ]
    },
    {
     "name": "stdout",
     "output_type": "stream",
     "text": [
      "params={'n_comp': 30}, score=8.5000000e-01, \n"
     ]
    },
    {
     "name": "stdout",
     "output_type": "stream",
     "text": [
      "params={'n_comp': 31}, score=8.5909091e-01, \n"
     ]
    },
    {
     "name": "stdout",
     "output_type": "stream",
     "text": [
      "params={'n_comp': 32}, score=8.5909091e-01, \n"
     ]
    },
    {
     "name": "stdout",
     "output_type": "stream",
     "text": [
      "params={'n_comp': 33}, score=8.5909091e-01, \n"
     ]
    },
    {
     "name": "stdout",
     "output_type": "stream",
     "text": [
      "params={'n_comp': 34}, score=8.6818182e-01, \n"
     ]
    },
    {
     "name": "stdout",
     "output_type": "stream",
     "text": [
      "params={'n_comp': 35}, score=8.5454545e-01, \n"
     ]
    },
    {
     "name": "stdout",
     "output_type": "stream",
     "text": [
      "params={'n_comp': 36}, score=8.5454545e-01, \n"
     ]
    },
    {
     "name": "stdout",
     "output_type": "stream",
     "text": [
      "params={'n_comp': 37}, score=8.4090909e-01, \n"
     ]
    },
    {
     "name": "stdout",
     "output_type": "stream",
     "text": [
      "params={'n_comp': 38}, score=8.5454545e-01, \n"
     ]
    },
    {
     "name": "stdout",
     "output_type": "stream",
     "text": [
      "params={'n_comp': 39}, score=8.4545455e-01, \n"
     ]
    },
    {
     "name": "stdout",
     "output_type": "stream",
     "text": [
      "params={'n_comp': 40}, score=8.6363636e-01, \n"
     ]
    },
    {
     "name": "stdout",
     "output_type": "stream",
     "text": [
      "params={'n_comp': 41}, score=8.7272727e-01, \n"
     ]
    },
    {
     "name": "stdout",
     "output_type": "stream",
     "text": [
      "params={'n_comp': 42}, score=8.5909091e-01, \n"
     ]
    },
    {
     "name": "stdout",
     "output_type": "stream",
     "text": [
      "params={'n_comp': 43}, score=8.6818182e-01, \n"
     ]
    },
    {
     "name": "stdout",
     "output_type": "stream",
     "text": [
      "params={'n_comp': 44}, score=8.5000000e-01, \n"
     ]
    },
    {
     "name": "stdout",
     "output_type": "stream",
     "text": [
      "params={'n_comp': 45}, score=8.3636364e-01, \n"
     ]
    },
    {
     "name": "stdout",
     "output_type": "stream",
     "text": [
      "params={'n_comp': 46}, score=8.5909091e-01, \n"
     ]
    },
    {
     "name": "stdout",
     "output_type": "stream",
     "text": [
      "params={'n_comp': 47}, score=8.5000000e-01, \n"
     ]
    },
    {
     "name": "stdout",
     "output_type": "stream",
     "text": [
      "params={'n_comp': 48}, score=8.4545455e-01, \n"
     ]
    },
    {
     "name": "stdout",
     "output_type": "stream",
     "text": [
      "params={'n_comp': 49}, score=8.3636364e-01, \n"
     ]
    },
    {
     "name": "stdout",
     "output_type": "stream",
     "text": [
      "params={'n_comp': 50}, score=8.4090909e-01, \n"
     ]
    },
    {
     "name": "stdout",
     "output_type": "stream",
     "text": [
      "params={'n_comp': 51}, score=8.4090909e-01, \n"
     ]
    },
    {
     "name": "stdout",
     "output_type": "stream",
     "text": [
      "params={'n_comp': 52}, score=8.3636364e-01, \n"
     ]
    },
    {
     "name": "stdout",
     "output_type": "stream",
     "text": [
      "params={'n_comp': 53}, score=8.3181818e-01, \n"
     ]
    },
    {
     "name": "stdout",
     "output_type": "stream",
     "text": [
      "params={'n_comp': 54}, score=8.4545455e-01, \n"
     ]
    },
    {
     "name": "stdout",
     "output_type": "stream",
     "text": [
      "params={'n_comp': 55}, score=8.3636364e-01, \n"
     ]
    },
    {
     "name": "stdout",
     "output_type": "stream",
     "text": [
      "params={'n_comp': 56}, score=8.4090909e-01, \n"
     ]
    },
    {
     "name": "stdout",
     "output_type": "stream",
     "text": [
      "params={'n_comp': 57}, score=8.3181818e-01, \n"
     ]
    },
    {
     "name": "stdout",
     "output_type": "stream",
     "text": [
      "params={'n_comp': 58}, score=8.1818182e-01, \n"
     ]
    },
    {
     "name": "stdout",
     "output_type": "stream",
     "text": [
      "params={'n_comp': 59}, score=8.2272727e-01, \n"
     ]
    },
    {
     "name": "stdout",
     "output_type": "stream",
     "text": [
      "params={'n_comp': 60}, score=8.3181818e-01, \n"
     ]
    },
    {
     "name": "stdout",
     "output_type": "stream",
     "text": [
      "params={'n_comp': 61}, score=8.2727273e-01, \n"
     ]
    },
    {
     "name": "stdout",
     "output_type": "stream",
     "text": [
      "params={'n_comp': 62}, score=8.2272727e-01, \n"
     ]
    },
    {
     "name": "stdout",
     "output_type": "stream",
     "text": [
      "params={'n_comp': 63}, score=8.2272727e-01, \n"
     ]
    },
    {
     "name": "stdout",
     "output_type": "stream",
     "text": [
      "params={'n_comp': 64}, score=8.2727273e-01, \n"
     ]
    },
    {
     "name": "stdout",
     "output_type": "stream",
     "text": [
      "params={'n_comp': 65}, score=8.2727273e-01, \n"
     ]
    },
    {
     "name": "stdout",
     "output_type": "stream",
     "text": [
      "params={'n_comp': 66}, score=8.1818182e-01, \n"
     ]
    },
    {
     "name": "stdout",
     "output_type": "stream",
     "text": [
      "params={'n_comp': 67}, score=8.1818182e-01, \n"
     ]
    },
    {
     "name": "stdout",
     "output_type": "stream",
     "text": [
      "params={'n_comp': 68}, score=8.1363636e-01, \n"
     ]
    },
    {
     "name": "stdout",
     "output_type": "stream",
     "text": [
      "params={'n_comp': 69}, score=8.0909091e-01, \n"
     ]
    },
    {
     "name": "stdout",
     "output_type": "stream",
     "text": [
      "params={'n_comp': 70}, score=8.0909091e-01, \n"
     ]
    },
    {
     "name": "stdout",
     "output_type": "stream",
     "text": [
      "params={'n_comp': 71}, score=8.1818182e-01, \n"
     ]
    },
    {
     "name": "stdout",
     "output_type": "stream",
     "text": [
      "params={'n_comp': 72}, score=8.1363636e-01, \n"
     ]
    },
    {
     "name": "stdout",
     "output_type": "stream",
     "text": [
      "params={'n_comp': 73}, score=8.1363636e-01, \n"
     ]
    },
    {
     "name": "stdout",
     "output_type": "stream",
     "text": [
      "params={'n_comp': 74}, score=8.2272727e-01, \n"
     ]
    },
    {
     "name": "stdout",
     "output_type": "stream",
     "text": [
      "params={'n_comp': 75}, score=8.2727273e-01, \n"
     ]
    },
    {
     "name": "stdout",
     "output_type": "stream",
     "text": [
      "params={'n_comp': 76}, score=8.1818182e-01, \n"
     ]
    },
    {
     "name": "stdout",
     "output_type": "stream",
     "text": [
      "params={'n_comp': 77}, score=8.1818182e-01, \n"
     ]
    },
    {
     "name": "stdout",
     "output_type": "stream",
     "text": [
      "params={'n_comp': 78}, score=8.1363636e-01, \n"
     ]
    },
    {
     "name": "stdout",
     "output_type": "stream",
     "text": [
      "params={'n_comp': 79}, score=8.1818182e-01, \n"
     ]
    },
    {
     "name": "stdout",
     "output_type": "stream",
     "text": [
      "params={'n_comp': 80}, score=8.1363636e-01, \n"
     ]
    },
    {
     "name": "stdout",
     "output_type": "stream",
     "text": [
      "params={'n_comp': 81}, score=8.1818182e-01, \n"
     ]
    },
    {
     "name": "stdout",
     "output_type": "stream",
     "text": [
      "params={'n_comp': 82}, score=8.1818182e-01, \n"
     ]
    },
    {
     "name": "stdout",
     "output_type": "stream",
     "text": [
      "params={'n_comp': 83}, score=8.3181818e-01, \n"
     ]
    },
    {
     "name": "stdout",
     "output_type": "stream",
     "text": [
      "params={'n_comp': 84}, score=8.2727273e-01, \n"
     ]
    },
    {
     "name": "stdout",
     "output_type": "stream",
     "text": [
      "params={'n_comp': 85}, score=8.2272727e-01, \n"
     ]
    },
    {
     "name": "stdout",
     "output_type": "stream",
     "text": [
      "params={'n_comp': 86}, score=8.2727273e-01, \n"
     ]
    },
    {
     "name": "stdout",
     "output_type": "stream",
     "text": [
      "params={'n_comp': 87}, score=8.2272727e-01, \n"
     ]
    },
    {
     "name": "stdout",
     "output_type": "stream",
     "text": [
      "params={'n_comp': 88}, score=8.2727273e-01, \n"
     ]
    },
    {
     "name": "stdout",
     "output_type": "stream",
     "text": [
      "params={'n_comp': 89}, score=8.2727273e-01, \n"
     ]
    },
    {
     "name": "stdout",
     "output_type": "stream",
     "text": [
      "params={'n_comp': 90}, score=8.1818182e-01, \n"
     ]
    },
    {
     "name": "stdout",
     "output_type": "stream",
     "text": [
      "params={'n_comp': 91}, score=8.1818182e-01, \n"
     ]
    },
    {
     "name": "stdout",
     "output_type": "stream",
     "text": [
      "params={'n_comp': 92}, score=8.1818182e-01, \n"
     ]
    },
    {
     "name": "stdout",
     "output_type": "stream",
     "text": [
      "params={'n_comp': 93}, score=8.1818182e-01, \n"
     ]
    },
    {
     "name": "stdout",
     "output_type": "stream",
     "text": [
      "params={'n_comp': 94}, score=8.1818182e-01, \n"
     ]
    },
    {
     "name": "stdout",
     "output_type": "stream",
     "text": [
      "params={'n_comp': 95}, score=8.1818182e-01, \n"
     ]
    },
    {
     "name": "stdout",
     "output_type": "stream",
     "text": [
      "params={'n_comp': 96}, score=8.2272727e-01, \n"
     ]
    },
    {
     "name": "stdout",
     "output_type": "stream",
     "text": [
      "params={'n_comp': 97}, score=8.1818182e-01, \n"
     ]
    },
    {
     "name": "stdout",
     "output_type": "stream",
     "text": [
      "params={'n_comp': 98}, score=8.1818182e-01, \n"
     ]
    },
    {
     "name": "stdout",
     "output_type": "stream",
     "text": [
      "params={'n_comp': 99}, score=8.1818182e-01, \n",
      "\n",
      "best parameter: {'n_comp': 41}; score: 8.7272727e-01; \n"
     ]
    }
   ],
   "source": [
    "import Code.ISIMPLS\n",
    "importlib.reload(Code.ISIMPLS)\n",
    "from Code.ISIMPLS import ISIMPLS\n",
    "\n",
    "n_comp_lst=list(range(1,100))\n",
    "scores = []\n",
    "params = []\n",
    "for n_comp in n_comp_lst:\n",
    "    pls = ISIMPLS(n_components=n_comp)\n",
    "    scores.append(Batch_Update_CV(pls))\n",
    "    params.append({'n_comp': n_comp})\n",
    "    print(f\"params={params[-1]}, score={scores[-1]:.7e}, \")\n",
    "\n",
    "best_ind = np.nanargmax(scores)\n",
    "print(\"\")\n",
    "print(f\"best parameter: {params[best_ind]}; score: {scores[best_ind]:.7e}; \")\n",
    "\n"
   ]
  },
  {
   "cell_type": "code",
   "execution_count": 50,
   "id": "dbd47821-a22a-4c94-8b9c-fd4a5a7c5b0c",
   "metadata": {
    "collapsed": false
   },
   "outputs": [
    {
     "name": "stdout",
     "output_type": "stream",
     "text": [
      "params={'n_comp': 1}, score=6.2727273e-01, \n",
      "params={'n_comp': 2}, score=6.6818182e-01, \n",
      "params={'n_comp': 3}, score=6.9545455e-01, \n",
      "params={'n_comp': 4}, score=7.3181818e-01, \n",
      "params={'n_comp': 5}, score=7.1363636e-01, \n",
      "params={'n_comp': 6}, score=7.2727273e-01, \n"
     ]
    },
    {
     "name": "stdout",
     "output_type": "stream",
     "text": [
      "params={'n_comp': 7}, score=7.5909091e-01, \n",
      "params={'n_comp': 8}, score=7.6818182e-01, \n",
      "params={'n_comp': 9}, score=8.1818182e-01, \n",
      "params={'n_comp': 10}, score=8.0454545e-01, \n"
     ]
    },
    {
     "name": "stdout",
     "output_type": "stream",
     "text": [
      "params={'n_comp': 11}, score=8.0454545e-01, \n",
      "params={'n_comp': 12}, score=8.0454545e-01, \n",
      "params={'n_comp': 13}, score=8.3181818e-01, \n",
      "params={'n_comp': 14}, score=8.3636364e-01, \n"
     ]
    },
    {
     "name": "stdout",
     "output_type": "stream",
     "text": [
      "params={'n_comp': 15}, score=8.2727273e-01, \n",
      "params={'n_comp': 16}, score=8.1363636e-01, \n",
      "params={'n_comp': 17}, score=8.1363636e-01, \n",
      "params={'n_comp': 18}, score=8.4545455e-01, \n",
      "params={'n_comp': 19}, score=8.2272727e-01, \n"
     ]
    },
    {
     "name": "stdout",
     "output_type": "stream",
     "text": [
      "params={'n_comp': 20}, score=8.3181818e-01, \n",
      "params={'n_comp': 21}, score=8.3181818e-01, \n",
      "params={'n_comp': 22}, score=8.2727273e-01, \n",
      "params={'n_comp': 23}, score=8.2272727e-01, \n",
      "params={'n_comp': 24}, score=8.2272727e-01, \n"
     ]
    },
    {
     "name": "stdout",
     "output_type": "stream",
     "text": [
      "params={'n_comp': 25}, score=8.3636364e-01, \n",
      "params={'n_comp': 26}, score=8.1818182e-01, \n",
      "params={'n_comp': 27}, score=8.1818182e-01, \n",
      "params={'n_comp': 28}, score=8.2727273e-01, \n",
      "params={'n_comp': 29}, score=8.2727273e-01, \n"
     ]
    },
    {
     "name": "stdout",
     "output_type": "stream",
     "text": [
      "params={'n_comp': 30}, score=8.1818182e-01, \n",
      "params={'n_comp': 31}, score=8.3636364e-01, \n",
      "params={'n_comp': 32}, score=8.4545455e-01, \n",
      "params={'n_comp': 33}, score=8.6363636e-01, \n"
     ]
    },
    {
     "name": "stdout",
     "output_type": "stream",
     "text": [
      "params={'n_comp': 34}, score=8.5000000e-01, \n",
      "params={'n_comp': 35}, score=8.6363636e-01, \n",
      "params={'n_comp': 36}, score=8.6363636e-01, \n",
      "params={'n_comp': 37}, score=8.6818182e-01, \n"
     ]
    },
    {
     "name": "stdout",
     "output_type": "stream",
     "text": [
      "params={'n_comp': 38}, score=8.6363636e-01, \n",
      "params={'n_comp': 39}, score=8.7727273e-01, \n",
      "params={'n_comp': 40}, score=8.6818182e-01, \n",
      "params={'n_comp': 41}, score=8.6818182e-01, \n"
     ]
    },
    {
     "name": "stdout",
     "output_type": "stream",
     "text": [
      "params={'n_comp': 42}, score=8.5909091e-01, \n",
      "params={'n_comp': 43}, score=8.7727273e-01, \n",
      "params={'n_comp': 44}, score=8.6363636e-01, \n",
      "params={'n_comp': 45}, score=8.6363636e-01, \n",
      "params={'n_comp': 46}, score=8.6818182e-01, \n"
     ]
    },
    {
     "name": "stdout",
     "output_type": "stream",
     "text": [
      "params={'n_comp': 47}, score=8.6818182e-01, \n",
      "params={'n_comp': 48}, score=8.6818182e-01, \n",
      "params={'n_comp': 49}, score=8.5909091e-01, \n",
      "params={'n_comp': 50}, score=8.6818182e-01, \n"
     ]
    },
    {
     "name": "stdout",
     "output_type": "stream",
     "text": [
      "params={'n_comp': 51}, score=8.7272727e-01, \n",
      "params={'n_comp': 52}, score=8.7727273e-01, \n",
      "params={'n_comp': 53}, score=8.7727273e-01, \n",
      "params={'n_comp': 54}, score=8.8181818e-01, \n"
     ]
    },
    {
     "name": "stdout",
     "output_type": "stream",
     "text": [
      "params={'n_comp': 55}, score=8.8636364e-01, \n",
      "params={'n_comp': 56}, score=8.8636364e-01, \n",
      "params={'n_comp': 57}, score=8.7272727e-01, \n",
      "params={'n_comp': 58}, score=8.7272727e-01, \n"
     ]
    },
    {
     "name": "stdout",
     "output_type": "stream",
     "text": [
      "params={'n_comp': 59}, score=8.7272727e-01, \n",
      "params={'n_comp': 60}, score=8.5909091e-01, \n",
      "params={'n_comp': 61}, score=8.7272727e-01, \n",
      "params={'n_comp': 62}, score=8.6818182e-01, \n"
     ]
    },
    {
     "name": "stdout",
     "output_type": "stream",
     "text": [
      "params={'n_comp': 63}, score=8.6818182e-01, \n",
      "params={'n_comp': 64}, score=8.7272727e-01, \n",
      "params={'n_comp': 65}, score=8.7272727e-01, \n",
      "params={'n_comp': 66}, score=8.8636364e-01, \n"
     ]
    },
    {
     "name": "stdout",
     "output_type": "stream",
     "text": [
      "params={'n_comp': 67}, score=8.8181818e-01, \n",
      "params={'n_comp': 68}, score=8.9090909e-01, \n",
      "params={'n_comp': 69}, score=9.0000000e-01, \n",
      "params={'n_comp': 70}, score=8.9545455e-01, \n"
     ]
    },
    {
     "name": "stdout",
     "output_type": "stream",
     "text": [
      "params={'n_comp': 71}, score=8.9545455e-01, \n",
      "params={'n_comp': 72}, score=9.0000000e-01, \n",
      "params={'n_comp': 73}, score=9.0000000e-01, \n",
      "params={'n_comp': 74}, score=9.0000000e-01, \n"
     ]
    },
    {
     "name": "stdout",
     "output_type": "stream",
     "text": [
      "params={'n_comp': 75}, score=8.8181818e-01, \n",
      "params={'n_comp': 76}, score=8.8636364e-01, \n",
      "params={'n_comp': 77}, score=8.8636364e-01, \n",
      "params={'n_comp': 78}, score=8.8636364e-01, \n"
     ]
    },
    {
     "name": "stdout",
     "output_type": "stream",
     "text": [
      "params={'n_comp': 79}, score=8.8636364e-01, \n",
      "params={'n_comp': 80}, score=8.9090909e-01, \n",
      "params={'n_comp': 81}, score=8.9090909e-01, \n",
      "params={'n_comp': 82}, score=8.9090909e-01, \n"
     ]
    },
    {
     "name": "stdout",
     "output_type": "stream",
     "text": [
      "params={'n_comp': 83}, score=8.9090909e-01, \n",
      "params={'n_comp': 84}, score=8.9545455e-01, \n",
      "params={'n_comp': 85}, score=8.9090909e-01, \n",
      "params={'n_comp': 86}, score=8.9090909e-01, \n"
     ]
    },
    {
     "name": "stdout",
     "output_type": "stream",
     "text": [
      "params={'n_comp': 87}, score=8.9090909e-01, \n",
      "params={'n_comp': 88}, score=8.9090909e-01, \n",
      "params={'n_comp': 89}, score=8.9090909e-01, \n",
      "params={'n_comp': 90}, score=8.9545455e-01, \n"
     ]
    },
    {
     "name": "stdout",
     "output_type": "stream",
     "text": [
      "params={'n_comp': 91}, score=8.9545455e-01, \n",
      "params={'n_comp': 92}, score=8.9545455e-01, \n",
      "params={'n_comp': 93}, score=8.9545455e-01, \n",
      "params={'n_comp': 94}, score=9.0000000e-01, \n"
     ]
    },
    {
     "name": "stdout",
     "output_type": "stream",
     "text": [
      "params={'n_comp': 95}, score=8.9545455e-01, \n",
      "params={'n_comp': 96}, score=9.0000000e-01, \n",
      "params={'n_comp': 97}, score=8.9545455e-01, \n",
      "params={'n_comp': 98}, score=8.9090909e-01, \n"
     ]
    },
    {
     "name": "stdout",
     "output_type": "stream",
     "text": [
      "params={'n_comp': 99}, score=8.9090909e-01, \n",
      "\n",
      "best parameter: {'n_comp': 69}; score: 9.0000000e-01; \n"
     ]
    }
   ],
   "source": [
    "import Code.PLS1\n",
    "importlib.reload(Code.PLS1)\n",
    "from Code.PLS1 import PLS1\n",
    "\n",
    "n_comp_lst=list(range(1,100))\n",
    "scores = []\n",
    "params = []\n",
    "for n_comp in n_comp_lst:\n",
    "    pls = PLS1(n_components=n_comp)\n",
    "    scores.append(Model_Score(pls))\n",
    "    params.append({'n_comp': n_comp})\n",
    "    print(f\"params={params[-1]}, score={scores[-1]:.7e}, \")\n",
    "\n",
    "best_ind = np.nanargmax(scores)\n",
    "print(\"\")\n",
    "print(f\"best parameter: {params[best_ind]}; score: {scores[best_ind]:.7e}; \")"
   ]
  },
  {
   "cell_type": "code",
   "execution_count": 5,
   "id": "26eeac8c-1aa0-444a-ace9-3f43320d6842",
   "metadata": {
    "collapsed": false,
    "jupyter": {
     "outputs_hidden": false
    }
   },
   "outputs": [
    {
     "name": "stdout",
     "output_type": "stream",
     "text": [
      "params={'n_comp': 1}, score=6.1818182e-01, \n",
      "params={'n_comp': 2}, score=6.6818182e-01, \n"
     ]
    },
    {
     "name": "stdout",
     "output_type": "stream",
     "text": [
      "params={'n_comp': 3}, score=6.8636364e-01, \n",
      "params={'n_comp': 4}, score=7.1363636e-01, \n"
     ]
    },
    {
     "name": "stdout",
     "output_type": "stream",
     "text": [
      "params={'n_comp': 5}, score=7.0909091e-01, \n",
      "params={'n_comp': 6}, score=7.2727273e-01, \n"
     ]
    },
    {
     "name": "stdout",
     "output_type": "stream",
     "text": [
      "params={'n_comp': 7}, score=7.6363636e-01, \n",
      "params={'n_comp': 8}, score=7.7272727e-01, \n"
     ]
    },
    {
     "name": "stdout",
     "output_type": "stream",
     "text": [
      "params={'n_comp': 9}, score=7.9090909e-01, \n",
      "params={'n_comp': 10}, score=8.0454545e-01, \n"
     ]
    },
    {
     "name": "stdout",
     "output_type": "stream",
     "text": [
      "params={'n_comp': 11}, score=8.0454545e-01, \n",
      "params={'n_comp': 12}, score=8.0909091e-01, \n"
     ]
    },
    {
     "name": "stdout",
     "output_type": "stream",
     "text": [
      "params={'n_comp': 13}, score=8.1818182e-01, \n",
      "params={'n_comp': 14}, score=8.2727273e-01, \n"
     ]
    },
    {
     "name": "stdout",
     "output_type": "stream",
     "text": [
      "params={'n_comp': 15}, score=8.1818182e-01, \n",
      "params={'n_comp': 16}, score=8.1363636e-01, \n"
     ]
    },
    {
     "name": "stdout",
     "output_type": "stream",
     "text": [
      "params={'n_comp': 17}, score=8.1818182e-01, \n"
     ]
    },
    {
     "name": "stdout",
     "output_type": "stream",
     "text": [
      "params={'n_comp': 18}, score=8.4545455e-01, \n"
     ]
    },
    {
     "name": "stdout",
     "output_type": "stream",
     "text": [
      "params={'n_comp': 19}, score=8.2727273e-01, \n"
     ]
    },
    {
     "name": "stdout",
     "output_type": "stream",
     "text": [
      "params={'n_comp': 20}, score=8.4090909e-01, \n"
     ]
    },
    {
     "name": "stdout",
     "output_type": "stream",
     "text": [
      "params={'n_comp': 21}, score=8.2272727e-01, \n",
      "params={'n_comp': 22}, score=8.0454545e-01, \n"
     ]
    },
    {
     "name": "stdout",
     "output_type": "stream",
     "text": [
      "params={'n_comp': 23}, score=8.2272727e-01, \n"
     ]
    },
    {
     "name": "stdout",
     "output_type": "stream",
     "text": [
      "params={'n_comp': 24}, score=8.2272727e-01, \n"
     ]
    },
    {
     "name": "stdout",
     "output_type": "stream",
     "text": [
      "params={'n_comp': 25}, score=8.2727273e-01, \n"
     ]
    },
    {
     "name": "stdout",
     "output_type": "stream",
     "text": [
      "params={'n_comp': 26}, score=8.1818182e-01, \n"
     ]
    },
    {
     "name": "stdout",
     "output_type": "stream",
     "text": [
      "params={'n_comp': 27}, score=8.1363636e-01, \n"
     ]
    },
    {
     "name": "stdout",
     "output_type": "stream",
     "text": [
      "params={'n_comp': 28}, score=8.1818182e-01, \n"
     ]
    },
    {
     "name": "stdout",
     "output_type": "stream",
     "text": [
      "params={'n_comp': 29}, score=8.1818182e-01, \n"
     ]
    },
    {
     "name": "stdout",
     "output_type": "stream",
     "text": [
      "params={'n_comp': 30}, score=8.3636364e-01, \n"
     ]
    },
    {
     "name": "stdout",
     "output_type": "stream",
     "text": [
      "params={'n_comp': 31}, score=8.4545455e-01, \n"
     ]
    },
    {
     "name": "stdout",
     "output_type": "stream",
     "text": [
      "params={'n_comp': 32}, score=8.4545455e-01, \n"
     ]
    },
    {
     "name": "stdout",
     "output_type": "stream",
     "text": [
      "params={'n_comp': 33}, score=8.5909091e-01, \n"
     ]
    },
    {
     "name": "stdout",
     "output_type": "stream",
     "text": [
      "params={'n_comp': 34}, score=8.5454545e-01, \n"
     ]
    },
    {
     "name": "stdout",
     "output_type": "stream",
     "text": [
      "params={'n_comp': 35}, score=8.5454545e-01, \n"
     ]
    },
    {
     "name": "stdout",
     "output_type": "stream",
     "text": [
      "params={'n_comp': 36}, score=8.5454545e-01, \n"
     ]
    },
    {
     "name": "stdout",
     "output_type": "stream",
     "text": [
      "params={'n_comp': 37}, score=8.6363636e-01, \n"
     ]
    },
    {
     "name": "stdout",
     "output_type": "stream",
     "text": [
      "params={'n_comp': 38}, score=8.5454545e-01, \n"
     ]
    },
    {
     "name": "stdout",
     "output_type": "stream",
     "text": [
      "params={'n_comp': 39}, score=8.4545455e-01, \n"
     ]
    },
    {
     "name": "stdout",
     "output_type": "stream",
     "text": [
      "params={'n_comp': 40}, score=8.3636364e-01, \n"
     ]
    },
    {
     "name": "stdout",
     "output_type": "stream",
     "text": [
      "params={'n_comp': 41}, score=8.5000000e-01, \n"
     ]
    },
    {
     "name": "stdout",
     "output_type": "stream",
     "text": [
      "params={'n_comp': 42}, score=8.5909091e-01, \n"
     ]
    },
    {
     "name": "stdout",
     "output_type": "stream",
     "text": [
      "params={'n_comp': 43}, score=8.5000000e-01, \n"
     ]
    },
    {
     "name": "stdout",
     "output_type": "stream",
     "text": [
      "params={'n_comp': 44}, score=8.4545455e-01, \n"
     ]
    },
    {
     "name": "stdout",
     "output_type": "stream",
     "text": [
      "params={'n_comp': 45}, score=8.4090909e-01, \n"
     ]
    },
    {
     "name": "stdout",
     "output_type": "stream",
     "text": [
      "params={'n_comp': 46}, score=8.5909091e-01, \n"
     ]
    },
    {
     "name": "stdout",
     "output_type": "stream",
     "text": [
      "params={'n_comp': 47}, score=8.5454545e-01, \n"
     ]
    },
    {
     "name": "stdout",
     "output_type": "stream",
     "text": [
      "params={'n_comp': 48}, score=8.5454545e-01, \n"
     ]
    },
    {
     "name": "stdout",
     "output_type": "stream",
     "text": [
      "params={'n_comp': 49}, score=8.5454545e-01, \n"
     ]
    },
    {
     "name": "stdout",
     "output_type": "stream",
     "text": [
      "params={'n_comp': 50}, score=8.6363636e-01, \n"
     ]
    },
    {
     "name": "stdout",
     "output_type": "stream",
     "text": [
      "params={'n_comp': 51}, score=8.6363636e-01, \n"
     ]
    },
    {
     "name": "stdout",
     "output_type": "stream",
     "text": [
      "params={'n_comp': 52}, score=8.6363636e-01, \n"
     ]
    },
    {
     "name": "stdout",
     "output_type": "stream",
     "text": [
      "params={'n_comp': 53}, score=8.5909091e-01, \n"
     ]
    },
    {
     "name": "stdout",
     "output_type": "stream",
     "text": [
      "params={'n_comp': 54}, score=8.5454545e-01, \n"
     ]
    },
    {
     "name": "stdout",
     "output_type": "stream",
     "text": [
      "params={'n_comp': 55}, score=8.6363636e-01, \n"
     ]
    },
    {
     "name": "stdout",
     "output_type": "stream",
     "text": [
      "params={'n_comp': 56}, score=8.5909091e-01, \n"
     ]
    },
    {
     "name": "stdout",
     "output_type": "stream",
     "text": [
      "params={'n_comp': 57}, score=8.6363636e-01, \n"
     ]
    },
    {
     "name": "stdout",
     "output_type": "stream",
     "text": [
      "params={'n_comp': 58}, score=8.5909091e-01, \n"
     ]
    },
    {
     "name": "stdout",
     "output_type": "stream",
     "text": [
      "params={'n_comp': 59}, score=8.6818182e-01, \n"
     ]
    },
    {
     "name": "stdout",
     "output_type": "stream",
     "text": [
      "params={'n_comp': 60}, score=8.6818182e-01, \n"
     ]
    },
    {
     "name": "stdout",
     "output_type": "stream",
     "text": [
      "params={'n_comp': 61}, score=8.6818182e-01, \n"
     ]
    },
    {
     "name": "stdout",
     "output_type": "stream",
     "text": [
      "params={'n_comp': 62}, score=8.7272727e-01, \n"
     ]
    },
    {
     "name": "stdout",
     "output_type": "stream",
     "text": [
      "params={'n_comp': 63}, score=8.6818182e-01, \n"
     ]
    },
    {
     "name": "stdout",
     "output_type": "stream",
     "text": [
      "params={'n_comp': 64}, score=8.6818182e-01, \n"
     ]
    },
    {
     "name": "stdout",
     "output_type": "stream",
     "text": [
      "params={'n_comp': 65}, score=8.5909091e-01, \n"
     ]
    },
    {
     "name": "stdout",
     "output_type": "stream",
     "text": [
      "params={'n_comp': 66}, score=8.5909091e-01, \n"
     ]
    },
    {
     "name": "stdout",
     "output_type": "stream",
     "text": [
      "params={'n_comp': 67}, score=8.7272727e-01, \n"
     ]
    },
    {
     "name": "stdout",
     "output_type": "stream",
     "text": [
      "params={'n_comp': 68}, score=8.7727273e-01, \n"
     ]
    },
    {
     "name": "stdout",
     "output_type": "stream",
     "text": [
      "params={'n_comp': 69}, score=8.7272727e-01, \n"
     ]
    },
    {
     "name": "stdout",
     "output_type": "stream",
     "text": [
      "params={'n_comp': 70}, score=8.6818182e-01, \n"
     ]
    },
    {
     "name": "stdout",
     "output_type": "stream",
     "text": [
      "params={'n_comp': 71}, score=8.6818182e-01, \n"
     ]
    },
    {
     "name": "stdout",
     "output_type": "stream",
     "text": [
      "params={'n_comp': 72}, score=8.6363636e-01, \n"
     ]
    },
    {
     "name": "stdout",
     "output_type": "stream",
     "text": [
      "params={'n_comp': 73}, score=8.7272727e-01, \n"
     ]
    },
    {
     "name": "stdout",
     "output_type": "stream",
     "text": [
      "params={'n_comp': 74}, score=8.7272727e-01, \n"
     ]
    },
    {
     "name": "stdout",
     "output_type": "stream",
     "text": [
      "params={'n_comp': 75}, score=8.7727273e-01, \n"
     ]
    },
    {
     "name": "stdout",
     "output_type": "stream",
     "text": [
      "params={'n_comp': 76}, score=8.8181818e-01, \n"
     ]
    },
    {
     "name": "stdout",
     "output_type": "stream",
     "text": [
      "params={'n_comp': 77}, score=8.8181818e-01, \n"
     ]
    },
    {
     "name": "stdout",
     "output_type": "stream",
     "text": [
      "params={'n_comp': 78}, score=8.8181818e-01, \n"
     ]
    },
    {
     "name": "stdout",
     "output_type": "stream",
     "text": [
      "params={'n_comp': 79}, score=8.8181818e-01, \n"
     ]
    },
    {
     "name": "stdout",
     "output_type": "stream",
     "text": [
      "params={'n_comp': 80}, score=8.8181818e-01, \n"
     ]
    },
    {
     "name": "stdout",
     "output_type": "stream",
     "text": [
      "params={'n_comp': 81}, score=8.8181818e-01, \n"
     ]
    },
    {
     "name": "stdout",
     "output_type": "stream",
     "text": [
      "params={'n_comp': 82}, score=8.7272727e-01, \n"
     ]
    },
    {
     "name": "stdout",
     "output_type": "stream",
     "text": [
      "params={'n_comp': 83}, score=8.8181818e-01, \n"
     ]
    },
    {
     "name": "stdout",
     "output_type": "stream",
     "text": [
      "params={'n_comp': 84}, score=8.7727273e-01, \n"
     ]
    },
    {
     "name": "stdout",
     "output_type": "stream",
     "text": [
      "params={'n_comp': 85}, score=8.7727273e-01, \n"
     ]
    },
    {
     "name": "stdout",
     "output_type": "stream",
     "text": [
      "params={'n_comp': 86}, score=8.7727273e-01, \n"
     ]
    },
    {
     "name": "stdout",
     "output_type": "stream",
     "text": [
      "params={'n_comp': 87}, score=8.7727273e-01, \n"
     ]
    },
    {
     "name": "stdout",
     "output_type": "stream",
     "text": [
      "params={'n_comp': 88}, score=8.8181818e-01, \n"
     ]
    },
    {
     "name": "stdout",
     "output_type": "stream",
     "text": [
      "params={'n_comp': 89}, score=8.8636364e-01, \n"
     ]
    },
    {
     "name": "stdout",
     "output_type": "stream",
     "text": [
      "params={'n_comp': 90}, score=8.8181818e-01, \n"
     ]
    },
    {
     "name": "stdout",
     "output_type": "stream",
     "text": [
      "params={'n_comp': 91}, score=8.8636364e-01, \n"
     ]
    },
    {
     "name": "stdout",
     "output_type": "stream",
     "text": [
      "params={'n_comp': 92}, score=8.8636364e-01, \n"
     ]
    },
    {
     "name": "stdout",
     "output_type": "stream",
     "text": [
      "params={'n_comp': 93}, score=8.7727273e-01, \n"
     ]
    },
    {
     "name": "stdout",
     "output_type": "stream",
     "text": [
      "params={'n_comp': 94}, score=8.8636364e-01, \n"
     ]
    },
    {
     "name": "stdout",
     "output_type": "stream",
     "text": [
      "params={'n_comp': 95}, score=8.8636364e-01, \n"
     ]
    },
    {
     "name": "stdout",
     "output_type": "stream",
     "text": [
      "params={'n_comp': 96}, score=8.8636364e-01, \n"
     ]
    },
    {
     "name": "stdout",
     "output_type": "stream",
     "text": [
      "params={'n_comp': 97}, score=8.8636364e-01, \n"
     ]
    },
    {
     "name": "stdout",
     "output_type": "stream",
     "text": [
      "params={'n_comp': 98}, score=8.8636364e-01, \n"
     ]
    },
    {
     "name": "stdout",
     "output_type": "stream",
     "text": [
      "params={'n_comp': 99}, score=8.8181818e-01, \n",
      "\n",
      "best parameter: {'n_comp': 89}; score: 8.8636364e-01; \n"
     ]
    }
   ],
   "source": [
    "import Code.PLS1\n",
    "importlib.reload(Code.PLS1)\n",
    "from Code.PLS1 import IPLS1\n",
    "\n",
    "n_comp_lst=list(range(1,100))\n",
    "scores = []\n",
    "params = []\n",
    "for n_comp in n_comp_lst:\n",
    "    pls = IPLS1(n_components=n_comp)\n",
    "    scores.append(Batch_Update_CV(pls))\n",
    "    params.append({'n_comp': n_comp})\n",
    "    print(f\"params={params[-1]}, score={scores[-1]:.7e}, \")\n",
    "\n",
    "best_ind = np.nanargmax(scores)\n",
    "print(\"\")\n",
    "print(f\"best parameter: {params[best_ind]}; score: {scores[best_ind]:.7e}; \")"
   ]
  },
  {
   "cell_type": "code",
   "execution_count": 4,
   "id": "b97e48e1-5ddb-40a8-8a15-1c34ed6b0f40",
   "metadata": {
    "collapsed": false,
    "jupyter": {
     "outputs_hidden": false
    }
   },
   "outputs": [
    {
     "name": "stdout",
     "output_type": "stream",
     "text": [
      "Iteration No: 1 started. Evaluating function at random point.\n",
      "__mu=6.6538e-09, amnesic=0.05\n"
     ]
    },
    {
     "name": "stdout",
     "output_type": "stream",
     "text": [
      "____best n_comp: 1\n",
      "____best score: 0.5909\n",
      "Iteration No: 1 ended. Evaluation done at random point.\n",
      "Time taken: 47.1501\n",
      "Function value obtained: -0.5909\n",
      "Current minimum: -0.5909\n",
      "Iteration No: 2 started. Evaluating function at random point.\n",
      "__mu=3.0714e-09, amnesic=0.56\n"
     ]
    },
    {
     "name": "stdout",
     "output_type": "stream",
     "text": [
      "____best n_comp: 1\n",
      "____best score: 0.5909\n",
      "Iteration No: 2 ended. Evaluation done at random point.\n",
      "Time taken: 47.3306\n",
      "Function value obtained: -0.5909\n",
      "Current minimum: -0.5909\n",
      "Iteration No: 3 started. Evaluating function at random point.\n",
      "__mu=4.2409e-07, amnesic=0.62\n"
     ]
    },
    {
     "name": "stdout",
     "output_type": "stream",
     "text": [
      "____best n_comp: 1\n",
      "____best score: 0.5909\n",
      "Iteration No: 3 ended. Evaluation done at random point.\n",
      "Time taken: 46.7657\n",
      "Function value obtained: -0.5909\n",
      "Current minimum: -0.5909\n",
      "Iteration No: 4 started. Evaluating function at random point.\n",
      "__mu=1.7196e-09, amnesic=0.03\n"
     ]
    },
    {
     "name": "stdout",
     "output_type": "stream",
     "text": [
      "____best n_comp: 1\n",
      "____best score: 0.5909\n",
      "Iteration No: 4 ended. Evaluation done at random point.\n",
      "Time taken: 47.5039\n",
      "Function value obtained: -0.5909\n",
      "Current minimum: -0.5909\n",
      "Iteration No: 5 started. Evaluating function at random point.\n",
      "__mu=1.9658e-06, amnesic=0.68\n"
     ]
    },
    {
     "name": "stdout",
     "output_type": "stream",
     "text": [
      "____best n_comp: 1\n",
      "____best score: 0.5909\n",
      "Iteration No: 5 ended. Evaluation done at random point.\n",
      "Time taken: 47.6519\n",
      "Function value obtained: -0.5909\n",
      "Current minimum: -0.5909\n",
      "Iteration No: 6 started. Evaluating function at random point.\n",
      "__mu=2.9517e-08, amnesic=0.25\n"
     ]
    },
    {
     "name": "stdout",
     "output_type": "stream",
     "text": [
      "____best n_comp: 1\n",
      "____best score: 0.5909\n",
      "Iteration No: 6 ended. Evaluation done at random point.\n",
      "Time taken: 47.0850\n",
      "Function value obtained: -0.5909\n",
      "Current minimum: -0.5909\n",
      "Iteration No: 7 started. Evaluating function at random point.\n",
      "__mu=5.8115e-06, amnesic=0.67\n"
     ]
    },
    {
     "name": "stdout",
     "output_type": "stream",
     "text": [
      "____best n_comp: 1\n",
      "____best score: 0.5909\n",
      "Iteration No: 7 ended. Evaluation done at random point.\n",
      "Time taken: 47.2675\n",
      "Function value obtained: -0.5909\n",
      "Current minimum: -0.5909\n",
      "Iteration No: 8 started. Evaluating function at random point.\n",
      "__mu=3.2129e-06, amnesic=0.17\n"
     ]
    },
    {
     "name": "stdout",
     "output_type": "stream",
     "text": [
      "____best n_comp: 1\n",
      "____best score: 0.5909\n",
      "Iteration No: 8 ended. Evaluation done at random point.\n",
      "Time taken: 47.3413\n",
      "Function value obtained: -0.5909\n",
      "Current minimum: -0.5909\n",
      "Iteration No: 9 started. Evaluating function at random point.\n",
      "__mu=6.2960e-07, amnesic=0.71\n"
     ]
    },
    {
     "name": "stdout",
     "output_type": "stream",
     "text": [
      "____best n_comp: 1\n",
      "____best score: 0.5909\n",
      "Iteration No: 9 ended. Evaluation done at random point.\n",
      "Time taken: 47.3417\n",
      "Function value obtained: -0.5909\n",
      "Current minimum: -0.5909\n",
      "Iteration No: 10 started. Evaluating function at random point.\n",
      "__mu=9.6032e-08, amnesic=0.86\n"
     ]
    },
    {
     "name": "stdout",
     "output_type": "stream",
     "text": [
      "____best n_comp: 1\n",
      "____best score: 0.5909\n",
      "Iteration No: 10 ended. Evaluation done at random point.\n",
      "Time taken: 47.0835\n",
      "Function value obtained: -0.5909\n",
      "Current minimum: -0.5909\n",
      "Iteration No: 11 started. Evaluating function at random point.\n",
      "__mu=2.8785e-08, amnesic=0.92\n"
     ]
    },
    {
     "name": "stdout",
     "output_type": "stream",
     "text": [
      "____best n_comp: 1\n",
      "____best score: 0.5909\n",
      "Iteration No: 11 ended. Evaluation done at random point.\n",
      "Time taken: 47.1516\n",
      "Function value obtained: -0.5909\n",
      "Current minimum: -0.5909\n",
      "Iteration No: 12 started. Evaluating function at random point.\n",
      "__mu=1.9609e-07, amnesic=0.49\n"
     ]
    },
    {
     "name": "stdout",
     "output_type": "stream",
     "text": [
      "____best n_comp: 1\n",
      "____best score: 0.5909\n",
      "Iteration No: 12 ended. Evaluation done at random point.\n",
      "Time taken: 47.3431\n",
      "Function value obtained: -0.5909\n",
      "Current minimum: -0.5909\n",
      "Iteration No: 13 started. Evaluating function at random point.\n",
      "__mu=2.5859e-07, amnesic=0.83\n"
     ]
    },
    {
     "name": "stdout",
     "output_type": "stream",
     "text": [
      "____best n_comp: 1\n",
      "____best score: 0.5909\n",
      "Iteration No: 13 ended. Evaluation done at random point.\n",
      "Time taken: 47.8422\n",
      "Function value obtained: -0.5909\n",
      "Current minimum: -0.5909\n",
      "Iteration No: 14 started. Evaluating function at random point.\n",
      "__mu=8.1526e-06, amnesic=0.97\n"
     ]
    },
    {
     "name": "stdout",
     "output_type": "stream",
     "text": [
      "____best n_comp: 1\n",
      "____best score: 0.5909\n",
      "Iteration No: 14 ended. Evaluation done at random point.\n",
      "Time taken: 47.7952\n",
      "Function value obtained: -0.5909\n",
      "Current minimum: -0.5909\n",
      "Iteration No: 15 started. Evaluating function at random point.\n",
      "__mu=1.9443e-08, amnesic=0.11\n"
     ]
    },
    {
     "name": "stdout",
     "output_type": "stream",
     "text": [
      "____best n_comp: 1\n",
      "____best score: 0.5909\n",
      "Iteration No: 15 ended. Evaluation done at random point.\n",
      "Time taken: 47.4249\n",
      "Function value obtained: -0.5909\n",
      "Current minimum: -0.5909\n",
      "Iteration No: 16 started. Evaluating function at random point.\n",
      "__mu=1.1068e-08, amnesic=0.57\n"
     ]
    },
    {
     "name": "stdout",
     "output_type": "stream",
     "text": [
      "____best n_comp: 1\n",
      "____best score: 0.5909\n",
      "Iteration No: 16 ended. Evaluation done at random point.\n",
      "Time taken: 47.3462\n",
      "Function value obtained: -0.5909\n",
      "Current minimum: -0.5909\n",
      "Iteration No: 17 started. Evaluating function at random point.\n",
      "__mu=5.6797e-09, amnesic=0.29\n"
     ]
    },
    {
     "name": "stdout",
     "output_type": "stream",
     "text": [
      "____best n_comp: 1\n",
      "____best score: 0.5909\n",
      "Iteration No: 17 ended. Evaluation done at random point.\n",
      "Time taken: 47.2405\n",
      "Function value obtained: -0.5909\n",
      "Current minimum: -0.5909\n",
      "Iteration No: 18 started. Evaluating function at random point.\n",
      "__mu=4.6708e-08, amnesic=0.45\n"
     ]
    },
    {
     "name": "stdout",
     "output_type": "stream",
     "text": [
      "____best n_comp: 1\n",
      "____best score: 0.5909\n",
      "Iteration No: 18 ended. Evaluation done at random point.\n",
      "Time taken: 47.0592\n",
      "Function value obtained: -0.5909\n",
      "Current minimum: -0.5909\n",
      "Iteration No: 19 started. Evaluating function at random point.\n",
      "__mu=1.1999e-09, amnesic=0.80\n"
     ]
    },
    {
     "name": "stdout",
     "output_type": "stream",
     "text": [
      "____best n_comp: 1\n",
      "____best score: 0.5909\n",
      "Iteration No: 19 ended. Evaluation done at random point.\n",
      "Time taken: 47.4066\n",
      "Function value obtained: -0.5909\n",
      "Current minimum: -0.5909\n",
      "Iteration No: 20 started. Evaluating function at random point.\n",
      "__mu=6.1041e-08, amnesic=0.74\n"
     ]
    },
    {
     "name": "stdout",
     "output_type": "stream",
     "text": [
      "____best n_comp: 1\n",
      "____best score: 0.5909\n",
      "Iteration No: 20 ended. Evaluation done at random point.\n",
      "Time taken: 47.2490\n",
      "Function value obtained: -0.5909\n",
      "Current minimum: -0.5909\n",
      "Iteration No: 21 started. Evaluating function at random point.\n",
      "__mu=4.0854e-06, amnesic=0.53\n"
     ]
    },
    {
     "name": "stdout",
     "output_type": "stream",
     "text": [
      "____best n_comp: 1\n",
      "____best score: 0.5909\n",
      "Iteration No: 21 ended. Evaluation done at random point.\n",
      "Time taken: 47.9287\n",
      "Function value obtained: -0.5909\n",
      "Current minimum: -0.5909\n",
      "Iteration No: 22 started. Evaluating function at random point.\n",
      "__mu=1.1605e-06, amnesic=0.98\n"
     ]
    },
    {
     "name": "stdout",
     "output_type": "stream",
     "text": [
      "____best n_comp: 1\n",
      "____best score: 0.5909\n",
      "Iteration No: 22 ended. Evaluation done at random point.\n",
      "Time taken: 47.3359\n",
      "Function value obtained: -0.5909\n",
      "Current minimum: -0.5909\n",
      "Iteration No: 23 started. Evaluating function at random point.\n",
      "__mu=3.4392e-09, amnesic=0.87\n"
     ]
    },
    {
     "name": "stdout",
     "output_type": "stream",
     "text": [
      "____best n_comp: 1\n",
      "____best score: 0.5909\n",
      "Iteration No: 23 ended. Evaluation done at random point.\n",
      "Time taken: 47.3690\n",
      "Function value obtained: -0.5909\n",
      "Current minimum: -0.5909\n",
      "Iteration No: 24 started. Evaluating function at random point.\n",
      "__mu=2.8849e-06, amnesic=0.36\n"
     ]
    },
    {
     "name": "stdout",
     "output_type": "stream",
     "text": [
      "____best n_comp: 1\n",
      "____best score: 0.5909\n",
      "Iteration No: 24 ended. Evaluation done at random point.\n",
      "Time taken: 46.7724\n",
      "Function value obtained: -0.5909\n",
      "Current minimum: -0.5909\n",
      "Iteration No: 25 started. Evaluating function at random point.\n",
      "__mu=1.6309e-07, amnesic=0.31\n"
     ]
    },
    {
     "name": "stdout",
     "output_type": "stream",
     "text": [
      "____best n_comp: 1\n",
      "____best score: 0.5909\n",
      "Iteration No: 25 ended. Evaluation done at random point.\n",
      "Time taken: 46.2172\n",
      "Function value obtained: -0.5909\n",
      "Current minimum: -0.5909\n",
      "Iteration No: 26 started. Evaluating function at random point.\n",
      "__mu=1.4077e-08, amnesic=0.38\n"
     ]
    },
    {
     "name": "stdout",
     "output_type": "stream",
     "text": [
      "____best n_comp: 1\n",
      "____best score: 0.5909\n",
      "Iteration No: 26 ended. Evaluation done at random point.\n",
      "Time taken: 46.3720\n",
      "Function value obtained: -0.5909\n",
      "Current minimum: -0.5909\n",
      "Iteration No: 27 started. Evaluating function at random point.\n",
      "__mu=1.1814e-07, amnesic=0.19\n"
     ]
    },
    {
     "name": "stdout",
     "output_type": "stream",
     "text": [
      "____best n_comp: 1\n",
      "____best score: 0.5909\n",
      "Iteration No: 27 ended. Evaluation done at random point.\n",
      "Time taken: 46.0678\n",
      "Function value obtained: -0.5909\n",
      "Current minimum: -0.5909\n",
      "Iteration No: 28 started. Evaluating function at random point.\n",
      "__mu=2.1932e-09, amnesic=0.21\n"
     ]
    },
    {
     "name": "stdout",
     "output_type": "stream",
     "text": [
      "____best n_comp: 1\n",
      "____best score: 0.5909\n",
      "Iteration No: 28 ended. Evaluation done at random point.\n",
      "Time taken: 46.3481\n",
      "Function value obtained: -0.5909\n",
      "Current minimum: -0.5909\n",
      "Iteration No: 29 started. Evaluating function at random point.\n",
      "__mu=8.0528e-07, amnesic=0.43\n"
     ]
    },
    {
     "name": "stdout",
     "output_type": "stream",
     "text": [
      "____best n_comp: 1\n",
      "____best score: 0.5909\n",
      "Iteration No: 29 ended. Evaluation done at random point.\n",
      "Time taken: 46.3692\n",
      "Function value obtained: -0.5909\n",
      "Current minimum: -0.5909\n",
      "Iteration No: 30 started. Evaluating function at random point.\n",
      "__mu=1.5296e-06, amnesic=0.09\n"
     ]
    },
    {
     "name": "stdout",
     "output_type": "stream",
     "text": [
      "____best n_comp: 1\n",
      "____best score: 0.5909\n"
     ]
    },
    {
     "name": "stdout",
     "output_type": "stream",
     "text": [
      "Iteration No: 30 ended. Evaluation done at random point.\n",
      "Time taken: 46.6659\n",
      "Function value obtained: -0.5909\n",
      "Current minimum: -0.5909\n",
      "Iteration No: 31 started. Searching for the next optimal point.\n",
      "__mu=7.2570e-07, amnesic=0.18\n"
     ]
    },
    {
     "name": "stdout",
     "output_type": "stream",
     "text": [
      "____best n_comp: 1\n",
      "____best score: 0.5909\n"
     ]
    },
    {
     "name": "stdout",
     "output_type": "stream",
     "text": [
      "Iteration No: 31 ended. Search finished for the next optimal point.\n",
      "Time taken: 46.8709\n",
      "Function value obtained: -0.5909\n",
      "Current minimum: -0.5909\n",
      "Iteration No: 32 started. Searching for the next optimal point.\n",
      "__mu=1.0231e-09, amnesic=0.99\n"
     ]
    },
    {
     "name": "stdout",
     "output_type": "stream",
     "text": [
      "____best n_comp: 1\n",
      "____best score: 0.5909\n"
     ]
    },
    {
     "name": "stdout",
     "output_type": "stream",
     "text": [
      "Iteration No: 32 ended. Search finished for the next optimal point.\n",
      "Time taken: 46.9413\n",
      "Function value obtained: -0.5909\n",
      "Current minimum: -0.5909\n",
      "Iteration No: 33 started. Searching for the next optimal point.\n",
      "__mu=9.6450e-06, amnesic=0.00\n"
     ]
    },
    {
     "name": "stdout",
     "output_type": "stream",
     "text": [
      "____best n_comp: 1\n",
      "____best score: 0.5909\n"
     ]
    },
    {
     "name": "stdout",
     "output_type": "stream",
     "text": [
      "Iteration No: 33 ended. Search finished for the next optimal point.\n",
      "Time taken: 47.3285\n",
      "Function value obtained: -0.5909\n",
      "Current minimum: -0.5909\n",
      "Iteration No: 34 started. Searching for the next optimal point.\n",
      "__mu=1.0006e-09, amnesic=1.00\n"
     ]
    },
    {
     "name": "stdout",
     "output_type": "stream",
     "text": [
      "____best n_comp: 1\n",
      "____best score: 0.5909\n"
     ]
    },
    {
     "name": "stdout",
     "output_type": "stream",
     "text": [
      "Iteration No: 34 ended. Search finished for the next optimal point.\n",
      "Time taken: 47.0834\n",
      "Function value obtained: -0.5909\n",
      "Current minimum: -0.5909\n",
      "Iteration No: 35 started. Searching for the next optimal point.\n",
      "__mu=8.0150e-09, amnesic=0.85\n"
     ]
    },
    {
     "name": "stdout",
     "output_type": "stream",
     "text": [
      "____best n_comp: 1\n",
      "____best score: 0.5909\n"
     ]
    },
    {
     "name": "stdout",
     "output_type": "stream",
     "text": [
      "Iteration No: 35 ended. Search finished for the next optimal point.\n",
      "Time taken: 46.7177\n",
      "Function value obtained: -0.5909\n",
      "Current minimum: -0.5909\n",
      "Iteration No: 36 started. Searching for the next optimal point.\n",
      "__mu=6.1957e-06, amnesic=0.79\n"
     ]
    },
    {
     "name": "stdout",
     "output_type": "stream",
     "text": [
      "____best n_comp: 1\n",
      "____best score: 0.5909\n"
     ]
    },
    {
     "name": "stdout",
     "output_type": "stream",
     "text": [
      "Iteration No: 36 ended. Search finished for the next optimal point.\n",
      "Time taken: 46.8287\n",
      "Function value obtained: -0.5909\n",
      "Current minimum: -0.5909\n",
      "Iteration No: 37 started. Searching for the next optimal point.\n",
      "__mu=9.4479e-09, amnesic=0.86\n"
     ]
    },
    {
     "name": "stdout",
     "output_type": "stream",
     "text": [
      "____best n_comp: 1\n",
      "____best score: 0.5909\n"
     ]
    },
    {
     "name": "stdout",
     "output_type": "stream",
     "text": [
      "Iteration No: 37 ended. Search finished for the next optimal point.\n",
      "Time taken: 46.8320\n",
      "Function value obtained: -0.5909\n",
      "Current minimum: -0.5909\n",
      "Iteration No: 38 started. Searching for the next optimal point.\n",
      "__mu=1.0715e-06, amnesic=0.12\n"
     ]
    },
    {
     "name": "stdout",
     "output_type": "stream",
     "text": [
      "____best n_comp: 1\n",
      "____best score: 0.5909\n"
     ]
    },
    {
     "name": "stdout",
     "output_type": "stream",
     "text": [
      "Iteration No: 38 ended. Search finished for the next optimal point.\n",
      "Time taken: 47.6606\n",
      "Function value obtained: -0.5909\n",
      "Current minimum: -0.5909\n",
      "Iteration No: 39 started. Searching for the next optimal point.\n",
      "__mu=9.0210e-08, amnesic=0.56\n"
     ]
    },
    {
     "name": "stdout",
     "output_type": "stream",
     "text": [
      "____best n_comp: 1\n",
      "____best score: 0.5909\n"
     ]
    },
    {
     "name": "stdout",
     "output_type": "stream",
     "text": [
      "Iteration No: 39 ended. Search finished for the next optimal point.\n",
      "Time taken: 47.0414\n",
      "Function value obtained: -0.5909\n",
      "Current minimum: -0.5909\n",
      "Iteration No: 40 started. Searching for the next optimal point.\n",
      "__mu=3.1282e-07, amnesic=0.67\n"
     ]
    },
    {
     "name": "stdout",
     "output_type": "stream",
     "text": [
      "____best n_comp: 1\n",
      "____best score: 0.5909\n"
     ]
    },
    {
     "name": "stdout",
     "output_type": "stream",
     "text": [
      "Iteration No: 40 ended. Search finished for the next optimal point.\n",
      "Time taken: 46.9780\n",
      "Function value obtained: -0.5909\n",
      "Current minimum: -0.5909\n",
      "Iteration No: 41 started. Searching for the next optimal point.\n",
      "__mu=1.0000e-09, amnesic=0.00\n"
     ]
    },
    {
     "name": "stdout",
     "output_type": "stream",
     "text": [
      "____best n_comp: 1\n",
      "____best score: 0.5909\n"
     ]
    },
    {
     "name": "stdout",
     "output_type": "stream",
     "text": [
      "Iteration No: 41 ended. Search finished for the next optimal point.\n",
      "Time taken: 46.7564\n",
      "Function value obtained: -0.5909\n",
      "Current minimum: -0.5909\n",
      "Iteration No: 42 started. Searching for the next optimal point.\n",
      "__mu=1.0166e-09, amnesic=0.00\n"
     ]
    },
    {
     "name": "stdout",
     "output_type": "stream",
     "text": [
      "____best n_comp: 1\n",
      "____best score: 0.5909\n"
     ]
    },
    {
     "name": "stdout",
     "output_type": "stream",
     "text": [
      "Iteration No: 42 ended. Search finished for the next optimal point.\n",
      "Time taken: 46.8349\n",
      "Function value obtained: -0.5909\n",
      "Current minimum: -0.5909\n",
      "Iteration No: 43 started. Searching for the next optimal point.\n",
      "__mu=4.1935e-08, amnesic=0.29\n"
     ]
    },
    {
     "name": "stdout",
     "output_type": "stream",
     "text": [
      "____best n_comp: 1\n",
      "____best score: 0.5909\n"
     ]
    },
    {
     "name": "stdout",
     "output_type": "stream",
     "text": [
      "Iteration No: 43 ended. Search finished for the next optimal point.\n",
      "Time taken: 46.7498\n",
      "Function value obtained: -0.5909\n",
      "Current minimum: -0.5909\n",
      "Iteration No: 44 started. Searching for the next optimal point.\n",
      "__mu=5.5154e-08, amnesic=0.73\n"
     ]
    },
    {
     "name": "stdout",
     "output_type": "stream",
     "text": [
      "____best n_comp: 1\n",
      "____best score: 0.5909\n"
     ]
    },
    {
     "name": "stdout",
     "output_type": "stream",
     "text": [
      "Iteration No: 44 ended. Search finished for the next optimal point.\n",
      "Time taken: 47.0382\n",
      "Function value obtained: -0.5909\n",
      "Current minimum: -0.5909\n",
      "Iteration No: 45 started. Searching for the next optimal point.\n",
      "__mu=4.4169e-08, amnesic=0.66\n"
     ]
    },
    {
     "name": "stdout",
     "output_type": "stream",
     "text": [
      "____best n_comp: 1\n",
      "____best score: 0.5909\n"
     ]
    },
    {
     "name": "stdout",
     "output_type": "stream",
     "text": [
      "Iteration No: 45 ended. Search finished for the next optimal point.\n",
      "Time taken: 46.4563\n",
      "Function value obtained: -0.5909\n",
      "Current minimum: -0.5909\n",
      "Iteration No: 46 started. Searching for the next optimal point.\n",
      "__mu=3.0544e-07, amnesic=0.25\n"
     ]
    },
    {
     "name": "stdout",
     "output_type": "stream",
     "text": [
      "____best n_comp: 1\n",
      "____best score: 0.5909\n"
     ]
    },
    {
     "name": "stdout",
     "output_type": "stream",
     "text": [
      "Iteration No: 46 ended. Search finished for the next optimal point.\n",
      "Time taken: 46.7330\n",
      "Function value obtained: -0.5909\n",
      "Current minimum: -0.5909\n",
      "Iteration No: 47 started. Searching for the next optimal point.\n",
      "__mu=5.6890e-09, amnesic=0.37\n"
     ]
    },
    {
     "name": "stdout",
     "output_type": "stream",
     "text": [
      "____best n_comp: 1\n",
      "____best score: 0.5909\n"
     ]
    },
    {
     "name": "stdout",
     "output_type": "stream",
     "text": [
      "Iteration No: 47 ended. Search finished for the next optimal point.\n",
      "Time taken: 47.0278\n",
      "Function value obtained: -0.5909\n",
      "Current minimum: -0.5909\n",
      "Iteration No: 48 started. Searching for the next optimal point.\n",
      "__mu=4.4217e-08, amnesic=0.96\n"
     ]
    },
    {
     "name": "stdout",
     "output_type": "stream",
     "text": [
      "____best n_comp: 1\n",
      "____best score: 0.5909\n"
     ]
    },
    {
     "name": "stdout",
     "output_type": "stream",
     "text": [
      "Iteration No: 48 ended. Search finished for the next optimal point.\n",
      "Time taken: 46.8403\n",
      "Function value obtained: -0.5909\n",
      "Current minimum: -0.5909\n",
      "Iteration No: 49 started. Searching for the next optimal point.\n",
      "__mu=9.9493e-06, amnesic=0.01\n"
     ]
    },
    {
     "name": "stdout",
     "output_type": "stream",
     "text": [
      "____best n_comp: 1\n",
      "____best score: 0.5909\n"
     ]
    },
    {
     "name": "stdout",
     "output_type": "stream",
     "text": [
      "Iteration No: 49 ended. Search finished for the next optimal point.\n",
      "Time taken: 47.4560\n",
      "Function value obtained: -0.5909\n",
      "Current minimum: -0.5909\n",
      "Iteration No: 50 started. Searching for the next optimal point.\n",
      "__mu=1.0170e-08, amnesic=0.70\n"
     ]
    },
    {
     "name": "stdout",
     "output_type": "stream",
     "text": [
      "____best n_comp: 1\n",
      "____best score: 0.5909\n"
     ]
    },
    {
     "name": "stdout",
     "output_type": "stream",
     "text": [
      "Iteration No: 50 ended. Search finished for the next optimal point.\n",
      "Time taken: 47.6926\n",
      "Function value obtained: -0.5909\n",
      "Current minimum: -0.5909\n",
      "Iteration No: 51 started. Searching for the next optimal point.\n",
      "__mu=6.0676e-07, amnesic=0.24\n"
     ]
    },
    {
     "name": "stdout",
     "output_type": "stream",
     "text": [
      "____best n_comp: 1\n",
      "____best score: 0.5909\n"
     ]
    },
    {
     "name": "stdout",
     "output_type": "stream",
     "text": [
      "Iteration No: 51 ended. Search finished for the next optimal point.\n",
      "Time taken: 47.5920\n",
      "Function value obtained: -0.5909\n",
      "Current minimum: -0.5909\n",
      "Iteration No: 52 started. Searching for the next optimal point.\n",
      "__mu=1.0057e-09, amnesic=0.11\n"
     ]
    },
    {
     "name": "stdout",
     "output_type": "stream",
     "text": [
      "____best n_comp: 1\n",
      "____best score: 0.5909\n"
     ]
    },
    {
     "name": "stdout",
     "output_type": "stream",
     "text": [
      "Iteration No: 52 ended. Search finished for the next optimal point.\n",
      "Time taken: 46.7850\n",
      "Function value obtained: -0.5909\n",
      "Current minimum: -0.5909\n",
      "Iteration No: 53 started. Searching for the next optimal point.\n",
      "__mu=5.6084e-09, amnesic=0.78\n"
     ]
    },
    {
     "name": "stdout",
     "output_type": "stream",
     "text": [
      "____best n_comp: 1\n",
      "____best score: 0.5909\n"
     ]
    },
    {
     "name": "stdout",
     "output_type": "stream",
     "text": [
      "Iteration No: 53 ended. Search finished for the next optimal point.\n",
      "Time taken: 47.7267\n",
      "Function value obtained: -0.5909\n",
      "Current minimum: -0.5909\n",
      "Iteration No: 54 started. Searching for the next optimal point.\n",
      "__mu=1.4371e-07, amnesic=0.80\n"
     ]
    },
    {
     "name": "stdout",
     "output_type": "stream",
     "text": [
      "____best n_comp: 1\n",
      "____best score: 0.5909\n"
     ]
    },
    {
     "name": "stdout",
     "output_type": "stream",
     "text": [
      "Iteration No: 54 ended. Search finished for the next optimal point.\n",
      "Time taken: 47.3788\n",
      "Function value obtained: -0.5909\n",
      "Current minimum: -0.5909\n",
      "Iteration No: 55 started. Searching for the next optimal point.\n",
      "__mu=4.8386e-06, amnesic=0.73\n"
     ]
    },
    {
     "name": "stdout",
     "output_type": "stream",
     "text": [
      "____best n_comp: 1\n",
      "____best score: 0.5909\n"
     ]
    },
    {
     "name": "stdout",
     "output_type": "stream",
     "text": [
      "Iteration No: 55 ended. Search finished for the next optimal point.\n",
      "Time taken: 47.5451\n",
      "Function value obtained: -0.5909\n",
      "Current minimum: -0.5909\n",
      "Iteration No: 56 started. Searching for the next optimal point.\n",
      "__mu=1.4470e-06, amnesic=0.19\n"
     ]
    },
    {
     "name": "stdout",
     "output_type": "stream",
     "text": [
      "____best n_comp: 1\n",
      "____best score: 0.5909\n"
     ]
    },
    {
     "name": "stdout",
     "output_type": "stream",
     "text": [
      "Iteration No: 56 ended. Search finished for the next optimal point.\n",
      "Time taken: 47.5817\n",
      "Function value obtained: -0.5909\n",
      "Current minimum: -0.5909\n",
      "Iteration No: 57 started. Searching for the next optimal point.\n",
      "__mu=1.0000e-05, amnesic=1.00\n"
     ]
    },
    {
     "name": "stdout",
     "output_type": "stream",
     "text": [
      "____best n_comp: 1\n",
      "____best score: 0.5909\n"
     ]
    },
    {
     "name": "stdout",
     "output_type": "stream",
     "text": [
      "Iteration No: 57 ended. Search finished for the next optimal point.\n",
      "Time taken: 47.3397\n",
      "Function value obtained: -0.5909\n",
      "Current minimum: -0.5909\n",
      "Iteration No: 58 started. Searching for the next optimal point.\n",
      "__mu=1.3361e-08, amnesic=0.45\n"
     ]
    },
    {
     "name": "stdout",
     "output_type": "stream",
     "text": [
      "____best n_comp: 1\n",
      "____best score: 0.5909\n"
     ]
    },
    {
     "name": "stdout",
     "output_type": "stream",
     "text": [
      "Iteration No: 58 ended. Search finished for the next optimal point.\n",
      "Time taken: 47.2313\n",
      "Function value obtained: -0.5909\n",
      "Current minimum: -0.5909\n",
      "Iteration No: 59 started. Searching for the next optimal point.\n",
      "__mu=1.2967e-09, amnesic=0.79\n"
     ]
    },
    {
     "name": "stdout",
     "output_type": "stream",
     "text": [
      "____best n_comp: 1\n",
      "____best score: 0.5909\n"
     ]
    },
    {
     "name": "stdout",
     "output_type": "stream",
     "text": [
      "Iteration No: 59 ended. Search finished for the next optimal point.\n",
      "Time taken: 47.5000\n",
      "Function value obtained: -0.5909\n",
      "Current minimum: -0.5909\n",
      "Iteration No: 60 started. Searching for the next optimal point.\n",
      "__mu=3.2380e-08, amnesic=0.03\n"
     ]
    },
    {
     "name": "stdout",
     "output_type": "stream",
     "text": [
      "____best n_comp: 1\n",
      "____best score: 0.5909\n"
     ]
    },
    {
     "name": "stdout",
     "output_type": "stream",
     "text": [
      "Iteration No: 60 ended. Search finished for the next optimal point.\n",
      "Time taken: 47.6321\n",
      "Function value obtained: -0.5909\n",
      "Current minimum: -0.5909\n",
      "Iteration No: 61 started. Searching for the next optimal point.\n",
      "__mu=2.4895e-06, amnesic=0.77\n"
     ]
    },
    {
     "name": "stdout",
     "output_type": "stream",
     "text": [
      "____best n_comp: 1\n",
      "____best score: 0.5909\n"
     ]
    },
    {
     "name": "stdout",
     "output_type": "stream",
     "text": [
      "Iteration No: 61 ended. Search finished for the next optimal point.\n",
      "Time taken: 47.4663\n",
      "Function value obtained: -0.5909\n",
      "Current minimum: -0.5909\n",
      "Iteration No: 62 started. Searching for the next optimal point.\n",
      "__mu=1.0567e-08, amnesic=0.07\n"
     ]
    },
    {
     "name": "stdout",
     "output_type": "stream",
     "text": [
      "____best n_comp: 1\n",
      "____best score: 0.5909\n"
     ]
    },
    {
     "name": "stdout",
     "output_type": "stream",
     "text": [
      "Iteration No: 62 ended. Search finished for the next optimal point.\n",
      "Time taken: 47.3186\n",
      "Function value obtained: -0.5909\n",
      "Current minimum: -0.5909\n",
      "Iteration No: 63 started. Searching for the next optimal point.\n",
      "__mu=4.0256e-08, amnesic=0.81\n"
     ]
    },
    {
     "name": "stdout",
     "output_type": "stream",
     "text": [
      "____best n_comp: 1\n",
      "____best score: 0.5909\n"
     ]
    },
    {
     "name": "stdout",
     "output_type": "stream",
     "text": [
      "Iteration No: 63 ended. Search finished for the next optimal point.\n",
      "Time taken: 47.9690\n",
      "Function value obtained: -0.5909\n",
      "Current minimum: -0.5909\n",
      "Iteration No: 64 started. Searching for the next optimal point.\n",
      "__mu=2.2180e-08, amnesic=0.51\n"
     ]
    },
    {
     "name": "stdout",
     "output_type": "stream",
     "text": [
      "____best n_comp: 1\n",
      "____best score: 0.5909\n"
     ]
    },
    {
     "name": "stdout",
     "output_type": "stream",
     "text": [
      "Iteration No: 64 ended. Search finished for the next optimal point.\n",
      "Time taken: 47.5981\n",
      "Function value obtained: -0.5909\n",
      "Current minimum: -0.5909\n",
      "Iteration No: 65 started. Searching for the next optimal point.\n",
      "__mu=8.7925e-06, amnesic=0.00\n"
     ]
    },
    {
     "name": "stdout",
     "output_type": "stream",
     "text": [
      "____best n_comp: 1\n",
      "____best score: 0.5909\n"
     ]
    },
    {
     "name": "stdout",
     "output_type": "stream",
     "text": [
      "Iteration No: 65 ended. Search finished for the next optimal point.\n",
      "Time taken: 48.1974\n",
      "Function value obtained: -0.5909\n",
      "Current minimum: -0.5909\n",
      "Iteration No: 66 started. Searching for the next optimal point.\n",
      "__mu=9.6788e-06, amnesic=0.99\n"
     ]
    },
    {
     "name": "stdout",
     "output_type": "stream",
     "text": [
      "____best n_comp: 1\n",
      "____best score: 0.5909\n"
     ]
    },
    {
     "name": "stdout",
     "output_type": "stream",
     "text": [
      "Iteration No: 66 ended. Search finished for the next optimal point.\n",
      "Time taken: 47.0205\n",
      "Function value obtained: -0.5909\n",
      "Current minimum: -0.5909\n",
      "Iteration No: 67 started. Searching for the next optimal point.\n",
      "__mu=7.5084e-09, amnesic=0.95\n"
     ]
    },
    {
     "name": "stdout",
     "output_type": "stream",
     "text": [
      "____best n_comp: 1\n",
      "____best score: 0.5909\n"
     ]
    },
    {
     "name": "stdout",
     "output_type": "stream",
     "text": [
      "Iteration No: 67 ended. Search finished for the next optimal point.\n",
      "Time taken: 47.8331\n",
      "Function value obtained: -0.5909\n",
      "Current minimum: -0.5909\n",
      "Iteration No: 68 started. Searching for the next optimal point.\n",
      "__mu=1.3070e-07, amnesic=0.11\n"
     ]
    },
    {
     "name": "stdout",
     "output_type": "stream",
     "text": [
      "____best n_comp: 1\n",
      "____best score: 0.5909\n"
     ]
    },
    {
     "name": "stdout",
     "output_type": "stream",
     "text": [
      "Iteration No: 68 ended. Search finished for the next optimal point.\n",
      "Time taken: 47.9197\n",
      "Function value obtained: -0.5909\n",
      "Current minimum: -0.5909\n",
      "Iteration No: 69 started. Searching for the next optimal point.\n",
      "__mu=1.7312e-09, amnesic=0.67\n"
     ]
    },
    {
     "name": "stdout",
     "output_type": "stream",
     "text": [
      "____best n_comp: 1\n",
      "____best score: 0.5909\n"
     ]
    },
    {
     "name": "stdout",
     "output_type": "stream",
     "text": [
      "Iteration No: 69 ended. Search finished for the next optimal point.\n",
      "Time taken: 48.0368\n",
      "Function value obtained: -0.5909\n",
      "Current minimum: -0.5909\n",
      "Iteration No: 70 started. Searching for the next optimal point.\n",
      "__mu=2.5029e-06, amnesic=0.58\n"
     ]
    },
    {
     "name": "stdout",
     "output_type": "stream",
     "text": [
      "____best n_comp: 1\n",
      "____best score: 0.5909\n"
     ]
    },
    {
     "name": "stdout",
     "output_type": "stream",
     "text": [
      "Iteration No: 70 ended. Search finished for the next optimal point.\n",
      "Time taken: 48.1286\n",
      "Function value obtained: -0.5909\n",
      "Current minimum: -0.5909\n",
      "Iteration No: 71 started. Searching for the next optimal point.\n",
      "__mu=1.6255e-08, amnesic=0.14\n"
     ]
    },
    {
     "name": "stdout",
     "output_type": "stream",
     "text": [
      "____best n_comp: 1\n",
      "____best score: 0.5909\n"
     ]
    },
    {
     "name": "stdout",
     "output_type": "stream",
     "text": [
      "Iteration No: 71 ended. Search finished for the next optimal point.\n",
      "Time taken: 48.0355\n",
      "Function value obtained: -0.5909\n",
      "Current minimum: -0.5909\n",
      "Iteration No: 72 started. Searching for the next optimal point.\n",
      "__mu=3.5518e-08, amnesic=0.45\n"
     ]
    },
    {
     "name": "stdout",
     "output_type": "stream",
     "text": [
      "____best n_comp: 1\n",
      "____best score: 0.5909\n"
     ]
    },
    {
     "name": "stdout",
     "output_type": "stream",
     "text": [
      "Iteration No: 72 ended. Search finished for the next optimal point.\n",
      "Time taken: 47.8079\n",
      "Function value obtained: -0.5909\n",
      "Current minimum: -0.5909\n",
      "Iteration No: 73 started. Searching for the next optimal point.\n",
      "__mu=9.5910e-06, amnesic=0.00\n"
     ]
    },
    {
     "name": "stdout",
     "output_type": "stream",
     "text": [
      "____best n_comp: 1\n",
      "____best score: 0.5909\n"
     ]
    },
    {
     "name": "stdout",
     "output_type": "stream",
     "text": [
      "Iteration No: 73 ended. Search finished for the next optimal point.\n",
      "Time taken: 48.4762\n",
      "Function value obtained: -0.5909\n",
      "Current minimum: -0.5909\n",
      "Iteration No: 74 started. Searching for the next optimal point.\n",
      "__mu=9.9982e-06, amnesic=1.00\n"
     ]
    },
    {
     "name": "stdout",
     "output_type": "stream",
     "text": [
      "____best n_comp: 1\n",
      "____best score: 0.5909\n"
     ]
    },
    {
     "name": "stdout",
     "output_type": "stream",
     "text": [
      "Iteration No: 74 ended. Search finished for the next optimal point.\n",
      "Time taken: 48.3220\n",
      "Function value obtained: -0.5909\n",
      "Current minimum: -0.5909\n",
      "Iteration No: 75 started. Searching for the next optimal point.\n",
      "__mu=2.4176e-06, amnesic=0.86\n"
     ]
    },
    {
     "name": "stdout",
     "output_type": "stream",
     "text": [
      "____best n_comp: 1\n",
      "____best score: 0.5909\n"
     ]
    },
    {
     "name": "stdout",
     "output_type": "stream",
     "text": [
      "Iteration No: 75 ended. Search finished for the next optimal point.\n",
      "Time taken: 48.4784\n",
      "Function value obtained: -0.5909\n",
      "Current minimum: -0.5909\n",
      "Iteration No: 76 started. Searching for the next optimal point.\n",
      "__mu=5.1135e-06, amnesic=0.61\n"
     ]
    },
    {
     "name": "stdout",
     "output_type": "stream",
     "text": [
      "____best n_comp: 1\n",
      "____best score: 0.5909\n"
     ]
    },
    {
     "name": "stdout",
     "output_type": "stream",
     "text": [
      "Iteration No: 76 ended. Search finished for the next optimal point.\n",
      "Time taken: 48.1474\n",
      "Function value obtained: -0.5909\n",
      "Current minimum: -0.5909\n",
      "Iteration No: 77 started. Searching for the next optimal point.\n",
      "__mu=1.0906e-09, amnesic=0.88\n"
     ]
    },
    {
     "name": "stdout",
     "output_type": "stream",
     "text": [
      "____best n_comp: 1\n",
      "____best score: 0.5909\n"
     ]
    },
    {
     "name": "stdout",
     "output_type": "stream",
     "text": [
      "Iteration No: 77 ended. Search finished for the next optimal point.\n",
      "Time taken: 48.7671\n",
      "Function value obtained: -0.5909\n",
      "Current minimum: -0.5909\n",
      "Iteration No: 78 started. Searching for the next optimal point.\n",
      "__mu=7.5551e-07, amnesic=0.42\n"
     ]
    },
    {
     "name": "stdout",
     "output_type": "stream",
     "text": [
      "____best n_comp: 1\n",
      "____best score: 0.5909\n"
     ]
    },
    {
     "name": "stdout",
     "output_type": "stream",
     "text": [
      "Iteration No: 78 ended. Search finished for the next optimal point.\n",
      "Time taken: 48.9730\n",
      "Function value obtained: -0.5909\n",
      "Current minimum: -0.5909\n",
      "Iteration No: 79 started. Searching for the next optimal point.\n",
      "__mu=3.2670e-07, amnesic=0.80\n"
     ]
    },
    {
     "name": "stdout",
     "output_type": "stream",
     "text": [
      "____best n_comp: 1\n",
      "____best score: 0.5909\n"
     ]
    },
    {
     "name": "stdout",
     "output_type": "stream",
     "text": [
      "Iteration No: 79 ended. Search finished for the next optimal point.\n",
      "Time taken: 48.5755\n",
      "Function value obtained: -0.5909\n",
      "Current minimum: -0.5909\n",
      "Iteration No: 80 started. Searching for the next optimal point.\n",
      "__mu=6.6674e-06, amnesic=0.12\n"
     ]
    },
    {
     "name": "stdout",
     "output_type": "stream",
     "text": [
      "____best n_comp: 1\n",
      "____best score: 0.5909\n"
     ]
    },
    {
     "name": "stdout",
     "output_type": "stream",
     "text": [
      "Iteration No: 80 ended. Search finished for the next optimal point.\n",
      "Time taken: 48.4900\n",
      "Function value obtained: -0.5909\n",
      "Current minimum: -0.5909\n",
      "Iteration No: 81 started. Searching for the next optimal point.\n",
      "__mu=1.0730e-09, amnesic=0.01\n"
     ]
    },
    {
     "name": "stdout",
     "output_type": "stream",
     "text": [
      "____best n_comp: 1\n",
      "____best score: 0.5909\n"
     ]
    },
    {
     "name": "stdout",
     "output_type": "stream",
     "text": [
      "Iteration No: 81 ended. Search finished for the next optimal point.\n",
      "Time taken: 48.4348\n",
      "Function value obtained: -0.5909\n",
      "Current minimum: -0.5909\n",
      "Iteration No: 82 started. Searching for the next optimal point.\n",
      "__mu=1.0213e-09, amnesic=0.01\n"
     ]
    },
    {
     "name": "stdout",
     "output_type": "stream",
     "text": [
      "____best n_comp: 1\n",
      "____best score: 0.5909\n"
     ]
    },
    {
     "name": "stdout",
     "output_type": "stream",
     "text": [
      "Iteration No: 82 ended. Search finished for the next optimal point.\n",
      "Time taken: 48.2240\n",
      "Function value obtained: -0.5909\n",
      "Current minimum: -0.5909\n",
      "Iteration No: 83 started. Searching for the next optimal point.\n",
      "__mu=9.8989e-06, amnesic=0.01\n"
     ]
    },
    {
     "name": "stdout",
     "output_type": "stream",
     "text": [
      "____best n_comp: 1\n",
      "____best score: 0.5909\n"
     ]
    },
    {
     "name": "stdout",
     "output_type": "stream",
     "text": [
      "Iteration No: 83 ended. Search finished for the next optimal point.\n",
      "Time taken: 48.5116\n",
      "Function value obtained: -0.5909\n",
      "Current minimum: -0.5909\n",
      "Iteration No: 84 started. Searching for the next optimal point.\n",
      "__mu=1.5642e-09, amnesic=0.88\n"
     ]
    },
    {
     "name": "stdout",
     "output_type": "stream",
     "text": [
      "____best n_comp: 1\n",
      "____best score: 0.5909\n"
     ]
    },
    {
     "name": "stdout",
     "output_type": "stream",
     "text": [
      "Iteration No: 84 ended. Search finished for the next optimal point.\n",
      "Time taken: 47.8063\n",
      "Function value obtained: -0.5909\n",
      "Current minimum: -0.5909\n",
      "Iteration No: 85 started. Searching for the next optimal point.\n",
      "__mu=9.6676e-06, amnesic=0.57\n"
     ]
    },
    {
     "name": "stdout",
     "output_type": "stream",
     "text": [
      "____best n_comp: 1\n",
      "____best score: 0.5909\n"
     ]
    },
    {
     "name": "stdout",
     "output_type": "stream",
     "text": [
      "Iteration No: 85 ended. Search finished for the next optimal point.\n",
      "Time taken: 48.9472\n",
      "Function value obtained: -0.5909\n",
      "Current minimum: -0.5909\n",
      "Iteration No: 86 started. Searching for the next optimal point.\n",
      "__mu=1.7936e-08, amnesic=0.94\n"
     ]
    },
    {
     "name": "stdout",
     "output_type": "stream",
     "text": [
      "____best n_comp: 1\n",
      "____best score: 0.5909\n"
     ]
    },
    {
     "name": "stdout",
     "output_type": "stream",
     "text": [
      "Iteration No: 86 ended. Search finished for the next optimal point.\n",
      "Time taken: 47.7439\n",
      "Function value obtained: -0.5909\n",
      "Current minimum: -0.5909\n",
      "Iteration No: 87 started. Searching for the next optimal point.\n",
      "__mu=7.2697e-07, amnesic=0.09\n"
     ]
    },
    {
     "name": "stdout",
     "output_type": "stream",
     "text": [
      "____best n_comp: 1\n",
      "____best score: 0.5909\n"
     ]
    },
    {
     "name": "stdout",
     "output_type": "stream",
     "text": [
      "Iteration No: 87 ended. Search finished for the next optimal point.\n",
      "Time taken: 47.8970\n",
      "Function value obtained: -0.5909\n",
      "Current minimum: -0.5909\n",
      "Iteration No: 88 started. Searching for the next optimal point.\n",
      "__mu=3.0345e-06, amnesic=0.06\n"
     ]
    },
    {
     "name": "stdout",
     "output_type": "stream",
     "text": [
      "____best n_comp: 1\n",
      "____best score: 0.5909\n"
     ]
    },
    {
     "name": "stdout",
     "output_type": "stream",
     "text": [
      "Iteration No: 88 ended. Search finished for the next optimal point.\n",
      "Time taken: 48.0921\n",
      "Function value obtained: -0.5909\n",
      "Current minimum: -0.5909\n",
      "Iteration No: 89 started. Searching for the next optimal point.\n",
      "__mu=1.0243e-09, amnesic=0.01\n"
     ]
    },
    {
     "name": "stdout",
     "output_type": "stream",
     "text": [
      "____best n_comp: 1\n",
      "____best score: 0.5909\n"
     ]
    },
    {
     "name": "stdout",
     "output_type": "stream",
     "text": [
      "Iteration No: 89 ended. Search finished for the next optimal point.\n",
      "Time taken: 47.2521\n",
      "Function value obtained: -0.5909\n",
      "Current minimum: -0.5909\n",
      "Iteration No: 90 started. Searching for the next optimal point.\n",
      "__mu=1.0000e-09, amnesic=1.00\n"
     ]
    },
    {
     "name": "stdout",
     "output_type": "stream",
     "text": [
      "____best n_comp: 1\n",
      "____best score: 0.5909\n"
     ]
    },
    {
     "name": "stdout",
     "output_type": "stream",
     "text": [
      "Iteration No: 90 ended. Search finished for the next optimal point.\n",
      "Time taken: 48.3781\n",
      "Function value obtained: -0.5909\n",
      "Current minimum: -0.5909\n",
      "Iteration No: 91 started. Searching for the next optimal point.\n",
      "__mu=9.8556e-06, amnesic=0.98\n"
     ]
    },
    {
     "name": "stdout",
     "output_type": "stream",
     "text": [
      "____best n_comp: 1\n",
      "____best score: 0.5909\n"
     ]
    },
    {
     "name": "stdout",
     "output_type": "stream",
     "text": [
      "Iteration No: 91 ended. Search finished for the next optimal point.\n",
      "Time taken: 48.9438\n",
      "Function value obtained: -0.5909\n",
      "Current minimum: -0.5909\n",
      "Iteration No: 92 started. Searching for the next optimal point.\n",
      "__mu=1.0130e-09, amnesic=0.00\n"
     ]
    },
    {
     "name": "stdout",
     "output_type": "stream",
     "text": [
      "____best n_comp: 1\n",
      "____best score: 0.5909\n"
     ]
    },
    {
     "name": "stdout",
     "output_type": "stream",
     "text": [
      "Iteration No: 92 ended. Search finished for the next optimal point.\n",
      "Time taken: 47.9138\n",
      "Function value obtained: -0.5909\n",
      "Current minimum: -0.5909\n",
      "Iteration No: 93 started. Searching for the next optimal point.\n",
      "__mu=1.4693e-07, amnesic=0.24\n"
     ]
    },
    {
     "name": "stdout",
     "output_type": "stream",
     "text": [
      "____best n_comp: 1\n",
      "____best score: 0.5909\n"
     ]
    },
    {
     "name": "stdout",
     "output_type": "stream",
     "text": [
      "Iteration No: 93 ended. Search finished for the next optimal point.\n",
      "Time taken: 47.7137\n",
      "Function value obtained: -0.5909\n",
      "Current minimum: -0.5909\n",
      "Iteration No: 94 started. Searching for the next optimal point.\n",
      "__mu=8.6438e-06, amnesic=0.94\n"
     ]
    },
    {
     "name": "stdout",
     "output_type": "stream",
     "text": [
      "____best n_comp: 1\n",
      "____best score: 0.5909\n"
     ]
    },
    {
     "name": "stdout",
     "output_type": "stream",
     "text": [
      "Iteration No: 94 ended. Search finished for the next optimal point.\n",
      "Time taken: 47.1507\n",
      "Function value obtained: -0.5909\n",
      "Current minimum: -0.5909\n",
      "Iteration No: 95 started. Searching for the next optimal point.\n",
      "__mu=2.9523e-09, amnesic=0.27\n"
     ]
    },
    {
     "name": "stdout",
     "output_type": "stream",
     "text": [
      "____best n_comp: 1\n",
      "____best score: 0.5909\n"
     ]
    },
    {
     "name": "stdout",
     "output_type": "stream",
     "text": [
      "Iteration No: 95 ended. Search finished for the next optimal point.\n",
      "Time taken: 47.5761\n",
      "Function value obtained: -0.5909\n",
      "Current minimum: -0.5909\n",
      "Iteration No: 96 started. Searching for the next optimal point.\n",
      "__mu=8.7145e-06, amnesic=0.00\n"
     ]
    },
    {
     "name": "stdout",
     "output_type": "stream",
     "text": [
      "____best n_comp: 1\n",
      "____best score: 0.5909\n"
     ]
    },
    {
     "name": "stdout",
     "output_type": "stream",
     "text": [
      "Iteration No: 96 ended. Search finished for the next optimal point.\n",
      "Time taken: 47.4885\n",
      "Function value obtained: -0.5909\n",
      "Current minimum: -0.5909\n",
      "Iteration No: 97 started. Searching for the next optimal point.\n",
      "__mu=1.0023e-09, amnesic=0.99\n"
     ]
    },
    {
     "name": "stdout",
     "output_type": "stream",
     "text": [
      "____best n_comp: 1\n",
      "____best score: 0.5909\n"
     ]
    },
    {
     "name": "stdout",
     "output_type": "stream",
     "text": [
      "Iteration No: 97 ended. Search finished for the next optimal point.\n",
      "Time taken: 47.4895\n",
      "Function value obtained: -0.5909\n",
      "Current minimum: -0.5909\n",
      "Iteration No: 98 started. Searching for the next optimal point.\n",
      "__mu=1.0296e-09, amnesic=1.00\n"
     ]
    },
    {
     "name": "stdout",
     "output_type": "stream",
     "text": [
      "____best n_comp: 1\n",
      "____best score: 0.5909\n"
     ]
    },
    {
     "name": "stdout",
     "output_type": "stream",
     "text": [
      "Iteration No: 98 ended. Search finished for the next optimal point.\n",
      "Time taken: 47.5590\n",
      "Function value obtained: -0.5909\n",
      "Current minimum: -0.5909\n",
      "Iteration No: 99 started. Searching for the next optimal point.\n",
      "__mu=9.7596e-06, amnesic=0.99\n"
     ]
    },
    {
     "name": "stdout",
     "output_type": "stream",
     "text": [
      "____best n_comp: 1\n",
      "____best score: 0.5909\n"
     ]
    },
    {
     "name": "stdout",
     "output_type": "stream",
     "text": [
      "Iteration No: 99 ended. Search finished for the next optimal point.\n",
      "Time taken: 47.6710\n",
      "Function value obtained: -0.5909\n",
      "Current minimum: -0.5909\n",
      "Iteration No: 100 started. Searching for the next optimal point.\n",
      "__mu=1.0441e-09, amnesic=0.00\n"
     ]
    },
    {
     "name": "stdout",
     "output_type": "stream",
     "text": [
      "____best n_comp: 1\n",
      "____best score: 0.5909\n"
     ]
    },
    {
     "name": "stdout",
     "output_type": "stream",
     "text": [
      "Iteration No: 100 ended. Search finished for the next optimal point.\n",
      "Time taken: 47.3388\n",
      "Function value obtained: -0.5909\n",
      "Current minimum: -0.5909\n",
      "----------------------------------------\n",
      "Best amnesic = 6.653836620471076e-09\n",
      "Best mu = 0.04839605700676971\n",
      "Best score = 0.5909\n",
      "total time = 4748.1s\n"
     ]
    }
   ],
   "source": [
    "import Code.OLPLS\n",
    "importlib.reload(Code.OLPLS)\n",
    "from Code.OLPLS import OLPLS\n",
    "\n",
    "n_comp_max = 100\n",
    "\n",
    "space  = [ Real(1e-9, 1e-5, name='mu', prior=\"log-uniform\"),\n",
    "           Real(0, 1, name='amnesic')]\n",
    "\n",
    "@use_named_args(space)\n",
    "def Comp_Model_Score(mu, amnesic):\n",
    "    X_train, X_test, y_train, y_test = train_test_split(\n",
    "        fea_train, label_train, test_size=0.1, random_state=42)\n",
    "    score_loc = np.zeros((n_comp_max, ))\n",
    "\n",
    "    PLS=OLPLS(n_components=n_comp_max, mu=mu, amnesic=amnesic)\n",
    "    print(f\"__mu={PLS.mu:.4e}, amnesic={PLS.amnesic:.2f}\")\n",
    "\n",
    "    PLS.fit(X_train, y_train)\n",
    "    for n_comp in range(1, n_comp_max+1):\n",
    "        X_score_train = norm(np.dot(X_train, PLS.W[:,:n_comp]), ord=1, axis=1, keepdims=True)\n",
    "        X_score_test = norm(np.dot(X_test, PLS.W[:,:n_comp]), ord=1, axis=1, keepdims=True)\n",
    "        y_pred = LogisticRegression(penalty=None).fit(X_score_train, y_train) \\\n",
    "                                                     .predict(X_score_test)\n",
    "        score_loc[n_comp-1] = accuracy_score(y_test, y_pred)\n",
    "\n",
    "    # print(score_loc)\n",
    "    score = np.nanmax(score_loc)\n",
    "    if (np.isnan(score)):\n",
    "        score = 0\n",
    "        print(\"____failure\")\n",
    "    else:\n",
    "        print(f\"____best n_comp: {np.nanargmax(score_loc)+1:d}\")\n",
    "        print(f\"____best score: {score:.4f}\")\n",
    "    return -score\n",
    "\n",
    "tim_tot.tic()\n",
    "res_gp = gp_minimize(Comp_Model_Score, space, n_calls=100,\n",
    "                     n_initial_points = 30, initial_point_generator=\"lhs\", \n",
    "                     random_state=0, verbose=True)\n",
    "\n",
    "print(\"-\"*40)\n",
    "print(f\"Best amnesic = {res_gp.x[0]}\")\n",
    "print(f\"Best mu = {res_gp.x[1]}\")\n",
    "print(f\"Best score = {-res_gp.fun:.4f}\")\n",
    "print(f\"total time = {tim_tot.tocvalue():.1f}s\")"
   ]
  },
  {
   "cell_type": "code",
   "execution_count": 5,
   "id": "b391212a-ab36-4d06-87a2-ca2329179d02",
   "metadata": {
    "collapsed": false,
    "jupyter": {
     "outputs_hidden": false
    }
   },
   "outputs": [
    {
     "name": "stdout",
     "output_type": "stream",
     "text": [
      "Iteration No: 1 started. Evaluating function at random point.\n",
      "__eta=2.6789e-07\n"
     ]
    },
    {
     "name": "stdout",
     "output_type": "stream",
     "text": [
      "____best n_comp: 88\n",
      "____best score: 0.8773\n",
      "Iteration No: 1 ended. Evaluation done at random point.\n",
      "Time taken: 147.8905\n",
      "Function value obtained: -0.8773\n",
      "Current minimum: -0.8773\n",
      "Iteration No: 2 started. Evaluating function at random point.\n",
      "__eta=5.3467e-06\n"
     ]
    },
    {
     "name": "stdout",
     "output_type": "stream",
     "text": [
      "____best n_comp: 86\n",
      "____best score: 0.8818\n",
      "Iteration No: 2 ended. Evaluation done at random point.\n",
      "Time taken: 147.9338\n",
      "Function value obtained: -0.8818\n",
      "Current minimum: -0.8818\n",
      "Iteration No: 3 started. Evaluating function at random point.\n",
      "__eta=3.0005e-09\n"
     ]
    },
    {
     "name": "stdout",
     "output_type": "stream",
     "text": [
      "____best n_comp: 18\n",
      "____best score: 0.8636\n",
      "Iteration No: 3 ended. Evaluation done at random point.\n",
      "Time taken: 147.9673\n",
      "Function value obtained: -0.8636\n",
      "Current minimum: -0.8818\n",
      "Iteration No: 4 started. Evaluating function at random point.\n",
      "__eta=1.2099e-05\n"
     ]
    },
    {
     "name": "stdout",
     "output_type": "stream",
     "text": [
      "____best n_comp: 88\n",
      "____best score: 0.9045\n",
      "Iteration No: 4 ended. Evaluation done at random point.\n",
      "Time taken: 147.8172\n",
      "Function value obtained: -0.9045\n",
      "Current minimum: -0.9045\n",
      "Iteration No: 5 started. Evaluating function at random point.\n",
      "__eta=8.2867e-06\n"
     ]
    },
    {
     "name": "stdout",
     "output_type": "stream",
     "text": [
      "____best n_comp: 93\n",
      "____best score: 0.8636\n",
      "Iteration No: 5 ended. Evaluation done at random point.\n",
      "Time taken: 148.2294\n",
      "Function value obtained: -0.8636\n",
      "Current minimum: -0.9045\n",
      "Iteration No: 6 started. Evaluating function at random point.\n",
      "__eta=2.0683e-07\n"
     ]
    },
    {
     "name": "stdout",
     "output_type": "stream",
     "text": [
      "____best n_comp: 91\n",
      "____best score: 0.8636\n",
      "Iteration No: 6 ended. Evaluation done at random point.\n",
      "Time taken: 148.3053\n",
      "Function value obtained: -0.8636\n",
      "Current minimum: -0.9045\n",
      "Iteration No: 7 started. Evaluating function at random point.\n",
      "__eta=9.3651e-07\n"
     ]
    },
    {
     "name": "stdout",
     "output_type": "stream",
     "text": [
      "____best n_comp: 71\n",
      "____best score: 0.8591\n",
      "Iteration No: 7 ended. Evaluation done at random point.\n",
      "Time taken: 147.1591\n",
      "Function value obtained: -0.8591\n",
      "Current minimum: -0.9045\n",
      "Iteration No: 8 started. Evaluating function at random point.\n",
      "__eta=1.9718e-05\n"
     ]
    },
    {
     "name": "stdout",
     "output_type": "stream",
     "text": [
      "____best n_comp: 57\n",
      "____best score: 0.8727\n",
      "Iteration No: 8 ended. Evaluation done at random point.\n",
      "Time taken: 148.0290\n",
      "Function value obtained: -0.8727\n",
      "Current minimum: -0.9045\n",
      "Iteration No: 9 started. Evaluating function at random point.\n",
      "__eta=6.5751e-07\n"
     ]
    },
    {
     "name": "stdout",
     "output_type": "stream",
     "text": [
      "____best n_comp: 82\n",
      "____best score: 0.8500\n",
      "Iteration No: 9 ended. Evaluation done at random point.\n",
      "Time taken: 147.4881\n",
      "Function value obtained: -0.8500\n",
      "Current minimum: -0.9045\n",
      "Iteration No: 10 started. Evaluating function at random point.\n",
      "__eta=1.7469e-09\n"
     ]
    },
    {
     "name": "stdout",
     "output_type": "stream",
     "text": [
      "____best n_comp: 63\n",
      "____best score: 0.8636\n",
      "Iteration No: 10 ended. Evaluation done at random point.\n",
      "Time taken: 148.0071\n",
      "Function value obtained: -0.8636\n",
      "Current minimum: -0.9045\n",
      "Iteration No: 11 started. Evaluating function at random point.\n",
      "__eta=5.8508e-09\n"
     ]
    },
    {
     "name": "stdout",
     "output_type": "stream",
     "text": [
      "____best n_comp: 100\n",
      "____best score: 0.8636\n",
      "Iteration No: 11 ended. Evaluation done at random point.\n",
      "Time taken: 147.7524\n",
      "Function value obtained: -0.8636\n",
      "Current minimum: -0.9045\n",
      "Iteration No: 12 started. Evaluating function at random point.\n",
      "__eta=1.0695e-09\n"
     ]
    },
    {
     "name": "stdout",
     "output_type": "stream",
     "text": [
      "____best n_comp: 99\n",
      "____best score: 0.8636\n",
      "Iteration No: 12 ended. Evaluation done at random point.\n",
      "Time taken: 147.7014\n",
      "Function value obtained: -0.8636\n",
      "Current minimum: -0.9045\n",
      "Iteration No: 13 started. Evaluating function at random point.\n",
      "__eta=4.0814e-05\n"
     ]
    },
    {
     "name": "stdout",
     "output_type": "stream",
     "text": [
      "____best n_comp: 70\n",
      "____best score: 0.9136\n",
      "Iteration No: 13 ended. Evaluation done at random point.\n",
      "Time taken: 148.0992\n",
      "Function value obtained: -0.9136\n",
      "Current minimum: -0.9136\n",
      "Iteration No: 14 started. Evaluating function at random point.\n",
      "__eta=1.2477e-07\n"
     ]
    },
    {
     "name": "stdout",
     "output_type": "stream",
     "text": [
      "____best n_comp: 83\n",
      "____best score: 0.8864\n",
      "Iteration No: 14 ended. Evaluation done at random point.\n",
      "Time taken: 147.6364\n",
      "Function value obtained: -0.8864\n",
      "Current minimum: -0.9136\n",
      "Iteration No: 15 started. Evaluating function at random point.\n",
      "__eta=1.9081e-06\n"
     ]
    },
    {
     "name": "stdout",
     "output_type": "stream",
     "text": [
      "____best n_comp: 91\n",
      "____best score: 0.8773\n",
      "Iteration No: 15 ended. Evaluation done at random point.\n",
      "Time taken: 147.2610\n",
      "Function value obtained: -0.8773\n",
      "Current minimum: -0.9136\n",
      "Iteration No: 16 started. Evaluating function at random point.\n",
      "__eta=2.0066e-08\n"
     ]
    },
    {
     "name": "stdout",
     "output_type": "stream",
     "text": [
      "____best n_comp: 29\n",
      "____best score: 0.8727\n",
      "Iteration No: 16 ended. Evaluation done at random point.\n",
      "Time taken: 147.1325\n",
      "Function value obtained: -0.8727\n",
      "Current minimum: -0.9136\n",
      "Iteration No: 17 started. Evaluating function at random point.\n",
      "__eta=8.0211e-08\n"
     ]
    },
    {
     "name": "stdout",
     "output_type": "stream",
     "text": [
      "____best n_comp: 88\n",
      "____best score: 0.8773\n",
      "Iteration No: 17 ended. Evaluation done at random point.\n",
      "Time taken: 147.3791\n",
      "Function value obtained: -0.8773\n",
      "Current minimum: -0.9136\n",
      "Iteration No: 18 started. Evaluating function at random point.\n",
      "__eta=9.0186e-05\n"
     ]
    },
    {
     "name": "stdout",
     "output_type": "stream",
     "text": [
      "____best n_comp: 75\n",
      "____best score: 0.8818\n",
      "Iteration No: 18 ended. Evaluation done at random point.\n",
      "Time taken: 146.8267\n",
      "Function value obtained: -0.8818\n",
      "Current minimum: -0.9136\n",
      "Iteration No: 19 started. Evaluating function at random point.\n",
      "__eta=5.6232e-05\n"
     ]
    },
    {
     "name": "stdout",
     "output_type": "stream",
     "text": [
      "____best n_comp: 80\n",
      "____best score: 0.8682\n",
      "Iteration No: 19 ended. Evaluation done at random point.\n",
      "Time taken: 146.8430\n",
      "Function value obtained: -0.8682\n",
      "Current minimum: -0.9136\n",
      "Iteration No: 20 started. Evaluating function at random point.\n",
      "__eta=2.8386e-06\n"
     ]
    },
    {
     "name": "stdout",
     "output_type": "stream",
     "text": [
      "____best n_comp: 100\n",
      "____best score: 0.8727\n",
      "Iteration No: 20 ended. Evaluation done at random point.\n",
      "Time taken: 146.9504\n",
      "Function value obtained: -0.8727\n",
      "Current minimum: -0.9136\n",
      "Iteration No: 21 started. Evaluating function at random point.\n",
      "__eta=3.3784e-07\n"
     ]
    },
    {
     "name": "stdout",
     "output_type": "stream",
     "text": [
      "____best n_comp: 78\n",
      "____best score: 0.8500\n",
      "Iteration No: 21 ended. Evaluation done at random point.\n",
      "Time taken: 146.9671\n",
      "Function value obtained: -0.8500\n",
      "Current minimum: -0.9136\n",
      "Iteration No: 22 started. Evaluating function at random point.\n",
      "__eta=3.2876e-08\n"
     ]
    },
    {
     "name": "stdout",
     "output_type": "stream",
     "text": [
      "____best n_comp: 63\n",
      "____best score: 0.8591\n",
      "Iteration No: 22 ended. Evaluation done at random point.\n",
      "Time taken: 148.0430\n",
      "Function value obtained: -0.8591\n",
      "Current minimum: -0.9136\n",
      "Iteration No: 23 started. Evaluating function at random point.\n",
      "__eta=4.1938e-09\n"
     ]
    },
    {
     "name": "stdout",
     "output_type": "stream",
     "text": [
      "____best n_comp: 87\n",
      "____best score: 0.8591\n",
      "Iteration No: 23 ended. Evaluation done at random point.\n",
      "Time taken: 147.5442\n",
      "Function value obtained: -0.8591\n",
      "Current minimum: -0.9136\n",
      "Iteration No: 24 started. Evaluating function at random point.\n",
      "__eta=2.6671e-05\n"
     ]
    },
    {
     "name": "stdout",
     "output_type": "stream",
     "text": [
      "____best n_comp: 38\n",
      "____best score: 0.8818\n",
      "Iteration No: 24 ended. Evaluation done at random point.\n",
      "Time taken: 147.3347\n",
      "Function value obtained: -0.8818\n",
      "Current minimum: -0.9136\n",
      "Iteration No: 25 started. Evaluating function at random point.\n",
      "__eta=7.4524e-09\n"
     ]
    },
    {
     "name": "stdout",
     "output_type": "stream",
     "text": [
      "____best n_comp: 59\n",
      "____best score: 0.8773\n",
      "Iteration No: 25 ended. Evaluation done at random point.\n",
      "Time taken: 147.1338\n",
      "Function value obtained: -0.8773\n",
      "Current minimum: -0.9136\n",
      "Iteration No: 26 started. Evaluating function at random point.\n",
      "__eta=6.1729e-08\n"
     ]
    },
    {
     "name": "stdout",
     "output_type": "stream",
     "text": [
      "____best n_comp: 100\n",
      "____best score: 0.8636\n",
      "Iteration No: 26 ended. Evaluation done at random point.\n",
      "Time taken: 147.3806\n",
      "Function value obtained: -0.8636\n",
      "Current minimum: -0.9136\n",
      "Iteration No: 27 started. Evaluating function at random point.\n",
      "__eta=1.1116e-08\n"
     ]
    },
    {
     "name": "stdout",
     "output_type": "stream",
     "text": [
      "____best n_comp: 22\n",
      "____best score: 0.8545\n",
      "Iteration No: 27 ended. Evaluation done at random point.\n",
      "Time taken: 147.0819\n",
      "Function value obtained: -0.8545\n",
      "Current minimum: -0.9136\n",
      "Iteration No: 28 started. Evaluating function at random point.\n",
      "__eta=1.2073e-06\n"
     ]
    },
    {
     "name": "stdout",
     "output_type": "stream",
     "text": [
      "____best n_comp: 100\n",
      "____best score: 0.8682\n",
      "Iteration No: 28 ended. Evaluation done at random point.\n",
      "Time taken: 146.9833\n",
      "Function value obtained: -0.8682\n",
      "Current minimum: -0.9136\n",
      "Iteration No: 29 started. Evaluating function at random point.\n",
      "__eta=4.2165e-06\n"
     ]
    },
    {
     "name": "stdout",
     "output_type": "stream",
     "text": [
      "____best n_comp: 81\n",
      "____best score: 0.8773\n",
      "Iteration No: 29 ended. Evaluation done at random point.\n",
      "Time taken: 147.3200\n",
      "Function value obtained: -0.8773\n",
      "Current minimum: -0.9136\n",
      "Iteration No: 30 started. Evaluating function at random point.\n",
      "__eta=2.5629e-08\n"
     ]
    },
    {
     "name": "stdout",
     "output_type": "stream",
     "text": [
      "____best n_comp: 98\n",
      "____best score: 0.8727\n"
     ]
    },
    {
     "name": "stdout",
     "output_type": "stream",
     "text": [
      "Iteration No: 30 ended. Evaluation done at random point.\n",
      "Time taken: 147.5127\n",
      "Function value obtained: -0.8727\n",
      "Current minimum: -0.9136\n",
      "Iteration No: 31 started. Searching for the next optimal point.\n",
      "__eta=9.9975e-05\n"
     ]
    },
    {
     "name": "stdout",
     "output_type": "stream",
     "text": [
      "____best n_comp: 97\n",
      "____best score: 0.8682\n"
     ]
    },
    {
     "name": "stdout",
     "output_type": "stream",
     "text": [
      "Iteration No: 31 ended. Search finished for the next optimal point.\n",
      "Time taken: 147.4236\n",
      "Function value obtained: -0.8682\n",
      "Current minimum: -0.9136\n",
      "Iteration No: 32 started. Searching for the next optimal point.\n",
      "__eta=9.9956e-05\n"
     ]
    },
    {
     "name": "stdout",
     "output_type": "stream",
     "text": [
      "____best n_comp: 94\n",
      "____best score: 0.8591\n"
     ]
    },
    {
     "name": "stdout",
     "output_type": "stream",
     "text": [
      "Iteration No: 32 ended. Search finished for the next optimal point.\n",
      "Time taken: 148.2123\n",
      "Function value obtained: -0.8591\n",
      "Current minimum: -0.9136\n",
      "Iteration No: 33 started. Searching for the next optimal point.\n",
      "__eta=1.7857e-05\n"
     ]
    },
    {
     "name": "stdout",
     "output_type": "stream",
     "text": [
      "____best n_comp: 90\n",
      "____best score: 0.8682\n"
     ]
    },
    {
     "name": "stdout",
     "output_type": "stream",
     "text": [
      "Iteration No: 33 ended. Search finished for the next optimal point.\n",
      "Time taken: 148.7210\n",
      "Function value obtained: -0.8682\n",
      "Current minimum: -0.9136\n",
      "Iteration No: 34 started. Searching for the next optimal point.\n",
      "__eta=2.3057e-05\n"
     ]
    },
    {
     "name": "stdout",
     "output_type": "stream",
     "text": [
      "____best n_comp: 78\n",
      "____best score: 0.8955\n"
     ]
    },
    {
     "name": "stdout",
     "output_type": "stream",
     "text": [
      "Iteration No: 34 ended. Search finished for the next optimal point.\n",
      "Time taken: 148.3834\n",
      "Function value obtained: -0.8955\n",
      "Current minimum: -0.9136\n",
      "Iteration No: 35 started. Searching for the next optimal point.\n",
      "__eta=2.4447e-05\n"
     ]
    },
    {
     "name": "stdout",
     "output_type": "stream",
     "text": [
      "____best n_comp: 35\n",
      "____best score: 0.8955\n"
     ]
    },
    {
     "name": "stdout",
     "output_type": "stream",
     "text": [
      "Iteration No: 35 ended. Search finished for the next optimal point.\n",
      "Time taken: 148.2738\n",
      "Function value obtained: -0.8955\n",
      "Current minimum: -0.9136\n",
      "Iteration No: 36 started. Searching for the next optimal point.\n",
      "__eta=2.6901e-05\n"
     ]
    },
    {
     "name": "stdout",
     "output_type": "stream",
     "text": [
      "____best n_comp: 34\n",
      "____best score: 0.8773\n"
     ]
    },
    {
     "name": "stdout",
     "output_type": "stream",
     "text": [
      "Iteration No: 36 ended. Search finished for the next optimal point.\n",
      "Time taken: 148.0675\n",
      "Function value obtained: -0.8773\n",
      "Current minimum: -0.9136\n",
      "Iteration No: 37 started. Searching for the next optimal point.\n",
      "__eta=2.5059e-05\n"
     ]
    },
    {
     "name": "stdout",
     "output_type": "stream",
     "text": [
      "____best n_comp: 34\n",
      "____best score: 0.8818\n"
     ]
    },
    {
     "name": "stdout",
     "output_type": "stream",
     "text": [
      "Iteration No: 37 ended. Search finished for the next optimal point.\n",
      "Time taken: 148.2518\n",
      "Function value obtained: -0.8818\n",
      "Current minimum: -0.9136\n",
      "Iteration No: 38 started. Searching for the next optimal point.\n",
      "__eta=2.5125e-05\n"
     ]
    },
    {
     "name": "stdout",
     "output_type": "stream",
     "text": [
      "____best n_comp: 96\n",
      "____best score: 0.8955\n"
     ]
    },
    {
     "name": "stdout",
     "output_type": "stream",
     "text": [
      "Iteration No: 38 ended. Search finished for the next optimal point.\n",
      "Time taken: 148.2398\n",
      "Function value obtained: -0.8955\n",
      "Current minimum: -0.9136\n",
      "Iteration No: 39 started. Searching for the next optimal point.\n",
      "__eta=2.8042e-05\n"
     ]
    },
    {
     "name": "stdout",
     "output_type": "stream",
     "text": [
      "____best n_comp: 30\n",
      "____best score: 0.8909\n"
     ]
    },
    {
     "name": "stdout",
     "output_type": "stream",
     "text": [
      "Iteration No: 39 ended. Search finished for the next optimal point.\n",
      "Time taken: 148.1592\n",
      "Function value obtained: -0.8909\n",
      "Current minimum: -0.9136\n",
      "Iteration No: 40 started. Searching for the next optimal point.\n",
      "__eta=3.0389e-05\n"
     ]
    },
    {
     "name": "stdout",
     "output_type": "stream",
     "text": [
      "____best n_comp: 46\n",
      "____best score: 0.8955\n"
     ]
    },
    {
     "name": "stdout",
     "output_type": "stream",
     "text": [
      "Iteration No: 40 ended. Search finished for the next optimal point.\n",
      "Time taken: 148.2036\n",
      "Function value obtained: -0.8955\n",
      "Current minimum: -0.9136\n",
      "Iteration No: 41 started. Searching for the next optimal point.\n",
      "__eta=3.3331e-05\n"
     ]
    },
    {
     "name": "stdout",
     "output_type": "stream",
     "text": [
      "____best n_comp: 46\n",
      "____best score: 0.9045\n"
     ]
    },
    {
     "name": "stdout",
     "output_type": "stream",
     "text": [
      "Iteration No: 41 ended. Search finished for the next optimal point.\n",
      "Time taken: 148.2668\n",
      "Function value obtained: -0.9045\n",
      "Current minimum: -0.9136\n",
      "Iteration No: 42 started. Searching for the next optimal point.\n",
      "__eta=3.7761e-05\n"
     ]
    },
    {
     "name": "stdout",
     "output_type": "stream",
     "text": [
      "____best n_comp: 94\n",
      "____best score: 0.8955\n"
     ]
    },
    {
     "name": "stdout",
     "output_type": "stream",
     "text": [
      "Iteration No: 42 ended. Search finished for the next optimal point.\n",
      "Time taken: 148.4182\n",
      "Function value obtained: -0.8955\n",
      "Current minimum: -0.9136\n",
      "Iteration No: 43 started. Searching for the next optimal point.\n",
      "__eta=4.7513e-05\n"
     ]
    },
    {
     "name": "stdout",
     "output_type": "stream",
     "text": [
      "____best n_comp: 93\n",
      "____best score: 0.9045\n"
     ]
    },
    {
     "name": "stdout",
     "output_type": "stream",
     "text": [
      "Iteration No: 43 ended. Search finished for the next optimal point.\n",
      "Time taken: 148.0387\n",
      "Function value obtained: -0.9045\n",
      "Current minimum: -0.9136\n",
      "Iteration No: 44 started. Searching for the next optimal point.\n",
      "__eta=4.5942e-05\n"
     ]
    },
    {
     "name": "stdout",
     "output_type": "stream",
     "text": [
      "____best n_comp: 71\n",
      "____best score: 0.9136\n"
     ]
    },
    {
     "name": "stdout",
     "output_type": "stream",
     "text": [
      "Iteration No: 44 ended. Search finished for the next optimal point.\n",
      "Time taken: 147.6827\n",
      "Function value obtained: -0.9136\n",
      "Current minimum: -0.9136\n",
      "Iteration No: 45 started. Searching for the next optimal point.\n",
      "__eta=4.3324e-05\n"
     ]
    },
    {
     "name": "stdout",
     "output_type": "stream",
     "text": [
      "____best n_comp: 74\n",
      "____best score: 0.9136\n"
     ]
    },
    {
     "name": "stdout",
     "output_type": "stream",
     "text": [
      "Iteration No: 45 ended. Search finished for the next optimal point.\n",
      "Time taken: 149.0517\n",
      "Function value obtained: -0.9136\n",
      "Current minimum: -0.9136\n",
      "Iteration No: 46 started. Searching for the next optimal point.\n",
      "__eta=1.3652e-05\n"
     ]
    },
    {
     "name": "stdout",
     "output_type": "stream",
     "text": [
      "____best n_comp: 75\n",
      "____best score: 0.8955\n"
     ]
    },
    {
     "name": "stdout",
     "output_type": "stream",
     "text": [
      "Iteration No: 46 ended. Search finished for the next optimal point.\n",
      "Time taken: 148.9224\n",
      "Function value obtained: -0.8955\n",
      "Current minimum: -0.9136\n",
      "Iteration No: 47 started. Searching for the next optimal point.\n",
      "__eta=1.0732e-05\n"
     ]
    },
    {
     "name": "stdout",
     "output_type": "stream",
     "text": [
      "____best n_comp: 92\n",
      "____best score: 0.8864\n"
     ]
    },
    {
     "name": "stdout",
     "output_type": "stream",
     "text": [
      "Iteration No: 47 ended. Search finished for the next optimal point.\n",
      "Time taken: 147.9959\n",
      "Function value obtained: -0.8864\n",
      "Current minimum: -0.9136\n",
      "Iteration No: 48 started. Searching for the next optimal point.\n",
      "__eta=4.3299e-05\n"
     ]
    },
    {
     "name": "stdout",
     "output_type": "stream",
     "text": [
      "____best n_comp: 37\n",
      "____best score: 0.9091\n"
     ]
    },
    {
     "name": "stdout",
     "output_type": "stream",
     "text": [
      "Iteration No: 48 ended. Search finished for the next optimal point.\n",
      "Time taken: 147.6310\n",
      "Function value obtained: -0.9091\n",
      "Current minimum: -0.9136\n",
      "Iteration No: 49 started. Searching for the next optimal point.\n",
      "__eta=1.0181e-07\n"
     ]
    },
    {
     "name": "stdout",
     "output_type": "stream",
     "text": [
      "____best n_comp: 100\n",
      "____best score: 0.8773\n"
     ]
    },
    {
     "name": "stdout",
     "output_type": "stream",
     "text": [
      "Iteration No: 49 ended. Search finished for the next optimal point.\n",
      "Time taken: 148.1518\n",
      "Function value obtained: -0.8773\n",
      "Current minimum: -0.9136\n",
      "Iteration No: 50 started. Searching for the next optimal point.\n",
      "__eta=4.3540e-05\n"
     ]
    },
    {
     "name": "stdout",
     "output_type": "stream",
     "text": [
      "____best n_comp: 85\n",
      "____best score: 0.9045\n"
     ]
    },
    {
     "name": "stdout",
     "output_type": "stream",
     "text": [
      "Iteration No: 50 ended. Search finished for the next optimal point.\n",
      "Time taken: 148.4986\n",
      "Function value obtained: -0.9045\n",
      "Current minimum: -0.9136\n",
      "Iteration No: 51 started. Searching for the next optimal point.\n",
      "__eta=4.3360e-05\n"
     ]
    },
    {
     "name": "stdout",
     "output_type": "stream",
     "text": [
      "____best n_comp: 82\n",
      "____best score: 0.9227\n"
     ]
    },
    {
     "name": "stdout",
     "output_type": "stream",
     "text": [
      "Iteration No: 51 ended. Search finished for the next optimal point.\n",
      "Time taken: 148.7283\n",
      "Function value obtained: -0.9227\n",
      "Current minimum: -0.9227\n",
      "Iteration No: 52 started. Searching for the next optimal point.\n",
      "__eta=1.5425e-07\n"
     ]
    },
    {
     "name": "stdout",
     "output_type": "stream",
     "text": [
      "____best n_comp: 48\n",
      "____best score: 0.9000\n"
     ]
    },
    {
     "name": "stdout",
     "output_type": "stream",
     "text": [
      "Iteration No: 52 ended. Search finished for the next optimal point.\n",
      "Time taken: 148.0245\n",
      "Function value obtained: -0.9000\n",
      "Current minimum: -0.9227\n",
      "Iteration No: 53 started. Searching for the next optimal point.\n",
      "__eta=4.5360e-08\n"
     ]
    },
    {
     "name": "stdout",
     "output_type": "stream",
     "text": [
      "____best n_comp: 89\n",
      "____best score: 0.8636\n"
     ]
    },
    {
     "name": "stdout",
     "output_type": "stream",
     "text": [
      "Iteration No: 53 ended. Search finished for the next optimal point.\n",
      "Time taken: 148.2441\n",
      "Function value obtained: -0.8636\n",
      "Current minimum: -0.9227\n",
      "Iteration No: 54 started. Searching for the next optimal point.\n",
      "__eta=4.2977e-05\n"
     ]
    },
    {
     "name": "stdout",
     "output_type": "stream",
     "text": [
      "____best n_comp: 69\n",
      "____best score: 0.9000\n"
     ]
    },
    {
     "name": "stdout",
     "output_type": "stream",
     "text": [
      "Iteration No: 54 ended. Search finished for the next optimal point.\n",
      "Time taken: 148.0632\n",
      "Function value obtained: -0.9000\n",
      "Current minimum: -0.9227\n",
      "Iteration No: 55 started. Searching for the next optimal point.\n",
      "__eta=4.3610e-05\n"
     ]
    },
    {
     "name": "stdout",
     "output_type": "stream",
     "text": [
      "____best n_comp: 67\n",
      "____best score: 0.9136\n"
     ]
    },
    {
     "name": "stdout",
     "output_type": "stream",
     "text": [
      "Iteration No: 55 ended. Search finished for the next optimal point.\n",
      "Time taken: 148.3386\n",
      "Function value obtained: -0.9136\n",
      "Current minimum: -0.9227\n",
      "Iteration No: 56 started. Searching for the next optimal point.\n",
      "__eta=1.5291e-08\n"
     ]
    },
    {
     "name": "stdout",
     "output_type": "stream",
     "text": [
      "____best n_comp: 85\n",
      "____best score: 0.8727\n"
     ]
    },
    {
     "name": "stdout",
     "output_type": "stream",
     "text": [
      "Iteration No: 56 ended. Search finished for the next optimal point.\n",
      "Time taken: 148.0099\n",
      "Function value obtained: -0.8727\n",
      "Current minimum: -0.9227\n",
      "Iteration No: 57 started. Searching for the next optimal point.\n",
      "__eta=4.7371e-07\n"
     ]
    },
    {
     "name": "stdout",
     "output_type": "stream",
     "text": [
      "____best n_comp: 86\n",
      "____best score: 0.8909\n"
     ]
    },
    {
     "name": "stdout",
     "output_type": "stream",
     "text": [
      "Iteration No: 57 ended. Search finished for the next optimal point.\n",
      "Time taken: 148.1215\n",
      "Function value obtained: -0.8909\n",
      "Current minimum: -0.9227\n",
      "Iteration No: 58 started. Searching for the next optimal point.\n",
      "__eta=4.4637e-05\n"
     ]
    },
    {
     "name": "stdout",
     "output_type": "stream",
     "text": [
      "____best n_comp: 66\n",
      "____best score: 0.9091\n"
     ]
    },
    {
     "name": "stdout",
     "output_type": "stream",
     "text": [
      "Iteration No: 58 ended. Search finished for the next optimal point.\n",
      "Time taken: 148.4669\n",
      "Function value obtained: -0.9091\n",
      "Current minimum: -0.9227\n",
      "Iteration No: 59 started. Searching for the next optimal point.\n",
      "__eta=7.3683e-05\n"
     ]
    },
    {
     "name": "stdout",
     "output_type": "stream",
     "text": [
      "____best n_comp: 100\n",
      "____best score: 0.8591\n"
     ]
    },
    {
     "name": "stdout",
     "output_type": "stream",
     "text": [
      "Iteration No: 59 ended. Search finished for the next optimal point.\n",
      "Time taken: 148.4119\n",
      "Function value obtained: -0.8591\n",
      "Current minimum: -0.9227\n",
      "Iteration No: 60 started. Searching for the next optimal point.\n",
      "__eta=4.2227e-05\n"
     ]
    },
    {
     "name": "stdout",
     "output_type": "stream",
     "text": [
      "____best n_comp: 70\n",
      "____best score: 0.9091\n"
     ]
    },
    {
     "name": "stdout",
     "output_type": "stream",
     "text": [
      "Iteration No: 60 ended. Search finished for the next optimal point.\n",
      "Time taken: 148.3990\n",
      "Function value obtained: -0.9091\n",
      "Current minimum: -0.9227\n",
      "Iteration No: 61 started. Searching for the next optimal point.\n",
      "__eta=4.4698e-05\n"
     ]
    },
    {
     "name": "stdout",
     "output_type": "stream",
     "text": [
      "____best n_comp: 63\n",
      "____best score: 0.9182\n"
     ]
    },
    {
     "name": "stdout",
     "output_type": "stream",
     "text": [
      "Iteration No: 61 ended. Search finished for the next optimal point.\n",
      "Time taken: 149.1456\n",
      "Function value obtained: -0.9182\n",
      "Current minimum: -0.9227\n",
      "Iteration No: 62 started. Searching for the next optimal point.\n",
      "__eta=2.2910e-09\n"
     ]
    },
    {
     "name": "stdout",
     "output_type": "stream",
     "text": [
      "____best n_comp: 58\n",
      "____best score: 0.8682\n"
     ]
    },
    {
     "name": "stdout",
     "output_type": "stream",
     "text": [
      "Iteration No: 62 ended. Search finished for the next optimal point.\n",
      "Time taken: 148.6736\n",
      "Function value obtained: -0.8682\n",
      "Current minimum: -0.9227\n",
      "Iteration No: 63 started. Searching for the next optimal point.\n",
      "__eta=1.5339e-06\n"
     ]
    },
    {
     "name": "stdout",
     "output_type": "stream",
     "text": [
      "____best n_comp: 75\n",
      "____best score: 0.8955\n"
     ]
    },
    {
     "name": "stdout",
     "output_type": "stream",
     "text": [
      "Iteration No: 63 ended. Search finished for the next optimal point.\n",
      "Time taken: 149.4378\n",
      "Function value obtained: -0.8955\n",
      "Current minimum: -0.9227\n",
      "Iteration No: 64 started. Searching for the next optimal point.\n",
      "__eta=4.4927e-05\n"
     ]
    },
    {
     "name": "stdout",
     "output_type": "stream",
     "text": [
      "____best n_comp: 60\n",
      "____best score: 0.9091\n"
     ]
    },
    {
     "name": "stdout",
     "output_type": "stream",
     "text": [
      "Iteration No: 64 ended. Search finished for the next optimal point.\n",
      "Time taken: 149.3265\n",
      "Function value obtained: -0.9091\n",
      "Current minimum: -0.9227\n",
      "Iteration No: 65 started. Searching for the next optimal point.\n",
      "__eta=6.5004e-06\n"
     ]
    },
    {
     "name": "stdout",
     "output_type": "stream",
     "text": [
      "____best n_comp: 80\n",
      "____best score: 0.8773\n"
     ]
    },
    {
     "name": "stdout",
     "output_type": "stream",
     "text": [
      "Iteration No: 65 ended. Search finished for the next optimal point.\n",
      "Time taken: 148.4026\n",
      "Function value obtained: -0.8773\n",
      "Current minimum: -0.9227\n",
      "Iteration No: 66 started. Searching for the next optimal point.\n",
      "__eta=4.4640e-05\n"
     ]
    },
    {
     "name": "stdout",
     "output_type": "stream",
     "text": [
      "____best n_comp: 70\n",
      "____best score: 0.9136\n"
     ]
    },
    {
     "name": "stdout",
     "output_type": "stream",
     "text": [
      "Iteration No: 66 ended. Search finished for the next optimal point.\n",
      "Time taken: 149.2017\n",
      "Function value obtained: -0.9136\n",
      "Current minimum: -0.9227\n",
      "Iteration No: 67 started. Searching for the next optimal point.\n",
      "__eta=4.4697e-05\n"
     ]
    },
    {
     "name": "stdout",
     "output_type": "stream",
     "text": [
      "____best n_comp: 92\n",
      "____best score: 0.9182\n"
     ]
    },
    {
     "name": "stdout",
     "output_type": "stream",
     "text": [
      "Iteration No: 67 ended. Search finished for the next optimal point.\n",
      "Time taken: 149.4699\n",
      "Function value obtained: -0.9182\n",
      "Current minimum: -0.9227\n",
      "Iteration No: 68 started. Searching for the next optimal point.\n",
      "__eta=4.4901e-05\n"
     ]
    },
    {
     "name": "stdout",
     "output_type": "stream",
     "text": [
      "____best n_comp: 92\n",
      "____best score: 0.9091\n"
     ]
    },
    {
     "name": "stdout",
     "output_type": "stream",
     "text": [
      "Iteration No: 68 ended. Search finished for the next optimal point.\n",
      "Time taken: 149.7492\n",
      "Function value obtained: -0.9091\n",
      "Current minimum: -0.9227\n",
      "Iteration No: 69 started. Searching for the next optimal point.\n",
      "__eta=1.3679e-09\n"
     ]
    },
    {
     "name": "stdout",
     "output_type": "stream",
     "text": [
      "____best n_comp: 61\n",
      "____best score: 0.8727\n"
     ]
    },
    {
     "name": "stdout",
     "output_type": "stream",
     "text": [
      "Iteration No: 69 ended. Search finished for the next optimal point.\n",
      "Time taken: 148.6175\n",
      "Function value obtained: -0.8727\n",
      "Current minimum: -0.9227\n",
      "Iteration No: 70 started. Searching for the next optimal point.\n",
      "__eta=3.4725e-06\n"
     ]
    },
    {
     "name": "stdout",
     "output_type": "stream",
     "text": [
      "____best n_comp: 92\n",
      "____best score: 0.8909\n"
     ]
    },
    {
     "name": "stdout",
     "output_type": "stream",
     "text": [
      "Iteration No: 70 ended. Search finished for the next optimal point.\n",
      "Time taken: 149.0913\n",
      "Function value obtained: -0.8909\n",
      "Current minimum: -0.9227\n",
      "Iteration No: 71 started. Searching for the next optimal point.\n",
      "__eta=4.4576e-05\n"
     ]
    },
    {
     "name": "stdout",
     "output_type": "stream",
     "text": [
      "____best n_comp: 39\n",
      "____best score: 0.9000\n"
     ]
    },
    {
     "name": "stdout",
     "output_type": "stream",
     "text": [
      "Iteration No: 71 ended. Search finished for the next optimal point.\n",
      "Time taken: 149.3884\n",
      "Function value obtained: -0.9000\n",
      "Current minimum: -0.9227\n",
      "Iteration No: 72 started. Searching for the next optimal point.\n",
      "__eta=2.3159e-06\n"
     ]
    },
    {
     "name": "stdout",
     "output_type": "stream",
     "text": [
      "____best n_comp: 77\n",
      "____best score: 0.8818\n"
     ]
    },
    {
     "name": "stdout",
     "output_type": "stream",
     "text": [
      "Iteration No: 72 ended. Search finished for the next optimal point.\n",
      "Time taken: 149.0417\n",
      "Function value obtained: -0.8818\n",
      "Current minimum: -0.9227\n",
      "Iteration No: 73 started. Searching for the next optimal point.\n",
      "__eta=4.2352e-05\n"
     ]
    },
    {
     "name": "stdout",
     "output_type": "stream",
     "text": [
      "____best n_comp: 61\n",
      "____best score: 0.9091\n"
     ]
    },
    {
     "name": "stdout",
     "output_type": "stream",
     "text": [
      "Iteration No: 73 ended. Search finished for the next optimal point.\n",
      "Time taken: 149.7782\n",
      "Function value obtained: -0.9091\n",
      "Current minimum: -0.9227\n",
      "Iteration No: 74 started. Searching for the next optimal point.\n",
      "__eta=4.2822e-05\n"
     ]
    },
    {
     "name": "stdout",
     "output_type": "stream",
     "text": [
      "____best n_comp: 98\n",
      "____best score: 0.9136\n"
     ]
    },
    {
     "name": "stdout",
     "output_type": "stream",
     "text": [
      "Iteration No: 74 ended. Search finished for the next optimal point.\n",
      "Time taken: 148.9217\n",
      "Function value obtained: -0.9136\n",
      "Current minimum: -0.9227\n",
      "Iteration No: 75 started. Searching for the next optimal point.\n",
      "__eta=4.2770e-05\n"
     ]
    },
    {
     "name": "stdout",
     "output_type": "stream",
     "text": [
      "____best n_comp: 55\n",
      "____best score: 0.9227\n"
     ]
    },
    {
     "name": "stdout",
     "output_type": "stream",
     "text": [
      "Iteration No: 75 ended. Search finished for the next optimal point.\n",
      "Time taken: 149.4887\n",
      "Function value obtained: -0.9227\n",
      "Current minimum: -0.9227\n",
      "Iteration No: 76 started. Searching for the next optimal point.\n",
      "__eta=4.2018e-05\n"
     ]
    },
    {
     "name": "stdout",
     "output_type": "stream",
     "text": [
      "____best n_comp: 87\n",
      "____best score: 0.9000\n"
     ]
    },
    {
     "name": "stdout",
     "output_type": "stream",
     "text": [
      "Iteration No: 76 ended. Search finished for the next optimal point.\n",
      "Time taken: 149.7065\n",
      "Function value obtained: -0.9000\n",
      "Current minimum: -0.9227\n",
      "Iteration No: 77 started. Searching for the next optimal point.\n",
      "__eta=4.4283e-05\n"
     ]
    },
    {
     "name": "stdout",
     "output_type": "stream",
     "text": [
      "____best n_comp: 63\n",
      "____best score: 0.9136\n"
     ]
    },
    {
     "name": "stdout",
     "output_type": "stream",
     "text": [
      "Iteration No: 77 ended. Search finished for the next optimal point.\n",
      "Time taken: 148.7882\n",
      "Function value obtained: -0.9136\n",
      "Current minimum: -0.9227\n",
      "Iteration No: 78 started. Searching for the next optimal point.\n",
      "__eta=4.4384e-05\n"
     ]
    },
    {
     "name": "stdout",
     "output_type": "stream",
     "text": [
      "____best n_comp: 84\n",
      "____best score: 0.9273\n"
     ]
    },
    {
     "name": "stdout",
     "output_type": "stream",
     "text": [
      "Iteration No: 78 ended. Search finished for the next optimal point.\n",
      "Time taken: 148.9901\n",
      "Function value obtained: -0.9273\n",
      "Current minimum: -0.9273\n",
      "Iteration No: 79 started. Searching for the next optimal point.\n",
      "__eta=8.8897e-09\n"
     ]
    },
    {
     "name": "stdout",
     "output_type": "stream",
     "text": [
      "____best n_comp: 100\n",
      "____best score: 0.8682\n"
     ]
    },
    {
     "name": "stdout",
     "output_type": "stream",
     "text": [
      "Iteration No: 79 ended. Search finished for the next optimal point.\n",
      "Time taken: 149.2155\n",
      "Function value obtained: -0.8682\n",
      "Current minimum: -0.9273\n",
      "Iteration No: 80 started. Searching for the next optimal point.\n",
      "__eta=1.7051e-07\n"
     ]
    },
    {
     "name": "stdout",
     "output_type": "stream",
     "text": [
      "____best n_comp: 83\n",
      "____best score: 0.8682\n"
     ]
    },
    {
     "name": "stdout",
     "output_type": "stream",
     "text": [
      "Iteration No: 80 ended. Search finished for the next optimal point.\n",
      "Time taken: 148.8780\n",
      "Function value obtained: -0.8682\n",
      "Current minimum: -0.9273\n",
      "Iteration No: 81 started. Searching for the next optimal point.\n",
      "__eta=4.1843e-07\n"
     ]
    },
    {
     "name": "stdout",
     "output_type": "stream",
     "text": [
      "____best n_comp: 85\n",
      "____best score: 0.8773\n"
     ]
    },
    {
     "name": "stdout",
     "output_type": "stream",
     "text": [
      "Iteration No: 81 ended. Search finished for the next optimal point.\n",
      "Time taken: 148.6558\n",
      "Function value obtained: -0.8773\n",
      "Current minimum: -0.9273\n",
      "Iteration No: 82 started. Searching for the next optimal point.\n",
      "__eta=4.4463e-05\n"
     ]
    },
    {
     "name": "stdout",
     "output_type": "stream",
     "text": [
      "____best n_comp: 57\n",
      "____best score: 0.8955\n"
     ]
    },
    {
     "name": "stdout",
     "output_type": "stream",
     "text": [
      "Iteration No: 82 ended. Search finished for the next optimal point.\n",
      "Time taken: 149.3573\n",
      "Function value obtained: -0.8955\n",
      "Current minimum: -0.9273\n",
      "Iteration No: 83 started. Searching for the next optimal point.\n",
      "__eta=4.1262e-05\n"
     ]
    },
    {
     "name": "stdout",
     "output_type": "stream",
     "text": [
      "____best n_comp: 74\n",
      "____best score: 0.9091\n"
     ]
    },
    {
     "name": "stdout",
     "output_type": "stream",
     "text": [
      "Iteration No: 83 ended. Search finished for the next optimal point.\n",
      "Time taken: 148.7691\n",
      "Function value obtained: -0.9091\n",
      "Current minimum: -0.9273\n",
      "Iteration No: 84 started. Searching for the next optimal point.\n",
      "__eta=4.1653e-05\n"
     ]
    },
    {
     "name": "stdout",
     "output_type": "stream",
     "text": [
      "____best n_comp: 62\n",
      "____best score: 0.9091\n"
     ]
    },
    {
     "name": "stdout",
     "output_type": "stream",
     "text": [
      "Iteration No: 84 ended. Search finished for the next optimal point.\n",
      "Time taken: 148.9082\n",
      "Function value obtained: -0.9091\n",
      "Current minimum: -0.9273\n",
      "Iteration No: 85 started. Searching for the next optimal point.\n",
      "__eta=4.2129e-05\n"
     ]
    },
    {
     "name": "stdout",
     "output_type": "stream",
     "text": [
      "____best n_comp: 74\n",
      "____best score: 0.9136\n"
     ]
    },
    {
     "name": "stdout",
     "output_type": "stream",
     "text": [
      "Iteration No: 85 ended. Search finished for the next optimal point.\n",
      "Time taken: 149.5241\n",
      "Function value obtained: -0.9136\n",
      "Current minimum: -0.9273\n",
      "Iteration No: 86 started. Searching for the next optimal point.\n",
      "__eta=5.3273e-07\n"
     ]
    },
    {
     "name": "stdout",
     "output_type": "stream",
     "text": [
      "____best n_comp: 58\n",
      "____best score: 0.8727\n"
     ]
    },
    {
     "name": "stdout",
     "output_type": "stream",
     "text": [
      "Iteration No: 86 ended. Search finished for the next optimal point.\n",
      "Time taken: 149.9424\n",
      "Function value obtained: -0.8727\n",
      "Current minimum: -0.9273\n",
      "Iteration No: 87 started. Searching for the next optimal point.\n",
      "__eta=1.3859e-07\n"
     ]
    },
    {
     "name": "stdout",
     "output_type": "stream",
     "text": [
      "____best n_comp: 97\n",
      "____best score: 0.8727\n"
     ]
    },
    {
     "name": "stdout",
     "output_type": "stream",
     "text": [
      "Iteration No: 87 ended. Search finished for the next optimal point.\n",
      "Time taken: 149.4848\n",
      "Function value obtained: -0.8727\n",
      "Current minimum: -0.9273\n",
      "Iteration No: 88 started. Searching for the next optimal point.\n",
      "__eta=4.0799e-05\n"
     ]
    },
    {
     "name": "stdout",
     "output_type": "stream",
     "text": [
      "____best n_comp: 67\n",
      "____best score: 0.9136\n"
     ]
    },
    {
     "name": "stdout",
     "output_type": "stream",
     "text": [
      "Iteration No: 88 ended. Search finished for the next optimal point.\n",
      "Time taken: 148.7200\n",
      "Function value obtained: -0.9136\n",
      "Current minimum: -0.9273\n",
      "Iteration No: 89 started. Searching for the next optimal point.\n",
      "__eta=1.4366e-05\n"
     ]
    },
    {
     "name": "stdout",
     "output_type": "stream",
     "text": [
      "____best n_comp: 46\n",
      "____best score: 0.8727\n"
     ]
    },
    {
     "name": "stdout",
     "output_type": "stream",
     "text": [
      "Iteration No: 89 ended. Search finished for the next optimal point.\n",
      "Time taken: 149.0816\n",
      "Function value obtained: -0.8727\n",
      "Current minimum: -0.9273\n",
      "Iteration No: 90 started. Searching for the next optimal point.\n",
      "__eta=4.0571e-05\n"
     ]
    },
    {
     "name": "stdout",
     "output_type": "stream",
     "text": [
      "____best n_comp: 33\n",
      "____best score: 0.8955\n"
     ]
    },
    {
     "name": "stdout",
     "output_type": "stream",
     "text": [
      "Iteration No: 90 ended. Search finished for the next optimal point.\n",
      "Time taken: 149.2896\n",
      "Function value obtained: -0.8955\n",
      "Current minimum: -0.9273\n",
      "Iteration No: 91 started. Searching for the next optimal point.\n",
      "__eta=4.1958e-05\n"
     ]
    },
    {
     "name": "stdout",
     "output_type": "stream",
     "text": [
      "____best n_comp: 56\n",
      "____best score: 0.9227\n"
     ]
    },
    {
     "name": "stdout",
     "output_type": "stream",
     "text": [
      "Iteration No: 91 ended. Search finished for the next optimal point.\n",
      "Time taken: 149.2288\n",
      "Function value obtained: -0.9227\n",
      "Current minimum: -0.9273\n",
      "Iteration No: 92 started. Searching for the next optimal point.\n",
      "__eta=4.1066e-05\n"
     ]
    },
    {
     "name": "stdout",
     "output_type": "stream",
     "text": [
      "____best n_comp: 36\n",
      "____best score: 0.9045\n"
     ]
    },
    {
     "name": "stdout",
     "output_type": "stream",
     "text": [
      "Iteration No: 92 ended. Search finished for the next optimal point.\n",
      "Time taken: 149.4627\n",
      "Function value obtained: -0.9045\n",
      "Current minimum: -0.9273\n",
      "Iteration No: 93 started. Searching for the next optimal point.\n",
      "__eta=1.6009e-06\n"
     ]
    },
    {
     "name": "stdout",
     "output_type": "stream",
     "text": [
      "____best n_comp: 95\n",
      "____best score: 0.9000\n"
     ]
    },
    {
     "name": "stdout",
     "output_type": "stream",
     "text": [
      "Iteration No: 93 ended. Search finished for the next optimal point.\n",
      "Time taken: 148.9770\n",
      "Function value obtained: -0.9000\n",
      "Current minimum: -0.9273\n",
      "Iteration No: 94 started. Searching for the next optimal point.\n",
      "__eta=4.2879e-05\n"
     ]
    },
    {
     "name": "stdout",
     "output_type": "stream",
     "text": [
      "____best n_comp: 63\n",
      "____best score: 0.9136\n"
     ]
    },
    {
     "name": "stdout",
     "output_type": "stream",
     "text": [
      "Iteration No: 94 ended. Search finished for the next optimal point.\n",
      "Time taken: 150.0328\n",
      "Function value obtained: -0.9136\n",
      "Current minimum: -0.9273\n",
      "Iteration No: 95 started. Searching for the next optimal point.\n",
      "__eta=4.3105e-05\n"
     ]
    },
    {
     "name": "stdout",
     "output_type": "stream",
     "text": [
      "____best n_comp: 45\n",
      "____best score: 0.9227\n"
     ]
    },
    {
     "name": "stdout",
     "output_type": "stream",
     "text": [
      "Iteration No: 95 ended. Search finished for the next optimal point.\n",
      "Time taken: 149.9817\n",
      "Function value obtained: -0.9227\n",
      "Current minimum: -0.9273\n",
      "Iteration No: 96 started. Searching for the next optimal point.\n",
      "__eta=4.2805e-05\n"
     ]
    },
    {
     "name": "stdout",
     "output_type": "stream",
     "text": [
      "____best n_comp: 52\n",
      "____best score: 0.9091\n"
     ]
    },
    {
     "name": "stdout",
     "output_type": "stream",
     "text": [
      "Iteration No: 96 ended. Search finished for the next optimal point.\n",
      "Time taken: 150.5090\n",
      "Function value obtained: -0.9091\n",
      "Current minimum: -0.9273\n",
      "Iteration No: 97 started. Searching for the next optimal point.\n",
      "__eta=1.0000e-09\n"
     ]
    },
    {
     "name": "stdout",
     "output_type": "stream",
     "text": [
      "____best n_comp: 87\n",
      "____best score: 0.8636\n"
     ]
    },
    {
     "name": "stdout",
     "output_type": "stream",
     "text": [
      "Iteration No: 97 ended. Search finished for the next optimal point.\n",
      "Time taken: 150.5368\n",
      "Function value obtained: -0.8636\n",
      "Current minimum: -0.9273\n",
      "Iteration No: 98 started. Searching for the next optimal point.\n",
      "__eta=4.3466e-05\n"
     ]
    },
    {
     "name": "stdout",
     "output_type": "stream",
     "text": [
      "____best n_comp: 78\n",
      "____best score: 0.9182\n"
     ]
    },
    {
     "name": "stdout",
     "output_type": "stream",
     "text": [
      "Iteration No: 98 ended. Search finished for the next optimal point.\n",
      "Time taken: 150.1362\n",
      "Function value obtained: -0.9182\n",
      "Current minimum: -0.9273\n",
      "Iteration No: 99 started. Searching for the next optimal point.\n",
      "__eta=4.3636e-05\n"
     ]
    },
    {
     "name": "stdout",
     "output_type": "stream",
     "text": [
      "____best n_comp: 92\n",
      "____best score: 0.9045\n"
     ]
    },
    {
     "name": "stdout",
     "output_type": "stream",
     "text": [
      "Iteration No: 99 ended. Search finished for the next optimal point.\n",
      "Time taken: 150.8712\n",
      "Function value obtained: -0.9045\n",
      "Current minimum: -0.9273\n",
      "Iteration No: 100 started. Searching for the next optimal point.\n",
      "__eta=4.3088e-05\n"
     ]
    },
    {
     "name": "stdout",
     "output_type": "stream",
     "text": [
      "____best n_comp: 79\n",
      "____best score: 0.8955\n"
     ]
    },
    {
     "name": "stdout",
     "output_type": "stream",
     "text": [
      "Iteration No: 100 ended. Search finished for the next optimal point.\n",
      "Time taken: 151.0363\n",
      "Function value obtained: -0.8955\n",
      "Current minimum: -0.9273\n",
      "----------------------------------------\n",
      "Best eta = 4.438359349802443e-05\n",
      "Best score = 0.9273\n",
      "total time = 14849.3s\n"
     ]
    }
   ],
   "source": [
    "import Code.SGDPLS\n",
    "importlib.reload(Code.SGDPLS)\n",
    "from Code.SGDPLS import SGDPLS\n",
    "n_comp_max = 100\n",
    "\n",
    "space  = [ Real(1e-9, 1e-4, name='eta', prior=\"log-uniform\")]\n",
    "\n",
    "@use_named_args(space)\n",
    "def Comp_Model_Score(eta):\n",
    "    X_train, X_test, y_train, y_test = train_test_split(\n",
    "        fea_train, label_train, test_size=0.1, random_state=42)\n",
    "    score_loc = np.zeros((n_comp_max, ))\n",
    "\n",
    "    PLS=SGDPLS(n_components=n_comp_max, eta=eta)\n",
    "    print(f\"__eta={PLS.eta:.4e}\")\n",
    "\n",
    "    PLS.fit(X_train, y_train)\n",
    "    U = PLS.normalize(PLS.x_rotations)\n",
    "    for n_comp in range(1, n_comp_max+1):\n",
    "        X_score_train = norm(np.dot(X_train, U[:,:n_comp]), ord=1, axis=1, keepdims=True)\n",
    "        X_score_test = norm(np.dot(X_test, U[:,:n_comp]), ord=1, axis=1, keepdims=True)\n",
    "        y_pred = LogisticRegression(penalty=None).fit(X_score_train, y_train) \\\n",
    "                                                     .predict(X_score_test)\n",
    "        score_loc[n_comp-1] = accuracy_score(y_test, y_pred)\n",
    "\n",
    "    score = np.nanmax(score_loc)\n",
    "    if (np.isnan(score)):\n",
    "        score = 0\n",
    "        print(\"____failure\")\n",
    "    else:\n",
    "        print(f\"____best n_comp: {np.nanargmax(score_loc)+1:d}\")\n",
    "        print(f\"____best score: {score:.4f}\")\n",
    "    return -score\n",
    "\n",
    "tim_tot.tic()\n",
    "res_gp = gp_minimize(Comp_Model_Score, space, n_calls=100,\n",
    "                     n_initial_points = 30, initial_point_generator=\"lhs\", \n",
    "                     random_state=0, verbose=True)\n",
    "\n",
    "print(\"-\"*40)\n",
    "print(f\"Best eta = {res_gp.x[0]}\")\n",
    "print(f\"Best score = {-res_gp.fun:.4f}\")\n",
    "print(f\"total time = {tim_tot.tocvalue():.1f}s\")"
   ]
  },
  {
   "cell_type": "code",
   "execution_count": 6,
   "id": "da3c941f-ae6e-410f-b99a-31ca93a7d48a",
   "metadata": {
    "collapsed": false,
    "jupyter": {
     "outputs_hidden": false
    }
   },
   "outputs": [
    {
     "name": "stdout",
     "output_type": "stream",
     "text": [
      "params={'n_comp': 1}, score=6.1818182e-01, \n"
     ]
    },
    {
     "name": "stdout",
     "output_type": "stream",
     "text": [
      "params={'n_comp': 2}, score=6.3181818e-01, \n"
     ]
    },
    {
     "name": "stdout",
     "output_type": "stream",
     "text": [
      "params={'n_comp': 3}, score=6.2272727e-01, \n"
     ]
    },
    {
     "name": "stdout",
     "output_type": "stream",
     "text": [
      "params={'n_comp': 4}, score=6.1363636e-01, \n"
     ]
    },
    {
     "name": "stdout",
     "output_type": "stream",
     "text": [
      "params={'n_comp': 5}, score=6.1363636e-01, \n"
     ]
    },
    {
     "name": "stderr",
     "output_type": "stream",
     "text": [
      "/video/data/tingan/GitRep/IPLSreview/Code/CIPLS.py:103: RuntimeWarning: overflow encountered in multiply\n",
      "  W[c]   += (u * l)\n",
      "/home/tingan/.local/lib/python3.9/site-packages/numpy/core/fromnumeric.py:86: RuntimeWarning: invalid value encountered in reduce\n",
      "  return ufunc.reduce(obj, axis, dtype, out, **passkwargs)\n"
     ]
    },
    {
     "ename": "ValueError",
     "evalue": "Input contains infinity or a value too large for dtype('float64').",
     "output_type": "error",
     "traceback": [
      "\u001b[0;31m---------------------------------------------------------------------------\u001b[0m",
      "\u001b[0;31mValueError\u001b[0m                                Traceback (most recent call last)",
      "Cell \u001b[0;32mIn[6], line 10\u001b[0m\n\u001b[1;32m      8\u001b[0m \u001b[38;5;28;01mfor\u001b[39;00m n_comp \u001b[38;5;129;01min\u001b[39;00m n_comp_lst:\n\u001b[1;32m      9\u001b[0m    pls \u001b[38;5;241m=\u001b[39m CIPLS(n_components\u001b[38;5;241m=\u001b[39mn_comp)\n\u001b[0;32m---> 10\u001b[0m    scores\u001b[38;5;241m.\u001b[39mappend(\u001b[43mBatch_Update_CV\u001b[49m\u001b[43m(\u001b[49m\u001b[43mpls\u001b[49m\u001b[43m)\u001b[49m)\n\u001b[1;32m     11\u001b[0m    params\u001b[38;5;241m.\u001b[39mappend({\u001b[38;5;124m'\u001b[39m\u001b[38;5;124mn_comp\u001b[39m\u001b[38;5;124m'\u001b[39m: n_comp})\n\u001b[1;32m     12\u001b[0m    \u001b[38;5;28mprint\u001b[39m(\u001b[38;5;124mf\u001b[39m\u001b[38;5;124m\"\u001b[39m\u001b[38;5;124mparams=\u001b[39m\u001b[38;5;132;01m{\u001b[39;00mparams[\u001b[38;5;241m-\u001b[39m\u001b[38;5;241m1\u001b[39m]\u001b[38;5;132;01m}\u001b[39;00m\u001b[38;5;124m, score=\u001b[39m\u001b[38;5;132;01m{\u001b[39;00mscores[\u001b[38;5;241m-\u001b[39m\u001b[38;5;241m1\u001b[39m]\u001b[38;5;132;01m:\u001b[39;00m\u001b[38;5;124m.7e\u001b[39m\u001b[38;5;132;01m}\u001b[39;00m\u001b[38;5;124m, \u001b[39m\u001b[38;5;124m\"\u001b[39m)\n",
      "Cell \u001b[0;32mIn[3], line 9\u001b[0m, in \u001b[0;36mBatch_Update_CV\u001b[0;34m(pls_i)\u001b[0m\n\u001b[1;32m      7\u001b[0m \u001b[38;5;66;03m# try:\u001b[39;00m\n\u001b[1;32m      8\u001b[0m \u001b[38;5;28;01mfor\u001b[39;00m i,batch \u001b[38;5;129;01min\u001b[39;00m \u001b[38;5;28menumerate\u001b[39m(gen_batches(X_train\u001b[38;5;241m.\u001b[39mshape[\u001b[38;5;241m0\u001b[39m], \u001b[38;5;241m100\u001b[39m)):\n\u001b[0;32m----> 9\u001b[0m     \u001b[43mpls\u001b[49m\u001b[38;5;241;43m.\u001b[39;49m\u001b[43mfit\u001b[49m\u001b[43m(\u001b[49m\u001b[43mX_train\u001b[49m\u001b[43m[\u001b[49m\u001b[43mbatch\u001b[49m\u001b[43m]\u001b[49m\u001b[43m,\u001b[49m\u001b[43m \u001b[49m\u001b[43my_train\u001b[49m\u001b[43m[\u001b[49m\u001b[43mbatch\u001b[49m\u001b[43m]\u001b[49m\u001b[43m)\u001b[49m\n\u001b[1;32m     10\u001b[0m     X_score_train[batch] \u001b[38;5;241m=\u001b[39m norm(pls\u001b[38;5;241m.\u001b[39mtransform(X_train[batch]), \u001b[38;5;28mord\u001b[39m\u001b[38;5;241m=\u001b[39m\u001b[38;5;241m1\u001b[39m, axis\u001b[38;5;241m=\u001b[39m\u001b[38;5;241m1\u001b[39m, keepdims\u001b[38;5;241m=\u001b[39m\u001b[38;5;28;01mTrue\u001b[39;00m)\n\u001b[1;32m     12\u001b[0m X_score_test  \u001b[38;5;241m=\u001b[39m norm(pls\u001b[38;5;241m.\u001b[39mtransform(X_test), \u001b[38;5;28mord\u001b[39m\u001b[38;5;241m=\u001b[39m\u001b[38;5;241m1\u001b[39m, axis\u001b[38;5;241m=\u001b[39m\u001b[38;5;241m1\u001b[39m, keepdims\u001b[38;5;241m=\u001b[39m\u001b[38;5;28;01mTrue\u001b[39;00m)\n",
      "File \u001b[0;32m/video/data/tingan/GitRep/IPLSreview/Code/CIPLS.py:106\u001b[0m, in \u001b[0;36mCIPLS.fit\u001b[0;34m(self, X, Y)\u001b[0m\n\u001b[1;32m    104\u001b[0m             \u001b[38;5;28mself\u001b[39m\u001b[38;5;241m.\u001b[39mx_loadings_[:, c] \u001b[38;5;241m+\u001b[39m\u001b[38;5;241m=\u001b[39m (u \u001b[38;5;241m*\u001b[39m t)\n\u001b[1;32m    105\u001b[0m             \u001b[38;5;28mself\u001b[39m\u001b[38;5;241m.\u001b[39my_loadings_[:, c] \u001b[38;5;241m+\u001b[39m\u001b[38;5;241m=\u001b[39m (l \u001b[38;5;241m*\u001b[39m t)\n\u001b[0;32m--> 106\u001b[0m             t \u001b[38;5;241m=\u001b[39m np\u001b[38;5;241m.\u001b[39mdot(u, \u001b[38;5;28;43mself\u001b[39;49m\u001b[38;5;241;43m.\u001b[39;49m\u001b[43mnormalize\u001b[49m\u001b[43m(\u001b[49m\u001b[43mW\u001b[49m\u001b[43m[\u001b[49m\u001b[43mc\u001b[49m\u001b[43m]\u001b[49m\u001b[38;5;241;43m.\u001b[39;49m\u001b[43mT\u001b[49m\u001b[43m)\u001b[49m)\n\u001b[1;32m    108\u001b[0m \u001b[38;5;28mself\u001b[39m\u001b[38;5;241m.\u001b[39mx_weights_ \u001b[38;5;241m=\u001b[39m W\u001b[38;5;241m.\u001b[39mT\n\u001b[1;32m    109\u001b[0m \u001b[38;5;28;01mreturn\u001b[39;00m \u001b[38;5;28mself\u001b[39m\n",
      "File \u001b[0;32m/video/data/tingan/GitRep/IPLSreview/Code/CIPLS.py:55\u001b[0m, in \u001b[0;36mCIPLS.normalize\u001b[0;34m(self, x)\u001b[0m\n\u001b[1;32m     54\u001b[0m \u001b[38;5;28;01mdef\u001b[39;00m \u001b[38;5;21mnormalize\u001b[39m(\u001b[38;5;28mself\u001b[39m, x):\n\u001b[0;32m---> 55\u001b[0m     \u001b[38;5;28;01mreturn\u001b[39;00m \u001b[43mnormalize\u001b[49m\u001b[43m(\u001b[49m\u001b[43mx\u001b[49m\u001b[43m[\u001b[49m\u001b[43m:\u001b[49m\u001b[43m,\u001b[49m\u001b[43m \u001b[49m\u001b[43mnp\u001b[49m\u001b[38;5;241;43m.\u001b[39;49m\u001b[43mnewaxis\u001b[49m\u001b[43m]\u001b[49m\u001b[43m,\u001b[49m\u001b[43m \u001b[49m\u001b[43maxis\u001b[49m\u001b[38;5;241;43m=\u001b[39;49m\u001b[38;5;241;43m0\u001b[39;49m\u001b[43m)\u001b[49m\u001b[38;5;241m.\u001b[39mravel()\n",
      "File \u001b[0;32m~/miniconda3/envs/pls/lib/python3.9/site-packages/sklearn/utils/_param_validation.py:213\u001b[0m, in \u001b[0;36mvalidate_params.<locals>.decorator.<locals>.wrapper\u001b[0;34m(*args, **kwargs)\u001b[0m\n\u001b[1;32m    207\u001b[0m \u001b[38;5;28;01mtry\u001b[39;00m:\n\u001b[1;32m    208\u001b[0m     \u001b[38;5;28;01mwith\u001b[39;00m config_context(\n\u001b[1;32m    209\u001b[0m         skip_parameter_validation\u001b[38;5;241m=\u001b[39m(\n\u001b[1;32m    210\u001b[0m             prefer_skip_nested_validation \u001b[38;5;129;01mor\u001b[39;00m global_skip_validation\n\u001b[1;32m    211\u001b[0m         )\n\u001b[1;32m    212\u001b[0m     ):\n\u001b[0;32m--> 213\u001b[0m         \u001b[38;5;28;01mreturn\u001b[39;00m \u001b[43mfunc\u001b[49m\u001b[43m(\u001b[49m\u001b[38;5;241;43m*\u001b[39;49m\u001b[43margs\u001b[49m\u001b[43m,\u001b[49m\u001b[43m \u001b[49m\u001b[38;5;241;43m*\u001b[39;49m\u001b[38;5;241;43m*\u001b[39;49m\u001b[43mkwargs\u001b[49m\u001b[43m)\u001b[49m\n\u001b[1;32m    214\u001b[0m \u001b[38;5;28;01mexcept\u001b[39;00m InvalidParameterError \u001b[38;5;28;01mas\u001b[39;00m e:\n\u001b[1;32m    215\u001b[0m     \u001b[38;5;66;03m# When the function is just a wrapper around an estimator, we allow\u001b[39;00m\n\u001b[1;32m    216\u001b[0m     \u001b[38;5;66;03m# the function to delegate validation to the estimator, but we replace\u001b[39;00m\n\u001b[1;32m    217\u001b[0m     \u001b[38;5;66;03m# the name of the estimator by the name of the function in the error\u001b[39;00m\n\u001b[1;32m    218\u001b[0m     \u001b[38;5;66;03m# message to avoid confusion.\u001b[39;00m\n\u001b[1;32m    219\u001b[0m     msg \u001b[38;5;241m=\u001b[39m re\u001b[38;5;241m.\u001b[39msub(\n\u001b[1;32m    220\u001b[0m         \u001b[38;5;124mr\u001b[39m\u001b[38;5;124m\"\u001b[39m\u001b[38;5;124mparameter of \u001b[39m\u001b[38;5;124m\\\u001b[39m\u001b[38;5;124mw+ must be\u001b[39m\u001b[38;5;124m\"\u001b[39m,\n\u001b[1;32m    221\u001b[0m         \u001b[38;5;124mf\u001b[39m\u001b[38;5;124m\"\u001b[39m\u001b[38;5;124mparameter of \u001b[39m\u001b[38;5;132;01m{\u001b[39;00mfunc\u001b[38;5;241m.\u001b[39m\u001b[38;5;18m__qualname__\u001b[39m\u001b[38;5;132;01m}\u001b[39;00m\u001b[38;5;124m must be\u001b[39m\u001b[38;5;124m\"\u001b[39m,\n\u001b[1;32m    222\u001b[0m         \u001b[38;5;28mstr\u001b[39m(e),\n\u001b[1;32m    223\u001b[0m     )\n",
      "File \u001b[0;32m~/miniconda3/envs/pls/lib/python3.9/site-packages/sklearn/preprocessing/_data.py:1925\u001b[0m, in \u001b[0;36mnormalize\u001b[0;34m(X, norm, axis, copy, return_norm)\u001b[0m\n\u001b[1;32m   1921\u001b[0m     sparse_format \u001b[38;5;241m=\u001b[39m \u001b[38;5;124m\"\u001b[39m\u001b[38;5;124mcsr\u001b[39m\u001b[38;5;124m\"\u001b[39m\n\u001b[1;32m   1923\u001b[0m xp, _ \u001b[38;5;241m=\u001b[39m get_namespace(X)\n\u001b[0;32m-> 1925\u001b[0m X \u001b[38;5;241m=\u001b[39m \u001b[43mcheck_array\u001b[49m\u001b[43m(\u001b[49m\n\u001b[1;32m   1926\u001b[0m \u001b[43m    \u001b[49m\u001b[43mX\u001b[49m\u001b[43m,\u001b[49m\n\u001b[1;32m   1927\u001b[0m \u001b[43m    \u001b[49m\u001b[43maccept_sparse\u001b[49m\u001b[38;5;241;43m=\u001b[39;49m\u001b[43msparse_format\u001b[49m\u001b[43m,\u001b[49m\n\u001b[1;32m   1928\u001b[0m \u001b[43m    \u001b[49m\u001b[43mcopy\u001b[49m\u001b[38;5;241;43m=\u001b[39;49m\u001b[43mcopy\u001b[49m\u001b[43m,\u001b[49m\n\u001b[1;32m   1929\u001b[0m \u001b[43m    \u001b[49m\u001b[43mestimator\u001b[49m\u001b[38;5;241;43m=\u001b[39;49m\u001b[38;5;124;43m\"\u001b[39;49m\u001b[38;5;124;43mthe normalize function\u001b[39;49m\u001b[38;5;124;43m\"\u001b[39;49m\u001b[43m,\u001b[49m\n\u001b[1;32m   1930\u001b[0m \u001b[43m    \u001b[49m\u001b[43mdtype\u001b[49m\u001b[38;5;241;43m=\u001b[39;49m\u001b[43m_array_api\u001b[49m\u001b[38;5;241;43m.\u001b[39;49m\u001b[43msupported_float_dtypes\u001b[49m\u001b[43m(\u001b[49m\u001b[43mxp\u001b[49m\u001b[43m)\u001b[49m\u001b[43m,\u001b[49m\n\u001b[1;32m   1931\u001b[0m \u001b[43m\u001b[49m\u001b[43m)\u001b[49m\n\u001b[1;32m   1932\u001b[0m \u001b[38;5;28;01mif\u001b[39;00m axis \u001b[38;5;241m==\u001b[39m \u001b[38;5;241m0\u001b[39m:\n\u001b[1;32m   1933\u001b[0m     X \u001b[38;5;241m=\u001b[39m X\u001b[38;5;241m.\u001b[39mT\n",
      "File \u001b[0;32m~/miniconda3/envs/pls/lib/python3.9/site-packages/sklearn/utils/validation.py:1059\u001b[0m, in \u001b[0;36mcheck_array\u001b[0;34m(array, accept_sparse, accept_large_sparse, dtype, order, copy, force_all_finite, ensure_2d, allow_nd, ensure_min_samples, ensure_min_features, estimator, input_name)\u001b[0m\n\u001b[1;32m   1053\u001b[0m     \u001b[38;5;28;01mraise\u001b[39;00m \u001b[38;5;167;01mValueError\u001b[39;00m(\n\u001b[1;32m   1054\u001b[0m         \u001b[38;5;124m\"\u001b[39m\u001b[38;5;124mFound array with dim \u001b[39m\u001b[38;5;132;01m%d\u001b[39;00m\u001b[38;5;124m. \u001b[39m\u001b[38;5;132;01m%s\u001b[39;00m\u001b[38;5;124m expected <= 2.\u001b[39m\u001b[38;5;124m\"\u001b[39m\n\u001b[1;32m   1055\u001b[0m         \u001b[38;5;241m%\u001b[39m (array\u001b[38;5;241m.\u001b[39mndim, estimator_name)\n\u001b[1;32m   1056\u001b[0m     )\n\u001b[1;32m   1058\u001b[0m \u001b[38;5;28;01mif\u001b[39;00m force_all_finite:\n\u001b[0;32m-> 1059\u001b[0m     \u001b[43m_assert_all_finite\u001b[49m\u001b[43m(\u001b[49m\n\u001b[1;32m   1060\u001b[0m \u001b[43m        \u001b[49m\u001b[43marray\u001b[49m\u001b[43m,\u001b[49m\n\u001b[1;32m   1061\u001b[0m \u001b[43m        \u001b[49m\u001b[43minput_name\u001b[49m\u001b[38;5;241;43m=\u001b[39;49m\u001b[43minput_name\u001b[49m\u001b[43m,\u001b[49m\n\u001b[1;32m   1062\u001b[0m \u001b[43m        \u001b[49m\u001b[43mestimator_name\u001b[49m\u001b[38;5;241;43m=\u001b[39;49m\u001b[43mestimator_name\u001b[49m\u001b[43m,\u001b[49m\n\u001b[1;32m   1063\u001b[0m \u001b[43m        \u001b[49m\u001b[43mallow_nan\u001b[49m\u001b[38;5;241;43m=\u001b[39;49m\u001b[43mforce_all_finite\u001b[49m\u001b[43m \u001b[49m\u001b[38;5;241;43m==\u001b[39;49m\u001b[43m \u001b[49m\u001b[38;5;124;43m\"\u001b[39;49m\u001b[38;5;124;43mallow-nan\u001b[39;49m\u001b[38;5;124;43m\"\u001b[39;49m\u001b[43m,\u001b[49m\n\u001b[1;32m   1064\u001b[0m \u001b[43m    \u001b[49m\u001b[43m)\u001b[49m\n\u001b[1;32m   1066\u001b[0m \u001b[38;5;28;01mif\u001b[39;00m copy:\n\u001b[1;32m   1067\u001b[0m     \u001b[38;5;28;01mif\u001b[39;00m _is_numpy_namespace(xp):\n\u001b[1;32m   1068\u001b[0m         \u001b[38;5;66;03m# only make a copy if `array` and `array_orig` may share memory`\u001b[39;00m\n",
      "File \u001b[0;32m~/miniconda3/envs/pls/lib/python3.9/site-packages/sklearn/utils/validation.py:126\u001b[0m, in \u001b[0;36m_assert_all_finite\u001b[0;34m(X, allow_nan, msg_dtype, estimator_name, input_name)\u001b[0m\n\u001b[1;32m    123\u001b[0m \u001b[38;5;28;01mif\u001b[39;00m first_pass_isfinite:\n\u001b[1;32m    124\u001b[0m     \u001b[38;5;28;01mreturn\u001b[39;00m\n\u001b[0;32m--> 126\u001b[0m \u001b[43m_assert_all_finite_element_wise\u001b[49m\u001b[43m(\u001b[49m\n\u001b[1;32m    127\u001b[0m \u001b[43m    \u001b[49m\u001b[43mX\u001b[49m\u001b[43m,\u001b[49m\n\u001b[1;32m    128\u001b[0m \u001b[43m    \u001b[49m\u001b[43mxp\u001b[49m\u001b[38;5;241;43m=\u001b[39;49m\u001b[43mxp\u001b[49m\u001b[43m,\u001b[49m\n\u001b[1;32m    129\u001b[0m \u001b[43m    \u001b[49m\u001b[43mallow_nan\u001b[49m\u001b[38;5;241;43m=\u001b[39;49m\u001b[43mallow_nan\u001b[49m\u001b[43m,\u001b[49m\n\u001b[1;32m    130\u001b[0m \u001b[43m    \u001b[49m\u001b[43mmsg_dtype\u001b[49m\u001b[38;5;241;43m=\u001b[39;49m\u001b[43mmsg_dtype\u001b[49m\u001b[43m,\u001b[49m\n\u001b[1;32m    131\u001b[0m \u001b[43m    \u001b[49m\u001b[43mestimator_name\u001b[49m\u001b[38;5;241;43m=\u001b[39;49m\u001b[43mestimator_name\u001b[49m\u001b[43m,\u001b[49m\n\u001b[1;32m    132\u001b[0m \u001b[43m    \u001b[49m\u001b[43minput_name\u001b[49m\u001b[38;5;241;43m=\u001b[39;49m\u001b[43minput_name\u001b[49m\u001b[43m,\u001b[49m\n\u001b[1;32m    133\u001b[0m \u001b[43m\u001b[49m\u001b[43m)\u001b[49m\n",
      "File \u001b[0;32m~/miniconda3/envs/pls/lib/python3.9/site-packages/sklearn/utils/validation.py:175\u001b[0m, in \u001b[0;36m_assert_all_finite_element_wise\u001b[0;34m(X, xp, allow_nan, msg_dtype, estimator_name, input_name)\u001b[0m\n\u001b[1;32m    158\u001b[0m \u001b[38;5;28;01mif\u001b[39;00m estimator_name \u001b[38;5;129;01mand\u001b[39;00m input_name \u001b[38;5;241m==\u001b[39m \u001b[38;5;124m\"\u001b[39m\u001b[38;5;124mX\u001b[39m\u001b[38;5;124m\"\u001b[39m \u001b[38;5;129;01mand\u001b[39;00m has_nan_error:\n\u001b[1;32m    159\u001b[0m     \u001b[38;5;66;03m# Improve the error message on how to handle missing values in\u001b[39;00m\n\u001b[1;32m    160\u001b[0m     \u001b[38;5;66;03m# scikit-learn.\u001b[39;00m\n\u001b[1;32m    161\u001b[0m     msg_err \u001b[38;5;241m+\u001b[39m\u001b[38;5;241m=\u001b[39m (\n\u001b[1;32m    162\u001b[0m         \u001b[38;5;124mf\u001b[39m\u001b[38;5;124m\"\u001b[39m\u001b[38;5;130;01m\\n\u001b[39;00m\u001b[38;5;132;01m{\u001b[39;00mestimator_name\u001b[38;5;132;01m}\u001b[39;00m\u001b[38;5;124m does not accept missing values\u001b[39m\u001b[38;5;124m\"\u001b[39m\n\u001b[1;32m    163\u001b[0m         \u001b[38;5;124m\"\u001b[39m\u001b[38;5;124m encoded as NaN natively. For supervised learning, you might want\u001b[39m\u001b[38;5;124m\"\u001b[39m\n\u001b[0;32m   (...)\u001b[0m\n\u001b[1;32m    173\u001b[0m         \u001b[38;5;124m\"\u001b[39m\u001b[38;5;124m#estimators-that-handle-nan-values\u001b[39m\u001b[38;5;124m\"\u001b[39m\n\u001b[1;32m    174\u001b[0m     )\n\u001b[0;32m--> 175\u001b[0m \u001b[38;5;28;01mraise\u001b[39;00m \u001b[38;5;167;01mValueError\u001b[39;00m(msg_err)\n",
      "\u001b[0;31mValueError\u001b[0m: Input contains infinity or a value too large for dtype('float64')."
     ]
    }
   ],
   "source": [
    " import Code.CIPLS\n",
    "importlib.reload(Code.CIPLS)\n",
    "from Code.CIPLS import CIPLS\n",
    "\n",
    "n_comp_lst=list(range(1,50))\n",
    "scores = []\n",
    "params = []\n",
    "for n_comp in n_comp_lst:\n",
    "    pls = CIPLS(n_components=n_comp)\n",
    "    scores.append(Batch_Update_CV(pls))\n",
    "    params.append({'n_comp': n_comp})\n",
    "    print(f\"params={params[-1]}, score={scores[-1]:.7e}, \")\n",
    "\n",
    "best_ind = np.nanargmax(scores)\n",
    "print(\"\")\n",
    "print(f\"best parameter: {params[best_ind]}; score: {scores[best_ind]:.7e}; \")"
   ]
  },
  {
   "cell_type": "code",
   "execution_count": 7,
   "id": "6b186b4a-6f9a-44ac-8104-fcd3306c7826",
   "metadata": {
    "collapsed": false
   },
   "outputs": [
    {
     "name": "stdout",
     "output_type": "stream",
     "text": [
      "params={'n_comp': 1}, score=6.1818182e-01, \n"
     ]
    },
    {
     "name": "stdout",
     "output_type": "stream",
     "text": [
      "params={'n_comp': 2}, score=6.6363636e-01, \n"
     ]
    },
    {
     "name": "stdout",
     "output_type": "stream",
     "text": [
      "params={'n_comp': 3}, score=6.9090909e-01, \n"
     ]
    },
    {
     "name": "stdout",
     "output_type": "stream",
     "text": [
      "params={'n_comp': 4}, score=7.1363636e-01, \n"
     ]
    },
    {
     "name": "stdout",
     "output_type": "stream",
     "text": [
      "params={'n_comp': 5}, score=7.0909091e-01, \n"
     ]
    },
    {
     "name": "stdout",
     "output_type": "stream",
     "text": [
      "params={'n_comp': 6}, score=6.9090909e-01, \n"
     ]
    },
    {
     "name": "stdout",
     "output_type": "stream",
     "text": [
      "params={'n_comp': 7}, score=7.2727273e-01, \n"
     ]
    },
    {
     "name": "stdout",
     "output_type": "stream",
     "text": [
      "params={'n_comp': 8}, score=7.3181818e-01, \n"
     ]
    },
    {
     "name": "stdout",
     "output_type": "stream",
     "text": [
      "params={'n_comp': 9}, score=7.1818182e-01, \n"
     ]
    },
    {
     "name": "stdout",
     "output_type": "stream",
     "text": [
      "params={'n_comp': 10}, score=7.1363636e-01, \n"
     ]
    },
    {
     "name": "stdout",
     "output_type": "stream",
     "text": [
      "params={'n_comp': 11}, score=7.0000000e-01, \n"
     ]
    },
    {
     "name": "stdout",
     "output_type": "stream",
     "text": [
      "params={'n_comp': 12}, score=7.0454545e-01, \n"
     ]
    },
    {
     "name": "stdout",
     "output_type": "stream",
     "text": [
      "params={'n_comp': 13}, score=7.1363636e-01, \n"
     ]
    },
    {
     "name": "stdout",
     "output_type": "stream",
     "text": [
      "params={'n_comp': 14}, score=6.9545455e-01, \n"
     ]
    },
    {
     "name": "stdout",
     "output_type": "stream",
     "text": [
      "params={'n_comp': 15}, score=6.8636364e-01, \n"
     ]
    },
    {
     "name": "stdout",
     "output_type": "stream",
     "text": [
      "params={'n_comp': 16}, score=6.6818182e-01, \n"
     ]
    },
    {
     "name": "stdout",
     "output_type": "stream",
     "text": [
      "params={'n_comp': 17}, score=6.5909091e-01, \n"
     ]
    },
    {
     "name": "stdout",
     "output_type": "stream",
     "text": [
      "params={'n_comp': 18}, score=6.5000000e-01, \n"
     ]
    },
    {
     "name": "stdout",
     "output_type": "stream",
     "text": [
      "params={'n_comp': 19}, score=6.5000000e-01, \n"
     ]
    },
    {
     "name": "stdout",
     "output_type": "stream",
     "text": [
      "params={'n_comp': 20}, score=6.4545455e-01, \n"
     ]
    },
    {
     "name": "stdout",
     "output_type": "stream",
     "text": [
      "params={'n_comp': 21}, score=6.4545455e-01, \n"
     ]
    },
    {
     "name": "stdout",
     "output_type": "stream",
     "text": [
      "params={'n_comp': 22}, score=6.4090909e-01, \n"
     ]
    },
    {
     "name": "stdout",
     "output_type": "stream",
     "text": [
      "params={'n_comp': 23}, score=6.3181818e-01, \n"
     ]
    },
    {
     "name": "stdout",
     "output_type": "stream",
     "text": [
      "params={'n_comp': 24}, score=6.3181818e-01, \n"
     ]
    },
    {
     "name": "stdout",
     "output_type": "stream",
     "text": [
      "params={'n_comp': 25}, score=6.3181818e-01, \n"
     ]
    },
    {
     "name": "stdout",
     "output_type": "stream",
     "text": [
      "params={'n_comp': 26}, score=6.3181818e-01, \n"
     ]
    },
    {
     "name": "stdout",
     "output_type": "stream",
     "text": [
      "params={'n_comp': 27}, score=6.3181818e-01, \n"
     ]
    },
    {
     "name": "stdout",
     "output_type": "stream",
     "text": [
      "params={'n_comp': 28}, score=6.3181818e-01, \n"
     ]
    },
    {
     "name": "stdout",
     "output_type": "stream",
     "text": [
      "params={'n_comp': 29}, score=6.3181818e-01, \n"
     ]
    },
    {
     "name": "stdout",
     "output_type": "stream",
     "text": [
      "params={'n_comp': 30}, score=6.2727273e-01, \n"
     ]
    },
    {
     "name": "stdout",
     "output_type": "stream",
     "text": [
      "params={'n_comp': 31}, score=6.2727273e-01, \n"
     ]
    },
    {
     "name": "stdout",
     "output_type": "stream",
     "text": [
      "params={'n_comp': 32}, score=6.2272727e-01, \n"
     ]
    },
    {
     "name": "stdout",
     "output_type": "stream",
     "text": [
      "params={'n_comp': 33}, score=6.1818182e-01, \n"
     ]
    },
    {
     "name": "stdout",
     "output_type": "stream",
     "text": [
      "params={'n_comp': 34}, score=6.1818182e-01, \n"
     ]
    },
    {
     "name": "stdout",
     "output_type": "stream",
     "text": [
      "params={'n_comp': 35}, score=6.0909091e-01, \n"
     ]
    },
    {
     "name": "stdout",
     "output_type": "stream",
     "text": [
      "params={'n_comp': 36}, score=6.0909091e-01, \n"
     ]
    },
    {
     "name": "stdout",
     "output_type": "stream",
     "text": [
      "params={'n_comp': 37}, score=6.0909091e-01, \n"
     ]
    },
    {
     "name": "stdout",
     "output_type": "stream",
     "text": [
      "params={'n_comp': 38}, score=6.0454545e-01, \n"
     ]
    },
    {
     "name": "stdout",
     "output_type": "stream",
     "text": [
      "params={'n_comp': 39}, score=6.0454545e-01, \n"
     ]
    },
    {
     "name": "stdout",
     "output_type": "stream",
     "text": [
      "params={'n_comp': 40}, score=6.0454545e-01, \n"
     ]
    },
    {
     "name": "stdout",
     "output_type": "stream",
     "text": [
      "params={'n_comp': 41}, score=6.0454545e-01, \n"
     ]
    },
    {
     "name": "stdout",
     "output_type": "stream",
     "text": [
      "params={'n_comp': 42}, score=6.0454545e-01, \n"
     ]
    },
    {
     "name": "stdout",
     "output_type": "stream",
     "text": [
      "params={'n_comp': 43}, score=6.0454545e-01, \n"
     ]
    },
    {
     "name": "stdout",
     "output_type": "stream",
     "text": [
      "params={'n_comp': 44}, score=6.0454545e-01, \n"
     ]
    },
    {
     "name": "stdout",
     "output_type": "stream",
     "text": [
      "params={'n_comp': 45}, score=6.0454545e-01, \n"
     ]
    },
    {
     "name": "stdout",
     "output_type": "stream",
     "text": [
      "params={'n_comp': 46}, score=6.0454545e-01, \n"
     ]
    },
    {
     "name": "stdout",
     "output_type": "stream",
     "text": [
      "params={'n_comp': 47}, score=6.0454545e-01, \n"
     ]
    },
    {
     "name": "stdout",
     "output_type": "stream",
     "text": [
      "params={'n_comp': 48}, score=6.0454545e-01, \n"
     ]
    },
    {
     "name": "stdout",
     "output_type": "stream",
     "text": [
      "params={'n_comp': 49}, score=6.0454545e-01, \n",
      "\n",
      "best parameter: {'n_comp': 8}; score: 7.3181818e-01; \n"
     ]
    }
   ],
   "source": [
    " import Code.IPLS\n",
    "importlib.reload(Code.IPLS)\n",
    "from Code.IPLS import IPLS\n",
    "\n",
    "n_comp_lst=list(range(1,50))\n",
    "scores = []\n",
    "params = []\n",
    "for n_comp in n_comp_lst:\n",
    "    pls = IPLS(n_components=n_comp)\n",
    "    scores.append(Batch_Update_CV(pls))\n",
    "    params.append({'n_comp': n_comp})\n",
    "    print(f\"params={params[-1]}, score={scores[-1]:.7e}, \")\n",
    "\n",
    "best_ind = np.nanargmax(scores)\n",
    "print(\"\")\n",
    "print(f\"best parameter: {params[best_ind]}; score: {scores[best_ind]:.7e}; \")"
   ]
  },
  {
   "cell_type": "code",
   "execution_count": null,
   "id": "0e441136-496c-44e8-9901-64e3f3b0e3b1",
   "metadata": {
    "collapsed": false
   },
   "outputs": [],
   "source": []
  }
 ],
 "metadata": {
  "kernelspec": {
   "argv": [
    "/home/tingan/miniconda3/envs/pls/bin/python",
    "-m",
    "ipykernel_launcher",
    "-f",
    "{connection_file}"
   ],
   "display_name": "Python 3 (ipykernel)",
   "env": null,
   "interrupt_mode": "signal",
   "language": "python",
   "metadata": {
    "debugger": true
   },
   "name": "python3"
  },
  "language_info": {
   "codemirror_mode": {
    "name": "ipython",
    "version": 3
   },
   "file_extension": ".py",
   "mimetype": "text/x-python",
   "name": "python",
   "nbconvert_exporter": "python",
   "pygments_lexer": "ipython3",
   "version": "3.9.15"
  },
  "name": "CV_LFW.ipynb"
 },
 "nbformat": 4,
 "nbformat_minor": 5
}
