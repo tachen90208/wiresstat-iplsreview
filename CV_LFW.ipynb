{
 "cells": [
  {
   "cell_type": "code",
   "execution_count": 111,
   "id": "1fa47994-c7dd-4961-a181-549a7ba83e0a",
   "metadata": {
    "collapsed": false
   },
   "outputs": [],
   "source": [
    "import importlib\n",
    "from sklearn.metrics import accuracy_score\n",
    "import copy\n",
    "from sklearn.model_selection import GridSearchCV, KFold, train_test_split\n",
    "from sklearn.utils import gen_batches\n",
    "from sklearn.linear_model import LogisticRegression\n",
    "from sklearn.cross_decomposition import PLSRegression\n",
    "import numpy as np\n",
    "from numpy.linalg import norm\n",
    "# ----------------------------------------\n",
    "from skopt.space import Integer, Real\n",
    "from skopt.utils import use_named_args\n",
    "from skopt import gp_minimize\n",
    "# ----------------------------------------\n",
    "\n",
    "import warnings\n",
    "warnings.filterwarnings('ignore')\n",
    "\n",
    "from pytictoc import TicToc\n",
    "tim=TicToc()\n",
    "tim_tot = TicToc()"
   ]
  },
  {
   "cell_type": "code",
   "execution_count": 95,
   "id": "7923ec1f-55c0-4800-949a-217b41582331",
   "metadata": {
    "collapsed": false
   },
   "outputs": [
    {
     "name": "stdout",
     "output_type": "stream",
     "text": [
      "(2200, 512)\n",
      "(1000, 512)\n",
      "(2200,)\n",
      "(1000,)\n"
     ]
    }
   ],
   "source": [
    "with np.load(\"./data/lfw.npz\") as data:\n",
    "    fea_train = data['fea_train']\n",
    "    fea_test  = data['fea_test']\n",
    "    X_train    = data['X_train']\n",
    "    label_train    = data['y_train']\n",
    "    X_test    = data['X_test']\n",
    "    label_test    = data['y_test']\n",
    "    \n",
    "print(fea_train.shape)\n",
    "print(fea_test.shape)\n",
    "# print(X_train.shape)\n",
    "# print(X_test.shape)\n",
    "print(label_train.shape)\n",
    "print(label_test.shape)"
   ]
  },
  {
   "cell_type": "code",
   "execution_count": 79,
   "id": "077d81fa-6276-446a-a457-5dd5089bf798",
   "metadata": {
    "collapsed": false
   },
   "outputs": [],
   "source": [
    "def Batch_Update_CV(pls, X, y):\n",
    "    X_train, X_test, y_train, y_test = train_test_split(\n",
    "        X, y, test_size=0.1, random_state=42)\n",
    "\n",
    "    pls_loc = copy.deepcopy(pls)\n",
    "\n",
    "    try:\n",
    "        for batch in gen_batches(X_train.shape[0], 100):\n",
    "            pls_loc.fit(X_train[batch], y_train[batch])\n",
    "\n",
    "        X_score_train = norm(pls_loc.transform(X_train), ord=1, axis=1, keepdims=True)\n",
    "        X_score_test  = norm(pls_loc.transform(X_test), ord=1, axis=1, keepdims=True)\n",
    "        y_pred = LogisticRegression(penalty=None).fit(X_score_train, y_train) \\\n",
    "                                                 .predict(X_score_test)\n",
    "        score = accuracy_score(y_test, y_pred)\n",
    "    except Exception as e:\n",
    "        print(\"-\"*20)\n",
    "        print(\" Error: \", e)\n",
    "        score = np.nan\n",
    "    return score\n",
    "\n",
    "def Model_Score(pls, X, y):\n",
    "    X_train, X_test, y_train, y_test = train_test_split(\n",
    "        X, y, test_size=0.1, random_state=42)\n",
    "    pls.fit(X_train, y_train)\n",
    "    X_score_train = norm(pls.transform(X_train), ord=1, axis=1, keepdims=True)\n",
    "    X_score_test  = norm(pls.transform(X_test), ord=1, axis=1, keepdims=True)\n",
    "    y_pred = LogisticRegression(penalty=None).fit(X_score_train, y_train) \\\n",
    "                                             .predict(X_score_test)\n",
    "\n",
    "    return accuracy_score(y_test, y_pred)"
   ]
  },
  {
   "cell_type": "code",
   "execution_count": 38,
   "id": "71372619-1570-4672-96b6-430f3d83f33d",
   "metadata": {
    "collapsed": false
   },
   "outputs": [
    {
     "name": "stdout",
     "output_type": "stream",
     "text": [
      "params={'n_comp': 1}, score=6.2727273e-01, \n",
      "params={'n_comp': 2}, score=6.8636364e-01, \n",
      "params={'n_comp': 3}, score=7.3181818e-01, \n",
      "params={'n_comp': 4}, score=7.1363636e-01, \n"
     ]
    },
    {
     "name": "stdout",
     "output_type": "stream",
     "text": [
      "params={'n_comp': 5}, score=7.3636364e-01, \n",
      "params={'n_comp': 6}, score=7.5454545e-01, \n"
     ]
    },
    {
     "name": "stdout",
     "output_type": "stream",
     "text": [
      "params={'n_comp': 7}, score=7.5909091e-01, \n",
      "params={'n_comp': 8}, score=7.8636364e-01, \n",
      "params={'n_comp': 9}, score=7.9090909e-01, \n"
     ]
    },
    {
     "name": "stdout",
     "output_type": "stream",
     "text": [
      "params={'n_comp': 10}, score=7.9545455e-01, \n",
      "params={'n_comp': 11}, score=7.8636364e-01, \n",
      "params={'n_comp': 12}, score=8.0000000e-01, \n"
     ]
    },
    {
     "name": "stdout",
     "output_type": "stream",
     "text": [
      "params={'n_comp': 13}, score=7.9090909e-01, \n",
      "params={'n_comp': 14}, score=7.8636364e-01, \n"
     ]
    },
    {
     "name": "stdout",
     "output_type": "stream",
     "text": [
      "params={'n_comp': 15}, score=7.9545455e-01, \n",
      "params={'n_comp': 16}, score=8.0000000e-01, \n"
     ]
    },
    {
     "name": "stdout",
     "output_type": "stream",
     "text": [
      "params={'n_comp': 17}, score=8.0454545e-01, \n",
      "params={'n_comp': 18}, score=8.0909091e-01, \n"
     ]
    },
    {
     "name": "stdout",
     "output_type": "stream",
     "text": [
      "params={'n_comp': 19}, score=8.1818182e-01, \n",
      "params={'n_comp': 20}, score=8.1818182e-01, \n"
     ]
    },
    {
     "name": "stdout",
     "output_type": "stream",
     "text": [
      "params={'n_comp': 21}, score=8.2727273e-01, \n",
      "params={'n_comp': 22}, score=8.0454545e-01, \n"
     ]
    },
    {
     "name": "stdout",
     "output_type": "stream",
     "text": [
      "params={'n_comp': 23}, score=8.0454545e-01, \n",
      "params={'n_comp': 24}, score=8.1818182e-01, \n"
     ]
    },
    {
     "name": "stdout",
     "output_type": "stream",
     "text": [
      "params={'n_comp': 25}, score=8.3636364e-01, \n",
      "params={'n_comp': 26}, score=8.2272727e-01, \n"
     ]
    },
    {
     "name": "stdout",
     "output_type": "stream",
     "text": [
      "params={'n_comp': 27}, score=8.3636364e-01, \n",
      "params={'n_comp': 28}, score=8.3181818e-01, \n"
     ]
    },
    {
     "name": "stdout",
     "output_type": "stream",
     "text": [
      "params={'n_comp': 29}, score=8.2727273e-01, \n",
      "params={'n_comp': 30}, score=8.4545455e-01, \n"
     ]
    },
    {
     "name": "stdout",
     "output_type": "stream",
     "text": [
      "params={'n_comp': 31}, score=8.5454545e-01, \n",
      "params={'n_comp': 32}, score=8.4545455e-01, \n"
     ]
    },
    {
     "name": "stdout",
     "output_type": "stream",
     "text": [
      "params={'n_comp': 33}, score=8.5000000e-01, \n"
     ]
    },
    {
     "name": "stdout",
     "output_type": "stream",
     "text": [
      "params={'n_comp': 34}, score=8.3636364e-01, \n"
     ]
    },
    {
     "name": "stdout",
     "output_type": "stream",
     "text": [
      "params={'n_comp': 35}, score=8.4090909e-01, \n"
     ]
    },
    {
     "name": "stdout",
     "output_type": "stream",
     "text": [
      "params={'n_comp': 36}, score=8.3181818e-01, \n"
     ]
    },
    {
     "name": "stdout",
     "output_type": "stream",
     "text": [
      "params={'n_comp': 37}, score=8.3181818e-01, \n"
     ]
    },
    {
     "name": "stdout",
     "output_type": "stream",
     "text": [
      "params={'n_comp': 38}, score=8.5000000e-01, \n"
     ]
    },
    {
     "name": "stdout",
     "output_type": "stream",
     "text": [
      "params={'n_comp': 39}, score=8.4545455e-01, \n"
     ]
    },
    {
     "name": "stdout",
     "output_type": "stream",
     "text": [
      "params={'n_comp': 40}, score=8.3181818e-01, \n"
     ]
    },
    {
     "name": "stdout",
     "output_type": "stream",
     "text": [
      "params={'n_comp': 41}, score=8.3181818e-01, \n"
     ]
    },
    {
     "name": "stdout",
     "output_type": "stream",
     "text": [
      "params={'n_comp': 42}, score=8.5000000e-01, \n"
     ]
    },
    {
     "name": "stdout",
     "output_type": "stream",
     "text": [
      "params={'n_comp': 43}, score=8.5454545e-01, \n"
     ]
    },
    {
     "name": "stdout",
     "output_type": "stream",
     "text": [
      "params={'n_comp': 44}, score=8.5454545e-01, \n"
     ]
    },
    {
     "name": "stdout",
     "output_type": "stream",
     "text": [
      "params={'n_comp': 45}, score=8.4090909e-01, \n"
     ]
    },
    {
     "name": "stdout",
     "output_type": "stream",
     "text": [
      "params={'n_comp': 46}, score=8.3181818e-01, \n"
     ]
    },
    {
     "name": "stdout",
     "output_type": "stream",
     "text": [
      "params={'n_comp': 47}, score=8.3636364e-01, \n"
     ]
    },
    {
     "name": "stdout",
     "output_type": "stream",
     "text": [
      "params={'n_comp': 48}, score=8.3636364e-01, \n"
     ]
    },
    {
     "name": "stdout",
     "output_type": "stream",
     "text": [
      "params={'n_comp': 49}, score=8.3181818e-01, \n",
      "\n",
      "best parameter: {'n_comp': 31}; score: 8.5454545e-01; \n"
     ]
    }
   ],
   "source": [
    "n_comp_lst=list(range(1,50))\n",
    "scores = []\n",
    "params = []\n",
    "for n_comp in n_comp_lst:\n",
    "    pls = PLSRegression(n_components=n_comp, scale=False)\n",
    "    scores.append(Model_Score(pls, fea_train, y_train))\n",
    "    params.append({'n_comp': n_comp})\n",
    "    print(f\"params={params[-1]}, score={scores[-1]:.7e}, \")\n",
    "\n",
    "best_ind = np.nanargmax(scores)\n",
    "print(\"\")\n",
    "print(f\"best parameter: {params[best_ind]}; score: {scores[best_ind]:.7e}; \")\n",
    "\n",
    "\n"
   ]
  },
  {
   "cell_type": "code",
   "execution_count": 40,
   "id": "85853f42-129b-4e11-933a-7bd3149cf0d4",
   "metadata": {
    "collapsed": false
   },
   "outputs": [
    {
     "name": "stdout",
     "output_type": "stream",
     "text": [
      "params={'n_comp': 1}, score=6.2727273e-01, \n",
      "params={'n_comp': 2}, score=6.9545455e-01, \n",
      "params={'n_comp': 3}, score=7.2727273e-01, \n",
      "params={'n_comp': 4}, score=7.1818182e-01, \n",
      "params={'n_comp': 5}, score=7.1818182e-01, \n",
      "params={'n_comp': 6}, score=7.2727273e-01, \n",
      "params={'n_comp': 7}, score=7.5000000e-01, \n"
     ]
    },
    {
     "name": "stdout",
     "output_type": "stream",
     "text": [
      "params={'n_comp': 8}, score=7.6363636e-01, \n",
      "params={'n_comp': 9}, score=7.7727273e-01, \n",
      "params={'n_comp': 10}, score=7.7272727e-01, \n"
     ]
    },
    {
     "name": "stdout",
     "output_type": "stream",
     "text": [
      "params={'n_comp': 11}, score=7.8181818e-01, \n",
      "params={'n_comp': 12}, score=7.8636364e-01, \n",
      "params={'n_comp': 13}, score=7.9090909e-01, \n",
      "params={'n_comp': 14}, score=7.8636364e-01, \n"
     ]
    },
    {
     "name": "stdout",
     "output_type": "stream",
     "text": [
      "params={'n_comp': 15}, score=7.8181818e-01, \n",
      "params={'n_comp': 16}, score=7.7272727e-01, \n",
      "params={'n_comp': 17}, score=8.0909091e-01, \n",
      "params={'n_comp': 18}, score=8.1363636e-01, \n",
      "params={'n_comp': 19}, score=8.1363636e-01, \n",
      "params={'n_comp': 20}, score=8.0909091e-01, \n"
     ]
    },
    {
     "name": "stdout",
     "output_type": "stream",
     "text": [
      "params={'n_comp': 21}, score=8.2272727e-01, \n",
      "params={'n_comp': 22}, score=8.0909091e-01, \n",
      "params={'n_comp': 23}, score=8.0909091e-01, \n",
      "params={'n_comp': 24}, score=8.3181818e-01, \n",
      "params={'n_comp': 25}, score=8.4545455e-01, \n"
     ]
    },
    {
     "name": "stdout",
     "output_type": "stream",
     "text": [
      "params={'n_comp': 26}, score=8.3636364e-01, \n",
      "params={'n_comp': 27}, score=8.3636364e-01, \n",
      "params={'n_comp': 28}, score=8.4545455e-01, \n",
      "params={'n_comp': 29}, score=8.4090909e-01, \n"
     ]
    },
    {
     "name": "stdout",
     "output_type": "stream",
     "text": [
      "params={'n_comp': 30}, score=8.5000000e-01, \n",
      "params={'n_comp': 31}, score=8.5454545e-01, \n",
      "params={'n_comp': 32}, score=8.5454545e-01, \n",
      "params={'n_comp': 33}, score=8.5909091e-01, \n"
     ]
    },
    {
     "name": "stdout",
     "output_type": "stream",
     "text": [
      "params={'n_comp': 34}, score=8.6818182e-01, \n",
      "params={'n_comp': 35}, score=8.5000000e-01, \n",
      "params={'n_comp': 36}, score=8.5000000e-01, \n",
      "params={'n_comp': 37}, score=8.4090909e-01, \n"
     ]
    },
    {
     "name": "stdout",
     "output_type": "stream",
     "text": [
      "params={'n_comp': 38}, score=8.5000000e-01, \n",
      "params={'n_comp': 39}, score=8.5000000e-01, \n",
      "params={'n_comp': 40}, score=8.5000000e-01, \n",
      "params={'n_comp': 41}, score=8.5909091e-01, \n"
     ]
    },
    {
     "name": "stdout",
     "output_type": "stream",
     "text": [
      "params={'n_comp': 42}, score=8.5454545e-01, \n",
      "params={'n_comp': 43}, score=8.5000000e-01, \n",
      "params={'n_comp': 44}, score=8.5000000e-01, \n",
      "params={'n_comp': 45}, score=8.4090909e-01, \n"
     ]
    },
    {
     "name": "stdout",
     "output_type": "stream",
     "text": [
      "params={'n_comp': 46}, score=8.4090909e-01, \n",
      "params={'n_comp': 47}, score=8.3636364e-01, \n",
      "params={'n_comp': 48}, score=8.3636364e-01, \n",
      "params={'n_comp': 49}, score=8.3181818e-01, \n",
      "\n",
      "best parameter: {'n_comp': 34}; score: 8.6818182e-01; \n"
     ]
    }
   ],
   "source": [
    "import Code.SIMPLS\n",
    "importlib.reload(Code.SIMPLS)\n",
    "from Code.SIMPLS import SIMPLS\n",
    "\n",
    "n_comp_lst=list(range(1,50))\n",
    "scores = []\n",
    "params = []\n",
    "for n_comp in n_comp_lst:\n",
    "    pls = SIMPLS(n_components=n_comp)\n",
    "    scores.append(Model_Score(pls, fea_train, y_train))\n",
    "    params.append({'n_comp': n_comp})\n",
    "    print(f\"params={params[-1]}, score={scores[-1]:.7e}, \")\n",
    "\n",
    "best_ind = np.nanargmax(scores)\n",
    "print(\"\")\n",
    "print(f\"best parameter: {params[best_ind]}; score: {scores[best_ind]:.7e}; \")"
   ]
  },
  {
   "cell_type": "code",
   "execution_count": 160,
   "id": "9cde7fb9-a6d2-4da5-8fa3-1cccaead1cf9",
   "metadata": {
    "collapsed": false
   },
   "outputs": [
    {
     "name": "stdout",
     "output_type": "stream",
     "text": [
      "params={'n_comp': 1}, score=6.2727273e-01, \n",
      "params={'n_comp': 2}, score=6.9545455e-01, \n"
     ]
    },
    {
     "name": "stdout",
     "output_type": "stream",
     "text": [
      "params={'n_comp': 3}, score=7.2727273e-01, \n",
      "params={'n_comp': 4}, score=7.1818182e-01, \n"
     ]
    },
    {
     "name": "stdout",
     "output_type": "stream",
     "text": [
      "params={'n_comp': 5}, score=7.1818182e-01, \n",
      "params={'n_comp': 6}, score=7.2727273e-01, \n"
     ]
    },
    {
     "name": "stdout",
     "output_type": "stream",
     "text": [
      "params={'n_comp': 7}, score=7.5000000e-01, \n"
     ]
    },
    {
     "name": "stdout",
     "output_type": "stream",
     "text": [
      "params={'n_comp': 8}, score=7.6363636e-01, \n"
     ]
    },
    {
     "name": "stdout",
     "output_type": "stream",
     "text": [
      "params={'n_comp': 9}, score=7.7727273e-01, \n"
     ]
    },
    {
     "name": "stdout",
     "output_type": "stream",
     "text": [
      "params={'n_comp': 10}, score=7.7272727e-01, \n"
     ]
    },
    {
     "name": "stdout",
     "output_type": "stream",
     "text": [
      "params={'n_comp': 11}, score=7.8181818e-01, \n"
     ]
    },
    {
     "name": "stdout",
     "output_type": "stream",
     "text": [
      "params={'n_comp': 12}, score=7.8636364e-01, \n"
     ]
    },
    {
     "name": "stdout",
     "output_type": "stream",
     "text": [
      "params={'n_comp': 13}, score=7.9090909e-01, \n"
     ]
    },
    {
     "name": "stdout",
     "output_type": "stream",
     "text": [
      "params={'n_comp': 14}, score=7.8636364e-01, \n"
     ]
    },
    {
     "name": "stdout",
     "output_type": "stream",
     "text": [
      "params={'n_comp': 15}, score=7.8181818e-01, \n"
     ]
    },
    {
     "name": "stdout",
     "output_type": "stream",
     "text": [
      "params={'n_comp': 16}, score=7.7272727e-01, \n"
     ]
    },
    {
     "name": "stdout",
     "output_type": "stream",
     "text": [
      "params={'n_comp': 17}, score=8.0909091e-01, \n"
     ]
    },
    {
     "name": "stdout",
     "output_type": "stream",
     "text": [
      "params={'n_comp': 18}, score=8.1363636e-01, \n"
     ]
    },
    {
     "name": "stdout",
     "output_type": "stream",
     "text": [
      "params={'n_comp': 19}, score=8.1363636e-01, \n"
     ]
    },
    {
     "name": "stdout",
     "output_type": "stream",
     "text": [
      "params={'n_comp': 20}, score=8.0909091e-01, \n"
     ]
    },
    {
     "name": "stdout",
     "output_type": "stream",
     "text": [
      "params={'n_comp': 21}, score=8.2272727e-01, \n"
     ]
    },
    {
     "name": "stdout",
     "output_type": "stream",
     "text": [
      "params={'n_comp': 22}, score=8.0909091e-01, \n"
     ]
    },
    {
     "name": "stdout",
     "output_type": "stream",
     "text": [
      "params={'n_comp': 23}, score=8.0909091e-01, \n"
     ]
    },
    {
     "name": "stdout",
     "output_type": "stream",
     "text": [
      "params={'n_comp': 24}, score=8.3181818e-01, \n"
     ]
    },
    {
     "name": "stdout",
     "output_type": "stream",
     "text": [
      "params={'n_comp': 25}, score=8.4545455e-01, \n"
     ]
    },
    {
     "name": "stdout",
     "output_type": "stream",
     "text": [
      "params={'n_comp': 26}, score=8.3636364e-01, \n"
     ]
    },
    {
     "name": "stdout",
     "output_type": "stream",
     "text": [
      "params={'n_comp': 27}, score=8.3636364e-01, \n"
     ]
    },
    {
     "name": "stdout",
     "output_type": "stream",
     "text": [
      "params={'n_comp': 28}, score=8.4545455e-01, \n"
     ]
    },
    {
     "name": "stdout",
     "output_type": "stream",
     "text": [
      "params={'n_comp': 29}, score=8.4090909e-01, \n"
     ]
    },
    {
     "name": "stdout",
     "output_type": "stream",
     "text": [
      "params={'n_comp': 30}, score=8.5000000e-01, \n"
     ]
    },
    {
     "name": "stdout",
     "output_type": "stream",
     "text": [
      "params={'n_comp': 31}, score=8.5454545e-01, \n"
     ]
    },
    {
     "name": "stdout",
     "output_type": "stream",
     "text": [
      "params={'n_comp': 32}, score=8.5454545e-01, \n"
     ]
    },
    {
     "name": "stdout",
     "output_type": "stream",
     "text": [
      "params={'n_comp': 33}, score=8.5909091e-01, \n"
     ]
    },
    {
     "name": "stdout",
     "output_type": "stream",
     "text": [
      "params={'n_comp': 34}, score=8.6818182e-01, \n"
     ]
    },
    {
     "name": "stdout",
     "output_type": "stream",
     "text": [
      "params={'n_comp': 35}, score=8.5000000e-01, \n"
     ]
    },
    {
     "name": "stdout",
     "output_type": "stream",
     "text": [
      "params={'n_comp': 36}, score=8.5000000e-01, \n"
     ]
    },
    {
     "name": "stdout",
     "output_type": "stream",
     "text": [
      "params={'n_comp': 37}, score=8.4090909e-01, \n"
     ]
    },
    {
     "name": "stdout",
     "output_type": "stream",
     "text": [
      "params={'n_comp': 38}, score=8.5000000e-01, \n"
     ]
    },
    {
     "name": "stdout",
     "output_type": "stream",
     "text": [
      "params={'n_comp': 39}, score=8.5000000e-01, \n"
     ]
    },
    {
     "name": "stdout",
     "output_type": "stream",
     "text": [
      "params={'n_comp': 40}, score=8.5000000e-01, \n"
     ]
    },
    {
     "name": "stdout",
     "output_type": "stream",
     "text": [
      "params={'n_comp': 41}, score=8.5909091e-01, \n"
     ]
    },
    {
     "name": "stdout",
     "output_type": "stream",
     "text": [
      "params={'n_comp': 42}, score=8.5454545e-01, \n"
     ]
    },
    {
     "name": "stdout",
     "output_type": "stream",
     "text": [
      "params={'n_comp': 43}, score=8.5000000e-01, \n"
     ]
    },
    {
     "name": "stdout",
     "output_type": "stream",
     "text": [
      "params={'n_comp': 44}, score=8.5000000e-01, \n"
     ]
    },
    {
     "name": "stdout",
     "output_type": "stream",
     "text": [
      "params={'n_comp': 45}, score=8.4090909e-01, \n"
     ]
    },
    {
     "name": "stdout",
     "output_type": "stream",
     "text": [
      "params={'n_comp': 46}, score=8.4090909e-01, \n"
     ]
    },
    {
     "name": "stdout",
     "output_type": "stream",
     "text": [
      "params={'n_comp': 47}, score=8.3636364e-01, \n"
     ]
    },
    {
     "name": "stdout",
     "output_type": "stream",
     "text": [
      "params={'n_comp': 48}, score=8.3636364e-01, \n"
     ]
    },
    {
     "name": "stdout",
     "output_type": "stream",
     "text": [
      "params={'n_comp': 49}, score=8.3181818e-01, \n"
     ]
    },
    {
     "name": "stdout",
     "output_type": "stream",
     "text": [
      "params={'n_comp': 50}, score=8.3181818e-01, \n"
     ]
    },
    {
     "name": "stdout",
     "output_type": "stream",
     "text": [
      "params={'n_comp': 51}, score=8.3181818e-01, \n"
     ]
    },
    {
     "name": "stdout",
     "output_type": "stream",
     "text": [
      "params={'n_comp': 52}, score=8.3636364e-01, \n"
     ]
    },
    {
     "name": "stdout",
     "output_type": "stream",
     "text": [
      "params={'n_comp': 53}, score=8.4545455e-01, \n"
     ]
    },
    {
     "name": "stdout",
     "output_type": "stream",
     "text": [
      "params={'n_comp': 54}, score=8.2727273e-01, \n"
     ]
    },
    {
     "name": "stdout",
     "output_type": "stream",
     "text": [
      "params={'n_comp': 55}, score=8.2727273e-01, \n"
     ]
    },
    {
     "name": "stdout",
     "output_type": "stream",
     "text": [
      "params={'n_comp': 56}, score=8.3636364e-01, \n"
     ]
    },
    {
     "name": "stdout",
     "output_type": "stream",
     "text": [
      "params={'n_comp': 57}, score=8.3181818e-01, \n"
     ]
    },
    {
     "name": "stdout",
     "output_type": "stream",
     "text": [
      "params={'n_comp': 58}, score=8.3181818e-01, \n"
     ]
    },
    {
     "name": "stdout",
     "output_type": "stream",
     "text": [
      "params={'n_comp': 59}, score=8.3181818e-01, \n"
     ]
    },
    {
     "name": "stdout",
     "output_type": "stream",
     "text": [
      "params={'n_comp': 60}, score=8.3636364e-01, \n"
     ]
    },
    {
     "name": "stdout",
     "output_type": "stream",
     "text": [
      "params={'n_comp': 61}, score=8.3181818e-01, \n"
     ]
    },
    {
     "name": "stdout",
     "output_type": "stream",
     "text": [
      "params={'n_comp': 62}, score=8.3181818e-01, \n"
     ]
    },
    {
     "name": "stdout",
     "output_type": "stream",
     "text": [
      "params={'n_comp': 63}, score=8.2727273e-01, \n"
     ]
    },
    {
     "name": "stdout",
     "output_type": "stream",
     "text": [
      "params={'n_comp': 64}, score=8.2727273e-01, \n"
     ]
    },
    {
     "name": "stdout",
     "output_type": "stream",
     "text": [
      "params={'n_comp': 65}, score=8.2727273e-01, \n"
     ]
    },
    {
     "name": "stdout",
     "output_type": "stream",
     "text": [
      "params={'n_comp': 66}, score=8.2727273e-01, \n"
     ]
    },
    {
     "name": "stdout",
     "output_type": "stream",
     "text": [
      "params={'n_comp': 67}, score=8.1818182e-01, \n"
     ]
    },
    {
     "name": "stdout",
     "output_type": "stream",
     "text": [
      "params={'n_comp': 68}, score=8.1363636e-01, \n"
     ]
    },
    {
     "name": "stdout",
     "output_type": "stream",
     "text": [
      "params={'n_comp': 69}, score=8.1818182e-01, \n"
     ]
    },
    {
     "name": "stdout",
     "output_type": "stream",
     "text": [
      "params={'n_comp': 70}, score=8.1818182e-01, \n"
     ]
    },
    {
     "name": "stdout",
     "output_type": "stream",
     "text": [
      "params={'n_comp': 71}, score=8.1818182e-01, \n"
     ]
    },
    {
     "name": "stdout",
     "output_type": "stream",
     "text": [
      "params={'n_comp': 72}, score=8.1818182e-01, \n"
     ]
    },
    {
     "ename": "KeyboardInterrupt",
     "evalue": "",
     "output_type": "error",
     "traceback": [
      "\u001b[0;31m---------------------------------------------------------------------------\u001b[0m",
      "\u001b[0;31mKeyboardInterrupt\u001b[0m                         Traceback (most recent call last)",
      "Cell \u001b[0;32mIn[160], line 10\u001b[0m\n\u001b[1;32m      8\u001b[0m \u001b[38;5;28;01mfor\u001b[39;00m n_comp \u001b[38;5;129;01min\u001b[39;00m n_comp_lst:\n\u001b[1;32m      9\u001b[0m     pls \u001b[38;5;241m=\u001b[39m ISIMPLS(n_components\u001b[38;5;241m=\u001b[39mn_comp)\n\u001b[0;32m---> 10\u001b[0m     scores\u001b[38;5;241m.\u001b[39mappend(\u001b[43mBatch_Update_CV\u001b[49m\u001b[43m(\u001b[49m\u001b[43mpls\u001b[49m\u001b[43m,\u001b[49m\u001b[43m \u001b[49m\u001b[43mfea_train\u001b[49m\u001b[43m,\u001b[49m\u001b[43m \u001b[49m\u001b[43my_train\u001b[49m\u001b[43m)\u001b[49m)\n\u001b[1;32m     11\u001b[0m     params\u001b[38;5;241m.\u001b[39mappend({\u001b[38;5;124m'\u001b[39m\u001b[38;5;124mn_comp\u001b[39m\u001b[38;5;124m'\u001b[39m: n_comp})\n\u001b[1;32m     12\u001b[0m     \u001b[38;5;28mprint\u001b[39m(\u001b[38;5;124mf\u001b[39m\u001b[38;5;124m\"\u001b[39m\u001b[38;5;124mparams=\u001b[39m\u001b[38;5;132;01m{\u001b[39;00mparams[\u001b[38;5;241m-\u001b[39m\u001b[38;5;241m1\u001b[39m]\u001b[38;5;132;01m}\u001b[39;00m\u001b[38;5;124m, score=\u001b[39m\u001b[38;5;132;01m{\u001b[39;00mscores[\u001b[38;5;241m-\u001b[39m\u001b[38;5;241m1\u001b[39m]\u001b[38;5;132;01m:\u001b[39;00m\u001b[38;5;124m.7e\u001b[39m\u001b[38;5;132;01m}\u001b[39;00m\u001b[38;5;124m, \u001b[39m\u001b[38;5;124m\"\u001b[39m)\n",
      "Cell \u001b[0;32mIn[79], line 9\u001b[0m, in \u001b[0;36mBatch_Update_CV\u001b[0;34m(pls, X, y)\u001b[0m\n\u001b[1;32m      7\u001b[0m \u001b[38;5;28;01mtry\u001b[39;00m: \n\u001b[1;32m      8\u001b[0m     \u001b[38;5;28;01mfor\u001b[39;00m batch \u001b[38;5;129;01min\u001b[39;00m gen_batches(X_train\u001b[38;5;241m.\u001b[39mshape[\u001b[38;5;241m0\u001b[39m], \u001b[38;5;241m50\u001b[39m):\n\u001b[0;32m----> 9\u001b[0m         \u001b[43mpls_loc\u001b[49m\u001b[38;5;241;43m.\u001b[39;49m\u001b[43mfit\u001b[49m\u001b[43m(\u001b[49m\u001b[43mX_train\u001b[49m\u001b[43m[\u001b[49m\u001b[43mbatch\u001b[49m\u001b[43m]\u001b[49m\u001b[43m,\u001b[49m\u001b[43m \u001b[49m\u001b[43my_train\u001b[49m\u001b[43m[\u001b[49m\u001b[43mbatch\u001b[49m\u001b[43m]\u001b[49m\u001b[43m)\u001b[49m\n\u001b[1;32m     11\u001b[0m     X_score_train \u001b[38;5;241m=\u001b[39m norm(pls_loc\u001b[38;5;241m.\u001b[39mtransform(X_train), \u001b[38;5;28mord\u001b[39m\u001b[38;5;241m=\u001b[39m\u001b[38;5;241m1\u001b[39m, axis\u001b[38;5;241m=\u001b[39m\u001b[38;5;241m1\u001b[39m, keepdims\u001b[38;5;241m=\u001b[39m\u001b[38;5;28;01mTrue\u001b[39;00m)\n\u001b[1;32m     12\u001b[0m     X_score_test  \u001b[38;5;241m=\u001b[39m norm(pls_loc\u001b[38;5;241m.\u001b[39mtransform(X_test), \u001b[38;5;28mord\u001b[39m\u001b[38;5;241m=\u001b[39m\u001b[38;5;241m1\u001b[39m, axis\u001b[38;5;241m=\u001b[39m\u001b[38;5;241m1\u001b[39m, keepdims\u001b[38;5;241m=\u001b[39m\u001b[38;5;28;01mTrue\u001b[39;00m)\n",
      "File \u001b[0;32m/video/data/tingan/GitRep/IPLSreview/Code/ISIMPLS.py:101\u001b[0m, in \u001b[0;36mISIMPLS.fit\u001b[0;34m(self, X, y)\u001b[0m\n\u001b[1;32m     99\u001b[0m \u001b[38;5;28mself\u001b[39m\u001b[38;5;241m.\u001b[39m_y_mean \u001b[38;5;241m=\u001b[39m f1\u001b[38;5;241m*\u001b[39m\u001b[38;5;28mself\u001b[39m\u001b[38;5;241m.\u001b[39m_y_mean \u001b[38;5;241m+\u001b[39m f2\u001b[38;5;241m*\u001b[39m_y_mean2\n\u001b[1;32m    100\u001b[0m \u001b[38;5;66;03m# computer the new project matrix\u001b[39;00m\n\u001b[0;32m--> 101\u001b[0m \u001b[38;5;28mself\u001b[39m\u001b[38;5;241m.\u001b[39mW \u001b[38;5;241m=\u001b[39m \u001b[38;5;28;43mself\u001b[39;49m\u001b[38;5;241;43m.\u001b[39;49m\u001b[43m_PLS1_ProjMat\u001b[49m\u001b[43m(\u001b[49m\u001b[38;5;28;43mself\u001b[39;49m\u001b[38;5;241;43m.\u001b[39;49m\u001b[43mS\u001b[49m\u001b[38;5;241;43m.\u001b[39;49m\u001b[43mravel\u001b[49m\u001b[43m(\u001b[49m\u001b[43m)\u001b[49m\u001b[38;5;241;43m.\u001b[39;49m\u001b[43mcopy\u001b[49m\u001b[43m(\u001b[49m\u001b[43m)\u001b[49m\u001b[43m)\u001b[49m\n\u001b[1;32m    102\u001b[0m \u001b[38;5;28;01mreturn\u001b[39;00m \u001b[38;5;28mself\u001b[39m\n",
      "File \u001b[0;32m/video/data/tingan/GitRep/IPLSreview/Code/ISIMPLS.py:63\u001b[0m, in \u001b[0;36mISIMPLS._PLS1_ProjMat\u001b[0;34m(self, S)\u001b[0m\n\u001b[1;32m     61\u001b[0m \u001b[38;5;28;01mfor\u001b[39;00m k \u001b[38;5;129;01min\u001b[39;00m \u001b[38;5;28mrange\u001b[39m(\u001b[38;5;241m1\u001b[39m,\u001b[38;5;28mself\u001b[39m\u001b[38;5;241m.\u001b[39mn_components):\n\u001b[1;32m     62\u001b[0m     W_rotations[k,:] \u001b[38;5;241m=\u001b[39m S\u001b[38;5;241m/\u001b[39mnorm(S)\n\u001b[0;32m---> 63\u001b[0m     p \u001b[38;5;241m=\u001b[39m \u001b[38;5;28;43mself\u001b[39;49m\u001b[38;5;241;43m.\u001b[39;49m\u001b[43mC\u001b[49m\u001b[43m \u001b[49m\u001b[38;5;241;43m@\u001b[39;49m\u001b[43m \u001b[49m\u001b[43mW_rotations\u001b[49m\u001b[43m[\u001b[49m\u001b[43mk\u001b[49m\u001b[43m,\u001b[49m\u001b[43m:\u001b[49m\u001b[43m]\u001b[49m\n\u001b[1;32m     64\u001b[0m     V[k,:] \u001b[38;5;241m=\u001b[39m p \u001b[38;5;241m-\u001b[39m V[:k,:]\u001b[38;5;241m.\u001b[39mT \u001b[38;5;241m@\u001b[39m (V[:k,:] \u001b[38;5;241m@\u001b[39m p)\n\u001b[1;32m     65\u001b[0m     V[k,:] \u001b[38;5;241m=\u001b[39m V[k,:]\u001b[38;5;241m/\u001b[39mnorm(V[k,:])\n",
      "\u001b[0;31mKeyboardInterrupt\u001b[0m: "
     ]
    }
   ],
   "source": [
    "import Code.ISIMPLS\n",
    "importlib.reload(Code.ISIMPLS)\n",
    "from Code.ISIMPLS import ISIMPLS\n",
    "\n",
    "n_comp_lst=list(range(1,100))\n",
    "scores = []\n",
    "params = []\n",
    "for n_comp in n_comp_lst:\n",
    "    pls = ISIMPLS(n_components=n_comp)\n",
    "    scores.append(Batch_Update_CV(pls, fea_train, y_train))\n",
    "    params.append({'n_comp': n_comp})\n",
    "    print(f\"params={params[-1]}, score={scores[-1]:.7e}, \")\n",
    "\n",
    "best_ind = np.nanargmax(scores)\n",
    "print(\"\")\n",
    "print(f\"best parameter: {params[best_ind]}; score: {scores[best_ind]:.7e}; \")\n",
    "\n"
   ]
  },
  {
   "cell_type": "code",
   "execution_count": 159,
   "id": "05862bbc-a0d7-4cad-8595-dadcc48f1a19",
   "metadata": {
    "collapsed": false
   },
   "outputs": [
    {
     "name": "stdout",
     "output_type": "stream",
     "text": [
      "params={'n_comp': 1}, score=6.2727273e-01, \n",
      "params={'n_comp': 2}, score=6.6818182e-01, \n",
      "params={'n_comp': 3}, score=6.9545455e-01, \n",
      "params={'n_comp': 4}, score=7.3181818e-01, \n"
     ]
    },
    {
     "name": "stdout",
     "output_type": "stream",
     "text": [
      "params={'n_comp': 5}, score=7.1363636e-01, \n",
      "params={'n_comp': 6}, score=7.2727273e-01, \n",
      "params={'n_comp': 7}, score=7.5909091e-01, \n"
     ]
    },
    {
     "name": "stdout",
     "output_type": "stream",
     "text": [
      "params={'n_comp': 8}, score=7.6818182e-01, \n",
      "params={'n_comp': 9}, score=8.1818182e-01, \n",
      "params={'n_comp': 10}, score=8.0454545e-01, \n",
      "params={'n_comp': 11}, score=8.0454545e-01, \n"
     ]
    },
    {
     "name": "stdout",
     "output_type": "stream",
     "text": [
      "params={'n_comp': 12}, score=8.0454545e-01, \n",
      "params={'n_comp': 13}, score=8.3181818e-01, \n",
      "params={'n_comp': 14}, score=8.3636364e-01, \n",
      "params={'n_comp': 15}, score=8.2727273e-01, \n"
     ]
    },
    {
     "name": "stdout",
     "output_type": "stream",
     "text": [
      "params={'n_comp': 16}, score=8.1363636e-01, \n",
      "params={'n_comp': 17}, score=8.1363636e-01, \n",
      "params={'n_comp': 18}, score=8.4545455e-01, \n",
      "params={'n_comp': 19}, score=8.2272727e-01, \n"
     ]
    },
    {
     "name": "stdout",
     "output_type": "stream",
     "text": [
      "params={'n_comp': 20}, score=8.3181818e-01, \n",
      "params={'n_comp': 21}, score=8.3181818e-01, \n",
      "params={'n_comp': 22}, score=8.2727273e-01, \n",
      "params={'n_comp': 23}, score=8.2272727e-01, \n"
     ]
    },
    {
     "name": "stdout",
     "output_type": "stream",
     "text": [
      "params={'n_comp': 24}, score=8.2272727e-01, \n",
      "params={'n_comp': 25}, score=8.3636364e-01, \n",
      "params={'n_comp': 26}, score=8.1818182e-01, \n",
      "params={'n_comp': 27}, score=8.1818182e-01, \n"
     ]
    },
    {
     "name": "stdout",
     "output_type": "stream",
     "text": [
      "params={'n_comp': 28}, score=8.2727273e-01, \n",
      "params={'n_comp': 29}, score=8.2727273e-01, \n",
      "params={'n_comp': 30}, score=8.1818182e-01, \n",
      "params={'n_comp': 31}, score=8.3636364e-01, \n"
     ]
    },
    {
     "name": "stdout",
     "output_type": "stream",
     "text": [
      "params={'n_comp': 32}, score=8.4545455e-01, \n",
      "params={'n_comp': 33}, score=8.6363636e-01, \n",
      "params={'n_comp': 34}, score=8.5000000e-01, \n",
      "params={'n_comp': 35}, score=8.6363636e-01, \n"
     ]
    },
    {
     "name": "stdout",
     "output_type": "stream",
     "text": [
      "params={'n_comp': 36}, score=8.6363636e-01, \n",
      "params={'n_comp': 37}, score=8.6818182e-01, \n",
      "params={'n_comp': 38}, score=8.6363636e-01, \n",
      "params={'n_comp': 39}, score=8.7727273e-01, \n"
     ]
    },
    {
     "name": "stdout",
     "output_type": "stream",
     "text": [
      "params={'n_comp': 40}, score=8.6818182e-01, \n",
      "params={'n_comp': 41}, score=8.6818182e-01, \n",
      "params={'n_comp': 42}, score=8.5909091e-01, \n",
      "params={'n_comp': 43}, score=8.7727273e-01, \n"
     ]
    },
    {
     "name": "stdout",
     "output_type": "stream",
     "text": [
      "params={'n_comp': 44}, score=8.6363636e-01, \n",
      "params={'n_comp': 45}, score=8.6363636e-01, \n",
      "params={'n_comp': 46}, score=8.6818182e-01, \n",
      "params={'n_comp': 47}, score=8.6818182e-01, \n"
     ]
    },
    {
     "name": "stdout",
     "output_type": "stream",
     "text": [
      "params={'n_comp': 48}, score=8.6818182e-01, \n",
      "params={'n_comp': 49}, score=8.5909091e-01, \n",
      "params={'n_comp': 50}, score=8.6818182e-01, \n",
      "params={'n_comp': 51}, score=8.7272727e-01, \n"
     ]
    },
    {
     "name": "stdout",
     "output_type": "stream",
     "text": [
      "params={'n_comp': 52}, score=8.7727273e-01, \n",
      "params={'n_comp': 53}, score=8.7727273e-01, \n",
      "params={'n_comp': 54}, score=8.8181818e-01, \n",
      "params={'n_comp': 55}, score=8.8636364e-01, \n"
     ]
    },
    {
     "name": "stdout",
     "output_type": "stream",
     "text": [
      "params={'n_comp': 56}, score=8.8636364e-01, \n",
      "params={'n_comp': 57}, score=8.7272727e-01, \n",
      "params={'n_comp': 58}, score=8.7272727e-01, \n",
      "params={'n_comp': 59}, score=8.7272727e-01, \n"
     ]
    },
    {
     "name": "stdout",
     "output_type": "stream",
     "text": [
      "params={'n_comp': 60}, score=8.5909091e-01, \n",
      "params={'n_comp': 61}, score=8.7272727e-01, \n",
      "params={'n_comp': 62}, score=8.6818182e-01, \n",
      "params={'n_comp': 63}, score=8.6818182e-01, \n"
     ]
    },
    {
     "name": "stdout",
     "output_type": "stream",
     "text": [
      "params={'n_comp': 64}, score=8.7272727e-01, \n",
      "params={'n_comp': 65}, score=8.7272727e-01, \n",
      "params={'n_comp': 66}, score=8.8636364e-01, \n",
      "params={'n_comp': 67}, score=8.8181818e-01, \n"
     ]
    },
    {
     "name": "stdout",
     "output_type": "stream",
     "text": [
      "params={'n_comp': 68}, score=8.9090909e-01, \n",
      "params={'n_comp': 69}, score=9.0000000e-01, \n",
      "params={'n_comp': 70}, score=8.9545455e-01, \n",
      "params={'n_comp': 71}, score=8.9545455e-01, \n"
     ]
    },
    {
     "name": "stdout",
     "output_type": "stream",
     "text": [
      "params={'n_comp': 72}, score=9.0000000e-01, \n",
      "params={'n_comp': 73}, score=9.0000000e-01, \n",
      "params={'n_comp': 74}, score=9.0000000e-01, \n",
      "params={'n_comp': 75}, score=8.8181818e-01, \n"
     ]
    },
    {
     "name": "stdout",
     "output_type": "stream",
     "text": [
      "params={'n_comp': 76}, score=8.8636364e-01, \n",
      "params={'n_comp': 77}, score=8.8636364e-01, \n",
      "params={'n_comp': 78}, score=8.8636364e-01, \n",
      "params={'n_comp': 79}, score=8.8636364e-01, \n"
     ]
    },
    {
     "name": "stdout",
     "output_type": "stream",
     "text": [
      "params={'n_comp': 80}, score=8.9090909e-01, \n",
      "params={'n_comp': 81}, score=8.9090909e-01, \n",
      "params={'n_comp': 82}, score=8.9090909e-01, \n",
      "params={'n_comp': 83}, score=8.9090909e-01, \n"
     ]
    },
    {
     "name": "stdout",
     "output_type": "stream",
     "text": [
      "params={'n_comp': 84}, score=8.9545455e-01, \n",
      "params={'n_comp': 85}, score=8.9090909e-01, \n",
      "params={'n_comp': 86}, score=8.9090909e-01, \n",
      "params={'n_comp': 87}, score=8.9090909e-01, \n"
     ]
    },
    {
     "name": "stdout",
     "output_type": "stream",
     "text": [
      "params={'n_comp': 88}, score=8.9090909e-01, \n",
      "params={'n_comp': 89}, score=8.9090909e-01, \n",
      "params={'n_comp': 90}, score=8.9545455e-01, \n",
      "params={'n_comp': 91}, score=8.9545455e-01, \n"
     ]
    },
    {
     "name": "stdout",
     "output_type": "stream",
     "text": [
      "params={'n_comp': 92}, score=8.9545455e-01, \n",
      "params={'n_comp': 93}, score=8.9545455e-01, \n",
      "params={'n_comp': 94}, score=9.0000000e-01, \n",
      "params={'n_comp': 95}, score=8.9545455e-01, \n"
     ]
    },
    {
     "name": "stdout",
     "output_type": "stream",
     "text": [
      "params={'n_comp': 96}, score=9.0000000e-01, \n",
      "params={'n_comp': 97}, score=8.9545455e-01, \n",
      "params={'n_comp': 98}, score=8.9090909e-01, \n",
      "params={'n_comp': 99}, score=8.9090909e-01, \n",
      "\n",
      "best parameter: {'n_comp': 69}; score: 9.0000000e-01; \n"
     ]
    }
   ],
   "source": [
    "import Code.PLS1\n",
    "importlib.reload(Code.PLS1)\n",
    "from Code.PLS1 import PLS1\n",
    "\n",
    "n_comp_lst=list(range(1,100))\n",
    "scores = []\n",
    "params = []\n",
    "for n_comp in n_comp_lst:\n",
    "    pls = PLS1(n_components=n_comp)\n",
    "    scores.append(Model_Score(pls, fea_train, y_train))\n",
    "    params.append({'n_comp': n_comp})\n",
    "    print(f\"params={params[-1]}, score={scores[-1]:.7e}, \")\n",
    "\n",
    "best_ind = np.nanargmax(scores)\n",
    "print(\"\")\n",
    "print(f\"best parameter: {params[best_ind]}; score: {scores[best_ind]:.7e}; \")"
   ]
  },
  {
   "cell_type": "code",
   "execution_count": 158,
   "id": "26eeac8c-1aa0-444a-ace9-3f43320d6842",
   "metadata": {
    "collapsed": false
   },
   "outputs": [
    {
     "name": "stdout",
     "output_type": "stream",
     "text": [
      "params={'n_comp': 1}, score=6.2727273e-01, \n"
     ]
    },
    {
     "name": "stdout",
     "output_type": "stream",
     "text": [
      "params={'n_comp': 2}, score=6.6818182e-01, \n"
     ]
    },
    {
     "name": "stdout",
     "output_type": "stream",
     "text": [
      "params={'n_comp': 3}, score=6.9545455e-01, \n"
     ]
    },
    {
     "name": "stdout",
     "output_type": "stream",
     "text": [
      "params={'n_comp': 4}, score=7.3181818e-01, \n"
     ]
    },
    {
     "name": "stdout",
     "output_type": "stream",
     "text": [
      "params={'n_comp': 5}, score=7.1363636e-01, \n"
     ]
    },
    {
     "name": "stdout",
     "output_type": "stream",
     "text": [
      "params={'n_comp': 6}, score=7.2727273e-01, \n"
     ]
    },
    {
     "name": "stdout",
     "output_type": "stream",
     "text": [
      "params={'n_comp': 7}, score=7.5909091e-01, \n"
     ]
    },
    {
     "name": "stdout",
     "output_type": "stream",
     "text": [
      "params={'n_comp': 8}, score=7.6818182e-01, \n"
     ]
    },
    {
     "name": "stdout",
     "output_type": "stream",
     "text": [
      "params={'n_comp': 9}, score=8.1818182e-01, \n"
     ]
    },
    {
     "name": "stdout",
     "output_type": "stream",
     "text": [
      "params={'n_comp': 10}, score=8.0454545e-01, \n"
     ]
    },
    {
     "name": "stdout",
     "output_type": "stream",
     "text": [
      "params={'n_comp': 11}, score=8.0454545e-01, \n"
     ]
    },
    {
     "name": "stdout",
     "output_type": "stream",
     "text": [
      "params={'n_comp': 12}, score=8.0454545e-01, \n"
     ]
    },
    {
     "name": "stdout",
     "output_type": "stream",
     "text": [
      "params={'n_comp': 13}, score=8.3181818e-01, \n"
     ]
    },
    {
     "name": "stdout",
     "output_type": "stream",
     "text": [
      "params={'n_comp': 14}, score=8.3636364e-01, \n"
     ]
    },
    {
     "name": "stdout",
     "output_type": "stream",
     "text": [
      "params={'n_comp': 15}, score=8.2727273e-01, \n"
     ]
    },
    {
     "name": "stdout",
     "output_type": "stream",
     "text": [
      "params={'n_comp': 16}, score=8.1363636e-01, \n"
     ]
    },
    {
     "name": "stdout",
     "output_type": "stream",
     "text": [
      "params={'n_comp': 17}, score=8.1363636e-01, \n"
     ]
    },
    {
     "name": "stdout",
     "output_type": "stream",
     "text": [
      "params={'n_comp': 18}, score=8.4545455e-01, \n"
     ]
    },
    {
     "name": "stdout",
     "output_type": "stream",
     "text": [
      "params={'n_comp': 19}, score=8.2272727e-01, \n"
     ]
    },
    {
     "name": "stdout",
     "output_type": "stream",
     "text": [
      "params={'n_comp': 20}, score=8.3181818e-01, \n"
     ]
    },
    {
     "name": "stdout",
     "output_type": "stream",
     "text": [
      "params={'n_comp': 21}, score=8.3181818e-01, \n"
     ]
    },
    {
     "name": "stdout",
     "output_type": "stream",
     "text": [
      "params={'n_comp': 22}, score=8.2727273e-01, \n"
     ]
    },
    {
     "name": "stdout",
     "output_type": "stream",
     "text": [
      "params={'n_comp': 23}, score=8.2272727e-01, \n"
     ]
    },
    {
     "name": "stdout",
     "output_type": "stream",
     "text": [
      "params={'n_comp': 24}, score=8.2272727e-01, \n"
     ]
    },
    {
     "name": "stdout",
     "output_type": "stream",
     "text": [
      "params={'n_comp': 25}, score=8.3636364e-01, \n"
     ]
    },
    {
     "name": "stdout",
     "output_type": "stream",
     "text": [
      "params={'n_comp': 26}, score=8.1818182e-01, \n"
     ]
    },
    {
     "name": "stdout",
     "output_type": "stream",
     "text": [
      "params={'n_comp': 27}, score=8.1818182e-01, \n"
     ]
    },
    {
     "name": "stdout",
     "output_type": "stream",
     "text": [
      "params={'n_comp': 28}, score=8.2727273e-01, \n"
     ]
    },
    {
     "name": "stdout",
     "output_type": "stream",
     "text": [
      "params={'n_comp': 29}, score=8.2727273e-01, \n"
     ]
    },
    {
     "name": "stdout",
     "output_type": "stream",
     "text": [
      "params={'n_comp': 30}, score=8.1818182e-01, \n"
     ]
    },
    {
     "name": "stdout",
     "output_type": "stream",
     "text": [
      "params={'n_comp': 31}, score=8.3636364e-01, \n"
     ]
    },
    {
     "name": "stdout",
     "output_type": "stream",
     "text": [
      "params={'n_comp': 32}, score=8.4545455e-01, \n"
     ]
    },
    {
     "name": "stdout",
     "output_type": "stream",
     "text": [
      "params={'n_comp': 33}, score=8.6363636e-01, \n"
     ]
    },
    {
     "name": "stdout",
     "output_type": "stream",
     "text": [
      "params={'n_comp': 34}, score=8.5000000e-01, \n"
     ]
    },
    {
     "name": "stdout",
     "output_type": "stream",
     "text": [
      "params={'n_comp': 35}, score=8.6363636e-01, \n"
     ]
    },
    {
     "name": "stdout",
     "output_type": "stream",
     "text": [
      "params={'n_comp': 36}, score=8.6363636e-01, \n"
     ]
    },
    {
     "name": "stdout",
     "output_type": "stream",
     "text": [
      "params={'n_comp': 37}, score=8.6818182e-01, \n"
     ]
    },
    {
     "name": "stdout",
     "output_type": "stream",
     "text": [
      "params={'n_comp': 38}, score=8.6363636e-01, \n"
     ]
    },
    {
     "name": "stdout",
     "output_type": "stream",
     "text": [
      "params={'n_comp': 39}, score=8.7727273e-01, \n"
     ]
    },
    {
     "name": "stdout",
     "output_type": "stream",
     "text": [
      "params={'n_comp': 40}, score=8.6818182e-01, \n"
     ]
    },
    {
     "name": "stdout",
     "output_type": "stream",
     "text": [
      "params={'n_comp': 41}, score=8.6818182e-01, \n"
     ]
    },
    {
     "name": "stdout",
     "output_type": "stream",
     "text": [
      "params={'n_comp': 42}, score=8.5909091e-01, \n"
     ]
    },
    {
     "name": "stdout",
     "output_type": "stream",
     "text": [
      "params={'n_comp': 43}, score=8.7727273e-01, \n"
     ]
    },
    {
     "name": "stdout",
     "output_type": "stream",
     "text": [
      "params={'n_comp': 44}, score=8.6363636e-01, \n"
     ]
    },
    {
     "name": "stdout",
     "output_type": "stream",
     "text": [
      "params={'n_comp': 45}, score=8.6363636e-01, \n"
     ]
    },
    {
     "name": "stdout",
     "output_type": "stream",
     "text": [
      "params={'n_comp': 46}, score=8.6818182e-01, \n"
     ]
    },
    {
     "name": "stdout",
     "output_type": "stream",
     "text": [
      "params={'n_comp': 47}, score=8.6818182e-01, \n"
     ]
    },
    {
     "name": "stdout",
     "output_type": "stream",
     "text": [
      "params={'n_comp': 48}, score=8.6818182e-01, \n"
     ]
    },
    {
     "name": "stdout",
     "output_type": "stream",
     "text": [
      "params={'n_comp': 49}, score=8.5909091e-01, \n"
     ]
    },
    {
     "name": "stdout",
     "output_type": "stream",
     "text": [
      "params={'n_comp': 50}, score=8.6818182e-01, \n"
     ]
    },
    {
     "name": "stdout",
     "output_type": "stream",
     "text": [
      "params={'n_comp': 51}, score=8.7272727e-01, \n"
     ]
    },
    {
     "name": "stdout",
     "output_type": "stream",
     "text": [
      "params={'n_comp': 52}, score=8.7727273e-01, \n"
     ]
    },
    {
     "name": "stdout",
     "output_type": "stream",
     "text": [
      "params={'n_comp': 53}, score=8.7727273e-01, \n"
     ]
    },
    {
     "name": "stdout",
     "output_type": "stream",
     "text": [
      "params={'n_comp': 54}, score=8.8181818e-01, \n"
     ]
    },
    {
     "name": "stdout",
     "output_type": "stream",
     "text": [
      "params={'n_comp': 55}, score=8.8636364e-01, \n"
     ]
    },
    {
     "name": "stdout",
     "output_type": "stream",
     "text": [
      "params={'n_comp': 56}, score=8.8636364e-01, \n"
     ]
    },
    {
     "name": "stdout",
     "output_type": "stream",
     "text": [
      "params={'n_comp': 57}, score=8.7272727e-01, \n"
     ]
    },
    {
     "name": "stdout",
     "output_type": "stream",
     "text": [
      "params={'n_comp': 58}, score=8.7272727e-01, \n"
     ]
    },
    {
     "name": "stdout",
     "output_type": "stream",
     "text": [
      "params={'n_comp': 59}, score=8.7272727e-01, \n"
     ]
    },
    {
     "name": "stdout",
     "output_type": "stream",
     "text": [
      "params={'n_comp': 60}, score=8.5909091e-01, \n"
     ]
    },
    {
     "name": "stdout",
     "output_type": "stream",
     "text": [
      "params={'n_comp': 61}, score=8.7272727e-01, \n"
     ]
    },
    {
     "name": "stdout",
     "output_type": "stream",
     "text": [
      "params={'n_comp': 62}, score=8.6818182e-01, \n"
     ]
    },
    {
     "name": "stdout",
     "output_type": "stream",
     "text": [
      "params={'n_comp': 63}, score=8.6818182e-01, \n"
     ]
    },
    {
     "name": "stdout",
     "output_type": "stream",
     "text": [
      "params={'n_comp': 64}, score=8.7272727e-01, \n"
     ]
    },
    {
     "name": "stdout",
     "output_type": "stream",
     "text": [
      "params={'n_comp': 65}, score=8.7272727e-01, \n"
     ]
    },
    {
     "name": "stdout",
     "output_type": "stream",
     "text": [
      "params={'n_comp': 66}, score=8.8636364e-01, \n"
     ]
    },
    {
     "name": "stdout",
     "output_type": "stream",
     "text": [
      "params={'n_comp': 67}, score=8.8181818e-01, \n"
     ]
    },
    {
     "name": "stdout",
     "output_type": "stream",
     "text": [
      "params={'n_comp': 68}, score=8.9090909e-01, \n"
     ]
    },
    {
     "name": "stdout",
     "output_type": "stream",
     "text": [
      "params={'n_comp': 69}, score=9.0000000e-01, \n"
     ]
    },
    {
     "name": "stdout",
     "output_type": "stream",
     "text": [
      "params={'n_comp': 70}, score=8.9545455e-01, \n"
     ]
    },
    {
     "name": "stdout",
     "output_type": "stream",
     "text": [
      "params={'n_comp': 71}, score=8.9545455e-01, \n"
     ]
    },
    {
     "name": "stdout",
     "output_type": "stream",
     "text": [
      "params={'n_comp': 72}, score=9.0000000e-01, \n"
     ]
    },
    {
     "name": "stdout",
     "output_type": "stream",
     "text": [
      "params={'n_comp': 73}, score=9.0000000e-01, \n"
     ]
    },
    {
     "name": "stdout",
     "output_type": "stream",
     "text": [
      "params={'n_comp': 74}, score=9.0000000e-01, \n"
     ]
    },
    {
     "name": "stdout",
     "output_type": "stream",
     "text": [
      "params={'n_comp': 75}, score=8.8181818e-01, \n"
     ]
    },
    {
     "name": "stdout",
     "output_type": "stream",
     "text": [
      "params={'n_comp': 76}, score=8.8636364e-01, \n"
     ]
    },
    {
     "name": "stdout",
     "output_type": "stream",
     "text": [
      "params={'n_comp': 77}, score=8.8636364e-01, \n"
     ]
    },
    {
     "name": "stdout",
     "output_type": "stream",
     "text": [
      "params={'n_comp': 78}, score=8.8636364e-01, \n"
     ]
    },
    {
     "name": "stdout",
     "output_type": "stream",
     "text": [
      "params={'n_comp': 79}, score=8.8636364e-01, \n"
     ]
    },
    {
     "name": "stdout",
     "output_type": "stream",
     "text": [
      "params={'n_comp': 80}, score=8.9090909e-01, \n"
     ]
    },
    {
     "name": "stdout",
     "output_type": "stream",
     "text": [
      "params={'n_comp': 81}, score=8.9090909e-01, \n"
     ]
    },
    {
     "name": "stdout",
     "output_type": "stream",
     "text": [
      "params={'n_comp': 82}, score=8.9090909e-01, \n"
     ]
    },
    {
     "name": "stdout",
     "output_type": "stream",
     "text": [
      "params={'n_comp': 83}, score=8.9090909e-01, \n"
     ]
    },
    {
     "name": "stdout",
     "output_type": "stream",
     "text": [
      "params={'n_comp': 84}, score=8.9545455e-01, \n"
     ]
    },
    {
     "name": "stdout",
     "output_type": "stream",
     "text": [
      "params={'n_comp': 85}, score=8.9090909e-01, \n"
     ]
    },
    {
     "name": "stdout",
     "output_type": "stream",
     "text": [
      "params={'n_comp': 86}, score=8.9090909e-01, \n"
     ]
    },
    {
     "name": "stdout",
     "output_type": "stream",
     "text": [
      "params={'n_comp': 87}, score=8.9090909e-01, \n"
     ]
    },
    {
     "name": "stdout",
     "output_type": "stream",
     "text": [
      "params={'n_comp': 88}, score=8.9090909e-01, \n"
     ]
    },
    {
     "name": "stdout",
     "output_type": "stream",
     "text": [
      "params={'n_comp': 89}, score=8.9090909e-01, \n"
     ]
    },
    {
     "name": "stdout",
     "output_type": "stream",
     "text": [
      "params={'n_comp': 90}, score=8.9545455e-01, \n"
     ]
    },
    {
     "name": "stdout",
     "output_type": "stream",
     "text": [
      "params={'n_comp': 91}, score=8.9545455e-01, \n"
     ]
    },
    {
     "name": "stdout",
     "output_type": "stream",
     "text": [
      "params={'n_comp': 92}, score=8.9545455e-01, \n"
     ]
    },
    {
     "name": "stdout",
     "output_type": "stream",
     "text": [
      "params={'n_comp': 93}, score=8.9545455e-01, \n"
     ]
    },
    {
     "name": "stdout",
     "output_type": "stream",
     "text": [
      "params={'n_comp': 94}, score=9.0000000e-01, \n"
     ]
    },
    {
     "name": "stdout",
     "output_type": "stream",
     "text": [
      "params={'n_comp': 95}, score=8.9545455e-01, \n"
     ]
    },
    {
     "name": "stdout",
     "output_type": "stream",
     "text": [
      "params={'n_comp': 96}, score=9.0000000e-01, \n"
     ]
    },
    {
     "name": "stdout",
     "output_type": "stream",
     "text": [
      "params={'n_comp': 97}, score=8.9545455e-01, \n"
     ]
    },
    {
     "name": "stdout",
     "output_type": "stream",
     "text": [
      "params={'n_comp': 98}, score=8.9090909e-01, \n"
     ]
    },
    {
     "name": "stdout",
     "output_type": "stream",
     "text": [
      "params={'n_comp': 99}, score=8.9090909e-01, \n",
      "\n",
      "best parameter: {'n_comp': 69}; score: 9.0000000e-01; \n"
     ]
    }
   ],
   "source": [
    "import Code.PLS1\n",
    "importlib.reload(Code.PLS1)\n",
    "from Code.PLS1 import IPLS1\n",
    "\n",
    "n_comp_lst=list(range(1,100))\n",
    "scores = []\n",
    "params = []\n",
    "for n_comp in n_comp_lst:\n",
    "    pls = IPLS1(n_components=n_comp)\n",
    "    scores.append(Batch_Update_CV(pls, fea_train, y_train))\n",
    "    params.append({'n_comp': n_comp})\n",
    "    print(f\"params={params[-1]}, score={scores[-1]:.7e}, \")\n",
    "\n",
    "best_ind = np.nanargmax(scores)\n",
    "print(\"\")\n",
    "print(f\"best parameter: {params[best_ind]}; score: {scores[best_ind]:.7e}; \")"
   ]
  },
  {
   "cell_type": "code",
   "execution_count": 155,
   "id": "b97e48e1-5ddb-40a8-8a15-1c34ed6b0f40",
   "metadata": {
    "collapsed": false
   },
   "outputs": [],
   "source": [
    "importlib.reload(Code.OLPLS)\n",
    "from Code.OLPLS import OLPLS\n",
    "n_comp_max = 100\n",
    "\n",
    "space  = [ Real(1e-9, 1e-5, name='mu', prior=\"log-uniform\"),\n",
    "           Real(0, 1, name='amnesic')]\n",
    "\n",
    "@use_named_args(space)\n",
    "def Comp_Model_Score(mu, amnesic):\n",
    "    X_train, X_test, y_train, y_test = train_test_split(\n",
    "        fea_train, label_train, test_size=0.1, random_state=42)\n",
    "    score_loc = np.zeros((n_comp_max, ))\n",
    "\n",
    "    PLS=OLPLS(n_components=n_comp_max, mu=mu, amnesic=amnesic)\n",
    "    print(f\"__mu={PLS.mu:.4e}, amnesic={PLS.amnesic:.2f}\")\n",
    "\n",
    "    PLS.fit(X_train, y_train)\n",
    "    for n_comp in range(1, n_comp_max+1):\n",
    "        X_score_train = norm(np.dot(X_train, PLS.W[:,:n_comp]), ord=1, axis=1, keepdims=True)\n",
    "        X_score_test = norm(np.dot(X_test, PLS.W[:,:n_comp]), ord=1, axis=1, keepdims=True)\n",
    "        y_pred = LogisticRegression(penalty=None).fit(X_score_train, y_train) \\\n",
    "                                                     .predict(X_score_test)\n",
    "        score_loc[n_comp-1] = accuracy_score(y_test, y_pred)\n",
    "\n",
    "    print(score_loc)\n",
    "    score = np.nanmax(score_loc)\n",
    "    if (np.isnan(score)):\n",
    "        score = 0\n",
    "        print(\"____failure\")\n",
    "    else:\n",
    "        print(f\"____best n_comp: {np.nanargmax(score_loc)+1:d}\")\n",
    "        print(f\"____best score: {score:.4f}\")\n",
    "    return -score"
   ]
  },
  {
   "cell_type": "code",
   "execution_count": 156,
   "id": "c0d455fe-3410-4fdf-8fee-f84f7a1735eb",
   "metadata": {
    "collapsed": false
   },
   "outputs": [
    {
     "name": "stdout",
     "output_type": "stream",
     "text": [
      "Iteration No: 1 started. Evaluating function at random point.\n",
      "__mu=2.3517e-07, amnesic=0.84\n"
     ]
    },
    {
     "name": "stdout",
     "output_type": "stream",
     "text": [
      "[0.59090909 0.59090909 0.59090909 0.59090909 0.59090909 0.59090909\n",
      " 0.59090909 0.59090909 0.59090909 0.59090909 0.59090909 0.59090909\n",
      " 0.59090909 0.59090909 0.59090909 0.59090909 0.59090909 0.59090909\n",
      " 0.59090909 0.59090909 0.59090909 0.59090909 0.59090909 0.59090909\n",
      " 0.59090909 0.59090909 0.59090909 0.59090909 0.59090909 0.59090909\n",
      " 0.59090909 0.59090909 0.59090909 0.59090909 0.59090909 0.59090909\n",
      " 0.59090909 0.59090909 0.59090909 0.59090909 0.59090909 0.59090909\n",
      " 0.59090909 0.59090909 0.59090909 0.59090909 0.59090909 0.59090909\n",
      " 0.59090909 0.59090909 0.59090909 0.59090909 0.59090909 0.59090909\n",
      " 0.59090909 0.59090909 0.59090909 0.59090909 0.59090909 0.59090909\n",
      " 0.59090909 0.59090909 0.59090909 0.59090909 0.59090909 0.59090909\n",
      " 0.59090909 0.59090909 0.59090909 0.59090909 0.59090909 0.59090909\n",
      " 0.59090909 0.59090909 0.59090909 0.59090909 0.59090909 0.59090909\n",
      " 0.59090909 0.59090909 0.59090909 0.59090909 0.59090909 0.59090909\n",
      " 0.59090909 0.59090909 0.59090909 0.59090909 0.59090909 0.59090909\n",
      " 0.59090909 0.59090909 0.59090909 0.59090909 0.59090909 0.59090909\n",
      " 0.59090909 0.59090909 0.59090909 0.59090909]\n",
      "____best n_comp: 1\n",
      "____best score: 0.5909\n",
      "Iteration No: 1 ended. Evaluation done at random point.\n",
      "Time taken: 47.1394\n",
      "Function value obtained: -0.5909\n",
      "Current minimum: -0.5909\n",
      "Iteration No: 2 started. Evaluating function at random point.\n",
      "__mu=2.7026e-06, amnesic=0.85\n"
     ]
    },
    {
     "name": "stdout",
     "output_type": "stream",
     "text": [
      "[0.59090909 0.59090909 0.59090909 0.59090909 0.59090909 0.59090909\n",
      " 0.59090909 0.59090909 0.59090909 0.59090909 0.59090909 0.59090909\n",
      " 0.59090909 0.59090909 0.59090909 0.59090909 0.59090909 0.59090909\n",
      " 0.59090909 0.59090909 0.59090909 0.59090909 0.59090909 0.59090909\n",
      " 0.59090909 0.59090909 0.59090909 0.59090909 0.59090909 0.59090909\n",
      " 0.59090909 0.59090909 0.59090909 0.59090909 0.59090909 0.59090909\n",
      " 0.59090909 0.59090909 0.59090909 0.59090909 0.59090909 0.59090909\n",
      " 0.59090909 0.59090909 0.59090909 0.59090909 0.59090909 0.59090909\n",
      " 0.59090909 0.59090909 0.59090909 0.59090909 0.59090909 0.59090909\n",
      " 0.59090909 0.59090909 0.59090909 0.59090909 0.59090909 0.59090909\n",
      " 0.59090909 0.59090909 0.59090909 0.59090909 0.59090909 0.59090909\n",
      " 0.59090909 0.59090909 0.59090909 0.59090909 0.59090909 0.59090909\n",
      " 0.59090909 0.59090909 0.59090909 0.59090909 0.59090909 0.59090909\n",
      " 0.59090909 0.59090909 0.59090909 0.59090909 0.59090909 0.59090909\n",
      " 0.59090909 0.59090909 0.59090909 0.59090909 0.59090909 0.59090909\n",
      " 0.59090909 0.59090909 0.59090909 0.59090909 0.59090909 0.59090909\n",
      " 0.59090909 0.59090909 0.59090909 0.59090909]\n",
      "____best n_comp: 1\n",
      "____best score: 0.5909\n",
      "Iteration No: 2 ended. Evaluation done at random point.\n",
      "Time taken: 47.8588\n",
      "Function value obtained: -0.5909\n",
      "Current minimum: -0.5909\n",
      "Iteration No: 3 started. Evaluating function at random point.\n",
      "__mu=3.1207e-07, amnesic=0.38\n"
     ]
    },
    {
     "name": "stdout",
     "output_type": "stream",
     "text": [
      "[0.59090909 0.59090909 0.59090909 0.59090909 0.59090909 0.59090909\n",
      " 0.59090909 0.59090909 0.59090909 0.59090909 0.59090909 0.59090909\n",
      " 0.59090909 0.59090909 0.59090909 0.59090909 0.59090909 0.59090909\n",
      " 0.59090909 0.59090909 0.59090909 0.59090909 0.59090909 0.59090909\n",
      " 0.59090909 0.59090909 0.59090909 0.59090909 0.59090909 0.59090909\n",
      " 0.59090909 0.59090909 0.59090909 0.59090909 0.59090909 0.59090909\n",
      " 0.59090909 0.59090909 0.59090909 0.59090909 0.59090909 0.59090909\n",
      " 0.59090909 0.59090909 0.59090909 0.59090909 0.59090909 0.59090909\n",
      " 0.59090909 0.59090909 0.59090909 0.59090909 0.59090909 0.59090909\n",
      " 0.59090909 0.59090909 0.59090909 0.59090909 0.59090909 0.59090909\n",
      " 0.59090909 0.59090909 0.59090909 0.59090909 0.59090909 0.59090909\n",
      " 0.59090909 0.59090909 0.59090909 0.59090909 0.59090909 0.59090909\n",
      " 0.59090909 0.59090909 0.59090909 0.59090909 0.59090909 0.59090909\n",
      " 0.59090909 0.59090909 0.59090909 0.59090909 0.59090909 0.59090909\n",
      " 0.59090909 0.59090909 0.59090909 0.59090909 0.59090909 0.59090909\n",
      " 0.59090909 0.59090909 0.59090909 0.59090909 0.59090909 0.59090909\n",
      " 0.59090909 0.59090909 0.59090909 0.59090909]\n",
      "____best n_comp: 1\n",
      "____best score: 0.5909\n",
      "Iteration No: 3 ended. Evaluation done at random point.\n",
      "Time taken: 47.7510\n",
      "Function value obtained: -0.5909\n",
      "Current minimum: -0.5909\n",
      "Iteration No: 4 started. Evaluating function at random point.\n",
      "__mu=1.5493e-08, amnesic=0.06\n"
     ]
    },
    {
     "name": "stdout",
     "output_type": "stream",
     "text": [
      "[0.59090909 0.59090909 0.59090909 0.59090909 0.59090909 0.59090909\n",
      " 0.59090909 0.59090909 0.59090909 0.59090909 0.59090909 0.59090909\n",
      " 0.59090909 0.59090909 0.59090909 0.59090909 0.59090909 0.59090909\n",
      " 0.59090909 0.59090909 0.59090909 0.59090909 0.59090909 0.59090909\n",
      " 0.59090909 0.59090909 0.59090909 0.59090909 0.59090909 0.59090909\n",
      " 0.59090909 0.59090909 0.59090909 0.59090909 0.59090909 0.59090909\n",
      " 0.59090909 0.59090909 0.59090909 0.59090909 0.59090909 0.59090909\n",
      " 0.59090909 0.59090909 0.59090909 0.59090909 0.59090909 0.59090909\n",
      " 0.59090909 0.59090909 0.59090909 0.59090909 0.59090909 0.59090909\n",
      " 0.59090909 0.59090909 0.59090909 0.59090909 0.59090909 0.59090909\n",
      " 0.59090909 0.59090909 0.59090909 0.59090909 0.59090909 0.59090909\n",
      " 0.59090909 0.59090909 0.59090909 0.59090909 0.59090909 0.59090909\n",
      " 0.59090909 0.59090909 0.59090909 0.59090909 0.59090909 0.59090909\n",
      " 0.59090909 0.59090909 0.59090909 0.59090909 0.59090909 0.59090909\n",
      " 0.59090909 0.59090909 0.59090909 0.59090909 0.59090909 0.59090909\n",
      " 0.59090909 0.59090909 0.59090909 0.59090909 0.59090909 0.59090909\n",
      " 0.59090909 0.59090909 0.59090909 0.59090909]\n",
      "____best n_comp: 1\n",
      "____best score: 0.5909\n",
      "Iteration No: 4 ended. Evaluation done at random point.\n",
      "Time taken: 46.9988\n",
      "Function value obtained: -0.5909\n",
      "Current minimum: -0.5909\n",
      "Iteration No: 5 started. Evaluating function at random point.\n",
      "__mu=1.2320e-08, amnesic=0.48\n"
     ]
    },
    {
     "name": "stdout",
     "output_type": "stream",
     "text": [
      "[0.59090909 0.59090909 0.59090909 0.59090909 0.59090909 0.59090909\n",
      " 0.59090909 0.59090909 0.59090909 0.59090909 0.59090909 0.59090909\n",
      " 0.59090909 0.59090909 0.59090909 0.59090909 0.59090909 0.59090909\n",
      " 0.59090909 0.59090909 0.59090909 0.59090909 0.59090909 0.59090909\n",
      " 0.59090909 0.59090909 0.59090909 0.59090909 0.59090909 0.59090909\n",
      " 0.59090909 0.59090909 0.59090909 0.59090909 0.59090909 0.59090909\n",
      " 0.59090909 0.59090909 0.59090909 0.59090909 0.59090909 0.59090909\n",
      " 0.59090909 0.59090909 0.59090909 0.59090909 0.59090909 0.59090909\n",
      " 0.59090909 0.59090909 0.59090909 0.59090909 0.59090909 0.59090909\n",
      " 0.59090909 0.59090909 0.59090909 0.59090909 0.59090909 0.59090909\n",
      " 0.59090909 0.59090909 0.59090909 0.59090909 0.59090909 0.59090909\n",
      " 0.59090909 0.59090909 0.59090909 0.59090909 0.59090909 0.59090909\n",
      " 0.59090909 0.59090909 0.59090909 0.59090909 0.59090909 0.59090909\n",
      " 0.59090909 0.59090909 0.59090909 0.59090909 0.59090909 0.59090909\n",
      " 0.59090909 0.59090909 0.59090909 0.59090909 0.59090909 0.59090909\n",
      " 0.59090909 0.59090909 0.59090909 0.59090909 0.59090909 0.59090909\n",
      " 0.59090909 0.59090909 0.59090909 0.59090909]\n",
      "____best n_comp: 1\n",
      "____best score: 0.5909\n",
      "Iteration No: 5 ended. Evaluation done at random point.\n",
      "Time taken: 47.3984\n",
      "Function value obtained: -0.5909\n",
      "Current minimum: -0.5909\n",
      "Iteration No: 6 started. Evaluating function at random point.\n",
      "__mu=1.7729e-06, amnesic=0.48\n"
     ]
    },
    {
     "name": "stdout",
     "output_type": "stream",
     "text": [
      "[0.59090909 0.59090909 0.59090909 0.59090909 0.59090909 0.59090909\n",
      " 0.59090909 0.59090909 0.59090909 0.59090909 0.59090909 0.59090909\n",
      " 0.59090909 0.59090909 0.59090909 0.59090909 0.59090909 0.59090909\n",
      " 0.59090909 0.59090909 0.59090909 0.59090909 0.59090909 0.59090909\n",
      " 0.59090909 0.59090909 0.59090909 0.59090909 0.59090909 0.59090909\n",
      " 0.59090909 0.59090909 0.59090909 0.59090909 0.59090909 0.59090909\n",
      " 0.59090909 0.59090909 0.59090909 0.59090909 0.59090909 0.59090909\n",
      " 0.59090909 0.59090909 0.59090909 0.59090909 0.59090909 0.59090909\n",
      " 0.59090909 0.59090909 0.59090909 0.59090909 0.59090909 0.59090909\n",
      " 0.59090909 0.59090909 0.59090909 0.59090909 0.59090909 0.59090909\n",
      " 0.59090909 0.59090909 0.59090909 0.59090909 0.59090909 0.59090909\n",
      " 0.59090909 0.59090909 0.59090909 0.59090909 0.59090909 0.59090909\n",
      " 0.59090909 0.59090909 0.59090909 0.59090909 0.59090909 0.59090909\n",
      " 0.59090909 0.59090909 0.59090909 0.59090909 0.59090909 0.59090909\n",
      " 0.59090909 0.59090909 0.59090909 0.59090909 0.59090909 0.59090909\n",
      " 0.59090909 0.59090909 0.59090909 0.59090909 0.59090909 0.59090909\n",
      " 0.59090909 0.59090909 0.59090909 0.59090909]\n",
      "____best n_comp: 1\n",
      "____best score: 0.5909\n",
      "Iteration No: 6 ended. Evaluation done at random point.\n",
      "Time taken: 47.4844\n",
      "Function value obtained: -0.5909\n",
      "Current minimum: -0.5909\n",
      "Iteration No: 7 started. Evaluating function at random point.\n",
      "__mu=3.7251e-08, amnesic=0.84\n"
     ]
    },
    {
     "name": "stdout",
     "output_type": "stream",
     "text": [
      "[0.59090909 0.59090909 0.59090909 0.59090909 0.59090909 0.59090909\n",
      " 0.59090909 0.59090909 0.59090909 0.59090909 0.59090909 0.59090909\n",
      " 0.59090909 0.59090909 0.59090909 0.59090909 0.59090909 0.59090909\n",
      " 0.59090909 0.59090909 0.59090909 0.59090909 0.59090909 0.59090909\n",
      " 0.59090909 0.59090909 0.59090909 0.59090909 0.59090909 0.59090909\n",
      " 0.59090909 0.59090909 0.59090909 0.59090909 0.59090909 0.59090909\n",
      " 0.59090909 0.59090909 0.59090909 0.59090909 0.59090909 0.59090909\n",
      " 0.59090909 0.59090909 0.59090909 0.59090909 0.59090909 0.59090909\n",
      " 0.59090909 0.59090909 0.59090909 0.59090909 0.59090909 0.59090909\n",
      " 0.59090909 0.59090909 0.59090909 0.59090909 0.59090909 0.59090909\n",
      " 0.59090909 0.59090909 0.59090909 0.59090909 0.59090909 0.59090909\n",
      " 0.59090909 0.59090909 0.59090909 0.59090909 0.59090909 0.59090909\n",
      " 0.59090909 0.59090909 0.59090909 0.59090909 0.59090909 0.59090909\n",
      " 0.59090909 0.59090909 0.59090909 0.59090909 0.59090909 0.59090909\n",
      " 0.59090909 0.59090909 0.59090909 0.59090909 0.59090909 0.59090909\n",
      " 0.59090909 0.59090909 0.59090909 0.59090909 0.59090909 0.59090909\n",
      " 0.59090909 0.59090909 0.59090909 0.59090909]\n",
      "____best n_comp: 1\n",
      "____best score: 0.5909\n",
      "Iteration No: 7 ended. Evaluation done at random point.\n",
      "Time taken: 47.2346\n",
      "Function value obtained: -0.5909\n",
      "Current minimum: -0.5909\n",
      "Iteration No: 8 started. Evaluating function at random point.\n",
      "__mu=2.2366e-08, amnesic=0.65\n"
     ]
    },
    {
     "name": "stdout",
     "output_type": "stream",
     "text": [
      "[0.59090909 0.59090909 0.59090909 0.59090909 0.59090909 0.59090909\n",
      " 0.59090909 0.59090909 0.59090909 0.59090909 0.59090909 0.59090909\n",
      " 0.59090909 0.59090909 0.59090909 0.59090909 0.59090909 0.59090909\n",
      " 0.59090909 0.59090909 0.59090909 0.59090909 0.59090909 0.59090909\n",
      " 0.59090909 0.59090909 0.59090909 0.59090909 0.59090909 0.59090909\n",
      " 0.59090909 0.59090909 0.59090909 0.59090909 0.59090909 0.59090909\n",
      " 0.59090909 0.59090909 0.59090909 0.59090909 0.59090909 0.59090909\n",
      " 0.59090909 0.59090909 0.59090909 0.59090909 0.59090909 0.59090909\n",
      " 0.59090909 0.59090909 0.59090909 0.59090909 0.59090909 0.59090909\n",
      " 0.59090909 0.59090909 0.59090909 0.59090909 0.59090909 0.59090909\n",
      " 0.59090909 0.59090909 0.59090909 0.59090909 0.59090909 0.59090909\n",
      " 0.59090909 0.59090909 0.59090909 0.59090909 0.59090909 0.59090909\n",
      " 0.59090909 0.59090909 0.59090909 0.59090909 0.59090909 0.59090909\n",
      " 0.59090909 0.59090909 0.59090909 0.59090909 0.59090909 0.59090909\n",
      " 0.59090909 0.59090909 0.59090909 0.59090909 0.59090909 0.59090909\n",
      " 0.59090909 0.59090909 0.59090909 0.59090909 0.59090909 0.59090909\n",
      " 0.59090909 0.59090909 0.59090909 0.59090909]\n",
      "____best n_comp: 1\n",
      "____best score: 0.5909\n",
      "Iteration No: 8 ended. Evaluation done at random point.\n",
      "Time taken: 47.0983\n",
      "Function value obtained: -0.5909\n",
      "Current minimum: -0.5909\n",
      "Iteration No: 9 started. Evaluating function at random point.\n",
      "__mu=2.9714e-08, amnesic=0.96\n"
     ]
    },
    {
     "name": "stdout",
     "output_type": "stream",
     "text": [
      "[0.59090909 0.59090909 0.59090909 0.59090909 0.59090909 0.59090909\n",
      " 0.59090909 0.59090909 0.59090909 0.59090909 0.59090909 0.59090909\n",
      " 0.59090909 0.59090909 0.59090909 0.59090909 0.59090909 0.59090909\n",
      " 0.59090909 0.59090909 0.59090909 0.59090909 0.59090909 0.59090909\n",
      " 0.59090909 0.59090909 0.59090909 0.59090909 0.59090909 0.59090909\n",
      " 0.59090909 0.59090909 0.59090909 0.59090909 0.59090909 0.59090909\n",
      " 0.59090909 0.59090909 0.59090909 0.59090909 0.59090909 0.59090909\n",
      " 0.59090909 0.59090909 0.59090909 0.59090909 0.59090909 0.59090909\n",
      " 0.59090909 0.59090909 0.59090909 0.59090909 0.59090909 0.59090909\n",
      " 0.59090909 0.59090909 0.59090909 0.59090909 0.59090909 0.59090909\n",
      " 0.59090909 0.59090909 0.59090909 0.59090909 0.59090909 0.59090909\n",
      " 0.59090909 0.59090909 0.59090909 0.59090909 0.59090909 0.59090909\n",
      " 0.59090909 0.59090909 0.59090909 0.59090909 0.59090909 0.59090909\n",
      " 0.59090909 0.59090909 0.59090909 0.59090909 0.59090909 0.59090909\n",
      " 0.59090909 0.59090909 0.59090909 0.59090909 0.59090909 0.59090909\n",
      " 0.59090909 0.59090909 0.59090909 0.59090909 0.59090909 0.59090909\n",
      " 0.59090909 0.59090909 0.59090909 0.59090909]\n",
      "____best n_comp: 1\n",
      "____best score: 0.5909\n",
      "Iteration No: 9 ended. Evaluation done at random point.\n",
      "Time taken: 47.1972\n",
      "Function value obtained: -0.5909\n",
      "Current minimum: -0.5909\n",
      "Iteration No: 10 started. Evaluating function at random point.\n",
      "__mu=3.6425e-09, amnesic=0.87\n"
     ]
    },
    {
     "name": "stdout",
     "output_type": "stream",
     "text": [
      "[0.59090909 0.59090909 0.59090909 0.59090909 0.59090909 0.59090909\n",
      " 0.59090909 0.59090909 0.59090909 0.59090909 0.59090909 0.59090909\n",
      " 0.59090909 0.59090909 0.59090909 0.59090909 0.59090909 0.59090909\n",
      " 0.59090909 0.59090909 0.59090909 0.59090909 0.59090909 0.59090909\n",
      " 0.59090909 0.59090909 0.59090909 0.59090909 0.59090909 0.59090909\n",
      " 0.59090909 0.59090909 0.59090909 0.59090909 0.59090909 0.59090909\n",
      " 0.59090909 0.59090909 0.59090909 0.59090909 0.59090909 0.59090909\n",
      " 0.59090909 0.59090909 0.59090909 0.59090909 0.59090909 0.59090909\n",
      " 0.59090909 0.59090909 0.59090909 0.59090909 0.59090909 0.59090909\n",
      " 0.59090909 0.59090909 0.59090909 0.59090909 0.59090909 0.59090909\n",
      " 0.59090909 0.59090909 0.59090909 0.59090909 0.59090909 0.59090909\n",
      " 0.59090909 0.59090909 0.59090909 0.59090909 0.59090909 0.59090909\n",
      " 0.59090909 0.59090909 0.59090909 0.59090909 0.59090909 0.59090909\n",
      " 0.59090909 0.59090909 0.59090909 0.59090909 0.59090909 0.59090909\n",
      " 0.59090909 0.59090909 0.59090909 0.59090909 0.59090909 0.59090909\n",
      " 0.59090909 0.59090909 0.59090909 0.59090909 0.59090909 0.59090909\n",
      " 0.59090909 0.59090909 0.59090909 0.59090909]\n",
      "____best n_comp: 1\n",
      "____best score: 0.5909\n"
     ]
    },
    {
     "name": "stdout",
     "output_type": "stream",
     "text": [
      "Iteration No: 10 ended. Evaluation done at random point.\n",
      "Time taken: 47.2729\n",
      "Function value obtained: -0.5909\n",
      "Current minimum: -0.5909\n",
      "----------------------------------------\n",
      "Best amnesic = 2.3516813385771865e-07\n",
      "Best mu = 0.8442657485810175\n",
      "Best score = -0.5909\n",
      "total time = 473.4s\n"
     ]
    }
   ],
   "source": [
    "tim_tot.tic()\n",
    "res_gp = gp_minimize(Comp_Model_Score, space, n_calls=10,\n",
    "                     random_state=0, verbose=True)\n",
    "\n",
    "print(\"-\"*40)\n",
    "print(f\"Best amnesic = {res_gp.x[0]}\")\n",
    "print(f\"Best mu = {res_gp.x[1]}\")\n",
    "print(f\"Best score = {res_gp.fun:.4f}\")\n",
    "print(f\"total time = {tim_tot.tocvalue():.1f}s\")\n"
   ]
  },
  {
   "cell_type": "code",
   "execution_count": 152,
   "id": "b391212a-ab36-4d06-87a2-ca2329179d02",
   "metadata": {
    "collapsed": false
   },
   "outputs": [],
   "source": [
    "importlib.reload(Code.SGDPLS)\n",
    "from Code.SGDPLS import SGDPLS\n",
    "n_comp_max = 100\n",
    "\n",
    "space  = [ Real(1e-9, 1e-4, name='eta', prior=\"log-uniform\")]\n",
    "\n",
    "@use_named_args(space)\n",
    "def Comp_Model_Score(eta):\n",
    "    X_train, X_test, y_train, y_test = train_test_split(\n",
    "        fea_train, label_train, test_size=0.1, random_state=42)\n",
    "    score_loc = np.zeros((n_comp_max, ))\n",
    "\n",
    "    PLS=SGDPLS(n_components=n_comp_max, eta=eta)\n",
    "    print(f\"__eta={PLS.eta:.4e}\")\n",
    "\n",
    "    PLS.fit(X_train, y_train)\n",
    "    U = PLS.normalize(PLS.x_rotations)\n",
    "    for n_comp in range(1, n_comp_max+1):\n",
    "        X_score_train = norm(np.dot(X_train, U[:,:n_comp]), ord=1, axis=1, keepdims=True)\n",
    "        X_score_test = norm(np.dot(X_test, U[:,:n_comp]), ord=1, axis=1, keepdims=True)\n",
    "        y_pred = LogisticRegression(penalty=None).fit(X_score_train, y_train) \\\n",
    "                                                     .predict(X_score_test)\n",
    "        score_loc[n_comp-1] = accuracy_score(y_test, y_pred)\n",
    "\n",
    "    score = np.nanmax(score_loc)\n",
    "    if (np.isnan(score)):\n",
    "        score = 0\n",
    "        print(\"____failure\")\n",
    "    else:\n",
    "        print(f\"____best n_comp: {np.nanargmax(score_loc)+1:d}\")\n",
    "        print(f\"____best score: {score:.4f}\")\n",
    "    return -score"
   ]
  },
  {
   "cell_type": "code",
   "execution_count": 151,
   "id": "3acb50c7-520f-4daa-ba97-a61445b50261",
   "metadata": {
    "collapsed": false
   },
   "outputs": [
    {
     "name": "stdout",
     "output_type": "stream",
     "text": [
      "Iteration No: 1 started. Evaluating function at random point.\n",
      "__eta=9.2092e-07\n"
     ]
    },
    {
     "name": "stdout",
     "output_type": "stream",
     "text": [
      "____best n_comp: 71\n",
      "____best score: 0.8545\n",
      "Iteration No: 1 ended. Evaluation done at random point.\n",
      "Time taken: 119.5979\n",
      "Function value obtained: -0.8545\n",
      "Current minimum: -0.8545\n",
      "Iteration No: 2 started. Evaluating function at random point.\n",
      "__eta=1.6647e-05\n"
     ]
    },
    {
     "name": "stdout",
     "output_type": "stream",
     "text": [
      "____best n_comp: 66\n",
      "____best score: 0.8455\n",
      "Iteration No: 2 ended. Evaluation done at random point.\n",
      "Time taken: 119.5238\n",
      "Function value obtained: -0.8455\n",
      "Current minimum: -0.8545\n",
      "Iteration No: 3 started. Evaluating function at random point.\n",
      "__eta=1.9486e-05\n"
     ]
    },
    {
     "name": "stdout",
     "output_type": "stream",
     "text": [
      "____best n_comp: 74\n",
      "____best score: 0.8273\n",
      "Iteration No: 3 ended. Evaluation done at random point.\n",
      "Time taken: 119.3137\n",
      "Function value obtained: -0.8273\n",
      "Current minimum: -0.8545\n",
      "Iteration No: 4 started. Evaluating function at random point.\n",
      "__eta=1.7229e-05\n"
     ]
    },
    {
     "name": "stdout",
     "output_type": "stream",
     "text": [
      "____best n_comp: 72\n",
      "____best score: 0.8545\n",
      "Iteration No: 4 ended. Evaluation done at random point.\n",
      "Time taken: 119.2061\n",
      "Function value obtained: -0.8545\n",
      "Current minimum: -0.8545\n",
      "Iteration No: 5 started. Evaluating function at random point.\n",
      "__eta=1.3117e-06\n"
     ]
    },
    {
     "name": "stdout",
     "output_type": "stream",
     "text": [
      "____best n_comp: 78\n",
      "____best score: 0.8500\n",
      "Iteration No: 5 ended. Evaluation done at random point.\n",
      "Time taken: 119.4218\n",
      "Function value obtained: -0.8500\n",
      "Current minimum: -0.8545\n",
      "Iteration No: 6 started. Evaluating function at random point.\n",
      "__eta=8.3543e-08\n"
     ]
    },
    {
     "name": "stdout",
     "output_type": "stream",
     "text": [
      "____best n_comp: 69\n",
      "____best score: 0.8455\n",
      "Iteration No: 6 ended. Evaluation done at random point.\n",
      "Time taken: 119.1299\n",
      "Function value obtained: -0.8455\n",
      "Current minimum: -0.8545\n",
      "Iteration No: 7 started. Evaluating function at random point.\n",
      "__eta=3.0738e-08\n"
     ]
    },
    {
     "name": "stdout",
     "output_type": "stream",
     "text": [
      "____best n_comp: 53\n",
      "____best score: 0.8682\n",
      "Iteration No: 7 ended. Evaluation done at random point.\n",
      "Time taken: 119.4226\n",
      "Function value obtained: -0.8682\n",
      "Current minimum: -0.8682\n",
      "Iteration No: 8 started. Evaluating function at random point.\n",
      "__eta=1.9212e-09\n"
     ]
    },
    {
     "name": "stdout",
     "output_type": "stream",
     "text": [
      "____best n_comp: 64\n",
      "____best score: 0.8636\n",
      "Iteration No: 8 ended. Evaluation done at random point.\n",
      "Time taken: 119.1977\n",
      "Function value obtained: -0.8636\n",
      "Current minimum: -0.8682\n",
      "Iteration No: 9 started. Evaluating function at random point.\n",
      "__eta=2.3082e-08\n"
     ]
    },
    {
     "name": "stdout",
     "output_type": "stream",
     "text": [
      "____best n_comp: 66\n",
      "____best score: 0.8682\n",
      "Iteration No: 9 ended. Evaluation done at random point.\n",
      "Time taken: 119.0737\n",
      "Function value obtained: -0.8682\n",
      "Current minimum: -0.8682\n",
      "Iteration No: 10 started. Evaluating function at random point.\n",
      "__eta=2.4453e-07\n"
     ]
    },
    {
     "name": "stdout",
     "output_type": "stream",
     "text": [
      "____best n_comp: 80\n",
      "____best score: 0.8818\n"
     ]
    },
    {
     "name": "stdout",
     "output_type": "stream",
     "text": [
      "Iteration No: 10 ended. Evaluation done at random point.\n",
      "Time taken: 119.5868\n",
      "Function value obtained: -0.8818\n",
      "Current minimum: -0.8818\n",
      "----------------------------------------\n",
      "Best eta = 2.445263057083992e-07\n",
      "Best score = -0.8818\n",
      "total time = 1193.5s\n"
     ]
    }
   ],
   "source": [
    "tim_tot.tic()\n",
    "res_gp = gp_minimize(Comp_Model_Score, space, n_calls=10,\n",
    "                     random_state=0, verbose=True)\n",
    "\n",
    "print(\"-\"*40)\n",
    "print(f\"Best eta = {res_gp.x[0]}\")\n",
    "print(f\"Best score = {res_gp.fun:.4f}\")\n",
    "print(f\"total time = {tim_tot.tocvalue():.1f}s\")\n"
   ]
  },
  {
   "cell_type": "code",
   "execution_count": 157,
   "id": "da3c941f-ae6e-410f-b99a-31ca93a7d48a",
   "metadata": {
    "collapsed": false
   },
   "outputs": [
    {
     "name": "stdout",
     "output_type": "stream",
     "text": [
      "params={'n_comp': 1}, score=6.2727273e-01, \n"
     ]
    },
    {
     "name": "stdout",
     "output_type": "stream",
     "text": [
      "params={'n_comp': 2}, score=6.4090909e-01, \n"
     ]
    },
    {
     "name": "stdout",
     "output_type": "stream",
     "text": [
      "params={'n_comp': 3}, score=6.2272727e-01, \n"
     ]
    },
    {
     "name": "stdout",
     "output_type": "stream",
     "text": [
      "params={'n_comp': 4}, score=6.1818182e-01, \n"
     ]
    },
    {
     "name": "stdout",
     "output_type": "stream",
     "text": [
      "params={'n_comp': 5}, score=6.1818182e-01, \n",
      "--------------------\n",
      " Error:  Input contains infinity or a value too large for dtype('float64').\n",
      "params={'n_comp': 6}, score=nan, \n",
      "--------------------\n",
      " Error:  Input contains infinity or a value too large for dtype('float64').\n",
      "params={'n_comp': 7}, score=nan, \n",
      "--------------------\n",
      " Error:  Input contains infinity or a value too large for dtype('float64').\n",
      "params={'n_comp': 8}, score=nan, \n",
      "--------------------\n",
      " Error:  Input contains infinity or a value too large for dtype('float64').\n",
      "params={'n_comp': 9}, score=nan, \n",
      "--------------------\n",
      " Error:  Input contains infinity or a value too large for dtype('float64').\n",
      "params={'n_comp': 10}, score=nan, \n",
      "--------------------\n",
      " Error:  Input contains infinity or a value too large for dtype('float64').\n",
      "params={'n_comp': 11}, score=nan, \n",
      "--------------------\n",
      " Error:  Input contains infinity or a value too large for dtype('float64').\n",
      "params={'n_comp': 12}, score=nan, \n",
      "--------------------\n",
      " Error:  Input contains infinity or a value too large for dtype('float64').\n",
      "params={'n_comp': 13}, score=nan, \n",
      "--------------------\n",
      " Error:  Input contains infinity or a value too large for dtype('float64').\n",
      "params={'n_comp': 14}, score=nan, \n",
      "--------------------\n",
      " Error:  Input contains infinity or a value too large for dtype('float64').\n",
      "params={'n_comp': 15}, score=nan, \n",
      "--------------------\n",
      " Error:  Input contains infinity or a value too large for dtype('float64').\n",
      "params={'n_comp': 16}, score=nan, \n",
      "--------------------\n",
      " Error:  Input contains infinity or a value too large for dtype('float64').\n",
      "params={'n_comp': 17}, score=nan, \n",
      "--------------------\n",
      " Error:  Input contains infinity or a value too large for dtype('float64').\n",
      "params={'n_comp': 18}, score=nan, \n",
      "--------------------\n",
      " Error:  Input contains infinity or a value too large for dtype('float64').\n",
      "params={'n_comp': 19}, score=nan, \n",
      "--------------------\n",
      " Error:  Input contains infinity or a value too large for dtype('float64').\n",
      "params={'n_comp': 20}, score=nan, \n",
      "--------------------\n",
      " Error:  Input contains infinity or a value too large for dtype('float64').\n",
      "params={'n_comp': 21}, score=nan, \n",
      "--------------------\n",
      " Error:  Input contains infinity or a value too large for dtype('float64').\n",
      "params={'n_comp': 22}, score=nan, \n",
      "--------------------\n",
      " Error:  Input contains infinity or a value too large for dtype('float64').\n",
      "params={'n_comp': 23}, score=nan, \n",
      "--------------------\n",
      " Error:  Input contains infinity or a value too large for dtype('float64').\n",
      "params={'n_comp': 24}, score=nan, \n",
      "--------------------\n",
      " Error:  Input contains infinity or a value too large for dtype('float64').\n",
      "params={'n_comp': 25}, score=nan, \n",
      "--------------------\n",
      " Error:  Input contains infinity or a value too large for dtype('float64').\n",
      "params={'n_comp': 26}, score=nan, \n",
      "--------------------\n",
      " Error:  Input contains infinity or a value too large for dtype('float64').\n",
      "params={'n_comp': 27}, score=nan, \n",
      "--------------------\n",
      " Error:  Input contains infinity or a value too large for dtype('float64').\n",
      "params={'n_comp': 28}, score=nan, \n",
      "--------------------\n",
      " Error:  Input contains infinity or a value too large for dtype('float64').\n",
      "params={'n_comp': 29}, score=nan, \n",
      "--------------------\n",
      " Error:  Input contains infinity or a value too large for dtype('float64').\n",
      "params={'n_comp': 30}, score=nan, \n",
      "--------------------\n",
      " Error:  Input contains infinity or a value too large for dtype('float64').\n",
      "params={'n_comp': 31}, score=nan, \n",
      "--------------------\n",
      " Error:  Input contains infinity or a value too large for dtype('float64').\n",
      "params={'n_comp': 32}, score=nan, \n",
      "--------------------\n",
      " Error:  Input contains infinity or a value too large for dtype('float64').\n",
      "params={'n_comp': 33}, score=nan, \n",
      "--------------------\n",
      " Error:  Input contains infinity or a value too large for dtype('float64').\n",
      "params={'n_comp': 34}, score=nan, \n",
      "--------------------\n",
      " Error:  Input contains infinity or a value too large for dtype('float64').\n",
      "params={'n_comp': 35}, score=nan, \n"
     ]
    },
    {
     "name": "stdout",
     "output_type": "stream",
     "text": [
      "--------------------\n",
      " Error:  Input contains infinity or a value too large for dtype('float64').\n",
      "params={'n_comp': 36}, score=nan, \n",
      "--------------------\n",
      " Error:  Input contains infinity or a value too large for dtype('float64').\n",
      "params={'n_comp': 37}, score=nan, \n",
      "--------------------\n",
      " Error:  Input contains infinity or a value too large for dtype('float64').\n",
      "params={'n_comp': 38}, score=nan, \n",
      "--------------------\n",
      " Error:  Input contains infinity or a value too large for dtype('float64').\n",
      "params={'n_comp': 39}, score=nan, \n",
      "--------------------\n",
      " Error:  Input contains infinity or a value too large for dtype('float64').\n",
      "params={'n_comp': 40}, score=nan, \n",
      "--------------------\n",
      " Error:  Input contains infinity or a value too large for dtype('float64').\n",
      "params={'n_comp': 41}, score=nan, \n",
      "--------------------\n",
      " Error:  Input contains infinity or a value too large for dtype('float64').\n",
      "params={'n_comp': 42}, score=nan, \n",
      "--------------------\n",
      " Error:  Input contains infinity or a value too large for dtype('float64').\n",
      "params={'n_comp': 43}, score=nan, \n",
      "--------------------\n",
      " Error:  Input contains infinity or a value too large for dtype('float64').\n",
      "params={'n_comp': 44}, score=nan, \n",
      "--------------------\n",
      " Error:  Input contains infinity or a value too large for dtype('float64').\n",
      "params={'n_comp': 45}, score=nan, \n",
      "--------------------\n",
      " Error:  Input contains infinity or a value too large for dtype('float64').\n",
      "params={'n_comp': 46}, score=nan, \n",
      "--------------------\n",
      " Error:  Input contains infinity or a value too large for dtype('float64').\n",
      "params={'n_comp': 47}, score=nan, \n",
      "--------------------\n",
      " Error:  Input contains infinity or a value too large for dtype('float64').\n",
      "params={'n_comp': 48}, score=nan, \n",
      "--------------------\n",
      " Error:  Input contains infinity or a value too large for dtype('float64').\n",
      "params={'n_comp': 49}, score=nan, \n",
      "\n",
      "best parameter: {'n_comp': 2}; score: 6.4090909e-01; \n"
     ]
    }
   ],
   "source": [
    " import Code.CIPLS\n",
    "importlib.reload(Code.CIPLS)\n",
    "from Code.CIPLS import CIPLS\n",
    "\n",
    "n_comp_lst=list(range(1,50))\n",
    "scores = []\n",
    "params = []\n",
    "for n_comp in n_comp_lst:\n",
    "    pls = CIPLS(n_components=n_comp)\n",
    "    scores.append(Batch_Update_CV(pls, fea_train, y_train))\n",
    "    params.append({'n_comp': n_comp})\n",
    "    print(f\"params={params[-1]}, score={scores[-1]:.7e}, \")\n",
    "\n",
    "best_ind = np.nanargmax(scores)\n",
    "print(\"\")\n",
    "print(f\"best parameter: {params[best_ind]}; score: {scores[best_ind]:.7e}; \")"
   ]
  },
  {
   "cell_type": "code",
   "execution_count": null,
   "id": "6ee4003e-5cbb-4b1e-8907-032b6295e01e",
   "metadata": {
    "collapsed": false
   },
   "outputs": [],
   "source": [
    "import Code.SGDPLS\n",
    "importlib.reload(Code.SGDPLS)\n",
    "from Code.SGDPLS import SGDPLS\n",
    "\n",
    "n_comp_lst=list(range(30,36))\n",
    "scores = []\n",
    "params = []\n",
    "for n_comp in n_comp_lst:\n",
    "    pls = SGDPLS(n_components=n_comp)\n",
    "    scores.append(Batch_Update_CV(pls, fea_train, y_train))\n",
    "    params.append({'n_comp': n_comp})\n",
    "    print(f\"params={params[-1]}, score={scores[-1]:.7e}, \")\n",
    "\n",
    "best_ind = np.nanargmax(scores)\n",
    "print(\"\")\n",
    "print(f\"best parameter: {params[best_ind]}; score: {scores[best_ind]:.7e}; \")"
   ]
  },
  {
   "cell_type": "code",
   "execution_count": null,
   "id": "4ebe1fa2-8b71-4600-a43f-a1e09ad34eef",
   "metadata": {
    "collapsed": false
   },
   "outputs": [],
   "source": []
  }
 ],
 "metadata": {
  "kernelspec": {
   "argv": [
    "/home/tingan/miniconda3/envs/pls/bin/python",
    "-m",
    "ipykernel_launcher",
    "-f",
    "{connection_file}"
   ],
   "display_name": "Python 3 (ipykernel)",
   "env": null,
   "interrupt_mode": "signal",
   "language": "python",
   "metadata": {
    "debugger": true
   },
   "name": "python3"
  },
  "name": "CV_LFW.ipynb"
 },
 "nbformat": 4,
 "nbformat_minor": 5
}
