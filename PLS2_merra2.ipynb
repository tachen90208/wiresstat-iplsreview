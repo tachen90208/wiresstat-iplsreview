{
 "cells": [
  {
   "cell_type": "code",
   "execution_count": 2,
   "id": "16b94288-d84f-419e-8af7-4b2ef7b0625f",
   "metadata": {
    "collapsed": false,
    "jupyter": {
     "outputs_hidden": false
    }
   },
   "outputs": [],
   "source": [
    "import importlib\n",
    "import copy\n",
    "import pickle\n",
    "# --------------------\n",
    "from sklearn.utils import gen_batches, check_array\n",
    "from sklearn.model_selection import GridSearchCV, TimeSeriesSplit\n",
    "from sklearn.metrics import root_mean_squared_error as RMSE\n",
    "from sklearn.utils.validation import FLOAT_DTYPES\n",
    "import numpy as np\n",
    "from numpy.linalg import norm,inv,matrix_rank, pinv\n",
    "# --------------------\n",
    "import h5py\n",
    "import datetime\n",
    "import Code.ISIMPLS\n",
    "import Code.SIMPLS\n",
    "import Code.SVDPLS\n",
    "# import warnings\n",
    "# warnings.filterwarnings('ignore')\n",
    "\n",
    "from pytictoc import TicToc\n",
    "tim=TicToc()\n",
    "tim_tot = TicToc()"
   ]
  },
  {
   "cell_type": "code",
   "execution_count": 3,
   "id": "8119ca6a-990a-4d0d-98fb-1c5887f0434a",
   "metadata": {
    "collapsed": false
   },
   "outputs": [],
   "source": [
    "def RollingCV(tscv,X):\n",
    "    cv = tscv.split(X)\n",
    "    (train_index, test_index) = next(cv)\n",
    "    yield(\n",
    "        train_index,\n",
    "        test_index\n",
    "    )\n",
    "    test_size = len(test_index)\n",
    "\n",
    "    for (train_index, test_index) in (cv):\n",
    "        yield(\n",
    "            train_index[-test_size:],\n",
    "            test_index\n",
    "        )"
   ]
  },
  {
   "cell_type": "code",
   "execution_count": 3,
   "id": "c703a01b-3ed7-48b5-a535-e0b00865c920",
   "metadata": {
    "collapsed": false
   },
   "outputs": [
    {
     "name": "stdout",
     "output_type": "stream",
     "text": [
      "4412\n"
     ]
    }
   ],
   "source": [
    "with h5py.File('./data/merra2_t.h5', 'r') as f:\n",
    "    X_train, Y_train = f['X_train'], f['Y_train']\n",
    "    n_train = X_train.shape[0]\n",
    "    print(n_train)\n",
    "\n",
    "    X_train = X_train[0:n_train]\n",
    "    Y_train = Y_train[0:n_train]\n",
    "\n",
    "n_fold = 74\n",
    "test_size=30\n",
    "tscv = TimeSeriesSplit(n_splits=n_fold, test_size=test_size)"
   ]
  },
  {
   "cell_type": "code",
   "execution_count": null,
   "id": "b790bfb0-1591-465c-bf74-af4015365c6b",
   "metadata": {
    "collapsed": false
   },
   "outputs": [],
   "source": [
    "with h5py.File('./data/TW_PM25.h5', 'r') as f:\n",
    "    X_train, Y_train = f['X_train'], f['Y_train']\n",
    "    n_train = X_train.shape[0]\n",
    "    print(n_train)\n",
    "\n",
    "    X_train = X_train[0:n_train]\n",
    "    Y_train = Y_train[0:n_train]\n",
    "\n",
    "n_fold = 17\n",
    "test_size=30\n",
    "tscv = TimeSeriesSplit(n_splits=n_fold, test_size=test_size)"
   ]
  },
  {
   "cell_type": "code",
   "execution_count": 4,
   "id": "ce21d931-3053-42b2-abe4-7e221acd0e4c",
   "metadata": {
    "collapsed": false,
    "jupyter": {
     "outputs_hidden": false
    }
   },
   "outputs": [
    {
     "name": "stdout",
     "output_type": "stream",
     "text": [
      "(4412, 30456)\n",
      "(4412, 30456)\n",
      "Fold 0:\n",
      "  Train: len=2192\n",
      "  Test:  len=30\n",
      "Fold 1:\n",
      "  Train: len=2222\n",
      "  Test:  len=30\n",
      "Fold 2:\n",
      "  Train: len=2252\n",
      "  Test:  len=30\n",
      "Fold 3:\n",
      "  Train: len=2282\n",
      "  Test:  len=30\n",
      "Fold 4:\n",
      "  Train: len=2312\n",
      "  Test:  len=30\n",
      "  Train: [   0    1    2 ... 2309 2310 2311]\n",
      "  Test:  [2312 2313 2314 2315 2316 2317 2318 2319 2320 2321 2322 2323 2324 2325\n",
      " 2326 2327 2328 2329 2330 2331 2332 2333 2334 2335 2336 2337 2338 2339\n",
      " 2340 2341]\n",
      "========================================\n",
      "Fold 0:\n",
      "  Train: len=2192\n",
      "  Test:  len=30\n",
      "Fold 1:\n",
      "  Train: len=30\n",
      "  Test:  len=30\n",
      "Fold 2:\n",
      "  Train: len=30\n",
      "  Test:  len=30\n",
      "Fold 3:\n",
      "  Train: len=30\n",
      "  Test:  len=30\n",
      "Fold 4:\n",
      "  Train: len=30\n",
      "  Test:  len=30\n",
      "  Train: [2282 2283 2284 2285 2286 2287 2288 2289 2290 2291 2292 2293 2294 2295\n",
      " 2296 2297 2298 2299 2300 2301 2302 2303 2304 2305 2306 2307 2308 2309\n",
      " 2310 2311]\n",
      "  Test:  [2312 2313 2314 2315 2316 2317 2318 2319 2320 2321 2322 2323 2324 2325\n",
      " 2326 2327 2328 2329 2330 2331 2332 2333 2334 2335 2336 2337 2338 2339\n",
      " 2340 2341]\n"
     ]
    }
   ],
   "source": [
    "print(X_train.shape)\n",
    "print(Y_train.shape)\n",
    "\n",
    "for i, (train_index, test_index) in enumerate(tscv.split(X_train)):\n",
    "    print(f\"Fold {i}:\")\n",
    "    print(f\"  Train: len={len(train_index)}\")\n",
    "    print(f\"  Test:  len={len(test_index)}\")\n",
    "    if(i>3):\n",
    "        print(f\"  Train: {train_index}\")\n",
    "        print(f\"  Test:  {test_index}\")\n",
    "        break\n",
    "\n",
    "print(\"=\"*40)\n",
    "for i, (train_index, test_index) in enumerate(RollingCV(tscv,X_train)):\n",
    "    print(f\"Fold {i}:\")\n",
    "    print(f\"  Train: len={len(train_index)}\")\n",
    "    print(f\"  Test:  len={len(test_index)}\")\n",
    "    if(i>3):\n",
    "        print(f\"  Train: {train_index}\")\n",
    "        print(f\"  Test:  {test_index}\")\n",
    "        break"
   ]
  },
  {
   "cell_type": "code",
   "execution_count": 5,
   "id": "d29b0726-9e8d-401e-81bd-341312ee7845",
   "metadata": {
    "collapsed": false
   },
   "outputs": [],
   "source": [
    "def gen_slice_month(tim_st,tim_ed):\n",
    "    tim = datetime.datetime.strptime(tim_st, \"%Y%m%d\")\n",
    "    date_ed = datetime.datetime.strptime(  tim_ed, \"%Y%m%d\")\n",
    "    ind_st = 0\n",
    "    batches  = []\n",
    "    trainset = []\n",
    "    samples  = []\n",
    "    count = 0\n",
    "    while (tim < date_ed ):\n",
    "        Year = tim.strftime(\"%Y\")\n",
    "        Month = tim.strftime(\"%m\")\n",
    "        if Month == '12':\n",
    "            NextYYMM = \"{:04d}01\".format(int(tim.strftime(\"%Y\"))+1)\n",
    "        else:\n",
    "            NextYYMM = Year+\"{:02d}\".format(int(tim.strftime(\"%m\"))+1)\n",
    "        tmp = datetime.datetime.strptime(  NextYYMM+\"01\" , \"%Y%m%d\")\n",
    "        if (tmp > date_ed):\n",
    "            tmp = date_ed\n",
    "        days = (tmp - tim ).days\n",
    "        ind_ed = ind_st + days\n",
    "        batches.append(slice(ind_st,ind_ed))\n",
    "        trainset.append(slice(ind_ed))\n",
    "        samples.append(ind_ed)\n",
    "        ind_st = ind_ed\n",
    "        tim += datetime.timedelta(days=days)\n",
    "    return batches,trainset,samples"
   ]
  },
  {
   "cell_type": "code",
   "execution_count": 6,
   "id": "ed0387fd-1290-4ba1-ac21-b1263de52daa",
   "metadata": {
    "collapsed": false
   },
   "outputs": [],
   "source": [
    "# tim_st = '20200602'\n",
    "# tim_ed = '20221027'\n",
    "tim_st = '20110401'\n",
    "tim_ed = '20230430'\n",
    "batches, trainset, samples = gen_slice_month(tim_st,tim_ed)\n",
    "train_ind = trainset[-1]\n",
    "\n",
    "def RunExp(method, PLS, case, save):\n",
    "    tim = TicToc()\n",
    "    timlist=np.zeros((2, len(batches)))\n",
    "    timlist[0] = np.array(samples)\n",
    "    if (case==1):\n",
    "        for i,s in enumerate(batches):\n",
    "            tim.tic()\n",
    "            PLS.fit(X_train[s], Y_train[s])\n",
    "            timlist[1,i] = tim.tocvalue()\n",
    "    else:\n",
    "        for i,s in enumerate(trainset):\n",
    "            tim.tic()\n",
    "            PLS.fit(X_train[s], Y_train[s])\n",
    "            timlist[1,i] = tim.tocvalue()\n",
    "\n",
    "    if (method != 'NIPALS'):\n",
    "        PLS._comp_coef(PLS.n_components)\n",
    "    coef = PLS.coef_\n",
    "\n",
    "    if (save==1):\n",
    "        with h5py.File(f\"./Results/PLS2_merra2_{method}.h5\", \"w\") as f:\n",
    "            f_coef = f.create_dataset('coef', data=coef, maxshape=coef.shape, chunks=True)\n",
    "            f_tim = f.create_dataset('timer', data=timlist, maxshape=timlist.shape, chunks=True)\n",
    "\n",
    "def Read_Results(method):\n",
    "    with h5py.File(f\"./Results/PLS2_merra2_{method}.h5\", \"r\") as f:\n",
    "        dat={'timer': f['timer'][:],\n",
    "             'coef':  f['coef'][:]}\n",
    "    return dat"
   ]
  },
  {
   "cell_type": "code",
   "execution_count": 7,
   "id": "1112e91d-7248-47c3-8f3e-aa8c2ca9dd0b",
   "metadata": {
    "collapsed": false
   },
   "outputs": [
    {
     "name": "stdout",
     "output_type": "stream",
     "text": [
      "elapsed time: 62.79370711800016\n"
     ]
    }
   ],
   "source": [
    "importlib.reload(Code.SVDPLS)\n",
    "from Code.SVDPLS import ISVDPLS\n",
    "\n",
    "save=1\n",
    "tim.tic()\n",
    "PLS= ISVDPLS(n_components=7)\n",
    "RunExp('ISVDPLS', PLS, 1, save)\n",
    "print(\"elapsed time:\", tim.tocvalue() )"
   ]
  },
  {
   "cell_type": "code",
   "execution_count": 8,
   "id": "8f6213f2-67d4-4bfc-be76-e3bc66a77712",
   "metadata": {
    "collapsed": false
   },
   "outputs": [
    {
     "name": "stdout",
     "output_type": "stream",
     "text": [
      "elapsed time: 85689.701900918\n"
     ]
    }
   ],
   "source": [
    "importlib.reload(Code.ISIMPLS)\n",
    "from Code.ISIMPLS import ISIMPLS2 as ISIMPLS\n",
    "\n",
    "save=1\n",
    "tim.tic()\n",
    "PLS= ISIMPLS(n_components=63)\n",
    "RunExp('ISIMPLS', PLS, 1, save)\n",
    "print(\"elapsed time:\", tim.tocvalue() )"
   ]
  },
  {
   "cell_type": "code",
   "execution_count": 9,
   "id": "149d62fa-b7e3-4d6e-ac5e-b9ae01c6cd84",
   "metadata": {
    "collapsed": false
   },
   "outputs": [
    {
     "name": "stdout",
     "output_type": "stream",
     "text": [
      "elapsed time: 91343.14170543599\n"
     ]
    }
   ],
   "source": [
    "importlib.reload(Code.SIMPLS)\n",
    "from Code.SIMPLS import SIMPLS\n",
    "\n",
    "save=1\n",
    "tim.tic()\n",
    "PLS= SIMPLS(n_components=63)\n",
    "RunExp('SIMPLS', PLS, 0, save)\n",
    "print(\"elapsed time:\", tim.tocvalue() )"
   ]
  },
  {
   "cell_type": "code",
   "execution_count": 7,
   "id": "51842eeb-bb29-4187-ad1e-2833d4d3942a",
   "metadata": {
    "collapsed": false
   },
   "outputs": [
    {
     "name": "stdout",
     "output_type": "stream",
     "text": [
      "SIMPLS v.s. ISIMPLS\n"
     ]
    },
    {
     "name": "stdout",
     "output_type": "stream",
     "text": [
      "coef Error:    5.2018630e-05\n"
     ]
    }
   ],
   "source": [
    "SIMPLS  = Read_Results('SIMPLS')\n",
    "ISIMPLS = Read_Results('ISIMPLS')\n",
    "\n",
    "print(\"SIMPLS v.s. ISIMPLS\")\n",
    "print(\"coef Error:  {:15.7e}\".format(RMSE(SIMPLS['coef'], ISIMPLS['coef'])))"
   ]
  },
  {
   "cell_type": "code",
   "execution_count": 8,
   "id": "a4d0c3ce-6df8-4e6f-9cf3-c6cfd106dc7a",
   "metadata": {
    "collapsed": false
   },
   "outputs": [
    {
     "data": {
      "image/png": "[encoded data removed]",
      "text/plain": [
       "<Figure size 640x480 with 1 Axes>"
      ]
     },
     "metadata": {},
     "output_type": "display_data"
    }
   ],
   "source": [
    "import matplotlib.pyplot as plt\n",
    "\n",
    "N_steps= len(ISIMPLS['timer'][0])\n",
    "fig, ax = plt.subplots()\n",
    "plt.subplots_adjust(right=.65)\n",
    "plt.style.use('ggplot')\n",
    "ms = 4\n",
    "\n",
    "plt.subplots_adjust(right=.78)\n",
    "\n",
    "plt.plot(range(1,N_steps+1), ISIMPLS['timer'][1],\n",
    "                label='ISIMPLS', ls='', marker='s', markersize=ms, fillstyle='none')\n",
    "plt.plot(range(1,N_steps+1), SIMPLS['timer'][1],\n",
    "                label='SIMPLS', ls='', marker='s', markersize=ms, fillstyle='none')\n",
    "\n",
    "ax.set_xlabel(\"Experimental steps\")\n",
    "ax.set_ylabel(\"Time(s)\")\n",
    "ax.legend(bbox_to_anchor=(1.02,1), loc='upper left')\n",
    "plt.savefig('./fig/merra2_inc.pdf')\n"
   ]
  },
  {
   "cell_type": "code",
   "execution_count": null,
   "id": "5a7c133b-1610-4837-83b5-fc3ebd77304d",
   "metadata": {
    "collapsed": false
   },
   "outputs": [],
   "source": []
  }
 ],
 "metadata": {
  "kernelspec": {
   "argv": [
    "/home/tingan/miniconda3/envs/pls/bin/python",
    "-m",
    "ipykernel_launcher",
    "-f",
    "{connection_file}"
   ],
   "display_name": "Python 3 (ipykernel)",
   "env": null,
   "interrupt_mode": "signal",
   "language": "python",
   "metadata": {
    "debugger": true
   },
   "name": "python3"
  },
  "language_info": {
   "codemirror_mode": {
    "name": "ipython",
    "version": 3
   },
   "file_extension": ".py",
   "mimetype": "text/x-python",
   "name": "python",
   "nbconvert_exporter": "python",
   "pygments_lexer": "ipython3",
   "version": "3.10.11"
  },
  "name": "PLS2_merra2.ipynb"
 },
 "nbformat": 4,
 "nbformat_minor": 5
}
