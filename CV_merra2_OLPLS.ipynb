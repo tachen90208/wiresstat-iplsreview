{
 "cells": [
  {
   "cell_type": "code",
   "execution_count": 73,
   "id": "16b94288-d84f-419e-8af7-4b2ef7b0625f",
   "metadata": {
    "collapsed": false,
    "jupyter": {
     "outputs_hidden": false
    }
   },
   "outputs": [],
   "source": [
    "import importlib\n",
    "import copy\n",
    "import pickle\n",
    "# --------------------\n",
    "from sklearn.utils import gen_batches, check_array\n",
    "from sklearn.model_selection import GridSearchCV, TimeSeriesSplit\n",
    "from sklearn.metrics import root_mean_squared_error as RMSE\n",
    "from sklearn.utils.validation import FLOAT_DTYPES\n",
    "import numpy as np\n",
    "from numpy.linalg import norm,inv,matrix_rank, pinv\n",
    "# --------------------\n",
    "from skopt.space import Integer, Real\n",
    "from skopt.utils import use_named_args\n",
    "from skopt import gp_minimize\n",
    "# --------------------\n",
    "import h5py\n",
    "import Code.OLPLS\n",
    "import warnings\n",
    "warnings.filterwarnings('ignore')\n",
    "\n",
    "from pytictoc import TicToc\n",
    "tim=TicToc()\n",
    "tim_tot = TicToc()"
   ]
  },
  {
   "cell_type": "code",
   "execution_count": 68,
   "id": "8119ca6a-990a-4d0d-98fb-1c5887f0434a",
   "metadata": {
    "collapsed": false
   },
   "outputs": [],
   "source": [
    "def RollingCV(tscv,X):\n",
    "    cv = tscv.split(X)\n",
    "    (train_index, test_index) = next(cv)\n",
    "    yield(\n",
    "        train_index,\n",
    "        test_index\n",
    "    )\n",
    "    test_size = len(test_index)\n",
    "\n",
    "    for (train_index, test_index) in (cv):\n",
    "        yield(\n",
    "            train_index[-test_size:],\n",
    "            test_index\n",
    "        )"
   ]
  },
  {
   "cell_type": "code",
   "execution_count": null,
   "id": "c703a01b-3ed7-48b5-a535-e0b00865c920",
   "metadata": {
    "collapsed": false
   },
   "outputs": [],
   "source": [
    "with h5py.File('./data/merra2_t.h5', 'r') as f:\n",
    "    X_train, Y_train = f['X_train'], f['Y_train']\n",
    "    n_train = X_train.shape[0]\n",
    "    print(n_train)\n",
    "\n",
    "    X_train = X_train[0:n_train]\n",
    "    Y_train = Y_train[0:n_train]\n",
    "\n",
    "n_fold = 74\n",
    "test_size=30    "
   ]
  },
  {
   "cell_type": "code",
   "execution_count": null,
   "id": "fdaa85cb-13a7-4593-8ad4-abe969438b7b",
   "metadata": {
    "collapsed": false
   },
   "outputs": [],
   "source": [
    "with h5py.File('./data/TW_PM25.h5', 'r') as f:\n",
    "    X_train, Y_train = f['X_train'], f['Y_train']\n",
    "    n_train = X_train.shape[0]\n",
    "    print(n_train)\n",
    "        \n",
    "    X_train = X_train[0:n_train]\n",
    "    Y_train = Y_train[0:n_train]\n",
    "n_fold = 17\n",
    "test_size=30"
   ]
  },
  {
   "cell_type": "code",
   "execution_count": 64,
   "id": "5dc5eb64-8353-42ff-a5d7-7197ebdaa687",
   "metadata": {
    "collapsed": false
   },
   "outputs": [],
   "source": [
    "def dump_PLS(PLS, fn):\n",
    "    np.savez(fn,\n",
    "             n=PLS.n,\n",
    "             n_comp=PLS.n_components,\n",
    "             W = PLS.W,\n",
    "             y_loadings = PLS.C,\n",
    "             x_loadings = PLS.P\n",
    "             )\n",
    "\n",
    "def predict(dat, X, n_comp):\n",
    "    X = check_array(X, copy=copy, dtype=FLOAT_DTYPES)\n",
    "    W = dat['W'][:,:n_comp]\n",
    "    x_loadings = dat['x_loadings'][:,:n_comp]\n",
    "    y_loadings = dat['y_loadings'][:,:n_comp]\n",
    "    x_rotaions = np.dot(W,\n",
    "                        pinv(np.dot(x_loadings.T, W))\n",
    "    )\n",
    "\n",
    "    coef = np.dot(x_rotaions, y_loadings.T)\n",
    "    ypred = np.dot(X, coef)\n",
    "    return ypred\n"
   ]
  },
  {
   "cell_type": "code",
   "execution_count": 70,
   "id": "ce21d931-3053-42b2-abe4-7e221acd0e4c",
   "metadata": {
    "collapsed": false,
    "jupyter": {
     "outputs_hidden": false
    }
   },
   "outputs": [
    {
     "name": "stdout",
     "output_type": "stream",
     "text": [
      "(877, 1800)\n",
      "(877, 1800)\n",
      "Fold 0:\n",
      "  Train: len=367\n",
      "  Test:  len=30\n",
      "Fold 1:\n",
      "  Train: len=397\n",
      "  Test:  len=30\n",
      "Fold 2:\n",
      "  Train: len=427\n",
      "  Test:  len=30\n",
      "Fold 3:\n",
      "  Train: len=457\n",
      "  Test:  len=30\n",
      "Fold 4:\n",
      "  Train: len=487\n",
      "  Test:  len=30\n",
      "  Train: [  0   1   2   3   4   5   6   7   8   9  10  11  12  13  14  15  16  17\n",
      "  18  19  20  21  22  23  24  25  26  27  28  29  30  31  32  33  34  35\n",
      "  36  37  38  39  40  41  42  43  44  45  46  47  48  49  50  51  52  53\n",
      "  54  55  56  57  58  59  60  61  62  63  64  65  66  67  68  69  70  71\n",
      "  72  73  74  75  76  77  78  79  80  81  82  83  84  85  86  87  88  89\n",
      "  90  91  92  93  94  95  96  97  98  99 100 101 102 103 104 105 106 107\n",
      " 108 109 110 111 112 113 114 115 116 117 118 119 120 121 122 123 124 125\n",
      " 126 127 128 129 130 131 132 133 134 135 136 137 138 139 140 141 142 143\n",
      " 144 145 146 147 148 149 150 151 152 153 154 155 156 157 158 159 160 161\n",
      " 162 163 164 165 166 167 168 169 170 171 172 173 174 175 176 177 178 179\n",
      " 180 181 182 183 184 185 186 187 188 189 190 191 192 193 194 195 196 197\n",
      " 198 199 200 201 202 203 204 205 206 207 208 209 210 211 212 213 214 215\n",
      " 216 217 218 219 220 221 222 223 224 225 226 227 228 229 230 231 232 233\n",
      " 234 235 236 237 238 239 240 241 242 243 244 245 246 247 248 249 250 251\n",
      " 252 253 254 255 256 257 258 259 260 261 262 263 264 265 266 267 268 269\n",
      " 270 271 272 273 274 275 276 277 278 279 280 281 282 283 284 285 286 287\n",
      " 288 289 290 291 292 293 294 295 296 297 298 299 300 301 302 303 304 305\n",
      " 306 307 308 309 310 311 312 313 314 315 316 317 318 319 320 321 322 323\n",
      " 324 325 326 327 328 329 330 331 332 333 334 335 336 337 338 339 340 341\n",
      " 342 343 344 345 346 347 348 349 350 351 352 353 354 355 356 357 358 359\n",
      " 360 361 362 363 364 365 366 367 368 369 370 371 372 373 374 375 376 377\n",
      " 378 379 380 381 382 383 384 385 386 387 388 389 390 391 392 393 394 395\n",
      " 396 397 398 399 400 401 402 403 404 405 406 407 408 409 410 411 412 413\n",
      " 414 415 416 417 418 419 420 421 422 423 424 425 426 427 428 429 430 431\n",
      " 432 433 434 435 436 437 438 439 440 441 442 443 444 445 446 447 448 449\n",
      " 450 451 452 453 454 455 456 457 458 459 460 461 462 463 464 465 466 467\n",
      " 468 469 470 471 472 473 474 475 476 477 478 479 480 481 482 483 484 485\n",
      " 486]\n",
      "  Test:  [487 488 489 490 491 492 493 494 495 496 497 498 499 500 501 502 503 504\n",
      " 505 506 507 508 509 510 511 512 513 514 515 516]\n",
      "========================================\n",
      "Fold 0:\n",
      "  Train: len=367\n",
      "  Test:  len=30\n",
      "Fold 1:\n",
      "  Train: len=30\n",
      "  Test:  len=30\n",
      "Fold 2:\n",
      "  Train: len=30\n",
      "  Test:  len=30\n",
      "Fold 3:\n",
      "  Train: len=30\n",
      "  Test:  len=30\n",
      "Fold 4:\n",
      "  Train: len=30\n",
      "  Test:  len=30\n",
      "  Train: [457 458 459 460 461 462 463 464 465 466 467 468 469 470 471 472 473 474\n",
      " 475 476 477 478 479 480 481 482 483 484 485 486]\n",
      "  Test:  [487 488 489 490 491 492 493 494 495 496 497 498 499 500 501 502 503 504\n",
      " 505 506 507 508 509 510 511 512 513 514 515 516]\n"
     ]
    }
   ],
   "source": [
    "print(X_train.shape)\n",
    "print(Y_train.shape)\n",
    "\n",
    "tscv = TimeSeriesSplit(n_splits=n_fold, test_size=test_size)\n",
    "for i, (train_index, test_index) in enumerate(tscv.split(X_train)):\n",
    "    print(f\"Fold {i}:\")\n",
    "    print(f\"  Train: len={len(train_index)}\")\n",
    "    print(f\"  Test:  len={len(test_index)}\")\n",
    "    if(i>3):\n",
    "        print(f\"  Train: {train_index}\")\n",
    "        print(f\"  Test:  {test_index}\")\n",
    "        break\n",
    "\n",
    "print(\"=\"*40)\n",
    "for i, (train_index, test_index) in enumerate(RollingCV(tscv,X_train)):\n",
    "    print(f\"Fold {i}:\")\n",
    "    print(f\"  Train: len={len(train_index)}\")\n",
    "    print(f\"  Test:  len={len(test_index)}\")\n",
    "    if(i>3):\n",
    "        print(f\"  Train: {train_index}\")\n",
    "        print(f\"  Test:  {test_index}\")\n",
    "        break"
   ]
  },
  {
   "cell_type": "code",
   "execution_count": 71,
   "id": "fdfe4f95-24dc-47ac-900e-c0baf72d4515",
   "metadata": {
    "collapsed": false
   },
   "outputs": [
    {
     "name": "stdout",
     "output_type": "stream",
     "text": [
      "n_comp: [1, 2, 3, 4, 5, 6, 7, 8, 9, 10, 11, 12, 13, 14, 15, 16] ; len= 16\n",
      "mu_list: [1e-05, 1e-07, 1e-09] ; len= 3\n",
      "amnesic_list: ; len= 5\n"
     ]
    }
   ],
   "source": [
    "n_comp_max=16\n",
    "n_comp_list=list(range(1,n_comp_max+1))\n",
    "mu_list= [1e-5, 1e-7, 1e-9]\n",
    "amnesic_list= [1e-2] + list(np.arange(0.1,1.0,0.4)) + [0.99]\n",
    "# n_comp_max=100\n",
    "# mu_list= [1e-5, 1e-6, 1e-7, 1e-8]\n",
    "# amnesic_list= [1e-2] + list(np.arange(0.1,1.0,0.1)) + [0.99]\n",
    "\n",
    "print(\"n_comp:\", n_comp_list, \"; len=\", len(n_comp_list))\n",
    "print(\"mu_list:\", mu_list, \"; len=\", len(mu_list))\n",
    "print(\"amnesic_list:\", \"; len=\", len(amnesic_list))\n",
    "\n"
   ]
  },
  {
   "cell_type": "code",
   "execution_count": 37,
   "id": "e0323b72-ef5c-4fd1-80fa-d5c3878688b8",
   "metadata": {
    "collapsed": false
   },
   "outputs": [
    {
     "name": "stdout",
     "output_type": "stream",
     "text": [
      "----------------------------------------\n",
      "mu=1.000000e-05; amnesic=0.01; fold: 01\n",
      "illegal value in 4th argument of internal gesdd\n",
      "----------------------------------------\n",
      "mu=1.000000e-05; amnesic=0.01; fold: 01, elapsed time: 39.0s\n"
     ]
    },
    {
     "name": "stdout",
     "output_type": "stream",
     "text": [
      "----------------------------------------\n",
      "mu=1.000000e-05; amnesic=0.10; fold: 01\n",
      "illegal value in 4th argument of internal gesdd\n",
      "----------------------------------------\n",
      "mu=1.000000e-05; amnesic=0.10; fold: 01, elapsed time: 38.8s\n"
     ]
    },
    {
     "name": "stdout",
     "output_type": "stream",
     "text": [
      "----------------------------------------\n",
      "mu=1.000000e-05; amnesic=0.50; fold: 01\n",
      "illegal value in 4th argument of internal gesdd\n",
      "----------------------------------------\n",
      "mu=1.000000e-05; amnesic=0.50; fold: 01, elapsed time: 38.8s\n"
     ]
    },
    {
     "name": "stdout",
     "output_type": "stream",
     "text": [
      "----------------------------------------\n",
      "mu=1.000000e-05; amnesic=0.90; fold: 01\n",
      "illegal value in 4th argument of internal gesdd\n",
      "----------------------------------------\n",
      "mu=1.000000e-05; amnesic=0.90; fold: 01, elapsed time: 38.6s\n"
     ]
    },
    {
     "name": "stdout",
     "output_type": "stream",
     "text": [
      "----------------------------------------\n",
      "mu=1.000000e-05; amnesic=0.99; fold: 01\n",
      "illegal value in 4th argument of internal gesdd\n",
      "----------------------------------------\n",
      "mu=1.000000e-05; amnesic=0.99; fold: 01, elapsed time: 38.6s\n"
     ]
    },
    {
     "name": "stdout",
     "output_type": "stream",
     "text": [
      "----------------------------------------\n",
      "mu=1.000000e-07; amnesic=0.01; fold: 01\n",
      "illegal value in 4th argument of internal gesdd\n",
      "----------------------------------------\n",
      "mu=1.000000e-07; amnesic=0.01; fold: 01, elapsed time: 38.6s\n"
     ]
    },
    {
     "name": "stdout",
     "output_type": "stream",
     "text": [
      "----------------------------------------\n",
      "mu=1.000000e-07; amnesic=0.10; fold: 01\n",
      "illegal value in 4th argument of internal gesdd\n",
      "----------------------------------------\n",
      "mu=1.000000e-07; amnesic=0.10; fold: 01, elapsed time: 38.9s\n"
     ]
    },
    {
     "name": "stdout",
     "output_type": "stream",
     "text": [
      "----------------------------------------\n",
      "mu=1.000000e-07; amnesic=0.50; fold: 01\n",
      "illegal value in 4th argument of internal gesdd\n",
      "----------------------------------------\n",
      "mu=1.000000e-07; amnesic=0.50; fold: 01, elapsed time: 39.0s\n"
     ]
    },
    {
     "name": "stdout",
     "output_type": "stream",
     "text": [
      "----------------------------------------\n",
      "mu=1.000000e-07; amnesic=0.90; fold: 01\n",
      "illegal value in 4th argument of internal gesdd\n",
      "----------------------------------------\n",
      "mu=1.000000e-07; amnesic=0.90; fold: 01, elapsed time: 38.7s\n"
     ]
    },
    {
     "name": "stdout",
     "output_type": "stream",
     "text": [
      "----------------------------------------\n",
      "mu=1.000000e-07; amnesic=0.99; fold: 01\n",
      "illegal value in 4th argument of internal gesdd\n",
      "----------------------------------------\n",
      "mu=1.000000e-07; amnesic=0.99; fold: 01, elapsed time: 38.6s\n"
     ]
    },
    {
     "name": "stdout",
     "output_type": "stream",
     "text": [
      "----------------------------------------\n",
      "mu=1.000000e-09; amnesic=0.01; fold: 11\n",
      "illegal value in 4th argument of internal gesdd\n",
      "----------------------------------------\n",
      "mu=1.000000e-09; amnesic=0.01; fold: 11, elapsed time: 73.6s\n"
     ]
    },
    {
     "name": "stdout",
     "output_type": "stream",
     "text": [
      "----------------------------------------\n",
      "mu=1.000000e-09; amnesic=0.10; fold: 11\n",
      "illegal value in 4th argument of internal gesdd\n",
      "----------------------------------------\n",
      "mu=1.000000e-09; amnesic=0.10; fold: 11, elapsed time: 75.4s\n"
     ]
    },
    {
     "name": "stdout",
     "output_type": "stream",
     "text": [
      "[nan, nan, nan, nan, nan, nan, nan, nan, nan, nan, nan, nan, nan, nan, nan, nan, nan, nan, nan, nan, nan, nan, nan, nan, nan, nan, nan, nan, nan, nan, nan, nan, nan, nan, nan, nan, nan, nan, nan, nan, nan, nan, nan, nan, nan, nan, nan, nan, nan, nan, nan, nan, nan, nan, nan, nan, nan, nan, nan, nan, nan, nan, nan, nan, nan, nan, nan, nan, nan, nan, nan, nan, nan, nan, nan, nan, nan, nan, nan, nan, nan, nan, nan, nan, nan, nan, nan, nan, nan, nan, nan, nan, nan, nan, nan, nan, nan, nan, nan, nan, nan, nan, nan, nan, nan, nan, nan, nan, nan, nan, nan, nan, nan, nan, nan, nan, nan, nan, nan, nan, nan, nan, nan, nan, nan, nan, nan, nan, nan, nan, nan, nan, nan, nan, nan, nan, nan, nan, nan, nan, nan, nan, nan, nan, nan, nan, nan, nan, nan, nan, nan, nan, nan, nan, nan, nan, nan, nan, nan, nan, nan, nan, nan, nan, nan, nan, nan, nan, nan, nan, nan, nan, nan, nan, nan, nan, nan, nan, nan, nan, nan, nan, nan, nan, nan, nan, nan, nan, nan, nan, nan, nan, 8.468475622098396, 8.879133521134285, 9.105119644067598, 9.223193490642155, 9.30106144390246, 9.35340161598223, 9.392182443089045, 9.421382356713607, 9.444511415715924, 9.463073043678241, 9.478417967820372, 9.49124196341208, 9.502162669979178, 9.511547249347101, 9.519715011223786, 9.526877753772986, 8.495406463764208, 8.899425787775531, 9.103388326195692, 9.221782216806417, 9.298030997446748, 9.350891039956169, 9.389577831147292, 9.419077737210722, 9.44230102616029, 9.461052464766222, 9.476507823898046, 9.489464856171427, 9.500483493482005, 9.509968153500807, 9.518218153698903, 9.525459739026411, 8.562808441139126, 8.917850213961612, 9.105206432576404, 9.218458753942489, 9.293417495590067, 9.346188314410448, 9.385126204913366, 9.414948076890111, 9.438483536854173, 9.45751651718039, 9.4732205208807, 9.486396322634635, 9.497607931246705, 9.507263616826037, 9.515666009647536, 9.523044115843605]\n",
      "\n",
      "best parameter: {'mu': 1e-09, 'amnesic': 0.5, 'n_comp': 1}; score: 8.4684756e+00; total time=826.0s\n",
      "[nan, nan, nan, nan, nan, nan, nan, nan, nan, nan, nan, nan, nan, nan, nan, nan, nan, nan, nan, nan, nan, nan, nan, nan, nan, nan, nan, nan, nan, nan, nan, nan, nan, nan, nan, nan, nan, nan, nan, nan, nan, nan, nan, nan, nan, nan, nan, nan, nan, nan, nan, nan, nan, nan, nan, nan, nan, nan, nan, nan, nan, nan, nan, nan, nan, nan, nan, nan, nan, nan, nan, nan, nan, nan, nan, nan, nan, nan, nan, nan, nan, nan, nan, nan, nan, nan, nan, nan, nan, nan, nan, nan, nan, nan, nan, nan, nan, nan, nan, nan, nan, nan, nan, nan, nan, nan, nan, nan, nan, nan, nan, nan, nan, nan, nan, nan, nan, nan, nan, nan, nan, nan, nan, nan, nan, nan, nan, nan, nan, nan, nan, nan, nan, nan, nan, nan, nan, nan, nan, nan, nan, nan, nan, nan, nan, nan, nan, nan, nan, nan, nan, nan, nan, nan, nan, nan, nan, nan, nan, nan, nan, nan, nan, nan, nan, nan, nan, nan, nan, nan, nan, nan, nan, nan, nan, nan, nan, nan, nan, nan, nan, nan, nan, nan, nan, nan, nan, nan, nan, nan, nan, nan, 8.468475622098396, 8.879133521134285, 9.105119644067598, 9.223193490642155, 9.30106144390246, 9.35340161598223, 9.392182443089045, 9.421382356713607, 9.444511415715924, 9.463073043678241, 9.478417967820372, 9.49124196341208, 9.502162669979178, 9.511547249347101, 9.519715011223786, 9.526877753772986, 8.495406463764208, 8.899425787775531, 9.103388326195692, 9.221782216806417, 9.298030997446748, 9.350891039956169, 9.389577831147292, 9.419077737210722, 9.44230102616029, 9.461052464766222, 9.476507823898046, 9.489464856171427, 9.500483493482005, 9.509968153500807, 9.518218153698903, 9.525459739026411, 8.562808441139126, 8.917850213961612, 9.105206432576404, 9.218458753942489, 9.293417495590067, 9.346188314410448, 9.385126204913366, 9.414948076890111, 9.438483536854173, 9.45751651718039, 9.4732205208807, 9.486396322634635, 9.497607931246705, 9.507263616826037, 9.515666009647536, 9.523044115843605]\n"
     ]
    }
   ],
   "source": [
    "importlib.reload(Code.OLPLS)\n",
    "from Code.OLPLS import OLPLS\n",
    "\n",
    "scores = []\n",
    "params = []\n",
    "\n",
    "tim_tot.tic()\n",
    "for mu in mu_list:\n",
    "    for amnesic in amnesic_list:\n",
    "        PLS = OLPLS(n_components=n_comp_max, mu=mu, amnesic=amnesic)\n",
    "        tim.tic()\n",
    "        score_loc = np.zeros((n_fold, len(n_comp_list)))\n",
    "        for i,(train_index, test_index) in enumerate(RollingCV(tscv, X_train)):\n",
    "            PLS.fit(X_train[train_index], Y_train[train_index])\n",
    "            y_true = Y_train[test_index]\n",
    "            try:\n",
    "                for j,n_comp in enumerate(n_comp_list):\n",
    "                    y_pred = PLS.predict(X_train[test_index], n_comp)\n",
    "                    score_loc[i,j] = RMSE(y_true, y_pred)\n",
    "            except Exception as e:\n",
    "                print(\"-\"*40)\n",
    "                print(f\"mu={mu:.1e}; amnesic={amnesic:.2f}; \"\n",
    "                      +f\"fold: {i+1:02d}\")\n",
    "                print(e)\n",
    "                print(\"-\"*40, \"\\n\")\n",
    "                score_loc[:,:] = np.nan\n",
    "                break\n",
    "\n",
    "        wrk = score_loc.mean(axis=0)\n",
    "        for j,n_comp in enumerate(n_comp_list):\n",
    "            scores.append(wrk[j])\n",
    "            params.append({'mu': mu, 'amnesic': amnesic, 'n_comp': n_comp})\n",
    "\n",
    "        if (i%5==0):\n",
    "            print(f\"mu={mu:.1e}; amnesic={amnesic:.2f}; \"\n",
    "                  +f\"fold: {i+1:02d}, elapsed time: {tim.tocvalue():.1f}s\")\n",
    "            tim.tic()\n",
    "\n",
    "\n",
    "print(scores)\n",
    "best_ind = np.nanargmin(scores)\n",
    "print(\"\")\n",
    "print(f\"best parameter: {params[best_ind]}; score: {scores[best_ind]:.7e}; \"\n",
    "      + f\"total time={tim_tot.tocvalue():.1f}s\")\n"
   ]
  },
  {
   "cell_type": "code",
   "execution_count": 55,
   "id": "fcb8885a-f13f-422d-9b95-f41393a5fd96",
   "metadata": {
    "collapsed": false
   },
   "outputs": [
    {
     "name": "stdout",
     "output_type": "stream",
     "text": [
      "{'mu': 1e-09, 'amnesic': 0.01, 'n_comp': 10} nan\n",
      "{'mu': 1e-09, 'amnesic': 0.1, 'n_comp': 10} nan\n",
      "{'mu': 1e-09, 'amnesic': 0.5, 'n_comp': 10} 9.463073043678241\n",
      "{'mu': 1e-09, 'amnesic': 0.9, 'n_comp': 10} 9.461052464766222\n",
      "{'mu': 1e-09, 'amnesic': 0.99, 'n_comp': 10} 9.45751651718039\n"
     ]
    }
   ],
   "source": [
    "for i in range(-2,3):\n",
    "    ind = best_ind+9+16*i\n",
    "    print(params[ind], scores[ind])"
   ]
  },
  {
   "cell_type": "code",
   "execution_count": 121,
   "id": "e3f96cee-79ca-40fa-93bd-0113929221fa",
   "metadata": {
    "collapsed": false
   },
   "outputs": [],
   "source": [
    "importlib.reload(Code.OLPLS)\n",
    "from Code.OLPLS import OLPLS\n",
    "\n",
    "space  = [Real(1e-9, 1e-5, name='mu', prior=\"log-uniform\"),\n",
    "          Real(0, 1, name='amnesic')]\n",
    "\n",
    "@use_named_args(space)\n",
    "def Comp_Model_Score(mu, amnesic):\n",
    "    PLS=OLPLS(n_components=n_comp_max, mu=mu, amnesic=amnesic)\n",
    "    print(f\"__mu={PLS.mu:.4e}, amnesic={PLS.amnesic:.2f}\")\n",
    "    scores_loc = np.zeros((n_fold,n_comp_max))\n",
    "    tim.tic()\n",
    "    for i,(train_index, test_index) in enumerate(RollingCV(tscv, X_train)):\n",
    "        PLS.fit(X_train[train_index], Y_train[train_index])\n",
    "        if(i%10==0):\n",
    "            print(f\"____fold: {i+1:02d}, elapsed time: {tim.tocvalue():.1f}s\")\n",
    "            tim.tic()\n",
    "\n",
    "        y_true = Y_train[test_index]\n",
    "        for j,n_comp in enumerate(range(1,n_comp_max+1)):\n",
    "            try:\n",
    "                y_pred = PLS.predict(X_train[test_index], n_comp)\n",
    "                scores_loc[i,j] = RMSE(y_true, y_pred)\n",
    "            except Exception as e:\n",
    "                scores_loc[i,j] = np.nan\n",
    "\n",
    "    scores = scores_loc.mean(axis=0)\n",
    "    scores_min = np.nanmin(scores)\n",
    "\n",
    "    if(np.isnan(scores_min)):\n",
    "        scores_min=9.9999e+50\n",
    "        print(\"__failure\")\n",
    "    else:\n",
    "        print(\"scores: \", scores[:5])\n",
    "        print(f\"__best n_comp: {np.nanargmin(scores)+1:d}\")\n",
    "\n",
    "    return scores_min\n"
   ]
  },
  {
   "cell_type": "code",
   "execution_count": 122,
   "id": "59af0678-6b19-43b5-a43e-912132659ebe",
   "metadata": {
    "collapsed": false
   },
   "outputs": [
    {
     "name": "stdout",
     "output_type": "stream",
     "text": [
      "Iteration No: 1 started. Evaluating function at random point.\n",
      "__mu=2.3517e-07, amnesic=0.84\n"
     ]
    },
    {
     "name": "stdout",
     "output_type": "stream",
     "text": [
      "____fold: 01, elapsed time: 38.7s\n"
     ]
    },
    {
     "name": "stdout",
     "output_type": "stream",
     "text": [
      "____fold: 11, elapsed time: 32.1s\n"
     ]
    },
    {
     "name": "stdout",
     "output_type": "stream",
     "text": [
      "__failure\n",
      "Iteration No: 1 ended. Evaluation done at random point.\n",
      "Time taken: 90.0656\n",
      "Function value obtained: 999990000000000010022458331596220993686065066803200.0000\n",
      "Current minimum: 999990000000000010022458331596220993686065066803200.0000\n",
      "Iteration No: 2 started. Evaluating function at random point.\n",
      "__mu=2.7026e-06, amnesic=0.85\n"
     ]
    },
    {
     "name": "stdout",
     "output_type": "stream",
     "text": [
      "____fold: 01, elapsed time: 38.4s\n"
     ]
    },
    {
     "name": "stdout",
     "output_type": "stream",
     "text": [
      "____fold: 11, elapsed time: 32.1s\n"
     ]
    },
    {
     "name": "stdout",
     "output_type": "stream",
     "text": [
      "__failure\n",
      "Iteration No: 2 ended. Evaluation done at random point.\n",
      "Time taken: 89.7012\n",
      "Function value obtained: 999990000000000010022458331596220993686065066803200.0000\n",
      "Current minimum: 999990000000000010022458331596220993686065066803200.0000\n",
      "Iteration No: 3 started. Evaluating function at random point.\n",
      "__mu=3.1207e-07, amnesic=0.38\n"
     ]
    },
    {
     "name": "stdout",
     "output_type": "stream",
     "text": [
      "____fold: 01, elapsed time: 38.3s\n"
     ]
    },
    {
     "name": "stdout",
     "output_type": "stream",
     "text": [
      "____fold: 11, elapsed time: 31.8s\n"
     ]
    },
    {
     "name": "stdout",
     "output_type": "stream",
     "text": [
      "__failure\n",
      "Iteration No: 3 ended. Evaluation done at random point.\n",
      "Time taken: 89.1939\n",
      "Function value obtained: 999990000000000010022458331596220993686065066803200.0000\n",
      "Current minimum: 999990000000000010022458331596220993686065066803200.0000\n",
      "Iteration No: 4 started. Evaluating function at random point.\n",
      "__mu=1.5493e-08, amnesic=0.06\n"
     ]
    },
    {
     "name": "stdout",
     "output_type": "stream",
     "text": [
      "____fold: 01, elapsed time: 38.5s\n"
     ]
    },
    {
     "name": "stdout",
     "output_type": "stream",
     "text": [
      "____fold: 11, elapsed time: 32.4s\n"
     ]
    },
    {
     "name": "stdout",
     "output_type": "stream",
     "text": [
      "scores:  [24.39182555         nan         nan         nan         nan]\n",
      "__best n_comp: 1\n",
      "Iteration No: 4 ended. Evaluation done at random point.\n",
      "Time taken: 90.1841\n",
      "Function value obtained: 24.3918\n",
      "Current minimum: 24.3918\n",
      "Iteration No: 5 started. Evaluating function at random point.\n",
      "__mu=1.2320e-08, amnesic=0.48\n"
     ]
    },
    {
     "name": "stdout",
     "output_type": "stream",
     "text": [
      "____fold: 01, elapsed time: 38.4s\n"
     ]
    },
    {
     "name": "stdout",
     "output_type": "stream",
     "text": [
      "____fold: 11, elapsed time: 32.5s\n"
     ]
    },
    {
     "name": "stdout",
     "output_type": "stream",
     "text": [
      "scores:  [8.63092137        nan        nan        nan        nan]\n",
      "__best n_comp: 1\n",
      "Iteration No: 5 ended. Evaluation done at random point.\n",
      "Time taken: 90.7582\n",
      "Function value obtained: 8.6309\n",
      "Current minimum: 8.6309\n",
      "Iteration No: 6 started. Evaluating function at random point.\n",
      "__mu=1.7729e-06, amnesic=0.48\n"
     ]
    },
    {
     "name": "stdout",
     "output_type": "stream",
     "text": [
      "____fold: 01, elapsed time: 38.6s\n"
     ]
    },
    {
     "name": "stdout",
     "output_type": "stream",
     "text": [
      "____fold: 11, elapsed time: 32.1s\n"
     ]
    },
    {
     "name": "stdout",
     "output_type": "stream",
     "text": [
      "__failure\n",
      "Iteration No: 6 ended. Evaluation done at random point.\n",
      "Time taken: 89.9518\n",
      "Function value obtained: 999990000000000010022458331596220993686065066803200.0000\n",
      "Current minimum: 8.6309\n",
      "Iteration No: 7 started. Evaluating function at random point.\n",
      "__mu=3.7251e-08, amnesic=0.84\n"
     ]
    },
    {
     "name": "stdout",
     "output_type": "stream",
     "text": [
      "____fold: 01, elapsed time: 38.4s\n"
     ]
    },
    {
     "name": "stdout",
     "output_type": "stream",
     "text": [
      "____fold: 11, elapsed time: 32.0s\n"
     ]
    },
    {
     "name": "stdout",
     "output_type": "stream",
     "text": [
      "__failure\n",
      "Iteration No: 7 ended. Evaluation done at random point.\n",
      "Time taken: 89.9315\n",
      "Function value obtained: 999990000000000010022458331596220993686065066803200.0000\n",
      "Current minimum: 8.6309\n",
      "Iteration No: 8 started. Evaluating function at random point.\n",
      "__mu=2.2366e-08, amnesic=0.65\n"
     ]
    },
    {
     "name": "stdout",
     "output_type": "stream",
     "text": [
      "____fold: 01, elapsed time: 38.4s\n"
     ]
    },
    {
     "name": "stdout",
     "output_type": "stream",
     "text": [
      "____fold: 11, elapsed time: 32.1s\n"
     ]
    },
    {
     "name": "stdout",
     "output_type": "stream",
     "text": [
      "__failure\n",
      "Iteration No: 8 ended. Evaluation done at random point.\n",
      "Time taken: 89.7439\n",
      "Function value obtained: 999990000000000010022458331596220993686065066803200.0000\n",
      "Current minimum: 8.6309\n",
      "Iteration No: 9 started. Evaluating function at random point.\n",
      "__mu=2.9714e-08, amnesic=0.96\n"
     ]
    },
    {
     "name": "stdout",
     "output_type": "stream",
     "text": [
      "____fold: 01, elapsed time: 38.3s\n"
     ]
    },
    {
     "name": "stdout",
     "output_type": "stream",
     "text": [
      "____fold: 11, elapsed time: 32.0s\n"
     ]
    },
    {
     "name": "stdout",
     "output_type": "stream",
     "text": [
      "__failure\n",
      "Iteration No: 9 ended. Evaluation done at random point.\n",
      "Time taken: 89.6080\n",
      "Function value obtained: 999990000000000010022458331596220993686065066803200.0000\n",
      "Current minimum: 8.6309\n",
      "Iteration No: 10 started. Evaluating function at random point.\n",
      "__mu=3.6425e-09, amnesic=0.87\n"
     ]
    },
    {
     "name": "stdout",
     "output_type": "stream",
     "text": [
      "____fold: 01, elapsed time: 38.3s\n"
     ]
    },
    {
     "name": "stdout",
     "output_type": "stream",
     "text": [
      "____fold: 11, elapsed time: 36.1s\n"
     ]
    },
    {
     "name": "stdout",
     "output_type": "stream",
     "text": [
      "scores:  [7.90189268 8.20083532 8.52050902 8.73524442 8.88381967]\n",
      "__best n_comp: 1\n"
     ]
    },
    {
     "name": "stdout",
     "output_type": "stream",
     "text": [
      "Iteration No: 10 ended. Evaluation done at random point.\n",
      "Time taken: 96.8050\n",
      "Function value obtained: 7.9019\n",
      "Current minimum: 7.9019\n",
      "Iteration No: 11 started. Searching for the next optimal point.\n",
      "__mu=7.6522e-09, amnesic=0.00\n"
     ]
    },
    {
     "name": "stdout",
     "output_type": "stream",
     "text": [
      "____fold: 01, elapsed time: 38.5s\n"
     ]
    },
    {
     "name": "stdout",
     "output_type": "stream",
     "text": [
      "____fold: 11, elapsed time: 32.2s\n"
     ]
    },
    {
     "name": "stdout",
     "output_type": "stream",
     "text": [
      "scores:  [11.2291151        nan        nan        nan        nan]\n",
      "__best n_comp: 1\n"
     ]
    },
    {
     "name": "stdout",
     "output_type": "stream",
     "text": [
      "Iteration No: 11 ended. Search finished for the next optimal point.\n",
      "Time taken: 90.6782\n",
      "Function value obtained: 11.2291\n",
      "Current minimum: 7.9019\n",
      "Iteration No: 12 started. Searching for the next optimal point.\n",
      "__mu=1.1293e-08, amnesic=0.09\n"
     ]
    },
    {
     "name": "stdout",
     "output_type": "stream",
     "text": [
      "____fold: 01, elapsed time: 38.3s\n"
     ]
    },
    {
     "name": "stdout",
     "output_type": "stream",
     "text": [
      "____fold: 11, elapsed time: 32.2s\n"
     ]
    },
    {
     "name": "stdout",
     "output_type": "stream",
     "text": [
      "scores:  [9.0852349       nan       nan       nan       nan]\n",
      "__best n_comp: 1\n"
     ]
    },
    {
     "name": "stdout",
     "output_type": "stream",
     "text": [
      "Iteration No: 12 ended. Search finished for the next optimal point.\n",
      "Time taken: 90.6950\n",
      "Function value obtained: 9.0852\n",
      "Current minimum: 7.9019\n",
      "Iteration No: 13 started. Searching for the next optimal point.\n",
      "__mu=6.7514e-09, amnesic=0.64\n"
     ]
    },
    {
     "name": "stdout",
     "output_type": "stream",
     "text": [
      "____fold: 01, elapsed time: 38.6s\n"
     ]
    },
    {
     "name": "stdout",
     "output_type": "stream",
     "text": [
      "____fold: 11, elapsed time: 36.5s\n"
     ]
    },
    {
     "name": "stdout",
     "output_type": "stream",
     "text": [
      "scores:  [8.05228409        nan        nan        nan        nan]\n",
      "__best n_comp: 1\n"
     ]
    },
    {
     "name": "stdout",
     "output_type": "stream",
     "text": [
      "Iteration No: 13 ended. Search finished for the next optimal point.\n",
      "Time taken: 95.3587\n",
      "Function value obtained: 8.0523\n",
      "Current minimum: 7.9019\n",
      "Iteration No: 14 started. Searching for the next optimal point.\n",
      "__mu=2.2458e-09, amnesic=0.00\n"
     ]
    },
    {
     "name": "stdout",
     "output_type": "stream",
     "text": [
      "____fold: 01, elapsed time: 38.4s\n"
     ]
    },
    {
     "name": "stdout",
     "output_type": "stream",
     "text": [
      "____fold: 11, elapsed time: 35.1s\n"
     ]
    },
    {
     "name": "stdout",
     "output_type": "stream",
     "text": [
      "scores:  [8.04205513        nan        nan        nan        nan]\n",
      "__best n_comp: 1\n"
     ]
    },
    {
     "name": "stdout",
     "output_type": "stream",
     "text": [
      "Iteration No: 14 ended. Search finished for the next optimal point.\n",
      "Time taken: 93.6526\n",
      "Function value obtained: 8.0421\n",
      "Current minimum: 7.9019\n",
      "Iteration No: 15 started. Searching for the next optimal point.\n",
      "__mu=5.3283e-09, amnesic=0.17\n"
     ]
    },
    {
     "name": "stdout",
     "output_type": "stream",
     "text": [
      "____fold: 01, elapsed time: 38.7s\n"
     ]
    },
    {
     "name": "stdout",
     "output_type": "stream",
     "text": [
      "____fold: 11, elapsed time: 32.2s\n"
     ]
    },
    {
     "name": "stdout",
     "output_type": "stream",
     "text": [
      "scores:  [8.12983663        nan        nan        nan        nan]\n",
      "__best n_comp: 1\n"
     ]
    },
    {
     "name": "stdout",
     "output_type": "stream",
     "text": [
      "Iteration No: 15 ended. Search finished for the next optimal point.\n",
      "Time taken: 91.1143\n",
      "Function value obtained: 8.1298\n",
      "Current minimum: 7.9019\n",
      "Iteration No: 16 started. Searching for the next optimal point.\n",
      "__mu=1.2544e-09, amnesic=0.99\n"
     ]
    },
    {
     "name": "stdout",
     "output_type": "stream",
     "text": [
      "____fold: 01, elapsed time: 38.4s\n"
     ]
    },
    {
     "name": "stdout",
     "output_type": "stream",
     "text": [
      "____fold: 11, elapsed time: 36.7s\n"
     ]
    },
    {
     "name": "stdout",
     "output_type": "stream",
     "text": [
      "scores:  [8.42446061 8.79755012 9.00784951 9.1382555  9.22576454]\n",
      "__best n_comp: 1\n"
     ]
    },
    {
     "name": "stdout",
     "output_type": "stream",
     "text": [
      "Iteration No: 16 ended. Search finished for the next optimal point.\n",
      "Time taken: 97.6838\n",
      "Function value obtained: 8.4245\n",
      "Current minimum: 7.9019\n",
      "Iteration No: 17 started. Searching for the next optimal point.\n",
      "__mu=1.6418e-09, amnesic=1.00\n"
     ]
    },
    {
     "name": "stdout",
     "output_type": "stream",
     "text": [
      "____fold: 01, elapsed time: 38.4s\n"
     ]
    },
    {
     "name": "stdout",
     "output_type": "stream",
     "text": [
      "____fold: 11, elapsed time: 35.2s\n"
     ]
    },
    {
     "name": "stdout",
     "output_type": "stream",
     "text": [
      "scores:  [8.42530457 8.67680156 8.86619968 9.00402262 9.10454858]\n",
      "__best n_comp: 1\n"
     ]
    },
    {
     "name": "stdout",
     "output_type": "stream",
     "text": [
      "Iteration No: 17 ended. Search finished for the next optimal point.\n",
      "Time taken: 96.8661\n",
      "Function value obtained: 8.4253\n",
      "Current minimum: 7.9019\n",
      "Iteration No: 18 started. Searching for the next optimal point.\n",
      "__mu=1.0000e-05, amnesic=0.00\n"
     ]
    },
    {
     "name": "stdout",
     "output_type": "stream",
     "text": [
      "____fold: 01, elapsed time: 39.0s\n"
     ]
    },
    {
     "name": "stdout",
     "output_type": "stream",
     "text": [
      "____fold: 11, elapsed time: 32.4s\n"
     ]
    },
    {
     "name": "stdout",
     "output_type": "stream",
     "text": [
      "__failure\n"
     ]
    },
    {
     "name": "stdout",
     "output_type": "stream",
     "text": [
      "Iteration No: 18 ended. Search finished for the next optimal point.\n",
      "Time taken: 91.2842\n",
      "Function value obtained: 999990000000000010022458331596220993686065066803200.0000\n",
      "Current minimum: 7.9019\n",
      "Iteration No: 19 started. Searching for the next optimal point.\n",
      "__mu=3.6014e-09, amnesic=0.42\n"
     ]
    },
    {
     "name": "stdout",
     "output_type": "stream",
     "text": [
      "____fold: 01, elapsed time: 38.6s\n"
     ]
    },
    {
     "name": "stdout",
     "output_type": "stream",
     "text": [
      "____fold: 11, elapsed time: 36.4s\n"
     ]
    },
    {
     "name": "stdout",
     "output_type": "stream",
     "text": [
      "scores:  [8.09100245        nan        nan        nan        nan]\n",
      "__best n_comp: 1\n"
     ]
    },
    {
     "name": "stdout",
     "output_type": "stream",
     "text": [
      "Iteration No: 19 ended. Search finished for the next optimal point.\n",
      "Time taken: 94.8529\n",
      "Function value obtained: 8.0910\n",
      "Current minimum: 7.9019\n",
      "Iteration No: 20 started. Searching for the next optimal point.\n",
      "__mu=1.5276e-08, amnesic=0.06\n"
     ]
    },
    {
     "name": "stdout",
     "output_type": "stream",
     "text": [
      "____fold: 01, elapsed time: 38.6s\n"
     ]
    },
    {
     "name": "stdout",
     "output_type": "stream",
     "text": [
      "____fold: 11, elapsed time: 32.6s\n"
     ]
    },
    {
     "name": "stdout",
     "output_type": "stream",
     "text": [
      "scores:  [8.82438832        nan        nan        nan        nan]\n",
      "__best n_comp: 1\n"
     ]
    },
    {
     "name": "stdout",
     "output_type": "stream",
     "text": [
      "Iteration No: 20 ended. Search finished for the next optimal point.\n",
      "Time taken: 91.1129\n",
      "Function value obtained: 8.8244\n",
      "Current minimum: 7.9019\n",
      "----------------------------------------\n",
      "Best amnesic = 3.6425298685704783e-09\n",
      "Best mu = 0.8700872583584366\n",
      "Best score = 7.9019\n",
      "total time = 1839.3s\n"
     ]
    }
   ],
   "source": [
    "tim_tot.tic()\n",
    "res_gp = gp_minimize(Comp_Model_Score, space, n_calls=20,\n",
    "                     random_state=0, verbose=True)\n",
    "\n",
    "print(\"-\"*40)\n",
    "print(f\"Best amnesic = {res_gp.x[0]}\")\n",
    "print(f\"Best mu = {res_gp.x[1]}\")\n",
    "print(f\"Best score = {res_gp.fun:.4f}\")\n",
    "print(f\"total time = {tim_tot.tocvalue():.1f}s\")\n"
   ]
  },
  {
   "cell_type": "code",
   "execution_count": 102,
   "id": "73bc97ff-5b45-4e51-bc15-84a3bb03a295",
   "metadata": {
    "collapsed": false
   },
   "outputs": [
    {
     "name": "stdout",
     "output_type": "stream",
     "text": [
      "__mu=0.50, amnesic=1.00e-09\n"
     ]
    },
    {
     "name": "stdout",
     "output_type": "stream",
     "text": [
      "____fold: 01, elapsed time: 38.9s\n"
     ]
    },
    {
     "name": "stdout",
     "output_type": "stream",
     "text": [
      "____fold: 11, elapsed time: 32.0s\n"
     ]
    },
    {
     "name": "stdout",
     "output_type": "stream",
     "text": [
      "scores:  [8.56280844 8.91785021 9.10520643 9.21845875 9.2934175  9.34618831\n",
      " 9.3851262  9.41494808 9.43848354 9.45751652 9.47322052 9.48639632\n",
      " 9.49760793 9.50726362 9.51566601 9.52304412]\n",
      "__best n_comp: 1\n"
     ]
    }
   ],
   "source": [
    "importlib.reload(Code.OLPLS)\n",
    "from Code.OLPLS import OLPLS\n",
    "\n",
    "PLS=OLPLS(n_components=n_comp_max, mu=res_gp.x[1], amnesic=res_gp.x[0])\n",
    "# PLS=OLPLS(n_components=n_comp_max, mu=1e-9, amnesic=0.5)\n",
    "print(f\"__mu={PLS.mu:.2f}, amnesic={PLS.amnesic:.2e}\")\n",
    "scores_loc = np.zeros((n_fold,n_comp_max))\n",
    "tim.tic()\n",
    "for i,(train_index, test_index) in enumerate(RollingCV(tscv, X_train)):\n",
    "    PLS.fit(X_train[train_index], Y_train[train_index])\n",
    "    y_true = Y_train[test_index]\n",
    "    for j,n_comp in enumerate(range(1,n_comp_max+1)):\n",
    "        try:\n",
    "            y_pred = PLS.predict(X_train[test_index], n_comp)\n",
    "            scores_loc[i,j] = RMSE(y_true, y_pred)\n",
    "        except Exception as e:\n",
    "            scores_loc[i,j] = np.nan\n",
    "\n",
    "    if(i%10==0):\n",
    "        print(f\"____fold: {i+1:02d}, elapsed time: {tim.tocvalue():.1f}s\")\n",
    "        tim.tic()\n",
    "\n",
    "scores = scores_loc.mean(axis=0)\n",
    "scores_min = np.nanmin(scores)\n",
    "print(\"scores: \", scores[:])\n",
    "print(f\"__best n_comp: {np.nanargmin(scores)+1:d}\")\n",
    "if(np.isnan(scores_min)):\n",
    "    scores_min=9.9999e+100"
   ]
  },
  {
   "cell_type": "code",
   "execution_count": 104,
   "id": "ce3cab20-da78-4d1a-9977-c3075f8b04fe",
   "metadata": {
    "collapsed": false
   },
   "outputs": [
    {
     "name": "stdout",
     "output_type": "stream",
     "text": [
      "scores:  9.45751651718039\n"
     ]
    }
   ],
   "source": [
    "print(\"scores: \", scores[9])    "
   ]
  },
  {
   "cell_type": "code",
   "execution_count": null,
   "id": "01599a37-539f-446d-a6e9-3253c0547103",
   "metadata": {
    "collapsed": false
   },
   "outputs": [],
   "source": [
    "n_calls = int(np.log(n_comp_max)) + 1\n",
    "print(f\"n_calls = {n_calls:d}\")\n",
    "n_calls *= 3\n",
    "\n",
    "tim_tot.tic()\n",
    "res_gp = gp_minimize(Comp_Model_Score, space, n_calls=max(n_calls,10), \n",
    "                     random_state=0, verbose=True)\n",
    "\n",
    "print(\"-\"*40)\n",
    "print(f\"Best param = {res_gp.x[0]:02d}\")\n",
    "print(f\"Best score = {res_gp.fun:.4f}\")\n",
    "print(f\"total time = {tim_tot.tocvalue():.1f}s\")\n"
   ]
  },
  {
   "cell_type": "code",
   "execution_count": null,
   "id": "b4206cab-fa98-4e1f-af19-c3c4752fb99a",
   "metadata": {
    "collapsed": false
   },
   "outputs": [],
   "source": [
    "importlib.reload(Code.OLPLS)\n",
    "from Code.OLPLS import OLPLS\n",
    "\n",
    "scores = []\n",
    "params = []\n",
    "n_comp_list=list(range(100,401,50))\n",
    "\n",
    "tim_tot.tic()\n",
    "for n_comp in n_comp_list:\n",
    "    tim.tic()\n",
    "    pls=OLPLS(n_components=n_comp)\n",
    "    scores.append(Comp_Model_Score(pls, RollingCV(tscv,X_train), X_train, Y_train) )\n",
    "    params.append({'n_components': n_comp})\n",
    "    print(f\"params={params[-1]}, score={scores[-1]:.7e}, \"\n",
    "          +f\"elapsed time={tim.tocvalue():.1f}s\")\n",
    "\n",
    "best_ind = np.nanargmin(scores)\n",
    "print(\"\")\n",
    "print(f\"best parameter: {params[best_ind]}; score: {scores[best_ind]:.7e}; \"\n",
    "      + f\"total time={tim_tot.tocvalue():.1f}s\")\n"
   ]
  }
 ],
 "metadata": {
  "kernelspec": {
   "argv": [
    "/home/tingan/miniconda3/envs/pls/bin/python",
    "-m",
    "ipykernel_launcher",
    "-f",
    "{connection_file}"
   ],
   "display_name": "Python 3 (ipykernel)",
   "env": null,
   "interrupt_mode": "signal",
   "language": "python",
   "metadata": {
    "debugger": true
   },
   "name": "python3"
  },
  "language_info": {
   "codemirror_mode": {
    "name": "ipython",
    "version": 3
   },
   "file_extension": ".py",
   "mimetype": "text/x-python",
   "name": "python",
   "nbconvert_exporter": "python",
   "pygments_lexer": "ipython3",
   "version": "3.10.11"
  },
  "name": "CV_merra2_OLPLS.ipynb"
 },
 "nbformat": 4,
 "nbformat_minor": 5
}
