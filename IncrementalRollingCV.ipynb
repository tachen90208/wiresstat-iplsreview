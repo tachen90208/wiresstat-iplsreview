{
 "cells": [
  {
   "cell_type": "code",
   "execution_count": 54,
   "id": "a40a7156-d816-4b0c-a61f-dae16fec8d1a",
   "metadata": {
    "collapsed": false
   },
   "outputs": [],
   "source": [
    "import importlib\n",
    "# --------------------\n",
    "from sklearn.utils import gen_batches\n",
    "from sklearn.model_selection import GridSearchCV, KFold, TimeSeriesSplit\n",
    "import numpy as np\n",
    "from numpy.linalg import norm,inv,matrix_rank\n",
    "import h5py\n",
    "from sklearn.metrics import root_mean_squared_error as RMSE\n",
    " \n",
    "from Code.SGDPLS import SGDPLS\n",
    "from Code.OLPLS import OLPLS\n",
    "from Code.CIPLS import CIPLS\n",
    "from Code.SIMPLS import SIMPLS\n",
    "from Code.ISIMPLS import ISIMPLS2 as ISIMPLS\n",
    "from Code.IPLS import IPLS\n",
    "# ----------\n",
    "from sklearn.cross_decomposition import PLSRegression\n",
    "from pytictoc import TicToc\n",
    "tictoc=TicToc()"
   ]
  },
  {
   "cell_type": "code",
   "execution_count": 55,
   "id": "e4275935-0a0b-4255-b1b0-3905bffe34ff",
   "metadata": {
    "collapsed": false
   },
   "outputs": [],
   "source": [
    "n_fold=17\n",
    "test_size=30\n",
    "tscv = TimeSeriesSplit(n_splits=n_fold, test_size=test_size)\n",
    "def RollingCV(tscv,X):\n",
    "    cv = tscv.split(X)\n",
    "    (train_index, test_index) = next(cv)\n",
    "    yield(\n",
    "        train_index,\n",
    "        test_index\n",
    "    )\n",
    "    test_size = len(test_index)\n",
    "    \n",
    "    for (train_index, test_index) in (cv):\n",
    "        yield(\n",
    "            train_index[-test_size:],\n",
    "            test_index\n",
    "        )"
   ]
  },
  {
   "cell_type": "code",
   "execution_count": 56,
   "id": "a2e20c23-fa71-445d-8461-29f60a4763c2",
   "metadata": {
    "collapsed": false
   },
   "outputs": [],
   "source": [
    "def Comp_Model_Score(estimator, cv, X, Y):\n",
    "    score = np.zeros((n_fold,))\n",
    "    for i,(train_index, test_index) in enumerate(cv):\n",
    "        estimator.fit(X[train_index], Y[train_index])\n",
    "        y_true = Y[test_index]\n",
    "        y_pred = estimator.predict(X[test_index])\n",
    "        score[i] = RMSE(y_true, y_pred)\n",
    "    return np.mean(score)\n"
   ]
  },
  {
   "cell_type": "code",
   "execution_count": 57,
   "id": "0865aa6e-8d64-49a3-bb35-33642b12507d",
   "metadata": {
    "collapsed": false
   },
   "outputs": [],
   "source": [
    "tmp = h5py.File('./data/TW_PM25.h5', 'r')\n",
    "X_train, Y_train = tmp['X_train'], tmp['Y_train']\n",
    "n_train = X_train.shape[0]\n",
    "\n",
    "X_train = X_train[0:n_train]\n",
    "Y_train = Y_train[0:n_train]\n",
    "tmp.close()"
   ]
  },
  {
   "cell_type": "code",
   "execution_count": 58,
   "id": "809a63cb-ea18-43e8-9dd6-22a20a713c90",
   "metadata": {
    "collapsed": false
   },
   "outputs": [
    {
     "name": "stdout",
     "output_type": "stream",
     "text": [
      "GridSearchCV(cv=TimeSeriesSplit(gap=0, max_train_size=None, n_splits=17, test_size=30),\n",
      "             estimator=ISIMPLS2(), param_grid={'n_components': [7, 8]},\n",
      "             scoring='neg_root_mean_squared_error', verbose=3)\n",
      "Fitting 17 folds for each of 2 candidates, totalling 34 fits\n"
     ]
    },
    {
     "name": "stdout",
     "output_type": "stream",
     "text": [
      "[CV 1/17] END ..................n_components=7;, score=-9.554 total time=   0.6s\n"
     ]
    },
    {
     "name": "stdout",
     "output_type": "stream",
     "text": [
      "[CV 2/17] END ..................n_components=7;, score=-8.446 total time=   0.5s\n"
     ]
    },
    {
     "name": "stdout",
     "output_type": "stream",
     "text": [
      "[CV 3/17] END ..................n_components=7;, score=-8.491 total time=   0.5s\n"
     ]
    },
    {
     "name": "stdout",
     "output_type": "stream",
     "text": [
      "[CV 4/17] END ..................n_components=7;, score=-6.837 total time=   0.5s\n"
     ]
    },
    {
     "name": "stdout",
     "output_type": "stream",
     "text": [
      "[CV 5/17] END ..................n_components=7;, score=-7.788 total time=   0.5s\n"
     ]
    },
    {
     "name": "stdout",
     "output_type": "stream",
     "text": [
      "[CV 6/17] END ..................n_components=7;, score=-7.716 total time=   0.5s\n"
     ]
    },
    {
     "name": "stdout",
     "output_type": "stream",
     "text": [
      "[CV 7/17] END ..................n_components=7;, score=-9.799 total time=   0.5s\n"
     ]
    },
    {
     "name": "stdout",
     "output_type": "stream",
     "text": [
      "[CV 8/17] END ..................n_components=7;, score=-9.766 total time=   0.5s\n"
     ]
    },
    {
     "name": "stdout",
     "output_type": "stream",
     "text": [
      "[CV 9/17] END ..................n_components=7;, score=-8.750 total time=   0.5s\n"
     ]
    },
    {
     "name": "stdout",
     "output_type": "stream",
     "text": [
      "[CV 10/17] END ................n_components=7;, score=-11.358 total time=   0.5s\n"
     ]
    },
    {
     "name": "stdout",
     "output_type": "stream",
     "text": [
      "[CV 11/17] END .................n_components=7;, score=-7.833 total time=   0.5s\n"
     ]
    },
    {
     "name": "stdout",
     "output_type": "stream",
     "text": [
      "[CV 12/17] END .................n_components=7;, score=-7.071 total time=   0.5s\n"
     ]
    },
    {
     "name": "stdout",
     "output_type": "stream",
     "text": [
      "[CV 13/17] END .................n_components=7;, score=-9.737 total time=   0.6s\n"
     ]
    },
    {
     "name": "stdout",
     "output_type": "stream",
     "text": [
      "[CV 14/17] END .................n_components=7;, score=-8.912 total time=   0.5s\n"
     ]
    },
    {
     "name": "stdout",
     "output_type": "stream",
     "text": [
      "[CV 15/17] END .................n_components=7;, score=-8.420 total time=   0.5s\n"
     ]
    },
    {
     "name": "stdout",
     "output_type": "stream",
     "text": [
      "[CV 16/17] END .................n_components=7;, score=-6.580 total time=   0.6s\n"
     ]
    },
    {
     "name": "stdout",
     "output_type": "stream",
     "text": [
      "[CV 17/17] END .................n_components=7;, score=-7.112 total time=   0.6s\n"
     ]
    },
    {
     "name": "stdout",
     "output_type": "stream",
     "text": [
      "[CV 1/17] END ..................n_components=8;, score=-9.587 total time=   0.5s\n"
     ]
    },
    {
     "name": "stdout",
     "output_type": "stream",
     "text": [
      "[CV 2/17] END ..................n_components=8;, score=-8.379 total time=   0.6s\n"
     ]
    },
    {
     "name": "stdout",
     "output_type": "stream",
     "text": [
      "[CV 3/17] END ..................n_components=8;, score=-8.286 total time=   0.6s\n"
     ]
    },
    {
     "name": "stdout",
     "output_type": "stream",
     "text": [
      "[CV 4/17] END ..................n_components=8;, score=-6.787 total time=   0.5s\n"
     ]
    },
    {
     "name": "stdout",
     "output_type": "stream",
     "text": [
      "[CV 5/17] END ..................n_components=8;, score=-8.011 total time=   0.6s\n"
     ]
    },
    {
     "name": "stdout",
     "output_type": "stream",
     "text": [
      "[CV 6/17] END ..................n_components=8;, score=-7.767 total time=   0.6s\n"
     ]
    },
    {
     "name": "stdout",
     "output_type": "stream",
     "text": [
      "[CV 7/17] END ..................n_components=8;, score=-9.418 total time=   0.6s\n"
     ]
    },
    {
     "name": "stdout",
     "output_type": "stream",
     "text": [
      "[CV 8/17] END .................n_components=8;, score=-10.074 total time=   0.6s\n"
     ]
    },
    {
     "name": "stdout",
     "output_type": "stream",
     "text": [
      "[CV 9/17] END ..................n_components=8;, score=-8.839 total time=   0.6s\n"
     ]
    },
    {
     "name": "stdout",
     "output_type": "stream",
     "text": [
      "[CV 10/17] END ................n_components=8;, score=-11.467 total time=   0.6s\n"
     ]
    },
    {
     "name": "stdout",
     "output_type": "stream",
     "text": [
      "[CV 11/17] END .................n_components=8;, score=-7.799 total time=   0.6s\n"
     ]
    },
    {
     "name": "stdout",
     "output_type": "stream",
     "text": [
      "[CV 12/17] END .................n_components=8;, score=-7.123 total time=   0.6s\n"
     ]
    },
    {
     "name": "stdout",
     "output_type": "stream",
     "text": [
      "[CV 13/17] END .................n_components=8;, score=-9.697 total time=   0.6s\n"
     ]
    },
    {
     "name": "stdout",
     "output_type": "stream",
     "text": [
      "[CV 14/17] END .................n_components=8;, score=-8.880 total time=   0.6s\n"
     ]
    },
    {
     "name": "stdout",
     "output_type": "stream",
     "text": [
      "[CV 15/17] END .................n_components=8;, score=-8.504 total time=   0.6s\n"
     ]
    },
    {
     "name": "stdout",
     "output_type": "stream",
     "text": [
      "[CV 16/17] END .................n_components=8;, score=-6.405 total time=   0.6s\n"
     ]
    },
    {
     "name": "stdout",
     "output_type": "stream",
     "text": [
      "[CV 17/17] END .................n_components=8;, score=-6.802 total time=   0.6s\n"
     ]
    },
    {
     "name": "stdout",
     "output_type": "stream",
     "text": [
      "CV elapsed time: 19.44s\n",
      "best parameter:  {'n_components': 8} ; score:  -8.4602085e+00\n"
     ]
    }
   ],
   "source": [
    "import Code.ISIMPLS\n",
    "importlib.reload(Code.ISIMPLS)\n",
    "from Code.ISIMPLS import ISIMPLS2 as ISIMPLS\n",
    "\n",
    "n_comp_lst=list(range(7,9))\n",
    "parameters = {'n_components':n_comp_lst}\n",
    "clf = GridSearchCV(ISIMPLS(),  parameters,\n",
    "                   cv=tscv, verbose=3,  \n",
    "                   scoring='neg_root_mean_squared_error')\n",
    "print(clf)\n",
    "tictoc.tic()\n",
    "clf.fit(X_train, Y_train)\n",
    "print(\"CV elapsed time: {:.2f}s\".format(tictoc.tocvalue()))\n",
    "print(\"best parameter: \", clf.best_params_,\n",
    "      \"; score: {:15.7e}\".format(clf.best_score_))"
   ]
  },
  {
   "cell_type": "code",
   "execution_count": 60,
   "id": "78acc617-d4ff-4ab5-9e4e-a2d34fd5af19",
   "metadata": {
    "collapsed": false
   },
   "outputs": [
    {
     "name": "stdout",
     "output_type": "stream",
     "text": [
      "params={'n_components': 7}, score=8.4804675e+00\n"
     ]
    },
    {
     "name": "stdout",
     "output_type": "stream",
     "text": [
      "params={'n_components': 8}, score=8.4602085e+00\n"
     ]
    },
    {
     "name": "stdout",
     "output_type": "stream",
     "text": [
      "params={'n_components': 9}, score=8.5028565e+00\n",
      "best parameter: {'n_components': 8}; score: 8.4602085e+00\n"
     ]
    }
   ],
   "source": [
    "scores = []\n",
    "params = []\n",
    "n_comp_list=list(range(7,10))\n",
    "for n_comp in n_comp_list:\n",
    "    pls=ISIMPLS(n_components=n_comp)\n",
    "    scores.append(Comp_Model_Score(pls, RollingCV(tscv,X_train), X_train, Y_train) )\n",
    "    params.append({'n_components': n_comp})\n",
    "    print(f\"params={params[-1]}, score={scores[-1]:.7e}\")\n",
    "    \n",
    "\n",
    "best_ind = np.argmin(score)\n",
    "print(f\"best parameter: {params[best_ind]}; score: {score[best_ind]:.7e}\")"
   ]
  },
  {
   "cell_type": "code",
   "execution_count": null,
   "id": "f1bba1f0-7fad-4ef1-ba4d-22ff43ca4891",
   "metadata": {
    "collapsed": false
   },
   "outputs": [],
   "source": []
  }
 ],
 "metadata": {
  "kernelspec": {
   "argv": [
    "python",
    "-m",
    "ipykernel_launcher",
    "-f",
    "{connection_file}"
   ],
   "display_name": "Python 3 (ipykernel)",
   "env": null,
   "interrupt_mode": "signal",
   "language": "python",
   "metadata": {
    "debugger": true
   },
   "name": "python3"
  },
  "name": "IncrementalRollingCV.ipynb"
 },
 "nbformat": 4,
 "nbformat_minor": 5
}
