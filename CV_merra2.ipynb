{
 "cells": [
  {
   "cell_type": "code",
   "execution_count": 15,
   "id": "bb69e081-d7a5-4668-b29b-2ca9c8ce0b99",
   "metadata": {
    "collapsed": false
   },
   "outputs": [],
   "source": [
    "import importlib\n",
    "# --------------------\n",
    "from sklearn.utils import gen_batches\n",
    "from sklearn.model_selection import GridSearchCV, KFold, TimeSeriesSplit\n",
    "import numpy as np\n",
    "from numpy.linalg import norm,inv,matrix_rank\n",
    "import h5py\n",
    "\n",
    "from Code.SGDPLS import SGDPLS\n",
    "from Code.OLPLS import OLPLS\n",
    "from Code.CIPLS import CIPLS\n",
    "from Code.SIMPLS import SIMPLS\n",
    "from Code.IPLS import IPLS\n",
    "# ----------\n",
    "from sklearn.cross_decomposition import PLSRegression\n",
    "from pytictoc import TicToc\n",
    "\n",
    "tictoc=TicToc()"
   ]
  },
  {
   "cell_type": "code",
   "execution_count": 12,
   "id": "934e11cc-da85-4c10-8165-e60c71b71688",
   "metadata": {
    "collapsed": false
   },
   "outputs": [
    {
     "name": "stdout",
     "output_type": "stream",
     "text": [
      "1103\n"
     ]
    }
   ],
   "source": [
    "with h5py.File('./data/merra2_t.h5', 'r') as f:\n",
    "    X_train, Y_train = f['X_train'], f['Y_train']\n",
    "    n_train = X_train.shape[0]\n",
    "    n_train = int(n_train/4)\n",
    "    print(n_train)\n",
    "    \n",
    "    X_train = X_train[0:n_train]\n",
    "    Y_train = Y_train[0:n_train]\n",
    " "
   ]
  },
  {
   "cell_type": "code",
   "execution_count": 14,
   "id": "092d0bda-f956-49c0-bb7d-eea5763bf76e",
   "metadata": {
    "collapsed": false
   },
   "outputs": [
    {
     "name": "stdout",
     "output_type": "stream",
     "text": [
      "Fold 0:\n",
      "  Train: len=563 ~  18.77 months\n",
      "  Test:  len=30\n",
      "Fold 1:\n",
      "  Train: len=593 ~  19.77 months\n",
      "  Test:  len=30\n",
      "Fold 2:\n",
      "  Train: len=623 ~  20.77 months\n",
      "  Test:  len=30\n",
      "Fold 3:\n",
      "  Train: len=653 ~  21.77 months\n",
      "  Test:  len=30\n",
      "Fold 4:\n",
      "  Train: len=683 ~  22.77 months\n",
      "  Test:  len=30\n",
      "Fold 5:\n",
      "  Train: len=713 ~  23.77 months\n",
      "  Test:  len=30\n"
     ]
    }
   ],
   "source": [
    "# tscv = TimeSeriesSplit(n_splits=74, test_size=30)\n",
    "tscv = TimeSeriesSplit(n_splits=18, test_size=30)\n",
    "for i, (train_index, test_index) in enumerate(tscv.split(X_train)):\n",
    "    print(f\"Fold {i}:\")\n",
    "    print(f\"  Train: len={len(train_index)} ~ {len(train_index)/30: .2f} months\")\n",
    "    print(f\"  Test:  len={len(test_index)}\")\n",
    "    if(i>4):\n",
    "        break"
   ]
  },
  {
   "cell_type": "code",
   "execution_count": null,
   "id": "dc21ecf7-1d75-4b9e-b240-b63c1480e7e9",
   "metadata": {
    "collapsed": false
   },
   "outputs": [],
   "source": [
    "tictoc=TicToc()\n",
    "\n",
    "n_comp_lst=list(range(1,11))\n",
    "parameters = {'n_components':n_comp_lst}\n",
    "clf = GridSearchCV(PLSRegression(), parameters,\n",
    "                   cv=tscv, n_jobs=1,\n",
    "                   scoring='neg_root_mean_squared_error')\n",
    "print(clf)\n",
    "tictoc.tic()\n",
    "clf.fit(X_train, Y_train)\n",
    "print(\"CV elapsed time: {:.2f}s\".format(tictoc.tocvalue()))\n",
    "print(\"best parameter: \", clf.best_params_,\n",
    "      \"; score: {:15.7e}\".format(clf.best_score_))"
   ]
  },
  {
   "cell_type": "code",
   "execution_count": null,
   "id": "0b817dc6-f922-4907-bc8c-b69b3237a7bf",
   "metadata": {
    "collapsed": false
   },
   "outputs": [],
   "source": []
  }
 ],
 "metadata": {
  "kernelspec": {
   "argv": [
    "python",
    "-m",
    "ipykernel_launcher",
    "-f",
    "{connection_file}"
   ],
   "display_name": "Python 3 (ipykernel)",
   "env": null,
   "interrupt_mode": "signal",
   "language": "python",
   "metadata": {
    "debugger": true
   },
   "name": "python3"
  },
  "name": "CV_merra2.ipynb"
 },
 "nbformat": 4,
 "nbformat_minor": 5
}
