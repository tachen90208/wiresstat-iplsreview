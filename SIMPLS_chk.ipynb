{
 "cells": [
  {
   "cell_type": "code",
   "execution_count": 2,
   "id": "f7ebcbcc-882b-460c-8804-844ad3e67844",
   "metadata": {
    "collapsed": false
   },
   "outputs": [],
   "source": [
    "import importlib\n",
    "import copy\n",
    "import pickle\n",
    "# --------------------\n",
    "from sklearn.utils import gen_batches, check_array\n",
    "from sklearn.model_selection import GridSearchCV, TimeSeriesSplit\n",
    "from sklearn.metrics import root_mean_squared_error as RMSE\n",
    "from sklearn.utils.validation import FLOAT_DTYPES\n",
    "import numpy as np\n",
    "from numpy.linalg import norm,inv,matrix_rank, pinv\n",
    "# --------------------\n",
    "from skopt.space import Integer\n",
    "from skopt.utils import use_named_args\n",
    "from skopt import gp_minimize\n",
    "# --------------------\n",
    "import h5py\n",
    "import datetime\n",
    "import Code.SIMPLS\n",
    "import Code.ISIMPLS\n",
    "# import warnings\n",
    "# warnings.filterwarnings('ignore')\n",
    "\n",
    "from pytictoc import TicToc\n",
    "tim=TicToc()\n",
    "tim_tot = TicToc()"
   ]
  },
  {
   "cell_type": "code",
   "execution_count": 3,
   "id": "1e681e30-abdf-43a9-b415-f65700e41c9b",
   "metadata": {
    "collapsed": false
   },
   "outputs": [
    {
     "name": "stdout",
     "output_type": "stream",
     "text": [
      "4412\n"
     ]
    }
   ],
   "source": [
    "with h5py.File('./data/merra2_t.h5', 'r') as f:\n",
    "    X_train, Y_train = f['X_train'], f['Y_train']\n",
    "    n_train = X_train.shape[0]\n",
    "    print(n_train)\n",
    "\n",
    "    X_train = X_train[0:n_train]\n",
    "    Y_train = Y_train[0:n_train]\n",
    "\n",
    "n_fold = 74\n",
    "test_size=30\n",
    "n_comp_max=100\n",
    "tscv = TimeSeriesSplit(n_splits=n_fold, test_size=test_size)"
   ]
  },
  {
   "cell_type": "code",
   "execution_count": null,
   "id": "b8bfdb2c-1348-42aa-b01b-ed121e3fdb44",
   "metadata": {
    "collapsed": false
   },
   "outputs": [],
   "source": [
    "def Read_Results(method):\n",
    "    with h5py.File(f\"./Results/PLS2_merra2_{method}.h5\", \"r\") as f:\n",
    "        dat={'timer': f['timer'][:],\n",
    "             'coef':  f['coef'][:]}\n",
    "    return dat\n"
   ]
  },
  {
   "cell_type": "code",
   "execution_count": null,
   "id": "88abe4a7-86fe-4339-b638-050e75846223",
   "metadata": {
    "collapsed": false
   },
   "outputs": [],
   "source": [
    "importlib.reload(Code.ISIMPLS)\n",
    "from Code.ISIMPLS import ISIMPLS2 as ISIMPLS\n",
    "n_comp=63\n",
    "\n",
    "dat = np.load(f'./data/wrk_ISIMPLS/ISIMPLS_fold73.npz')\n",
    "ISIMPLS_RD = ISIMPLS(n_comp)\n",
    "\n",
    "ISIMPLS_RD.W = dat['W'][:,:n_comp]\n",
    "ISIMPLS_RD._x_mean_ = dat['x_mean']\n",
    "ISIMPLS_RD._y_mean_ = dat['y_mean']\n",
    "ISIMPLS_RD.n = dat['n']\n",
    "\n",
    "tscv = TimeSeriesSplit(n_splits=n_fold, test_size=test_size)\n",
    "for i, (train_index, test_index) in enumerate(tscv.split(X_train)):\n",
    "    if (i%5==0):\n",
    "        print(f\"i={i}\")\n",
    "    if (i!=n_fold):\n",
    "        continue\n",
    "    X = X_train[train_index] - ISIMPLS_RD._x_mean_ \n",
    "    Y = Y_train[train_index] - ISIMPLS_RD._y_mean_\n",
    "    ISIMPLS_RD.S = np.dot(X.T, Y)\n",
    "    ISIMPLS_RD.C = np.dot(X.T, X)\n",
    "    \n",
    "ISIMPLS_RD.fit(X_train[test_index], Y_train[test_index])\n",
    "ISIMPLS_RD._comp_coef(n_comp)\n",
    "ISIMPLS_RD.coef_"
   ]
  },
  {
   "cell_type": "code",
   "execution_count": null,
   "id": "3dfa9296-acb0-4a8d-81b7-f1c3f3d7cae7",
   "metadata": {
    "collapsed": false
   },
   "outputs": [],
   "source": [
    "ISIMPLS = Read_Results('ISIMPLS')\n",
    "print(RMSE(ISIMPLS_RD.coef_, ISIMPLS['coef']))"
   ]
  },
  {
   "cell_type": "code",
   "execution_count": null,
   "id": "0120c6dc-54a5-4419-b58e-79e4f74af5ae",
   "metadata": {
    "collapsed": false
   },
   "outputs": [],
   "source": [
    "def gen_slice_month(tim_st,tim_ed):\n",
    "    tim = datetime.datetime.strptime(tim_st, \"%Y%m%d\")\n",
    "    date_ed = datetime.datetime.strptime(  tim_ed, \"%Y%m%d\")\n",
    "    ind_st = 0\n",
    "    batches  = []\n",
    "    trainset = []\n",
    "    samples  = []\n",
    "    count = 0\n",
    "    while (tim < date_ed ):\n",
    "        Year = tim.strftime(\"%Y\")\n",
    "        Month = tim.strftime(\"%m\")\n",
    "        if Month == '12':\n",
    "            NextYYMM = \"{:04d}01\".format(int(tim.strftime(\"%Y\"))+1)\n",
    "        else:\n",
    "            NextYYMM = Year+\"{:02d}\".format(int(tim.strftime(\"%m\"))+1)\n",
    "        tmp = datetime.datetime.strptime(  NextYYMM+\"01\" , \"%Y%m%d\")\n",
    "        if (tmp > date_ed):\n",
    "            tmp = date_ed\n",
    "        days = (tmp - tim ).days\n",
    "        ind_ed = ind_st + days\n",
    "        batches.append(slice(ind_st,ind_ed))\n",
    "        trainset.append(slice(ind_ed))\n",
    "        samples.append(ind_ed)\n",
    "        ind_st = ind_ed\n",
    "        tim += datetime.timedelta(days=days)\n",
    "    return batches,trainset,samples"
   ]
  },
  {
   "cell_type": "code",
   "execution_count": null,
   "id": "34cf6571-f5c4-47f0-b913-66e2f1a3d27b",
   "metadata": {
    "collapsed": false
   },
   "outputs": [],
   "source": [
    "importlib.reload(Code.SIMPLS)\n",
    "from Code.SIMPLS import SIMPLS\n",
    "\n",
    "tim_st = '20110401'\n",
    "tim_ed = '20230430'\n",
    "batches, trainset, samples = gen_slice_month(tim_st,tim_ed)\n",
    "train_ind = trainset[-1]\n",
    "\n",
    "SIMPLS_RD = SIMPLS(n_components=63)\n",
    "SIMPLS_RD.fit(X_train[train_ind], Y_train[train_ind])\n",
    "SIMPLS_RD._comp_coef(n_comp)\n",
    "\n",
    "SIMPLS = Read_Results('SIMPLS')\n",
    "print(RMSE(SIMPLS_RD.coef_, SIMPLS['coef']))"
   ]
  }
 ],
 "metadata": {
  "kernelspec": {
   "argv": [
    "/home/tingan/miniconda3/envs/pls/bin/python",
    "-m",
    "ipykernel_launcher",
    "-f",
    "{connection_file}"
   ],
   "display_name": "Python 3 (ipykernel)",
   "env": null,
   "interrupt_mode": "signal",
   "language": "python",
   "metadata": {
    "debugger": true
   },
   "name": "python3"
  },
  "name": "SIMPLS_chk.ipynb"
 },
 "nbformat": 4,
 "nbformat_minor": 5
}
