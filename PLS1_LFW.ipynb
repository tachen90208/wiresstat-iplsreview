{
 "cells": [
  {
   "cell_type": "code",
   "execution_count": 3,
   "id": "c8ab4ecd-b248-4f86-a9bd-49bc97cffbf9",
   "metadata": {
    "collapsed": false
   },
   "outputs": [],
   "source": [
    "import importlib\n",
    "from sklearn.utils import gen_batches\n",
    "import numpy as np\n",
    "from numpy.linalg import norm\n",
    "from Code.SGDPLS import SGDPLS\n",
    "from Code.OLPLS import OLPLS\n",
    "from Code.CIPLS import CIPLS\n",
    "from Code.SIMPLS import SIMPLS\n",
    "from Code.IPLS import IPLS\n",
    "from Code.PLS1 import IPLS1\n",
    "import h5py\n",
    "# ----------\n",
    "import seaborn as sns\n",
    "from sklearn.metrics import root_mean_squared_error as RMSE\n",
    "from sklearn.metrics import accuracy_score\n",
    "from sklearn.linear_model import LogisticRegression\n",
    "from sklearn.utils import shuffle\n",
    "\n",
    "\n",
    "import matplotlib.pyplot as plt\n",
    "plt.style.use('ggplot')\n",
    "\n",
    "from pytictoc import TicToc\n",
    "tim=TicToc()"
   ]
  },
  {
   "cell_type": "code",
   "execution_count": 4,
   "id": "dfd3f97c-265d-406a-b008-7c662bfad835",
   "metadata": {
    "collapsed": false
   },
   "outputs": [
    {
     "name": "stdout",
     "output_type": "stream",
     "text": [
      "(2200, 512)\n",
      "(1000, 512)\n",
      "(2200,)\n",
      "(1000,)\n"
     ]
    }
   ],
   "source": [
    "with np.load(\"./data/lfw.npz\") as data:\n",
    "    fea_train = data['fea_train']\n",
    "    fea_test  = data['fea_test']\n",
    "    X_train    = data['X_train']\n",
    "    label_train    = data['y_train']\n",
    "    X_test    = data['X_test']\n",
    "    label_test    = data['y_test']\n",
    "print(fea_train.shape)\n",
    "print(fea_test.shape)\n",
    "# print(X_train.shape)\n",
    "# print(X_test.shape)\n",
    "print(label_train.shape)\n",
    "print(label_test.shape)\n"
   ]
  },
  {
   "cell_type": "code",
   "execution_count": 5,
   "id": "45cd7a95-ec4c-4b41-b757-80f3152bd189",
   "metadata": {
    "collapsed": false
   },
   "outputs": [
    {
     "name": "stdout",
     "output_type": "stream",
     "text": [
      "n_train: 2200; batch_num: 22, batch_size: 100\n"
     ]
    }
   ],
   "source": [
    "fea_train, label_train = shuffle(fea_train, label_train, random_state=42)\n",
    "\n",
    "n_train = fea_train.shape[0]\n",
    "batch_size = 100\n",
    "batch_num = int(n_train/batch_size)\n",
    "print(f\"n_train: {n_train:d}; batch_num: {batch_num:d}, batch_size: {batch_size:d}\")\n",
    "\n",
    "# batches = gen_batches(n_train, batch_size)\n",
    "train_ind = slice((None, n_train))\n",
    "trainset = [ slice((i+1)*batch_size) for i in range(batch_num)]\n",
    "\n",
    "samples = [(i+1)*batch_size for i in range(batch_num)]\n"
   ]
  },
  {
   "cell_type": "code",
   "execution_count": 28,
   "id": "7f73f8b2-fad0-45ea-b38f-8f49972fa1a6",
   "metadata": {
    "collapsed": false
   },
   "outputs": [],
   "source": [
    "def RunExp(method, PLS, is_inc, save):\n",
    "    tim = TicToc()\n",
    "    timlist=np.zeros((2, len(trainset)))\n",
    "    timlist[0] = np.array(samples)\n",
    "    X_score_train = np.zeros((fea_train.shape[0], 1))\n",
    "    if (is_inc):\n",
    "        for i,s in enumerate(gen_batches(n_train, batch_size)):\n",
    "            tim.tic()\n",
    "            PLS.fit(fea_train[s], label_train[s])\n",
    "            timlist[1,i] = tim.tocvalue()\n",
    "            X_score_train[s] = norm(PLS.transform(fea_train[s]), ord=1, axis=1, keepdims=True)\n",
    "    else:\n",
    "        for i,s in enumerate(trainset):\n",
    "            tim.tic()\n",
    "            PLS.fit(fea_train[s], label_train[s])\n",
    "            timlist[1,i] = tim.tocvalue()\n",
    "        X_score_train = norm(PLS.transform(fea_train), ord=1, axis=1, keepdims=True)\n",
    "\n",
    "    X_score_test  = norm(PLS.transform(fea_test), ord=1, axis=1, keepdims=True)\n",
    "    y_pred = LogisticRegression(penalty=None).fit(X_score_train, label_train) \\\n",
    "                                              .predict(X_score_test)\n",
    "    acc = accuracy_score(label_test, y_pred)\n",
    "\n",
    "    if (save==1):\n",
    "        if (method == \"CIPLS\"):\n",
    "            W = PLS.w_rotation\n",
    "        elif (method == \"NIPALS\"):\n",
    "            W = PLS.x_rotations_\n",
    "        elif (method == \"SIMPLS\"):\n",
    "            W = PLS.x_weights_\n",
    "        elif ((method == \"ISIMPLS\") |\n",
    "              (method == \"PLS1\") |\n",
    "              (method == \"IPLS1\") |\n",
    "              (method == \"OLPLS\")):\n",
    "            W = PLS.W\n",
    "        elif (method == \"SGDPLS\"):\n",
    "            W = PLS.U\n",
    "        elif (method == \"IPLS\"):\n",
    "            W = PLS.x_rotations\n",
    "\n",
    "        with h5py.File(f\"./Results/PLS1_LFW_{method}.h5\", \"w\") as f:\n",
    "            f_W = f.create_dataset(\"weight\", data=W, maxshape=W.shape)\n",
    "            f_tim = f.create_dataset('timer', data=timlist, maxshape=timlist.shape)\n"
   ]
  },
  {
   "cell_type": "code",
   "execution_count": 31,
   "id": "8f2899fb-e924-48cc-b5fb-bf1615836e69",
   "metadata": {
    "collapsed": false
   },
   "outputs": [],
   "source": [
    "def Read_Results(method):\n",
    "    with h5py.File(f\"./Results/PLS1_LFW_{method}.h5\", \"r\") as f:\n",
    "        dat={\"timer\": f[\"timer\"][:],\n",
    "             \"weight\":  f[\"weight\"][:]}\n",
    "    return dat\n",
    "\n",
    "def timer_stats(method, timer):\n",
    "    print(f\"{method:s} timer\\n\"\n",
    "      + f\"  Ave: {np.mean(timer):.4f}\\n\"\n",
    "      + f\"  Std: {np.std(timer):.4f}\")"
   ]
  },
  {
   "cell_type": "code",
   "execution_count": 15,
   "id": "5765881f-1ffd-4819-bcad-7e8df27317c9",
   "metadata": {
    "collapsed": false
   },
   "outputs": [
    {
     "name": "stdout",
     "output_type": "stream",
     "text": [
      "elapsed time: 2.3315344117581844\n"
     ]
    }
   ],
   "source": [
    "from sklearn.cross_decomposition import PLSRegression\n",
    "\n",
    "save=1\n",
    "tim.tic()\n",
    "\n",
    "RunExp('NIPALS', PLSRegression(n_components=31, scale=False),\n",
    "       False, save)\n",
    "print(\"elapsed time:\", tim.tocvalue() )"
   ]
  },
  {
   "cell_type": "code",
   "execution_count": 16,
   "id": "8c6609f9-53e5-4e79-bcc7-187abf717c16",
   "metadata": {
    "collapsed": false
   },
   "outputs": [
    {
     "name": "stdout",
     "output_type": "stream",
     "text": [
      "elapsed time: 0.4079465791583061\n"
     ]
    }
   ],
   "source": [
    "save=1\n",
    "tim.tic()\n",
    "\n",
    "RunExp('SIMPLS', SIMPLS(n_components=34),\n",
    "       False, save)\n",
    "print(\"elapsed time:\", tim.tocvalue() )"
   ]
  },
  {
   "cell_type": "code",
   "execution_count": 17,
   "id": "9839dac2-9c86-42a4-a2d8-9f26e85900fe",
   "metadata": {
    "collapsed": false
   },
   "outputs": [
    {
     "name": "stdout",
     "output_type": "stream",
     "text": [
      "elapsed time: 0.30943077243864536\n"
     ]
    }
   ],
   "source": [
    "from Code.ISIMPLS import ISIMPLS\n",
    "save=1\n",
    "tim.tic()\n",
    "RunExp('ISIMPLS', ISIMPLS(n_components=41),\n",
    "       True, save)\n",
    "print(\"elapsed time:\", tim.tocvalue() )"
   ]
  },
  {
   "cell_type": "code",
   "execution_count": 18,
   "id": "21414e09-07bc-41a0-a3bf-cc2de96dd5b8",
   "metadata": {
    "collapsed": false
   },
   "outputs": [
    {
     "name": "stdout",
     "output_type": "stream",
     "text": [
      "elapsed time: 0.5100859738886356\n"
     ]
    }
   ],
   "source": [
    "from Code.PLS1 import PLS1\n",
    "save=1\n",
    "tim.tic()\n",
    "RunExp('PLS1', PLS1(n_components=69),\n",
    "       False, save)\n",
    "print(\"elapsed time:\", tim.tocvalue() )"
   ]
  },
  {
   "cell_type": "code",
   "execution_count": 19,
   "id": "79aaad34-9c56-4b57-816d-e7cbec2a1502",
   "metadata": {
    "collapsed": false
   },
   "outputs": [
    {
     "name": "stdout",
     "output_type": "stream",
     "text": [
      "elapsed time: 0.5244078878313303\n"
     ]
    }
   ],
   "source": [
    "from Code.PLS1 import IPLS1\n",
    "save=1\n",
    "tim.tic()\n",
    "RunExp('IPLS1', IPLS1(n_components=89),\n",
    "       True, save)\n",
    "print(\"elapsed time:\", tim.tocvalue() )"
   ]
  },
  {
   "cell_type": "code",
   "execution_count": 29,
   "id": "7fa4cd25-0bf1-460a-9259-324847f25901",
   "metadata": {
    "collapsed": false
   },
   "outputs": [
    {
     "name": "stdout",
     "output_type": "stream",
     "text": [
      "elapsed time: 1.0118544157594442\n"
     ]
    }
   ],
   "source": [
    "from Code.OLPLS import OLPLS\n",
    "save=1\n",
    "tim.tic()\n",
    "RunExp('OLPLS', OLPLS(n_components=1, mu=6.6538e-9, amnesic=4.8396e-2),\n",
    "       True, save)\n",
    "print(\"elapsed time:\", tim.tocvalue() )"
   ]
  },
  {
   "cell_type": "code",
   "execution_count": 24,
   "id": "ace80b4b-9928-4862-b9a4-94c0d2f13594",
   "metadata": {
    "collapsed": false
   },
   "outputs": [
    {
     "name": "stdout",
     "output_type": "stream",
     "text": [
      "elapsed time: 146.56261566840112\n"
     ]
    }
   ],
   "source": [
    "from Code.SGDPLS import SGDPLS\n",
    "save=1\n",
    "tim.tic()\n",
    "RunExp('SGDPLS', SGDPLS(n_components=84, eta=4.4383e-5),\n",
    "       True, save)\n",
    "print(\"elapsed time:\", tim.tocvalue() )"
   ]
  },
  {
   "cell_type": "code",
   "execution_count": 25,
   "id": "eb4d1b8a-c084-42c1-b15f-324becc35dcc",
   "metadata": {
    "collapsed": false
   },
   "outputs": [
    {
     "name": "stdout",
     "output_type": "stream",
     "text": [
      "elapsed time: 1.8740634433925152\n"
     ]
    }
   ],
   "source": [
    "from Code.CIPLS import CIPLS\n",
    "save=1\n",
    "tim.tic()\n",
    "RunExp('CIPLS', CIPLS(n_components=2), \n",
    "       True, save)\n",
    "print(\"elapsed time:\", tim.tocvalue() )"
   ]
  },
  {
   "cell_type": "code",
   "execution_count": 32,
   "id": "4938565c-93ea-42da-a6bd-5c3b94aa0fae",
   "metadata": {
    "collapsed": false
   },
   "outputs": [
    {
     "name": "stdout",
     "output_type": "stream",
     "text": [
      "elapsed time: 3.709480045363307\n"
     ]
    }
   ],
   "source": [
    "from Code.IPLS import IPLS\n",
    "save=1\n",
    "tim.tic()\n",
    "RunExp('IPLS', IPLS(n_components=8), \n",
    "       True, save)\n",
    "print(\"elapsed time:\", tim.tocvalue() )"
   ]
  },
  {
   "cell_type": "code",
   "execution_count": 34,
   "id": "bea7a3e2-87bb-4649-8fc8-e22c92246a93",
   "metadata": {
    "collapsed": false
   },
   "outputs": [
    {
     "name": "stdout",
     "output_type": "stream",
     "text": [
      "NIPALS timer\n",
      "  Ave: 0.1042\n",
      "  Std: 0.0455\n",
      "SIMPLS timer\n",
      "  Ave: 0.0170\n",
      "  Std: 0.0044\n",
      "PLS1 timer\n",
      "  Ave: 0.0216\n",
      "  Std: 0.0060\n",
      "OLPLS timer\n",
      "  Ave: 0.0443\n",
      "  Std: 0.0100\n",
      "SGDPLS timer\n",
      "  Ave: 6.6577\n",
      "  Std: 0.1037\n",
      "ISIMPLS timer\n",
      "  Ave: 0.0122\n",
      "  Std: 0.0032\n",
      "IPLS1 timer\n",
      "  Ave: 0.0212\n",
      "  Std: 0.0058\n",
      "CIPLS timer\n",
      "  Ave: 0.0834\n",
      "  Std: 0.0074\n",
      "IPLS timer\n",
      "  Ave: 0.1456\n",
      "  Std: 0.0068\n"
     ]
    }
   ],
   "source": [
    "NIPALS  = Read_Results(\"NIPALS\")\n",
    "OLPLS   = Read_Results(\"OLPLS\")\n",
    "SGDPLS   = Read_Results(\"SGDPLS\")\n",
    "PLS1    = Read_Results(\"PLS1\")\n",
    "IPLS1   = Read_Results(\"IPLS1\")\n",
    "SIMPLS  = Read_Results(\"SIMPLS\")\n",
    "ISIMPLS = Read_Results(\"ISIMPLS\")\n",
    "CIPLS   = Read_Results(\"CIPLS\")\n",
    "IPLS    = Read_Results(\"IPLS\")\n",
    "\n",
    "# print(\"NIPALS v.s. OLPLS\")\n",
    "# print(\"  RMSE of weight.:  {:15.7e}\".format(RMSE(NIPALS['weight'], OLPLS['weight'])) )\n",
    "# print(\"NIPALS v.s. SGDPLS\")\n",
    "# print(\"  RMSE of weight.:  {:15.7e}\".format(RMSE(NIPALS['weight'], SGDPLS['weight'])) )\n",
    "# print(\"NIPALS v.s. CIPLS\")\n",
    "# print(\"  RMSE of weight.:  {:15.7e}\".format(RMSE(NIPALS['weight'], CIPLS['weight'])) )\n",
    "# print(\"NIPALS v.s. IPLS\")\n",
    "# print(\"  RMSE of weight.:  {:15.7e}\".format(RMSE(NIPALS['weight'], IPLS['weight'])) )\n",
    "\n",
    "# print(\"SIMPLS v.s. ISIMPLS\")\n",
    "# print(\"  RMSE of weight.:  {:15.7e}\".format(RMSE(SIMPLS['weight'], ISIMPLS['weight'])))\n",
    "# print(\"PLS1 v.s. IPLS1\")\n",
    "# print(\"  RMSE of weight.:  {:15.7e}\".format(RMSE(PLS1['weight'], IPLS1['weight'])))\n",
    "# print(\"\\n\")\n",
    "\n",
    "timer_stats(\"NIPALS\", NIPALS['timer'][1])\n",
    "timer_stats(\"SIMPLS\", SIMPLS['timer'][1])\n",
    "timer_stats(\"PLS1\", PLS1['timer'][1])\n",
    "\n",
    "timer_stats(\"OLPLS\", OLPLS['timer'][1])\n",
    "timer_stats(\"SGDPLS\", SGDPLS['timer'][1])\n",
    "timer_stats(\"ISIMPLS\", ISIMPLS['timer'][1])\n",
    "timer_stats(\"IPLS1\", IPLS1['timer'][1])\n",
    "timer_stats(\"CIPLS\", CIPLS['timer'][1])\n",
    "timer_stats(\"IPLS\", IPLS['timer'][1])\n"
   ]
  },
  {
   "cell_type": "code",
   "execution_count": 35,
   "id": "da913530-1735-4244-88ed-14587059c39b",
   "metadata": {
    "collapsed": false
   },
   "outputs": [
    {
     "data": {
      "text/plain": [
       "<Figure size 640x480 with 0 Axes>"
      ]
     },
     "metadata": {},
     "output_type": "display_data"
    },
    {
     "data": {
      "image/png": "[encoded data removed]",
      "text/plain": [
       "<Figure size 640x480 with 1 Axes>"
      ]
     },
     "metadata": {},
     "output_type": "display_data"
    }
   ],
   "source": [
    "N_steps= len(ISIMPLS['timer'][0])\n",
    "plt.subplots_adjust(right=.65)\n",
    "fig, ax = plt.subplots()\n",
    "ms = 4\n",
    "\n",
    "plt.subplots_adjust(right=.78)\n",
    "\n",
    "plt.plot(range(1,N_steps+1), NIPALS['timer'][1],\n",
    "                label='NIPALS', ls='', marker='s', markersize=ms, fillstyle='none')\n",
    "plt.plot(range(1,N_steps+1), SIMPLS['timer'][1],\n",
    "                label='SIMPLS', ls='', marker='x', markersize=ms, fillstyle='none')\n",
    "plt.plot(range(1,N_steps+1), PLS1['timer'][1],\n",
    "                label='PLS1', ls='', marker='v', markersize=ms, fillstyle='none')\n",
    "\n",
    "\n",
    "ax.set_xlabel(\"Experimental steps\")\n",
    "ax.set_ylabel(\"Time(s)\")\n",
    "ax.legend(bbox_to_anchor=(1.02,1), loc='upper left')\n",
    "plt.savefig('./fig/LFW_full.pdf')\n",
    "# plt.close()"
   ]
  },
  {
   "cell_type": "code",
   "execution_count": 36,
   "id": "70f5c5cc-efbc-4a36-84ce-70992ff0b3bf",
   "metadata": {
    "collapsed": false
   },
   "outputs": [
    {
     "data": {
      "text/plain": [
       "<Figure size 640x480 with 0 Axes>"
      ]
     },
     "metadata": {},
     "output_type": "display_data"
    },
    {
     "data": {
      "image/png": "[encoded data removed]",
      "text/plain": [
       "<Figure size 640x480 with 1 Axes>"
      ]
     },
     "metadata": {},
     "output_type": "display_data"
    }
   ],
   "source": [
    "N_steps= len(ISIMPLS['timer'][0])\n",
    "plt.subplots_adjust(right=.65)\n",
    "fig, ax = plt.subplots()\n",
    "ms = 4\n",
    "\n",
    "plt.subplots_adjust(right=.78)\n",
    "\n",
    "plt.plot(range(1,N_steps+1), OLPLS['timer'][1],\n",
    "                label='OLPLS', ls='', marker='v', markersize=ms, fillstyle='none')\n",
    "plt.plot(range(1,N_steps+1), SGDPLS['timer'][1],\n",
    "                label='SGDPLS', ls='', marker='D', markersize=ms, fillstyle='none')\n",
    "plt.plot(range(1,N_steps+1), ISIMPLS['timer'][1],\n",
    "                label='ISIMPL', ls='', marker='s', markersize=ms, fillstyle='none')\n",
    "plt.plot(range(1,N_steps+1), IPLS1['timer'][1],\n",
    "                label='IPLS1', ls='', marker='x', markersize=ms, fillstyle='none')\n",
    "plt.plot(range(1,N_steps+1), CIPLS['timer'][1],\n",
    "                label='CIPLS', ls='', marker='o', markersize=ms, fillstyle='none')\n",
    "plt.plot(range(1,N_steps+1), IPLS['timer'][1],\n",
    "                label='IPLS', ls='', marker='p', markersize=ms, fillstyle='none')\n",
    "\n",
    "\n",
    "\n",
    "ax.set_xlabel(\"Experimental steps\")\n",
    "ax.set_ylabel(\"Time(s)\")\n",
    "ax.legend(bbox_to_anchor=(1.02,1), loc='upper left')\n",
    "plt.savefig('./fig/LFW_inc.pdf')\n",
    "# plt.close()"
   ]
  }
 ],
 "metadata": {
  "kernelspec": {
   "argv": [
    "/home/tingan/miniconda3/envs/pls/bin/python",
    "-m",
    "ipykernel_launcher",
    "-f",
    "{connection_file}"
   ],
   "display_name": "Python 3 (ipykernel)",
   "env": null,
   "interrupt_mode": "signal",
   "language": "python",
   "metadata": {
    "debugger": true
   },
   "name": "python3"
  },
  "name": "PLS1_LFW.ipynb"
 },
 "nbformat": 4,
 "nbformat_minor": 5
}
