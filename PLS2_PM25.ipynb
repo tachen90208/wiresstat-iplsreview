{
 "cells": [
  {
   "cell_type": "code",
   "execution_count": 41,
   "id": "bf22ece5-2f8b-4ae3-8422-0aff20fc1596",
   "metadata": {
    "collapsed": false
   },
   "outputs": [],
   "source": [
    "import importlib\n",
    "# --------------------\n",
    "from sklearn.utils import gen_batches\n",
    "from sklearn.model_selection import GridSearchCV, KFold, TimeSeriesSplit\n",
    "import numpy as np\n",
    "from numpy.linalg import norm,inv,matrix_rank\n",
    "import h5py\n",
    "import datetime\n",
    "\n",
    "from Code.SGDPLS import SGDPLS\n",
    "from Code.OLPLS import OLPLS\n",
    "from Code.CIPLS import CIPLS\n",
    "from Code.SIMPLS import SIMPLS\n",
    "from Code.ISIMPLS import ISIMPLS2 as ISIMPLS\n",
    "from Code.IPLS import IPLS\n",
    "# ----------\n",
    "from sklearn.cross_decomposition import PLSRegression\n",
    "from pytictoc import TicToc\n",
    "tim=TicToc()"
   ]
  },
  {
   "cell_type": "code",
   "execution_count": 42,
   "id": "54c0c83c-9614-4b2e-ae8e-fa8a889ee029",
   "metadata": {
    "collapsed": false
   },
   "outputs": [],
   "source": [
    "def gen_slice_month(tim_st,tim_ed,num):\n",
    "    tim = datetime.datetime.strptime(tim_st, \"%Y%m%d\")\n",
    "    date_ed = datetime.datetime.strptime(  tim_ed, \"%Y%m%d\")\n",
    "    ind_st = 0\n",
    "    batches  = []\n",
    "    trainset = []\n",
    "    samples  = []\n",
    "    count = 0\n",
    "    while (tim < date_ed ):\n",
    "        Year = tim.strftime(\"%Y\")\n",
    "        Month = tim.strftime(\"%m\")\n",
    "        if Month == '12':\n",
    "            NextYYMM = \"{:04d}01\".format(int(tim.strftime(\"%Y\"))+1)\n",
    "        else:\n",
    "            NextYYMM = Year+\"{:02d}\".format(int(tim.strftime(\"%m\"))+1)\n",
    "        tmp = datetime.datetime.strptime(  NextYYMM+\"01\" , \"%Y%m%d\")\n",
    "        if (tmp > date_ed):\n",
    "            tmp = date_ed\n",
    "        days = (tmp - tim ).days\n",
    "        ind_ed = ind_st + days\n",
    "        batches.append(slice(ind_st,ind_ed))\n",
    "        trainset.append(slice(ind_ed))\n",
    "        samples.append(ind_ed)\n",
    "        # count += 1\n",
    "        # if (count >= num):\n",
    "        #     return batches,trainset,samples\n",
    "        ind_st = ind_ed\n",
    "        tim += datetime.timedelta(days=days)\n",
    "    return batches,trainset,samples"
   ]
  },
  {
   "cell_type": "code",
   "execution_count": 47,
   "id": "c162eece-c45a-4c2a-b29c-c39c2598675e",
   "metadata": {
    "collapsed": false
   },
   "outputs": [],
   "source": [
    "tim_st = '20200602'\n",
    "tim_ed = '20221027'\n",
    "\n",
    "tmp = h5py.File('./data/TW_PM25.h5', 'r')\n",
    "X_train, Y_train = tmp['X_train'], tmp['Y_train']\n",
    "n_train = X_train.shape[0]\n",
    "Y_train = Y_train[0:n_train]\n",
    "batches, trainset, samples = gen_slice_month(tim_st,tim_ed,batch_num)\n",
    "\n",
    "n_train = samples[-1]\n",
    "train_ind = trainset[-1]\n",
    "\n",
    "X_train, Y_train = X_train[0:n_train], Y_train[0:n_train]\n"
   ]
  },
  {
   "cell_type": "code",
   "execution_count": 48,
   "id": "e7afa67c-2403-4d91-a3ee-15452046e1fa",
   "metadata": {
    "collapsed": false
   },
   "outputs": [
    {
     "name": "stdout",
     "output_type": "stream",
     "text": [
      "29\n",
      "n_train:  877\n",
      "trainset: [slice(None, 29, None), slice(None, 60, None), slice(None, 91, None), slice(None, 121, None), slice(None, 152, None), slice(None, 182, None), slice(None, 213, None), slice(None, 244, None), slice(None, 272, None), slice(None, 303, None), slice(None, 333, None), slice(None, 364, None), slice(None, 394, None), slice(None, 425, None), slice(None, 456, None), slice(None, 486, None), slice(None, 517, None), slice(None, 547, None), slice(None, 578, None), slice(None, 609, None), slice(None, 637, None), slice(None, 668, None), slice(None, 698, None), slice(None, 729, None), slice(None, 759, None), slice(None, 790, None), slice(None, 821, None), slice(None, 851, None), slice(None, 877, None)]\n",
      "size: X_train=(877, 1800), Y_train=(877, 1800)\n"
     ]
    }
   ],
   "source": [
    "print(len(batches))\n",
    "print(\"n_train: \", n_train)\n",
    "print(\"trainset:\", trainset)\n",
    "print(\"size: X_train={}, Y_train={}\".format(X_train.shape, Y_train.shape))"
   ]
  },
  {
   "cell_type": "code",
   "execution_count": 49,
   "id": "871da466-cea3-4a1d-ab1c-9be62c6640f3",
   "metadata": {
    "collapsed": false
   },
   "outputs": [],
   "source": [
    "def RunExp(method, PLS, case, save):\n",
    "    tim = TicToc()\n",
    "    info_list = {}\n",
    "    if (case==1):\n",
    "        timlist=np.zeros((2, len(batches)))\n",
    "        timlist[0] = np.array(samples)\n",
    "        for i,s in enumerate(batches):\n",
    "            tim.tic()\n",
    "            PLS.fit(X_train[s], Y_train[s])\n",
    "            timlist[1,i] = tim.tocvalue()\n",
    "    else:\n",
    "        tim.tic()\n",
    "        PLS.fit(X_train[train_ind], Y_train[train_ind])\n",
    "        tim.tocvalue()\n",
    "\n",
    "    ypred = PLS.predict(X_train[train_ind])\n",
    "    coef  = PLS.coef_\n",
    "\n",
    "    if (save==1):\n",
    "        with h5py.File(f\"./Results/PLS2_PM25_{method}.h5\", \"w\") as f:\n",
    "            f_coef = f.create_dataset('coef', data=coef, maxshape=coef.shape, chunks=True)\n",
    "            f_ypred = f.create_dataset('ypred', data=ypred, maxshape=ypred.shape, chunks=True)\n",
    "            if (case==1):\n",
    "                f_tim = f.create_dataset('timer', data=timlist, maxshape=timlist.shape, chunks=True)\n"
   ]
  },
  {
   "cell_type": "code",
   "execution_count": 50,
   "id": "6a18407e-1b53-42ce-966c-6fe9c520cce5",
   "metadata": {
    "collapsed": false
   },
   "outputs": [],
   "source": [
    "import Code.SIMPLS\n",
    "importlib.reload(Code.SIMPLS)\n",
    "from Code.SIMPLS import SIMPLS\n",
    "\n",
    "save=1\n",
    "tim.tic()\n",
    "PLS = SIMPLS(n_components=11)\n",
    "RunExp('SIMPLS', PLS, 0, save)\n",
    "print(\"elapsed time:\", tim.tocvalue() )"
   ]
  },
  {
   "cell_type": "code",
   "execution_count": 51,
   "id": "4c680078-931c-45ea-8e9a-b390eefeb295",
   "metadata": {
    "collapsed": false
   },
   "outputs": [],
   "source": [
    "import Code.ISIMPLS\n",
    "importlib.reload(Code.ISIMPLS)\n",
    "from Code.ISIMPLS import ISIMPLS2 as ISIMPLS\n",
    "\n",
    "save=1\n",
    "tim.tic()\n",
    "PLS= ISIMPLS(n_components=11)\n",
    "RunExp('ISIMPLS', PLS, 1, save)\n",
    "print(\"elapsed time:\", tim.tocvalue() )"
   ]
  },
  {
   "cell_type": "code",
   "execution_count": 55,
   "id": "50475589-5e6d-43e7-8ea6-9832025b73b1",
   "metadata": {
    "collapsed": false
   },
   "outputs": [
    {
     "ename": "NameError",
     "evalue": "name 'tic' is not defined",
     "output_type": "error",
     "traceback": [
      "\u001b[0;31m---------------------------------------------------------------------------\u001b[0m",
      "\u001b[0;31mNameError\u001b[0m                                 Traceback (most recent call last)",
      "Cell \u001b[0;32mIn[55], line 2\u001b[0m\n\u001b[1;32m      1\u001b[0m save\u001b[38;5;241m=\u001b[39m\u001b[38;5;241m1\u001b[39m\n\u001b[0;32m----> 2\u001b[0m \u001b[43mtic\u001b[49m\u001b[38;5;241m.\u001b[39mtic()\n\u001b[1;32m      3\u001b[0m PLS\u001b[38;5;241m=\u001b[39m PLSRegression(n_components\u001b[38;5;241m=\u001b[39m\u001b[38;5;241m10\u001b[39m)\n\u001b[1;32m      4\u001b[0m RunExp(\u001b[38;5;124m'\u001b[39m\u001b[38;5;124mNIPALS\u001b[39m\u001b[38;5;124m'\u001b[39m, PLS, \u001b[38;5;241m0\u001b[39m, save)\n",
      "\u001b[0;31mNameError\u001b[0m: name 'tic' is not defined"
     ]
    }
   ],
   "source": [
    "save=1\n",
    "tim.tic()\n",
    "PLS= PLSRegression(n_components=10)\n",
    "RunExp('NIPALS', PLS, 0, save)\n",
    "print(\"elapsed time:\", tim.tocvalue() )"
   ]
  },
  {
   "cell_type": "code",
   "execution_count": 53,
   "id": "4a5dda45-2e4d-4865-8797-5ad86ab8a871",
   "metadata": {
    "collapsed": false
   },
   "outputs": [
    {
     "ename": "KeyboardInterrupt",
     "evalue": "",
     "output_type": "error",
     "traceback": [
      "\u001b[0;31m---------------------------------------------------------------------------\u001b[0m",
      "\u001b[0;31mKeyboardInterrupt\u001b[0m                         Traceback (most recent call last)",
      "Cell \u001b[0;32mIn[53], line 7\u001b[0m\n\u001b[1;32m      5\u001b[0m save\u001b[38;5;241m=\u001b[39m\u001b[38;5;241m1\u001b[39m\n\u001b[1;32m      6\u001b[0m PLS\u001b[38;5;241m=\u001b[39m OLPLS(n_components\u001b[38;5;241m=\u001b[39m\u001b[38;5;241m10\u001b[39m, mu\u001b[38;5;241m=\u001b[39m\u001b[38;5;241m1e-8\u001b[39m, amnesic\u001b[38;5;241m=\u001b[39m\u001b[38;5;241m0.99\u001b[39m)\n\u001b[0;32m----> 7\u001b[0m \u001b[43mRunExp\u001b[49m\u001b[43m(\u001b[49m\u001b[38;5;124;43m'\u001b[39;49m\u001b[38;5;124;43mOLPLS\u001b[39;49m\u001b[38;5;124;43m'\u001b[39;49m\u001b[43m,\u001b[49m\u001b[43m \u001b[49m\u001b[43mPLS\u001b[49m\u001b[43m,\u001b[49m\u001b[43m \u001b[49m\u001b[38;5;241;43m1\u001b[39;49m\u001b[43m,\u001b[49m\u001b[43m \u001b[49m\u001b[43msave\u001b[49m\u001b[43m)\u001b[49m\n",
      "Cell \u001b[0;32mIn[49], line 9\u001b[0m, in \u001b[0;36mRunExp\u001b[0;34m(method, PLS, case, save)\u001b[0m\n\u001b[1;32m      7\u001b[0m     \u001b[38;5;28;01mfor\u001b[39;00m i,s \u001b[38;5;129;01min\u001b[39;00m \u001b[38;5;28menumerate\u001b[39m(batches):\n\u001b[1;32m      8\u001b[0m         tim\u001b[38;5;241m.\u001b[39mtic()\n\u001b[0;32m----> 9\u001b[0m         \u001b[43mPLS\u001b[49m\u001b[38;5;241;43m.\u001b[39;49m\u001b[43mfit\u001b[49m\u001b[43m(\u001b[49m\u001b[43mX_train\u001b[49m\u001b[43m[\u001b[49m\u001b[43ms\u001b[49m\u001b[43m]\u001b[49m\u001b[43m,\u001b[49m\u001b[43m \u001b[49m\u001b[43mY_train\u001b[49m\u001b[43m[\u001b[49m\u001b[43ms\u001b[49m\u001b[43m]\u001b[49m\u001b[43m)\u001b[49m\n\u001b[1;32m     10\u001b[0m         timlist[\u001b[38;5;241m1\u001b[39m,i] \u001b[38;5;241m=\u001b[39m tim\u001b[38;5;241m.\u001b[39mtocvalue()\n\u001b[1;32m     11\u001b[0m \u001b[38;5;28;01melse\u001b[39;00m:\n",
      "File \u001b[0;32m/video/data/tingan/GitRep/IPLSreview/Code/OLPLS.py:129\u001b[0m, in \u001b[0;36mOLPLS.fit\u001b[0;34m(self, X, Y)\u001b[0m\n\u001b[1;32m    126\u001b[0m y \u001b[38;5;241m=\u001b[39m y \u001b[38;5;241m-\u001b[39m t\u001b[38;5;241m*\u001b[39m\u001b[38;5;28mself\u001b[39m\u001b[38;5;241m.\u001b[39mC[:, \u001b[38;5;241m0\u001b[39m]\n\u001b[1;32m    128\u001b[0m \u001b[38;5;28;01mfor\u001b[39;00m c \u001b[38;5;129;01min\u001b[39;00m \u001b[38;5;28mrange\u001b[39m(\u001b[38;5;241m1\u001b[39m, \u001b[38;5;28mself\u001b[39m\u001b[38;5;241m.\u001b[39mn_components):\n\u001b[0;32m--> 129\u001b[0m     \u001b[38;5;28mself\u001b[39m\u001b[38;5;241m.\u001b[39mS[:, c] \u001b[38;5;241m=\u001b[39m \u001b[38;5;28mself\u001b[39m\u001b[38;5;241m.\u001b[39mamnesic\u001b[38;5;241m*\u001b[39m\u001b[38;5;28mself\u001b[39m\u001b[38;5;241m.\u001b[39mS[:, c] \u001b[38;5;241m+\u001b[39m (\u001b[38;5;241m1\u001b[39m\u001b[38;5;241m-\u001b[39m\u001b[38;5;28mself\u001b[39m\u001b[38;5;241m.\u001b[39mamnesic)\u001b[38;5;241m*\u001b[39m(\u001b[43mx\u001b[49m\u001b[38;5;241;43m.\u001b[39;49m\u001b[43mT\u001b[49m\u001b[43m \u001b[49m\u001b[38;5;241;43m*\u001b[39;49m\u001b[43m \u001b[49m\u001b[43my\u001b[49m)[:, \u001b[38;5;241m0\u001b[39m]\n\u001b[1;32m    130\u001b[0m     Suse \u001b[38;5;241m=\u001b[39m \u001b[38;5;28mself\u001b[39m\u001b[38;5;241m.\u001b[39mS[:, c]\n\u001b[1;32m    131\u001b[0m     wtemp \u001b[38;5;241m=\u001b[39m \u001b[38;5;28mself\u001b[39m\u001b[38;5;241m.\u001b[39mW[:, c]\n",
      "\u001b[0;31mKeyboardInterrupt\u001b[0m: "
     ]
    }
   ],
   "source": [
    "import Code.OLPLS\n",
    "importlib.reload(Code.OLPLS)\n",
    "from Code.OLPLS import OLPLS\n",
    "\n",
    "save=1\n",
    "tim.tic()\n",
    "PLS= OLPLS(n_components=10, mu=1e-8, amnesic=0.99)\n",
    "RunExp('OLPLS', PLS, 1, save)\n",
    "print(\"elapsed time:\", tim.tocvalue() )"
   ]
  },
  {
   "cell_type": "code",
   "execution_count": null,
   "id": "6c932f41-425d-4d84-9f91-067e2ed61ecf",
   "metadata": {
    "collapsed": false
   },
   "outputs": [],
   "source": []
  }
 ],
 "metadata": {
  "kernelspec": {
   "argv": [
    "/home/tingan/miniconda3/envs/pls/bin/python",
    "-m",
    "ipykernel_launcher",
    "-f",
    "{connection_file}"
   ],
   "display_name": "Python 3 (ipykernel)",
   "env": null,
   "interrupt_mode": "signal",
   "language": "python",
   "metadata": {
    "debugger": true
   },
   "name": "python3"
  },
  "name": "PLS2_PM25.ipynb"
 },
 "nbformat": 4,
 "nbformat_minor": 5
}
