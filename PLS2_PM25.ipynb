{
 "cells": [
  {
   "cell_type": "code",
   "execution_count": 6,
   "id": "bf22ece5-2f8b-4ae3-8422-0aff20fc1596",
   "metadata": {
    "collapsed": false
   },
   "outputs": [],
   "source": [
    "import importlib\n",
    "# --------------------\n",
    "from sklearn.utils import gen_batches\n",
    "from sklearn.model_selection import GridSearchCV, KFold, TimeSeriesSplit\n",
    "import numpy as np\n",
    "from numpy.linalg import norm,inv,matrix_rank\n",
    "import h5py\n",
    "import datetime\n",
    "import seaborn as sns\n",
    "from sklearn.metrics import root_mean_squared_error as RMSE\n",
    "import matplotlib.pyplot as plt\n",
    "\n",
    "from pytictoc import TicToc\n",
    "tim=TicToc()"
   ]
  },
  {
   "cell_type": "code",
   "execution_count": 7,
   "id": "54c0c83c-9614-4b2e-ae8e-fa8a889ee029",
   "metadata": {
    "collapsed": false
   },
   "outputs": [],
   "source": [
    "def gen_slice_month(tim_st,tim_ed):\n",
    "    tim = datetime.datetime.strptime(tim_st, \"%Y%m%d\")\n",
    "    date_ed = datetime.datetime.strptime(  tim_ed, \"%Y%m%d\")\n",
    "    ind_st = 0\n",
    "    batches  = []\n",
    "    trainset = []\n",
    "    samples  = []\n",
    "    count = 0\n",
    "    while (tim < date_ed ):\n",
    "        Year = tim.strftime(\"%Y\")\n",
    "        Month = tim.strftime(\"%m\")\n",
    "        if Month == '12':\n",
    "            NextYYMM = \"{:04d}01\".format(int(tim.strftime(\"%Y\"))+1)\n",
    "        else:\n",
    "            NextYYMM = Year+\"{:02d}\".format(int(tim.strftime(\"%m\"))+1)\n",
    "        tmp = datetime.datetime.strptime(  NextYYMM+\"01\" , \"%Y%m%d\")\n",
    "        if (tmp > date_ed):\n",
    "            tmp = date_ed\n",
    "        days = (tmp - tim ).days\n",
    "        ind_ed = ind_st + days\n",
    "        batches.append(slice(ind_st,ind_ed))\n",
    "        trainset.append(slice(ind_ed))\n",
    "        samples.append(ind_ed)\n",
    "        ind_st = ind_ed\n",
    "        tim += datetime.timedelta(days=days)\n",
    "    return batches,trainset,samples"
   ]
  },
  {
   "cell_type": "code",
   "execution_count": 8,
   "id": "ed5c21d3-af9a-44a3-84af-eccb388d8c87",
   "metadata": {
    "collapsed": false
   },
   "outputs": [],
   "source": [
    "def Read_Results(method, case):\n",
    "    with h5py.File(f\"./Results/PLS2_PM25_{method}.h5\", \"r\") as f:\n",
    "        dat={'timer': f['timer'][:],\n",
    "             'coef':  f['coef'][:]}\n",
    "    return dat\n",
    "\n",
    "def timer_stats(method, timer):\n",
    "    print(f\"{method:s} timer\\n\"\n",
    "      + f\"  Ave: {np.mean(timer):.4f}\\n\"\n",
    "      + f\"  Std: {np.std(timer):.4f}\")"
   ]
  },
  {
   "cell_type": "code",
   "execution_count": 9,
   "id": "c162eece-c45a-4c2a-b29c-c39c2598675e",
   "metadata": {
    "collapsed": false
   },
   "outputs": [],
   "source": [
    "tim_st = '20200602'\n",
    "tim_ed = '20221027'\n",
    "batches, trainset, samples = gen_slice_month(tim_st,tim_ed)\n",
    "train_ind = trainset[-1]\n",
    "\n",
    "\n",
    "with h5py.File('./data/TW_PM25.h5', 'r') as f:\n",
    "    X_train, Y_train = f['X_train'][:], f['Y_train'][:]\n",
    "    \n",
    "n_train = X_train.shape[0]\n"
   ]
  },
  {
   "cell_type": "code",
   "execution_count": 10,
   "id": "871da466-cea3-4a1d-ab1c-9be62c6640f3",
   "metadata": {
    "collapsed": false
   },
   "outputs": [],
   "source": [
    "def RunExp(method, PLS, case, save):\n",
    "    tim = TicToc()\n",
    "    timlist=np.zeros((2, len(batches)))\n",
    "    timlist[0] = np.array(samples)\n",
    "    if (case==1):\n",
    "        for i,s in enumerate(batches):\n",
    "            tim.tic()\n",
    "            PLS.fit(X_train[s], Y_train[s])\n",
    "            timlist[1,i] = tim.tocvalue()\n",
    "    else:\n",
    "        for i,s in enumerate(trainset):\n",
    "            tim.tic()\n",
    "            PLS.fit(X_train[s], Y_train[s])\n",
    "            timlist[1,i] = tim.tocvalue()\n",
    "\n",
    "    if(method == 'SIMPLS') \\\n",
    "      | (method == 'SVDPLS') \\\n",
    "      | (method == 'ISVDPLS'):\n",
    "      PLS._comp_coef(PLS.n_components)\n",
    "    elif (method != 'NIPALS'):\n",
    "        PLS._comp_coef()\n",
    "\n",
    "\n",
    "    coef = PLS.coef_\n",
    "\n",
    "    if (save==1):\n",
    "        with h5py.File(f\"./Results/PLS2_PM25_{method}.h5\", \"w\") as f:\n",
    "            f_coef = f.create_dataset('coef', data=coef, maxshape=coef.shape, chunks=True)\n",
    "            f_tim = f.create_dataset('timer', data=timlist, maxshape=timlist.shape, chunks=True)\n"
   ]
  },
  {
   "cell_type": "code",
   "execution_count": 23,
   "id": "f94ada16-0fca-4b04-9744-87f445b5a979",
   "metadata": {
    "collapsed": false
   },
   "outputs": [
    {
     "name": "stdout",
     "output_type": "stream",
     "text": [
      "elapsed time: 6.84951544739306\n"
     ]
    }
   ],
   "source": [
    "from sklearn.cross_decomposition import PLSRegression\n",
    "\n",
    "save=1\n",
    "tim.tic()\n",
    "PLS= PLSRegression(n_components=10, scale=False)\n",
    "RunExp('NIPALS', PLS, 0, save)\n",
    "print(\"elapsed time:\", tim.tocvalue() )"
   ]
  },
  {
   "cell_type": "code",
   "execution_count": 21,
   "id": "83dd46b1-b3d8-45cf-a286-02218906bccd",
   "metadata": {
    "collapsed": false
   },
   "outputs": [
    {
     "name": "stdout",
     "output_type": "stream",
     "text": [
      "elapsed time: 58.43835334619507\n"
     ]
    }
   ],
   "source": [
    "import Code.OLPLS\n",
    "importlib.reload(Code.OLPLS)\n",
    "from Code.OLPLS import OLPLS\n",
    "\n",
    "save=1\n",
    "tim.tic()\n",
    "PLS= OLPLS(n_components=10, mu=1e-8, amnesic=0.99)\n",
    "RunExp('OLPLS', PLS, 1, save)\n",
    "print(\"elapsed time:\", tim.tocvalue() )"
   ]
  },
  {
   "cell_type": "code",
   "execution_count": 7,
   "id": "afe8e985-7381-4859-8f5d-6185f32f1bc0",
   "metadata": {
    "collapsed": false
   },
   "outputs": [
    {
     "name": "stdout",
     "output_type": "stream",
     "text": [
      "elapsed time: 0.6426915228366852\n"
     ]
    }
   ],
   "source": [
    "# import Code.CIPLS\n",
    "# importlib.reload(Code.CIPLS)\n",
    "# from Code.CIPLS import CIPLS\n",
    "\n",
    "# save=1\n",
    "# tim.tic()\n",
    "# PLS= CIPLS(n_components=1)\n",
    "# RunExp('CIPLS', PLS, 1, save)\n",
    "# print(\"elapsed time:\", tim.tocvalue() )"
   ]
  },
  {
   "cell_type": "code",
   "execution_count": 33,
   "id": "6a18407e-1b53-42ce-966c-6fe9c520cce5",
   "metadata": {
    "collapsed": false
   },
   "outputs": [
    {
     "name": "stdout",
     "output_type": "stream",
     "text": [
      "elapsed time: 32.68348323740065\n"
     ]
    }
   ],
   "source": [
    "import Code.SIMPLS\n",
    "importlib.reload(Code.SIMPLS)\n",
    "from Code.SIMPLS import SIMPLS\n",
    "\n",
    "save=1\n",
    "tim = TicToc()\n",
    "tim.tic()\n",
    "PLS = SIMPLS(n_components=11)\n",
    "RunExp('SIMPLS', PLS, 0, save)\n",
    "print(\"elapsed time:\", tim.tocvalue() )"
   ]
  },
  {
   "cell_type": "code",
   "execution_count": 34,
   "id": "4c680078-931c-45ea-8e9a-b390eefeb295",
   "metadata": {
    "collapsed": false
   },
   "outputs": [
    {
     "name": "stdout",
     "output_type": "stream",
     "text": [
      "elapsed time: 33.34497662819922\n"
     ]
    }
   ],
   "source": [
    "import Code.ISIMPLS\n",
    "importlib.reload(Code.ISIMPLS)\n",
    "from Code.ISIMPLS import ISIMPLS2 as ISIMPLS\n",
    "\n",
    "save=1\n",
    "tim = TicToc()\n",
    "tim.tic()\n",
    "PLS= ISIMPLS(n_components=11)\n",
    "RunExp('ISIMPLS', PLS, 1, save)\n",
    "print(\"elapsed time:\", tim.tocvalue() )"
   ]
  },
  {
   "cell_type": "code",
   "execution_count": 39,
   "id": "6c932f41-425d-4d84-9f91-067e2ed61ecf",
   "metadata": {
    "collapsed": false
   },
   "outputs": [
    {
     "name": "stdout",
     "output_type": "stream",
     "text": [
      "elapsed time: 49.42781730182469\n"
     ]
    }
   ],
   "source": [
    "import Code.SVDPLS\n",
    "importlib.reload(Code.SVDPLS)\n",
    "from Code.SVDPLS import SVDPLS\n",
    "\n",
    "save=1\n",
    "tim.tic()\n",
    "PLS= SVDPLS(n_components=3, scale=False)\n",
    "RunExp('SVDPLS', PLS, 0, save)\n",
    "print(\"elapsed time:\", tim.tocvalue() )"
   ]
  },
  {
   "cell_type": "code",
   "execution_count": 40,
   "id": "f9ea8427-910e-41a8-8f59-1edff55e1601",
   "metadata": {
    "collapsed": false
   },
   "outputs": [
    {
     "name": "stdout",
     "output_type": "stream",
     "text": [
      "elapsed time: 1.5121026039123535\n"
     ]
    }
   ],
   "source": [
    "import Code.SVDPLS\n",
    "importlib.reload(Code.SVDPLS)\n",
    "from Code.SVDPLS import ISVDPLS\n",
    "\n",
    "save=1\n",
    "tim.tic()\n",
    "PLS= ISVDPLS(n_components=3)\n",
    "RunExp('ISVDPLS', PLS, 1, save)\n",
    "print(\"elapsed time:\", tim.tocvalue() )"
   ]
  },
  {
   "cell_type": "code",
   "execution_count": 11,
   "id": "d5d9dd1e-1003-4c55-bf2a-bf4e26cc24ec",
   "metadata": {
    "collapsed": false
   },
   "outputs": [
    {
     "name": "stdout",
     "output_type": "stream",
     "text": [
      "NIPALS v.s. OLPLS\n",
      "  RMSE of coef.:    3.8254424e-03\n",
      "SIMPLS v.s. ISIMPLS\n",
      "  RMSE of coef.:    1.4261860e-16\n",
      "SVDPLS v.s. ISVDPLS \n",
      "  RMSE of coef.:    4.7187791e-04\n",
      "\n",
      "\n",
      "NIPALS timer\n",
      "  Ave: 0.2319\n",
      "  Std: 0.1150\n",
      "SIMPLS timer\n",
      "  Ave: 1.1229\n",
      "  Std: 0.1316\n",
      "SVDPLS timer\n",
      "  Ave: 1.7005\n",
      "  Std: 0.0785\n",
      "OLPLS timer\n",
      "  Ave: 2.0128\n",
      "  Std: 0.0694\n",
      "ISIMPLS timer\n",
      "  Ave: 1.1453\n",
      "  Std: 0.1226\n",
      "ISVDPLS timer\n",
      "  Ave: 0.0496\n",
      "  Std: 0.0619\n"
     ]
    }
   ],
   "source": [
    "NIPALS  = Read_Results('NIPALS', 0)\n",
    "OLPLS   = Read_Results('OLPLS', 1)\n",
    "SIMPLS  = Read_Results('SIMPLS', 0)\n",
    "ISIMPLS = Read_Results('ISIMPLS', 1)\n",
    "SVDPLS  = Read_Results('SVDPLS', 0)\n",
    "ISVDPLS = Read_Results('ISVDPLS', 1)\n",
    "\n",
    "print(\"NIPALS v.s. OLPLS\")\n",
    "print(\"  RMSE of coef.:  {:15.7e}\".format(RMSE(NIPALS['coef'], OLPLS['coef'])) )\n",
    "print(\"SIMPLS v.s. ISIMPLS\")\n",
    "print(\"  RMSE of coef.:  {:15.7e}\".format(RMSE(SIMPLS['coef'], ISIMPLS['coef'])))\n",
    "print(\"SVDPLS v.s. ISVDPLS \")\n",
    "print(\"  RMSE of coef.:  {:15.7e}\".format(RMSE(SVDPLS['coef'], ISVDPLS['coef'])))\n",
    "print(\"\\n\")\n",
    "\n",
    "timer_stats(\"NIPALS\", NIPALS['timer'][1])\n",
    "timer_stats(\"SIMPLS\", SIMPLS['timer'][1])\n",
    "timer_stats(\"SVDPLS\", SVDPLS['timer'][1])\n",
    "\n",
    "timer_stats(\"OLPLS\", OLPLS['timer'][1])\n",
    "timer_stats(\"ISIMPLS\", ISIMPLS['timer'][1])\n",
    "timer_stats(\"ISVDPLS\", ISVDPLS['timer'][1])"
   ]
  },
  {
   "cell_type": "code",
   "execution_count": null,
   "id": "bcc7042b-8959-494c-8d84-d369760fbea3",
   "metadata": {
    "collapsed": false
   },
   "outputs": [],
   "source": [
    "# NIPALS = Read_Results('NIPALS', 0)\n",
    "# CIPLS  = Read_Results('CIPLS', 1)\n",
    "\n",
    "# print(\"NIPALS v.s. CIPLS\")\n",
    "# print(\"coef Error:  {:15.7e}\".format(RMSE(NIPALS['coef'], CIPLS['coef'])) )\n",
    "# timer_stats(\"CIPLS\", CIPLS['timer'][1])"
   ]
  },
  {
   "cell_type": "code",
   "execution_count": 12,
   "id": "af8e50dc-b745-4518-8de0-f766e5257fa5",
   "metadata": {
    "collapsed": false
   },
   "outputs": [
    {
     "data": {
      "image/png": "[encoded data removed]",
      "text/plain": [
       "<Figure size 640x480 with 1 Axes>"
      ]
     },
     "metadata": {},
     "output_type": "display_data"
    }
   ],
   "source": [
    "N_steps= len(ISIMPLS['timer'][0])\n",
    "plt.style.use('ggplot')\n",
    "fig, ax = plt.subplots()\n",
    "plt.subplots_adjust(right=.65)\n",
    "ms = 4\n",
    "\n",
    "plt.subplots_adjust(right=.78)\n",
    "\n",
    "plt.plot(range(1,N_steps+1), OLPLS['timer'][1],\n",
    "                label='OL-PLS', ls='', marker='v', markersize=ms, fillstyle='none')\n",
    "plt.plot(range(1,N_steps+1), ISIMPLS['timer'][1],\n",
    "                label='ISIMPLS', ls='', marker='s', markersize=ms, fillstyle='none')\n",
    "plt.plot(range(1,N_steps+1), ISVDPLS['timer'][1],\n",
    "                label='ISVDPLS', ls='', marker='x', markersize=ms, fillstyle='none')\n",
    "\n",
    "ax.set_xlabel(\"Experimental steps\")\n",
    "ax.set_ylabel(\"Time(s)\")\n",
    "ax.legend(bbox_to_anchor=(1.02,1), loc='upper left')\n",
    "plt.savefig('./fig/TW_PM25_inc.pdf')\n"
   ]
  },
  {
   "cell_type": "code",
   "execution_count": 44,
   "id": "702e9aa9-55c8-4024-a636-fe9e5d314d3c",
   "metadata": {
    "collapsed": false
   },
   "outputs": [
    {
     "data": {
      "image/png": "[encoded data removed]",
      "text/plain": [
       "<Figure size 640x480 with 1 Axes>"
      ]
     },
     "metadata": {},
     "output_type": "display_data"
    }
   ],
   "source": [
    "N_steps= len(ISIMPLS['timer'][0])\n",
    "plt.style.use('ggplot')\n",
    "fig, ax = plt.subplots()\n",
    "plt.subplots_adjust(right=.65)\n",
    "ms = 4\n",
    "\n",
    "plt.subplots_adjust(right=.78)\n",
    "\n",
    "plt.plot(range(1,N_steps+1), NIPALS['timer'][1],\n",
    "         label='NIPALS', ls='', marker='v', markersize=ms, fillstyle='none')\n",
    "plt.plot(range(1,N_steps+1), SIMPLS['timer'][1],\n",
    "         label='SIMPLS', ls='', marker='s', markersize=ms, fillstyle='none')\n",
    "plt.plot(range(1,N_steps+1), SVDPLS['timer'][1],\n",
    "         label='SVDPLS', ls='', marker='x', markersize=ms, fillstyle='none')\n",
    "\n",
    "\n",
    "ax.set_xlabel(\"Experimental steps\")\n",
    "ax.set_ylabel(\"Time(s)\")\n",
    "ax.legend(bbox_to_anchor=(1.02,1), loc='upper left')\n",
    "plt.savefig('./fig/TW_PM25_full.pdf')\n",
    "# plt.close()"
   ]
  },
  {
   "cell_type": "code",
   "execution_count": null,
   "id": "d8f12fe4-12be-4e72-994e-678c77c55078",
   "metadata": {
    "collapsed": false
   },
   "outputs": [],
   "source": []
  }
 ],
 "metadata": {
  "kernelspec": {
   "argv": [
    "/home/tingan/miniconda3/envs/pls/bin/python",
    "-m",
    "ipykernel_launcher",
    "-f",
    "{connection_file}"
   ],
   "display_name": "Python 3 (ipykernel)",
   "env": null,
   "interrupt_mode": "signal",
   "language": "python",
   "metadata": {
    "debugger": true
   },
   "name": "python3"
  },
  "name": "PLS2_PM25.ipynb"
 },
 "nbformat": 4,
 "nbformat_minor": 5
}
