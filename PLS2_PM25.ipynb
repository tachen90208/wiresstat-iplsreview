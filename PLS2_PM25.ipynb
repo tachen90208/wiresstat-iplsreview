{
 "cells": [
  {
   "cell_type": "code",
   "execution_count": 2,
   "id": "bf22ece5-2f8b-4ae3-8422-0aff20fc1596",
   "metadata": {
    "collapsed": false
   },
   "outputs": [],
   "source": [
    "import importlib\n",
    "# --------------------\n",
    "from sklearn.utils import gen_batches\n",
    "from sklearn.model_selection import GridSearchCV, KFold, TimeSeriesSplit\n",
    "import numpy as np\n",
    "from numpy.linalg import norm,inv,matrix_rank\n",
    "import h5py\n",
    "import datetime\n",
    "\n",
    "from pytictoc import TicToc\n",
    "tim=TicToc()"
   ]
  },
  {
   "cell_type": "code",
   "execution_count": 3,
   "id": "54c0c83c-9614-4b2e-ae8e-fa8a889ee029",
   "metadata": {
    "collapsed": false
   },
   "outputs": [],
   "source": [
    "def gen_slice_month(tim_st,tim_ed):\n",
    "    tim = datetime.datetime.strptime(tim_st, \"%Y%m%d\")\n",
    "    date_ed = datetime.datetime.strptime(  tim_ed, \"%Y%m%d\")\n",
    "    ind_st = 0\n",
    "    batches  = []\n",
    "    trainset = []\n",
    "    samples  = []\n",
    "    count = 0\n",
    "    while (tim < date_ed ):\n",
    "        Year = tim.strftime(\"%Y\")\n",
    "        Month = tim.strftime(\"%m\")\n",
    "        if Month == '12':\n",
    "            NextYYMM = \"{:04d}01\".format(int(tim.strftime(\"%Y\"))+1)\n",
    "        else:\n",
    "            NextYYMM = Year+\"{:02d}\".format(int(tim.strftime(\"%m\"))+1)\n",
    "        tmp = datetime.datetime.strptime(  NextYYMM+\"01\" , \"%Y%m%d\")\n",
    "        if (tmp > date_ed):\n",
    "            tmp = date_ed\n",
    "        days = (tmp - tim ).days\n",
    "        ind_ed = ind_st + days\n",
    "        batches.append(slice(ind_st,ind_ed))\n",
    "        trainset.append(slice(ind_ed))\n",
    "        samples.append(ind_ed)\n",
    "        ind_st = ind_ed\n",
    "        tim += datetime.timedelta(days=days)\n",
    "    return batches,trainset,samples"
   ]
  },
  {
   "cell_type": "code",
   "execution_count": 4,
   "id": "c162eece-c45a-4c2a-b29c-c39c2598675e",
   "metadata": {
    "collapsed": false
   },
   "outputs": [],
   "source": [
    "tim_st = '20200602'\n",
    "tim_ed = '20221027'\n",
    "batches, trainset, samples = gen_slice_month(tim_st,tim_ed)\n",
    "train_ind = trainset[-1]\n",
    "\n",
    "\n",
    "with h5py.File('./data/TW_PM25.h5', 'r') as f:\n",
    "    X_train, Y_train = f['X_train'][:], f['Y_train'][:]\n",
    "    \n",
    "n_train = X_train.shape[0]\n"
   ]
  },
  {
   "cell_type": "code",
   "execution_count": 5,
   "id": "871da466-cea3-4a1d-ab1c-9be62c6640f3",
   "metadata": {
    "collapsed": false
   },
   "outputs": [],
   "source": [
    "def RunExp(method, PLS, case, save):\n",
    "    tim = TicToc()\n",
    "    info_list = {}\n",
    "    if (case==1):\n",
    "        timlist=np.zeros((2, len(batches)))\n",
    "        timlist[0] = np.array(samples)\n",
    "        for i,s in enumerate(batches):\n",
    "            tim.tic()\n",
    "            PLS.fit(X_train[s], Y_train[s])\n",
    "            timlist[1,i] = tim.tocvalue()\n",
    "    else:\n",
    "        tim.tic()\n",
    "        PLS.fit(X_train[train_ind], Y_train[train_ind])\n",
    "        tim.tocvalue()\n",
    "\n",
    "    ypred = PLS.predict(X_train[train_ind])\n",
    "    coef  = PLS.coef_\n",
    "\n",
    "    if (save==1):\n",
    "        with h5py.File(f\"./Results/PLS2_PM25_{method}.h5\", \"w\") as f:\n",
    "            f_coef = f.create_dataset('coef', data=coef, maxshape=coef.shape, chunks=True)\n",
    "            f_ypred = f.create_dataset('ypred', data=ypred, maxshape=ypred.shape, chunks=True)\n",
    "            if (case==1):\n",
    "                f_tim = f.create_dataset('timer', data=timlist, maxshape=timlist.shape, chunks=True)\n"
   ]
  },
  {
   "cell_type": "code",
   "execution_count": 71,
   "id": "6a18407e-1b53-42ce-966c-6fe9c520cce5",
   "metadata": {
    "collapsed": false
   },
   "outputs": [
    {
     "name": "stdout",
     "output_type": "stream",
     "text": [
      "elapsed time: 1.6159153091721237\n"
     ]
    }
   ],
   "source": [
    "import Code.SIMPLS\n",
    "importlib.reload(Code.SIMPLS)\n",
    "from Code.SIMPLS import SIMPLS\n",
    "\n",
    "save=1\n",
    "tim.tic()\n",
    "PLS = SIMPLS(n_components=11)\n",
    "RunExp('SIMPLS', PLS, 0, save)\n",
    "print(\"elapsed time:\", tim.tocvalue() )"
   ]
  },
  {
   "cell_type": "code",
   "execution_count": 72,
   "id": "4c680078-931c-45ea-8e9a-b390eefeb295",
   "metadata": {
    "collapsed": false
   },
   "outputs": [
    {
     "name": "stdout",
     "output_type": "stream",
     "text": [
      "elapsed time: 34.211204410064965\n"
     ]
    }
   ],
   "source": [
    "import Code.ISIMPLS\n",
    "importlib.reload(Code.ISIMPLS)\n",
    "from Code.ISIMPLS import ISIMPLS2 as ISIMPLS\n",
    "\n",
    "save=1\n",
    "tim.tic()\n",
    "PLS= ISIMPLS(n_components=11)\n",
    "RunExp('ISIMPLS', PLS, 1, save)\n",
    "print(\"elapsed time:\", tim.tocvalue() )"
   ]
  },
  {
   "cell_type": "code",
   "execution_count": 6,
   "id": "50475589-5e6d-43e7-8ea6-9832025b73b1",
   "metadata": {
    "collapsed": false
   },
   "outputs": [
    {
     "name": "stdout",
     "output_type": "stream",
     "text": [
      "elapsed time: 0.68341164290905\n"
     ]
    }
   ],
   "source": [
    "from sklearn.cross_decomposition import PLSRegression\n",
    "\n",
    "save=1\n",
    "tim.tic()\n",
    "PLS= PLSRegression(n_components=10, scale=False)\n",
    "RunExp('NIPALS', PLS, 0, save)\n",
    "print(\"elapsed time:\", tim.tocvalue() )"
   ]
  },
  {
   "cell_type": "code",
   "execution_count": 5,
   "id": "4a5dda45-2e4d-4865-8797-5ad86ab8a871",
   "metadata": {
    "collapsed": false
   },
   "outputs": [
    {
     "name": "stdout",
     "output_type": "stream",
     "text": [
      "elapsed time: 58.62975513888523\n"
     ]
    }
   ],
   "source": [
    "import Code.OLPLS\n",
    "importlib.reload(Code.OLPLS)\n",
    "from Code.OLPLS import OLPLS\n",
    "\n",
    "save=1\n",
    "tim.tic()\n",
    "PLS= OLPLS(n_components=10, mu=1e-8, amnesic=0.99)\n",
    "RunExp('OLPLS', PLS, 1, save)\n",
    "print(\"elapsed time:\", tim.tocvalue() )"
   ]
  },
  {
   "cell_type": "code",
   "execution_count": 59,
   "id": "6c932f41-425d-4d84-9f91-067e2ed61ecf",
   "metadata": {
    "collapsed": false
   },
   "outputs": [
    {
     "name": "stdout",
     "output_type": "stream",
     "text": [
      "elapsed time: 1.9786194986663759\n"
     ]
    }
   ],
   "source": [
    "import Code.SVDPLS\n",
    "importlib.reload(Code.SVDPLS)\n",
    "from Code.SVDPLS import SVDPLS\n",
    "\n",
    "save=1\n",
    "tim.tic()\n",
    "PLS= SVDPLS(n_components=3, scale=False)\n",
    "RunExp('SVDPLS', PLS, 0, save)\n",
    "print(\"elapsed time:\", tim.tocvalue() )"
   ]
  },
  {
   "cell_type": "code",
   "execution_count": 63,
   "id": "f9ea8427-910e-41a8-8f59-1edff55e1601",
   "metadata": {
    "collapsed": false
   },
   "outputs": [
    {
     "name": "stdout",
     "output_type": "stream",
     "text": [
      "elapsed time: 1.584787000901997\n"
     ]
    }
   ],
   "source": [
    "import Code.SVDPLS\n",
    "importlib.reload(Code.SVDPLS)\n",
    "from Code.SVDPLS import ISVDPLS\n",
    "\n",
    "save=1\n",
    "tim.tic()\n",
    "PLS= ISVDPLS(n_components=3)\n",
    "RunExp('ISVDPLS', PLS, 1, save)\n",
    "print(\"elapsed time:\", tim.tocvalue() )"
   ]
  },
  {
   "cell_type": "code",
   "execution_count": null,
   "id": "aec0cb59-2610-4b04-8bbd-fbcec9bfe463",
   "metadata": {
    "collapsed": false
   },
   "outputs": [],
   "source": []
  }
 ],
 "metadata": {
  "kernelspec": {
   "argv": [
    "/home/tingan/miniconda3/envs/pls/bin/python",
    "-m",
    "ipykernel_launcher",
    "-f",
    "{connection_file}"
   ],
   "display_name": "Python 3 (ipykernel)",
   "env": null,
   "interrupt_mode": "signal",
   "language": "python",
   "metadata": {
    "debugger": true
   },
   "name": "python3"
  },
  "name": "PLS2_PM25.ipynb"
 },
 "nbformat": 4,
 "nbformat_minor": 5
}
