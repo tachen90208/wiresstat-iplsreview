{
 "cells": [
  {
   "cell_type": "code",
   "execution_count": 41,
   "id": "6d32ba40-6e17-4444-bb19-b966b69e2c60",
   "metadata": {
    "collapsed": false
   },
   "outputs": [],
   "source": [
    "import h5py\n",
    "import numpy as np\n",
    "import seaborn as sns\n",
    "from sklearn.metrics import root_mean_squared_error as RMSE\n",
    "import matplotlib.pyplot as plt"
   ]
  },
  {
   "cell_type": "code",
   "execution_count": 32,
   "id": "a136f768-6a7b-47e8-8bb2-2b51a6adf827",
   "metadata": {
    "collapsed": false
   },
   "outputs": [],
   "source": [
    "def Read_Results(method, case):\n",
    "    if case == 1:\n",
    "        with h5py.File(f\"./Results/PLS2_PM25_{method}.h5\", \"r\") as f:\n",
    "            dat={'timer': f['timer'][:],\n",
    "                 'ypred': f['ypred'][:],\n",
    "                 'coef':  f['coef'][:]}\n",
    "    else: \n",
    "        with h5py.File(f\"./Results/PLS2_PM25_{method}.h5\", \"r\") as f:\n",
    "            dat={'ypred': f['ypred'][:],\n",
    "                 'coef':  f['coef'][:]}\n",
    "    return dat"
   ]
  },
  {
   "cell_type": "code",
   "execution_count": 38,
   "id": "7138b92b-5488-4be5-a0ab-d9bbf43c35ef",
   "metadata": {
    "collapsed": false
   },
   "outputs": [
    {
     "name": "stdout",
     "output_type": "stream",
     "text": [
      "ypred Error:   3.3905327e-14\n",
      "coef Error:    1.4113864e-16\n"
     ]
    }
   ],
   "source": [
    "SIMPLS  = Read_Results('SIMPLS', 0)\n",
    "ISIMPLS = Read_Results('ISIMPLS', 1)\n",
    "\n",
    "print(\"ypred Error: {:15.7e}\".format(RMSE(SIMPLS['ypred'], ISIMPLS['ypred'])))\n",
    "print(\"coef Error:  {:15.7e}\".format(RMSE(SIMPLS['coef'], ISIMPLS['coef']))) "
   ]
  },
  {
   "cell_type": "code",
   "execution_count": 39,
   "id": "0d967f3a-4cb7-484f-8654-ab2ba06a44c4",
   "metadata": {
    "collapsed": false
   },
   "outputs": [
    {
     "name": "stdout",
     "output_type": "stream",
     "text": [
      "ypred Error:   8.3183698e+00\n",
      "coef Error:    3.5312340e-03\n"
     ]
    }
   ],
   "source": [
    "NIPALS  = Read_Results('NIPALS', 0)\n",
    "OLPLS = Read_Results('OLPLS', 1)\n",
    "\n",
    "print(\"ypred Error: {:15.7e}\".format(RMSE(NIPALS['ypred'], OLPLS['ypred']))) \n",
    "print(\"coef Error:  {:15.7e}\".format(RMSE(NIPALS['coef'], OLPLS['coef'])) ) "
   ]
  },
  {
   "cell_type": "code",
   "execution_count": 47,
   "id": "44b85bed-3a40-4f4a-8f97-83bd502e6a53",
   "metadata": {
    "collapsed": false
   },
   "outputs": [
    {
     "data": {
      "text/plain": [
       "Text(0, 0.5, 'Time(s)')"
      ]
     },
     "execution_count": 47,
     "metadata": {},
     "output_type": "execute_result"
    },
    {
     "data": {
      "image/png": "[encoded data removed]",
      "text/plain": [
       "<Figure size 640x480 with 1 Axes>"
      ]
     },
     "metadata": {},
     "output_type": "display_data"
    }
   ],
   "source": [
    "N_steps= len(ISIMPLS['timer'][0])\n",
    "fig, ax = plt.subplots()\n",
    "plt.subplots_adjust(right=.78)\n",
    "\n",
    "sns.scatterplot(ax=ax, x=range(1,N_steps+1), y=ISIMPLS['timer'][1], label='ISIMPLS')\n",
    "sns.scatterplot(ax=ax, x=range(1,N_steps+1), y=OLPLS['timer'][1], label='OLPLS')\n",
    "\n",
    "ax.set_xlabel(\"Experimental steps\")\n",
    "ax.set_ylabel(\"Time(s)\")"
   ]
  },
  {
   "cell_type": "code",
   "execution_count": null,
   "id": "21c39128-fc68-4ff1-8385-8a1fc5d2ec45",
   "metadata": {
    "collapsed": false
   },
   "outputs": [],
   "source": []
  }
 ],
 "metadata": {
  "kernelspec": {
   "argv": [
    "/home/tingan/miniconda3/envs/pls/bin/python",
    "-m",
    "ipykernel_launcher",
    "-f",
    "{connection_file}"
   ],
   "display_name": "Python 3 (ipykernel)",
   "env": null,
   "interrupt_mode": "signal",
   "language": "python",
   "metadata": {
    "debugger": true
   },
   "name": "python3"
  },
  "name": "PLS2_PM25_Results.ipynb"
 },
 "nbformat": 4,
 "nbformat_minor": 5
}
