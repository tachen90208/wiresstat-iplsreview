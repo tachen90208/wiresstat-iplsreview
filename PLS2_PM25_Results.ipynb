{
 "cells": [
  {
   "cell_type": "code",
   "execution_count": 1,
   "id": "6d32ba40-6e17-4444-bb19-b966b69e2c60",
   "metadata": {
    "collapsed": false,
    "jupyter": {
     "outputs_hidden": false
    }
   },
   "outputs": [],
   "source": [
    "import h5py\n",
    "import numpy as np\n",
    "import seaborn as sns\n",
    "from sklearn.metrics import root_mean_squared_error as RMSE\n",
    "import matplotlib.pyplot as plt"
   ]
  },
  {
   "cell_type": "code",
   "execution_count": 2,
   "id": "a136f768-6a7b-47e8-8bb2-2b51a6adf827",
   "metadata": {
    "collapsed": false,
    "jupyter": {
     "outputs_hidden": false
    }
   },
   "outputs": [],
   "source": [
    "def Read_Results(method, case):\n",
    "    if case == 1:\n",
    "        with h5py.File(f\"./Results/PLS2_PM25_{method}.h5\", \"r\") as f:\n",
    "            dat={'timer': f['timer'][:],\n",
    "                 'ypred': f['ypred'][:],\n",
    "                 'coef':  f['coef'][:]}\n",
    "    else: \n",
    "        with h5py.File(f\"./Results/PLS2_PM25_{method}.h5\", \"r\") as f:\n",
    "            dat={'ypred': f['ypred'][:],\n",
    "                 'coef':  f['coef'][:]}\n",
    "    return dat"
   ]
  },
  {
   "cell_type": "code",
   "execution_count": 3,
   "id": "7138b92b-5488-4be5-a0ab-d9bbf43c35ef",
   "metadata": {
    "collapsed": false,
    "jupyter": {
     "outputs_hidden": false
    }
   },
   "outputs": [
    {
     "name": "stdout",
     "output_type": "stream",
     "text": [
      "ypred Error:   4.9458527e-14\n",
      "coef Error:    1.4172395e-16\n"
     ]
    }
   ],
   "source": [
    "SIMPLS  = Read_Results('SIMPLS', 0)\n",
    "ISIMPLS = Read_Results('ISIMPLS', 1)\n",
    "\n",
    "print(\"ypred Error: {:15.7e}\".format(RMSE(SIMPLS['ypred'], ISIMPLS['ypred'])))\n",
    "print(\"coef Error:  {:15.7e}\".format(RMSE(SIMPLS['coef'], ISIMPLS['coef']))) "
   ]
  },
  {
   "cell_type": "code",
   "execution_count": 4,
   "id": "0d967f3a-4cb7-484f-8654-ab2ba06a44c4",
   "metadata": {
    "collapsed": false,
    "jupyter": {
     "outputs_hidden": false
    }
   },
   "outputs": [
    {
     "name": "stdout",
     "output_type": "stream",
     "text": [
      "ypred Error:   8.3858000e+00\n",
      "coef Error:    3.8309303e-03\n"
     ]
    }
   ],
   "source": [
    "NIPALS  = Read_Results('NIPALS', 0)\n",
    "OLPLS = Read_Results('OLPLS', 1)\n",
    "\n",
    "print(\"ypred Error: {:15.7e}\".format(RMSE(NIPALS['ypred'], OLPLS['ypred']))) \n",
    "print(\"coef Error:  {:15.7e}\".format(RMSE(NIPALS['coef'], OLPLS['coef'])) ) "
   ]
  },
  {
   "cell_type": "code",
   "execution_count": 5,
   "id": "caf7b22c-82a4-4135-8b0e-6cf1033c73d4",
   "metadata": {
    "collapsed": false,
    "jupyter": {
     "outputs_hidden": false
    }
   },
   "outputs": [
    {
     "name": "stdout",
     "output_type": "stream",
     "text": [
      "ypred Error:   1.2760642e+01\n",
      "coef Error:    4.7883561e-04\n"
     ]
    }
   ],
   "source": [
    "SVDPLS  = Read_Results('SVDPLS', 0)\n",
    "ISVDPLS = Read_Results('ISVDPLS', 1)\n",
    "\n",
    "print(\"ypred Error: {:15.7e}\".format(RMSE(SVDPLS['ypred'], ISVDPLS['ypred'])))\n",
    "print(\"coef Error:  {:15.7e}\".format(RMSE(SVDPLS['coef'], ISVDPLS['coef']))) "
   ]
  },
  {
   "cell_type": "code",
   "execution_count": 6,
   "id": "88db25d5-f509-4cd8-9030-d25a668b6530",
   "metadata": {
    "collapsed": false,
    "jupyter": {
     "outputs_hidden": false
    }
   },
   "outputs": [
    {
     "data": {
      "image/png": "[encoded data removed]",
      "text/plain": [
       "<Figure size 640x480 with 1 Axes>"
      ]
     },
     "metadata": {},
     "output_type": "display_data"
    }
   ],
   "source": [
    "N_steps= len(ISIMPLS['timer'][0])\n",
    "fig, ax = plt.subplots()\n",
    "plt.subplots_adjust(right=.65)\n",
    "plt.style.use('ggplot')\n",
    "ms = 4 \n",
    "\n",
    "plt.subplots_adjust(right=.78)\n",
    "\n",
    "plt.plot(range(1,N_steps+1), OLPLS['timer'][1], \n",
    "                label='OL-PLS', ls='', marker='v', markersize=ms, fillstyle='none')\n",
    "plt.plot(range(1,N_steps+1), ISIMPLS['timer'][1], \n",
    "                label='ISIMPLS', ls='', marker='s', markersize=ms, fillstyle='none')\n",
    "plt.plot(range(1,N_steps+1), ISVDPLS['timer'][1], \n",
    "                label='incremental PLS-SVD', ls='', marker='x', markersize=ms, fillstyle='none')\n",
    "\n",
    "\n",
    "ax.set_xlabel(\"Experimental steps\")\n",
    "ax.set_ylabel(\"Time(s)\")\n",
    "ax.legend(bbox_to_anchor=(1.02,1), loc='upper left')\n",
    "plt.savefig('./fig/TW_PM25.pdf')"
   ]
  },
  {
   "cell_type": "code",
   "execution_count": null,
   "id": "21c39128-fc68-4ff1-8385-8a1fc5d2ec45",
   "metadata": {
    "collapsed": false,
    "jupyter": {
     "outputs_hidden": false
    }
   },
   "outputs": [],
   "source": []
  }
 ],
 "metadata": {
  "kernelspec": {
   "argv": [
    "/home/tingan/miniconda3/envs/pls/bin/python",
    "-m",
    "ipykernel_launcher",
    "-f",
    "{connection_file}"
   ],
   "display_name": "Python 3 (ipykernel)",
   "env": null,
   "interrupt_mode": "signal",
   "language": "python",
   "metadata": {
    "debugger": true
   },
   "name": "python3"
  },
  "language_info": {
   "codemirror_mode": {
    "name": "ipython",
    "version": 3
   },
   "file_extension": ".py",
   "mimetype": "text/x-python",
   "name": "python",
   "nbconvert_exporter": "python",
   "pygments_lexer": "ipython3",
   "version": "3.9.15"
  },
  "name": "PLS2_PM25_Results.ipynb"
 },
 "nbformat": 4,
 "nbformat_minor": 5
}
