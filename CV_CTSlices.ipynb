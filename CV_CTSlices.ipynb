{
 "cells": [
  {
   "cell_type": "code",
   "execution_count": 4,
   "id": "e8a78761-4876-41f6-9658-583f3220dd69",
   "metadata": {
    "collapsed": false,
    "jupyter": {
     "outputs_hidden": false
    }
   },
   "outputs": [],
   "source": [
    "import importlib\n",
    "import copy\n",
    "from sklearn.utils import gen_batches\n",
    "from sklearn.model_selection import GridSearchCV, KFold\n",
    "from sklearn.metrics import root_mean_squared_error as RMSE\n",
    "import numpy as np\n",
    "# ----------------------------------------\n",
    "from skopt.space import Integer, Real\n",
    "from skopt.utils import use_named_args\n",
    "from skopt import gp_minimize\n",
    "# ----------------------------------------\n",
    "\n",
    "import warnings\n",
    "warnings.filterwarnings('ignore')\n",
    "\n",
    "from pytictoc import TicToc\n",
    "tim=TicToc()\n",
    "tim_tot = TicToc()\n"
   ]
  },
  {
   "cell_type": "code",
   "execution_count": 2,
   "id": "da50e5c7-2cfd-40df-b828-40d5564d35d6",
   "metadata": {
    "collapsed": false,
    "jupyter": {
     "outputs_hidden": false
    }
   },
   "outputs": [],
   "source": [
    "dataset='CTSlices'\n",
    "CT_dat = np.genfromtxt(\"data/CTSlices/slice_localization_data.csv\",\n",
    "                       delimiter=\",\",\n",
    "                       skip_header=1)\n",
    "kf_num=10\n",
    "X_train = CT_dat[:,1:-1]\n",
    "y_train = CT_dat[:,-1]\n"
   ]
  },
  {
   "cell_type": "code",
   "execution_count": 3,
   "id": "152ca5ff-3099-46a0-985c-fad321acfc11",
   "metadata": {
    "collapsed": false
   },
   "outputs": [],
   "source": [
    "def Batch_Update_CV(model, cv, X, Y):\n",
    "    score_loc = np.zeros((cv.get_n_splits(),))\n",
    "    for i, (train_index, test_index) in enumerate(cv.split(X)):\n",
    "        model_loc = copy.deepcopy(model)\n",
    "        try:\n",
    "            for batch in gen_batches(len(train_index), len(test_index)):\n",
    "                train_batch = train_index[batch]\n",
    "                model_loc.fit(X[train_batch], Y[train_batch])\n",
    "\n",
    "            y_true = Y[test_index]\n",
    "            y_pred = model_loc.predict(X[test_index])\n",
    "            score_loc[i] = RMSE(y_true, y_pred)\n",
    "            # print(f\"fold: {i:02d}, score:{score_loc[i]: .3f}\")\n",
    "\n",
    "        except Exception as e:\n",
    "            print(\"-\"*20)\n",
    "            print(f\"fold: {i:02d} failure !\")\n",
    "            print(\" Error: \", e)\n",
    "            score_loc[i] = np.nan\n",
    "            break\n",
    "    return np.mean(score_loc)\n",
    "\n",
    "def Model_Score(model, train_index, test_index, X, Y):\n",
    "    model.fit(X[train_index], Y[train_index])\n",
    "\n",
    "    y_true = Y[test_index]\n",
    "    y_pred = model.predict(X[test_index])\n",
    "\n",
    "    return RMSE(y_true, y_pred)"
   ]
  },
  {
   "cell_type": "code",
   "execution_count": 4,
   "id": "8f7c87e6-5532-4fbe-a5da-5411f4106737",
   "metadata": {
    "collapsed": false,
    "jupyter": {
     "outputs_hidden": false
    }
   },
   "outputs": [
    {
     "name": "stdout",
     "output_type": "stream",
     "text": [
      "GridSearchCV(cv=KFold(n_splits=10, random_state=None, shuffle=False),\n",
      "             estimator=PLSRegression(scale=False),\n",
      "             param_grid={'n_components': [1, 2, 3, 4, 5, 6, 7, 8, 9, 10]},\n",
      "             scoring='neg_root_mean_squared_error')\n"
     ]
    },
    {
     "name": "stdout",
     "output_type": "stream",
     "text": [
      "best parameter: {'n_components': 9} ; score:   9.8758666e+00 ; total time=87.3s\n"
     ]
    }
   ],
   "source": [
    "from sklearn.cross_decomposition import PLSRegression\n",
    "\n",
    "n_comp_lst=list(range(1,11))\n",
    "parameters = {'n_components':n_comp_lst}\n",
    "clf = GridSearchCV(PLSRegression(scale=False), parameters,\n",
    "                   cv=KFold(n_splits=kf_num),\n",
    "                   scoring='neg_root_mean_squared_error')\n",
    "\n",
    "print(clf)\n",
    "tim_tot.tic()\n",
    "clf.fit(X_train, y_train)\n",
    "print(f\"best parameter: {clf.best_params_}\",\n",
    "      f\"; score: {-1.*clf.best_score_:15.7e}\",\n",
    "      f\"; total time={tim_tot.tocvalue():.1f}s\")"
   ]
  },
  {
   "cell_type": "code",
   "execution_count": 19,
   "id": "f482b726-3099-462a-ab6d-29f891d53ba8",
   "metadata": {
    "collapsed": false,
    "jupyter": {
     "outputs_hidden": false
    }
   },
   "outputs": [
    {
     "name": "stdout",
     "output_type": "stream",
     "text": [
      "GridSearchCV(cv=KFold(n_splits=10, random_state=None, shuffle=False),\n",
      "             estimator=SIMPLS(),\n",
      "             param_grid={'n_components': [1, 2, 3, 4, 5, 6, 7, 8, 9, 10]},\n",
      "             scoring='neg_root_mean_squared_error')\n"
     ]
    },
    {
     "name": "stdout",
     "output_type": "stream",
     "text": [
      "best parameter: {'n_components': 9} ; score:   9.8758666e+00 ; total time=29.8s\n"
     ]
    }
   ],
   "source": [
    "import Code.SIMPLS\n",
    "importlib.reload(Code.SIMPLS)\n",
    "from Code.SIMPLS import SIMPLS\n",
    "\n",
    "n_comp_lst=list(range(1,11))\n",
    "parameters = {'n_components':n_comp_lst}\n",
    "clf = GridSearchCV(SIMPLS(), parameters, # verbose=3,\n",
    "                   cv=KFold(n_splits=kf_num),\n",
    "                   scoring='neg_root_mean_squared_error')\n",
    "\n",
    "print(clf)\n",
    "tim_tot.tic()\n",
    "clf.fit(X_train, y_train)\n",
    "print(f\"best parameter: {clf.best_params_}\",\n",
    "      f\"; score: {-1.*clf.best_score_:15.7e}\",\n",
    "      f\"; total time={tim_tot.tocvalue():.1f}s\")\n"
   ]
  },
  {
   "cell_type": "code",
   "execution_count": 20,
   "id": "f68e8f6f-07c3-4472-b300-47e5d43aed6d",
   "metadata": {
    "collapsed": false
   },
   "outputs": [
    {
     "name": "stdout",
     "output_type": "stream",
     "text": [
      "params={'n_comp': 1}, score=1.7601132e+01, elapsed time=2.7s\n"
     ]
    },
    {
     "name": "stdout",
     "output_type": "stream",
     "text": [
      "params={'n_comp': 2}, score=1.3769302e+01, elapsed time=2.7s\n"
     ]
    },
    {
     "name": "stdout",
     "output_type": "stream",
     "text": [
      "params={'n_comp': 3}, score=1.1244679e+01, elapsed time=2.7s\n"
     ]
    },
    {
     "name": "stdout",
     "output_type": "stream",
     "text": [
      "params={'n_comp': 4}, score=1.0709137e+01, elapsed time=2.7s\n"
     ]
    },
    {
     "name": "stdout",
     "output_type": "stream",
     "text": [
      "params={'n_comp': 5}, score=1.0220055e+01, elapsed time=2.8s\n"
     ]
    },
    {
     "name": "stdout",
     "output_type": "stream",
     "text": [
      "params={'n_comp': 6}, score=9.9753077e+00, elapsed time=2.8s\n"
     ]
    },
    {
     "name": "stdout",
     "output_type": "stream",
     "text": [
      "params={'n_comp': 7}, score=9.9088491e+00, elapsed time=2.8s\n"
     ]
    },
    {
     "name": "stdout",
     "output_type": "stream",
     "text": [
      "params={'n_comp': 8}, score=9.8766549e+00, elapsed time=2.8s\n"
     ]
    },
    {
     "name": "stdout",
     "output_type": "stream",
     "text": [
      "params={'n_comp': 9}, score=9.8758666e+00, elapsed time=2.8s\n"
     ]
    },
    {
     "name": "stdout",
     "output_type": "stream",
     "text": [
      "params={'n_comp': 10}, score=9.8766684e+00, elapsed time=2.9s\n",
      "\n",
      "best parameter: {'n_comp': 9}; score: 9.8758666e+00; total time=28.0s\n"
     ]
    }
   ],
   "source": [
    "import Code.ISIMPLS\n",
    "importlib.reload(Code.ISIMPLS)\n",
    "from Code.ISIMPLS import ISIMPLS\n",
    "\n",
    "scores = []\n",
    "params = []\n",
    "n_comp_lst=list(range(1,11))\n",
    "tim_tot.tic()\n",
    "for n_comp in n_comp_lst:\n",
    "    tim.tic()\n",
    "    scores.append(Batch_Update_CV(ISIMPLS(n_components=n_comp),\n",
    "                                  KFold(n_splits=kf_num),\n",
    "                                  X_train, y_train))\n",
    "    params.append({'n_comp': n_comp})\n",
    "    print(f\"params={params[-1]}, score={scores[-1]:.7e}, \"\n",
    "          +f\"elapsed time={tim.tocvalue():.1f}s\")\n",
    "\n",
    "best_ind = np.nanargmin(scores)\n",
    "print(\"\")\n",
    "print(f\"best parameter: {params[best_ind]}; score: {scores[best_ind]:.7e}; \"\n",
    "      + f\"total time={tim_tot.tocvalue():.1f}s\")"
   ]
  },
  {
   "cell_type": "code",
   "execution_count": 14,
   "id": "737597c0-a573-4a6d-971a-94a37b0d84ad",
   "metadata": {
    "collapsed": false
   },
   "outputs": [
    {
     "name": "stdout",
     "output_type": "stream",
     "text": [
      "GridSearchCV(cv=KFold(n_splits=10, random_state=None, shuffle=False),\n",
      "             estimator=PLS1(),\n",
      "             param_grid={'n_components': [1, 2, 3, 4, 5, 6, 7, 8, 9, 10]},\n",
      "             scoring='neg_root_mean_squared_error')\n"
     ]
    },
    {
     "name": "stdout",
     "output_type": "stream",
     "text": [
      "best parameter: {'n_components': 9} ; score:   9.8758666e+00 ; total time=33.8s\n"
     ]
    }
   ],
   "source": [
    "import Code.PLS1\n",
    "importlib.reload(Code.PLS1)\n",
    "from Code.PLS1 import PLS1\n",
    "\n",
    "n_comp_lst=list(range(1,11))\n",
    "parameters = {'n_components':n_comp_lst}\n",
    "clf = GridSearchCV(PLS1(), parameters, # verbose=3,\n",
    "                   cv=KFold(n_splits=kf_num),\n",
    "                   scoring='neg_root_mean_squared_error')\n",
    "\n",
    "print(clf)\n",
    "tim_tot.tic()\n",
    "clf.fit(X_train, y_train)\n",
    "print(f\"best parameter: {clf.best_params_}\",\n",
    "      f\"; score: {-1.*clf.best_score_:15.7e}\",\n",
    "      f\"; total time={tim_tot.tocvalue():.1f}s\")\n"
   ]
  },
  {
   "cell_type": "code",
   "execution_count": 9,
   "id": "d599fe31-c144-4dd2-ada3-2b9a3bc73ef4",
   "metadata": {
    "collapsed": false
   },
   "outputs": [
    {
     "name": "stdout",
     "output_type": "stream",
     "text": [
      "params={'n_comp': 1}, score=1.7601132e+01, elapsed time=3.0s\n"
     ]
    },
    {
     "name": "stdout",
     "output_type": "stream",
     "text": [
      "params={'n_comp': 2}, score=1.3769302e+01, elapsed time=2.9s\n"
     ]
    },
    {
     "name": "stdout",
     "output_type": "stream",
     "text": [
      "params={'n_comp': 3}, score=1.1244679e+01, elapsed time=2.9s\n"
     ]
    },
    {
     "name": "stdout",
     "output_type": "stream",
     "text": [
      "params={'n_comp': 4}, score=1.0709137e+01, elapsed time=2.9s\n"
     ]
    },
    {
     "name": "stdout",
     "output_type": "stream",
     "text": [
      "params={'n_comp': 5}, score=1.0220055e+01, elapsed time=2.9s\n"
     ]
    },
    {
     "name": "stdout",
     "output_type": "stream",
     "text": [
      "params={'n_comp': 6}, score=9.9753077e+00, elapsed time=2.9s\n"
     ]
    },
    {
     "name": "stdout",
     "output_type": "stream",
     "text": [
      "params={'n_comp': 7}, score=9.9088491e+00, elapsed time=2.9s\n"
     ]
    },
    {
     "name": "stdout",
     "output_type": "stream",
     "text": [
      "params={'n_comp': 8}, score=9.8766549e+00, elapsed time=2.9s\n"
     ]
    },
    {
     "name": "stdout",
     "output_type": "stream",
     "text": [
      "params={'n_comp': 9}, score=9.8758666e+00, elapsed time=3.0s\n"
     ]
    },
    {
     "name": "stdout",
     "output_type": "stream",
     "text": [
      "params={'n_comp': 10}, score=9.8766684e+00, elapsed time=3.3s\n",
      "\n",
      "best parameter: {'n_comp': 9}; score: 9.8758666e+00; total time=29.7s\n"
     ]
    }
   ],
   "source": [
    "import Code.PLS1\n",
    "importlib.reload(Code.PLS1)\n",
    "from Code.PLS1 import IPLS1\n",
    "\n",
    "scores = []\n",
    "params = []\n",
    "n_comp_lst=list(range(1,11))\n",
    "tim_tot.tic()\n",
    "for n_comp in n_comp_lst:\n",
    "    tim.tic()\n",
    "    scores.append(Batch_Update_CV(IPLS1(n_components=n_comp),\n",
    "                                  KFold(n_splits=kf_num),\n",
    "                                  X_train, y_train))\n",
    "    params.append({'n_comp': n_comp})\n",
    "    print(f\"params={params[-1]}, score={scores[-1]:.7e}, \"\n",
    "          +f\"elapsed time={tim.tocvalue():.1f}s\")\n",
    "\n",
    "best_ind = np.nanargmin(scores)\n",
    "print(\"\")\n",
    "print(f\"best parameter: {params[best_ind]}; score: {scores[best_ind]:.7e}; \"\n",
    "      + f\"total time={tim_tot.tocvalue():.1f}s\")"
   ]
  },
  {
   "cell_type": "code",
   "execution_count": 15,
   "id": "bc65eeef-1b21-4253-b652-9b6d3bad080b",
   "metadata": {
    "collapsed": false
   },
   "outputs": [
    {
     "name": "stdout",
     "output_type": "stream",
     "text": [
      "params={'n_comp': 1}, score=1.8478452e+01, elapsed time=197.7s\n"
     ]
    },
    {
     "name": "stdout",
     "output_type": "stream",
     "text": [
      "params={'n_comp': 2}, score=2.8084951e+01, elapsed time=392.8s\n"
     ]
    },
    {
     "name": "stdout",
     "output_type": "stream",
     "text": [
      "params={'n_comp': 3}, score=2.7448990e+01, elapsed time=587.3s\n"
     ]
    },
    {
     "name": "stdout",
     "output_type": "stream",
     "text": [
      "params={'n_comp': 4}, score=2.7028211e+01, elapsed time=786.5s\n"
     ]
    },
    {
     "name": "stdout",
     "output_type": "stream",
     "text": [
      "--------------------\n",
      "fold: 01 failure !\n",
      " Error:  illegal value in 4th argument of internal gesdd\n",
      "params={'n_comp': 5}, score=nan, elapsed time=195.9s\n"
     ]
    },
    {
     "name": "stdout",
     "output_type": "stream",
     "text": [
      "--------------------\n",
      "fold: 00 failure !\n",
      " Error:  Input contains infinity or a value too large for dtype('float64').\n",
      "params={'n_comp': 6}, score=nan, elapsed time=1.6s\n",
      "--------------------\n",
      "fold: 00 failure !\n",
      " Error:  Input contains infinity or a value too large for dtype('float64').\n",
      "params={'n_comp': 7}, score=nan, elapsed time=0.0s\n",
      "--------------------\n",
      "fold: 00 failure !\n",
      " Error:  Input contains infinity or a value too large for dtype('float64').\n",
      "params={'n_comp': 8}, score=nan, elapsed time=0.0s\n",
      "--------------------\n",
      "fold: 00 failure !\n",
      " Error:  Input contains infinity or a value too large for dtype('float64').\n",
      "params={'n_comp': 9}, score=nan, elapsed time=0.0s\n",
      "--------------------\n",
      "fold: 00 failure !\n",
      " Error:  Input contains infinity or a value too large for dtype('float64').\n",
      "params={'n_comp': 10}, score=nan, elapsed time=0.0s\n",
      "\n",
      "best parameter: {'n_comp': 1}; score: 1.8478452e+01; total time=2162.0s\n"
     ]
    }
   ],
   "source": [
    "import Code.CIPLS\n",
    "importlib.reload(Code.CIPLS)\n",
    "from Code.CIPLS import CIPLS\n",
    "\n",
    "scores = []\n",
    "params = []\n",
    "n_comp_lst=list(range(1,11))\n",
    "tim_tot.tic()\n",
    "for n_comp in n_comp_lst:\n",
    "    tim.tic()\n",
    "    scores.append(Batch_Update_CV(CIPLS(n_components=n_comp),\n",
    "                                  KFold(n_splits=kf_num),\n",
    "                                  X_train, y_train))\n",
    "    params.append({'n_comp': n_comp})\n",
    "    print(f\"params={params[-1]}, score={scores[-1]:.7e}, \"\n",
    "          +f\"elapsed time={tim.tocvalue():.1f}s\")\n",
    "\n",
    "best_ind = np.nanargmin(scores)\n",
    "print(\"\")\n",
    "print(f\"best parameter: {params[best_ind]}; score: {scores[best_ind]:.7e}; \"\n",
    "      + f\"total time={tim_tot.tocvalue():.1f}s\")"
   ]
  },
  {
   "cell_type": "code",
   "execution_count": 16,
   "id": "745b49d4-08e8-4bc7-84c0-1d9ce3930e88",
   "metadata": {
    "collapsed": false
   },
   "outputs": [
    {
     "name": "stdout",
     "output_type": "stream",
     "text": [
      "Iteration No: 1 started. Evaluating function at random point.\n",
      "__n-comp=006, mu=2.3827e-06, amnesic=0.86\n"
     ]
    },
    {
     "name": "stdout",
     "output_type": "stream",
     "text": [
      "  --------------------\n",
      "  fold: 00 failure !\n",
      "    Error:  illegal value in 4th argument of internal gesdd\n",
      "  --------------------\n",
      "Iteration No: 1 ended. Evaluation done at random point.\n",
      "Time taken: 61.0412\n",
      "Function value obtained: nan\n",
      "Current minimum: nan\n",
      "Iteration No: 2 started. Evaluating function at random point.\n",
      "__n-comp=009, mu=3.1207e-07, amnesic=0.38\n"
     ]
    },
    {
     "name": "stdout",
     "output_type": "stream",
     "text": [
      "  --------------------\n",
      "  fold: 01 failure !\n",
      "    Error:  illegal value in 4th argument of internal gesdd\n",
      "  --------------------\n",
      "Iteration No: 2 ended. Evaluation done at random point.\n",
      "Time taken: 185.0055\n",
      "Function value obtained: nan\n",
      "Current minimum: nan\n",
      "Iteration No: 3 started. Evaluating function at random point.\n",
      "__n-comp=004, mu=1.6860e-09, amnesic=0.27\n"
     ]
    },
    {
     "name": "stdout",
     "output_type": "stream",
     "text": [
      "Iteration No: 3 ended. Evaluation done at random point.\n",
      "Time taken: 400.7785\n",
      "Function value obtained: 47.9161\n",
      "Current minimum: nan\n",
      "Iteration No: 4 started. Evaluating function at random point.\n",
      "__n-comp=005, mu=1.7729e-06, amnesic=0.48\n"
     ]
    },
    {
     "name": "stdout",
     "output_type": "stream",
     "text": [
      "Iteration No: 4 ended. Evaluation done at random point.\n",
      "Time taken: 502.1539\n",
      "Function value obtained: 46.5592\n",
      "Current minimum: nan\n",
      "Iteration No: 5 started. Evaluating function at random point.\n",
      "__n-comp=005, mu=2.2096e-06, amnesic=0.34\n"
     ]
    },
    {
     "name": "stdout",
     "output_type": "stream",
     "text": [
      "  --------------------\n",
      "  fold: 01 failure !\n",
      "    Error:  illegal value in 4th argument of internal gesdd\n",
      "  --------------------\n",
      "Iteration No: 5 ended. Evaluation done at random point.\n",
      "Time taken: 100.8295\n",
      "Function value obtained: nan\n",
      "Current minimum: nan\n",
      "Iteration No: 6 started. Evaluating function at random point.\n",
      "__n-comp=007, mu=2.9714e-08, amnesic=0.96\n"
     ]
    },
    {
     "name": "stdout",
     "output_type": "stream",
     "text": [
      "Iteration No: 6 ended. Evaluation done at random point.\n",
      "Time taken: 715.4373\n",
      "Function value obtained: 47.8602\n",
      "Current minimum: nan\n",
      "Iteration No: 7 started. Evaluating function at random point.\n",
      "__n-comp=002, mu=3.0224e-06, amnesic=0.47\n"
     ]
    },
    {
     "name": "stdout",
     "output_type": "stream",
     "text": [
      "Iteration No: 7 ended. Evaluation done at random point.\n",
      "Time taken: 203.0047\n",
      "Function value obtained: 42.7734\n",
      "Current minimum: nan\n",
      "Iteration No: 8 started. Evaluating function at random point.\n",
      "__n-comp=008, mu=1.2076e-07, amnesic=0.68\n"
     ]
    },
    {
     "name": "stdout",
     "output_type": "stream",
     "text": [
      "Iteration No: 8 ended. Evaluation done at random point.\n",
      "Time taken: 826.6147\n",
      "Function value obtained: 47.8434\n",
      "Current minimum: nan\n",
      "Iteration No: 9 started. Evaluating function at random point.\n",
      "__n-comp=007, mu=2.1285e-07, amnesic=0.54\n"
     ]
    },
    {
     "name": "stdout",
     "output_type": "stream",
     "text": [
      "Iteration No: 9 ended. Evaluation done at random point.\n",
      "Time taken: 716.9673\n",
      "Function value obtained: 47.6188\n",
      "Current minimum: nan\n",
      "Iteration No: 10 started. Evaluating function at random point.\n",
      "__n-comp=008, mu=2.6523e-09, amnesic=0.47\n"
     ]
    },
    {
     "ename": "ValueError",
     "evalue": "Input y contains NaN.",
     "output_type": "error",
     "traceback": [
      "\u001b[0;31m---------------------------------------------------------------------------\u001b[0m",
      "\u001b[0;31mValueError\u001b[0m                                Traceback (most recent call last)",
      "Cell \u001b[0;32mIn[16], line 40\u001b[0m\n\u001b[1;32m     37\u001b[0m     \u001b[38;5;28;01mreturn\u001b[39;00m np\u001b[38;5;241m.\u001b[39mmean(score_fold)\n\u001b[1;32m     39\u001b[0m tim_tot\u001b[38;5;241m.\u001b[39mtic()\n\u001b[0;32m---> 40\u001b[0m res_gp \u001b[38;5;241m=\u001b[39m \u001b[43mgp_minimize\u001b[49m\u001b[43m(\u001b[49m\u001b[43mComp_Model_Score\u001b[49m\u001b[43m,\u001b[49m\u001b[43m \u001b[49m\u001b[43mspace\u001b[49m\u001b[43m,\u001b[49m\u001b[43m \u001b[49m\u001b[43mn_calls\u001b[49m\u001b[38;5;241;43m=\u001b[39;49m\u001b[38;5;241;43m30\u001b[39;49m\u001b[43m,\u001b[49m\n\u001b[1;32m     41\u001b[0m \u001b[43m                     \u001b[49m\u001b[43mrandom_state\u001b[49m\u001b[38;5;241;43m=\u001b[39;49m\u001b[38;5;241;43m0\u001b[39;49m\u001b[43m,\u001b[49m\u001b[43m \u001b[49m\u001b[43mverbose\u001b[49m\u001b[38;5;241;43m=\u001b[39;49m\u001b[38;5;28;43;01mTrue\u001b[39;49;00m\u001b[43m)\u001b[49m\n\u001b[1;32m     43\u001b[0m \u001b[38;5;28mprint\u001b[39m(\u001b[38;5;124m\"\u001b[39m\u001b[38;5;124m-\u001b[39m\u001b[38;5;124m\"\u001b[39m\u001b[38;5;241m*\u001b[39m\u001b[38;5;241m40\u001b[39m)\n\u001b[1;32m     44\u001b[0m \u001b[38;5;28mprint\u001b[39m(\u001b[38;5;124mf\u001b[39m\u001b[38;5;124m\"\u001b[39m\u001b[38;5;124mBest amnesic = \u001b[39m\u001b[38;5;132;01m{\u001b[39;00mres_gp\u001b[38;5;241m.\u001b[39mx[\u001b[38;5;241m0\u001b[39m]\u001b[38;5;132;01m}\u001b[39;00m\u001b[38;5;124m\"\u001b[39m)\n",
      "File \u001b[0;32m~/miniconda3/envs/pls/lib/python3.9/site-packages/skopt/optimizer/gp.py:281\u001b[0m, in \u001b[0;36mgp_minimize\u001b[0;34m(func, dimensions, base_estimator, n_calls, n_random_starts, n_initial_points, initial_point_generator, acq_func, acq_optimizer, x0, y0, random_state, verbose, callback, n_points, n_restarts_optimizer, xi, kappa, noise, n_jobs, model_queue_size, space_constraint)\u001b[0m\n\u001b[1;32m    273\u001b[0m \u001b[38;5;28;01mif\u001b[39;00m base_estimator \u001b[38;5;129;01mis\u001b[39;00m \u001b[38;5;28;01mNone\u001b[39;00m:\n\u001b[1;32m    274\u001b[0m     base_estimator \u001b[38;5;241m=\u001b[39m cook_estimator(\n\u001b[1;32m    275\u001b[0m         \u001b[38;5;124m\"\u001b[39m\u001b[38;5;124mGP\u001b[39m\u001b[38;5;124m\"\u001b[39m,\n\u001b[1;32m    276\u001b[0m         space\u001b[38;5;241m=\u001b[39mspace,\n\u001b[1;32m    277\u001b[0m         random_state\u001b[38;5;241m=\u001b[39mrng\u001b[38;5;241m.\u001b[39mrandint(\u001b[38;5;241m0\u001b[39m, np\u001b[38;5;241m.\u001b[39miinfo(np\u001b[38;5;241m.\u001b[39mint32)\u001b[38;5;241m.\u001b[39mmax),\n\u001b[1;32m    278\u001b[0m         noise\u001b[38;5;241m=\u001b[39mnoise,\n\u001b[1;32m    279\u001b[0m     )\n\u001b[0;32m--> 281\u001b[0m \u001b[38;5;28;01mreturn\u001b[39;00m \u001b[43mbase_minimize\u001b[49m\u001b[43m(\u001b[49m\n\u001b[1;32m    282\u001b[0m \u001b[43m    \u001b[49m\u001b[43mfunc\u001b[49m\u001b[43m,\u001b[49m\n\u001b[1;32m    283\u001b[0m \u001b[43m    \u001b[49m\u001b[43mspace\u001b[49m\u001b[43m,\u001b[49m\n\u001b[1;32m    284\u001b[0m \u001b[43m    \u001b[49m\u001b[43mbase_estimator\u001b[49m\u001b[38;5;241;43m=\u001b[39;49m\u001b[43mbase_estimator\u001b[49m\u001b[43m,\u001b[49m\n\u001b[1;32m    285\u001b[0m \u001b[43m    \u001b[49m\u001b[43macq_func\u001b[49m\u001b[38;5;241;43m=\u001b[39;49m\u001b[43macq_func\u001b[49m\u001b[43m,\u001b[49m\n\u001b[1;32m    286\u001b[0m \u001b[43m    \u001b[49m\u001b[43mxi\u001b[49m\u001b[38;5;241;43m=\u001b[39;49m\u001b[43mxi\u001b[49m\u001b[43m,\u001b[49m\n\u001b[1;32m    287\u001b[0m \u001b[43m    \u001b[49m\u001b[43mkappa\u001b[49m\u001b[38;5;241;43m=\u001b[39;49m\u001b[43mkappa\u001b[49m\u001b[43m,\u001b[49m\n\u001b[1;32m    288\u001b[0m \u001b[43m    \u001b[49m\u001b[43macq_optimizer\u001b[49m\u001b[38;5;241;43m=\u001b[39;49m\u001b[43macq_optimizer\u001b[49m\u001b[43m,\u001b[49m\n\u001b[1;32m    289\u001b[0m \u001b[43m    \u001b[49m\u001b[43mn_calls\u001b[49m\u001b[38;5;241;43m=\u001b[39;49m\u001b[43mn_calls\u001b[49m\u001b[43m,\u001b[49m\n\u001b[1;32m    290\u001b[0m \u001b[43m    \u001b[49m\u001b[43mn_points\u001b[49m\u001b[38;5;241;43m=\u001b[39;49m\u001b[43mn_points\u001b[49m\u001b[43m,\u001b[49m\n\u001b[1;32m    291\u001b[0m \u001b[43m    \u001b[49m\u001b[43mn_random_starts\u001b[49m\u001b[38;5;241;43m=\u001b[39;49m\u001b[43mn_random_starts\u001b[49m\u001b[43m,\u001b[49m\n\u001b[1;32m    292\u001b[0m \u001b[43m    \u001b[49m\u001b[43mn_initial_points\u001b[49m\u001b[38;5;241;43m=\u001b[39;49m\u001b[43mn_initial_points\u001b[49m\u001b[43m,\u001b[49m\n\u001b[1;32m    293\u001b[0m \u001b[43m    \u001b[49m\u001b[43minitial_point_generator\u001b[49m\u001b[38;5;241;43m=\u001b[39;49m\u001b[43minitial_point_generator\u001b[49m\u001b[43m,\u001b[49m\n\u001b[1;32m    294\u001b[0m \u001b[43m    \u001b[49m\u001b[43mn_restarts_optimizer\u001b[49m\u001b[38;5;241;43m=\u001b[39;49m\u001b[43mn_restarts_optimizer\u001b[49m\u001b[43m,\u001b[49m\n\u001b[1;32m    295\u001b[0m \u001b[43m    \u001b[49m\u001b[43mx0\u001b[49m\u001b[38;5;241;43m=\u001b[39;49m\u001b[43mx0\u001b[49m\u001b[43m,\u001b[49m\n\u001b[1;32m    296\u001b[0m \u001b[43m    \u001b[49m\u001b[43my0\u001b[49m\u001b[38;5;241;43m=\u001b[39;49m\u001b[43my0\u001b[49m\u001b[43m,\u001b[49m\n\u001b[1;32m    297\u001b[0m \u001b[43m    \u001b[49m\u001b[43mrandom_state\u001b[49m\u001b[38;5;241;43m=\u001b[39;49m\u001b[43mrng\u001b[49m\u001b[43m,\u001b[49m\n\u001b[1;32m    298\u001b[0m \u001b[43m    \u001b[49m\u001b[43mverbose\u001b[49m\u001b[38;5;241;43m=\u001b[39;49m\u001b[43mverbose\u001b[49m\u001b[43m,\u001b[49m\n\u001b[1;32m    299\u001b[0m \u001b[43m    \u001b[49m\u001b[43mspace_constraint\u001b[49m\u001b[38;5;241;43m=\u001b[39;49m\u001b[43mspace_constraint\u001b[49m\u001b[43m,\u001b[49m\n\u001b[1;32m    300\u001b[0m \u001b[43m    \u001b[49m\u001b[43mcallback\u001b[49m\u001b[38;5;241;43m=\u001b[39;49m\u001b[43mcallback\u001b[49m\u001b[43m,\u001b[49m\n\u001b[1;32m    301\u001b[0m \u001b[43m    \u001b[49m\u001b[43mn_jobs\u001b[49m\u001b[38;5;241;43m=\u001b[39;49m\u001b[43mn_jobs\u001b[49m\u001b[43m,\u001b[49m\n\u001b[1;32m    302\u001b[0m \u001b[43m    \u001b[49m\u001b[43mmodel_queue_size\u001b[49m\u001b[38;5;241;43m=\u001b[39;49m\u001b[43mmodel_queue_size\u001b[49m\u001b[43m,\u001b[49m\n\u001b[1;32m    303\u001b[0m \u001b[43m\u001b[49m\u001b[43m)\u001b[49m\n",
      "File \u001b[0;32m~/miniconda3/envs/pls/lib/python3.9/site-packages/skopt/optimizer/base.py:333\u001b[0m, in \u001b[0;36mbase_minimize\u001b[0;34m(func, dimensions, base_estimator, n_calls, n_random_starts, n_initial_points, initial_point_generator, acq_func, acq_optimizer, x0, y0, random_state, verbose, callback, n_points, n_restarts_optimizer, xi, kappa, n_jobs, model_queue_size, space_constraint)\u001b[0m\n\u001b[1;32m    331\u001b[0m next_x \u001b[38;5;241m=\u001b[39m optimizer\u001b[38;5;241m.\u001b[39mask()\n\u001b[1;32m    332\u001b[0m next_y \u001b[38;5;241m=\u001b[39m func(next_x)\n\u001b[0;32m--> 333\u001b[0m result \u001b[38;5;241m=\u001b[39m \u001b[43moptimizer\u001b[49m\u001b[38;5;241;43m.\u001b[39;49m\u001b[43mtell\u001b[49m\u001b[43m(\u001b[49m\u001b[43mnext_x\u001b[49m\u001b[43m,\u001b[49m\u001b[43m \u001b[49m\u001b[43mnext_y\u001b[49m\u001b[43m)\u001b[49m\n\u001b[1;32m    334\u001b[0m result\u001b[38;5;241m.\u001b[39mspecs \u001b[38;5;241m=\u001b[39m specs\n\u001b[1;32m    335\u001b[0m \u001b[38;5;28;01mif\u001b[39;00m eval_callbacks(callbacks, result):\n",
      "File \u001b[0;32m~/miniconda3/envs/pls/lib/python3.9/site-packages/skopt/optimizer/optimizer.py:570\u001b[0m, in \u001b[0;36mOptimizer.tell\u001b[0;34m(self, x, y, fit)\u001b[0m\n\u001b[1;32m    567\u001b[0m         y \u001b[38;5;241m=\u001b[39m \u001b[38;5;28mlist\u001b[39m(y)\n\u001b[1;32m    568\u001b[0m         y[\u001b[38;5;241m1\u001b[39m] \u001b[38;5;241m=\u001b[39m log(y[\u001b[38;5;241m1\u001b[39m])\n\u001b[0;32m--> 570\u001b[0m \u001b[38;5;28;01mreturn\u001b[39;00m \u001b[38;5;28;43mself\u001b[39;49m\u001b[38;5;241;43m.\u001b[39;49m\u001b[43m_tell\u001b[49m\u001b[43m(\u001b[49m\u001b[43mx\u001b[49m\u001b[43m,\u001b[49m\u001b[43m \u001b[49m\u001b[43my\u001b[49m\u001b[43m,\u001b[49m\u001b[43m \u001b[49m\u001b[43mfit\u001b[49m\u001b[38;5;241;43m=\u001b[39;49m\u001b[43mfit\u001b[49m\u001b[43m)\u001b[49m\n",
      "File \u001b[0;32m~/miniconda3/envs/pls/lib/python3.9/site-packages/skopt/optimizer/optimizer.py:615\u001b[0m, in \u001b[0;36mOptimizer._tell\u001b[0;34m(self, x, y, fit)\u001b[0m\n\u001b[1;32m    613\u001b[0m \u001b[38;5;28;01mwith\u001b[39;00m warnings\u001b[38;5;241m.\u001b[39mcatch_warnings():\n\u001b[1;32m    614\u001b[0m     warnings\u001b[38;5;241m.\u001b[39msimplefilter(\u001b[38;5;124m\"\u001b[39m\u001b[38;5;124mignore\u001b[39m\u001b[38;5;124m\"\u001b[39m)\n\u001b[0;32m--> 615\u001b[0m     \u001b[43mest\u001b[49m\u001b[38;5;241;43m.\u001b[39;49m\u001b[43mfit\u001b[49m\u001b[43m(\u001b[49m\u001b[38;5;28;43mself\u001b[39;49m\u001b[38;5;241;43m.\u001b[39;49m\u001b[43mspace\u001b[49m\u001b[38;5;241;43m.\u001b[39;49m\u001b[43mtransform\u001b[49m\u001b[43m(\u001b[49m\u001b[38;5;28;43mself\u001b[39;49m\u001b[38;5;241;43m.\u001b[39;49m\u001b[43mXi\u001b[49m\u001b[43m)\u001b[49m\u001b[43m,\u001b[49m\u001b[43m \u001b[49m\u001b[38;5;28;43mself\u001b[39;49m\u001b[38;5;241;43m.\u001b[39;49m\u001b[43myi\u001b[49m\u001b[43m)\u001b[49m\n\u001b[1;32m    617\u001b[0m \u001b[38;5;28;01mif\u001b[39;00m \u001b[38;5;28mhasattr\u001b[39m(\u001b[38;5;28mself\u001b[39m, \u001b[38;5;124m\"\u001b[39m\u001b[38;5;124mnext_xs_\u001b[39m\u001b[38;5;124m\"\u001b[39m) \u001b[38;5;129;01mand\u001b[39;00m \u001b[38;5;28mself\u001b[39m\u001b[38;5;241m.\u001b[39macq_func \u001b[38;5;241m==\u001b[39m \u001b[38;5;124m\"\u001b[39m\u001b[38;5;124mgp_hedge\u001b[39m\u001b[38;5;124m\"\u001b[39m:\n\u001b[1;32m    618\u001b[0m     \u001b[38;5;28mself\u001b[39m\u001b[38;5;241m.\u001b[39mgains_ \u001b[38;5;241m-\u001b[39m\u001b[38;5;241m=\u001b[39m est\u001b[38;5;241m.\u001b[39mpredict(np\u001b[38;5;241m.\u001b[39mvstack(\u001b[38;5;28mself\u001b[39m\u001b[38;5;241m.\u001b[39mnext_xs_))\n",
      "File \u001b[0;32m~/miniconda3/envs/pls/lib/python3.9/site-packages/skopt/learning/gaussian_process/gpr.py:203\u001b[0m, in \u001b[0;36mGaussianProcessRegressor.fit\u001b[0;34m(self, X, y)\u001b[0m\n\u001b[1;32m    199\u001b[0m     \u001b[38;5;28;01melif\u001b[39;00m \u001b[38;5;28mself\u001b[39m\u001b[38;5;241m.\u001b[39mnoise:\n\u001b[1;32m    200\u001b[0m         \u001b[38;5;28mself\u001b[39m\u001b[38;5;241m.\u001b[39mkernel \u001b[38;5;241m=\u001b[39m \u001b[38;5;28mself\u001b[39m\u001b[38;5;241m.\u001b[39mkernel \u001b[38;5;241m+\u001b[39m WhiteKernel(\n\u001b[1;32m    201\u001b[0m             noise_level\u001b[38;5;241m=\u001b[39m\u001b[38;5;28mself\u001b[39m\u001b[38;5;241m.\u001b[39mnoise, noise_level_bounds\u001b[38;5;241m=\u001b[39m\u001b[38;5;124m\"\u001b[39m\u001b[38;5;124mfixed\u001b[39m\u001b[38;5;124m\"\u001b[39m\n\u001b[1;32m    202\u001b[0m         )\n\u001b[0;32m--> 203\u001b[0m \u001b[38;5;28;43msuper\u001b[39;49m\u001b[43m(\u001b[49m\u001b[43m)\u001b[49m\u001b[38;5;241;43m.\u001b[39;49m\u001b[43mfit\u001b[49m\u001b[43m(\u001b[49m\u001b[43mX\u001b[49m\u001b[43m,\u001b[49m\u001b[43m \u001b[49m\u001b[43my\u001b[49m\u001b[43m)\u001b[49m\n\u001b[1;32m    205\u001b[0m \u001b[38;5;28mself\u001b[39m\u001b[38;5;241m.\u001b[39mnoise_ \u001b[38;5;241m=\u001b[39m \u001b[38;5;28;01mNone\u001b[39;00m\n\u001b[1;32m    207\u001b[0m \u001b[38;5;28;01mif\u001b[39;00m \u001b[38;5;28mself\u001b[39m\u001b[38;5;241m.\u001b[39mnoise:\n\u001b[1;32m    208\u001b[0m     \u001b[38;5;66;03m# The noise component of this kernel should be set to zero\u001b[39;00m\n\u001b[1;32m    209\u001b[0m     \u001b[38;5;66;03m# while estimating K(X_test, X_test)\u001b[39;00m\n\u001b[0;32m   (...)\u001b[0m\n\u001b[1;32m    214\u001b[0m     \u001b[38;5;66;03m# http://www.gaussianprocess.org/gpml/chapters/RW2.pdf\u001b[39;00m\n\u001b[1;32m    215\u001b[0m     \u001b[38;5;66;03m# Hence this hack\u001b[39;00m\n",
      "File \u001b[0;32m~/miniconda3/envs/pls/lib/python3.9/site-packages/sklearn/base.py:1473\u001b[0m, in \u001b[0;36m_fit_context.<locals>.decorator.<locals>.wrapper\u001b[0;34m(estimator, *args, **kwargs)\u001b[0m\n\u001b[1;32m   1466\u001b[0m     estimator\u001b[38;5;241m.\u001b[39m_validate_params()\n\u001b[1;32m   1468\u001b[0m \u001b[38;5;28;01mwith\u001b[39;00m config_context(\n\u001b[1;32m   1469\u001b[0m     skip_parameter_validation\u001b[38;5;241m=\u001b[39m(\n\u001b[1;32m   1470\u001b[0m         prefer_skip_nested_validation \u001b[38;5;129;01mor\u001b[39;00m global_skip_validation\n\u001b[1;32m   1471\u001b[0m     )\n\u001b[1;32m   1472\u001b[0m ):\n\u001b[0;32m-> 1473\u001b[0m     \u001b[38;5;28;01mreturn\u001b[39;00m \u001b[43mfit_method\u001b[49m\u001b[43m(\u001b[49m\u001b[43mestimator\u001b[49m\u001b[43m,\u001b[49m\u001b[43m \u001b[49m\u001b[38;5;241;43m*\u001b[39;49m\u001b[43margs\u001b[49m\u001b[43m,\u001b[49m\u001b[43m \u001b[49m\u001b[38;5;241;43m*\u001b[39;49m\u001b[38;5;241;43m*\u001b[39;49m\u001b[43mkwargs\u001b[49m\u001b[43m)\u001b[49m\n",
      "File \u001b[0;32m~/miniconda3/envs/pls/lib/python3.9/site-packages/sklearn/gaussian_process/_gpr.py:251\u001b[0m, in \u001b[0;36mGaussianProcessRegressor.fit\u001b[0;34m(self, X, y)\u001b[0m\n\u001b[1;32m    249\u001b[0m \u001b[38;5;28;01melse\u001b[39;00m:\n\u001b[1;32m    250\u001b[0m     dtype, ensure_2d \u001b[38;5;241m=\u001b[39m \u001b[38;5;28;01mNone\u001b[39;00m, \u001b[38;5;28;01mFalse\u001b[39;00m\n\u001b[0;32m--> 251\u001b[0m X, y \u001b[38;5;241m=\u001b[39m \u001b[38;5;28;43mself\u001b[39;49m\u001b[38;5;241;43m.\u001b[39;49m\u001b[43m_validate_data\u001b[49m\u001b[43m(\u001b[49m\n\u001b[1;32m    252\u001b[0m \u001b[43m    \u001b[49m\u001b[43mX\u001b[49m\u001b[43m,\u001b[49m\n\u001b[1;32m    253\u001b[0m \u001b[43m    \u001b[49m\u001b[43my\u001b[49m\u001b[43m,\u001b[49m\n\u001b[1;32m    254\u001b[0m \u001b[43m    \u001b[49m\u001b[43mmulti_output\u001b[49m\u001b[38;5;241;43m=\u001b[39;49m\u001b[38;5;28;43;01mTrue\u001b[39;49;00m\u001b[43m,\u001b[49m\n\u001b[1;32m    255\u001b[0m \u001b[43m    \u001b[49m\u001b[43my_numeric\u001b[49m\u001b[38;5;241;43m=\u001b[39;49m\u001b[38;5;28;43;01mTrue\u001b[39;49;00m\u001b[43m,\u001b[49m\n\u001b[1;32m    256\u001b[0m \u001b[43m    \u001b[49m\u001b[43mensure_2d\u001b[49m\u001b[38;5;241;43m=\u001b[39;49m\u001b[43mensure_2d\u001b[49m\u001b[43m,\u001b[49m\n\u001b[1;32m    257\u001b[0m \u001b[43m    \u001b[49m\u001b[43mdtype\u001b[49m\u001b[38;5;241;43m=\u001b[39;49m\u001b[43mdtype\u001b[49m\u001b[43m,\u001b[49m\n\u001b[1;32m    258\u001b[0m \u001b[43m\u001b[49m\u001b[43m)\u001b[49m\n\u001b[1;32m    260\u001b[0m n_targets_seen \u001b[38;5;241m=\u001b[39m y\u001b[38;5;241m.\u001b[39mshape[\u001b[38;5;241m1\u001b[39m] \u001b[38;5;28;01mif\u001b[39;00m y\u001b[38;5;241m.\u001b[39mndim \u001b[38;5;241m>\u001b[39m \u001b[38;5;241m1\u001b[39m \u001b[38;5;28;01melse\u001b[39;00m \u001b[38;5;241m1\u001b[39m\n\u001b[1;32m    261\u001b[0m \u001b[38;5;28;01mif\u001b[39;00m \u001b[38;5;28mself\u001b[39m\u001b[38;5;241m.\u001b[39mn_targets \u001b[38;5;129;01mis\u001b[39;00m \u001b[38;5;129;01mnot\u001b[39;00m \u001b[38;5;28;01mNone\u001b[39;00m \u001b[38;5;129;01mand\u001b[39;00m n_targets_seen \u001b[38;5;241m!=\u001b[39m \u001b[38;5;28mself\u001b[39m\u001b[38;5;241m.\u001b[39mn_targets:\n",
      "File \u001b[0;32m~/miniconda3/envs/pls/lib/python3.9/site-packages/sklearn/base.py:650\u001b[0m, in \u001b[0;36mBaseEstimator._validate_data\u001b[0;34m(self, X, y, reset, validate_separately, cast_to_ndarray, **check_params)\u001b[0m\n\u001b[1;32m    648\u001b[0m         y \u001b[38;5;241m=\u001b[39m check_array(y, input_name\u001b[38;5;241m=\u001b[39m\u001b[38;5;124m\"\u001b[39m\u001b[38;5;124my\u001b[39m\u001b[38;5;124m\"\u001b[39m, \u001b[38;5;241m*\u001b[39m\u001b[38;5;241m*\u001b[39mcheck_y_params)\n\u001b[1;32m    649\u001b[0m     \u001b[38;5;28;01melse\u001b[39;00m:\n\u001b[0;32m--> 650\u001b[0m         X, y \u001b[38;5;241m=\u001b[39m \u001b[43mcheck_X_y\u001b[49m\u001b[43m(\u001b[49m\u001b[43mX\u001b[49m\u001b[43m,\u001b[49m\u001b[43m \u001b[49m\u001b[43my\u001b[49m\u001b[43m,\u001b[49m\u001b[43m \u001b[49m\u001b[38;5;241;43m*\u001b[39;49m\u001b[38;5;241;43m*\u001b[39;49m\u001b[43mcheck_params\u001b[49m\u001b[43m)\u001b[49m\n\u001b[1;32m    651\u001b[0m     out \u001b[38;5;241m=\u001b[39m X, y\n\u001b[1;32m    653\u001b[0m \u001b[38;5;28;01mif\u001b[39;00m \u001b[38;5;129;01mnot\u001b[39;00m no_val_X \u001b[38;5;129;01mand\u001b[39;00m check_params\u001b[38;5;241m.\u001b[39mget(\u001b[38;5;124m\"\u001b[39m\u001b[38;5;124mensure_2d\u001b[39m\u001b[38;5;124m\"\u001b[39m, \u001b[38;5;28;01mTrue\u001b[39;00m):\n",
      "File \u001b[0;32m~/miniconda3/envs/pls/lib/python3.9/site-packages/sklearn/utils/validation.py:1289\u001b[0m, in \u001b[0;36mcheck_X_y\u001b[0;34m(X, y, accept_sparse, accept_large_sparse, dtype, order, copy, force_all_finite, ensure_2d, allow_nd, multi_output, ensure_min_samples, ensure_min_features, y_numeric, estimator)\u001b[0m\n\u001b[1;32m   1269\u001b[0m     \u001b[38;5;28;01mraise\u001b[39;00m \u001b[38;5;167;01mValueError\u001b[39;00m(\n\u001b[1;32m   1270\u001b[0m         \u001b[38;5;124mf\u001b[39m\u001b[38;5;124m\"\u001b[39m\u001b[38;5;132;01m{\u001b[39;00mestimator_name\u001b[38;5;132;01m}\u001b[39;00m\u001b[38;5;124m requires y to be passed, but the target y is None\u001b[39m\u001b[38;5;124m\"\u001b[39m\n\u001b[1;32m   1271\u001b[0m     )\n\u001b[1;32m   1273\u001b[0m X \u001b[38;5;241m=\u001b[39m check_array(\n\u001b[1;32m   1274\u001b[0m     X,\n\u001b[1;32m   1275\u001b[0m     accept_sparse\u001b[38;5;241m=\u001b[39maccept_sparse,\n\u001b[0;32m   (...)\u001b[0m\n\u001b[1;32m   1286\u001b[0m     input_name\u001b[38;5;241m=\u001b[39m\u001b[38;5;124m\"\u001b[39m\u001b[38;5;124mX\u001b[39m\u001b[38;5;124m\"\u001b[39m,\n\u001b[1;32m   1287\u001b[0m )\n\u001b[0;32m-> 1289\u001b[0m y \u001b[38;5;241m=\u001b[39m \u001b[43m_check_y\u001b[49m\u001b[43m(\u001b[49m\u001b[43my\u001b[49m\u001b[43m,\u001b[49m\u001b[43m \u001b[49m\u001b[43mmulti_output\u001b[49m\u001b[38;5;241;43m=\u001b[39;49m\u001b[43mmulti_output\u001b[49m\u001b[43m,\u001b[49m\u001b[43m \u001b[49m\u001b[43my_numeric\u001b[49m\u001b[38;5;241;43m=\u001b[39;49m\u001b[43my_numeric\u001b[49m\u001b[43m,\u001b[49m\u001b[43m \u001b[49m\u001b[43mestimator\u001b[49m\u001b[38;5;241;43m=\u001b[39;49m\u001b[43mestimator\u001b[49m\u001b[43m)\u001b[49m\n\u001b[1;32m   1291\u001b[0m check_consistent_length(X, y)\n\u001b[1;32m   1293\u001b[0m \u001b[38;5;28;01mreturn\u001b[39;00m X, y\n",
      "File \u001b[0;32m~/miniconda3/envs/pls/lib/python3.9/site-packages/sklearn/utils/validation.py:1299\u001b[0m, in \u001b[0;36m_check_y\u001b[0;34m(y, multi_output, y_numeric, estimator)\u001b[0m\n\u001b[1;32m   1297\u001b[0m \u001b[38;5;250m\u001b[39m\u001b[38;5;124;03m\"\"\"Isolated part of check_X_y dedicated to y validation\"\"\"\u001b[39;00m\n\u001b[1;32m   1298\u001b[0m \u001b[38;5;28;01mif\u001b[39;00m multi_output:\n\u001b[0;32m-> 1299\u001b[0m     y \u001b[38;5;241m=\u001b[39m \u001b[43mcheck_array\u001b[49m\u001b[43m(\u001b[49m\n\u001b[1;32m   1300\u001b[0m \u001b[43m        \u001b[49m\u001b[43my\u001b[49m\u001b[43m,\u001b[49m\n\u001b[1;32m   1301\u001b[0m \u001b[43m        \u001b[49m\u001b[43maccept_sparse\u001b[49m\u001b[38;5;241;43m=\u001b[39;49m\u001b[38;5;124;43m\"\u001b[39;49m\u001b[38;5;124;43mcsr\u001b[39;49m\u001b[38;5;124;43m\"\u001b[39;49m\u001b[43m,\u001b[49m\n\u001b[1;32m   1302\u001b[0m \u001b[43m        \u001b[49m\u001b[43mforce_all_finite\u001b[49m\u001b[38;5;241;43m=\u001b[39;49m\u001b[38;5;28;43;01mTrue\u001b[39;49;00m\u001b[43m,\u001b[49m\n\u001b[1;32m   1303\u001b[0m \u001b[43m        \u001b[49m\u001b[43mensure_2d\u001b[49m\u001b[38;5;241;43m=\u001b[39;49m\u001b[38;5;28;43;01mFalse\u001b[39;49;00m\u001b[43m,\u001b[49m\n\u001b[1;32m   1304\u001b[0m \u001b[43m        \u001b[49m\u001b[43mdtype\u001b[49m\u001b[38;5;241;43m=\u001b[39;49m\u001b[38;5;28;43;01mNone\u001b[39;49;00m\u001b[43m,\u001b[49m\n\u001b[1;32m   1305\u001b[0m \u001b[43m        \u001b[49m\u001b[43minput_name\u001b[49m\u001b[38;5;241;43m=\u001b[39;49m\u001b[38;5;124;43m\"\u001b[39;49m\u001b[38;5;124;43my\u001b[39;49m\u001b[38;5;124;43m\"\u001b[39;49m\u001b[43m,\u001b[49m\n\u001b[1;32m   1306\u001b[0m \u001b[43m        \u001b[49m\u001b[43mestimator\u001b[49m\u001b[38;5;241;43m=\u001b[39;49m\u001b[43mestimator\u001b[49m\u001b[43m,\u001b[49m\n\u001b[1;32m   1307\u001b[0m \u001b[43m    \u001b[49m\u001b[43m)\u001b[49m\n\u001b[1;32m   1308\u001b[0m \u001b[38;5;28;01melse\u001b[39;00m:\n\u001b[1;32m   1309\u001b[0m     estimator_name \u001b[38;5;241m=\u001b[39m _check_estimator_name(estimator)\n",
      "File \u001b[0;32m~/miniconda3/envs/pls/lib/python3.9/site-packages/sklearn/utils/validation.py:1059\u001b[0m, in \u001b[0;36mcheck_array\u001b[0;34m(array, accept_sparse, accept_large_sparse, dtype, order, copy, force_all_finite, ensure_2d, allow_nd, ensure_min_samples, ensure_min_features, estimator, input_name)\u001b[0m\n\u001b[1;32m   1053\u001b[0m     \u001b[38;5;28;01mraise\u001b[39;00m \u001b[38;5;167;01mValueError\u001b[39;00m(\n\u001b[1;32m   1054\u001b[0m         \u001b[38;5;124m\"\u001b[39m\u001b[38;5;124mFound array with dim \u001b[39m\u001b[38;5;132;01m%d\u001b[39;00m\u001b[38;5;124m. \u001b[39m\u001b[38;5;132;01m%s\u001b[39;00m\u001b[38;5;124m expected <= 2.\u001b[39m\u001b[38;5;124m\"\u001b[39m\n\u001b[1;32m   1055\u001b[0m         \u001b[38;5;241m%\u001b[39m (array\u001b[38;5;241m.\u001b[39mndim, estimator_name)\n\u001b[1;32m   1056\u001b[0m     )\n\u001b[1;32m   1058\u001b[0m \u001b[38;5;28;01mif\u001b[39;00m force_all_finite:\n\u001b[0;32m-> 1059\u001b[0m     \u001b[43m_assert_all_finite\u001b[49m\u001b[43m(\u001b[49m\n\u001b[1;32m   1060\u001b[0m \u001b[43m        \u001b[49m\u001b[43marray\u001b[49m\u001b[43m,\u001b[49m\n\u001b[1;32m   1061\u001b[0m \u001b[43m        \u001b[49m\u001b[43minput_name\u001b[49m\u001b[38;5;241;43m=\u001b[39;49m\u001b[43minput_name\u001b[49m\u001b[43m,\u001b[49m\n\u001b[1;32m   1062\u001b[0m \u001b[43m        \u001b[49m\u001b[43mestimator_name\u001b[49m\u001b[38;5;241;43m=\u001b[39;49m\u001b[43mestimator_name\u001b[49m\u001b[43m,\u001b[49m\n\u001b[1;32m   1063\u001b[0m \u001b[43m        \u001b[49m\u001b[43mallow_nan\u001b[49m\u001b[38;5;241;43m=\u001b[39;49m\u001b[43mforce_all_finite\u001b[49m\u001b[43m \u001b[49m\u001b[38;5;241;43m==\u001b[39;49m\u001b[43m \u001b[49m\u001b[38;5;124;43m\"\u001b[39;49m\u001b[38;5;124;43mallow-nan\u001b[39;49m\u001b[38;5;124;43m\"\u001b[39;49m\u001b[43m,\u001b[49m\n\u001b[1;32m   1064\u001b[0m \u001b[43m    \u001b[49m\u001b[43m)\u001b[49m\n\u001b[1;32m   1066\u001b[0m \u001b[38;5;28;01mif\u001b[39;00m copy:\n\u001b[1;32m   1067\u001b[0m     \u001b[38;5;28;01mif\u001b[39;00m _is_numpy_namespace(xp):\n\u001b[1;32m   1068\u001b[0m         \u001b[38;5;66;03m# only make a copy if `array` and `array_orig` may share memory`\u001b[39;00m\n",
      "File \u001b[0;32m~/miniconda3/envs/pls/lib/python3.9/site-packages/sklearn/utils/validation.py:126\u001b[0m, in \u001b[0;36m_assert_all_finite\u001b[0;34m(X, allow_nan, msg_dtype, estimator_name, input_name)\u001b[0m\n\u001b[1;32m    123\u001b[0m \u001b[38;5;28;01mif\u001b[39;00m first_pass_isfinite:\n\u001b[1;32m    124\u001b[0m     \u001b[38;5;28;01mreturn\u001b[39;00m\n\u001b[0;32m--> 126\u001b[0m \u001b[43m_assert_all_finite_element_wise\u001b[49m\u001b[43m(\u001b[49m\n\u001b[1;32m    127\u001b[0m \u001b[43m    \u001b[49m\u001b[43mX\u001b[49m\u001b[43m,\u001b[49m\n\u001b[1;32m    128\u001b[0m \u001b[43m    \u001b[49m\u001b[43mxp\u001b[49m\u001b[38;5;241;43m=\u001b[39;49m\u001b[43mxp\u001b[49m\u001b[43m,\u001b[49m\n\u001b[1;32m    129\u001b[0m \u001b[43m    \u001b[49m\u001b[43mallow_nan\u001b[49m\u001b[38;5;241;43m=\u001b[39;49m\u001b[43mallow_nan\u001b[49m\u001b[43m,\u001b[49m\n\u001b[1;32m    130\u001b[0m \u001b[43m    \u001b[49m\u001b[43mmsg_dtype\u001b[49m\u001b[38;5;241;43m=\u001b[39;49m\u001b[43mmsg_dtype\u001b[49m\u001b[43m,\u001b[49m\n\u001b[1;32m    131\u001b[0m \u001b[43m    \u001b[49m\u001b[43mestimator_name\u001b[49m\u001b[38;5;241;43m=\u001b[39;49m\u001b[43mestimator_name\u001b[49m\u001b[43m,\u001b[49m\n\u001b[1;32m    132\u001b[0m \u001b[43m    \u001b[49m\u001b[43minput_name\u001b[49m\u001b[38;5;241;43m=\u001b[39;49m\u001b[43minput_name\u001b[49m\u001b[43m,\u001b[49m\n\u001b[1;32m    133\u001b[0m \u001b[43m\u001b[49m\u001b[43m)\u001b[49m\n",
      "File \u001b[0;32m~/miniconda3/envs/pls/lib/python3.9/site-packages/sklearn/utils/validation.py:175\u001b[0m, in \u001b[0;36m_assert_all_finite_element_wise\u001b[0;34m(X, xp, allow_nan, msg_dtype, estimator_name, input_name)\u001b[0m\n\u001b[1;32m    158\u001b[0m \u001b[38;5;28;01mif\u001b[39;00m estimator_name \u001b[38;5;129;01mand\u001b[39;00m input_name \u001b[38;5;241m==\u001b[39m \u001b[38;5;124m\"\u001b[39m\u001b[38;5;124mX\u001b[39m\u001b[38;5;124m\"\u001b[39m \u001b[38;5;129;01mand\u001b[39;00m has_nan_error:\n\u001b[1;32m    159\u001b[0m     \u001b[38;5;66;03m# Improve the error message on how to handle missing values in\u001b[39;00m\n\u001b[1;32m    160\u001b[0m     \u001b[38;5;66;03m# scikit-learn.\u001b[39;00m\n\u001b[1;32m    161\u001b[0m     msg_err \u001b[38;5;241m+\u001b[39m\u001b[38;5;241m=\u001b[39m (\n\u001b[1;32m    162\u001b[0m         \u001b[38;5;124mf\u001b[39m\u001b[38;5;124m\"\u001b[39m\u001b[38;5;130;01m\\n\u001b[39;00m\u001b[38;5;132;01m{\u001b[39;00mestimator_name\u001b[38;5;132;01m}\u001b[39;00m\u001b[38;5;124m does not accept missing values\u001b[39m\u001b[38;5;124m\"\u001b[39m\n\u001b[1;32m    163\u001b[0m         \u001b[38;5;124m\"\u001b[39m\u001b[38;5;124m encoded as NaN natively. For supervised learning, you might want\u001b[39m\u001b[38;5;124m\"\u001b[39m\n\u001b[0;32m   (...)\u001b[0m\n\u001b[1;32m    173\u001b[0m         \u001b[38;5;124m\"\u001b[39m\u001b[38;5;124m#estimators-that-handle-nan-values\u001b[39m\u001b[38;5;124m\"\u001b[39m\n\u001b[1;32m    174\u001b[0m     )\n\u001b[0;32m--> 175\u001b[0m \u001b[38;5;28;01mraise\u001b[39;00m \u001b[38;5;167;01mValueError\u001b[39;00m(msg_err)\n",
      "\u001b[0;31mValueError\u001b[0m: Input y contains NaN."
     ]
    }
   ],
   "source": [
    "import Code.OLPLS\n",
    "importlib.reload(Code.OLPLS)\n",
    "from Code.OLPLS import OLPLS\n",
    "\n",
    "n_comp_max = 10\n",
    "\n",
    "space  = [ Integer(1, 10, name='n_components'),\n",
    "           Real(1e-9, 1e-5, name='mu', prior=\"log-uniform\"),\n",
    "           Real(0, 1, name='amnesic')]\n",
    "\n",
    "@use_named_args(space)\n",
    "def Comp_Model_Score(n_components, mu, amnesic):\n",
    "    cv = KFold(n_splits=kf_num)\n",
    "    score_fold = np.zeros((cv.get_n_splits(),))\n",
    "    PLS = OLPLS(n_components=n_components, mu=mu, amnesic=amnesic)\n",
    "    print(f\"__n-comp={PLS.n_components:03d}, mu={PLS.mu:.4e}, amnesic={PLS.amnesic:.2f}\")\n",
    "\n",
    "    for i, (train_index, test_index) in enumerate(cv.split(X_train)):\n",
    "        model_loc = copy.deepcopy(PLS)\n",
    "        try:\n",
    "            for batch in gen_batches(len(train_index), len(test_index)):\n",
    "                train_batch = train_index[batch]\n",
    "                model_loc.fit(X_train[train_batch], y_train[train_batch])\n",
    "\n",
    "            y_true = y_train[test_index]\n",
    "            y_pred = model_loc.predict(X_train[test_index], n_components)\n",
    "            score_fold[i] = RMSE(y_true, y_pred)\n",
    "            # print(f\"fold: {i:02d}, score:{score_loc[i]: .3f}\")\n",
    "\n",
    "        except Exception as e:\n",
    "            print(\"  \"+\"-\"*20)\n",
    "            print(f\"  fold: {i:02d} failure !\")\n",
    "            print(\"    Error: \", e)\n",
    "            print(\"  \"+\"-\"*20)\n",
    "            score_fold[i] = np.nan\n",
    "            break\n",
    "    return np.mean(score_fold)\n",
    "\n",
    "tim_tot.tic()\n",
    "res_gp = gp_minimize(Comp_Model_Score, space, n_calls=30,\n",
    "                     random_state=0, verbose=True)\n",
    "\n",
    "print(\"-\"*40)\n",
    "print(f\"Best amnesic = {res_gp.x[0]}\")\n",
    "print(f\"Best mu = {res_gp.x[1]}\")\n",
    "print(f\"Best score = {res_gp.fun:.4f}\")\n",
    "print(f\"total time = {tim_tot.tocvalue():.1f}s\")"
   ]
  },
  {
   "cell_type": "code",
   "execution_count": 17,
   "id": "15d29aea-8365-4bdf-9427-0175d31a6b53",
   "metadata": {
    "collapsed": false
   },
   "outputs": [
    {
     "name": "stdout",
     "output_type": "stream",
     "text": [
      "Iteration No: 1 started. Evaluating function at random point.\n",
      "__n-comp=006, eta=2.3827e-06\n"
     ]
    },
    {
     "name": "stdout",
     "output_type": "stream",
     "text": [
      "  --------------------\n",
      "  fold: 00 failure !\n",
      "    Error:  Input contains NaN.\n",
      "  --------------------\n",
      "Iteration No: 1 ended. Evaluation done at random point.\n",
      "Time taken: 101.1086\n",
      "Function value obtained: nan\n",
      "Current minimum: nan\n",
      "Iteration No: 2 started. Evaluating function at random point.\n",
      "__n-comp=009, eta=2.4491e-06\n"
     ]
    },
    {
     "name": "stdout",
     "output_type": "stream",
     "text": [
      "  --------------------\n",
      "  fold: 00 failure !\n",
      "    Error:  Input contains NaN.\n",
      "  --------------------\n",
      "Iteration No: 2 ended. Evaluation done at random point.\n",
      "Time taken: 121.0916\n",
      "Function value obtained: nan\n",
      "Current minimum: nan\n",
      "Iteration No: 3 started. Evaluating function at random point.\n",
      "__n-comp=007, eta=3.4477e-08\n"
     ]
    },
    {
     "name": "stdout",
     "output_type": "stream",
     "text": [
      "Iteration No: 3 ended. Evaluation done at random point.\n",
      "Time taken: 3472.5411\n",
      "Function value obtained: 24062435.6205\n",
      "Current minimum: nan\n",
      "Iteration No: 4 started. Evaluating function at random point.\n",
      "__n-comp=004, eta=1.6860e-09\n"
     ]
    },
    {
     "name": "stdout",
     "output_type": "stream",
     "text": [
      "Iteration No: 4 ended. Evaluation done at random point.\n",
      "Time taken: 2780.4997\n",
      "Function value obtained: 18152941.6886\n",
      "Current minimum: nan\n",
      "Iteration No: 5 started. Evaluating function at random point.\n",
      "__n-comp=003, eta=8.1407e-08\n"
     ]
    },
    {
     "name": "stdout",
     "output_type": "stream",
     "text": [
      "Iteration No: 5 ended. Evaluation done at random point.\n",
      "Time taken: 2549.2179\n",
      "Function value obtained: 5726047.2883\n",
      "Current minimum: nan\n",
      "Iteration No: 6 started. Evaluating function at random point.\n",
      "__n-comp=008, eta=8.3159e-08\n"
     ]
    },
    {
     "name": "stdout",
     "output_type": "stream",
     "text": [
      "Iteration No: 6 ended. Evaluation done at random point.\n",
      "Time taken: 3697.9358\n",
      "Function value obtained: 12288698.8261\n",
      "Current minimum: nan\n",
      "Iteration No: 7 started. Evaluating function at random point.\n",
      "__n-comp=005, eta=2.2096e-06\n"
     ]
    },
    {
     "name": "stdout",
     "output_type": "stream",
     "text": [
      "  --------------------\n",
      "  fold: 00 failure !\n",
      "    Error:  Input contains NaN.\n",
      "  --------------------\n",
      "Iteration No: 7 ended. Evaluation done at random point.\n",
      "Time taken: 128.4077\n",
      "Function value obtained: nan\n",
      "Current minimum: nan\n",
      "Iteration No: 8 started. Evaluating function at random point.\n",
      "__n-comp=004, eta=3.9146e-07\n"
     ]
    },
    {
     "ename": "KeyboardInterrupt",
     "evalue": "",
     "output_type": "error",
     "traceback": [
      "\u001b[0;31m---------------------------------------------------------------------------\u001b[0m",
      "\u001b[0;31mKeyboardInterrupt\u001b[0m                         Traceback (most recent call last)",
      "Cell \u001b[0;32mIn[17], line 37\u001b[0m\n\u001b[1;32m     34\u001b[0m     \u001b[38;5;28;01mreturn\u001b[39;00m np\u001b[38;5;241m.\u001b[39mmean(score_fold)\n\u001b[1;32m     36\u001b[0m tim_tot\u001b[38;5;241m.\u001b[39mtic()\n\u001b[0;32m---> 37\u001b[0m res_gp \u001b[38;5;241m=\u001b[39m \u001b[43mgp_minimize\u001b[49m\u001b[43m(\u001b[49m\u001b[43mComp_Model_Score\u001b[49m\u001b[43m,\u001b[49m\u001b[43m \u001b[49m\u001b[43mspace\u001b[49m\u001b[43m,\u001b[49m\u001b[43m \u001b[49m\u001b[43mn_calls\u001b[49m\u001b[38;5;241;43m=\u001b[39;49m\u001b[38;5;241;43m20\u001b[39;49m\u001b[43m,\u001b[49m\n\u001b[1;32m     38\u001b[0m \u001b[43m                     \u001b[49m\u001b[43mrandom_state\u001b[49m\u001b[38;5;241;43m=\u001b[39;49m\u001b[38;5;241;43m0\u001b[39;49m\u001b[43m,\u001b[49m\u001b[43m \u001b[49m\u001b[43mverbose\u001b[49m\u001b[38;5;241;43m=\u001b[39;49m\u001b[38;5;28;43;01mTrue\u001b[39;49;00m\u001b[43m)\u001b[49m\n\u001b[1;32m     40\u001b[0m \u001b[38;5;28mprint\u001b[39m(\u001b[38;5;124m\"\u001b[39m\u001b[38;5;124m-\u001b[39m\u001b[38;5;124m\"\u001b[39m\u001b[38;5;241m*\u001b[39m\u001b[38;5;241m40\u001b[39m)\n\u001b[1;32m     41\u001b[0m \u001b[38;5;28mprint\u001b[39m(\u001b[38;5;124mf\u001b[39m\u001b[38;5;124m\"\u001b[39m\u001b[38;5;124mBest amnesic = \u001b[39m\u001b[38;5;132;01m{\u001b[39;00mres_gp\u001b[38;5;241m.\u001b[39mx[\u001b[38;5;241m0\u001b[39m]\u001b[38;5;132;01m}\u001b[39;00m\u001b[38;5;124m\"\u001b[39m)\n",
      "File \u001b[0;32m~/miniconda3/envs/pls/lib/python3.9/site-packages/skopt/optimizer/gp.py:281\u001b[0m, in \u001b[0;36mgp_minimize\u001b[0;34m(func, dimensions, base_estimator, n_calls, n_random_starts, n_initial_points, initial_point_generator, acq_func, acq_optimizer, x0, y0, random_state, verbose, callback, n_points, n_restarts_optimizer, xi, kappa, noise, n_jobs, model_queue_size, space_constraint)\u001b[0m\n\u001b[1;32m    273\u001b[0m \u001b[38;5;28;01mif\u001b[39;00m base_estimator \u001b[38;5;129;01mis\u001b[39;00m \u001b[38;5;28;01mNone\u001b[39;00m:\n\u001b[1;32m    274\u001b[0m     base_estimator \u001b[38;5;241m=\u001b[39m cook_estimator(\n\u001b[1;32m    275\u001b[0m         \u001b[38;5;124m\"\u001b[39m\u001b[38;5;124mGP\u001b[39m\u001b[38;5;124m\"\u001b[39m,\n\u001b[1;32m    276\u001b[0m         space\u001b[38;5;241m=\u001b[39mspace,\n\u001b[1;32m    277\u001b[0m         random_state\u001b[38;5;241m=\u001b[39mrng\u001b[38;5;241m.\u001b[39mrandint(\u001b[38;5;241m0\u001b[39m, np\u001b[38;5;241m.\u001b[39miinfo(np\u001b[38;5;241m.\u001b[39mint32)\u001b[38;5;241m.\u001b[39mmax),\n\u001b[1;32m    278\u001b[0m         noise\u001b[38;5;241m=\u001b[39mnoise,\n\u001b[1;32m    279\u001b[0m     )\n\u001b[0;32m--> 281\u001b[0m \u001b[38;5;28;01mreturn\u001b[39;00m \u001b[43mbase_minimize\u001b[49m\u001b[43m(\u001b[49m\n\u001b[1;32m    282\u001b[0m \u001b[43m    \u001b[49m\u001b[43mfunc\u001b[49m\u001b[43m,\u001b[49m\n\u001b[1;32m    283\u001b[0m \u001b[43m    \u001b[49m\u001b[43mspace\u001b[49m\u001b[43m,\u001b[49m\n\u001b[1;32m    284\u001b[0m \u001b[43m    \u001b[49m\u001b[43mbase_estimator\u001b[49m\u001b[38;5;241;43m=\u001b[39;49m\u001b[43mbase_estimator\u001b[49m\u001b[43m,\u001b[49m\n\u001b[1;32m    285\u001b[0m \u001b[43m    \u001b[49m\u001b[43macq_func\u001b[49m\u001b[38;5;241;43m=\u001b[39;49m\u001b[43macq_func\u001b[49m\u001b[43m,\u001b[49m\n\u001b[1;32m    286\u001b[0m \u001b[43m    \u001b[49m\u001b[43mxi\u001b[49m\u001b[38;5;241;43m=\u001b[39;49m\u001b[43mxi\u001b[49m\u001b[43m,\u001b[49m\n\u001b[1;32m    287\u001b[0m \u001b[43m    \u001b[49m\u001b[43mkappa\u001b[49m\u001b[38;5;241;43m=\u001b[39;49m\u001b[43mkappa\u001b[49m\u001b[43m,\u001b[49m\n\u001b[1;32m    288\u001b[0m \u001b[43m    \u001b[49m\u001b[43macq_optimizer\u001b[49m\u001b[38;5;241;43m=\u001b[39;49m\u001b[43macq_optimizer\u001b[49m\u001b[43m,\u001b[49m\n\u001b[1;32m    289\u001b[0m \u001b[43m    \u001b[49m\u001b[43mn_calls\u001b[49m\u001b[38;5;241;43m=\u001b[39;49m\u001b[43mn_calls\u001b[49m\u001b[43m,\u001b[49m\n\u001b[1;32m    290\u001b[0m \u001b[43m    \u001b[49m\u001b[43mn_points\u001b[49m\u001b[38;5;241;43m=\u001b[39;49m\u001b[43mn_points\u001b[49m\u001b[43m,\u001b[49m\n\u001b[1;32m    291\u001b[0m \u001b[43m    \u001b[49m\u001b[43mn_random_starts\u001b[49m\u001b[38;5;241;43m=\u001b[39;49m\u001b[43mn_random_starts\u001b[49m\u001b[43m,\u001b[49m\n\u001b[1;32m    292\u001b[0m \u001b[43m    \u001b[49m\u001b[43mn_initial_points\u001b[49m\u001b[38;5;241;43m=\u001b[39;49m\u001b[43mn_initial_points\u001b[49m\u001b[43m,\u001b[49m\n\u001b[1;32m    293\u001b[0m \u001b[43m    \u001b[49m\u001b[43minitial_point_generator\u001b[49m\u001b[38;5;241;43m=\u001b[39;49m\u001b[43minitial_point_generator\u001b[49m\u001b[43m,\u001b[49m\n\u001b[1;32m    294\u001b[0m \u001b[43m    \u001b[49m\u001b[43mn_restarts_optimizer\u001b[49m\u001b[38;5;241;43m=\u001b[39;49m\u001b[43mn_restarts_optimizer\u001b[49m\u001b[43m,\u001b[49m\n\u001b[1;32m    295\u001b[0m \u001b[43m    \u001b[49m\u001b[43mx0\u001b[49m\u001b[38;5;241;43m=\u001b[39;49m\u001b[43mx0\u001b[49m\u001b[43m,\u001b[49m\n\u001b[1;32m    296\u001b[0m \u001b[43m    \u001b[49m\u001b[43my0\u001b[49m\u001b[38;5;241;43m=\u001b[39;49m\u001b[43my0\u001b[49m\u001b[43m,\u001b[49m\n\u001b[1;32m    297\u001b[0m \u001b[43m    \u001b[49m\u001b[43mrandom_state\u001b[49m\u001b[38;5;241;43m=\u001b[39;49m\u001b[43mrng\u001b[49m\u001b[43m,\u001b[49m\n\u001b[1;32m    298\u001b[0m \u001b[43m    \u001b[49m\u001b[43mverbose\u001b[49m\u001b[38;5;241;43m=\u001b[39;49m\u001b[43mverbose\u001b[49m\u001b[43m,\u001b[49m\n\u001b[1;32m    299\u001b[0m \u001b[43m    \u001b[49m\u001b[43mspace_constraint\u001b[49m\u001b[38;5;241;43m=\u001b[39;49m\u001b[43mspace_constraint\u001b[49m\u001b[43m,\u001b[49m\n\u001b[1;32m    300\u001b[0m \u001b[43m    \u001b[49m\u001b[43mcallback\u001b[49m\u001b[38;5;241;43m=\u001b[39;49m\u001b[43mcallback\u001b[49m\u001b[43m,\u001b[49m\n\u001b[1;32m    301\u001b[0m \u001b[43m    \u001b[49m\u001b[43mn_jobs\u001b[49m\u001b[38;5;241;43m=\u001b[39;49m\u001b[43mn_jobs\u001b[49m\u001b[43m,\u001b[49m\n\u001b[1;32m    302\u001b[0m \u001b[43m    \u001b[49m\u001b[43mmodel_queue_size\u001b[49m\u001b[38;5;241;43m=\u001b[39;49m\u001b[43mmodel_queue_size\u001b[49m\u001b[43m,\u001b[49m\n\u001b[1;32m    303\u001b[0m \u001b[43m\u001b[49m\u001b[43m)\u001b[49m\n",
      "File \u001b[0;32m~/miniconda3/envs/pls/lib/python3.9/site-packages/skopt/optimizer/base.py:332\u001b[0m, in \u001b[0;36mbase_minimize\u001b[0;34m(func, dimensions, base_estimator, n_calls, n_random_starts, n_initial_points, initial_point_generator, acq_func, acq_optimizer, x0, y0, random_state, verbose, callback, n_points, n_restarts_optimizer, xi, kappa, n_jobs, model_queue_size, space_constraint)\u001b[0m\n\u001b[1;32m    330\u001b[0m \u001b[38;5;28;01mfor\u001b[39;00m _ \u001b[38;5;129;01min\u001b[39;00m \u001b[38;5;28mrange\u001b[39m(n_calls):\n\u001b[1;32m    331\u001b[0m     next_x \u001b[38;5;241m=\u001b[39m optimizer\u001b[38;5;241m.\u001b[39mask()\n\u001b[0;32m--> 332\u001b[0m     next_y \u001b[38;5;241m=\u001b[39m \u001b[43mfunc\u001b[49m\u001b[43m(\u001b[49m\u001b[43mnext_x\u001b[49m\u001b[43m)\u001b[49m\n\u001b[1;32m    333\u001b[0m     result \u001b[38;5;241m=\u001b[39m optimizer\u001b[38;5;241m.\u001b[39mtell(next_x, next_y)\n\u001b[1;32m    334\u001b[0m     result\u001b[38;5;241m.\u001b[39mspecs \u001b[38;5;241m=\u001b[39m specs\n",
      "File \u001b[0;32m~/miniconda3/envs/pls/lib/python3.9/site-packages/skopt/utils.py:779\u001b[0m, in \u001b[0;36muse_named_args.<locals>.decorator.<locals>.wrapper\u001b[0;34m(x)\u001b[0m\n\u001b[1;32m    776\u001b[0m arg_dict \u001b[38;5;241m=\u001b[39m {dim\u001b[38;5;241m.\u001b[39mname: value \u001b[38;5;28;01mfor\u001b[39;00m dim, value \u001b[38;5;129;01min\u001b[39;00m \u001b[38;5;28mzip\u001b[39m(dimensions, x)}\n\u001b[1;32m    778\u001b[0m \u001b[38;5;66;03m# Call the wrapped objective function with the named arguments.\u001b[39;00m\n\u001b[0;32m--> 779\u001b[0m objective_value \u001b[38;5;241m=\u001b[39m \u001b[43mfunc\u001b[49m\u001b[43m(\u001b[49m\u001b[38;5;241;43m*\u001b[39;49m\u001b[38;5;241;43m*\u001b[39;49m\u001b[43marg_dict\u001b[49m\u001b[43m)\u001b[49m\n\u001b[1;32m    781\u001b[0m \u001b[38;5;28;01mreturn\u001b[39;00m objective_value\n",
      "Cell \u001b[0;32mIn[17], line 20\u001b[0m, in \u001b[0;36mComp_Model_Score\u001b[0;34m(n_components, eta)\u001b[0m\n\u001b[1;32m     18\u001b[0m \u001b[38;5;28;01mfor\u001b[39;00m batch \u001b[38;5;129;01min\u001b[39;00m gen_batches(\u001b[38;5;28mlen\u001b[39m(train_index), \u001b[38;5;28mlen\u001b[39m(test_index)):\n\u001b[1;32m     19\u001b[0m     train_batch \u001b[38;5;241m=\u001b[39m train_index[batch]\n\u001b[0;32m---> 20\u001b[0m     \u001b[43mmodel_loc\u001b[49m\u001b[38;5;241;43m.\u001b[39;49m\u001b[43mfit\u001b[49m\u001b[43m(\u001b[49m\u001b[43mX_train\u001b[49m\u001b[43m[\u001b[49m\u001b[43mtrain_batch\u001b[49m\u001b[43m]\u001b[49m\u001b[43m,\u001b[49m\u001b[43m \u001b[49m\u001b[43my_train\u001b[49m\u001b[43m[\u001b[49m\u001b[43mtrain_batch\u001b[49m\u001b[43m]\u001b[49m\u001b[43m)\u001b[49m\n\u001b[1;32m     22\u001b[0m y_true \u001b[38;5;241m=\u001b[39m y_train[test_index]\n\u001b[1;32m     23\u001b[0m y_pred \u001b[38;5;241m=\u001b[39m model_loc\u001b[38;5;241m.\u001b[39mpredict(X_train[test_index])\n",
      "File \u001b[0;32m/video/data/tingan/GitRep/IPLSreview/Code/SGDPLS.py:95\u001b[0m, in \u001b[0;36mSGDPLS.fit\u001b[0;34m(self, X, Y)\u001b[0m\n\u001b[1;32m     92\u001b[0m         yi \u001b[38;5;241m=\u001b[39m yi[:, np\u001b[38;5;241m.\u001b[39mnewaxis]\n\u001b[1;32m     94\u001b[0m         tmp \u001b[38;5;241m=\u001b[39m np\u001b[38;5;241m.\u001b[39mcopy(\u001b[38;5;28mself\u001b[39m\u001b[38;5;241m.\u001b[39mx_rotations)\n\u001b[0;32m---> 95\u001b[0m         \u001b[38;5;28mself\u001b[39m\u001b[38;5;241m.\u001b[39mx_rotations \u001b[38;5;241m+\u001b[39m\u001b[38;5;241m=\u001b[39m \u001b[38;5;28mself\u001b[39m\u001b[38;5;241m.\u001b[39meta \u001b[38;5;241m*\u001b[39m np\u001b[38;5;241m.\u001b[39mmatmul(\u001b[43mnp\u001b[49m\u001b[38;5;241;43m.\u001b[39;49m\u001b[43mmatmul\u001b[49m(xi, yi\u001b[38;5;241m.\u001b[39mT), \u001b[38;5;28mself\u001b[39m\u001b[38;5;241m.\u001b[39my_rotations)\n\u001b[1;32m     96\u001b[0m         \u001b[38;5;28mself\u001b[39m\u001b[38;5;241m.\u001b[39my_rotations \u001b[38;5;241m+\u001b[39m\u001b[38;5;241m=\u001b[39m \u001b[38;5;28mself\u001b[39m\u001b[38;5;241m.\u001b[39meta \u001b[38;5;241m*\u001b[39m np\u001b[38;5;241m.\u001b[39mmatmul(np\u001b[38;5;241m.\u001b[39mmatmul(yi, xi\u001b[38;5;241m.\u001b[39mT), tmp)\n\u001b[1;32m     98\u001b[0m \u001b[38;5;28mself\u001b[39m\u001b[38;5;241m.\u001b[39m_find_projections(X,Y)\n",
      "\u001b[0;31mKeyboardInterrupt\u001b[0m: "
     ]
    }
   ],
   "source": [
    "import Code.SGDPLS\n",
    "importlib.reload(Code.SGDPLS)\n",
    "from Code.SGDPLS import SGDPLS\n",
    "\n",
    "space  = [ Integer(1, 10, name='n_components'),\n",
    "           Real(1e-9, 1e-5, name='eta', prior=\"log-uniform\") ]\n",
    "\n",
    "@use_named_args(space)\n",
    "def Comp_Model_Score(n_components, eta):\n",
    "    cv = KFold(n_splits=kf_num)\n",
    "    score_fold = np.zeros((cv.get_n_splits(),))\n",
    "    PLS = SGDPLS(n_components=n_components, eta=eta)\n",
    "    print(f\"__n-comp={PLS.n_components:03d}, eta={PLS.eta:.4e}\")\n",
    "\n",
    "    for i, (train_index, test_index) in enumerate(cv.split(X_train)):\n",
    "        model_loc = copy.deepcopy(PLS)\n",
    "        try:\n",
    "            for batch in gen_batches(len(train_index), len(test_index)):\n",
    "                train_batch = train_index[batch]\n",
    "                model_loc.fit(X_train[train_batch], y_train[train_batch])\n",
    "\n",
    "            y_true = y_train[test_index]\n",
    "            y_pred = model_loc.predict(X_train[test_index])\n",
    "            score_fold[i] = RMSE(y_true, y_pred)\n",
    "            # print(f\"fold: {i:02d}, score:{score_loc[i]: .3f}\")\n",
    "\n",
    "        except Exception as e:\n",
    "            print(\"  \"+\"-\"*20)\n",
    "            print(f\"  fold: {i:02d} failure !\")\n",
    "            print(\"    Error: \", e)\n",
    "            print(\"  \"+\"-\"*20)\n",
    "            score_fold[i] = np.nan\n",
    "            break\n",
    "    return np.mean(score_fold)\n",
    "\n",
    "tim_tot.tic()\n",
    "res_gp = gp_minimize(Comp_Model_Score, space, n_calls=20,\n",
    "                     random_state=0, verbose=True)\n",
    "\n",
    "print(\"-\"*40)\n",
    "print(f\"Best amnesic = {res_gp.x[0]}\")\n",
    "print(f\"Best mu = {res_gp.x[1]}\")\n",
    "print(f\"Best score = {res_gp.fun:.4f}\")\n",
    "print(f\"total time = {tim_tot.tocvalue():.1f}s\")"
   ]
  },
  {
   "cell_type": "code",
   "execution_count": null,
   "id": "5550660b-5d96-4bb5-8890-22a0ea76683d",
   "metadata": {
    "collapsed": false
   },
   "outputs": [
    {
     "name": "stdout",
     "output_type": "stream",
     "text": [
      " << Error >>  !!!!!!!!!!!!!!!!!!!!\n",
      "illegal value in 4th argument of internal gesdd\n",
      "fold: 00 failure !\n",
      "params={'mu': 1e-05, 'amnesic': 0.01}, score=nan, elapsed time=95.9s\n"
     ]
    },
    {
     "name": "stdout",
     "output_type": "stream",
     "text": [
      " << Error >>  !!!!!!!!!!!!!!!!!!!!\n",
      "illegal value in 4th argument of internal gesdd\n",
      "fold: 00 failure !\n",
      "params={'mu': 1e-05, 'amnesic': 0.1}, score=nan, elapsed time=97.8s\n"
     ]
    },
    {
     "name": "stdout",
     "output_type": "stream",
     "text": [
      " << Error >>  !!!!!!!!!!!!!!!!!!!!\n",
      "illegal value in 4th argument of internal gesdd\n",
      "fold: 00 failure !\n",
      "params={'mu': 1e-05, 'amnesic': 0.2}, score=nan, elapsed time=98.0s\n"
     ]
    },
    {
     "name": "stdout",
     "output_type": "stream",
     "text": [
      " << Error >>  !!!!!!!!!!!!!!!!!!!!\n",
      "illegal value in 4th argument of internal gesdd\n",
      "fold: 00 failure !\n",
      "params={'mu': 1e-05, 'amnesic': 0.30000000000000004}, score=nan, elapsed time=97.7s\n"
     ]
    },
    {
     "name": "stdout",
     "output_type": "stream",
     "text": [
      " << Error >>  !!!!!!!!!!!!!!!!!!!!\n",
      "illegal value in 4th argument of internal gesdd\n",
      "fold: 00 failure !\n",
      "params={'mu': 1e-05, 'amnesic': 0.4}, score=nan, elapsed time=97.8s\n"
     ]
    },
    {
     "name": "stdout",
     "output_type": "stream",
     "text": [
      " << Error >>  !!!!!!!!!!!!!!!!!!!!\n",
      "illegal value in 4th argument of internal gesdd\n",
      "fold: 00 failure !\n",
      "params={'mu': 1e-05, 'amnesic': 0.5}, score=nan, elapsed time=98.5s\n"
     ]
    },
    {
     "name": "stdout",
     "output_type": "stream",
     "text": [
      " << Error >>  !!!!!!!!!!!!!!!!!!!!\n",
      "illegal value in 4th argument of internal gesdd\n",
      "fold: 00 failure !\n",
      "params={'mu': 1e-05, 'amnesic': 0.6}, score=nan, elapsed time=98.8s\n"
     ]
    },
    {
     "name": "stdout",
     "output_type": "stream",
     "text": [
      " << Error >>  !!!!!!!!!!!!!!!!!!!!\n",
      "illegal value in 4th argument of internal gesdd\n",
      "fold: 00 failure !\n",
      "params={'mu': 1e-05, 'amnesic': 0.7000000000000001}, score=nan, elapsed time=98.1s\n"
     ]
    },
    {
     "name": "stdout",
     "output_type": "stream",
     "text": [
      " << Error >>  !!!!!!!!!!!!!!!!!!!!\n",
      "illegal value in 4th argument of internal gesdd\n",
      "fold: 00 failure !\n",
      "params={'mu': 1e-05, 'amnesic': 0.8}, score=nan, elapsed time=98.7s\n"
     ]
    },
    {
     "name": "stdout",
     "output_type": "stream",
     "text": [
      " << Error >>  !!!!!!!!!!!!!!!!!!!!\n",
      "illegal value in 4th argument of internal gesdd\n",
      "fold: 00 failure !\n",
      "params={'mu': 1e-05, 'amnesic': 0.9}, score=nan, elapsed time=98.6s\n"
     ]
    },
    {
     "name": "stdout",
     "output_type": "stream",
     "text": [
      "params={'mu': 1e-05, 'amnesic': 0.99}, score=4.0882449e+01, elapsed time=961.4s\n"
     ]
    },
    {
     "name": "stdout",
     "output_type": "stream",
     "text": [
      " << Error >>  !!!!!!!!!!!!!!!!!!!!\n",
      "illegal value in 4th argument of internal gesdd\n",
      "fold: 00 failure !\n",
      "params={'mu': 1e-06, 'amnesic': 0.01}, score=nan, elapsed time=96.6s\n"
     ]
    },
    {
     "name": "stdout",
     "output_type": "stream",
     "text": [
      " << Error >>  !!!!!!!!!!!!!!!!!!!!\n",
      "illegal value in 4th argument of internal gesdd\n",
      "fold: 00 failure !\n",
      "params={'mu': 1e-06, 'amnesic': 0.1}, score=nan, elapsed time=98.8s\n"
     ]
    },
    {
     "name": "stdout",
     "output_type": "stream",
     "text": [
      " << Error >>  !!!!!!!!!!!!!!!!!!!!\n",
      "illegal value in 4th argument of internal gesdd\n",
      "fold: 00 failure !\n",
      "params={'mu': 1e-06, 'amnesic': 0.2}, score=nan, elapsed time=98.8s\n"
     ]
    },
    {
     "name": "stdout",
     "output_type": "stream",
     "text": [
      " << Error >>  !!!!!!!!!!!!!!!!!!!!\n",
      "illegal value in 4th argument of internal gesdd\n",
      "fold: 00 failure !\n",
      "params={'mu': 1e-06, 'amnesic': 0.30000000000000004}, score=nan, elapsed time=99.1s\n"
     ]
    },
    {
     "name": "stdout",
     "output_type": "stream",
     "text": [
      " << Error >>  !!!!!!!!!!!!!!!!!!!!\n",
      "illegal value in 4th argument of internal gesdd\n",
      "fold: 01 failure !\n",
      "params={'mu': 1e-06, 'amnesic': 0.4}, score=nan, elapsed time=198.1s\n"
     ]
    },
    {
     "name": "stdout",
     "output_type": "stream",
     "text": [
      " << Error >>  !!!!!!!!!!!!!!!!!!!!\n",
      "illegal value in 4th argument of internal gesdd\n",
      "fold: 01 failure !\n",
      "params={'mu': 1e-06, 'amnesic': 0.5}, score=nan, elapsed time=199.0s\n"
     ]
    },
    {
     "name": "stdout",
     "output_type": "stream",
     "text": [
      " << Error >>  !!!!!!!!!!!!!!!!!!!!\n",
      "illegal value in 4th argument of internal gesdd\n",
      "fold: 01 failure !\n",
      "params={'mu': 1e-06, 'amnesic': 0.6}, score=nan, elapsed time=198.3s\n"
     ]
    },
    {
     "name": "stdout",
     "output_type": "stream",
     "text": [
      " << Error >>  !!!!!!!!!!!!!!!!!!!!\n",
      "illegal value in 4th argument of internal gesdd\n",
      "fold: 01 failure !\n",
      "params={'mu': 1e-06, 'amnesic': 0.7000000000000001}, score=nan, elapsed time=197.3s\n"
     ]
    },
    {
     "name": "stdout",
     "output_type": "stream",
     "text": [
      " << Error >>  !!!!!!!!!!!!!!!!!!!!\n",
      "illegal value in 4th argument of internal gesdd\n",
      "fold: 01 failure !\n",
      "params={'mu': 1e-06, 'amnesic': 0.8}, score=nan, elapsed time=198.0s\n"
     ]
    },
    {
     "name": "stdout",
     "output_type": "stream",
     "text": [
      " << Error >>  !!!!!!!!!!!!!!!!!!!!\n",
      "illegal value in 4th argument of internal gesdd\n",
      "fold: 01 failure !\n",
      "params={'mu': 1e-06, 'amnesic': 0.9}, score=nan, elapsed time=197.2s\n"
     ]
    },
    {
     "name": "stdout",
     "output_type": "stream",
     "text": [
      "params={'mu': 1e-06, 'amnesic': 0.99}, score=4.4982391e+01, elapsed time=967.2s\n"
     ]
    },
    {
     "name": "stdout",
     "output_type": "stream",
     "text": [
      "params={'mu': 1e-07, 'amnesic': 0.01}, score=4.7792078e+01, elapsed time=1056.2s\n"
     ]
    },
    {
     "name": "stdout",
     "output_type": "stream",
     "text": [
      "params={'mu': 1e-07, 'amnesic': 0.1}, score=4.7791114e+01, elapsed time=992.5s\n"
     ]
    },
    {
     "name": "stdout",
     "output_type": "stream",
     "text": [
      "params={'mu': 1e-07, 'amnesic': 0.2}, score=4.7790298e+01, elapsed time=986.9s\n"
     ]
    },
    {
     "name": "stdout",
     "output_type": "stream",
     "text": [
      "params={'mu': 1e-07, 'amnesic': 0.30000000000000004}, score=4.7789721e+01, elapsed time=996.8s\n"
     ]
    },
    {
     "name": "stdout",
     "output_type": "stream",
     "text": [
      "params={'mu': 1e-07, 'amnesic': 0.4}, score=4.7789418e+01, elapsed time=987.8s\n"
     ]
    },
    {
     "name": "stdout",
     "output_type": "stream",
     "text": [
      "params={'mu': 1e-07, 'amnesic': 0.5}, score=4.7789459e+01, elapsed time=996.3s\n"
     ]
    },
    {
     "name": "stdout",
     "output_type": "stream",
     "text": [
      "params={'mu': 1e-07, 'amnesic': 0.6}, score=4.7789794e+01, elapsed time=984.4s\n"
     ]
    },
    {
     "name": "stdout",
     "output_type": "stream",
     "text": [
      "params={'mu': 1e-07, 'amnesic': 0.7000000000000001}, score=4.7790288e+01, elapsed time=983.7s\n"
     ]
    },
    {
     "name": "stdout",
     "output_type": "stream",
     "text": [
      "params={'mu': 1e-07, 'amnesic': 0.8}, score=4.7791058e+01, elapsed time=981.8s\n"
     ]
    },
    {
     "name": "stdout",
     "output_type": "stream",
     "text": [
      "params={'mu': 1e-07, 'amnesic': 0.9}, score=4.7792709e+01, elapsed time=981.4s\n"
     ]
    },
    {
     "name": "stdout",
     "output_type": "stream",
     "text": [
      "params={'mu': 1e-07, 'amnesic': 0.99}, score=4.7800150e+01, elapsed time=958.0s\n"
     ]
    },
    {
     "name": "stdout",
     "output_type": "stream",
     "text": [
      "params={'mu': 1e-08, 'amnesic': 0.01}, score=4.7901598e+01, elapsed time=959.1s\n"
     ]
    },
    {
     "name": "stdout",
     "output_type": "stream",
     "text": [
      "params={'mu': 1e-08, 'amnesic': 0.1}, score=4.7901701e+01, elapsed time=987.0s\n"
     ]
    },
    {
     "name": "stdout",
     "output_type": "stream",
     "text": [
      "params={'mu': 1e-08, 'amnesic': 0.2}, score=4.7901825e+01, elapsed time=989.1s\n"
     ]
    },
    {
     "name": "stdout",
     "output_type": "stream",
     "text": [
      "params={'mu': 1e-08, 'amnesic': 0.30000000000000004}, score=4.7901956e+01, elapsed time=989.5s\n"
     ]
    },
    {
     "name": "stdout",
     "output_type": "stream",
     "text": [
      "params={'mu': 1e-08, 'amnesic': 0.4}, score=4.7902092e+01, elapsed time=983.2s\n"
     ]
    },
    {
     "name": "stdout",
     "output_type": "stream",
     "text": [
      "params={'mu': 1e-08, 'amnesic': 0.5}, score=4.7902232e+01, elapsed time=986.0s\n"
     ]
    },
    {
     "name": "stdout",
     "output_type": "stream",
     "text": [
      "params={'mu': 1e-08, 'amnesic': 0.6}, score=4.7902376e+01, elapsed time=985.0s\n"
     ]
    },
    {
     "name": "stdout",
     "output_type": "stream",
     "text": [
      "params={'mu': 1e-08, 'amnesic': 0.7000000000000001}, score=4.7902530e+01, elapsed time=984.6s\n"
     ]
    },
    {
     "name": "stdout",
     "output_type": "stream",
     "text": [
      "params={'mu': 1e-08, 'amnesic': 0.8}, score=4.7902711e+01, elapsed time=983.9s\n"
     ]
    },
    {
     "name": "stdout",
     "output_type": "stream",
     "text": [
      "params={'mu': 1e-08, 'amnesic': 0.9}, score=4.7902993e+01, elapsed time=985.9s\n"
     ]
    },
    {
     "name": "stdout",
     "output_type": "stream",
     "text": [
      "params={'mu': 1e-08, 'amnesic': 0.99}, score=4.7904304e+01, elapsed time=962.8s\n",
      "\n",
      "best parameter: {'mu': 1e-05, 'amnesic': 0.99}; score: 4.0882449e+01; total time=26191.9s\n"
     ]
    }
   ],
   "source": [
    "import Code.OLPLS\n",
    "importlib.reload(Code.OLPLS)\n",
    "from Code.OLPLS import OLPLS\n",
    "\n",
    "scores = []\n",
    "params = []\n",
    "\n",
    "mu_list = [1e-5, 1e-6, 1e-7, 1e-8]\n",
    "amnesic_list = [1e-2] + list(np.arange(0.1,1.0,0.1)) + [0.99]\n",
    "\n",
    "tim_tot.tic()\n",
    "for mu in mu_list:\n",
    "    for amnesic in amnesic_list:\n",
    "        tim.tic()\n",
    "        scores.append(Batch_Update_CV(OLPLS(n_components=9, mu=mu, amnesic=amnesic),\n",
    "                                      KFold(n_splits=kf_num),\n",
    "                                      X_train, y_train))\n",
    "        params.append({'mu': mu, 'amnesic': amnesic})\n",
    "        print(f\"params={params[-1]}, score={scores[-1]:.7e}, \"\n",
    "              +f\"elapsed time={tim.tocvalue():.1f}s\")\n",
    "\n",
    "best_ind = np.nanargmin(scores)\n",
    "print(\"\")\n",
    "print(f\"best parameter: {params[best_ind]}; score: {scores[best_ind]:.7e}; \"\n",
    "      + f\"total time={tim_tot.tocvalue():.1f}s\")"
   ]
  }
 ],
 "metadata": {
  "kernelspec": {
   "argv": [
    "/home/tingan/miniconda3/envs/pls/bin/python",
    "-m",
    "ipykernel_launcher",
    "-f",
    "{connection_file}"
   ],
   "display_name": "Python 3 (ipykernel)",
   "env": null,
   "interrupt_mode": "signal",
   "language": "python",
   "metadata": {
    "debugger": true
   },
   "name": "python3"
  },
  "language_info": {
   "codemirror_mode": {
    "name": "ipython",
    "version": 3
   },
   "file_extension": ".py",
   "mimetype": "text/x-python",
   "name": "python",
   "nbconvert_exporter": "python",
   "pygments_lexer": "ipython3",
   "version": "3.10.11"
  },
  "name": "CV_CTSlices.ipynb"
 },
 "nbformat": 4,
 "nbformat_minor": 5
}
