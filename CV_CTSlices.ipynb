{
 "cells": [
  {
   "cell_type": "code",
   "execution_count": 44,
   "id": "e8a78761-4876-41f6-9658-583f3220dd69",
   "metadata": {
    "collapsed": false,
    "jupyter": {
     "outputs_hidden": false
    }
   },
   "outputs": [],
   "source": [
    "import importlib\n",
    "import copy\n",
    "from sklearn.utils import gen_batches\n",
    "from sklearn.model_selection import GridSearchCV, KFold\n",
    "from sklearn.metrics import root_mean_squared_error as RMSE\n",
    "import numpy as np\n",
    "\n",
    "import warnings\n",
    "warnings.filterwarnings('ignore')\n",
    "\n",
    "from pytictoc import TicToc\n",
    "tim=TicToc()\n",
    "tim_tot = TicToc()\n"
   ]
  },
  {
   "cell_type": "code",
   "execution_count": 7,
   "id": "da50e5c7-2cfd-40df-b828-40d5564d35d6",
   "metadata": {
    "collapsed": false,
    "jupyter": {
     "outputs_hidden": false
    }
   },
   "outputs": [],
   "source": [
    "dataset='CTSlices'\n",
    "CT_dat = np.genfromtxt(\"data/CTSlices/slice_localization_data.csv\",\n",
    "                       delimiter=\",\",\n",
    "                       skip_header=1)\n",
    "kf_num=10\n",
    "X_train = CT_dat[:,1:-1]\n",
    "y_train = CT_dat[:,-1]\n"
   ]
  },
  {
   "cell_type": "code",
   "execution_count": 48,
   "id": "152ca5ff-3099-46a0-985c-fad321acfc11",
   "metadata": {
    "collapsed": false
   },
   "outputs": [],
   "source": [
    "def Batch_Update_CV(model, cv, X, Y):\n",
    "    score_loc = np.zeros((cv.get_n_splits(),))\n",
    "    for i, (train_index, test_index) in enumerate(cv.split(X)):\n",
    "        model_loc = copy.deepcopy(model)\n",
    "        try:\n",
    "            for batch in gen_batches(len(train_index), len(test_index)):\n",
    "                train_batch = train_index[batch]\n",
    "                model_loc.fit(X[train_batch], Y[train_batch])\n",
    "\n",
    "            y_true = Y[test_index]\n",
    "            y_pred = model_loc.predict(X[test_index])\n",
    "            score_loc[i] = RMSE(y_true, y_pred)\n",
    "            # print(f\"fold: {i:02d}, score:{score_loc[i]: .3f}\")\n",
    "\n",
    "        except Exception as e:\n",
    "            print(\"-\"*20)\n",
    "            print(f\"fold: {i:02d} failure !\")\n",
    "            print(\" Error: \", e)\n",
    "            score_loc[i] = np.nan\n",
    "            break\n",
    "    return np.mean(score_loc)\n",
    "\n",
    "def Model_Score(model, train_index, test_index, X, Y):\n",
    "    model.fit(X[train_index], Y[train_index])\n",
    "\n",
    "    y_true = Y[test_index]\n",
    "    y_pred = model.predict(X[test_index])\n",
    "\n",
    "    return RMSE(y_true, y_pred)"
   ]
  },
  {
   "cell_type": "code",
   "execution_count": 8,
   "id": "8f7c87e6-5532-4fbe-a5da-5411f4106737",
   "metadata": {
    "collapsed": false,
    "jupyter": {
     "outputs_hidden": false
    }
   },
   "outputs": [
    {
     "name": "stdout",
     "output_type": "stream",
     "text": [
      "GridSearchCV(cv=KFold(n_splits=10, random_state=None, shuffle=False),\n",
      "             estimator=PLSRegression(scale=False),\n",
      "             param_grid={'n_components': [1, 2, 3, 4, 5, 6, 7, 8, 9, 10]},\n",
      "             scoring='neg_root_mean_squared_error')\n"
     ]
    },
    {
     "name": "stdout",
     "output_type": "stream",
     "text": [
      "best parameter: {'n_components': 9} ; score:  -9.8758666e+00 ; total time=85.2s\n"
     ]
    }
   ],
   "source": [
    "from sklearn.cross_decomposition import PLSRegression\n",
    "\n",
    "n_comp_lst=list(range(1,11))\n",
    "parameters = {'n_components':n_comp_lst}\n",
    "clf = GridSearchCV(PLSRegression(scale=False), parameters,\n",
    "                   cv=KFold(n_splits=kf_num),\n",
    "                   scoring='neg_root_mean_squared_error')\n",
    "\n",
    "print(clf)\n",
    "tim_tot.tic()\n",
    "clf.fit(X_train, y_train)\n",
    "print(f\"best parameter: {clf.best_params_}\",\n",
    "      f\"; score: {clf.best_score_:15.7e}\",\n",
    "      f\"; total time={tim_tot.tocvalue():.1f}s\")"
   ]
  },
  {
   "cell_type": "code",
   "execution_count": 8,
   "id": "f482b726-3099-462a-ab6d-29f891d53ba8",
   "metadata": {
    "collapsed": false,
    "jupyter": {
     "outputs_hidden": false
    }
   },
   "outputs": [
    {
     "name": "stdout",
     "output_type": "stream",
     "text": [
      "GridSearchCV(cv=KFold(n_splits=10, random_state=None, shuffle=False),\n",
      "             estimator=SIMPLS(),\n",
      "             param_grid={'n_components': [1, 2, 3, 4, 5, 6, 7, 8, 9, 10]},\n",
      "             scoring='neg_root_mean_squared_error')\n"
     ]
    },
    {
     "name": "stdout",
     "output_type": "stream",
     "text": [
      "CV elapsed time: 30.92s\n",
      "best parameter:  {'n_components': 8} ; score:  -1.1390487e+01\n"
     ]
    }
   ],
   "source": [
    "import Code.SIMPLS\n",
    "importlib.reload(Code.SIMPLS)\n",
    "from Code.SIMPLS import SIMPLS\n",
    "\n",
    "n_comp_lst=list(range(1,11))\n",
    "parameters = {'n_components':n_comp_lst}\n",
    "clf = GridSearchCV(SIMPLS(), parameters,\n",
    "                   cv=KFold(n_splits=kf_num),\n",
    "                   scoring='neg_root_mean_squared_error')\n",
    "\n",
    "print(clf)\n",
    "tim_tot.tic()\n",
    "clf.fit(X_train, y_train)\n",
    "print(f\"best parameter: {clf.best_params_}\",\n",
    "      f\"; score: {clf.best_score_:15.7e}\",\n",
    "      f\"; total time={tim_tot.tocvalue():.1f}s\")\n"
   ]
  },
  {
   "cell_type": "code",
   "execution_count": 50,
   "id": "a37918f7-2f14-4aac-8495-77436b948cec",
   "metadata": {
    "collapsed": false
   },
   "outputs": [
    {
     "name": "stdout",
     "output_type": "stream",
     "text": [
      " << Error >>  !!!!!!!!!!!!!!!!!!!!\n",
      "illegal value in 4th argument of internal gesdd\n",
      "fold: 00 failure !\n",
      "params={'mu': 1e-05, 'amnesic': 0.01}, score=nan, elapsed time=95.9s\n"
     ]
    },
    {
     "name": "stdout",
     "output_type": "stream",
     "text": [
      " << Error >>  !!!!!!!!!!!!!!!!!!!!\n",
      "illegal value in 4th argument of internal gesdd\n",
      "fold: 00 failure !\n",
      "params={'mu': 1e-05, 'amnesic': 0.1}, score=nan, elapsed time=97.8s\n"
     ]
    },
    {
     "name": "stdout",
     "output_type": "stream",
     "text": [
      " << Error >>  !!!!!!!!!!!!!!!!!!!!\n",
      "illegal value in 4th argument of internal gesdd\n",
      "fold: 00 failure !\n",
      "params={'mu': 1e-05, 'amnesic': 0.2}, score=nan, elapsed time=98.0s\n"
     ]
    },
    {
     "name": "stdout",
     "output_type": "stream",
     "text": [
      " << Error >>  !!!!!!!!!!!!!!!!!!!!\n",
      "illegal value in 4th argument of internal gesdd\n",
      "fold: 00 failure !\n",
      "params={'mu': 1e-05, 'amnesic': 0.30000000000000004}, score=nan, elapsed time=97.7s\n"
     ]
    },
    {
     "name": "stdout",
     "output_type": "stream",
     "text": [
      " << Error >>  !!!!!!!!!!!!!!!!!!!!\n",
      "illegal value in 4th argument of internal gesdd\n",
      "fold: 00 failure !\n",
      "params={'mu': 1e-05, 'amnesic': 0.4}, score=nan, elapsed time=97.8s\n"
     ]
    },
    {
     "name": "stdout",
     "output_type": "stream",
     "text": [
      " << Error >>  !!!!!!!!!!!!!!!!!!!!\n",
      "illegal value in 4th argument of internal gesdd\n",
      "fold: 00 failure !\n",
      "params={'mu': 1e-05, 'amnesic': 0.5}, score=nan, elapsed time=98.5s\n"
     ]
    },
    {
     "name": "stdout",
     "output_type": "stream",
     "text": [
      " << Error >>  !!!!!!!!!!!!!!!!!!!!\n",
      "illegal value in 4th argument of internal gesdd\n",
      "fold: 00 failure !\n",
      "params={'mu': 1e-05, 'amnesic': 0.6}, score=nan, elapsed time=98.8s\n"
     ]
    },
    {
     "name": "stdout",
     "output_type": "stream",
     "text": [
      " << Error >>  !!!!!!!!!!!!!!!!!!!!\n",
      "illegal value in 4th argument of internal gesdd\n",
      "fold: 00 failure !\n",
      "params={'mu': 1e-05, 'amnesic': 0.7000000000000001}, score=nan, elapsed time=98.1s\n"
     ]
    },
    {
     "name": "stdout",
     "output_type": "stream",
     "text": [
      " << Error >>  !!!!!!!!!!!!!!!!!!!!\n",
      "illegal value in 4th argument of internal gesdd\n",
      "fold: 00 failure !\n",
      "params={'mu': 1e-05, 'amnesic': 0.8}, score=nan, elapsed time=98.7s\n"
     ]
    },
    {
     "name": "stdout",
     "output_type": "stream",
     "text": [
      " << Error >>  !!!!!!!!!!!!!!!!!!!!\n",
      "illegal value in 4th argument of internal gesdd\n",
      "fold: 00 failure !\n",
      "params={'mu': 1e-05, 'amnesic': 0.9}, score=nan, elapsed time=98.6s\n"
     ]
    },
    {
     "name": "stdout",
     "output_type": "stream",
     "text": [
      "params={'mu': 1e-05, 'amnesic': 0.99}, score=4.0882449e+01, elapsed time=961.4s\n"
     ]
    },
    {
     "name": "stdout",
     "output_type": "stream",
     "text": [
      " << Error >>  !!!!!!!!!!!!!!!!!!!!\n",
      "illegal value in 4th argument of internal gesdd\n",
      "fold: 00 failure !\n",
      "params={'mu': 1e-06, 'amnesic': 0.01}, score=nan, elapsed time=96.6s\n"
     ]
    },
    {
     "name": "stdout",
     "output_type": "stream",
     "text": [
      " << Error >>  !!!!!!!!!!!!!!!!!!!!\n",
      "illegal value in 4th argument of internal gesdd\n",
      "fold: 00 failure !\n",
      "params={'mu': 1e-06, 'amnesic': 0.1}, score=nan, elapsed time=98.8s\n"
     ]
    },
    {
     "name": "stdout",
     "output_type": "stream",
     "text": [
      " << Error >>  !!!!!!!!!!!!!!!!!!!!\n",
      "illegal value in 4th argument of internal gesdd\n",
      "fold: 00 failure !\n",
      "params={'mu': 1e-06, 'amnesic': 0.2}, score=nan, elapsed time=98.8s\n"
     ]
    },
    {
     "name": "stdout",
     "output_type": "stream",
     "text": [
      " << Error >>  !!!!!!!!!!!!!!!!!!!!\n",
      "illegal value in 4th argument of internal gesdd\n",
      "fold: 00 failure !\n",
      "params={'mu': 1e-06, 'amnesic': 0.30000000000000004}, score=nan, elapsed time=99.1s\n"
     ]
    },
    {
     "name": "stdout",
     "output_type": "stream",
     "text": [
      " << Error >>  !!!!!!!!!!!!!!!!!!!!\n",
      "illegal value in 4th argument of internal gesdd\n",
      "fold: 01 failure !\n",
      "params={'mu': 1e-06, 'amnesic': 0.4}, score=nan, elapsed time=198.1s\n"
     ]
    },
    {
     "name": "stdout",
     "output_type": "stream",
     "text": [
      " << Error >>  !!!!!!!!!!!!!!!!!!!!\n",
      "illegal value in 4th argument of internal gesdd\n",
      "fold: 01 failure !\n",
      "params={'mu': 1e-06, 'amnesic': 0.5}, score=nan, elapsed time=199.0s\n"
     ]
    },
    {
     "name": "stdout",
     "output_type": "stream",
     "text": [
      " << Error >>  !!!!!!!!!!!!!!!!!!!!\n",
      "illegal value in 4th argument of internal gesdd\n",
      "fold: 01 failure !\n",
      "params={'mu': 1e-06, 'amnesic': 0.6}, score=nan, elapsed time=198.3s\n"
     ]
    },
    {
     "name": "stdout",
     "output_type": "stream",
     "text": [
      " << Error >>  !!!!!!!!!!!!!!!!!!!!\n",
      "illegal value in 4th argument of internal gesdd\n",
      "fold: 01 failure !\n",
      "params={'mu': 1e-06, 'amnesic': 0.7000000000000001}, score=nan, elapsed time=197.3s\n"
     ]
    },
    {
     "name": "stdout",
     "output_type": "stream",
     "text": [
      " << Error >>  !!!!!!!!!!!!!!!!!!!!\n",
      "illegal value in 4th argument of internal gesdd\n",
      "fold: 01 failure !\n",
      "params={'mu': 1e-06, 'amnesic': 0.8}, score=nan, elapsed time=198.0s\n"
     ]
    },
    {
     "name": "stdout",
     "output_type": "stream",
     "text": [
      " << Error >>  !!!!!!!!!!!!!!!!!!!!\n",
      "illegal value in 4th argument of internal gesdd\n",
      "fold: 01 failure !\n",
      "params={'mu': 1e-06, 'amnesic': 0.9}, score=nan, elapsed time=197.2s\n"
     ]
    },
    {
     "name": "stdout",
     "output_type": "stream",
     "text": [
      "params={'mu': 1e-06, 'amnesic': 0.99}, score=4.4982391e+01, elapsed time=967.2s\n"
     ]
    },
    {
     "name": "stdout",
     "output_type": "stream",
     "text": [
      "params={'mu': 1e-07, 'amnesic': 0.01}, score=4.7792078e+01, elapsed time=1056.2s\n"
     ]
    },
    {
     "name": "stdout",
     "output_type": "stream",
     "text": [
      "params={'mu': 1e-07, 'amnesic': 0.1}, score=4.7791114e+01, elapsed time=992.5s\n"
     ]
    },
    {
     "name": "stdout",
     "output_type": "stream",
     "text": [
      "params={'mu': 1e-07, 'amnesic': 0.2}, score=4.7790298e+01, elapsed time=986.9s\n"
     ]
    },
    {
     "name": "stdout",
     "output_type": "stream",
     "text": [
      "params={'mu': 1e-07, 'amnesic': 0.30000000000000004}, score=4.7789721e+01, elapsed time=996.8s\n"
     ]
    },
    {
     "name": "stdout",
     "output_type": "stream",
     "text": [
      "params={'mu': 1e-07, 'amnesic': 0.4}, score=4.7789418e+01, elapsed time=987.8s\n"
     ]
    },
    {
     "name": "stdout",
     "output_type": "stream",
     "text": [
      "params={'mu': 1e-07, 'amnesic': 0.5}, score=4.7789459e+01, elapsed time=996.3s\n"
     ]
    },
    {
     "name": "stdout",
     "output_type": "stream",
     "text": [
      "params={'mu': 1e-07, 'amnesic': 0.6}, score=4.7789794e+01, elapsed time=984.4s\n"
     ]
    },
    {
     "name": "stdout",
     "output_type": "stream",
     "text": [
      "params={'mu': 1e-07, 'amnesic': 0.7000000000000001}, score=4.7790288e+01, elapsed time=983.7s\n"
     ]
    },
    {
     "name": "stdout",
     "output_type": "stream",
     "text": [
      "params={'mu': 1e-07, 'amnesic': 0.8}, score=4.7791058e+01, elapsed time=981.8s\n"
     ]
    },
    {
     "name": "stdout",
     "output_type": "stream",
     "text": [
      "params={'mu': 1e-07, 'amnesic': 0.9}, score=4.7792709e+01, elapsed time=981.4s\n"
     ]
    },
    {
     "name": "stdout",
     "output_type": "stream",
     "text": [
      "params={'mu': 1e-07, 'amnesic': 0.99}, score=4.7800150e+01, elapsed time=958.0s\n"
     ]
    },
    {
     "name": "stdout",
     "output_type": "stream",
     "text": [
      "params={'mu': 1e-08, 'amnesic': 0.01}, score=4.7901598e+01, elapsed time=959.1s\n"
     ]
    },
    {
     "name": "stdout",
     "output_type": "stream",
     "text": [
      "params={'mu': 1e-08, 'amnesic': 0.1}, score=4.7901701e+01, elapsed time=987.0s\n"
     ]
    },
    {
     "name": "stdout",
     "output_type": "stream",
     "text": [
      "params={'mu': 1e-08, 'amnesic': 0.2}, score=4.7901825e+01, elapsed time=989.1s\n"
     ]
    },
    {
     "name": "stdout",
     "output_type": "stream",
     "text": [
      "params={'mu': 1e-08, 'amnesic': 0.30000000000000004}, score=4.7901956e+01, elapsed time=989.5s\n"
     ]
    },
    {
     "name": "stdout",
     "output_type": "stream",
     "text": [
      "params={'mu': 1e-08, 'amnesic': 0.4}, score=4.7902092e+01, elapsed time=983.2s\n"
     ]
    },
    {
     "name": "stdout",
     "output_type": "stream",
     "text": [
      "params={'mu': 1e-08, 'amnesic': 0.5}, score=4.7902232e+01, elapsed time=986.0s\n"
     ]
    },
    {
     "name": "stdout",
     "output_type": "stream",
     "text": [
      "params={'mu': 1e-08, 'amnesic': 0.6}, score=4.7902376e+01, elapsed time=985.0s\n"
     ]
    },
    {
     "name": "stdout",
     "output_type": "stream",
     "text": [
      "params={'mu': 1e-08, 'amnesic': 0.7000000000000001}, score=4.7902530e+01, elapsed time=984.6s\n"
     ]
    },
    {
     "name": "stdout",
     "output_type": "stream",
     "text": [
      "params={'mu': 1e-08, 'amnesic': 0.8}, score=4.7902711e+01, elapsed time=983.9s\n"
     ]
    },
    {
     "name": "stdout",
     "output_type": "stream",
     "text": [
      "params={'mu': 1e-08, 'amnesic': 0.9}, score=4.7902993e+01, elapsed time=985.9s\n"
     ]
    },
    {
     "name": "stdout",
     "output_type": "stream",
     "text": [
      "params={'mu': 1e-08, 'amnesic': 0.99}, score=4.7904304e+01, elapsed time=962.8s\n",
      "\n",
      "best parameter: {'mu': 1e-05, 'amnesic': 0.99}; score: 4.0882449e+01; total time=26191.9s\n"
     ]
    }
   ],
   "source": [
    "import Code.OLPLS\n",
    "importlib.reload(Code.OLPLS)\n",
    "from Code.OLPLS import OLPLS\n",
    "\n",
    "scores = []\n",
    "params = []\n",
    "\n",
    "mu_list = [1e-5, 1e-6, 1e-7, 1e-8]\n",
    "amnesic_list = [1e-2] + list(np.arange(0.1,1.0,0.1)) + [0.99]\n",
    "\n",
    "tim_tot.tic()\n",
    "for mu in mu_list:\n",
    "    for amnesic in amnesic_list:\n",
    "        tim.tic()\n",
    "        scores.append(Batch_Update_CV(OLPLS(n_components=9, mu=mu, amnesic=amnesic),\n",
    "                                      KFold(n_splits=kf_num),\n",
    "                                      X_train, y_train))\n",
    "        params.append({'mu': mu, 'amnesic': amnesic})\n",
    "        print(f\"params={params[-1]}, score={scores[-1]:.7e}, \"\n",
    "              +f\"elapsed time={tim.tocvalue():.1f}s\")\n",
    "\n",
    "best_ind = np.nanargmin(scores)\n",
    "print(\"\")\n",
    "print(f\"best parameter: {params[best_ind]}; score: {scores[best_ind]:.7e}; \"\n",
    "      + f\"total time={tim_tot.tocvalue():.1f}s\")"
   ]
  },
  {
   "cell_type": "code",
   "execution_count": 52,
   "id": "bc07bfd6-a11b-4379-a63d-4f0c2ddbb7ef",
   "metadata": {
    "collapsed": false
   },
   "outputs": [
    {
     "name": "stdout",
     "output_type": "stream",
     "text": [
      " << Error >>  !!!!!!!!!!!!!!!!!!!!\n",
      "Input contains NaN.\n",
      "fold: 00 failure !\n",
      "params={'eta': 1e-06}, score=nan, elapsed time=344.2s\n"
     ]
    },
    {
     "name": "stdout",
     "output_type": "stream",
     "text": [
      " << Error >>  !!!!!!!!!!!!!!!!!!!!\n",
      "'SGDPLS' object has no attribute 'y_loadings_'\n",
      "fold: 00 failure !\n",
      "params={'eta': 1e-07}, score=nan, elapsed time=399.0s\n"
     ]
    },
    {
     "name": "stdout",
     "output_type": "stream",
     "text": [
      " << Error >>  !!!!!!!!!!!!!!!!!!!!\n",
      "'SGDPLS' object has no attribute 'y_loadings_'\n",
      "fold: 00 failure !\n",
      "params={'eta': 1e-08}, score=nan, elapsed time=399.7s\n"
     ]
    },
    {
     "name": "stdout",
     "output_type": "stream",
     "text": [
      " << Error >>  !!!!!!!!!!!!!!!!!!!!\n",
      "'SGDPLS' object has no attribute 'y_loadings_'\n",
      "fold: 00 failure !\n",
      "params={'eta': 1e-09}, score=nan, elapsed time=399.2s\n"
     ]
    },
    {
     "ename": "ValueError",
     "evalue": "All-NaN slice encountered",
     "output_type": "error",
     "traceback": [
      "\u001b[0;31m---------------------------------------------------------------------------\u001b[0m",
      "\u001b[0;31mValueError\u001b[0m                                Traceback (most recent call last)",
      "Cell \u001b[0;32mIn[52], line 21\u001b[0m\n\u001b[1;32m     17\u001b[0m     params\u001b[38;5;241m.\u001b[39mappend({\u001b[38;5;124m'\u001b[39m\u001b[38;5;124meta\u001b[39m\u001b[38;5;124m'\u001b[39m: eta})\n\u001b[1;32m     18\u001b[0m     \u001b[38;5;28mprint\u001b[39m(\u001b[38;5;124mf\u001b[39m\u001b[38;5;124m\"\u001b[39m\u001b[38;5;124mparams=\u001b[39m\u001b[38;5;132;01m{\u001b[39;00mparams[\u001b[38;5;241m-\u001b[39m\u001b[38;5;241m1\u001b[39m]\u001b[38;5;132;01m}\u001b[39;00m\u001b[38;5;124m, score=\u001b[39m\u001b[38;5;132;01m{\u001b[39;00mscores[\u001b[38;5;241m-\u001b[39m\u001b[38;5;241m1\u001b[39m]\u001b[38;5;132;01m:\u001b[39;00m\u001b[38;5;124m.7e\u001b[39m\u001b[38;5;132;01m}\u001b[39;00m\u001b[38;5;124m, \u001b[39m\u001b[38;5;124m\"\u001b[39m\n\u001b[1;32m     19\u001b[0m           \u001b[38;5;241m+\u001b[39m\u001b[38;5;124mf\u001b[39m\u001b[38;5;124m\"\u001b[39m\u001b[38;5;124melapsed time=\u001b[39m\u001b[38;5;132;01m{\u001b[39;00mtim\u001b[38;5;241m.\u001b[39mtocvalue()\u001b[38;5;132;01m:\u001b[39;00m\u001b[38;5;124m.1f\u001b[39m\u001b[38;5;132;01m}\u001b[39;00m\u001b[38;5;124ms\u001b[39m\u001b[38;5;124m\"\u001b[39m)\n\u001b[0;32m---> 21\u001b[0m best_ind \u001b[38;5;241m=\u001b[39m \u001b[43mnp\u001b[49m\u001b[38;5;241;43m.\u001b[39;49m\u001b[43mnanargmin\u001b[49m\u001b[43m(\u001b[49m\u001b[43mscores\u001b[49m\u001b[43m)\u001b[49m\n\u001b[1;32m     22\u001b[0m \u001b[38;5;28mprint\u001b[39m(\u001b[38;5;124m\"\u001b[39m\u001b[38;5;124m\"\u001b[39m)\n\u001b[1;32m     23\u001b[0m \u001b[38;5;28mprint\u001b[39m(\u001b[38;5;124mf\u001b[39m\u001b[38;5;124m\"\u001b[39m\u001b[38;5;124mbest parameter: \u001b[39m\u001b[38;5;132;01m{\u001b[39;00mparams[best_ind]\u001b[38;5;132;01m}\u001b[39;00m\u001b[38;5;124m; score: \u001b[39m\u001b[38;5;132;01m{\u001b[39;00mscores[best_ind]\u001b[38;5;132;01m:\u001b[39;00m\u001b[38;5;124m.7e\u001b[39m\u001b[38;5;132;01m}\u001b[39;00m\u001b[38;5;124m; \u001b[39m\u001b[38;5;124m\"\u001b[39m\n\u001b[1;32m     24\u001b[0m       \u001b[38;5;241m+\u001b[39m \u001b[38;5;124mf\u001b[39m\u001b[38;5;124m\"\u001b[39m\u001b[38;5;124mtotal time=\u001b[39m\u001b[38;5;132;01m{\u001b[39;00mtim_tot\u001b[38;5;241m.\u001b[39mtocvalue()\u001b[38;5;132;01m:\u001b[39;00m\u001b[38;5;124m.1f\u001b[39m\u001b[38;5;132;01m}\u001b[39;00m\u001b[38;5;124ms\u001b[39m\u001b[38;5;124m\"\u001b[39m)\n",
      "File \u001b[0;32m<__array_function__ internals>:180\u001b[0m, in \u001b[0;36mnanargmin\u001b[0;34m(*args, **kwargs)\u001b[0m\n",
      "File \u001b[0;32m~/.local/lib/python3.9/site-packages/numpy/lib/nanfunctions.py:553\u001b[0m, in \u001b[0;36mnanargmin\u001b[0;34m(a, axis, out, keepdims)\u001b[0m\n\u001b[1;32m    551\u001b[0m     mask \u001b[38;5;241m=\u001b[39m np\u001b[38;5;241m.\u001b[39mall(mask, axis\u001b[38;5;241m=\u001b[39maxis)\n\u001b[1;32m    552\u001b[0m     \u001b[38;5;28;01mif\u001b[39;00m np\u001b[38;5;241m.\u001b[39many(mask):\n\u001b[0;32m--> 553\u001b[0m         \u001b[38;5;28;01mraise\u001b[39;00m \u001b[38;5;167;01mValueError\u001b[39;00m(\u001b[38;5;124m\"\u001b[39m\u001b[38;5;124mAll-NaN slice encountered\u001b[39m\u001b[38;5;124m\"\u001b[39m)\n\u001b[1;32m    554\u001b[0m res \u001b[38;5;241m=\u001b[39m np\u001b[38;5;241m.\u001b[39margmin(a, axis\u001b[38;5;241m=\u001b[39maxis, out\u001b[38;5;241m=\u001b[39mout, keepdims\u001b[38;5;241m=\u001b[39mkeepdims)\n\u001b[1;32m    555\u001b[0m \u001b[38;5;28;01mreturn\u001b[39;00m res\n",
      "\u001b[0;31mValueError\u001b[0m: All-NaN slice encountered"
     ]
    }
   ],
   "source": [
    "import Code.SGDPLS\n",
    "importlib.reload(Code.SGDPLS)\n",
    "from Code.SGDPLS import SGDPLS\n",
    "\n",
    "scores = []\n",
    "params = []\n",
    "\n",
    "eta_list = [1e-6, 1e-7, 1e-8, 1e-9]\n",
    "\n",
    "cv = KFold(n_splits=kf_num)\n",
    "tim_tot.tic()\n",
    "for eta in eta_list:\n",
    "    tim.tic()\n",
    "    scores.append(Batch_Update_CV(SGDPLS(n_components=9, eta=eta),\n",
    "                                  KFold(n_splits=kf_num),\n",
    "                                  X_train, y_train))\n",
    "    params.append({'eta': eta})\n",
    "    print(f\"params={params[-1]}, score={scores[-1]:.7e}, \"\n",
    "          +f\"elapsed time={tim.tocvalue():.1f}s\")\n",
    "\n",
    "best_ind = np.nanargmin(scores)\n",
    "print(\"\")\n",
    "print(f\"best parameter: {params[best_ind]}; score: {scores[best_ind]:.7e}; \"\n",
    "      + f\"total time={tim_tot.tocvalue():.1f}s\")"
   ]
  }
 ],
 "metadata": {
  "kernelspec": {
   "argv": [
    "/home/tingan/miniconda3/envs/pls/bin/python",
    "-m",
    "ipykernel_launcher",
    "-f",
    "{connection_file}"
   ],
   "display_name": "Python 3 (ipykernel)",
   "env": null,
   "interrupt_mode": "signal",
   "language": "python",
   "metadata": {
    "debugger": true
   },
   "name": "python3"
  },
  "language_info": {
   "codemirror_mode": {
    "name": "ipython",
    "version": 3
   },
   "file_extension": ".py",
   "mimetype": "text/x-python",
   "name": "python",
   "nbconvert_exporter": "python",
   "pygments_lexer": "ipython3",
   "version": "3.10.11"
  },
  "name": "CV_CTSlices.ipynb"
 },
 "nbformat": 4,
 "nbformat_minor": 5
}
