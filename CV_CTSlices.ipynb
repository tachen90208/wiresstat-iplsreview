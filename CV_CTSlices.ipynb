{
 "cells": [
  {
   "cell_type": "code",
   "execution_count": 2,
   "id": "e8a78761-4876-41f6-9658-583f3220dd69",
   "metadata": {
    "collapsed": false,
    "jupyter": {
     "outputs_hidden": false
    }
   },
   "outputs": [],
   "source": [
    "import importlib\n",
    "from sklearn.model_selection import GridSearchCV, KFold\n",
    "import numpy as np\n",
    "from Code.SGDPLS import SGDPLS\n",
    "from Code.OLPLS import OLPLS\n",
    "from Code.CIPLS import CIPLS\n",
    "from Code.SIMPLS import SIMPLS\n",
    "from Code.IPLS import IPLS\n",
    "# ----------\n",
    "from sklearn.cross_decomposition import PLSRegression\n",
    "from pytictoc import TicToc\n",
    "tictoc=TicToc()\n"
   ]
  },
  {
   "cell_type": "code",
   "execution_count": 3,
   "id": "da50e5c7-2cfd-40df-b828-40d5564d35d6",
   "metadata": {
    "collapsed": false,
    "jupyter": {
     "outputs_hidden": false
    }
   },
   "outputs": [],
   "source": [
    "dataset='CTSlices'\n",
    "CT_dat = np.genfromtxt(\"data/CTSlices/slice_localization_data.csv\",\n",
    "                       delimiter=\",\",\n",
    "                       skip_header=1)\n",
    "kf_num=10\n",
    "X_train = CT_dat[:,1:-1]\n",
    "y_train = CT_dat[:,-1]\n"
   ]
  },
  {
   "cell_type": "code",
   "execution_count": 7,
   "id": "8f7c87e6-5532-4fbe-a5da-5411f4106737",
   "metadata": {
    "collapsed": false,
    "jupyter": {
     "outputs_hidden": false
    }
   },
   "outputs": [
    {
     "name": "stdout",
     "output_type": "stream",
     "text": [
      "GridSearchCV(cv=KFold(n_splits=10, random_state=None, shuffle=False),\n",
      "             estimator=PLSRegression(),\n",
      "             param_grid={'n_components': [1, 2, 3, 4, 5, 6, 7, 8, 9, 10]},\n",
      "             scoring='neg_root_mean_squared_error')\n"
     ]
    },
    {
     "name": "stdout",
     "output_type": "stream",
     "text": [
      "CV elapsed time: 108.95s\n",
      "best parameter:  {'n_components': 7} ; score:  -9.7228629e+00\n"
     ]
    }
   ],
   "source": [
    "n_comp_lst=list(range(1,11))\n",
    "parameters = {'n_components':n_comp_lst}\n",
    "clf = GridSearchCV(PLSRegression(), parameters,\n",
    "                   cv=KFold(n_splits=kf_num),\n",
    "                   scoring='neg_root_mean_squared_error')\n",
    "\n",
    "print(clf)\n",
    "tictoc.tic()\n",
    "clf.fit(X_train, y_train)\n",
    "print(\"CV elapsed time: {:.2f}s\".format(tictoc.tocvalue()))\n",
    "print(\"best parameter: \", clf.best_params_,\n",
    "      \"; score: {:15.7e}\".format(clf.best_score_))"
   ]
  },
  {
   "cell_type": "code",
   "execution_count": 8,
   "id": "f482b726-3099-462a-ab6d-29f891d53ba8",
   "metadata": {
    "collapsed": false,
    "jupyter": {
     "outputs_hidden": false
    }
   },
   "outputs": [
    {
     "name": "stdout",
     "output_type": "stream",
     "text": [
      "GridSearchCV(cv=KFold(n_splits=10, random_state=None, shuffle=False),\n",
      "             estimator=SIMPLS(),\n",
      "             param_grid={'n_components': [1, 2, 3, 4, 5, 6, 7, 8, 9, 10]},\n",
      "             scoring='neg_root_mean_squared_error')\n"
     ]
    },
    {
     "name": "stdout",
     "output_type": "stream",
     "text": [
      "CV elapsed time: 30.92s\n",
      "best parameter:  {'n_components': 8} ; score:  -1.1390487e+01\n"
     ]
    }
   ],
   "source": [
    "import Code.SIMPLS\n",
    "importlib.reload(Code.SIMPLS)\n",
    "from Code.SIMPLS import SIMPLS\n",
    "\n",
    "n_comp_lst=list(range(1,11))\n",
    "parameters = {'n_components':n_comp_lst}\n",
    "clf = GridSearchCV(SIMPLS(), parameters,\n",
    "                   cv=KFold(n_splits=kf_num),\n",
    "                   scoring='neg_root_mean_squared_error')\n",
    "\n",
    "print(clf)\n",
    "tictoc.tic()\n",
    "clf.fit(X_train, y_train)\n",
    "print(\"CV elapsed time: {:.2f}s\".format(tictoc.tocvalue()))\n",
    "print(\"best parameter: \", clf.best_params_,\n",
    "      \"; score: {:15.7e}\".format(clf.best_score_))\n"
   ]
  },
  {
   "cell_type": "code",
   "execution_count": 9,
   "id": "3b590c01-3d80-47e0-9055-86b5d3e5aa79",
   "metadata": {
    "collapsed": false,
    "jupyter": {
     "outputs_hidden": false
    }
   },
   "outputs": [
    {
     "name": "stdout",
     "output_type": "stream",
     "text": [
      "GridSearchCV(cv=KFold(n_splits=10, random_state=None, shuffle=False),\n",
      "             estimator=OLPLS(n_components=7), n_jobs=4,\n",
      "             param_grid={'amnesic': [0.01, 0.1, 0.2, 0.30000000000000004, 0.4,\n",
      "                                     0.5, 0.6, 0.7000000000000001, 0.8, 0.9,\n",
      "                                     0.99],\n",
      "                         'mu': [0.0001, 1e-05, 1e-06]},\n",
      "             scoring='neg_root_mean_squared_error')\n"
     ]
    },
    {
     "name": "stderr",
     "output_type": "stream",
     "text": [
      "/video/data/tingan/GitRep/IPLSreview/Code/OLPLS.py:148: RuntimeWarning: overflow encountered in scalar power\n",
      "  a = a / (np.dot(wtemp, wtemp) ** 2)\n"
     ]
    },
    {
     "name": "stderr",
     "output_type": "stream",
     "text": [
      "/video/data/tingan/GitRep/IPLSreview/Code/OLPLS.py:148: RuntimeWarning: invalid value encountered in divide\n",
      "  a = a / (np.dot(wtemp, wtemp) ** 2)\n"
     ]
    },
    {
     "name": "stderr",
     "output_type": "stream",
     "text": [
      "/home/tingan/miniconda3/envs/pls/lib/python3.10/site-packages/sklearn/model_selection/_validation.py:778: UserWarning: Scoring failed. The score on this train-test partition for these parameters will be set to nan. Details: \n",
      "Traceback (most recent call last):\n",
      "  File \"/home/tingan/miniconda3/envs/pls/lib/python3.10/site-packages/sklearn/model_selection/_validation.py\", line 767, in _score\n",
      "    scores = scorer(estimator, X_test, y_test)\n",
      "  File \"/home/tingan/miniconda3/envs/pls/lib/python3.10/site-packages/sklearn/metrics/_scorer.py\", line 234, in __call__\n",
      "    return self._score(\n",
      "  File \"/home/tingan/miniconda3/envs/pls/lib/python3.10/site-packages/sklearn/metrics/_scorer.py\", line 276, in _score\n",
      "    y_pred = method_caller(estimator, \"predict\", X)\n",
      "  File \"/home/tingan/miniconda3/envs/pls/lib/python3.10/site-packages/sklearn/metrics/_scorer.py\", line 73, in _cached_call\n",
      "    return getattr(estimator, method)(*args, **kwargs)\n",
      "  File \"/video/data/tingan/GitRep/IPLSreview/Code/OLPLS.py\", line 186, in predict\n",
      "    self._comp_coef()\n",
      "  File \"/video/data/tingan/GitRep/IPLSreview/Code/OLPLS.py\", line 178, in _comp_coef\n",
      "    pinv2(np.dot(self.P.T, self.W), check_finite=False),\n",
      "  File \"/home/tingan/miniconda3/envs/pls/lib/python3.10/site-packages/scipy/linalg/_basic.py\", line 1326, in pinv\n",
      "    u, s, vh = _decomp_svd.svd(a, full_matrices=False, check_finite=False)\n",
      "  File \"/home/tingan/miniconda3/envs/pls/lib/python3.10/site-packages/scipy/linalg/_decomp_svd.py\", line 133, in svd\n",
      "    raise ValueError('illegal value in %dth argument of internal gesdd'\n",
      "ValueError: illegal value in 4th argument of internal gesdd\n",
      "\n",
      "  warnings.warn(\n"
     ]
    },
    {
     "name": "stderr",
     "output_type": "stream",
     "text": [
      "/video/data/tingan/GitRep/IPLSreview/Code/OLPLS.py:148: RuntimeWarning: overflow encountered in scalar power\n",
      "  a = a / (np.dot(wtemp, wtemp) ** 2)\n"
     ]
    },
    {
     "name": "stderr",
     "output_type": "stream",
     "text": [
      "/video/data/tingan/GitRep/IPLSreview/Code/OLPLS.py:148: RuntimeWarning: overflow encountered in scalar power\n",
      "  a = a / (np.dot(wtemp, wtemp) ** 2)\n"
     ]
    },
    {
     "name": "stderr",
     "output_type": "stream",
     "text": [
      "/video/data/tingan/GitRep/IPLSreview/Code/OLPLS.py:148: RuntimeWarning: overflow encountered in scalar power\n",
      "  a = a / (np.dot(wtemp, wtemp) ** 2)\n"
     ]
    },
    {
     "name": "stderr",
     "output_type": "stream",
     "text": [
      "/video/data/tingan/GitRep/IPLSreview/Code/OLPLS.py:148: RuntimeWarning: overflow encountered in scalar power\n",
      "  a = a / (np.dot(wtemp, wtemp) ** 2)\n"
     ]
    },
    {
     "name": "stderr",
     "output_type": "stream",
     "text": [
      "/video/data/tingan/GitRep/IPLSreview/Code/OLPLS.py:148: RuntimeWarning: overflow encountered in scalar power\n",
      "  a = a / (np.dot(wtemp, wtemp) ** 2)\n"
     ]
    },
    {
     "name": "stderr",
     "output_type": "stream",
     "text": [
      "/video/data/tingan/GitRep/IPLSreview/Code/OLPLS.py:148: RuntimeWarning: overflow encountered in scalar power\n",
      "  a = a / (np.dot(wtemp, wtemp) ** 2)\n"
     ]
    },
    {
     "name": "stderr",
     "output_type": "stream",
     "text": [
      "/video/data/tingan/GitRep/IPLSreview/Code/OLPLS.py:148: RuntimeWarning: overflow encountered in scalar power\n",
      "  a = a / (np.dot(wtemp, wtemp) ** 2)\n"
     ]
    },
    {
     "name": "stderr",
     "output_type": "stream",
     "text": [
      "/video/data/tingan/GitRep/IPLSreview/Code/OLPLS.py:148: RuntimeWarning: overflow encountered in scalar power\n",
      "  a = a / (np.dot(wtemp, wtemp) ** 2)\n"
     ]
    },
    {
     "name": "stderr",
     "output_type": "stream",
     "text": [
      "/video/data/tingan/GitRep/IPLSreview/Code/OLPLS.py:148: RuntimeWarning: overflow encountered in scalar power\n",
      "  a = a / (np.dot(wtemp, wtemp) ** 2)\n"
     ]
    },
    {
     "name": "stderr",
     "output_type": "stream",
     "text": [
      "/video/data/tingan/GitRep/IPLSreview/Code/OLPLS.py:148: RuntimeWarning: overflow encountered in scalar power\n",
      "  a = a / (np.dot(wtemp, wtemp) ** 2)\n"
     ]
    },
    {
     "name": "stderr",
     "output_type": "stream",
     "text": [
      "/video/data/tingan/GitRep/IPLSreview/Code/OLPLS.py:148: RuntimeWarning: invalid value encountered in divide\n",
      "  a = a / (np.dot(wtemp, wtemp) ** 2)\n"
     ]
    },
    {
     "name": "stderr",
     "output_type": "stream",
     "text": [
      "/video/data/tingan/GitRep/IPLSreview/Code/OLPLS.py:148: RuntimeWarning: overflow encountered in scalar power\n",
      "  a = a / (np.dot(wtemp, wtemp) ** 2)\n"
     ]
    },
    {
     "name": "stderr",
     "output_type": "stream",
     "text": [
      "/video/data/tingan/GitRep/IPLSreview/Code/OLPLS.py:148: RuntimeWarning: overflow encountered in scalar power\n",
      "  a = a / (np.dot(wtemp, wtemp) ** 2)\n"
     ]
    },
    {
     "name": "stderr",
     "output_type": "stream",
     "text": [
      "/home/tingan/miniconda3/envs/pls/lib/python3.10/site-packages/sklearn/model_selection/_validation.py:778: UserWarning: Scoring failed. The score on this train-test partition for these parameters will be set to nan. Details: \n",
      "Traceback (most recent call last):\n",
      "  File \"/home/tingan/miniconda3/envs/pls/lib/python3.10/site-packages/sklearn/model_selection/_validation.py\", line 767, in _score\n",
      "    scores = scorer(estimator, X_test, y_test)\n",
      "  File \"/home/tingan/miniconda3/envs/pls/lib/python3.10/site-packages/sklearn/metrics/_scorer.py\", line 234, in __call__\n",
      "    return self._score(\n",
      "  File \"/home/tingan/miniconda3/envs/pls/lib/python3.10/site-packages/sklearn/metrics/_scorer.py\", line 276, in _score\n",
      "    y_pred = method_caller(estimator, \"predict\", X)\n",
      "  File \"/home/tingan/miniconda3/envs/pls/lib/python3.10/site-packages/sklearn/metrics/_scorer.py\", line 73, in _cached_call\n",
      "    return getattr(estimator, method)(*args, **kwargs)\n",
      "  File \"/video/data/tingan/GitRep/IPLSreview/Code/OLPLS.py\", line 186, in predict\n",
      "    self._comp_coef()\n",
      "  File \"/video/data/tingan/GitRep/IPLSreview/Code/OLPLS.py\", line 178, in _comp_coef\n",
      "    pinv2(np.dot(self.P.T, self.W), check_finite=False),\n",
      "  File \"/home/tingan/miniconda3/envs/pls/lib/python3.10/site-packages/scipy/linalg/_basic.py\", line 1326, in pinv\n",
      "    u, s, vh = _decomp_svd.svd(a, full_matrices=False, check_finite=False)\n",
      "  File \"/home/tingan/miniconda3/envs/pls/lib/python3.10/site-packages/scipy/linalg/_decomp_svd.py\", line 133, in svd\n",
      "    raise ValueError('illegal value in %dth argument of internal gesdd'\n",
      "ValueError: illegal value in 4th argument of internal gesdd\n",
      "\n",
      "  warnings.warn(\n"
     ]
    },
    {
     "name": "stderr",
     "output_type": "stream",
     "text": [
      "/video/data/tingan/GitRep/IPLSreview/Code/OLPLS.py:148: RuntimeWarning: invalid value encountered in divide\n",
      "  a = a / (np.dot(wtemp, wtemp) ** 2)\n",
      "/video/data/tingan/GitRep/IPLSreview/Code/OLPLS.py:148: RuntimeWarning: overflow encountered in scalar power\n",
      "  a = a / (np.dot(wtemp, wtemp) ** 2)\n"
     ]
    },
    {
     "name": "stderr",
     "output_type": "stream",
     "text": [
      "/video/data/tingan/GitRep/IPLSreview/Code/OLPLS.py:148: RuntimeWarning: overflow encountered in scalar power\n",
      "  a = a / (np.dot(wtemp, wtemp) ** 2)\n"
     ]
    },
    {
     "name": "stderr",
     "output_type": "stream",
     "text": [
      "/home/tingan/miniconda3/envs/pls/lib/python3.10/site-packages/sklearn/model_selection/_validation.py:778: UserWarning: Scoring failed. The score on this train-test partition for these parameters will be set to nan. Details: \n",
      "Traceback (most recent call last):\n",
      "  File \"/home/tingan/miniconda3/envs/pls/lib/python3.10/site-packages/sklearn/model_selection/_validation.py\", line 767, in _score\n",
      "    scores = scorer(estimator, X_test, y_test)\n",
      "  File \"/home/tingan/miniconda3/envs/pls/lib/python3.10/site-packages/sklearn/metrics/_scorer.py\", line 234, in __call__\n",
      "    return self._score(\n",
      "  File \"/home/tingan/miniconda3/envs/pls/lib/python3.10/site-packages/sklearn/metrics/_scorer.py\", line 276, in _score\n",
      "    y_pred = method_caller(estimator, \"predict\", X)\n",
      "  File \"/home/tingan/miniconda3/envs/pls/lib/python3.10/site-packages/sklearn/metrics/_scorer.py\", line 73, in _cached_call\n",
      "    return getattr(estimator, method)(*args, **kwargs)\n",
      "  File \"/video/data/tingan/GitRep/IPLSreview/Code/OLPLS.py\", line 186, in predict\n",
      "    self._comp_coef()\n",
      "  File \"/video/data/tingan/GitRep/IPLSreview/Code/OLPLS.py\", line 178, in _comp_coef\n",
      "    pinv2(np.dot(self.P.T, self.W), check_finite=False),\n",
      "  File \"/home/tingan/miniconda3/envs/pls/lib/python3.10/site-packages/scipy/linalg/_basic.py\", line 1326, in pinv\n",
      "    u, s, vh = _decomp_svd.svd(a, full_matrices=False, check_finite=False)\n",
      "  File \"/home/tingan/miniconda3/envs/pls/lib/python3.10/site-packages/scipy/linalg/_decomp_svd.py\", line 133, in svd\n",
      "    raise ValueError('illegal value in %dth argument of internal gesdd'\n",
      "ValueError: illegal value in 4th argument of internal gesdd\n",
      "\n",
      "  warnings.warn(\n"
     ]
    },
    {
     "name": "stderr",
     "output_type": "stream",
     "text": [
      "/video/data/tingan/GitRep/IPLSreview/Code/OLPLS.py:148: RuntimeWarning: overflow encountered in scalar power\n",
      "  a = a / (np.dot(wtemp, wtemp) ** 2)\n"
     ]
    },
    {
     "name": "stderr",
     "output_type": "stream",
     "text": [
      "/video/data/tingan/GitRep/IPLSreview/Code/OLPLS.py:148: RuntimeWarning: overflow encountered in scalar power\n",
      "  a = a / (np.dot(wtemp, wtemp) ** 2)\n"
     ]
    },
    {
     "name": "stderr",
     "output_type": "stream",
     "text": [
      "/video/data/tingan/GitRep/IPLSreview/Code/OLPLS.py:148: RuntimeWarning: overflow encountered in scalar power\n",
      "  a = a / (np.dot(wtemp, wtemp) ** 2)\n"
     ]
    },
    {
     "name": "stderr",
     "output_type": "stream",
     "text": [
      "/video/data/tingan/GitRep/IPLSreview/Code/OLPLS.py:148: RuntimeWarning: overflow encountered in scalar power\n",
      "  a = a / (np.dot(wtemp, wtemp) ** 2)\n"
     ]
    },
    {
     "name": "stderr",
     "output_type": "stream",
     "text": [
      "/video/data/tingan/GitRep/IPLSreview/Code/OLPLS.py:148: RuntimeWarning: overflow encountered in scalar power\n",
      "  a = a / (np.dot(wtemp, wtemp) ** 2)\n",
      "/video/data/tingan/GitRep/IPLSreview/Code/OLPLS.py:148: RuntimeWarning: invalid value encountered in divide\n",
      "  a = a / (np.dot(wtemp, wtemp) ** 2)\n"
     ]
    },
    {
     "name": "stderr",
     "output_type": "stream",
     "text": [
      "/video/data/tingan/GitRep/IPLSreview/Code/OLPLS.py:148: RuntimeWarning: overflow encountered in scalar power\n",
      "  a = a / (np.dot(wtemp, wtemp) ** 2)\n",
      "/video/data/tingan/GitRep/IPLSreview/Code/OLPLS.py:148: RuntimeWarning: invalid value encountered in divide\n",
      "  a = a / (np.dot(wtemp, wtemp) ** 2)\n"
     ]
    },
    {
     "name": "stderr",
     "output_type": "stream",
     "text": [
      "/video/data/tingan/GitRep/IPLSreview/Code/OLPLS.py:148: RuntimeWarning: overflow encountered in scalar power\n",
      "  a = a / (np.dot(wtemp, wtemp) ** 2)\n",
      "/video/data/tingan/GitRep/IPLSreview/Code/OLPLS.py:148: RuntimeWarning: invalid value encountered in divide\n",
      "  a = a / (np.dot(wtemp, wtemp) ** 2)\n"
     ]
    },
    {
     "name": "stderr",
     "output_type": "stream",
     "text": [
      "/home/tingan/miniconda3/envs/pls/lib/python3.10/site-packages/sklearn/model_selection/_validation.py:778: UserWarning: Scoring failed. The score on this train-test partition for these parameters will be set to nan. Details: \n",
      "Traceback (most recent call last):\n",
      "  File \"/home/tingan/miniconda3/envs/pls/lib/python3.10/site-packages/sklearn/model_selection/_validation.py\", line 767, in _score\n",
      "    scores = scorer(estimator, X_test, y_test)\n",
      "  File \"/home/tingan/miniconda3/envs/pls/lib/python3.10/site-packages/sklearn/metrics/_scorer.py\", line 234, in __call__\n",
      "    return self._score(\n",
      "  File \"/home/tingan/miniconda3/envs/pls/lib/python3.10/site-packages/sklearn/metrics/_scorer.py\", line 276, in _score\n",
      "    y_pred = method_caller(estimator, \"predict\", X)\n",
      "  File \"/home/tingan/miniconda3/envs/pls/lib/python3.10/site-packages/sklearn/metrics/_scorer.py\", line 73, in _cached_call\n",
      "    return getattr(estimator, method)(*args, **kwargs)\n",
      "  File \"/video/data/tingan/GitRep/IPLSreview/Code/OLPLS.py\", line 186, in predict\n",
      "    self._comp_coef()\n",
      "  File \"/video/data/tingan/GitRep/IPLSreview/Code/OLPLS.py\", line 178, in _comp_coef\n",
      "    pinv2(np.dot(self.P.T, self.W), check_finite=False),\n",
      "  File \"/home/tingan/miniconda3/envs/pls/lib/python3.10/site-packages/scipy/linalg/_basic.py\", line 1326, in pinv\n",
      "    u, s, vh = _decomp_svd.svd(a, full_matrices=False, check_finite=False)\n",
      "  File \"/home/tingan/miniconda3/envs/pls/lib/python3.10/site-packages/scipy/linalg/_decomp_svd.py\", line 133, in svd\n",
      "    raise ValueError('illegal value in %dth argument of internal gesdd'\n",
      "ValueError: illegal value in 4th argument of internal gesdd\n",
      "\n",
      "  warnings.warn(\n"
     ]
    },
    {
     "name": "stderr",
     "output_type": "stream",
     "text": [
      "/video/data/tingan/GitRep/IPLSreview/Code/OLPLS.py:148: RuntimeWarning: overflow encountered in scalar power\n",
      "  a = a / (np.dot(wtemp, wtemp) ** 2)\n",
      "/video/data/tingan/GitRep/IPLSreview/Code/OLPLS.py:148: RuntimeWarning: invalid value encountered in divide\n",
      "  a = a / (np.dot(wtemp, wtemp) ** 2)\n"
     ]
    },
    {
     "name": "stderr",
     "output_type": "stream",
     "text": [
      "/home/tingan/miniconda3/envs/pls/lib/python3.10/site-packages/sklearn/model_selection/_validation.py:778: UserWarning: Scoring failed. The score on this train-test partition for these parameters will be set to nan. Details: \n",
      "Traceback (most recent call last):\n",
      "  File \"/home/tingan/miniconda3/envs/pls/lib/python3.10/site-packages/sklearn/model_selection/_validation.py\", line 767, in _score\n",
      "    scores = scorer(estimator, X_test, y_test)\n",
      "  File \"/home/tingan/miniconda3/envs/pls/lib/python3.10/site-packages/sklearn/metrics/_scorer.py\", line 234, in __call__\n",
      "    return self._score(\n",
      "  File \"/home/tingan/miniconda3/envs/pls/lib/python3.10/site-packages/sklearn/metrics/_scorer.py\", line 276, in _score\n",
      "    y_pred = method_caller(estimator, \"predict\", X)\n",
      "  File \"/home/tingan/miniconda3/envs/pls/lib/python3.10/site-packages/sklearn/metrics/_scorer.py\", line 73, in _cached_call\n",
      "    return getattr(estimator, method)(*args, **kwargs)\n",
      "  File \"/video/data/tingan/GitRep/IPLSreview/Code/OLPLS.py\", line 186, in predict\n",
      "    self._comp_coef()\n",
      "  File \"/video/data/tingan/GitRep/IPLSreview/Code/OLPLS.py\", line 178, in _comp_coef\n",
      "    pinv2(np.dot(self.P.T, self.W), check_finite=False),\n",
      "  File \"/home/tingan/miniconda3/envs/pls/lib/python3.10/site-packages/scipy/linalg/_basic.py\", line 1326, in pinv\n",
      "    u, s, vh = _decomp_svd.svd(a, full_matrices=False, check_finite=False)\n",
      "  File \"/home/tingan/miniconda3/envs/pls/lib/python3.10/site-packages/scipy/linalg/_decomp_svd.py\", line 133, in svd\n",
      "    raise ValueError('illegal value in %dth argument of internal gesdd'\n",
      "ValueError: illegal value in 4th argument of internal gesdd\n",
      "\n",
      "  warnings.warn(\n"
     ]
    },
    {
     "name": "stderr",
     "output_type": "stream",
     "text": [
      "/video/data/tingan/GitRep/IPLSreview/Code/OLPLS.py:148: RuntimeWarning: overflow encountered in scalar power\n",
      "  a = a / (np.dot(wtemp, wtemp) ** 2)\n",
      "/video/data/tingan/GitRep/IPLSreview/Code/OLPLS.py:148: RuntimeWarning: invalid value encountered in divide\n",
      "  a = a / (np.dot(wtemp, wtemp) ** 2)\n"
     ]
    },
    {
     "name": "stderr",
     "output_type": "stream",
     "text": [
      "/home/tingan/miniconda3/envs/pls/lib/python3.10/site-packages/sklearn/model_selection/_validation.py:778: UserWarning: Scoring failed. The score on this train-test partition for these parameters will be set to nan. Details: \n",
      "Traceback (most recent call last):\n",
      "  File \"/home/tingan/miniconda3/envs/pls/lib/python3.10/site-packages/sklearn/model_selection/_validation.py\", line 767, in _score\n",
      "    scores = scorer(estimator, X_test, y_test)\n",
      "  File \"/home/tingan/miniconda3/envs/pls/lib/python3.10/site-packages/sklearn/metrics/_scorer.py\", line 234, in __call__\n",
      "    return self._score(\n",
      "  File \"/home/tingan/miniconda3/envs/pls/lib/python3.10/site-packages/sklearn/metrics/_scorer.py\", line 276, in _score\n",
      "    y_pred = method_caller(estimator, \"predict\", X)\n",
      "  File \"/home/tingan/miniconda3/envs/pls/lib/python3.10/site-packages/sklearn/metrics/_scorer.py\", line 73, in _cached_call\n",
      "    return getattr(estimator, method)(*args, **kwargs)\n",
      "  File \"/video/data/tingan/GitRep/IPLSreview/Code/OLPLS.py\", line 186, in predict\n",
      "    self._comp_coef()\n",
      "  File \"/video/data/tingan/GitRep/IPLSreview/Code/OLPLS.py\", line 178, in _comp_coef\n",
      "    pinv2(np.dot(self.P.T, self.W), check_finite=False),\n",
      "  File \"/home/tingan/miniconda3/envs/pls/lib/python3.10/site-packages/scipy/linalg/_basic.py\", line 1326, in pinv\n",
      "    u, s, vh = _decomp_svd.svd(a, full_matrices=False, check_finite=False)\n",
      "  File \"/home/tingan/miniconda3/envs/pls/lib/python3.10/site-packages/scipy/linalg/_decomp_svd.py\", line 133, in svd\n",
      "    raise ValueError('illegal value in %dth argument of internal gesdd'\n",
      "ValueError: illegal value in 4th argument of internal gesdd\n",
      "\n",
      "  warnings.warn(\n"
     ]
    },
    {
     "name": "stderr",
     "output_type": "stream",
     "text": [
      "/video/data/tingan/GitRep/IPLSreview/Code/OLPLS.py:148: RuntimeWarning: overflow encountered in scalar power\n",
      "  a = a / (np.dot(wtemp, wtemp) ** 2)\n",
      "/video/data/tingan/GitRep/IPLSreview/Code/OLPLS.py:148: RuntimeWarning: invalid value encountered in divide\n",
      "  a = a / (np.dot(wtemp, wtemp) ** 2)\n"
     ]
    },
    {
     "name": "stderr",
     "output_type": "stream",
     "text": [
      "/home/tingan/miniconda3/envs/pls/lib/python3.10/site-packages/sklearn/model_selection/_validation.py:778: UserWarning: Scoring failed. The score on this train-test partition for these parameters will be set to nan. Details: \n",
      "Traceback (most recent call last):\n",
      "  File \"/home/tingan/miniconda3/envs/pls/lib/python3.10/site-packages/sklearn/model_selection/_validation.py\", line 767, in _score\n",
      "    scores = scorer(estimator, X_test, y_test)\n",
      "  File \"/home/tingan/miniconda3/envs/pls/lib/python3.10/site-packages/sklearn/metrics/_scorer.py\", line 234, in __call__\n",
      "    return self._score(\n",
      "  File \"/home/tingan/miniconda3/envs/pls/lib/python3.10/site-packages/sklearn/metrics/_scorer.py\", line 276, in _score\n",
      "    y_pred = method_caller(estimator, \"predict\", X)\n",
      "  File \"/home/tingan/miniconda3/envs/pls/lib/python3.10/site-packages/sklearn/metrics/_scorer.py\", line 73, in _cached_call\n",
      "    return getattr(estimator, method)(*args, **kwargs)\n",
      "  File \"/video/data/tingan/GitRep/IPLSreview/Code/OLPLS.py\", line 186, in predict\n",
      "    self._comp_coef()\n",
      "  File \"/video/data/tingan/GitRep/IPLSreview/Code/OLPLS.py\", line 178, in _comp_coef\n",
      "    pinv2(np.dot(self.P.T, self.W), check_finite=False),\n",
      "  File \"/home/tingan/miniconda3/envs/pls/lib/python3.10/site-packages/scipy/linalg/_basic.py\", line 1326, in pinv\n",
      "    u, s, vh = _decomp_svd.svd(a, full_matrices=False, check_finite=False)\n",
      "  File \"/home/tingan/miniconda3/envs/pls/lib/python3.10/site-packages/scipy/linalg/_decomp_svd.py\", line 133, in svd\n",
      "    raise ValueError('illegal value in %dth argument of internal gesdd'\n",
      "ValueError: illegal value in 4th argument of internal gesdd\n",
      "\n",
      "  warnings.warn(\n"
     ]
    },
    {
     "name": "stderr",
     "output_type": "stream",
     "text": [
      "/video/data/tingan/GitRep/IPLSreview/Code/OLPLS.py:148: RuntimeWarning: overflow encountered in scalar power\n",
      "  a = a / (np.dot(wtemp, wtemp) ** 2)\n",
      "/video/data/tingan/GitRep/IPLSreview/Code/OLPLS.py:148: RuntimeWarning: invalid value encountered in divide\n",
      "  a = a / (np.dot(wtemp, wtemp) ** 2)\n"
     ]
    },
    {
     "name": "stderr",
     "output_type": "stream",
     "text": [
      "/home/tingan/miniconda3/envs/pls/lib/python3.10/site-packages/sklearn/model_selection/_validation.py:778: UserWarning: Scoring failed. The score on this train-test partition for these parameters will be set to nan. Details: \n",
      "Traceback (most recent call last):\n",
      "  File \"/home/tingan/miniconda3/envs/pls/lib/python3.10/site-packages/sklearn/model_selection/_validation.py\", line 767, in _score\n",
      "    scores = scorer(estimator, X_test, y_test)\n",
      "  File \"/home/tingan/miniconda3/envs/pls/lib/python3.10/site-packages/sklearn/metrics/_scorer.py\", line 234, in __call__\n",
      "    return self._score(\n",
      "  File \"/home/tingan/miniconda3/envs/pls/lib/python3.10/site-packages/sklearn/metrics/_scorer.py\", line 276, in _score\n",
      "    y_pred = method_caller(estimator, \"predict\", X)\n",
      "  File \"/home/tingan/miniconda3/envs/pls/lib/python3.10/site-packages/sklearn/metrics/_scorer.py\", line 73, in _cached_call\n",
      "    return getattr(estimator, method)(*args, **kwargs)\n",
      "  File \"/video/data/tingan/GitRep/IPLSreview/Code/OLPLS.py\", line 186, in predict\n",
      "    self._comp_coef()\n",
      "  File \"/video/data/tingan/GitRep/IPLSreview/Code/OLPLS.py\", line 178, in _comp_coef\n",
      "    pinv2(np.dot(self.P.T, self.W), check_finite=False),\n",
      "  File \"/home/tingan/miniconda3/envs/pls/lib/python3.10/site-packages/scipy/linalg/_basic.py\", line 1326, in pinv\n",
      "    u, s, vh = _decomp_svd.svd(a, full_matrices=False, check_finite=False)\n",
      "  File \"/home/tingan/miniconda3/envs/pls/lib/python3.10/site-packages/scipy/linalg/_decomp_svd.py\", line 133, in svd\n",
      "    raise ValueError('illegal value in %dth argument of internal gesdd'\n",
      "ValueError: illegal value in 4th argument of internal gesdd\n",
      "\n",
      "  warnings.warn(\n"
     ]
    },
    {
     "name": "stderr",
     "output_type": "stream",
     "text": [
      "/home/tingan/miniconda3/envs/pls/lib/python3.10/site-packages/sklearn/model_selection/_validation.py:778: UserWarning: Scoring failed. The score on this train-test partition for these parameters will be set to nan. Details: \n",
      "Traceback (most recent call last):\n",
      "  File \"/home/tingan/miniconda3/envs/pls/lib/python3.10/site-packages/sklearn/model_selection/_validation.py\", line 767, in _score\n",
      "    scores = scorer(estimator, X_test, y_test)\n",
      "  File \"/home/tingan/miniconda3/envs/pls/lib/python3.10/site-packages/sklearn/metrics/_scorer.py\", line 234, in __call__\n",
      "    return self._score(\n",
      "  File \"/home/tingan/miniconda3/envs/pls/lib/python3.10/site-packages/sklearn/metrics/_scorer.py\", line 276, in _score\n",
      "    y_pred = method_caller(estimator, \"predict\", X)\n",
      "  File \"/home/tingan/miniconda3/envs/pls/lib/python3.10/site-packages/sklearn/metrics/_scorer.py\", line 73, in _cached_call\n",
      "    return getattr(estimator, method)(*args, **kwargs)\n",
      "  File \"/video/data/tingan/GitRep/IPLSreview/Code/OLPLS.py\", line 186, in predict\n",
      "    self._comp_coef()\n",
      "  File \"/video/data/tingan/GitRep/IPLSreview/Code/OLPLS.py\", line 178, in _comp_coef\n",
      "    pinv2(np.dot(self.P.T, self.W), check_finite=False),\n",
      "  File \"/home/tingan/miniconda3/envs/pls/lib/python3.10/site-packages/scipy/linalg/_basic.py\", line 1326, in pinv\n",
      "    u, s, vh = _decomp_svd.svd(a, full_matrices=False, check_finite=False)\n",
      "  File \"/home/tingan/miniconda3/envs/pls/lib/python3.10/site-packages/scipy/linalg/_decomp_svd.py\", line 133, in svd\n",
      "    raise ValueError('illegal value in %dth argument of internal gesdd'\n",
      "ValueError: illegal value in 4th argument of internal gesdd\n",
      "\n",
      "  warnings.warn(\n"
     ]
    },
    {
     "name": "stderr",
     "output_type": "stream",
     "text": [
      "/home/tingan/miniconda3/envs/pls/lib/python3.10/site-packages/sklearn/model_selection/_validation.py:778: UserWarning: Scoring failed. The score on this train-test partition for these parameters will be set to nan. Details: \n",
      "Traceback (most recent call last):\n",
      "  File \"/home/tingan/miniconda3/envs/pls/lib/python3.10/site-packages/sklearn/model_selection/_validation.py\", line 767, in _score\n",
      "    scores = scorer(estimator, X_test, y_test)\n",
      "  File \"/home/tingan/miniconda3/envs/pls/lib/python3.10/site-packages/sklearn/metrics/_scorer.py\", line 234, in __call__\n",
      "    return self._score(\n",
      "  File \"/home/tingan/miniconda3/envs/pls/lib/python3.10/site-packages/sklearn/metrics/_scorer.py\", line 276, in _score\n",
      "    y_pred = method_caller(estimator, \"predict\", X)\n",
      "  File \"/home/tingan/miniconda3/envs/pls/lib/python3.10/site-packages/sklearn/metrics/_scorer.py\", line 73, in _cached_call\n",
      "    return getattr(estimator, method)(*args, **kwargs)\n",
      "  File \"/video/data/tingan/GitRep/IPLSreview/Code/OLPLS.py\", line 186, in predict\n",
      "    self._comp_coef()\n",
      "  File \"/video/data/tingan/GitRep/IPLSreview/Code/OLPLS.py\", line 178, in _comp_coef\n",
      "    pinv2(np.dot(self.P.T, self.W), check_finite=False),\n",
      "  File \"/home/tingan/miniconda3/envs/pls/lib/python3.10/site-packages/scipy/linalg/_basic.py\", line 1326, in pinv\n",
      "    u, s, vh = _decomp_svd.svd(a, full_matrices=False, check_finite=False)\n",
      "  File \"/home/tingan/miniconda3/envs/pls/lib/python3.10/site-packages/scipy/linalg/_decomp_svd.py\", line 133, in svd\n",
      "    raise ValueError('illegal value in %dth argument of internal gesdd'\n",
      "ValueError: illegal value in 4th argument of internal gesdd\n",
      "\n",
      "  warnings.warn(\n"
     ]
    },
    {
     "name": "stderr",
     "output_type": "stream",
     "text": [
      "/video/data/tingan/GitRep/IPLSreview/Code/OLPLS.py:148: RuntimeWarning: overflow encountered in scalar power\n",
      "  a = a / (np.dot(wtemp, wtemp) ** 2)\n"
     ]
    },
    {
     "name": "stderr",
     "output_type": "stream",
     "text": [
      "/video/data/tingan/GitRep/IPLSreview/Code/OLPLS.py:148: RuntimeWarning: overflow encountered in scalar power\n",
      "  a = a / (np.dot(wtemp, wtemp) ** 2)\n"
     ]
    },
    {
     "name": "stderr",
     "output_type": "stream",
     "text": [
      "/video/data/tingan/GitRep/IPLSreview/Code/OLPLS.py:148: RuntimeWarning: overflow encountered in scalar power\n",
      "  a = a / (np.dot(wtemp, wtemp) ** 2)\n"
     ]
    },
    {
     "name": "stderr",
     "output_type": "stream",
     "text": [
      "/video/data/tingan/GitRep/IPLSreview/Code/OLPLS.py:148: RuntimeWarning: overflow encountered in scalar power\n",
      "  a = a / (np.dot(wtemp, wtemp) ** 2)\n",
      "/video/data/tingan/GitRep/IPLSreview/Code/OLPLS.py:148: RuntimeWarning: invalid value encountered in divide\n",
      "  a = a / (np.dot(wtemp, wtemp) ** 2)\n"
     ]
    },
    {
     "name": "stderr",
     "output_type": "stream",
     "text": [
      "/video/data/tingan/GitRep/IPLSreview/Code/OLPLS.py:148: RuntimeWarning: overflow encountered in scalar power\n",
      "  a = a / (np.dot(wtemp, wtemp) ** 2)\n",
      "/video/data/tingan/GitRep/IPLSreview/Code/OLPLS.py:148: RuntimeWarning: invalid value encountered in divide\n",
      "  a = a / (np.dot(wtemp, wtemp) ** 2)\n"
     ]
    },
    {
     "name": "stderr",
     "output_type": "stream",
     "text": [
      "/home/tingan/miniconda3/envs/pls/lib/python3.10/site-packages/sklearn/model_selection/_validation.py:778: UserWarning: Scoring failed. The score on this train-test partition for these parameters will be set to nan. Details: \n",
      "Traceback (most recent call last):\n",
      "  File \"/home/tingan/miniconda3/envs/pls/lib/python3.10/site-packages/sklearn/model_selection/_validation.py\", line 767, in _score\n",
      "    scores = scorer(estimator, X_test, y_test)\n",
      "  File \"/home/tingan/miniconda3/envs/pls/lib/python3.10/site-packages/sklearn/metrics/_scorer.py\", line 234, in __call__\n",
      "    return self._score(\n",
      "  File \"/home/tingan/miniconda3/envs/pls/lib/python3.10/site-packages/sklearn/metrics/_scorer.py\", line 276, in _score\n",
      "    y_pred = method_caller(estimator, \"predict\", X)\n",
      "  File \"/home/tingan/miniconda3/envs/pls/lib/python3.10/site-packages/sklearn/metrics/_scorer.py\", line 73, in _cached_call\n",
      "    return getattr(estimator, method)(*args, **kwargs)\n",
      "  File \"/video/data/tingan/GitRep/IPLSreview/Code/OLPLS.py\", line 186, in predict\n",
      "    self._comp_coef()\n",
      "  File \"/video/data/tingan/GitRep/IPLSreview/Code/OLPLS.py\", line 178, in _comp_coef\n",
      "    pinv2(np.dot(self.P.T, self.W), check_finite=False),\n",
      "  File \"/home/tingan/miniconda3/envs/pls/lib/python3.10/site-packages/scipy/linalg/_basic.py\", line 1326, in pinv\n",
      "    u, s, vh = _decomp_svd.svd(a, full_matrices=False, check_finite=False)\n",
      "  File \"/home/tingan/miniconda3/envs/pls/lib/python3.10/site-packages/scipy/linalg/_decomp_svd.py\", line 133, in svd\n",
      "    raise ValueError('illegal value in %dth argument of internal gesdd'\n",
      "ValueError: illegal value in 4th argument of internal gesdd\n",
      "\n",
      "  warnings.warn(\n"
     ]
    },
    {
     "name": "stderr",
     "output_type": "stream",
     "text": [
      "/video/data/tingan/GitRep/IPLSreview/Code/OLPLS.py:148: RuntimeWarning: overflow encountered in scalar power\n",
      "  a = a / (np.dot(wtemp, wtemp) ** 2)\n",
      "/video/data/tingan/GitRep/IPLSreview/Code/OLPLS.py:148: RuntimeWarning: invalid value encountered in divide\n",
      "  a = a / (np.dot(wtemp, wtemp) ** 2)\n"
     ]
    },
    {
     "name": "stderr",
     "output_type": "stream",
     "text": [
      "/video/data/tingan/GitRep/IPLSreview/Code/OLPLS.py:148: RuntimeWarning: overflow encountered in scalar power\n",
      "  a = a / (np.dot(wtemp, wtemp) ** 2)\n",
      "/video/data/tingan/GitRep/IPLSreview/Code/OLPLS.py:148: RuntimeWarning: invalid value encountered in divide\n",
      "  a = a / (np.dot(wtemp, wtemp) ** 2)\n"
     ]
    },
    {
     "name": "stderr",
     "output_type": "stream",
     "text": [
      "/home/tingan/miniconda3/envs/pls/lib/python3.10/site-packages/sklearn/model_selection/_validation.py:778: UserWarning: Scoring failed. The score on this train-test partition for these parameters will be set to nan. Details: \n",
      "Traceback (most recent call last):\n",
      "  File \"/home/tingan/miniconda3/envs/pls/lib/python3.10/site-packages/sklearn/model_selection/_validation.py\", line 767, in _score\n",
      "    scores = scorer(estimator, X_test, y_test)\n",
      "  File \"/home/tingan/miniconda3/envs/pls/lib/python3.10/site-packages/sklearn/metrics/_scorer.py\", line 234, in __call__\n",
      "    return self._score(\n",
      "  File \"/home/tingan/miniconda3/envs/pls/lib/python3.10/site-packages/sklearn/metrics/_scorer.py\", line 276, in _score\n",
      "    y_pred = method_caller(estimator, \"predict\", X)\n",
      "  File \"/home/tingan/miniconda3/envs/pls/lib/python3.10/site-packages/sklearn/metrics/_scorer.py\", line 73, in _cached_call\n",
      "    return getattr(estimator, method)(*args, **kwargs)\n",
      "  File \"/video/data/tingan/GitRep/IPLSreview/Code/OLPLS.py\", line 186, in predict\n",
      "    self._comp_coef()\n",
      "  File \"/video/data/tingan/GitRep/IPLSreview/Code/OLPLS.py\", line 178, in _comp_coef\n",
      "    pinv2(np.dot(self.P.T, self.W), check_finite=False),\n",
      "  File \"/home/tingan/miniconda3/envs/pls/lib/python3.10/site-packages/scipy/linalg/_basic.py\", line 1326, in pinv\n",
      "    u, s, vh = _decomp_svd.svd(a, full_matrices=False, check_finite=False)\n",
      "  File \"/home/tingan/miniconda3/envs/pls/lib/python3.10/site-packages/scipy/linalg/_decomp_svd.py\", line 133, in svd\n",
      "    raise ValueError('illegal value in %dth argument of internal gesdd'\n",
      "ValueError: illegal value in 4th argument of internal gesdd\n",
      "\n",
      "  warnings.warn(\n"
     ]
    },
    {
     "name": "stderr",
     "output_type": "stream",
     "text": [
      "/home/tingan/miniconda3/envs/pls/lib/python3.10/site-packages/sklearn/model_selection/_validation.py:778: UserWarning: Scoring failed. The score on this train-test partition for these parameters will be set to nan. Details: \n",
      "Traceback (most recent call last):\n",
      "  File \"/home/tingan/miniconda3/envs/pls/lib/python3.10/site-packages/sklearn/model_selection/_validation.py\", line 767, in _score\n",
      "    scores = scorer(estimator, X_test, y_test)\n",
      "  File \"/home/tingan/miniconda3/envs/pls/lib/python3.10/site-packages/sklearn/metrics/_scorer.py\", line 234, in __call__\n",
      "    return self._score(\n",
      "  File \"/home/tingan/miniconda3/envs/pls/lib/python3.10/site-packages/sklearn/metrics/_scorer.py\", line 276, in _score\n",
      "    y_pred = method_caller(estimator, \"predict\", X)\n",
      "  File \"/home/tingan/miniconda3/envs/pls/lib/python3.10/site-packages/sklearn/metrics/_scorer.py\", line 73, in _cached_call\n",
      "    return getattr(estimator, method)(*args, **kwargs)\n",
      "  File \"/video/data/tingan/GitRep/IPLSreview/Code/OLPLS.py\", line 186, in predict\n",
      "    self._comp_coef()\n",
      "  File \"/video/data/tingan/GitRep/IPLSreview/Code/OLPLS.py\", line 178, in _comp_coef\n",
      "    pinv2(np.dot(self.P.T, self.W), check_finite=False),\n",
      "  File \"/home/tingan/miniconda3/envs/pls/lib/python3.10/site-packages/scipy/linalg/_basic.py\", line 1326, in pinv\n",
      "    u, s, vh = _decomp_svd.svd(a, full_matrices=False, check_finite=False)\n",
      "  File \"/home/tingan/miniconda3/envs/pls/lib/python3.10/site-packages/scipy/linalg/_decomp_svd.py\", line 133, in svd\n",
      "    raise ValueError('illegal value in %dth argument of internal gesdd'\n",
      "ValueError: illegal value in 4th argument of internal gesdd\n",
      "\n",
      "  warnings.warn(\n"
     ]
    },
    {
     "name": "stderr",
     "output_type": "stream",
     "text": [
      "/home/tingan/miniconda3/envs/pls/lib/python3.10/site-packages/sklearn/model_selection/_validation.py:778: UserWarning: Scoring failed. The score on this train-test partition for these parameters will be set to nan. Details: \n",
      "Traceback (most recent call last):\n",
      "  File \"/home/tingan/miniconda3/envs/pls/lib/python3.10/site-packages/sklearn/model_selection/_validation.py\", line 767, in _score\n",
      "    scores = scorer(estimator, X_test, y_test)\n",
      "  File \"/home/tingan/miniconda3/envs/pls/lib/python3.10/site-packages/sklearn/metrics/_scorer.py\", line 234, in __call__\n",
      "    return self._score(\n",
      "  File \"/home/tingan/miniconda3/envs/pls/lib/python3.10/site-packages/sklearn/metrics/_scorer.py\", line 276, in _score\n",
      "    y_pred = method_caller(estimator, \"predict\", X)\n",
      "  File \"/home/tingan/miniconda3/envs/pls/lib/python3.10/site-packages/sklearn/metrics/_scorer.py\", line 73, in _cached_call\n",
      "    return getattr(estimator, method)(*args, **kwargs)\n",
      "  File \"/video/data/tingan/GitRep/IPLSreview/Code/OLPLS.py\", line 186, in predict\n",
      "    self._comp_coef()\n",
      "  File \"/video/data/tingan/GitRep/IPLSreview/Code/OLPLS.py\", line 178, in _comp_coef\n",
      "    pinv2(np.dot(self.P.T, self.W), check_finite=False),\n",
      "  File \"/home/tingan/miniconda3/envs/pls/lib/python3.10/site-packages/scipy/linalg/_basic.py\", line 1326, in pinv\n",
      "    u, s, vh = _decomp_svd.svd(a, full_matrices=False, check_finite=False)\n",
      "  File \"/home/tingan/miniconda3/envs/pls/lib/python3.10/site-packages/scipy/linalg/_decomp_svd.py\", line 133, in svd\n",
      "    raise ValueError('illegal value in %dth argument of internal gesdd'\n",
      "ValueError: illegal value in 4th argument of internal gesdd\n",
      "\n",
      "  warnings.warn(\n"
     ]
    },
    {
     "name": "stderr",
     "output_type": "stream",
     "text": [
      "/video/data/tingan/GitRep/IPLSreview/Code/OLPLS.py:148: RuntimeWarning: overflow encountered in scalar power\n",
      "  a = a / (np.dot(wtemp, wtemp) ** 2)\n",
      "/video/data/tingan/GitRep/IPLSreview/Code/OLPLS.py:148: RuntimeWarning: invalid value encountered in divide\n",
      "  a = a / (np.dot(wtemp, wtemp) ** 2)\n"
     ]
    },
    {
     "name": "stderr",
     "output_type": "stream",
     "text": [
      "/video/data/tingan/GitRep/IPLSreview/Code/OLPLS.py:148: RuntimeWarning: overflow encountered in scalar power\n",
      "  a = a / (np.dot(wtemp, wtemp) ** 2)\n",
      "/video/data/tingan/GitRep/IPLSreview/Code/OLPLS.py:148: RuntimeWarning: invalid value encountered in divide\n",
      "  a = a / (np.dot(wtemp, wtemp) ** 2)\n"
     ]
    },
    {
     "name": "stderr",
     "output_type": "stream",
     "text": [
      "/video/data/tingan/GitRep/IPLSreview/Code/OLPLS.py:148: RuntimeWarning: overflow encountered in scalar power\n",
      "  a = a / (np.dot(wtemp, wtemp) ** 2)\n",
      "/video/data/tingan/GitRep/IPLSreview/Code/OLPLS.py:148: RuntimeWarning: invalid value encountered in divide\n",
      "  a = a / (np.dot(wtemp, wtemp) ** 2)\n"
     ]
    },
    {
     "name": "stderr",
     "output_type": "stream",
     "text": [
      "/home/tingan/miniconda3/envs/pls/lib/python3.10/site-packages/sklearn/model_selection/_validation.py:778: UserWarning: Scoring failed. The score on this train-test partition for these parameters will be set to nan. Details: \n",
      "Traceback (most recent call last):\n",
      "  File \"/home/tingan/miniconda3/envs/pls/lib/python3.10/site-packages/sklearn/model_selection/_validation.py\", line 767, in _score\n",
      "    scores = scorer(estimator, X_test, y_test)\n",
      "  File \"/home/tingan/miniconda3/envs/pls/lib/python3.10/site-packages/sklearn/metrics/_scorer.py\", line 234, in __call__\n",
      "    return self._score(\n",
      "  File \"/home/tingan/miniconda3/envs/pls/lib/python3.10/site-packages/sklearn/metrics/_scorer.py\", line 276, in _score\n",
      "    y_pred = method_caller(estimator, \"predict\", X)\n",
      "  File \"/home/tingan/miniconda3/envs/pls/lib/python3.10/site-packages/sklearn/metrics/_scorer.py\", line 73, in _cached_call\n",
      "    return getattr(estimator, method)(*args, **kwargs)\n",
      "  File \"/video/data/tingan/GitRep/IPLSreview/Code/OLPLS.py\", line 186, in predict\n",
      "    self._comp_coef()\n",
      "  File \"/video/data/tingan/GitRep/IPLSreview/Code/OLPLS.py\", line 178, in _comp_coef\n",
      "    pinv2(np.dot(self.P.T, self.W), check_finite=False),\n",
      "  File \"/home/tingan/miniconda3/envs/pls/lib/python3.10/site-packages/scipy/linalg/_basic.py\", line 1326, in pinv\n",
      "    u, s, vh = _decomp_svd.svd(a, full_matrices=False, check_finite=False)\n",
      "  File \"/home/tingan/miniconda3/envs/pls/lib/python3.10/site-packages/scipy/linalg/_decomp_svd.py\", line 133, in svd\n",
      "    raise ValueError('illegal value in %dth argument of internal gesdd'\n",
      "ValueError: illegal value in 4th argument of internal gesdd\n",
      "\n",
      "  warnings.warn(\n"
     ]
    },
    {
     "name": "stderr",
     "output_type": "stream",
     "text": [
      "/video/data/tingan/GitRep/IPLSreview/Code/OLPLS.py:148: RuntimeWarning: overflow encountered in scalar power\n",
      "  a = a / (np.dot(wtemp, wtemp) ** 2)\n",
      "/video/data/tingan/GitRep/IPLSreview/Code/OLPLS.py:148: RuntimeWarning: invalid value encountered in divide\n",
      "  a = a / (np.dot(wtemp, wtemp) ** 2)\n"
     ]
    },
    {
     "name": "stderr",
     "output_type": "stream",
     "text": [
      "/video/data/tingan/GitRep/IPLSreview/Code/OLPLS.py:148: RuntimeWarning: overflow encountered in scalar power\n",
      "  a = a / (np.dot(wtemp, wtemp) ** 2)\n",
      "/video/data/tingan/GitRep/IPLSreview/Code/OLPLS.py:148: RuntimeWarning: invalid value encountered in divide\n",
      "  a = a / (np.dot(wtemp, wtemp) ** 2)\n"
     ]
    },
    {
     "name": "stderr",
     "output_type": "stream",
     "text": [
      "/home/tingan/miniconda3/envs/pls/lib/python3.10/site-packages/sklearn/model_selection/_validation.py:778: UserWarning: Scoring failed. The score on this train-test partition for these parameters will be set to nan. Details: \n",
      "Traceback (most recent call last):\n",
      "  File \"/home/tingan/miniconda3/envs/pls/lib/python3.10/site-packages/sklearn/model_selection/_validation.py\", line 767, in _score\n",
      "    scores = scorer(estimator, X_test, y_test)\n",
      "  File \"/home/tingan/miniconda3/envs/pls/lib/python3.10/site-packages/sklearn/metrics/_scorer.py\", line 234, in __call__\n",
      "    return self._score(\n",
      "  File \"/home/tingan/miniconda3/envs/pls/lib/python3.10/site-packages/sklearn/metrics/_scorer.py\", line 276, in _score\n",
      "    y_pred = method_caller(estimator, \"predict\", X)\n",
      "  File \"/home/tingan/miniconda3/envs/pls/lib/python3.10/site-packages/sklearn/metrics/_scorer.py\", line 73, in _cached_call\n",
      "    return getattr(estimator, method)(*args, **kwargs)\n",
      "  File \"/video/data/tingan/GitRep/IPLSreview/Code/OLPLS.py\", line 186, in predict\n",
      "    self._comp_coef()\n",
      "  File \"/video/data/tingan/GitRep/IPLSreview/Code/OLPLS.py\", line 178, in _comp_coef\n",
      "    pinv2(np.dot(self.P.T, self.W), check_finite=False),\n",
      "  File \"/home/tingan/miniconda3/envs/pls/lib/python3.10/site-packages/scipy/linalg/_basic.py\", line 1326, in pinv\n",
      "    u, s, vh = _decomp_svd.svd(a, full_matrices=False, check_finite=False)\n",
      "  File \"/home/tingan/miniconda3/envs/pls/lib/python3.10/site-packages/scipy/linalg/_decomp_svd.py\", line 133, in svd\n",
      "    raise ValueError('illegal value in %dth argument of internal gesdd'\n",
      "ValueError: illegal value in 4th argument of internal gesdd\n",
      "\n",
      "  warnings.warn(\n"
     ]
    },
    {
     "name": "stderr",
     "output_type": "stream",
     "text": [
      "/home/tingan/miniconda3/envs/pls/lib/python3.10/site-packages/sklearn/model_selection/_validation.py:778: UserWarning: Scoring failed. The score on this train-test partition for these parameters will be set to nan. Details: \n",
      "Traceback (most recent call last):\n",
      "  File \"/home/tingan/miniconda3/envs/pls/lib/python3.10/site-packages/sklearn/model_selection/_validation.py\", line 767, in _score\n",
      "    scores = scorer(estimator, X_test, y_test)\n",
      "  File \"/home/tingan/miniconda3/envs/pls/lib/python3.10/site-packages/sklearn/metrics/_scorer.py\", line 234, in __call__\n",
      "    return self._score(\n",
      "  File \"/home/tingan/miniconda3/envs/pls/lib/python3.10/site-packages/sklearn/metrics/_scorer.py\", line 276, in _score\n",
      "    y_pred = method_caller(estimator, \"predict\", X)\n",
      "  File \"/home/tingan/miniconda3/envs/pls/lib/python3.10/site-packages/sklearn/metrics/_scorer.py\", line 73, in _cached_call\n",
      "    return getattr(estimator, method)(*args, **kwargs)\n",
      "  File \"/video/data/tingan/GitRep/IPLSreview/Code/OLPLS.py\", line 186, in predict\n",
      "    self._comp_coef()\n",
      "  File \"/video/data/tingan/GitRep/IPLSreview/Code/OLPLS.py\", line 178, in _comp_coef\n",
      "    pinv2(np.dot(self.P.T, self.W), check_finite=False),\n",
      "  File \"/home/tingan/miniconda3/envs/pls/lib/python3.10/site-packages/scipy/linalg/_basic.py\", line 1326, in pinv\n",
      "    u, s, vh = _decomp_svd.svd(a, full_matrices=False, check_finite=False)\n",
      "  File \"/home/tingan/miniconda3/envs/pls/lib/python3.10/site-packages/scipy/linalg/_decomp_svd.py\", line 133, in svd\n",
      "    raise ValueError('illegal value in %dth argument of internal gesdd'\n",
      "ValueError: illegal value in 4th argument of internal gesdd\n",
      "\n",
      "  warnings.warn(\n"
     ]
    },
    {
     "name": "stderr",
     "output_type": "stream",
     "text": [
      "/video/data/tingan/GitRep/IPLSreview/Code/OLPLS.py:148: RuntimeWarning: overflow encountered in scalar power\n",
      "  a = a / (np.dot(wtemp, wtemp) ** 2)\n",
      "/video/data/tingan/GitRep/IPLSreview/Code/OLPLS.py:148: RuntimeWarning: invalid value encountered in divide\n",
      "  a = a / (np.dot(wtemp, wtemp) ** 2)\n"
     ]
    },
    {
     "name": "stderr",
     "output_type": "stream",
     "text": [
      "/home/tingan/miniconda3/envs/pls/lib/python3.10/site-packages/sklearn/model_selection/_validation.py:778: UserWarning: Scoring failed. The score on this train-test partition for these parameters will be set to nan. Details: \n",
      "Traceback (most recent call last):\n",
      "  File \"/home/tingan/miniconda3/envs/pls/lib/python3.10/site-packages/sklearn/model_selection/_validation.py\", line 767, in _score\n",
      "    scores = scorer(estimator, X_test, y_test)\n",
      "  File \"/home/tingan/miniconda3/envs/pls/lib/python3.10/site-packages/sklearn/metrics/_scorer.py\", line 234, in __call__\n",
      "    return self._score(\n",
      "  File \"/home/tingan/miniconda3/envs/pls/lib/python3.10/site-packages/sklearn/metrics/_scorer.py\", line 276, in _score\n",
      "    y_pred = method_caller(estimator, \"predict\", X)\n",
      "  File \"/home/tingan/miniconda3/envs/pls/lib/python3.10/site-packages/sklearn/metrics/_scorer.py\", line 73, in _cached_call\n",
      "    return getattr(estimator, method)(*args, **kwargs)\n",
      "  File \"/video/data/tingan/GitRep/IPLSreview/Code/OLPLS.py\", line 186, in predict\n",
      "    self._comp_coef()\n",
      "  File \"/video/data/tingan/GitRep/IPLSreview/Code/OLPLS.py\", line 178, in _comp_coef\n",
      "    pinv2(np.dot(self.P.T, self.W), check_finite=False),\n",
      "  File \"/home/tingan/miniconda3/envs/pls/lib/python3.10/site-packages/scipy/linalg/_basic.py\", line 1326, in pinv\n",
      "    u, s, vh = _decomp_svd.svd(a, full_matrices=False, check_finite=False)\n",
      "  File \"/home/tingan/miniconda3/envs/pls/lib/python3.10/site-packages/scipy/linalg/_decomp_svd.py\", line 133, in svd\n",
      "    raise ValueError('illegal value in %dth argument of internal gesdd'\n",
      "ValueError: illegal value in 4th argument of internal gesdd\n",
      "\n",
      "  warnings.warn(\n"
     ]
    },
    {
     "name": "stderr",
     "output_type": "stream",
     "text": [
      "/video/data/tingan/GitRep/IPLSreview/Code/OLPLS.py:148: RuntimeWarning: overflow encountered in scalar power\n",
      "  a = a / (np.dot(wtemp, wtemp) ** 2)\n",
      "/video/data/tingan/GitRep/IPLSreview/Code/OLPLS.py:148: RuntimeWarning: invalid value encountered in divide\n",
      "  a = a / (np.dot(wtemp, wtemp) ** 2)\n"
     ]
    },
    {
     "name": "stderr",
     "output_type": "stream",
     "text": [
      "/home/tingan/miniconda3/envs/pls/lib/python3.10/site-packages/sklearn/model_selection/_validation.py:778: UserWarning: Scoring failed. The score on this train-test partition for these parameters will be set to nan. Details: \n",
      "Traceback (most recent call last):\n",
      "  File \"/home/tingan/miniconda3/envs/pls/lib/python3.10/site-packages/sklearn/model_selection/_validation.py\", line 767, in _score\n",
      "    scores = scorer(estimator, X_test, y_test)\n",
      "  File \"/home/tingan/miniconda3/envs/pls/lib/python3.10/site-packages/sklearn/metrics/_scorer.py\", line 234, in __call__\n",
      "    return self._score(\n",
      "  File \"/home/tingan/miniconda3/envs/pls/lib/python3.10/site-packages/sklearn/metrics/_scorer.py\", line 276, in _score\n",
      "    y_pred = method_caller(estimator, \"predict\", X)\n",
      "  File \"/home/tingan/miniconda3/envs/pls/lib/python3.10/site-packages/sklearn/metrics/_scorer.py\", line 73, in _cached_call\n",
      "    return getattr(estimator, method)(*args, **kwargs)\n",
      "  File \"/video/data/tingan/GitRep/IPLSreview/Code/OLPLS.py\", line 186, in predict\n",
      "    self._comp_coef()\n",
      "  File \"/video/data/tingan/GitRep/IPLSreview/Code/OLPLS.py\", line 178, in _comp_coef\n",
      "    pinv2(np.dot(self.P.T, self.W), check_finite=False),\n",
      "  File \"/home/tingan/miniconda3/envs/pls/lib/python3.10/site-packages/scipy/linalg/_basic.py\", line 1326, in pinv\n",
      "    u, s, vh = _decomp_svd.svd(a, full_matrices=False, check_finite=False)\n",
      "  File \"/home/tingan/miniconda3/envs/pls/lib/python3.10/site-packages/scipy/linalg/_decomp_svd.py\", line 133, in svd\n",
      "    raise ValueError('illegal value in %dth argument of internal gesdd'\n",
      "ValueError: illegal value in 4th argument of internal gesdd\n",
      "\n",
      "  warnings.warn(\n"
     ]
    },
    {
     "name": "stderr",
     "output_type": "stream",
     "text": [
      "/home/tingan/miniconda3/envs/pls/lib/python3.10/site-packages/sklearn/model_selection/_validation.py:778: UserWarning: Scoring failed. The score on this train-test partition for these parameters will be set to nan. Details: \n",
      "Traceback (most recent call last):\n",
      "  File \"/home/tingan/miniconda3/envs/pls/lib/python3.10/site-packages/sklearn/model_selection/_validation.py\", line 767, in _score\n",
      "    scores = scorer(estimator, X_test, y_test)\n",
      "  File \"/home/tingan/miniconda3/envs/pls/lib/python3.10/site-packages/sklearn/metrics/_scorer.py\", line 234, in __call__\n",
      "    return self._score(\n",
      "  File \"/home/tingan/miniconda3/envs/pls/lib/python3.10/site-packages/sklearn/metrics/_scorer.py\", line 276, in _score\n",
      "    y_pred = method_caller(estimator, \"predict\", X)\n",
      "  File \"/home/tingan/miniconda3/envs/pls/lib/python3.10/site-packages/sklearn/metrics/_scorer.py\", line 73, in _cached_call\n",
      "    return getattr(estimator, method)(*args, **kwargs)\n",
      "  File \"/video/data/tingan/GitRep/IPLSreview/Code/OLPLS.py\", line 186, in predict\n",
      "    self._comp_coef()\n",
      "  File \"/video/data/tingan/GitRep/IPLSreview/Code/OLPLS.py\", line 178, in _comp_coef\n",
      "    pinv2(np.dot(self.P.T, self.W), check_finite=False),\n",
      "  File \"/home/tingan/miniconda3/envs/pls/lib/python3.10/site-packages/scipy/linalg/_basic.py\", line 1326, in pinv\n",
      "    u, s, vh = _decomp_svd.svd(a, full_matrices=False, check_finite=False)\n",
      "  File \"/home/tingan/miniconda3/envs/pls/lib/python3.10/site-packages/scipy/linalg/_decomp_svd.py\", line 133, in svd\n",
      "    raise ValueError('illegal value in %dth argument of internal gesdd'\n",
      "ValueError: illegal value in 4th argument of internal gesdd\n",
      "\n",
      "  warnings.warn(\n"
     ]
    },
    {
     "name": "stderr",
     "output_type": "stream",
     "text": [
      "/home/tingan/miniconda3/envs/pls/lib/python3.10/site-packages/sklearn/model_selection/_validation.py:778: UserWarning: Scoring failed. The score on this train-test partition for these parameters will be set to nan. Details: \n",
      "Traceback (most recent call last):\n",
      "  File \"/home/tingan/miniconda3/envs/pls/lib/python3.10/site-packages/sklearn/model_selection/_validation.py\", line 767, in _score\n",
      "    scores = scorer(estimator, X_test, y_test)\n",
      "  File \"/home/tingan/miniconda3/envs/pls/lib/python3.10/site-packages/sklearn/metrics/_scorer.py\", line 234, in __call__\n",
      "    return self._score(\n",
      "  File \"/home/tingan/miniconda3/envs/pls/lib/python3.10/site-packages/sklearn/metrics/_scorer.py\", line 276, in _score\n",
      "    y_pred = method_caller(estimator, \"predict\", X)\n",
      "  File \"/home/tingan/miniconda3/envs/pls/lib/python3.10/site-packages/sklearn/metrics/_scorer.py\", line 73, in _cached_call\n",
      "    return getattr(estimator, method)(*args, **kwargs)\n",
      "  File \"/video/data/tingan/GitRep/IPLSreview/Code/OLPLS.py\", line 186, in predict\n",
      "    self._comp_coef()\n",
      "  File \"/video/data/tingan/GitRep/IPLSreview/Code/OLPLS.py\", line 178, in _comp_coef\n",
      "    pinv2(np.dot(self.P.T, self.W), check_finite=False),\n",
      "  File \"/home/tingan/miniconda3/envs/pls/lib/python3.10/site-packages/scipy/linalg/_basic.py\", line 1326, in pinv\n",
      "    u, s, vh = _decomp_svd.svd(a, full_matrices=False, check_finite=False)\n",
      "  File \"/home/tingan/miniconda3/envs/pls/lib/python3.10/site-packages/scipy/linalg/_decomp_svd.py\", line 133, in svd\n",
      "    raise ValueError('illegal value in %dth argument of internal gesdd'\n",
      "ValueError: illegal value in 4th argument of internal gesdd\n",
      "\n",
      "  warnings.warn(\n"
     ]
    },
    {
     "name": "stderr",
     "output_type": "stream",
     "text": [
      "/video/data/tingan/GitRep/IPLSreview/Code/OLPLS.py:148: RuntimeWarning: overflow encountered in scalar power\n",
      "  a = a / (np.dot(wtemp, wtemp) ** 2)\n"
     ]
    },
    {
     "name": "stderr",
     "output_type": "stream",
     "text": [
      "/video/data/tingan/GitRep/IPLSreview/Code/OLPLS.py:148: RuntimeWarning: overflow encountered in scalar power\n",
      "  a = a / (np.dot(wtemp, wtemp) ** 2)\n"
     ]
    },
    {
     "name": "stderr",
     "output_type": "stream",
     "text": [
      "/video/data/tingan/GitRep/IPLSreview/Code/OLPLS.py:148: RuntimeWarning: overflow encountered in scalar power\n",
      "  a = a / (np.dot(wtemp, wtemp) ** 2)\n"
     ]
    },
    {
     "name": "stderr",
     "output_type": "stream",
     "text": [
      "/video/data/tingan/GitRep/IPLSreview/Code/OLPLS.py:148: RuntimeWarning: overflow encountered in scalar power\n",
      "  a = a / (np.dot(wtemp, wtemp) ** 2)\n"
     ]
    },
    {
     "name": "stderr",
     "output_type": "stream",
     "text": [
      "/video/data/tingan/GitRep/IPLSreview/Code/OLPLS.py:148: RuntimeWarning: overflow encountered in scalar power\n",
      "  a = a / (np.dot(wtemp, wtemp) ** 2)\n"
     ]
    },
    {
     "name": "stderr",
     "output_type": "stream",
     "text": [
      "/home/tingan/miniconda3/envs/pls/lib/python3.10/site-packages/sklearn/model_selection/_search.py:952: UserWarning: One or more of the test scores are non-finite: [-24.52280275 -23.10006375 -24.74286406          nan -23.10006375\n",
      " -24.74286406 -25.67083011 -23.10006375 -24.74286406          nan\n",
      " -23.10006375 -24.74286406          nan -23.10006375 -24.74286406\n",
      " -24.79405931 -23.10006375 -24.74286406          nan -23.10006375\n",
      " -24.74286406          nan -23.10006375 -24.74286406 -22.67308858\n",
      " -23.10006375 -24.74286406 -23.70920485 -23.10006375 -24.74286406\n",
      " -22.21710762 -23.10006375 -24.74286406]\n",
      "  warnings.warn(\n"
     ]
    },
    {
     "name": "stdout",
     "output_type": "stream",
     "text": [
      "CV elapsed time: 6613.61s\n",
      "best parameter:  {'amnesic': 0.99, 'mu': 0.0001} ; score:  -2.2217108e+01\n"
     ]
    }
   ],
   "source": [
    "import Code.OLPLS\n",
    "importlib.reload(Code.OLPLS)\n",
    "from Code.OLPLS import OLPLS\n",
    "\n",
    "parameters = {'mu': [1e-4, 1e-5, 1e-6], 'amnesic': [1e-2] + list(np.arange(0.1,1.0,0.1)) + [0.99]}\n",
    "clf = GridSearchCV(OLPLS(n_components=7), parameters,\n",
    "                   cv=KFold(n_splits=kf_num), n_jobs=4, \n",
    "                   scoring='neg_root_mean_squared_error')\n",
    "\n",
    "print(clf)\n",
    "tictoc.tic()\n",
    "clf.fit(X_train, y_train)\n",
    "print(\"CV elapsed time: {:.2f}s\".format(tictoc.tocvalue()))\n",
    "print(\"best parameter: \", clf.best_params_,\n",
    "      \"; score: {:15.7e}\".format(clf.best_score_))"
   ]
  },
  {
   "cell_type": "code",
   "execution_count": 4,
   "id": "c224d29f-a64c-441a-9bb1-5095081445b7",
   "metadata": {
    "collapsed": false,
    "jupyter": {
     "outputs_hidden": false
    }
   },
   "outputs": [
    {
     "name": "stdout",
     "output_type": "stream",
     "text": [
      "GridSearchCV(cv=KFold(n_splits=10, random_state=None, shuffle=False),\n",
      "             estimator=SGDPLS(n_components=7), n_jobs=4,\n",
      "             param_grid={'epochs': [100, 200, 300],\n",
      "                         'eta': [0.01, 0.001, 0.0001]},\n",
      "             scoring='neg_root_mean_squared_error')\n"
     ]
    },
    {
     "name": "stderr",
     "output_type": "stream",
     "text": [
      "/video/data/tingan/GitRep/IPLSreview/Code/SGDPLS.py:96: RuntimeWarning: overflow encountered in matmul\n",
      "  self.y_rotations += self.eta * np.matmul(np.matmul(yi, xi.T), tmp)\n",
      "/video/data/tingan/GitRep/IPLSreview/Code/SGDPLS.py:95: RuntimeWarning: invalid value encountered in matmul\n",
      "  self.x_rotations += self.eta * np.matmul(np.matmul(xi, yi.T), self.y_rotations)\n",
      "/video/data/tingan/GitRep/IPLSreview/Code/SGDPLS.py:96: RuntimeWarning: invalid value encountered in matmul\n",
      "  self.y_rotations += self.eta * np.matmul(np.matmul(yi, xi.T), tmp)\n",
      "/video/data/tingan/GitRep/IPLSreview/Code/SGDPLS.py:96: RuntimeWarning: overflow encountered in matmul\n",
      "  self.y_rotations += self.eta * np.matmul(np.matmul(yi, xi.T), tmp)\n",
      "/video/data/tingan/GitRep/IPLSreview/Code/SGDPLS.py:95: RuntimeWarning: invalid value encountered in matmul\n",
      "  self.x_rotations += self.eta * np.matmul(np.matmul(xi, yi.T), self.y_rotations)\n",
      "/video/data/tingan/GitRep/IPLSreview/Code/SGDPLS.py:96: RuntimeWarning: invalid value encountered in matmul\n",
      "  self.y_rotations += self.eta * np.matmul(np.matmul(yi, xi.T), tmp)\n",
      "/video/data/tingan/GitRep/IPLSreview/Code/SGDPLS.py:96: RuntimeWarning: overflow encountered in matmul\n",
      "  self.y_rotations += self.eta * np.matmul(np.matmul(yi, xi.T), tmp)\n",
      "/video/data/tingan/GitRep/IPLSreview/Code/SGDPLS.py:95: RuntimeWarning: invalid value encountered in matmul\n",
      "  self.x_rotations += self.eta * np.matmul(np.matmul(xi, yi.T), self.y_rotations)\n",
      "/video/data/tingan/GitRep/IPLSreview/Code/SGDPLS.py:96: RuntimeWarning: invalid value encountered in matmul\n",
      "  self.y_rotations += self.eta * np.matmul(np.matmul(yi, xi.T), tmp)\n",
      "/video/data/tingan/GitRep/IPLSreview/Code/SGDPLS.py:96: RuntimeWarning: overflow encountered in matmul\n",
      "  self.y_rotations += self.eta * np.matmul(np.matmul(yi, xi.T), tmp)\n",
      "/video/data/tingan/GitRep/IPLSreview/Code/SGDPLS.py:95: RuntimeWarning: invalid value encountered in matmul\n",
      "  self.x_rotations += self.eta * np.matmul(np.matmul(xi, yi.T), self.y_rotations)\n",
      "/video/data/tingan/GitRep/IPLSreview/Code/SGDPLS.py:96: RuntimeWarning: invalid value encountered in matmul\n",
      "  self.y_rotations += self.eta * np.matmul(np.matmul(yi, xi.T), tmp)\n"
     ]
    },
    {
     "name": "stderr",
     "output_type": "stream",
     "text": [
      "/video/data/tingan/GitRep/IPLSreview/Code/SGDPLS.py:96: RuntimeWarning: overflow encountered in matmul\n",
      "  self.y_rotations += self.eta * np.matmul(np.matmul(yi, xi.T), tmp)\n",
      "/video/data/tingan/GitRep/IPLSreview/Code/SGDPLS.py:95: RuntimeWarning: invalid value encountered in matmul\n",
      "  self.x_rotations += self.eta * np.matmul(np.matmul(xi, yi.T), self.y_rotations)\n",
      "/video/data/tingan/GitRep/IPLSreview/Code/SGDPLS.py:96: RuntimeWarning: invalid value encountered in matmul\n",
      "  self.y_rotations += self.eta * np.matmul(np.matmul(yi, xi.T), tmp)\n"
     ]
    },
    {
     "name": "stderr",
     "output_type": "stream",
     "text": [
      "/video/data/tingan/GitRep/IPLSreview/Code/SGDPLS.py:96: RuntimeWarning: overflow encountered in matmul\n",
      "  self.y_rotations += self.eta * np.matmul(np.matmul(yi, xi.T), tmp)\n",
      "/video/data/tingan/GitRep/IPLSreview/Code/SGDPLS.py:95: RuntimeWarning: invalid value encountered in matmul\n",
      "  self.x_rotations += self.eta * np.matmul(np.matmul(xi, yi.T), self.y_rotations)\n",
      "/video/data/tingan/GitRep/IPLSreview/Code/SGDPLS.py:96: RuntimeWarning: invalid value encountered in matmul\n",
      "  self.y_rotations += self.eta * np.matmul(np.matmul(yi, xi.T), tmp)\n"
     ]
    },
    {
     "name": "stderr",
     "output_type": "stream",
     "text": [
      "/video/data/tingan/GitRep/IPLSreview/Code/SGDPLS.py:96: RuntimeWarning: overflow encountered in matmul\n",
      "  self.y_rotations += self.eta * np.matmul(np.matmul(yi, xi.T), tmp)\n",
      "/video/data/tingan/GitRep/IPLSreview/Code/SGDPLS.py:95: RuntimeWarning: invalid value encountered in matmul\n",
      "  self.x_rotations += self.eta * np.matmul(np.matmul(xi, yi.T), self.y_rotations)\n",
      "/video/data/tingan/GitRep/IPLSreview/Code/SGDPLS.py:96: RuntimeWarning: invalid value encountered in matmul\n",
      "  self.y_rotations += self.eta * np.matmul(np.matmul(yi, xi.T), tmp)\n"
     ]
    },
    {
     "name": "stderr",
     "output_type": "stream",
     "text": [
      "/video/data/tingan/GitRep/IPLSreview/Code/SGDPLS.py:96: RuntimeWarning: overflow encountered in matmul\n",
      "  self.y_rotations += self.eta * np.matmul(np.matmul(yi, xi.T), tmp)\n",
      "/video/data/tingan/GitRep/IPLSreview/Code/SGDPLS.py:95: RuntimeWarning: invalid value encountered in matmul\n",
      "  self.x_rotations += self.eta * np.matmul(np.matmul(xi, yi.T), self.y_rotations)\n",
      "/video/data/tingan/GitRep/IPLSreview/Code/SGDPLS.py:96: RuntimeWarning: invalid value encountered in matmul\n",
      "  self.y_rotations += self.eta * np.matmul(np.matmul(yi, xi.T), tmp)\n"
     ]
    },
    {
     "name": "stderr",
     "output_type": "stream",
     "text": [
      "/video/data/tingan/GitRep/IPLSreview/Code/SGDPLS.py:96: RuntimeWarning: overflow encountered in matmul\n",
      "  self.y_rotations += self.eta * np.matmul(np.matmul(yi, xi.T), tmp)\n",
      "/video/data/tingan/GitRep/IPLSreview/Code/SGDPLS.py:95: RuntimeWarning: invalid value encountered in matmul\n",
      "  self.x_rotations += self.eta * np.matmul(np.matmul(xi, yi.T), self.y_rotations)\n",
      "/video/data/tingan/GitRep/IPLSreview/Code/SGDPLS.py:96: RuntimeWarning: invalid value encountered in matmul\n",
      "  self.y_rotations += self.eta * np.matmul(np.matmul(yi, xi.T), tmp)\n"
     ]
    },
    {
     "name": "stderr",
     "output_type": "stream",
     "text": [
      "/video/data/tingan/GitRep/IPLSreview/Code/SGDPLS.py:96: RuntimeWarning: overflow encountered in matmul\n",
      "  self.y_rotations += self.eta * np.matmul(np.matmul(yi, xi.T), tmp)\n",
      "/video/data/tingan/GitRep/IPLSreview/Code/SGDPLS.py:95: RuntimeWarning: invalid value encountered in matmul\n",
      "  self.x_rotations += self.eta * np.matmul(np.matmul(xi, yi.T), self.y_rotations)\n",
      "/video/data/tingan/GitRep/IPLSreview/Code/SGDPLS.py:96: RuntimeWarning: invalid value encountered in matmul\n",
      "  self.y_rotations += self.eta * np.matmul(np.matmul(yi, xi.T), tmp)\n"
     ]
    },
    {
     "name": "stderr",
     "output_type": "stream",
     "text": [
      "/video/data/tingan/GitRep/IPLSreview/Code/SGDPLS.py:96: RuntimeWarning: overflow encountered in matmul\n",
      "  self.y_rotations += self.eta * np.matmul(np.matmul(yi, xi.T), tmp)\n",
      "/video/data/tingan/GitRep/IPLSreview/Code/SGDPLS.py:95: RuntimeWarning: invalid value encountered in matmul\n",
      "  self.x_rotations += self.eta * np.matmul(np.matmul(xi, yi.T), self.y_rotations)\n",
      "/video/data/tingan/GitRep/IPLSreview/Code/SGDPLS.py:96: RuntimeWarning: invalid value encountered in matmul\n",
      "  self.y_rotations += self.eta * np.matmul(np.matmul(yi, xi.T), tmp)\n",
      "/video/data/tingan/GitRep/IPLSreview/Code/SGDPLS.py:95: RuntimeWarning: invalid value encountered in add\n",
      "  self.x_rotations += self.eta * np.matmul(np.matmul(xi, yi.T), self.y_rotations)\n"
     ]
    },
    {
     "name": "stderr",
     "output_type": "stream",
     "text": [
      "/video/data/tingan/GitRep/IPLSreview/Code/SGDPLS.py:96: RuntimeWarning: overflow encountered in matmul\n",
      "  self.y_rotations += self.eta * np.matmul(np.matmul(yi, xi.T), tmp)\n",
      "/video/data/tingan/GitRep/IPLSreview/Code/SGDPLS.py:95: RuntimeWarning: invalid value encountered in matmul\n",
      "  self.x_rotations += self.eta * np.matmul(np.matmul(xi, yi.T), self.y_rotations)\n",
      "/video/data/tingan/GitRep/IPLSreview/Code/SGDPLS.py:96: RuntimeWarning: invalid value encountered in matmul\n",
      "  self.y_rotations += self.eta * np.matmul(np.matmul(yi, xi.T), tmp)\n"
     ]
    },
    {
     "name": "stderr",
     "output_type": "stream",
     "text": [
      "/video/data/tingan/GitRep/IPLSreview/Code/SGDPLS.py:96: RuntimeWarning: overflow encountered in matmul\n",
      "  self.y_rotations += self.eta * np.matmul(np.matmul(yi, xi.T), tmp)\n",
      "/video/data/tingan/GitRep/IPLSreview/Code/SGDPLS.py:95: RuntimeWarning: invalid value encountered in matmul\n",
      "  self.x_rotations += self.eta * np.matmul(np.matmul(xi, yi.T), self.y_rotations)\n",
      "/video/data/tingan/GitRep/IPLSreview/Code/SGDPLS.py:96: RuntimeWarning: invalid value encountered in matmul\n",
      "  self.y_rotations += self.eta * np.matmul(np.matmul(yi, xi.T), tmp)\n"
     ]
    },
    {
     "name": "stderr",
     "output_type": "stream",
     "text": [
      "/video/data/tingan/GitRep/IPLSreview/Code/SGDPLS.py:96: RuntimeWarning: overflow encountered in matmul\n",
      "  self.y_rotations += self.eta * np.matmul(np.matmul(yi, xi.T), tmp)\n",
      "/video/data/tingan/GitRep/IPLSreview/Code/SGDPLS.py:95: RuntimeWarning: invalid value encountered in matmul\n",
      "  self.x_rotations += self.eta * np.matmul(np.matmul(xi, yi.T), self.y_rotations)\n",
      "/video/data/tingan/GitRep/IPLSreview/Code/SGDPLS.py:95: RuntimeWarning: invalid value encountered in add\n",
      "  self.x_rotations += self.eta * np.matmul(np.matmul(xi, yi.T), self.y_rotations)\n",
      "/video/data/tingan/GitRep/IPLSreview/Code/SGDPLS.py:96: RuntimeWarning: invalid value encountered in matmul\n",
      "  self.y_rotations += self.eta * np.matmul(np.matmul(yi, xi.T), tmp)\n"
     ]
    },
    {
     "name": "stderr",
     "output_type": "stream",
     "text": [
      "/video/data/tingan/GitRep/IPLSreview/Code/SGDPLS.py:96: RuntimeWarning: overflow encountered in matmul\n",
      "  self.y_rotations += self.eta * np.matmul(np.matmul(yi, xi.T), tmp)\n",
      "/video/data/tingan/GitRep/IPLSreview/Code/SGDPLS.py:95: RuntimeWarning: invalid value encountered in matmul\n",
      "  self.x_rotations += self.eta * np.matmul(np.matmul(xi, yi.T), self.y_rotations)\n",
      "/video/data/tingan/GitRep/IPLSreview/Code/SGDPLS.py:96: RuntimeWarning: invalid value encountered in matmul\n",
      "  self.y_rotations += self.eta * np.matmul(np.matmul(yi, xi.T), tmp)\n"
     ]
    },
    {
     "name": "stderr",
     "output_type": "stream",
     "text": [
      "/video/data/tingan/GitRep/IPLSreview/Code/SGDPLS.py:96: RuntimeWarning: overflow encountered in matmul\n",
      "  self.y_rotations += self.eta * np.matmul(np.matmul(yi, xi.T), tmp)\n",
      "/video/data/tingan/GitRep/IPLSreview/Code/SGDPLS.py:95: RuntimeWarning: invalid value encountered in matmul\n",
      "  self.x_rotations += self.eta * np.matmul(np.matmul(xi, yi.T), self.y_rotations)\n",
      "/video/data/tingan/GitRep/IPLSreview/Code/SGDPLS.py:95: RuntimeWarning: invalid value encountered in add\n",
      "  self.x_rotations += self.eta * np.matmul(np.matmul(xi, yi.T), self.y_rotations)\n",
      "/video/data/tingan/GitRep/IPLSreview/Code/SGDPLS.py:96: RuntimeWarning: invalid value encountered in matmul\n",
      "  self.y_rotations += self.eta * np.matmul(np.matmul(yi, xi.T), tmp)\n"
     ]
    },
    {
     "name": "stderr",
     "output_type": "stream",
     "text": [
      "/video/data/tingan/GitRep/IPLSreview/Code/SGDPLS.py:96: RuntimeWarning: overflow encountered in matmul\n",
      "  self.y_rotations += self.eta * np.matmul(np.matmul(yi, xi.T), tmp)\n",
      "/video/data/tingan/GitRep/IPLSreview/Code/SGDPLS.py:95: RuntimeWarning: invalid value encountered in matmul\n",
      "  self.x_rotations += self.eta * np.matmul(np.matmul(xi, yi.T), self.y_rotations)\n",
      "/video/data/tingan/GitRep/IPLSreview/Code/SGDPLS.py:96: RuntimeWarning: invalid value encountered in matmul\n",
      "  self.y_rotations += self.eta * np.matmul(np.matmul(yi, xi.T), tmp)\n"
     ]
    },
    {
     "name": "stderr",
     "output_type": "stream",
     "text": [
      "/video/data/tingan/GitRep/IPLSreview/Code/SGDPLS.py:96: RuntimeWarning: overflow encountered in matmul\n",
      "  self.y_rotations += self.eta * np.matmul(np.matmul(yi, xi.T), tmp)\n",
      "/video/data/tingan/GitRep/IPLSreview/Code/SGDPLS.py:95: RuntimeWarning: invalid value encountered in matmul\n",
      "  self.x_rotations += self.eta * np.matmul(np.matmul(xi, yi.T), self.y_rotations)\n",
      "/video/data/tingan/GitRep/IPLSreview/Code/SGDPLS.py:96: RuntimeWarning: invalid value encountered in matmul\n",
      "  self.y_rotations += self.eta * np.matmul(np.matmul(yi, xi.T), tmp)\n",
      "/video/data/tingan/GitRep/IPLSreview/Code/SGDPLS.py:95: RuntimeWarning: invalid value encountered in add\n",
      "  self.x_rotations += self.eta * np.matmul(np.matmul(xi, yi.T), self.y_rotations)\n"
     ]
    },
    {
     "name": "stderr",
     "output_type": "stream",
     "text": [
      "/video/data/tingan/GitRep/IPLSreview/Code/SGDPLS.py:96: RuntimeWarning: overflow encountered in matmul\n",
      "  self.y_rotations += self.eta * np.matmul(np.matmul(yi, xi.T), tmp)\n",
      "/video/data/tingan/GitRep/IPLSreview/Code/SGDPLS.py:95: RuntimeWarning: invalid value encountered in matmul\n",
      "  self.x_rotations += self.eta * np.matmul(np.matmul(xi, yi.T), self.y_rotations)\n",
      "/video/data/tingan/GitRep/IPLSreview/Code/SGDPLS.py:96: RuntimeWarning: invalid value encountered in matmul\n",
      "  self.y_rotations += self.eta * np.matmul(np.matmul(yi, xi.T), tmp)\n"
     ]
    },
    {
     "name": "stderr",
     "output_type": "stream",
     "text": [
      "/video/data/tingan/GitRep/IPLSreview/Code/SGDPLS.py:96: RuntimeWarning: overflow encountered in matmul\n",
      "  self.y_rotations += self.eta * np.matmul(np.matmul(yi, xi.T), tmp)\n",
      "/video/data/tingan/GitRep/IPLSreview/Code/SGDPLS.py:95: RuntimeWarning: invalid value encountered in matmul\n",
      "  self.x_rotations += self.eta * np.matmul(np.matmul(xi, yi.T), self.y_rotations)\n",
      "/video/data/tingan/GitRep/IPLSreview/Code/SGDPLS.py:96: RuntimeWarning: invalid value encountered in matmul\n",
      "  self.y_rotations += self.eta * np.matmul(np.matmul(yi, xi.T), tmp)\n"
     ]
    },
    {
     "name": "stderr",
     "output_type": "stream",
     "text": [
      "/video/data/tingan/GitRep/IPLSreview/Code/SGDPLS.py:96: RuntimeWarning: overflow encountered in matmul\n",
      "  self.y_rotations += self.eta * np.matmul(np.matmul(yi, xi.T), tmp)\n",
      "/video/data/tingan/GitRep/IPLSreview/Code/SGDPLS.py:95: RuntimeWarning: invalid value encountered in matmul\n",
      "  self.x_rotations += self.eta * np.matmul(np.matmul(xi, yi.T), self.y_rotations)\n",
      "/video/data/tingan/GitRep/IPLSreview/Code/SGDPLS.py:95: RuntimeWarning: invalid value encountered in add\n",
      "  self.x_rotations += self.eta * np.matmul(np.matmul(xi, yi.T), self.y_rotations)\n",
      "/video/data/tingan/GitRep/IPLSreview/Code/SGDPLS.py:96: RuntimeWarning: invalid value encountered in matmul\n",
      "  self.y_rotations += self.eta * np.matmul(np.matmul(yi, xi.T), tmp)\n"
     ]
    },
    {
     "name": "stderr",
     "output_type": "stream",
     "text": [
      "/video/data/tingan/GitRep/IPLSreview/Code/SGDPLS.py:96: RuntimeWarning: overflow encountered in matmul\n",
      "  self.y_rotations += self.eta * np.matmul(np.matmul(yi, xi.T), tmp)\n",
      "/video/data/tingan/GitRep/IPLSreview/Code/SGDPLS.py:95: RuntimeWarning: invalid value encountered in matmul\n",
      "  self.x_rotations += self.eta * np.matmul(np.matmul(xi, yi.T), self.y_rotations)\n",
      "/video/data/tingan/GitRep/IPLSreview/Code/SGDPLS.py:96: RuntimeWarning: invalid value encountered in matmul\n",
      "  self.y_rotations += self.eta * np.matmul(np.matmul(yi, xi.T), tmp)\n"
     ]
    },
    {
     "name": "stderr",
     "output_type": "stream",
     "text": [
      "/video/data/tingan/GitRep/IPLSreview/Code/SGDPLS.py:96: RuntimeWarning: overflow encountered in matmul\n",
      "  self.y_rotations += self.eta * np.matmul(np.matmul(yi, xi.T), tmp)\n",
      "/video/data/tingan/GitRep/IPLSreview/Code/SGDPLS.py:95: RuntimeWarning: invalid value encountered in matmul\n",
      "  self.x_rotations += self.eta * np.matmul(np.matmul(xi, yi.T), self.y_rotations)\n",
      "/video/data/tingan/GitRep/IPLSreview/Code/SGDPLS.py:96: RuntimeWarning: invalid value encountered in matmul\n",
      "  self.y_rotations += self.eta * np.matmul(np.matmul(yi, xi.T), tmp)\n",
      "/video/data/tingan/GitRep/IPLSreview/Code/SGDPLS.py:95: RuntimeWarning: invalid value encountered in add\n",
      "  self.x_rotations += self.eta * np.matmul(np.matmul(xi, yi.T), self.y_rotations)\n"
     ]
    },
    {
     "name": "stderr",
     "output_type": "stream",
     "text": [
      "/video/data/tingan/GitRep/IPLSreview/Code/SGDPLS.py:96: RuntimeWarning: overflow encountered in matmul\n",
      "  self.y_rotations += self.eta * np.matmul(np.matmul(yi, xi.T), tmp)\n",
      "/video/data/tingan/GitRep/IPLSreview/Code/SGDPLS.py:95: RuntimeWarning: invalid value encountered in matmul\n",
      "  self.x_rotations += self.eta * np.matmul(np.matmul(xi, yi.T), self.y_rotations)\n",
      "/video/data/tingan/GitRep/IPLSreview/Code/SGDPLS.py:96: RuntimeWarning: invalid value encountered in matmul\n",
      "  self.y_rotations += self.eta * np.matmul(np.matmul(yi, xi.T), tmp)\n"
     ]
    },
    {
     "name": "stderr",
     "output_type": "stream",
     "text": [
      "/video/data/tingan/GitRep/IPLSreview/Code/SGDPLS.py:96: RuntimeWarning: overflow encountered in matmul\n",
      "  self.y_rotations += self.eta * np.matmul(np.matmul(yi, xi.T), tmp)\n",
      "/video/data/tingan/GitRep/IPLSreview/Code/SGDPLS.py:95: RuntimeWarning: invalid value encountered in matmul\n",
      "  self.x_rotations += self.eta * np.matmul(np.matmul(xi, yi.T), self.y_rotations)\n",
      "/video/data/tingan/GitRep/IPLSreview/Code/SGDPLS.py:96: RuntimeWarning: invalid value encountered in matmul\n",
      "  self.y_rotations += self.eta * np.matmul(np.matmul(yi, xi.T), tmp)\n"
     ]
    },
    {
     "name": "stderr",
     "output_type": "stream",
     "text": [
      "/video/data/tingan/GitRep/IPLSreview/Code/SGDPLS.py:96: RuntimeWarning: overflow encountered in matmul\n",
      "  self.y_rotations += self.eta * np.matmul(np.matmul(yi, xi.T), tmp)\n",
      "/video/data/tingan/GitRep/IPLSreview/Code/SGDPLS.py:95: RuntimeWarning: invalid value encountered in matmul\n",
      "  self.x_rotations += self.eta * np.matmul(np.matmul(xi, yi.T), self.y_rotations)\n",
      "/video/data/tingan/GitRep/IPLSreview/Code/SGDPLS.py:96: RuntimeWarning: invalid value encountered in matmul\n",
      "  self.y_rotations += self.eta * np.matmul(np.matmul(yi, xi.T), tmp)\n"
     ]
    },
    {
     "name": "stderr",
     "output_type": "stream",
     "text": [
      "/video/data/tingan/GitRep/IPLSreview/Code/SGDPLS.py:96: RuntimeWarning: overflow encountered in matmul\n",
      "  self.y_rotations += self.eta * np.matmul(np.matmul(yi, xi.T), tmp)\n",
      "/video/data/tingan/GitRep/IPLSreview/Code/SGDPLS.py:95: RuntimeWarning: invalid value encountered in matmul\n",
      "  self.x_rotations += self.eta * np.matmul(np.matmul(xi, yi.T), self.y_rotations)\n",
      "/video/data/tingan/GitRep/IPLSreview/Code/SGDPLS.py:96: RuntimeWarning: invalid value encountered in matmul\n",
      "  self.y_rotations += self.eta * np.matmul(np.matmul(yi, xi.T), tmp)\n"
     ]
    },
    {
     "name": "stderr",
     "output_type": "stream",
     "text": [
      "/video/data/tingan/GitRep/IPLSreview/Code/SGDPLS.py:96: RuntimeWarning: overflow encountered in matmul\n",
      "  self.y_rotations += self.eta * np.matmul(np.matmul(yi, xi.T), tmp)\n",
      "/video/data/tingan/GitRep/IPLSreview/Code/SGDPLS.py:95: RuntimeWarning: invalid value encountered in matmul\n",
      "  self.x_rotations += self.eta * np.matmul(np.matmul(xi, yi.T), self.y_rotations)\n",
      "/video/data/tingan/GitRep/IPLSreview/Code/SGDPLS.py:96: RuntimeWarning: invalid value encountered in matmul\n",
      "  self.y_rotations += self.eta * np.matmul(np.matmul(yi, xi.T), tmp)\n"
     ]
    },
    {
     "name": "stderr",
     "output_type": "stream",
     "text": [
      "/video/data/tingan/GitRep/IPLSreview/Code/SGDPLS.py:96: RuntimeWarning: overflow encountered in matmul\n",
      "  self.y_rotations += self.eta * np.matmul(np.matmul(yi, xi.T), tmp)\n",
      "/video/data/tingan/GitRep/IPLSreview/Code/SGDPLS.py:95: RuntimeWarning: invalid value encountered in matmul\n",
      "  self.x_rotations += self.eta * np.matmul(np.matmul(xi, yi.T), self.y_rotations)\n",
      "/video/data/tingan/GitRep/IPLSreview/Code/SGDPLS.py:96: RuntimeWarning: invalid value encountered in matmul\n",
      "  self.y_rotations += self.eta * np.matmul(np.matmul(yi, xi.T), tmp)\n"
     ]
    },
    {
     "name": "stderr",
     "output_type": "stream",
     "text": [
      "/video/data/tingan/GitRep/IPLSreview/Code/SGDPLS.py:96: RuntimeWarning: overflow encountered in matmul\n",
      "  self.y_rotations += self.eta * np.matmul(np.matmul(yi, xi.T), tmp)\n",
      "/video/data/tingan/GitRep/IPLSreview/Code/SGDPLS.py:95: RuntimeWarning: invalid value encountered in matmul\n",
      "  self.x_rotations += self.eta * np.matmul(np.matmul(xi, yi.T), self.y_rotations)\n",
      "/video/data/tingan/GitRep/IPLSreview/Code/SGDPLS.py:96: RuntimeWarning: invalid value encountered in matmul\n",
      "  self.y_rotations += self.eta * np.matmul(np.matmul(yi, xi.T), tmp)\n"
     ]
    },
    {
     "name": "stderr",
     "output_type": "stream",
     "text": [
      "/video/data/tingan/GitRep/IPLSreview/Code/SGDPLS.py:96: RuntimeWarning: overflow encountered in matmul\n",
      "  self.y_rotations += self.eta * np.matmul(np.matmul(yi, xi.T), tmp)\n",
      "/video/data/tingan/GitRep/IPLSreview/Code/SGDPLS.py:95: RuntimeWarning: invalid value encountered in matmul\n",
      "  self.x_rotations += self.eta * np.matmul(np.matmul(xi, yi.T), self.y_rotations)\n",
      "/video/data/tingan/GitRep/IPLSreview/Code/SGDPLS.py:96: RuntimeWarning: invalid value encountered in matmul\n",
      "  self.y_rotations += self.eta * np.matmul(np.matmul(yi, xi.T), tmp)\n",
      "/video/data/tingan/GitRep/IPLSreview/Code/SGDPLS.py:95: RuntimeWarning: invalid value encountered in add\n",
      "  self.x_rotations += self.eta * np.matmul(np.matmul(xi, yi.T), self.y_rotations)\n"
     ]
    },
    {
     "name": "stderr",
     "output_type": "stream",
     "text": [
      "/video/data/tingan/GitRep/IPLSreview/Code/SGDPLS.py:96: RuntimeWarning: overflow encountered in matmul\n",
      "  self.y_rotations += self.eta * np.matmul(np.matmul(yi, xi.T), tmp)\n",
      "/video/data/tingan/GitRep/IPLSreview/Code/SGDPLS.py:95: RuntimeWarning: invalid value encountered in matmul\n",
      "  self.x_rotations += self.eta * np.matmul(np.matmul(xi, yi.T), self.y_rotations)\n",
      "/video/data/tingan/GitRep/IPLSreview/Code/SGDPLS.py:96: RuntimeWarning: invalid value encountered in matmul\n",
      "  self.y_rotations += self.eta * np.matmul(np.matmul(yi, xi.T), tmp)\n"
     ]
    },
    {
     "name": "stderr",
     "output_type": "stream",
     "text": [
      "/video/data/tingan/GitRep/IPLSreview/Code/SGDPLS.py:96: RuntimeWarning: overflow encountered in matmul\n",
      "  self.y_rotations += self.eta * np.matmul(np.matmul(yi, xi.T), tmp)\n",
      "/video/data/tingan/GitRep/IPLSreview/Code/SGDPLS.py:95: RuntimeWarning: invalid value encountered in matmul\n",
      "  self.x_rotations += self.eta * np.matmul(np.matmul(xi, yi.T), self.y_rotations)\n",
      "/video/data/tingan/GitRep/IPLSreview/Code/SGDPLS.py:96: RuntimeWarning: invalid value encountered in matmul\n",
      "  self.y_rotations += self.eta * np.matmul(np.matmul(yi, xi.T), tmp)\n"
     ]
    },
    {
     "name": "stderr",
     "output_type": "stream",
     "text": [
      "/video/data/tingan/GitRep/IPLSreview/Code/SGDPLS.py:96: RuntimeWarning: overflow encountered in matmul\n",
      "  self.y_rotations += self.eta * np.matmul(np.matmul(yi, xi.T), tmp)\n",
      "/video/data/tingan/GitRep/IPLSreview/Code/SGDPLS.py:95: RuntimeWarning: invalid value encountered in matmul\n",
      "  self.x_rotations += self.eta * np.matmul(np.matmul(xi, yi.T), self.y_rotations)\n",
      "/video/data/tingan/GitRep/IPLSreview/Code/SGDPLS.py:96: RuntimeWarning: invalid value encountered in matmul\n",
      "  self.y_rotations += self.eta * np.matmul(np.matmul(yi, xi.T), tmp)\n"
     ]
    },
    {
     "name": "stderr",
     "output_type": "stream",
     "text": [
      "/video/data/tingan/GitRep/IPLSreview/Code/SGDPLS.py:96: RuntimeWarning: overflow encountered in matmul\n",
      "  self.y_rotations += self.eta * np.matmul(np.matmul(yi, xi.T), tmp)\n",
      "/video/data/tingan/GitRep/IPLSreview/Code/SGDPLS.py:95: RuntimeWarning: invalid value encountered in matmul\n",
      "  self.x_rotations += self.eta * np.matmul(np.matmul(xi, yi.T), self.y_rotations)\n",
      "/video/data/tingan/GitRep/IPLSreview/Code/SGDPLS.py:96: RuntimeWarning: invalid value encountered in matmul\n",
      "  self.y_rotations += self.eta * np.matmul(np.matmul(yi, xi.T), tmp)\n"
     ]
    },
    {
     "name": "stderr",
     "output_type": "stream",
     "text": [
      "/video/data/tingan/GitRep/IPLSreview/Code/SGDPLS.py:96: RuntimeWarning: overflow encountered in matmul\n",
      "  self.y_rotations += self.eta * np.matmul(np.matmul(yi, xi.T), tmp)\n",
      "/video/data/tingan/GitRep/IPLSreview/Code/SGDPLS.py:95: RuntimeWarning: invalid value encountered in matmul\n",
      "  self.x_rotations += self.eta * np.matmul(np.matmul(xi, yi.T), self.y_rotations)\n",
      "/video/data/tingan/GitRep/IPLSreview/Code/SGDPLS.py:96: RuntimeWarning: invalid value encountered in matmul\n",
      "  self.y_rotations += self.eta * np.matmul(np.matmul(yi, xi.T), tmp)\n"
     ]
    },
    {
     "name": "stderr",
     "output_type": "stream",
     "text": [
      "/video/data/tingan/GitRep/IPLSreview/Code/SGDPLS.py:96: RuntimeWarning: overflow encountered in matmul\n",
      "  self.y_rotations += self.eta * np.matmul(np.matmul(yi, xi.T), tmp)\n",
      "/video/data/tingan/GitRep/IPLSreview/Code/SGDPLS.py:95: RuntimeWarning: invalid value encountered in matmul\n",
      "  self.x_rotations += self.eta * np.matmul(np.matmul(xi, yi.T), self.y_rotations)\n",
      "/video/data/tingan/GitRep/IPLSreview/Code/SGDPLS.py:96: RuntimeWarning: invalid value encountered in matmul\n",
      "  self.y_rotations += self.eta * np.matmul(np.matmul(yi, xi.T), tmp)\n"
     ]
    },
    {
     "name": "stderr",
     "output_type": "stream",
     "text": [
      "/video/data/tingan/GitRep/IPLSreview/Code/SGDPLS.py:96: RuntimeWarning: overflow encountered in matmul\n",
      "  self.y_rotations += self.eta * np.matmul(np.matmul(yi, xi.T), tmp)\n",
      "/video/data/tingan/GitRep/IPLSreview/Code/SGDPLS.py:95: RuntimeWarning: invalid value encountered in matmul\n",
      "  self.x_rotations += self.eta * np.matmul(np.matmul(xi, yi.T), self.y_rotations)\n",
      "/video/data/tingan/GitRep/IPLSreview/Code/SGDPLS.py:96: RuntimeWarning: invalid value encountered in matmul\n",
      "  self.y_rotations += self.eta * np.matmul(np.matmul(yi, xi.T), tmp)\n"
     ]
    },
    {
     "name": "stderr",
     "output_type": "stream",
     "text": [
      "/video/data/tingan/GitRep/IPLSreview/Code/SGDPLS.py:96: RuntimeWarning: overflow encountered in matmul\n",
      "  self.y_rotations += self.eta * np.matmul(np.matmul(yi, xi.T), tmp)\n",
      "/video/data/tingan/GitRep/IPLSreview/Code/SGDPLS.py:95: RuntimeWarning: invalid value encountered in matmul\n",
      "  self.x_rotations += self.eta * np.matmul(np.matmul(xi, yi.T), self.y_rotations)\n",
      "/video/data/tingan/GitRep/IPLSreview/Code/SGDPLS.py:96: RuntimeWarning: invalid value encountered in matmul\n",
      "  self.y_rotations += self.eta * np.matmul(np.matmul(yi, xi.T), tmp)\n"
     ]
    },
    {
     "name": "stderr",
     "output_type": "stream",
     "text": [
      "/video/data/tingan/GitRep/IPLSreview/Code/SGDPLS.py:96: RuntimeWarning: overflow encountered in matmul\n",
      "  self.y_rotations += self.eta * np.matmul(np.matmul(yi, xi.T), tmp)\n",
      "/video/data/tingan/GitRep/IPLSreview/Code/SGDPLS.py:95: RuntimeWarning: invalid value encountered in matmul\n",
      "  self.x_rotations += self.eta * np.matmul(np.matmul(xi, yi.T), self.y_rotations)\n",
      "/video/data/tingan/GitRep/IPLSreview/Code/SGDPLS.py:96: RuntimeWarning: invalid value encountered in matmul\n",
      "  self.y_rotations += self.eta * np.matmul(np.matmul(yi, xi.T), tmp)\n"
     ]
    },
    {
     "name": "stderr",
     "output_type": "stream",
     "text": [
      "/video/data/tingan/GitRep/IPLSreview/Code/SGDPLS.py:96: RuntimeWarning: overflow encountered in matmul\n",
      "  self.y_rotations += self.eta * np.matmul(np.matmul(yi, xi.T), tmp)\n",
      "/video/data/tingan/GitRep/IPLSreview/Code/SGDPLS.py:95: RuntimeWarning: invalid value encountered in matmul\n",
      "  self.x_rotations += self.eta * np.matmul(np.matmul(xi, yi.T), self.y_rotations)\n",
      "/video/data/tingan/GitRep/IPLSreview/Code/SGDPLS.py:96: RuntimeWarning: invalid value encountered in matmul\n",
      "  self.y_rotations += self.eta * np.matmul(np.matmul(yi, xi.T), tmp)\n",
      "/video/data/tingan/GitRep/IPLSreview/Code/SGDPLS.py:95: RuntimeWarning: invalid value encountered in add\n",
      "  self.x_rotations += self.eta * np.matmul(np.matmul(xi, yi.T), self.y_rotations)\n"
     ]
    },
    {
     "name": "stderr",
     "output_type": "stream",
     "text": [
      "/video/data/tingan/GitRep/IPLSreview/Code/SGDPLS.py:96: RuntimeWarning: overflow encountered in matmul\n",
      "  self.y_rotations += self.eta * np.matmul(np.matmul(yi, xi.T), tmp)\n",
      "/video/data/tingan/GitRep/IPLSreview/Code/SGDPLS.py:95: RuntimeWarning: invalid value encountered in matmul\n",
      "  self.x_rotations += self.eta * np.matmul(np.matmul(xi, yi.T), self.y_rotations)\n",
      "/video/data/tingan/GitRep/IPLSreview/Code/SGDPLS.py:95: RuntimeWarning: invalid value encountered in add\n",
      "  self.x_rotations += self.eta * np.matmul(np.matmul(xi, yi.T), self.y_rotations)\n",
      "/video/data/tingan/GitRep/IPLSreview/Code/SGDPLS.py:96: RuntimeWarning: invalid value encountered in matmul\n",
      "  self.y_rotations += self.eta * np.matmul(np.matmul(yi, xi.T), tmp)\n"
     ]
    },
    {
     "name": "stderr",
     "output_type": "stream",
     "text": [
      "/video/data/tingan/GitRep/IPLSreview/Code/SGDPLS.py:96: RuntimeWarning: overflow encountered in matmul\n",
      "  self.y_rotations += self.eta * np.matmul(np.matmul(yi, xi.T), tmp)\n",
      "/video/data/tingan/GitRep/IPLSreview/Code/SGDPLS.py:95: RuntimeWarning: invalid value encountered in matmul\n",
      "  self.x_rotations += self.eta * np.matmul(np.matmul(xi, yi.T), self.y_rotations)\n",
      "/video/data/tingan/GitRep/IPLSreview/Code/SGDPLS.py:95: RuntimeWarning: invalid value encountered in add\n",
      "  self.x_rotations += self.eta * np.matmul(np.matmul(xi, yi.T), self.y_rotations)\n",
      "/video/data/tingan/GitRep/IPLSreview/Code/SGDPLS.py:96: RuntimeWarning: invalid value encountered in matmul\n",
      "  self.y_rotations += self.eta * np.matmul(np.matmul(yi, xi.T), tmp)\n"
     ]
    },
    {
     "name": "stderr",
     "output_type": "stream",
     "text": [
      "/video/data/tingan/GitRep/IPLSreview/Code/SGDPLS.py:96: RuntimeWarning: overflow encountered in matmul\n",
      "  self.y_rotations += self.eta * np.matmul(np.matmul(yi, xi.T), tmp)\n",
      "/video/data/tingan/GitRep/IPLSreview/Code/SGDPLS.py:95: RuntimeWarning: invalid value encountered in matmul\n",
      "  self.x_rotations += self.eta * np.matmul(np.matmul(xi, yi.T), self.y_rotations)\n",
      "/video/data/tingan/GitRep/IPLSreview/Code/SGDPLS.py:96: RuntimeWarning: invalid value encountered in matmul\n",
      "  self.y_rotations += self.eta * np.matmul(np.matmul(yi, xi.T), tmp)\n"
     ]
    },
    {
     "name": "stderr",
     "output_type": "stream",
     "text": [
      "/video/data/tingan/GitRep/IPLSreview/Code/SGDPLS.py:96: RuntimeWarning: overflow encountered in matmul\n",
      "  self.y_rotations += self.eta * np.matmul(np.matmul(yi, xi.T), tmp)\n",
      "/video/data/tingan/GitRep/IPLSreview/Code/SGDPLS.py:95: RuntimeWarning: invalid value encountered in matmul\n",
      "  self.x_rotations += self.eta * np.matmul(np.matmul(xi, yi.T), self.y_rotations)\n",
      "/video/data/tingan/GitRep/IPLSreview/Code/SGDPLS.py:96: RuntimeWarning: invalid value encountered in matmul\n",
      "  self.y_rotations += self.eta * np.matmul(np.matmul(yi, xi.T), tmp)\n",
      "/video/data/tingan/GitRep/IPLSreview/Code/SGDPLS.py:95: RuntimeWarning: invalid value encountered in add\n",
      "  self.x_rotations += self.eta * np.matmul(np.matmul(xi, yi.T), self.y_rotations)\n"
     ]
    },
    {
     "name": "stderr",
     "output_type": "stream",
     "text": [
      "/video/data/tingan/GitRep/IPLSreview/Code/SGDPLS.py:96: RuntimeWarning: overflow encountered in matmul\n",
      "  self.y_rotations += self.eta * np.matmul(np.matmul(yi, xi.T), tmp)\n",
      "/video/data/tingan/GitRep/IPLSreview/Code/SGDPLS.py:95: RuntimeWarning: invalid value encountered in matmul\n",
      "  self.x_rotations += self.eta * np.matmul(np.matmul(xi, yi.T), self.y_rotations)\n",
      "/video/data/tingan/GitRep/IPLSreview/Code/SGDPLS.py:95: RuntimeWarning: invalid value encountered in add\n",
      "  self.x_rotations += self.eta * np.matmul(np.matmul(xi, yi.T), self.y_rotations)\n",
      "/video/data/tingan/GitRep/IPLSreview/Code/SGDPLS.py:96: RuntimeWarning: invalid value encountered in matmul\n",
      "  self.y_rotations += self.eta * np.matmul(np.matmul(yi, xi.T), tmp)\n"
     ]
    },
    {
     "name": "stderr",
     "output_type": "stream",
     "text": [
      "/video/data/tingan/GitRep/IPLSreview/Code/SGDPLS.py:96: RuntimeWarning: overflow encountered in matmul\n",
      "  self.y_rotations += self.eta * np.matmul(np.matmul(yi, xi.T), tmp)\n",
      "/video/data/tingan/GitRep/IPLSreview/Code/SGDPLS.py:95: RuntimeWarning: invalid value encountered in matmul\n",
      "  self.x_rotations += self.eta * np.matmul(np.matmul(xi, yi.T), self.y_rotations)\n",
      "/video/data/tingan/GitRep/IPLSreview/Code/SGDPLS.py:96: RuntimeWarning: invalid value encountered in matmul\n",
      "  self.y_rotations += self.eta * np.matmul(np.matmul(yi, xi.T), tmp)\n"
     ]
    },
    {
     "name": "stderr",
     "output_type": "stream",
     "text": [
      "/video/data/tingan/GitRep/IPLSreview/Code/SGDPLS.py:96: RuntimeWarning: overflow encountered in matmul\n",
      "  self.y_rotations += self.eta * np.matmul(np.matmul(yi, xi.T), tmp)\n",
      "/video/data/tingan/GitRep/IPLSreview/Code/SGDPLS.py:95: RuntimeWarning: invalid value encountered in matmul\n",
      "  self.x_rotations += self.eta * np.matmul(np.matmul(xi, yi.T), self.y_rotations)\n",
      "/video/data/tingan/GitRep/IPLSreview/Code/SGDPLS.py:96: RuntimeWarning: invalid value encountered in matmul\n",
      "  self.y_rotations += self.eta * np.matmul(np.matmul(yi, xi.T), tmp)\n"
     ]
    },
    {
     "name": "stderr",
     "output_type": "stream",
     "text": [
      "/video/data/tingan/GitRep/IPLSreview/Code/SGDPLS.py:96: RuntimeWarning: overflow encountered in matmul\n",
      "  self.y_rotations += self.eta * np.matmul(np.matmul(yi, xi.T), tmp)\n",
      "/video/data/tingan/GitRep/IPLSreview/Code/SGDPLS.py:95: RuntimeWarning: invalid value encountered in matmul\n",
      "  self.x_rotations += self.eta * np.matmul(np.matmul(xi, yi.T), self.y_rotations)\n",
      "/video/data/tingan/GitRep/IPLSreview/Code/SGDPLS.py:96: RuntimeWarning: invalid value encountered in matmul\n",
      "  self.y_rotations += self.eta * np.matmul(np.matmul(yi, xi.T), tmp)\n",
      "/video/data/tingan/GitRep/IPLSreview/Code/SGDPLS.py:95: RuntimeWarning: invalid value encountered in add\n",
      "  self.x_rotations += self.eta * np.matmul(np.matmul(xi, yi.T), self.y_rotations)\n"
     ]
    },
    {
     "name": "stderr",
     "output_type": "stream",
     "text": [
      "/video/data/tingan/GitRep/IPLSreview/Code/SGDPLS.py:96: RuntimeWarning: overflow encountered in matmul\n",
      "  self.y_rotations += self.eta * np.matmul(np.matmul(yi, xi.T), tmp)\n",
      "/video/data/tingan/GitRep/IPLSreview/Code/SGDPLS.py:95: RuntimeWarning: invalid value encountered in matmul\n",
      "  self.x_rotations += self.eta * np.matmul(np.matmul(xi, yi.T), self.y_rotations)\n",
      "/video/data/tingan/GitRep/IPLSreview/Code/SGDPLS.py:96: RuntimeWarning: invalid value encountered in matmul\n",
      "  self.y_rotations += self.eta * np.matmul(np.matmul(yi, xi.T), tmp)\n"
     ]
    },
    {
     "name": "stderr",
     "output_type": "stream",
     "text": [
      "/video/data/tingan/GitRep/IPLSreview/Code/SGDPLS.py:96: RuntimeWarning: overflow encountered in matmul\n",
      "  self.y_rotations += self.eta * np.matmul(np.matmul(yi, xi.T), tmp)\n",
      "/video/data/tingan/GitRep/IPLSreview/Code/SGDPLS.py:95: RuntimeWarning: invalid value encountered in matmul\n",
      "  self.x_rotations += self.eta * np.matmul(np.matmul(xi, yi.T), self.y_rotations)\n",
      "/video/data/tingan/GitRep/IPLSreview/Code/SGDPLS.py:96: RuntimeWarning: invalid value encountered in matmul\n",
      "  self.y_rotations += self.eta * np.matmul(np.matmul(yi, xi.T), tmp)\n"
     ]
    },
    {
     "name": "stderr",
     "output_type": "stream",
     "text": [
      "/video/data/tingan/GitRep/IPLSreview/Code/SGDPLS.py:96: RuntimeWarning: overflow encountered in matmul\n",
      "  self.y_rotations += self.eta * np.matmul(np.matmul(yi, xi.T), tmp)\n",
      "/video/data/tingan/GitRep/IPLSreview/Code/SGDPLS.py:95: RuntimeWarning: invalid value encountered in matmul\n",
      "  self.x_rotations += self.eta * np.matmul(np.matmul(xi, yi.T), self.y_rotations)\n",
      "/video/data/tingan/GitRep/IPLSreview/Code/SGDPLS.py:96: RuntimeWarning: invalid value encountered in matmul\n",
      "  self.y_rotations += self.eta * np.matmul(np.matmul(yi, xi.T), tmp)\n",
      "/video/data/tingan/GitRep/IPLSreview/Code/SGDPLS.py:95: RuntimeWarning: invalid value encountered in add\n",
      "  self.x_rotations += self.eta * np.matmul(np.matmul(xi, yi.T), self.y_rotations)\n"
     ]
    },
    {
     "name": "stderr",
     "output_type": "stream",
     "text": [
      "/video/data/tingan/GitRep/IPLSreview/Code/SGDPLS.py:96: RuntimeWarning: overflow encountered in matmul\n",
      "  self.y_rotations += self.eta * np.matmul(np.matmul(yi, xi.T), tmp)\n",
      "/video/data/tingan/GitRep/IPLSreview/Code/SGDPLS.py:95: RuntimeWarning: invalid value encountered in matmul\n",
      "  self.x_rotations += self.eta * np.matmul(np.matmul(xi, yi.T), self.y_rotations)\n",
      "/video/data/tingan/GitRep/IPLSreview/Code/SGDPLS.py:96: RuntimeWarning: invalid value encountered in matmul\n",
      "  self.y_rotations += self.eta * np.matmul(np.matmul(yi, xi.T), tmp)\n",
      "/video/data/tingan/GitRep/IPLSreview/Code/SGDPLS.py:95: RuntimeWarning: invalid value encountered in add\n",
      "  self.x_rotations += self.eta * np.matmul(np.matmul(xi, yi.T), self.y_rotations)\n"
     ]
    },
    {
     "name": "stderr",
     "output_type": "stream",
     "text": [
      "/video/data/tingan/GitRep/IPLSreview/Code/SGDPLS.py:96: RuntimeWarning: overflow encountered in matmul\n",
      "  self.y_rotations += self.eta * np.matmul(np.matmul(yi, xi.T), tmp)\n",
      "/video/data/tingan/GitRep/IPLSreview/Code/SGDPLS.py:95: RuntimeWarning: invalid value encountered in matmul\n",
      "  self.x_rotations += self.eta * np.matmul(np.matmul(xi, yi.T), self.y_rotations)\n",
      "/video/data/tingan/GitRep/IPLSreview/Code/SGDPLS.py:96: RuntimeWarning: invalid value encountered in matmul\n",
      "  self.y_rotations += self.eta * np.matmul(np.matmul(yi, xi.T), tmp)\n"
     ]
    },
    {
     "name": "stderr",
     "output_type": "stream",
     "text": [
      "/video/data/tingan/GitRep/IPLSreview/Code/SGDPLS.py:96: RuntimeWarning: overflow encountered in matmul\n",
      "  self.y_rotations += self.eta * np.matmul(np.matmul(yi, xi.T), tmp)\n",
      "/video/data/tingan/GitRep/IPLSreview/Code/SGDPLS.py:95: RuntimeWarning: invalid value encountered in matmul\n",
      "  self.x_rotations += self.eta * np.matmul(np.matmul(xi, yi.T), self.y_rotations)\n",
      "/video/data/tingan/GitRep/IPLSreview/Code/SGDPLS.py:96: RuntimeWarning: invalid value encountered in matmul\n",
      "  self.y_rotations += self.eta * np.matmul(np.matmul(yi, xi.T), tmp)\n",
      "/video/data/tingan/GitRep/IPLSreview/Code/SGDPLS.py:95: RuntimeWarning: invalid value encountered in add\n",
      "  self.x_rotations += self.eta * np.matmul(np.matmul(xi, yi.T), self.y_rotations)\n"
     ]
    },
    {
     "name": "stderr",
     "output_type": "stream",
     "text": [
      "/video/data/tingan/GitRep/IPLSreview/Code/SGDPLS.py:96: RuntimeWarning: overflow encountered in matmul\n",
      "  self.y_rotations += self.eta * np.matmul(np.matmul(yi, xi.T), tmp)\n",
      "/video/data/tingan/GitRep/IPLSreview/Code/SGDPLS.py:95: RuntimeWarning: invalid value encountered in matmul\n",
      "  self.x_rotations += self.eta * np.matmul(np.matmul(xi, yi.T), self.y_rotations)\n",
      "/video/data/tingan/GitRep/IPLSreview/Code/SGDPLS.py:96: RuntimeWarning: invalid value encountered in matmul\n",
      "  self.y_rotations += self.eta * np.matmul(np.matmul(yi, xi.T), tmp)\n",
      "/video/data/tingan/GitRep/IPLSreview/Code/SGDPLS.py:95: RuntimeWarning: invalid value encountered in add\n",
      "  self.x_rotations += self.eta * np.matmul(np.matmul(xi, yi.T), self.y_rotations)\n"
     ]
    },
    {
     "name": "stderr",
     "output_type": "stream",
     "text": [
      "/video/data/tingan/GitRep/IPLSreview/Code/SGDPLS.py:96: RuntimeWarning: overflow encountered in matmul\n",
      "  self.y_rotations += self.eta * np.matmul(np.matmul(yi, xi.T), tmp)\n",
      "/video/data/tingan/GitRep/IPLSreview/Code/SGDPLS.py:95: RuntimeWarning: invalid value encountered in matmul\n",
      "  self.x_rotations += self.eta * np.matmul(np.matmul(xi, yi.T), self.y_rotations)\n",
      "/video/data/tingan/GitRep/IPLSreview/Code/SGDPLS.py:96: RuntimeWarning: invalid value encountered in matmul\n",
      "  self.y_rotations += self.eta * np.matmul(np.matmul(yi, xi.T), tmp)\n"
     ]
    },
    {
     "name": "stderr",
     "output_type": "stream",
     "text": [
      "/video/data/tingan/GitRep/IPLSreview/Code/SGDPLS.py:96: RuntimeWarning: overflow encountered in matmul\n",
      "  self.y_rotations += self.eta * np.matmul(np.matmul(yi, xi.T), tmp)\n",
      "/video/data/tingan/GitRep/IPLSreview/Code/SGDPLS.py:95: RuntimeWarning: invalid value encountered in matmul\n",
      "  self.x_rotations += self.eta * np.matmul(np.matmul(xi, yi.T), self.y_rotations)\n",
      "/video/data/tingan/GitRep/IPLSreview/Code/SGDPLS.py:96: RuntimeWarning: invalid value encountered in matmul\n",
      "  self.y_rotations += self.eta * np.matmul(np.matmul(yi, xi.T), tmp)\n"
     ]
    },
    {
     "name": "stderr",
     "output_type": "stream",
     "text": [
      "/video/data/tingan/GitRep/IPLSreview/Code/SGDPLS.py:96: RuntimeWarning: overflow encountered in matmul\n",
      "  self.y_rotations += self.eta * np.matmul(np.matmul(yi, xi.T), tmp)\n",
      "/video/data/tingan/GitRep/IPLSreview/Code/SGDPLS.py:95: RuntimeWarning: invalid value encountered in matmul\n",
      "  self.x_rotations += self.eta * np.matmul(np.matmul(xi, yi.T), self.y_rotations)\n",
      "/video/data/tingan/GitRep/IPLSreview/Code/SGDPLS.py:96: RuntimeWarning: invalid value encountered in matmul\n",
      "  self.y_rotations += self.eta * np.matmul(np.matmul(yi, xi.T), tmp)\n"
     ]
    },
    {
     "name": "stderr",
     "output_type": "stream",
     "text": [
      "/video/data/tingan/GitRep/IPLSreview/Code/SGDPLS.py:96: RuntimeWarning: overflow encountered in matmul\n",
      "  self.y_rotations += self.eta * np.matmul(np.matmul(yi, xi.T), tmp)\n",
      "/video/data/tingan/GitRep/IPLSreview/Code/SGDPLS.py:95: RuntimeWarning: invalid value encountered in matmul\n",
      "  self.x_rotations += self.eta * np.matmul(np.matmul(xi, yi.T), self.y_rotations)\n",
      "/video/data/tingan/GitRep/IPLSreview/Code/SGDPLS.py:96: RuntimeWarning: invalid value encountered in matmul\n",
      "  self.y_rotations += self.eta * np.matmul(np.matmul(yi, xi.T), tmp)\n",
      "/video/data/tingan/GitRep/IPLSreview/Code/SGDPLS.py:95: RuntimeWarning: invalid value encountered in add\n",
      "  self.x_rotations += self.eta * np.matmul(np.matmul(xi, yi.T), self.y_rotations)\n"
     ]
    },
    {
     "name": "stderr",
     "output_type": "stream",
     "text": [
      "/video/data/tingan/GitRep/IPLSreview/Code/SGDPLS.py:96: RuntimeWarning: overflow encountered in matmul\n",
      "  self.y_rotations += self.eta * np.matmul(np.matmul(yi, xi.T), tmp)\n",
      "/video/data/tingan/GitRep/IPLSreview/Code/SGDPLS.py:95: RuntimeWarning: invalid value encountered in matmul\n",
      "  self.x_rotations += self.eta * np.matmul(np.matmul(xi, yi.T), self.y_rotations)\n",
      "/video/data/tingan/GitRep/IPLSreview/Code/SGDPLS.py:96: RuntimeWarning: invalid value encountered in matmul\n",
      "  self.y_rotations += self.eta * np.matmul(np.matmul(yi, xi.T), tmp)\n"
     ]
    },
    {
     "name": "stderr",
     "output_type": "stream",
     "text": [
      "/video/data/tingan/GitRep/IPLSreview/Code/SGDPLS.py:96: RuntimeWarning: overflow encountered in matmul\n",
      "  self.y_rotations += self.eta * np.matmul(np.matmul(yi, xi.T), tmp)\n",
      "/video/data/tingan/GitRep/IPLSreview/Code/SGDPLS.py:95: RuntimeWarning: invalid value encountered in matmul\n",
      "  self.x_rotations += self.eta * np.matmul(np.matmul(xi, yi.T), self.y_rotations)\n",
      "/video/data/tingan/GitRep/IPLSreview/Code/SGDPLS.py:96: RuntimeWarning: invalid value encountered in matmul\n",
      "  self.y_rotations += self.eta * np.matmul(np.matmul(yi, xi.T), tmp)\n"
     ]
    },
    {
     "name": "stderr",
     "output_type": "stream",
     "text": [
      "/video/data/tingan/GitRep/IPLSreview/Code/SGDPLS.py:96: RuntimeWarning: overflow encountered in matmul\n",
      "  self.y_rotations += self.eta * np.matmul(np.matmul(yi, xi.T), tmp)\n",
      "/video/data/tingan/GitRep/IPLSreview/Code/SGDPLS.py:95: RuntimeWarning: invalid value encountered in matmul\n",
      "  self.x_rotations += self.eta * np.matmul(np.matmul(xi, yi.T), self.y_rotations)\n",
      "/video/data/tingan/GitRep/IPLSreview/Code/SGDPLS.py:96: RuntimeWarning: invalid value encountered in matmul\n",
      "  self.y_rotations += self.eta * np.matmul(np.matmul(yi, xi.T), tmp)\n"
     ]
    },
    {
     "name": "stderr",
     "output_type": "stream",
     "text": [
      "/video/data/tingan/GitRep/IPLSreview/Code/SGDPLS.py:96: RuntimeWarning: overflow encountered in matmul\n",
      "  self.y_rotations += self.eta * np.matmul(np.matmul(yi, xi.T), tmp)\n",
      "/video/data/tingan/GitRep/IPLSreview/Code/SGDPLS.py:95: RuntimeWarning: invalid value encountered in matmul\n",
      "  self.x_rotations += self.eta * np.matmul(np.matmul(xi, yi.T), self.y_rotations)\n",
      "/video/data/tingan/GitRep/IPLSreview/Code/SGDPLS.py:96: RuntimeWarning: invalid value encountered in matmul\n",
      "  self.y_rotations += self.eta * np.matmul(np.matmul(yi, xi.T), tmp)\n"
     ]
    },
    {
     "name": "stderr",
     "output_type": "stream",
     "text": [
      "/video/data/tingan/GitRep/IPLSreview/Code/SGDPLS.py:96: RuntimeWarning: overflow encountered in matmul\n",
      "  self.y_rotations += self.eta * np.matmul(np.matmul(yi, xi.T), tmp)\n",
      "/video/data/tingan/GitRep/IPLSreview/Code/SGDPLS.py:95: RuntimeWarning: invalid value encountered in matmul\n",
      "  self.x_rotations += self.eta * np.matmul(np.matmul(xi, yi.T), self.y_rotations)\n",
      "/video/data/tingan/GitRep/IPLSreview/Code/SGDPLS.py:96: RuntimeWarning: invalid value encountered in matmul\n",
      "  self.y_rotations += self.eta * np.matmul(np.matmul(yi, xi.T), tmp)\n"
     ]
    },
    {
     "name": "stderr",
     "output_type": "stream",
     "text": [
      "/video/data/tingan/GitRep/IPLSreview/Code/SGDPLS.py:96: RuntimeWarning: overflow encountered in matmul\n",
      "  self.y_rotations += self.eta * np.matmul(np.matmul(yi, xi.T), tmp)\n",
      "/video/data/tingan/GitRep/IPLSreview/Code/SGDPLS.py:95: RuntimeWarning: invalid value encountered in matmul\n",
      "  self.x_rotations += self.eta * np.matmul(np.matmul(xi, yi.T), self.y_rotations)\n",
      "/video/data/tingan/GitRep/IPLSreview/Code/SGDPLS.py:96: RuntimeWarning: invalid value encountered in matmul\n",
      "  self.y_rotations += self.eta * np.matmul(np.matmul(yi, xi.T), tmp)\n"
     ]
    },
    {
     "name": "stderr",
     "output_type": "stream",
     "text": [
      "/video/data/tingan/GitRep/IPLSreview/Code/SGDPLS.py:96: RuntimeWarning: overflow encountered in matmul\n",
      "  self.y_rotations += self.eta * np.matmul(np.matmul(yi, xi.T), tmp)\n",
      "/video/data/tingan/GitRep/IPLSreview/Code/SGDPLS.py:95: RuntimeWarning: invalid value encountered in matmul\n",
      "  self.x_rotations += self.eta * np.matmul(np.matmul(xi, yi.T), self.y_rotations)\n",
      "/video/data/tingan/GitRep/IPLSreview/Code/SGDPLS.py:96: RuntimeWarning: invalid value encountered in matmul\n",
      "  self.y_rotations += self.eta * np.matmul(np.matmul(yi, xi.T), tmp)\n"
     ]
    },
    {
     "name": "stderr",
     "output_type": "stream",
     "text": [
      "/video/data/tingan/GitRep/IPLSreview/Code/SGDPLS.py:96: RuntimeWarning: overflow encountered in matmul\n",
      "  self.y_rotations += self.eta * np.matmul(np.matmul(yi, xi.T), tmp)\n",
      "/video/data/tingan/GitRep/IPLSreview/Code/SGDPLS.py:95: RuntimeWarning: invalid value encountered in matmul\n",
      "  self.x_rotations += self.eta * np.matmul(np.matmul(xi, yi.T), self.y_rotations)\n",
      "/video/data/tingan/GitRep/IPLSreview/Code/SGDPLS.py:96: RuntimeWarning: invalid value encountered in matmul\n",
      "  self.y_rotations += self.eta * np.matmul(np.matmul(yi, xi.T), tmp)\n"
     ]
    },
    {
     "name": "stderr",
     "output_type": "stream",
     "text": [
      "/video/data/tingan/GitRep/IPLSreview/Code/SGDPLS.py:96: RuntimeWarning: overflow encountered in matmul\n",
      "  self.y_rotations += self.eta * np.matmul(np.matmul(yi, xi.T), tmp)\n",
      "/video/data/tingan/GitRep/IPLSreview/Code/SGDPLS.py:95: RuntimeWarning: invalid value encountered in matmul\n",
      "  self.x_rotations += self.eta * np.matmul(np.matmul(xi, yi.T), self.y_rotations)\n",
      "/video/data/tingan/GitRep/IPLSreview/Code/SGDPLS.py:96: RuntimeWarning: invalid value encountered in matmul\n",
      "  self.y_rotations += self.eta * np.matmul(np.matmul(yi, xi.T), tmp)\n"
     ]
    },
    {
     "name": "stderr",
     "output_type": "stream",
     "text": [
      "/video/data/tingan/GitRep/IPLSreview/Code/SGDPLS.py:96: RuntimeWarning: overflow encountered in matmul\n",
      "  self.y_rotations += self.eta * np.matmul(np.matmul(yi, xi.T), tmp)\n",
      "/video/data/tingan/GitRep/IPLSreview/Code/SGDPLS.py:95: RuntimeWarning: invalid value encountered in matmul\n",
      "  self.x_rotations += self.eta * np.matmul(np.matmul(xi, yi.T), self.y_rotations)\n",
      "/video/data/tingan/GitRep/IPLSreview/Code/SGDPLS.py:96: RuntimeWarning: invalid value encountered in matmul\n",
      "  self.y_rotations += self.eta * np.matmul(np.matmul(yi, xi.T), tmp)\n"
     ]
    },
    {
     "name": "stderr",
     "output_type": "stream",
     "text": [
      "/video/data/tingan/GitRep/IPLSreview/Code/SGDPLS.py:96: RuntimeWarning: overflow encountered in matmul\n",
      "  self.y_rotations += self.eta * np.matmul(np.matmul(yi, xi.T), tmp)\n",
      "/video/data/tingan/GitRep/IPLSreview/Code/SGDPLS.py:95: RuntimeWarning: invalid value encountered in matmul\n",
      "  self.x_rotations += self.eta * np.matmul(np.matmul(xi, yi.T), self.y_rotations)\n",
      "/video/data/tingan/GitRep/IPLSreview/Code/SGDPLS.py:96: RuntimeWarning: invalid value encountered in matmul\n",
      "  self.y_rotations += self.eta * np.matmul(np.matmul(yi, xi.T), tmp)\n"
     ]
    },
    {
     "name": "stderr",
     "output_type": "stream",
     "text": [
      "/video/data/tingan/GitRep/IPLSreview/Code/SGDPLS.py:96: RuntimeWarning: overflow encountered in matmul\n",
      "  self.y_rotations += self.eta * np.matmul(np.matmul(yi, xi.T), tmp)\n",
      "/video/data/tingan/GitRep/IPLSreview/Code/SGDPLS.py:95: RuntimeWarning: invalid value encountered in matmul\n",
      "  self.x_rotations += self.eta * np.matmul(np.matmul(xi, yi.T), self.y_rotations)\n",
      "/video/data/tingan/GitRep/IPLSreview/Code/SGDPLS.py:96: RuntimeWarning: invalid value encountered in matmul\n",
      "  self.y_rotations += self.eta * np.matmul(np.matmul(yi, xi.T), tmp)\n"
     ]
    },
    {
     "name": "stderr",
     "output_type": "stream",
     "text": [
      "/video/data/tingan/GitRep/IPLSreview/Code/SGDPLS.py:96: RuntimeWarning: overflow encountered in matmul\n",
      "  self.y_rotations += self.eta * np.matmul(np.matmul(yi, xi.T), tmp)\n",
      "/video/data/tingan/GitRep/IPLSreview/Code/SGDPLS.py:95: RuntimeWarning: invalid value encountered in matmul\n",
      "  self.x_rotations += self.eta * np.matmul(np.matmul(xi, yi.T), self.y_rotations)\n",
      "/video/data/tingan/GitRep/IPLSreview/Code/SGDPLS.py:96: RuntimeWarning: invalid value encountered in matmul\n",
      "  self.y_rotations += self.eta * np.matmul(np.matmul(yi, xi.T), tmp)\n"
     ]
    },
    {
     "name": "stderr",
     "output_type": "stream",
     "text": [
      "/video/data/tingan/GitRep/IPLSreview/Code/SGDPLS.py:96: RuntimeWarning: overflow encountered in matmul\n",
      "  self.y_rotations += self.eta * np.matmul(np.matmul(yi, xi.T), tmp)\n",
      "/video/data/tingan/GitRep/IPLSreview/Code/SGDPLS.py:95: RuntimeWarning: invalid value encountered in matmul\n",
      "  self.x_rotations += self.eta * np.matmul(np.matmul(xi, yi.T), self.y_rotations)\n",
      "/video/data/tingan/GitRep/IPLSreview/Code/SGDPLS.py:96: RuntimeWarning: invalid value encountered in matmul\n",
      "  self.y_rotations += self.eta * np.matmul(np.matmul(yi, xi.T), tmp)\n"
     ]
    },
    {
     "name": "stderr",
     "output_type": "stream",
     "text": [
      "/video/data/tingan/GitRep/IPLSreview/Code/SGDPLS.py:96: RuntimeWarning: overflow encountered in matmul\n",
      "  self.y_rotations += self.eta * np.matmul(np.matmul(yi, xi.T), tmp)\n",
      "/video/data/tingan/GitRep/IPLSreview/Code/SGDPLS.py:95: RuntimeWarning: invalid value encountered in matmul\n",
      "  self.x_rotations += self.eta * np.matmul(np.matmul(xi, yi.T), self.y_rotations)\n",
      "/video/data/tingan/GitRep/IPLSreview/Code/SGDPLS.py:96: RuntimeWarning: invalid value encountered in matmul\n",
      "  self.y_rotations += self.eta * np.matmul(np.matmul(yi, xi.T), tmp)\n",
      "/video/data/tingan/GitRep/IPLSreview/Code/SGDPLS.py:95: RuntimeWarning: invalid value encountered in add\n",
      "  self.x_rotations += self.eta * np.matmul(np.matmul(xi, yi.T), self.y_rotations)\n"
     ]
    },
    {
     "name": "stderr",
     "output_type": "stream",
     "text": [
      "/video/data/tingan/GitRep/IPLSreview/Code/SGDPLS.py:96: RuntimeWarning: overflow encountered in matmul\n",
      "  self.y_rotations += self.eta * np.matmul(np.matmul(yi, xi.T), tmp)\n",
      "/video/data/tingan/GitRep/IPLSreview/Code/SGDPLS.py:95: RuntimeWarning: invalid value encountered in matmul\n",
      "  self.x_rotations += self.eta * np.matmul(np.matmul(xi, yi.T), self.y_rotations)\n",
      "/video/data/tingan/GitRep/IPLSreview/Code/SGDPLS.py:96: RuntimeWarning: invalid value encountered in matmul\n",
      "  self.y_rotations += self.eta * np.matmul(np.matmul(yi, xi.T), tmp)\n"
     ]
    },
    {
     "name": "stderr",
     "output_type": "stream",
     "text": [
      "/video/data/tingan/GitRep/IPLSreview/Code/SGDPLS.py:96: RuntimeWarning: overflow encountered in matmul\n",
      "  self.y_rotations += self.eta * np.matmul(np.matmul(yi, xi.T), tmp)\n",
      "/video/data/tingan/GitRep/IPLSreview/Code/SGDPLS.py:95: RuntimeWarning: invalid value encountered in matmul\n",
      "  self.x_rotations += self.eta * np.matmul(np.matmul(xi, yi.T), self.y_rotations)\n",
      "/video/data/tingan/GitRep/IPLSreview/Code/SGDPLS.py:95: RuntimeWarning: invalid value encountered in add\n",
      "  self.x_rotations += self.eta * np.matmul(np.matmul(xi, yi.T), self.y_rotations)\n",
      "/video/data/tingan/GitRep/IPLSreview/Code/SGDPLS.py:96: RuntimeWarning: invalid value encountered in matmul\n",
      "  self.y_rotations += self.eta * np.matmul(np.matmul(yi, xi.T), tmp)\n"
     ]
    },
    {
     "name": "stderr",
     "output_type": "stream",
     "text": [
      "/video/data/tingan/GitRep/IPLSreview/Code/SGDPLS.py:96: RuntimeWarning: overflow encountered in matmul\n",
      "  self.y_rotations += self.eta * np.matmul(np.matmul(yi, xi.T), tmp)\n",
      "/video/data/tingan/GitRep/IPLSreview/Code/SGDPLS.py:95: RuntimeWarning: invalid value encountered in matmul\n",
      "  self.x_rotations += self.eta * np.matmul(np.matmul(xi, yi.T), self.y_rotations)\n",
      "/video/data/tingan/GitRep/IPLSreview/Code/SGDPLS.py:96: RuntimeWarning: invalid value encountered in matmul\n",
      "  self.y_rotations += self.eta * np.matmul(np.matmul(yi, xi.T), tmp)\n"
     ]
    },
    {
     "name": "stderr",
     "output_type": "stream",
     "text": [
      "/video/data/tingan/GitRep/IPLSreview/Code/SGDPLS.py:96: RuntimeWarning: overflow encountered in matmul\n",
      "  self.y_rotations += self.eta * np.matmul(np.matmul(yi, xi.T), tmp)\n",
      "/video/data/tingan/GitRep/IPLSreview/Code/SGDPLS.py:95: RuntimeWarning: invalid value encountered in matmul\n",
      "  self.x_rotations += self.eta * np.matmul(np.matmul(xi, yi.T), self.y_rotations)\n",
      "/video/data/tingan/GitRep/IPLSreview/Code/SGDPLS.py:96: RuntimeWarning: invalid value encountered in matmul\n",
      "  self.y_rotations += self.eta * np.matmul(np.matmul(yi, xi.T), tmp)\n"
     ]
    },
    {
     "name": "stderr",
     "output_type": "stream",
     "text": [
      "/video/data/tingan/GitRep/IPLSreview/Code/SGDPLS.py:96: RuntimeWarning: overflow encountered in matmul\n",
      "  self.y_rotations += self.eta * np.matmul(np.matmul(yi, xi.T), tmp)\n",
      "/video/data/tingan/GitRep/IPLSreview/Code/SGDPLS.py:95: RuntimeWarning: invalid value encountered in matmul\n",
      "  self.x_rotations += self.eta * np.matmul(np.matmul(xi, yi.T), self.y_rotations)\n",
      "/video/data/tingan/GitRep/IPLSreview/Code/SGDPLS.py:96: RuntimeWarning: invalid value encountered in matmul\n",
      "  self.y_rotations += self.eta * np.matmul(np.matmul(yi, xi.T), tmp)\n",
      "/video/data/tingan/GitRep/IPLSreview/Code/SGDPLS.py:95: RuntimeWarning: invalid value encountered in add\n",
      "  self.x_rotations += self.eta * np.matmul(np.matmul(xi, yi.T), self.y_rotations)\n"
     ]
    },
    {
     "name": "stderr",
     "output_type": "stream",
     "text": [
      "/video/data/tingan/GitRep/IPLSreview/Code/SGDPLS.py:96: RuntimeWarning: overflow encountered in matmul\n",
      "  self.y_rotations += self.eta * np.matmul(np.matmul(yi, xi.T), tmp)\n",
      "/video/data/tingan/GitRep/IPLSreview/Code/SGDPLS.py:95: RuntimeWarning: invalid value encountered in matmul\n",
      "  self.x_rotations += self.eta * np.matmul(np.matmul(xi, yi.T), self.y_rotations)\n",
      "/video/data/tingan/GitRep/IPLSreview/Code/SGDPLS.py:96: RuntimeWarning: invalid value encountered in matmul\n",
      "  self.y_rotations += self.eta * np.matmul(np.matmul(yi, xi.T), tmp)\n"
     ]
    },
    {
     "name": "stderr",
     "output_type": "stream",
     "text": [
      "/video/data/tingan/GitRep/IPLSreview/Code/SGDPLS.py:96: RuntimeWarning: overflow encountered in matmul\n",
      "  self.y_rotations += self.eta * np.matmul(np.matmul(yi, xi.T), tmp)\n",
      "/video/data/tingan/GitRep/IPLSreview/Code/SGDPLS.py:95: RuntimeWarning: invalid value encountered in matmul\n",
      "  self.x_rotations += self.eta * np.matmul(np.matmul(xi, yi.T), self.y_rotations)\n",
      "/video/data/tingan/GitRep/IPLSreview/Code/SGDPLS.py:96: RuntimeWarning: invalid value encountered in matmul\n",
      "  self.y_rotations += self.eta * np.matmul(np.matmul(yi, xi.T), tmp)\n",
      "/video/data/tingan/GitRep/IPLSreview/Code/SGDPLS.py:95: RuntimeWarning: invalid value encountered in add\n",
      "  self.x_rotations += self.eta * np.matmul(np.matmul(xi, yi.T), self.y_rotations)\n"
     ]
    },
    {
     "name": "stderr",
     "output_type": "stream",
     "text": [
      "/video/data/tingan/GitRep/IPLSreview/Code/SGDPLS.py:96: RuntimeWarning: overflow encountered in matmul\n",
      "  self.y_rotations += self.eta * np.matmul(np.matmul(yi, xi.T), tmp)\n",
      "/video/data/tingan/GitRep/IPLSreview/Code/SGDPLS.py:95: RuntimeWarning: invalid value encountered in matmul\n",
      "  self.x_rotations += self.eta * np.matmul(np.matmul(xi, yi.T), self.y_rotations)\n",
      "/video/data/tingan/GitRep/IPLSreview/Code/SGDPLS.py:96: RuntimeWarning: invalid value encountered in matmul\n",
      "  self.y_rotations += self.eta * np.matmul(np.matmul(yi, xi.T), tmp)\n"
     ]
    },
    {
     "name": "stderr",
     "output_type": "stream",
     "text": [
      "/video/data/tingan/GitRep/IPLSreview/Code/SGDPLS.py:96: RuntimeWarning: overflow encountered in matmul\n",
      "  self.y_rotations += self.eta * np.matmul(np.matmul(yi, xi.T), tmp)\n",
      "/video/data/tingan/GitRep/IPLSreview/Code/SGDPLS.py:95: RuntimeWarning: invalid value encountered in matmul\n",
      "  self.x_rotations += self.eta * np.matmul(np.matmul(xi, yi.T), self.y_rotations)\n",
      "/video/data/tingan/GitRep/IPLSreview/Code/SGDPLS.py:96: RuntimeWarning: invalid value encountered in matmul\n",
      "  self.y_rotations += self.eta * np.matmul(np.matmul(yi, xi.T), tmp)\n"
     ]
    },
    {
     "name": "stderr",
     "output_type": "stream",
     "text": [
      "/video/data/tingan/GitRep/IPLSreview/Code/SGDPLS.py:96: RuntimeWarning: overflow encountered in matmul\n",
      "  self.y_rotations += self.eta * np.matmul(np.matmul(yi, xi.T), tmp)\n",
      "/video/data/tingan/GitRep/IPLSreview/Code/SGDPLS.py:95: RuntimeWarning: invalid value encountered in matmul\n",
      "  self.x_rotations += self.eta * np.matmul(np.matmul(xi, yi.T), self.y_rotations)\n",
      "/video/data/tingan/GitRep/IPLSreview/Code/SGDPLS.py:96: RuntimeWarning: invalid value encountered in matmul\n",
      "  self.y_rotations += self.eta * np.matmul(np.matmul(yi, xi.T), tmp)\n",
      "/video/data/tingan/GitRep/IPLSreview/Code/SGDPLS.py:95: RuntimeWarning: invalid value encountered in add\n",
      "  self.x_rotations += self.eta * np.matmul(np.matmul(xi, yi.T), self.y_rotations)\n"
     ]
    },
    {
     "name": "stderr",
     "output_type": "stream",
     "text": [
      "/video/data/tingan/GitRep/IPLSreview/Code/SGDPLS.py:96: RuntimeWarning: overflow encountered in matmul\n",
      "  self.y_rotations += self.eta * np.matmul(np.matmul(yi, xi.T), tmp)\n",
      "/video/data/tingan/GitRep/IPLSreview/Code/SGDPLS.py:95: RuntimeWarning: invalid value encountered in matmul\n",
      "  self.x_rotations += self.eta * np.matmul(np.matmul(xi, yi.T), self.y_rotations)\n",
      "/video/data/tingan/GitRep/IPLSreview/Code/SGDPLS.py:96: RuntimeWarning: invalid value encountered in matmul\n",
      "  self.y_rotations += self.eta * np.matmul(np.matmul(yi, xi.T), tmp)\n",
      "/video/data/tingan/GitRep/IPLSreview/Code/SGDPLS.py:95: RuntimeWarning: invalid value encountered in add\n",
      "  self.x_rotations += self.eta * np.matmul(np.matmul(xi, yi.T), self.y_rotations)\n"
     ]
    },
    {
     "name": "stderr",
     "output_type": "stream",
     "text": [
      "/video/data/tingan/GitRep/IPLSreview/Code/SGDPLS.py:96: RuntimeWarning: overflow encountered in matmul\n",
      "  self.y_rotations += self.eta * np.matmul(np.matmul(yi, xi.T), tmp)\n",
      "/video/data/tingan/GitRep/IPLSreview/Code/SGDPLS.py:95: RuntimeWarning: invalid value encountered in matmul\n",
      "  self.x_rotations += self.eta * np.matmul(np.matmul(xi, yi.T), self.y_rotations)\n",
      "/video/data/tingan/GitRep/IPLSreview/Code/SGDPLS.py:96: RuntimeWarning: invalid value encountered in matmul\n",
      "  self.y_rotations += self.eta * np.matmul(np.matmul(yi, xi.T), tmp)\n"
     ]
    },
    {
     "name": "stderr",
     "output_type": "stream",
     "text": [
      "/video/data/tingan/GitRep/IPLSreview/Code/SGDPLS.py:96: RuntimeWarning: overflow encountered in matmul\n",
      "  self.y_rotations += self.eta * np.matmul(np.matmul(yi, xi.T), tmp)\n",
      "/video/data/tingan/GitRep/IPLSreview/Code/SGDPLS.py:95: RuntimeWarning: invalid value encountered in matmul\n",
      "  self.x_rotations += self.eta * np.matmul(np.matmul(xi, yi.T), self.y_rotations)\n",
      "/video/data/tingan/GitRep/IPLSreview/Code/SGDPLS.py:96: RuntimeWarning: invalid value encountered in matmul\n",
      "  self.y_rotations += self.eta * np.matmul(np.matmul(yi, xi.T), tmp)\n"
     ]
    },
    {
     "name": "stderr",
     "output_type": "stream",
     "text": [
      "/video/data/tingan/GitRep/IPLSreview/Code/SGDPLS.py:96: RuntimeWarning: overflow encountered in matmul\n",
      "  self.y_rotations += self.eta * np.matmul(np.matmul(yi, xi.T), tmp)\n",
      "/video/data/tingan/GitRep/IPLSreview/Code/SGDPLS.py:95: RuntimeWarning: invalid value encountered in matmul\n",
      "  self.x_rotations += self.eta * np.matmul(np.matmul(xi, yi.T), self.y_rotations)\n",
      "/video/data/tingan/GitRep/IPLSreview/Code/SGDPLS.py:96: RuntimeWarning: invalid value encountered in matmul\n",
      "  self.y_rotations += self.eta * np.matmul(np.matmul(yi, xi.T), tmp)\n"
     ]
    },
    {
     "name": "stderr",
     "output_type": "stream",
     "text": [
      "/video/data/tingan/GitRep/IPLSreview/Code/SGDPLS.py:96: RuntimeWarning: overflow encountered in matmul\n",
      "  self.y_rotations += self.eta * np.matmul(np.matmul(yi, xi.T), tmp)\n",
      "/video/data/tingan/GitRep/IPLSreview/Code/SGDPLS.py:95: RuntimeWarning: invalid value encountered in matmul\n",
      "  self.x_rotations += self.eta * np.matmul(np.matmul(xi, yi.T), self.y_rotations)\n",
      "/video/data/tingan/GitRep/IPLSreview/Code/SGDPLS.py:96: RuntimeWarning: invalid value encountered in matmul\n",
      "  self.y_rotations += self.eta * np.matmul(np.matmul(yi, xi.T), tmp)\n",
      "/video/data/tingan/GitRep/IPLSreview/Code/SGDPLS.py:95: RuntimeWarning: invalid value encountered in add\n",
      "  self.x_rotations += self.eta * np.matmul(np.matmul(xi, yi.T), self.y_rotations)\n"
     ]
    },
    {
     "ename": "ValueError",
     "evalue": "\nAll the 90 fits failed.\nIt is very likely that your model is misconfigured.\nYou can try to debug the error by setting error_score='raise'.\n\nBelow are more details about the failures:\n--------------------------------------------------------------------------------\n90 fits failed with the following error:\nTraceback (most recent call last):\n  File \"/home/tingan/miniconda3/envs/pls/lib/python3.10/site-packages/sklearn/model_selection/_validation.py\", line 686, in _fit_and_score\n    estimator.fit(X_train, y_train, **fit_params)\n  File \"/video/data/tingan/GitRep/IPLSreview/Code/SGDPLS.py\", line 98, in fit\n    self._find_projections(X,Y)\n  File \"/video/data/tingan/GitRep/IPLSreview/Code/SGDPLS.py\", line 104, in _find_projections\n    t = np.dot(X[i], gram_schmidt_normalize(self.x_rotations.T[c-1][:, np.newaxis]).ravel()  )\n  File \"/video/data/tingan/GitRep/IPLSreview/Code/SGDPLS.py\", line 14, in gram_schmidt_normalize\n    X = check_array(X, dtype=FLOAT_DTYPES, copy=copy, ensure_2d=True)\n  File \"/home/tingan/miniconda3/envs/pls/lib/python3.10/site-packages/sklearn/utils/validation.py\", line 921, in check_array\n    _assert_all_finite(\n  File \"/home/tingan/miniconda3/envs/pls/lib/python3.10/site-packages/sklearn/utils/validation.py\", line 161, in _assert_all_finite\n    raise ValueError(msg_err)\nValueError: Input contains NaN.\n",
     "output_type": "error",
     "traceback": [
      "\u001b[0;31m---------------------------------------------------------------------------\u001b[0m",
      "\u001b[0;31mValueError\u001b[0m                                Traceback (most recent call last)",
      "Cell \u001b[0;32mIn[4], line 11\u001b[0m\n\u001b[1;32m      9\u001b[0m \u001b[38;5;28mprint\u001b[39m(clf)\n\u001b[1;32m     10\u001b[0m tictoc\u001b[38;5;241m.\u001b[39mtic()\n\u001b[0;32m---> 11\u001b[0m \u001b[43mclf\u001b[49m\u001b[38;5;241;43m.\u001b[39;49m\u001b[43mfit\u001b[49m\u001b[43m(\u001b[49m\u001b[43mX_train\u001b[49m\u001b[43m,\u001b[49m\u001b[43m \u001b[49m\u001b[43my_train\u001b[49m\u001b[43m)\u001b[49m\n\u001b[1;32m     12\u001b[0m \u001b[38;5;28mprint\u001b[39m(\u001b[38;5;124m\"\u001b[39m\u001b[38;5;124mCV elapsed time: \u001b[39m\u001b[38;5;132;01m{:.2f}\u001b[39;00m\u001b[38;5;124ms\u001b[39m\u001b[38;5;124m\"\u001b[39m\u001b[38;5;241m.\u001b[39mformat(tictoc\u001b[38;5;241m.\u001b[39mtocvalue()))\n\u001b[1;32m     13\u001b[0m \u001b[38;5;28mprint\u001b[39m(\u001b[38;5;124m\"\u001b[39m\u001b[38;5;124mbest parameter: \u001b[39m\u001b[38;5;124m\"\u001b[39m, clf\u001b[38;5;241m.\u001b[39mbest_params_,\n\u001b[1;32m     14\u001b[0m       \u001b[38;5;124m\"\u001b[39m\u001b[38;5;124m; score: \u001b[39m\u001b[38;5;132;01m{:15.7e}\u001b[39;00m\u001b[38;5;124m\"\u001b[39m\u001b[38;5;241m.\u001b[39mformat(clf\u001b[38;5;241m.\u001b[39mbest_score_))\n",
      "File \u001b[0;32m~/miniconda3/envs/pls/lib/python3.10/site-packages/sklearn/model_selection/_search.py:874\u001b[0m, in \u001b[0;36mBaseSearchCV.fit\u001b[0;34m(self, X, y, groups, **fit_params)\u001b[0m\n\u001b[1;32m    868\u001b[0m     results \u001b[38;5;241m=\u001b[39m \u001b[38;5;28mself\u001b[39m\u001b[38;5;241m.\u001b[39m_format_results(\n\u001b[1;32m    869\u001b[0m         all_candidate_params, n_splits, all_out, all_more_results\n\u001b[1;32m    870\u001b[0m     )\n\u001b[1;32m    872\u001b[0m     \u001b[38;5;28;01mreturn\u001b[39;00m results\n\u001b[0;32m--> 874\u001b[0m \u001b[38;5;28;43mself\u001b[39;49m\u001b[38;5;241;43m.\u001b[39;49m\u001b[43m_run_search\u001b[49m\u001b[43m(\u001b[49m\u001b[43mevaluate_candidates\u001b[49m\u001b[43m)\u001b[49m\n\u001b[1;32m    876\u001b[0m \u001b[38;5;66;03m# multimetric is determined here because in the case of a callable\u001b[39;00m\n\u001b[1;32m    877\u001b[0m \u001b[38;5;66;03m# self.scoring the return type is only known after calling\u001b[39;00m\n\u001b[1;32m    878\u001b[0m first_test_score \u001b[38;5;241m=\u001b[39m all_out[\u001b[38;5;241m0\u001b[39m][\u001b[38;5;124m\"\u001b[39m\u001b[38;5;124mtest_scores\u001b[39m\u001b[38;5;124m\"\u001b[39m]\n",
      "File \u001b[0;32m~/miniconda3/envs/pls/lib/python3.10/site-packages/sklearn/model_selection/_search.py:1388\u001b[0m, in \u001b[0;36mGridSearchCV._run_search\u001b[0;34m(self, evaluate_candidates)\u001b[0m\n\u001b[1;32m   1386\u001b[0m \u001b[38;5;28;01mdef\u001b[39;00m \u001b[38;5;21m_run_search\u001b[39m(\u001b[38;5;28mself\u001b[39m, evaluate_candidates):\n\u001b[1;32m   1387\u001b[0m \u001b[38;5;250m    \u001b[39m\u001b[38;5;124;03m\"\"\"Search all candidates in param_grid\"\"\"\u001b[39;00m\n\u001b[0;32m-> 1388\u001b[0m     \u001b[43mevaluate_candidates\u001b[49m\u001b[43m(\u001b[49m\u001b[43mParameterGrid\u001b[49m\u001b[43m(\u001b[49m\u001b[38;5;28;43mself\u001b[39;49m\u001b[38;5;241;43m.\u001b[39;49m\u001b[43mparam_grid\u001b[49m\u001b[43m)\u001b[49m\u001b[43m)\u001b[49m\n",
      "File \u001b[0;32m~/miniconda3/envs/pls/lib/python3.10/site-packages/sklearn/model_selection/_search.py:851\u001b[0m, in \u001b[0;36mBaseSearchCV.fit.<locals>.evaluate_candidates\u001b[0;34m(candidate_params, cv, more_results)\u001b[0m\n\u001b[1;32m    844\u001b[0m \u001b[38;5;28;01melif\u001b[39;00m \u001b[38;5;28mlen\u001b[39m(out) \u001b[38;5;241m!=\u001b[39m n_candidates \u001b[38;5;241m*\u001b[39m n_splits:\n\u001b[1;32m    845\u001b[0m     \u001b[38;5;28;01mraise\u001b[39;00m \u001b[38;5;167;01mValueError\u001b[39;00m(\n\u001b[1;32m    846\u001b[0m         \u001b[38;5;124m\"\u001b[39m\u001b[38;5;124mcv.split and cv.get_n_splits returned \u001b[39m\u001b[38;5;124m\"\u001b[39m\n\u001b[1;32m    847\u001b[0m         \u001b[38;5;124m\"\u001b[39m\u001b[38;5;124minconsistent results. Expected \u001b[39m\u001b[38;5;132;01m{}\u001b[39;00m\u001b[38;5;124m \u001b[39m\u001b[38;5;124m\"\u001b[39m\n\u001b[1;32m    848\u001b[0m         \u001b[38;5;124m\"\u001b[39m\u001b[38;5;124msplits, got \u001b[39m\u001b[38;5;132;01m{}\u001b[39;00m\u001b[38;5;124m\"\u001b[39m\u001b[38;5;241m.\u001b[39mformat(n_splits, \u001b[38;5;28mlen\u001b[39m(out) \u001b[38;5;241m/\u001b[39m\u001b[38;5;241m/\u001b[39m n_candidates)\n\u001b[1;32m    849\u001b[0m     )\n\u001b[0;32m--> 851\u001b[0m \u001b[43m_warn_or_raise_about_fit_failures\u001b[49m\u001b[43m(\u001b[49m\u001b[43mout\u001b[49m\u001b[43m,\u001b[49m\u001b[43m \u001b[49m\u001b[38;5;28;43mself\u001b[39;49m\u001b[38;5;241;43m.\u001b[39;49m\u001b[43merror_score\u001b[49m\u001b[43m)\u001b[49m\n\u001b[1;32m    853\u001b[0m \u001b[38;5;66;03m# For callable self.scoring, the return type is only know after\u001b[39;00m\n\u001b[1;32m    854\u001b[0m \u001b[38;5;66;03m# calling. If the return type is a dictionary, the error scores\u001b[39;00m\n\u001b[1;32m    855\u001b[0m \u001b[38;5;66;03m# can now be inserted with the correct key. The type checking\u001b[39;00m\n\u001b[1;32m    856\u001b[0m \u001b[38;5;66;03m# of out will be done in `_insert_error_scores`.\u001b[39;00m\n\u001b[1;32m    857\u001b[0m \u001b[38;5;28;01mif\u001b[39;00m \u001b[38;5;28mcallable\u001b[39m(\u001b[38;5;28mself\u001b[39m\u001b[38;5;241m.\u001b[39mscoring):\n",
      "File \u001b[0;32m~/miniconda3/envs/pls/lib/python3.10/site-packages/sklearn/model_selection/_validation.py:367\u001b[0m, in \u001b[0;36m_warn_or_raise_about_fit_failures\u001b[0;34m(results, error_score)\u001b[0m\n\u001b[1;32m    360\u001b[0m \u001b[38;5;28;01mif\u001b[39;00m num_failed_fits \u001b[38;5;241m==\u001b[39m num_fits:\n\u001b[1;32m    361\u001b[0m     all_fits_failed_message \u001b[38;5;241m=\u001b[39m (\n\u001b[1;32m    362\u001b[0m         \u001b[38;5;124mf\u001b[39m\u001b[38;5;124m\"\u001b[39m\u001b[38;5;130;01m\\n\u001b[39;00m\u001b[38;5;124mAll the \u001b[39m\u001b[38;5;132;01m{\u001b[39;00mnum_fits\u001b[38;5;132;01m}\u001b[39;00m\u001b[38;5;124m fits failed.\u001b[39m\u001b[38;5;130;01m\\n\u001b[39;00m\u001b[38;5;124m\"\u001b[39m\n\u001b[1;32m    363\u001b[0m         \u001b[38;5;124m\"\u001b[39m\u001b[38;5;124mIt is very likely that your model is misconfigured.\u001b[39m\u001b[38;5;130;01m\\n\u001b[39;00m\u001b[38;5;124m\"\u001b[39m\n\u001b[1;32m    364\u001b[0m         \u001b[38;5;124m\"\u001b[39m\u001b[38;5;124mYou can try to debug the error by setting error_score=\u001b[39m\u001b[38;5;124m'\u001b[39m\u001b[38;5;124mraise\u001b[39m\u001b[38;5;124m'\u001b[39m\u001b[38;5;124m.\u001b[39m\u001b[38;5;130;01m\\n\u001b[39;00m\u001b[38;5;130;01m\\n\u001b[39;00m\u001b[38;5;124m\"\u001b[39m\n\u001b[1;32m    365\u001b[0m         \u001b[38;5;124mf\u001b[39m\u001b[38;5;124m\"\u001b[39m\u001b[38;5;124mBelow are more details about the failures:\u001b[39m\u001b[38;5;130;01m\\n\u001b[39;00m\u001b[38;5;132;01m{\u001b[39;00mfit_errors_summary\u001b[38;5;132;01m}\u001b[39;00m\u001b[38;5;124m\"\u001b[39m\n\u001b[1;32m    366\u001b[0m     )\n\u001b[0;32m--> 367\u001b[0m     \u001b[38;5;28;01mraise\u001b[39;00m \u001b[38;5;167;01mValueError\u001b[39;00m(all_fits_failed_message)\n\u001b[1;32m    369\u001b[0m \u001b[38;5;28;01melse\u001b[39;00m:\n\u001b[1;32m    370\u001b[0m     some_fits_failed_message \u001b[38;5;241m=\u001b[39m (\n\u001b[1;32m    371\u001b[0m         \u001b[38;5;124mf\u001b[39m\u001b[38;5;124m\"\u001b[39m\u001b[38;5;130;01m\\n\u001b[39;00m\u001b[38;5;132;01m{\u001b[39;00mnum_failed_fits\u001b[38;5;132;01m}\u001b[39;00m\u001b[38;5;124m fits failed out of a total of \u001b[39m\u001b[38;5;132;01m{\u001b[39;00mnum_fits\u001b[38;5;132;01m}\u001b[39;00m\u001b[38;5;124m.\u001b[39m\u001b[38;5;130;01m\\n\u001b[39;00m\u001b[38;5;124m\"\u001b[39m\n\u001b[1;32m    372\u001b[0m         \u001b[38;5;124m\"\u001b[39m\u001b[38;5;124mThe score on these train-test partitions for these parameters\u001b[39m\u001b[38;5;124m\"\u001b[39m\n\u001b[0;32m   (...)\u001b[0m\n\u001b[1;32m    376\u001b[0m         \u001b[38;5;124mf\u001b[39m\u001b[38;5;124m\"\u001b[39m\u001b[38;5;124mBelow are more details about the failures:\u001b[39m\u001b[38;5;130;01m\\n\u001b[39;00m\u001b[38;5;132;01m{\u001b[39;00mfit_errors_summary\u001b[38;5;132;01m}\u001b[39;00m\u001b[38;5;124m\"\u001b[39m\n\u001b[1;32m    377\u001b[0m     )\n",
      "\u001b[0;31mValueError\u001b[0m: \nAll the 90 fits failed.\nIt is very likely that your model is misconfigured.\nYou can try to debug the error by setting error_score='raise'.\n\nBelow are more details about the failures:\n--------------------------------------------------------------------------------\n90 fits failed with the following error:\nTraceback (most recent call last):\n  File \"/home/tingan/miniconda3/envs/pls/lib/python3.10/site-packages/sklearn/model_selection/_validation.py\", line 686, in _fit_and_score\n    estimator.fit(X_train, y_train, **fit_params)\n  File \"/video/data/tingan/GitRep/IPLSreview/Code/SGDPLS.py\", line 98, in fit\n    self._find_projections(X,Y)\n  File \"/video/data/tingan/GitRep/IPLSreview/Code/SGDPLS.py\", line 104, in _find_projections\n    t = np.dot(X[i], gram_schmidt_normalize(self.x_rotations.T[c-1][:, np.newaxis]).ravel()  )\n  File \"/video/data/tingan/GitRep/IPLSreview/Code/SGDPLS.py\", line 14, in gram_schmidt_normalize\n    X = check_array(X, dtype=FLOAT_DTYPES, copy=copy, ensure_2d=True)\n  File \"/home/tingan/miniconda3/envs/pls/lib/python3.10/site-packages/sklearn/utils/validation.py\", line 921, in check_array\n    _assert_all_finite(\n  File \"/home/tingan/miniconda3/envs/pls/lib/python3.10/site-packages/sklearn/utils/validation.py\", line 161, in _assert_all_finite\n    raise ValueError(msg_err)\nValueError: Input contains NaN.\n"
     ]
    }
   ],
   "source": [
    "import Code.SGDPLS\n",
    "importlib.reload(Code.SGDPLS)\n",
    "from Code.SGDPLS import SGDPLS\n",
    "parameters = {'epochs': [100, 200, 300], 'eta':[1e-2, 1e-3, 1e-4] }\n",
    "clf = GridSearchCV(SGDPLS(n_components=7), parameters,\n",
    "                   cv=KFold(n_splits=kf_num), n_jobs=4, \n",
    "                   scoring='neg_root_mean_squared_error')\n",
    "\n",
    "print(clf)\n",
    "tictoc.tic()\n",
    "clf.fit(X_train, y_train)\n",
    "print(\"CV elapsed time: {:.2f}s\".format(tictoc.tocvalue()))\n",
    "print(\"best parameter: \", clf.best_params_,\n",
    "      \"; score: {:15.7e}\".format(clf.best_score_))"
   ]
  },
  {
   "cell_type": "code",
   "execution_count": null,
   "id": "3179d6f0-72f8-4e51-96c9-81ad0dce2b91",
   "metadata": {
    "collapsed": false,
    "jupyter": {
     "outputs_hidden": false
    }
   },
   "outputs": [],
   "source": [
    "import Code.SGDPLS\n",
    "importlib.reload(Code.SGDPLS)\n",
    "from Code.SGDPLS import SGDPLS\n",
    "parameters = {'epochs': [100], 'eta':[1e-5, 1e-6, 1e-7] }\n",
    "clf = GridSearchCV(SGDPLS(n_components=7), parameters,\n",
    "                   cv=KFold(n_splits=kf_num), n_jobs=4, \n",
    "                   scoring='neg_root_mean_squared_error')\n",
    "\n",
    "print(clf)\n",
    "tictoc.tic()\n",
    "clf.fit(X_train, y_train)\n",
    "print(\"CV elapsed time: {:.2f}s\".format(tictoc.tocvalue()))\n",
    "print(\"best parameter: \", clf.best_params_,\n",
    "      \"; score: {:15.7e}\".format(clf.best_score_))"
   ]
  },
  {
   "cell_type": "code",
   "execution_count": null,
   "id": "e2884586-b7d5-45de-9f69-17ceb57e551f",
   "metadata": {
    "collapsed": false,
    "jupyter": {
     "outputs_hidden": false
    }
   },
   "outputs": [],
   "source": [
    "import Code.CIPLS\n",
    "importlib.reload(Code.CIPLS)\n",
    "from Code.CIPLS import CIPLS\n",
    "\n",
    "clf = GridSearchCV(CIPLS(n_components=7), parameters, cv=KFold(n_splits=kf_num),\n",
    "                   scoring='neg_root_mean_squared_error')\n",
    "\n",
    "print(clf)\n",
    "clf.fit(X_train, y_train)\n",
    "print(\"best parameter: \", clf.best_params_,\n",
    "      \"; score: {:15.7e}\".format(clf.best_score_))"
   ]
  },
  {
   "cell_type": "code",
   "execution_count": null,
   "id": "57456d02-7c41-4b6f-b1b9-b6be4569dc58",
   "metadata": {
    "collapsed": false
   },
   "outputs": [],
   "source": [
    " "
   ]
  }
 ],
 "metadata": {
  "kernelspec": {
   "argv": [
    "python",
    "-m",
    "ipykernel_launcher",
    "-f",
    "{connection_file}"
   ],
   "display_name": "Python 3 (ipykernel)",
   "env": null,
   "interrupt_mode": "signal",
   "language": "python",
   "metadata": {
    "debugger": true
   },
   "name": "python3"
  },
  "language_info": {
   "codemirror_mode": {
    "name": "ipython",
    "version": 3
   },
   "file_extension": ".py",
   "mimetype": "text/x-python",
   "name": "python",
   "nbconvert_exporter": "python",
   "pygments_lexer": "ipython3",
   "version": "3.10.11"
  },
  "name": "CV_CTSlices.ipynb"
 },
 "nbformat": 4,
 "nbformat_minor": 5
}
