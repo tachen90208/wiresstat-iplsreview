{
 "cells": [
  {
   "cell_type": "code",
   "execution_count": 19,
   "id": "16b94288-d84f-419e-8af7-4b2ef7b0625f",
   "metadata": {
    "collapsed": false,
    "jupyter": {
     "outputs_hidden": false
    }
   },
   "outputs": [],
   "source": [
    "import importlib\n",
    "# --------------------\n",
    "from sklearn.utils import gen_batches\n",
    "from sklearn.model_selection import GridSearchCV, TimeSeriesSplit\n",
    "from sklearn.metrics import root_mean_squared_error as RMSE\n",
    "import numpy as np\n",
    "from numpy.linalg import norm,inv,matrix_rank\n",
    "\n",
    "import h5py\n",
    "from sklearn.cross_decomposition import PLSRegression\n",
    "\n",
    "# import warnings\n",
    "# warnings.filterwarnings('ignore')\n",
    "\n",
    "from pytictoc import TicToc\n",
    "tim=TicToc()\n",
    "tim_tot = TicToc()"
   ]
  },
  {
   "cell_type": "code",
   "execution_count": 20,
   "id": "c703a01b-3ed7-48b5-a535-e0b00865c920",
   "metadata": {
    "collapsed": false
   },
   "outputs": [
    {
     "name": "stdout",
     "output_type": "stream",
     "text": [
      "877\n"
     ]
    }
   ],
   "source": [
    "with h5py.File('./data/TW_PM25.h5', 'r') as f:\n",
    "    X_train, Y_train = f['X_train'], f['Y_train']\n",
    "    n_train = X_train.shape[0]\n",
    "    print(n_train)\n",
    "        \n",
    "    X_train = X_train[0:n_train]\n",
    "    Y_train = Y_train[0:n_train]\n",
    " "
   ]
  },
  {
   "cell_type": "code",
   "execution_count": 21,
   "id": "ce21d931-3053-42b2-abe4-7e221acd0e4c",
   "metadata": {
    "collapsed": false,
    "jupyter": {
     "outputs_hidden": false
    }
   },
   "outputs": [
    {
     "name": "stdout",
     "output_type": "stream",
     "text": [
      "(877, 1800)\n",
      "(877, 1800)\n",
      "Fold 0:\n",
      "  Train: len=367\n",
      "  Test:  len=30\n",
      "Fold 1:\n",
      "  Train: len=397\n",
      "  Test:  len=30\n",
      "Fold 2:\n",
      "  Train: len=427\n",
      "  Test:  len=30\n",
      "Fold 3:\n",
      "  Train: len=457\n",
      "  Test:  len=30\n",
      "Fold 4:\n",
      "  Train: len=487\n",
      "  Test:  len=30\n",
      "  Train: [  0   1   2   3   4   5   6   7   8   9  10  11  12  13  14  15  16  17\n",
      "  18  19  20  21  22  23  24  25  26  27  28  29  30  31  32  33  34  35\n",
      "  36  37  38  39  40  41  42  43  44  45  46  47  48  49  50  51  52  53\n",
      "  54  55  56  57  58  59  60  61  62  63  64  65  66  67  68  69  70  71\n",
      "  72  73  74  75  76  77  78  79  80  81  82  83  84  85  86  87  88  89\n",
      "  90  91  92  93  94  95  96  97  98  99 100 101 102 103 104 105 106 107\n",
      " 108 109 110 111 112 113 114 115 116 117 118 119 120 121 122 123 124 125\n",
      " 126 127 128 129 130 131 132 133 134 135 136 137 138 139 140 141 142 143\n",
      " 144 145 146 147 148 149 150 151 152 153 154 155 156 157 158 159 160 161\n",
      " 162 163 164 165 166 167 168 169 170 171 172 173 174 175 176 177 178 179\n",
      " 180 181 182 183 184 185 186 187 188 189 190 191 192 193 194 195 196 197\n",
      " 198 199 200 201 202 203 204 205 206 207 208 209 210 211 212 213 214 215\n",
      " 216 217 218 219 220 221 222 223 224 225 226 227 228 229 230 231 232 233\n",
      " 234 235 236 237 238 239 240 241 242 243 244 245 246 247 248 249 250 251\n",
      " 252 253 254 255 256 257 258 259 260 261 262 263 264 265 266 267 268 269\n",
      " 270 271 272 273 274 275 276 277 278 279 280 281 282 283 284 285 286 287\n",
      " 288 289 290 291 292 293 294 295 296 297 298 299 300 301 302 303 304 305\n",
      " 306 307 308 309 310 311 312 313 314 315 316 317 318 319 320 321 322 323\n",
      " 324 325 326 327 328 329 330 331 332 333 334 335 336 337 338 339 340 341\n",
      " 342 343 344 345 346 347 348 349 350 351 352 353 354 355 356 357 358 359\n",
      " 360 361 362 363 364 365 366 367 368 369 370 371 372 373 374 375 376 377\n",
      " 378 379 380 381 382 383 384 385 386 387 388 389 390 391 392 393 394 395\n",
      " 396 397 398 399 400 401 402 403 404 405 406 407 408 409 410 411 412 413\n",
      " 414 415 416 417 418 419 420 421 422 423 424 425 426 427 428 429 430 431\n",
      " 432 433 434 435 436 437 438 439 440 441 442 443 444 445 446 447 448 449\n",
      " 450 451 452 453 454 455 456 457 458 459 460 461 462 463 464 465 466 467\n",
      " 468 469 470 471 472 473 474 475 476 477 478 479 480 481 482 483 484 485\n",
      " 486]\n",
      "  Test:  [487 488 489 490 491 492 493 494 495 496 497 498 499 500 501 502 503 504\n",
      " 505 506 507 508 509 510 511 512 513 514 515 516]\n",
      "========================================\n",
      "Fold 0:\n",
      "  Train: len=367\n",
      "  Test:  len=30\n",
      "Fold 1:\n",
      "  Train: len=30\n",
      "  Test:  len=30\n",
      "Fold 2:\n",
      "  Train: len=30\n",
      "  Test:  len=30\n",
      "Fold 3:\n",
      "  Train: len=30\n",
      "  Test:  len=30\n",
      "Fold 4:\n",
      "  Train: len=30\n",
      "  Test:  len=30\n",
      "  Train: [457 458 459 460 461 462 463 464 465 466 467 468 469 470 471 472 473 474\n",
      " 475 476 477 478 479 480 481 482 483 484 485 486]\n",
      "  Test:  [487 488 489 490 491 492 493 494 495 496 497 498 499 500 501 502 503 504\n",
      " 505 506 507 508 509 510 511 512 513 514 515 516]\n"
     ]
    }
   ],
   "source": [
    "print(X_train.shape)\n",
    "print(Y_train.shape)\n",
    "n_fold = 17\n",
    "test_size=30\n",
    "tscv = TimeSeriesSplit(n_splits=n_fold, test_size=test_size)\n",
    "for i, (train_index, test_index) in enumerate(tscv.split(X_train)):\n",
    "    print(f\"Fold {i}:\")\n",
    "    print(f\"  Train: len={len(train_index)}\")\n",
    "    print(f\"  Test:  len={len(test_index)}\")\n",
    "    if(i>3):\n",
    "        print(f\"  Train: {train_index}\")\n",
    "        print(f\"  Test:  {test_index}\")\n",
    "        break\n",
    "    \n",
    "print(\"=\"*40)\n",
    "for i, (train_index, test_index) in enumerate(RollingCV(tscv,X_train)):\n",
    "    print(f\"Fold {i}:\")\n",
    "    print(f\"  Train: len={len(train_index)}\")\n",
    "    print(f\"  Test:  len={len(test_index)}\")\n",
    "    if(i>3):\n",
    "        print(f\"  Train: {train_index}\")\n",
    "        print(f\"  Test:  {test_index}\")\n",
    "        break    "
   ]
  },
  {
   "cell_type": "code",
   "execution_count": null,
   "id": "b0212402-6812-4de5-945f-d4ceb8a10268",
   "metadata": {
    "collapsed": false
   },
   "outputs": [],
   "source": [
    "def RollingCV(tscv,X):\n",
    "    cv = tscv.split(X)\n",
    "    (train_index, test_index) = next(cv)\n",
    "    yield(\n",
    "        train_index,\n",
    "        test_index\n",
    "    )\n",
    "    test_size = len(test_index)\n",
    "\n",
    "    for (train_index, test_index) in (cv):\n",
    "        yield(\n",
    "            train_index[-test_size:],\n",
    "            test_index\n",
    "        )\n",
    "\n",
    "def Comp_Model_Score(estimator, cv, X, Y):\n",
    "    score = np.zeros((n_fold,))\n",
    "    for i,(train_index, test_index) in enumerate(cv):\n",
    "        try:\n",
    "            estimator.fit(X[train_index], Y[train_index])\n",
    "            y_true = Y[test_index]\n",
    "            y_pred = estimator.predict(X[test_index])\n",
    "            score[i] = RMSE(y_true, y_pred)\n",
    "        except:\n",
    "            score[i] = np.nan\n",
    "            break\n",
    "    return np.mean(score)"
   ]
  },
  {
   "cell_type": "code",
   "execution_count": 24,
   "id": "4e261372-cd8a-46bb-9489-ac8b8b999c00",
   "metadata": {
    "collapsed": false,
    "jupyter": {
     "outputs_hidden": false
    }
   },
   "outputs": [
    {
     "name": "stdout",
     "output_type": "stream",
     "text": [
      "GridSearchCV(cv=TimeSeriesSplit(gap=0, max_train_size=None, n_splits=17, test_size=30),\n",
      "             estimator=SIMPLS(), param_grid={'n_components': [4, 8]},\n",
      "             scoring='neg_root_mean_squared_error', verbose=3)\n",
      "Fitting 17 folds for each of 2 candidates, totalling 34 fits\n"
     ]
    },
    {
     "name": "stdout",
     "output_type": "stream",
     "text": [
      "[CV 1/17] END ..................n_components=4;, score=-4.562 total time=   0.7s\n"
     ]
    },
    {
     "name": "stdout",
     "output_type": "stream",
     "text": [
      "[CV 2/17] END ..................n_components=4;, score=-5.900 total time=   0.6s\n"
     ]
    },
    {
     "name": "stdout",
     "output_type": "stream",
     "text": [
      "[CV 3/17] END ..................n_components=4;, score=-6.039 total time=   0.5s\n"
     ]
    },
    {
     "name": "stdout",
     "output_type": "stream",
     "text": [
      "[CV 4/17] END ..................n_components=4;, score=-7.400 total time=   0.5s\n"
     ]
    },
    {
     "name": "stdout",
     "output_type": "stream",
     "text": [
      "[CV 5/17] END ..................n_components=4;, score=-8.210 total time=   0.6s\n"
     ]
    },
    {
     "name": "stdout",
     "output_type": "stream",
     "text": [
      "[CV 6/17] END ..................n_components=4;, score=-8.309 total time=   0.6s\n"
     ]
    },
    {
     "name": "stdout",
     "output_type": "stream",
     "text": [
      "[CV 7/17] END .................n_components=4;, score=-10.145 total time=   0.7s\n"
     ]
    },
    {
     "name": "stdout",
     "output_type": "stream",
     "text": [
      "[CV 8/17] END ..................n_components=4;, score=-8.886 total time=   0.7s\n"
     ]
    },
    {
     "name": "stdout",
     "output_type": "stream",
     "text": [
      "[CV 9/17] END ..................n_components=4;, score=-8.588 total time=   0.7s\n"
     ]
    },
    {
     "name": "stdout",
     "output_type": "stream",
     "text": [
      "[CV 10/17] END .................n_components=4;, score=-9.902 total time=   0.7s\n"
     ]
    },
    {
     "name": "stdout",
     "output_type": "stream",
     "text": [
      "[CV 11/17] END .................n_components=4;, score=-7.734 total time=   0.6s\n"
     ]
    },
    {
     "name": "stdout",
     "output_type": "stream",
     "text": [
      "[CV 12/17] END .................n_components=4;, score=-7.054 total time=   0.6s\n"
     ]
    },
    {
     "name": "stdout",
     "output_type": "stream",
     "text": [
      "[CV 13/17] END .................n_components=4;, score=-5.082 total time=   0.8s\n"
     ]
    },
    {
     "name": "stdout",
     "output_type": "stream",
     "text": [
      "[CV 14/17] END .................n_components=4;, score=-5.896 total time=   0.6s\n"
     ]
    },
    {
     "name": "stdout",
     "output_type": "stream",
     "text": [
      "[CV 15/17] END .................n_components=4;, score=-6.230 total time=   0.7s\n"
     ]
    },
    {
     "name": "stdout",
     "output_type": "stream",
     "text": [
      "[CV 16/17] END .................n_components=4;, score=-7.292 total time=   0.7s\n"
     ]
    },
    {
     "name": "stdout",
     "output_type": "stream",
     "text": [
      "[CV 17/17] END .................n_components=4;, score=-7.092 total time=   0.7s\n"
     ]
    },
    {
     "name": "stdout",
     "output_type": "stream",
     "text": [
      "[CV 1/17] END ..................n_components=8;, score=-5.146 total time=   1.0s\n"
     ]
    },
    {
     "name": "stdout",
     "output_type": "stream",
     "text": [
      "[CV 2/17] END ..................n_components=8;, score=-5.498 total time=   1.2s\n"
     ]
    },
    {
     "name": "stdout",
     "output_type": "stream",
     "text": [
      "[CV 3/17] END ..................n_components=8;, score=-6.015 total time=   0.9s\n"
     ]
    },
    {
     "name": "stdout",
     "output_type": "stream",
     "text": [
      "[CV 4/17] END ..................n_components=8;, score=-6.869 total time=   0.9s\n"
     ]
    },
    {
     "name": "stdout",
     "output_type": "stream",
     "text": [
      "[CV 5/17] END ..................n_components=8;, score=-8.396 total time=   0.8s\n"
     ]
    },
    {
     "name": "stdout",
     "output_type": "stream",
     "text": [
      "[CV 6/17] END ..................n_components=8;, score=-9.010 total time=   0.9s\n"
     ]
    },
    {
     "name": "stdout",
     "output_type": "stream",
     "text": [
      "[CV 7/17] END ..................n_components=8;, score=-9.867 total time=   0.9s\n"
     ]
    },
    {
     "name": "stdout",
     "output_type": "stream",
     "text": [
      "[CV 8/17] END ..................n_components=8;, score=-8.801 total time=   0.8s\n"
     ]
    },
    {
     "name": "stdout",
     "output_type": "stream",
     "text": [
      "[CV 9/17] END ..................n_components=8;, score=-8.614 total time=   0.9s\n"
     ]
    },
    {
     "name": "stdout",
     "output_type": "stream",
     "text": [
      "[CV 10/17] END .................n_components=8;, score=-9.634 total time=   0.9s\n"
     ]
    },
    {
     "name": "stdout",
     "output_type": "stream",
     "text": [
      "[CV 11/17] END .................n_components=8;, score=-7.529 total time=   0.9s\n"
     ]
    },
    {
     "name": "stdout",
     "output_type": "stream",
     "text": [
      "[CV 12/17] END .................n_components=8;, score=-7.091 total time=   0.9s\n"
     ]
    },
    {
     "name": "stdout",
     "output_type": "stream",
     "text": [
      "[CV 13/17] END .................n_components=8;, score=-5.161 total time=   0.9s\n"
     ]
    },
    {
     "name": "stdout",
     "output_type": "stream",
     "text": [
      "[CV 14/17] END .................n_components=8;, score=-5.618 total time=   0.8s\n"
     ]
    },
    {
     "name": "stdout",
     "output_type": "stream",
     "text": [
      "[CV 15/17] END .................n_components=8;, score=-5.936 total time=   0.9s\n"
     ]
    },
    {
     "name": "stdout",
     "output_type": "stream",
     "text": [
      "[CV 16/17] END .................n_components=8;, score=-7.217 total time=   0.9s\n"
     ]
    },
    {
     "name": "stdout",
     "output_type": "stream",
     "text": [
      "[CV 17/17] END .................n_components=8;, score=-6.849 total time=   0.9s\n"
     ]
    },
    {
     "name": "stdout",
     "output_type": "stream",
     "text": [
      "CV elapsed time: 27.49s\n",
      "best parameter:  {'n_components': 8} ; score:  -7.2500481e+00\n"
     ]
    }
   ],
   "source": [
    "import Code.SIMPLS\n",
    "importlib.reload(Code.SIMPLS)\n",
    "from Code.SIMPLS import SIMPLS\n",
    "\n",
    "n_comp_lst=list(range(4,9,4))\n",
    "parameters = {'n_components':n_comp_lst}\n",
    "clf = GridSearchCV(SIMPLS(),  parameters,\n",
    "                   cv=tscv, verbose=3,  \n",
    "                   scoring='neg_root_mean_squared_error')\n",
    "print(clf)\n",
    "tim.tic()\n",
    "clf.fit(X_train, Y_train)\n",
    "print(\"CV elapsed time: {:.2f}s\".format(tim.tocvalue()))\n",
    "print(\"best parameter: \", clf.best_params_,\n",
    "      \"; score: {:15.7e}\".format(clf.best_score_))\n"
   ]
  },
  {
   "cell_type": "code",
   "execution_count": 39,
   "id": "aa87597b-2eae-409e-ae64-910f0f664cf0",
   "metadata": {
    "collapsed": false
   },
   "outputs": [
    {
     "name": "stdout",
     "output_type": "stream",
     "text": [
      "n_comp: [4, 8]\n"
     ]
    },
    {
     "name": "stdout",
     "output_type": "stream",
     "text": [
      "fold: 01, elapsed time: 1.4s\n"
     ]
    },
    {
     "name": "stdout",
     "output_type": "stream",
     "text": [
      "fold: 06, elapsed time: 5.1s\n"
     ]
    },
    {
     "name": "stdout",
     "output_type": "stream",
     "text": [
      "fold: 11, elapsed time: 5.1s\n"
     ]
    },
    {
     "name": "stdout",
     "output_type": "stream",
     "text": [
      "fold: 16, elapsed time: 5.2s\n"
     ]
    },
    {
     "name": "stdout",
     "output_type": "stream",
     "text": [
      "\n",
      "best parameter: 8; score: 7.2500481e+00; total time=17.8s\n"
     ]
    }
   ],
   "source": [
    "import Code.ISIMPLS\n",
    "importlib.reload(Code.ISIMPLS)\n",
    "from Code.ISIMPLS import ISIMPLS2 as ISIMPLS\n",
    "\n",
    "n_comp_list=list(range(4,9,4))\n",
    "print(\"n_comp:\", n_comp_list)\n",
    "score_all = np.zeros((n_fold, len(n_comp_list)))\n",
    "\n",
    "n_comp_max=10\n",
    "PLS = ISIMPLS(n_components=n_comp_max)\n",
    "\n",
    "tim_tot.tic()\n",
    "tim.tic()\n",
    "for i,(train_index, test_index) in enumerate(RollingCV(tscv, X_train)):\n",
    "    PLS.fit(X_train[train_index], Y_train[train_index])\n",
    "    y_true = Y_train[test_index]\n",
    "    for j,n_comp in enumerate(n_comp_list):\n",
    "        y_pred = PLS.predict(X_train[test_index], n_comp)\n",
    "        score_all[i,j] = RMSE(y_true, y_pred)\n",
    "    if (i%5==0): \n",
    "        print(f\"fold: {i+1:02d}, elapsed time: {tim.tocvalue():.1f}s\")\n",
    "        tim.tic()\n",
    "\n",
    "scores = score_all.mean(axis=0)\n",
    "best_ind = np.nanargmin(scores)\n",
    "print(\"\")\n",
    "print(f\"best parameter: {n_comp_list[best_ind]}; score: {scores[best_ind]:.7e}; \"\n",
    "      + f\"total time={tim_tot.tocvalue():.1f}s\")"
   ]
  }
 ],
 "metadata": {
  "kernelspec": {
   "argv": [
    "/home/tingan/miniconda3/envs/pls/bin/python",
    "-m",
    "ipykernel_launcher",
    "-f",
    "{connection_file}"
   ],
   "display_name": "Python 3 (ipykernel)",
   "env": null,
   "interrupt_mode": "signal",
   "language": "python",
   "metadata": {
    "debugger": true
   },
   "name": "python3"
  },
  "language_info": {
   "codemirror_mode": {
    "name": "ipython",
    "version": 3
   },
   "file_extension": ".py",
   "mimetype": "text/x-python",
   "name": "python",
   "nbconvert_exporter": "python",
   "pygments_lexer": "ipython3",
   "version": "3.10.11"
  },
  "name": "Test_TSCV.ipynb"
 },
 "nbformat": 4,
 "nbformat_minor": 5
}
