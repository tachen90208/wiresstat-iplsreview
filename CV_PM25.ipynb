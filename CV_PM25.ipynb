{
 "cells": [
  {
   "cell_type": "code",
   "execution_count": 1,
   "id": "16b94288-d84f-419e-8af7-4b2ef7b0625f",
   "metadata": {
    "collapsed": false,
    "jupyter": {
     "outputs_hidden": false
    }
   },
   "outputs": [],
   "source": [
    "import importlib\n",
    "# --------------------\n",
    "from sklearn.utils import gen_batches\n",
    "from sklearn.model_selection import GridSearchCV, TimeSeriesSplit\n",
    "from sklearn.metrics import root_mean_squared_error as RMSE\n",
    "import numpy as np\n",
    "from numpy.linalg import norm,inv,matrix_rank\n",
    "\n",
    "import h5py\n",
    "from sklearn.cross_decomposition import PLSRegression, PLSSVD\n",
    "\n",
    "# import warnings\n",
    "# warnings.filterwarnings('ignore')\n",
    "\n",
    "from pytictoc import TicToc\n",
    "tim=TicToc()\n",
    "tim_tot = TicToc()"
   ]
  },
  {
   "cell_type": "code",
   "execution_count": 2,
   "id": "8119ca6a-990a-4d0d-98fb-1c5887f0434a",
   "metadata": {
    "collapsed": false
   },
   "outputs": [],
   "source": [
    "def RollingCV(tscv,X):\n",
    "    cv = tscv.split(X)\n",
    "    (train_index, test_index) = next(cv)\n",
    "    yield(\n",
    "        train_index,\n",
    "        test_index\n",
    "    )\n",
    "    test_size = len(test_index)\n",
    "\n",
    "    for (train_index, test_index) in (cv):\n",
    "        yield(\n",
    "            train_index[-test_size:],\n",
    "            test_index\n",
    "        )\n",
    "\n",
    "def Comp_Model_Score(estimator, cv, X, Y):\n",
    "    score = np.zeros((n_fold,))\n",
    "    for i,(train_index, test_index) in enumerate(cv):\n",
    "        try:\n",
    "            estimator.fit(X[train_index], Y[train_index])\n",
    "            y_true = Y[test_index]\n",
    "            y_pred = estimator.predict(X[test_index])\n",
    "            score[i] = RMSE(y_true, y_pred)\n",
    "        except:\n",
    "            score[i] = np.nan\n",
    "            break\n",
    "    return np.mean(score)"
   ]
  },
  {
   "cell_type": "code",
   "execution_count": 3,
   "id": "b1d7f0c8-9abd-4071-987b-55873073aa43",
   "metadata": {
    "collapsed": false,
    "jupyter": {
     "outputs_hidden": false
    }
   },
   "outputs": [],
   "source": [
    "tmp = h5py.File('./data/TW_PM25.h5', 'r')\n",
    "X_train, Y_train = tmp['X_train'], tmp['Y_train']\n",
    "n_train = X_train.shape[0]\n",
    "\n",
    "X_train = X_train[0:n_train]\n",
    "Y_train = Y_train[0:n_train]\n",
    "tmp.close()\n",
    "\n"
   ]
  },
  {
   "cell_type": "code",
   "execution_count": 4,
   "id": "ce21d931-3053-42b2-abe4-7e221acd0e4c",
   "metadata": {
    "collapsed": false,
    "jupyter": {
     "outputs_hidden": false
    }
   },
   "outputs": [
    {
     "name": "stdout",
     "output_type": "stream",
     "text": [
      "(877, 1800)\n",
      "(877, 1800)\n",
      "Fold 0:\n",
      "  Train: len=367\n",
      "  Test:  len=30\n",
      "Fold 1:\n",
      "  Train: len=397\n",
      "  Test:  len=30\n",
      "Fold 2:\n",
      "  Train: len=427\n",
      "  Test:  len=30\n",
      "Fold 3:\n",
      "  Train: len=457\n",
      "  Test:  len=30\n",
      "  Train: from 0 to 456\n",
      "  Test:  from 457 to 486\n",
      "========================================\n",
      "Fold 0:\n",
      "  Train: len=367\n",
      "  Test:  len=30\n",
      "Fold 1:\n",
      "  Train: len=30\n",
      "  Test:  len=30\n",
      "Fold 2:\n",
      "  Train: len=30\n",
      "  Test:  len=30\n",
      "Fold 3:\n",
      "  Train: len=30\n",
      "  Test:  len=30\n",
      "  Train: from 427 to 456\n",
      "  Test:  from 457 to 486\n"
     ]
    }
   ],
   "source": [
    "print(X_train.shape)\n",
    "print(Y_train.shape)\n",
    "n_fold = 17\n",
    "test_size=30\n",
    "tscv = TimeSeriesSplit(n_splits=n_fold, test_size=test_size)\n",
    "for i, (train_index, test_index) in enumerate(tscv.split(X_train)):\n",
    "    print(f\"Fold {i}:\")\n",
    "    print(f\"  Train: len={len(train_index)}\")\n",
    "    print(f\"  Test:  len={len(test_index)}\")\n",
    "    if(i>2):\n",
    "        print(f\"  Train: from {train_index[0]} to {train_index[-1]}\")\n",
    "        print(f\"  Test:  from {test_index[0]} to {test_index[-1]}\")\n",
    "        break\n",
    "\n",
    "print(\"=\"*40)\n",
    "for i, (train_index, test_index) in enumerate(RollingCV(tscv,X_train)):\n",
    "    print(f\"Fold {i}:\")\n",
    "    print(f\"  Train: len={len(train_index)}\")\n",
    "    print(f\"  Test:  len={len(test_index)}\")\n",
    "    if(i>2):\n",
    "        print(f\"  Train: from {train_index[0]} to {train_index[-1]}\")\n",
    "        print(f\"  Test:  from {test_index[0]} to {test_index[-1]}\")\n",
    "        break"
   ]
  },
  {
   "cell_type": "code",
   "execution_count": 5,
   "id": "2c52bf29-a6ab-4688-ac08-31bd4c69748a",
   "metadata": {
    "collapsed": false,
    "jupyter": {
     "outputs_hidden": false
    }
   },
   "outputs": [
    {
     "name": "stdout",
     "output_type": "stream",
     "text": [
      "GridSearchCV(cv=TimeSeriesSplit(gap=0, max_train_size=None, n_splits=17, test_size=30),\n",
      "             estimator=PLSRegression(scale=False), n_jobs=4,\n",
      "             param_grid={'n_components': [1, 2, 3, 4, 5, 6, 7, 8, 9, 10, 11, 12,\n",
      "                                          13, 14, 15]},\n",
      "             scoring='neg_root_mean_squared_error')\n"
     ]
    },
    {
     "name": "stdout",
     "output_type": "stream",
     "text": [
      "CV elapsed time: 43.62s\n",
      "best parameter:  {'n_components': 10} ; score:   7.1548572e+00\n"
     ]
    }
   ],
   "source": [
    "n_comp_lst=list(range(1,16))\n",
    "parameters = {'n_components':n_comp_lst}\n",
    "clf = GridSearchCV(PLSRegression(scale=False), parameters,\n",
    "                   cv=tscv, n_jobs=4,\n",
    "                   scoring='neg_root_mean_squared_error')\n",
    "print(clf)\n",
    "tim.tic()\n",
    "clf.fit(X_train, Y_train)\n",
    "print(\"CV elapsed time: {:.2f}s\".format(tim.tocvalue()))\n",
    "print(\"best parameter: \", clf.best_params_,\n",
    "      \"; score: {:15.7e}\".format(-1.*clf.best_score_))"
   ]
  },
  {
   "cell_type": "code",
   "execution_count": 6,
   "id": "d46c3e5b-2221-4cb0-a938-7d63014884c7",
   "metadata": {
    "collapsed": false
   },
   "outputs": [
    {
     "name": "stdout",
     "output_type": "stream",
     "text": [
      "GridSearchCV(cv=TimeSeriesSplit(gap=0, max_train_size=None, n_splits=17, test_size=30),\n",
      "             estimator=SVDPLS(scale=False), n_jobs=4,\n",
      "             param_grid={'n_components': [1, 2, 3, 4, 5, 6, 7, 8, 9, 10, 11, 12,\n",
      "                                          13, 14, 15]},\n",
      "             scoring='neg_root_mean_squared_error')\n"
     ]
    },
    {
     "name": "stdout",
     "output_type": "stream",
     "text": [
      "CV elapsed time: 383.15s\n",
      "best parameter:  {'n_components': 3} ; score:   7.6303875e+00\n"
     ]
    }
   ],
   "source": [
    "import Code.SVDPLS\n",
    "importlib.reload(Code.SVDPLS)\n",
    "from Code.SVDPLS import SVDPLS\n",
    "\n",
    "n_comp_lst=list(range(1,16))\n",
    "parameters = {'n_components':n_comp_lst}\n",
    "clf = GridSearchCV(SVDPLS(scale=False), parameters,\n",
    "                   cv=tscv, n_jobs=4, # verbose=3,  \n",
    "                   scoring='neg_root_mean_squared_error')\n",
    "print(clf)\n",
    "tim.tic()\n",
    "clf.fit(X_train, Y_train)\n",
    "print(\"CV elapsed time: {:.2f}s\".format(tim.tocvalue()))\n",
    "print(\"best parameter: \", clf.best_params_,\n",
    "      \"; score: {:15.7e}\".format(-1.*clf.best_score_))"
   ]
  },
  {
   "cell_type": "code",
   "execution_count": 7,
   "id": "4e261372-cd8a-46bb-9489-ac8b8b999c00",
   "metadata": {
    "collapsed": false,
    "jupyter": {
     "outputs_hidden": false
    }
   },
   "outputs": [
    {
     "name": "stdout",
     "output_type": "stream",
     "text": [
      "GridSearchCV(cv=TimeSeriesSplit(gap=0, max_train_size=None, n_splits=17, test_size=30),\n",
      "             estimator=SIMPLS(), n_jobs=4,\n",
      "             param_grid={'n_components': [1, 2, 3, 4, 5, 6, 7, 8, 9, 10, 11, 12,\n",
      "                                          13, 14, 15]},\n",
      "             scoring='neg_root_mean_squared_error', verbose=3)\n",
      "Fitting 17 folds for each of 15 candidates, totalling 255 fits\n"
     ]
    },
    {
     "name": "stdout",
     "output_type": "stream",
     "text": [
      "CV elapsed time: 125.33s\n",
      "best parameter:  {'n_components': 11} ; score:   7.1476354e+00\n"
     ]
    },
    {
     "name": "stdout",
     "output_type": "stream",
     "text": [
      "[CV 4/17] END ..................n_components=1;, score=-8.725 total time=   0.5s\n",
      "[CV 7/17] END ..................n_components=1;, score=-9.690 total time=   0.6s\n",
      "[CV 11/17] END .................n_components=1;, score=-8.143 total time=   0.7s\n",
      "[CV 15/17] END .................n_components=1;, score=-6.521 total time=   0.7s\n",
      "[CV 2/17] END ..................n_components=2;, score=-6.178 total time=   0.7s\n",
      "[CV 7/17] END ..................n_components=2;, score=-9.561 total time=   0.8s\n",
      "[CV 11/17] END .................n_components=2;, score=-7.744 total time=   0.7s\n",
      "[CV 14/17] END .................n_components=2;, score=-5.873 total time=   0.9s\n",
      "[CV 1/17] END ..................n_components=3;, score=-4.679 total time=   0.8s\n",
      "[CV 4/17] END ..................n_components=3;, score=-7.498 total time=   0.8s\n",
      "[CV 8/17] END ..................n_components=3;, score=-8.652 total time=   0.8s\n",
      "[CV 12/17] END .................n_components=3;, score=-7.229 total time=   1.2s\n",
      "[CV 16/17] END .................n_components=3;, score=-7.598 total time=   1.2s\n",
      "[CV 3/17] END ..................n_components=4;, score=-6.039 total time=   1.2s\n",
      "[CV 7/17] END .................n_components=4;, score=-10.145 total time=   1.0s\n",
      "[CV 11/17] END .................n_components=4;, score=-7.734 total time=   1.3s\n",
      "[CV 16/17] END .................n_components=4;, score=-7.292 total time=   1.3s\n",
      "[CV 3/17] END ..................n_components=5;, score=-6.187 total time=   1.2s\n",
      "[CV 7/17] END .................n_components=5;, score=-10.207 total time=   1.2s\n",
      "[CV 11/17] END .................n_components=5;, score=-7.747 total time=   1.6s\n",
      "[CV 15/17] END .................n_components=5;, score=-6.084 total time=   1.5s\n",
      "[CV 1/17] END ..................n_components=6;, score=-5.046 total time=   1.3s\n",
      "[CV 5/17] END ..................n_components=6;, score=-8.218 total time=   1.6s\n",
      "[CV 9/17] END ..................n_components=6;, score=-8.623 total time=   1.6s\n",
      "[CV 13/17] END .................n_components=6;, score=-5.310 total time=   1.5s\n",
      "[CV 17/17] END .................n_components=6;, score=-7.164 total time=   1.8s\n",
      "[CV 4/17] END ..................n_components=7;, score=-7.113 total time=   1.7s\n",
      "[CV 9/17] END ..................n_components=7;, score=-8.822 total time=   2.0s\n",
      "[CV 13/17] END .................n_components=7;, score=-5.231 total time=   1.9s\n",
      "[CV 1/17] END ..................n_components=8;, score=-5.146 total time=   1.5s\n",
      "[CV 4/17] END ..................n_components=8;, score=-6.869 total time=   1.8s\n",
      "[CV 8/17] END ..................n_components=8;, score=-8.801 total time=   1.8s\n",
      "[CV 13/17] END .................n_components=8;, score=-5.161 total time=   2.0s\n",
      "[CV 17/17] END .................n_components=8;, score=-6.849 total time=   2.5s\n",
      "[CV 4/17] END ..................n_components=9;, score=-7.139 total time=   2.4s\n",
      "[CV 8/17] END ..................n_components=9;, score=-8.909 total time=   2.2s\n",
      "[CV 12/17] END .................n_components=9;, score=-6.983 total time=   2.1s\n",
      "[CV 16/17] END .................n_components=9;, score=-7.263 total time=   2.2s\n",
      "[CV 3/17] END .................n_components=10;, score=-5.944 total time=   2.1s\n",
      "[CV 7/17] END .................n_components=10;, score=-9.453 total time=   2.3s\n",
      "[CV 11/17] END ................n_components=10;, score=-7.817 total time=   2.1s\n",
      "[CV 15/17] END ................n_components=10;, score=-6.080 total time=   2.5s\n",
      "[CV 2/17] END .................n_components=11;, score=-5.314 total time=   2.2s\n",
      "[CV 7/17] END .................n_components=11;, score=-9.236 total time=   2.3s\n",
      "[CV 10/17] END ................n_components=11;, score=-9.611 total time=   2.6s\n",
      "[CV 15/17] END ................n_components=11;, score=-6.105 total time=   2.6s\n",
      "[CV 2/17] END .................n_components=12;, score=-5.381 total time=   2.5s\n",
      "[CV 6/17] END .................n_components=12;, score=-8.315 total time=   2.6s\n",
      "[CV 10/17] END ................n_components=12;, score=-9.552 total time=   2.6s\n",
      "[CV 14/17] END ................n_components=12;, score=-5.348 total time=   3.0s\n",
      "[CV 1/17] END .................n_components=13;, score=-5.148 total time=   3.1s\n",
      "[CV 5/17] END .................n_components=13;, score=-8.190 total time=   3.1s\n",
      "[CV 10/17] END ................n_components=13;, score=-9.475 total time=   3.1s\n",
      "[CV 14/17] END ................n_components=13;, score=-5.354 total time=   2.9s\n",
      "[CV 1/17] END .................n_components=14;, score=-5.240 total time=   3.1s\n",
      "[CV 5/17] END .................n_components=14;, score=-8.509 total time=   2.9s\n",
      "[CV 9/17] END .................n_components=14;, score=-8.997 total time=   3.7s\n",
      "[CV 14/17] END ................n_components=14;, score=-5.586 total time=   3.6s\n",
      "[CV 1/17] END .................n_components=15;, score=-5.327 total time=   3.6s\n",
      "[CV 5/17] END .................n_components=15;, score=-8.676 total time=   3.4s\n",
      "[CV 9/17] END .................n_components=15;, score=-8.982 total time=   3.5s\n",
      "[CV 14/17] END ................n_components=15;, score=-5.616 total time=   3.6s\n"
     ]
    },
    {
     "name": "stdout",
     "output_type": "stream",
     "text": [
      "[CV 2/17] END ..................n_components=1;, score=-6.456 total time=   0.4s\n",
      "[CV 6/17] END ..................n_components=1;, score=-8.386 total time=   0.5s\n",
      "[CV 9/17] END ..................n_components=1;, score=-9.031 total time=   0.6s\n",
      "[CV 13/17] END .................n_components=1;, score=-5.201 total time=   0.7s\n",
      "[CV 17/17] END .................n_components=1;, score=-7.873 total time=   0.7s\n",
      "[CV 4/17] END ..................n_components=2;, score=-8.561 total time=   0.7s\n",
      "[CV 9/17] END ..................n_components=2;, score=-8.384 total time=   0.8s\n",
      "[CV 13/17] END .................n_components=2;, score=-5.134 total time=   0.9s\n",
      "[CV 17/17] END .................n_components=2;, score=-7.582 total time=   1.0s\n",
      "[CV 5/17] END ..................n_components=3;, score=-8.061 total time=   1.0s\n",
      "[CV 9/17] END ..................n_components=3;, score=-8.501 total time=   0.9s\n",
      "[CV 13/17] END .................n_components=3;, score=-5.210 total time=   1.0s\n",
      "[CV 17/17] END .................n_components=3;, score=-7.022 total time=   1.2s\n",
      "[CV 4/17] END ..................n_components=4;, score=-7.400 total time=   1.0s\n",
      "[CV 8/17] END ..................n_components=4;, score=-8.886 total time=   1.1s\n",
      "[CV 12/17] END .................n_components=4;, score=-7.054 total time=   1.1s\n",
      "[CV 15/17] END .................n_components=4;, score=-6.230 total time=   1.2s\n",
      "[CV 2/17] END ..................n_components=5;, score=-5.911 total time=   1.2s\n",
      "[CV 6/17] END ..................n_components=5;, score=-8.574 total time=   1.2s\n",
      "[CV 9/17] END ..................n_components=5;, score=-8.537 total time=   1.5s\n",
      "[CV 14/17] END .................n_components=5;, score=-5.692 total time=   1.8s\n",
      "[CV 2/17] END ..................n_components=6;, score=-6.009 total time=   1.7s\n",
      "[CV 6/17] END ..................n_components=6;, score=-8.580 total time=   1.8s\n",
      "[CV 12/17] END .................n_components=6;, score=-6.866 total time=   1.5s\n",
      "[CV 16/17] END .................n_components=6;, score=-6.791 total time=   1.6s\n",
      "[CV 2/17] END ..................n_components=7;, score=-5.941 total time=   1.4s\n",
      "[CV 5/17] END ..................n_components=7;, score=-8.231 total time=   1.3s\n",
      "[CV 8/17] END ..................n_components=7;, score=-8.467 total time=   1.8s\n",
      "[CV 12/17] END .................n_components=7;, score=-6.880 total time=   1.7s\n",
      "[CV 16/17] END .................n_components=7;, score=-6.999 total time=   1.9s\n",
      "[CV 3/17] END ..................n_components=8;, score=-6.015 total time=   2.0s\n",
      "[CV 7/17] END ..................n_components=8;, score=-9.867 total time=   1.8s\n",
      "[CV 11/17] END .................n_components=8;, score=-7.529 total time=   1.7s\n",
      "[CV 15/17] END .................n_components=8;, score=-5.936 total time=   2.0s\n",
      "[CV 3/17] END ..................n_components=9;, score=-6.118 total time=   1.7s\n",
      "[CV 5/17] END ..................n_components=9;, score=-8.117 total time=   2.1s\n",
      "[CV 10/17] END .................n_components=9;, score=-9.668 total time=   2.0s\n",
      "[CV 13/17] END .................n_components=9;, score=-4.917 total time=   2.0s\n",
      "[CV 17/17] END .................n_components=9;, score=-7.331 total time=   2.3s\n",
      "[CV 5/17] END .................n_components=10;, score=-8.108 total time=   2.4s\n",
      "[CV 10/17] END ................n_components=10;, score=-9.648 total time=   2.0s\n",
      "[CV 14/17] END ................n_components=10;, score=-5.612 total time=   2.1s\n",
      "[CV 17/17] END ................n_components=10;, score=-7.333 total time=   2.4s\n",
      "[CV 5/17] END .................n_components=11;, score=-7.955 total time=   2.4s\n",
      "[CV 9/17] END .................n_components=11;, score=-8.854 total time=   2.2s\n",
      "[CV 12/17] END ................n_components=11;, score=-7.429 total time=   2.6s\n",
      "[CV 16/17] END ................n_components=11;, score=-6.787 total time=   2.7s\n",
      "[CV 3/17] END .................n_components=12;, score=-5.812 total time=   2.6s\n",
      "[CV 7/17] END .................n_components=12;, score=-9.269 total time=   2.5s\n",
      "[CV 11/17] END ................n_components=12;, score=-7.781 total time=   2.8s\n",
      "[CV 15/17] END ................n_components=12;, score=-6.081 total time=   2.8s\n",
      "[CV 2/17] END .................n_components=13;, score=-5.594 total time=   2.7s\n",
      "[CV 6/17] END .................n_components=13;, score=-8.007 total time=   2.7s\n",
      "[CV 9/17] END .................n_components=13;, score=-9.062 total time=   2.8s\n",
      "[CV 13/17] END ................n_components=13;, score=-5.092 total time=   2.7s\n",
      "[CV 17/17] END ................n_components=13;, score=-7.504 total time=   2.9s\n",
      "[CV 4/17] END .................n_components=14;, score=-6.778 total time=   3.2s\n",
      "[CV 8/17] END .................n_components=14;, score=-8.427 total time=   3.1s\n",
      "[CV 12/17] END ................n_components=14;, score=-7.484 total time=   3.2s\n",
      "[CV 16/17] END ................n_components=14;, score=-6.925 total time=   3.2s\n",
      "[CV 3/17] END .................n_components=15;, score=-6.004 total time=   3.1s\n",
      "[CV 7/17] END .................n_components=15;, score=-9.450 total time=   3.0s\n",
      "[CV 11/17] END ................n_components=15;, score=-7.906 total time=   3.3s\n",
      "[CV 15/17] END ................n_components=15;, score=-6.192 total time=   3.3s\n"
     ]
    },
    {
     "name": "stdout",
     "output_type": "stream",
     "text": [
      "[CV 1/17] END ..................n_components=1;, score=-4.912 total time=   0.4s\n",
      "[CV 5/17] END ..................n_components=1;, score=-8.666 total time=   0.6s\n",
      "[CV 10/17] END ................n_components=1;, score=-10.735 total time=   0.7s\n",
      "[CV 14/17] END .................n_components=1;, score=-6.098 total time=   0.8s\n",
      "[CV 1/17] END ..................n_components=2;, score=-4.729 total time=   0.6s\n",
      "[CV 5/17] END ..................n_components=2;, score=-8.772 total time=   0.6s\n",
      "[CV 8/17] END ..................n_components=2;, score=-8.854 total time=   0.8s\n",
      "[CV 12/17] END .................n_components=2;, score=-7.343 total time=   0.8s\n",
      "[CV 16/17] END .................n_components=2;, score=-7.637 total time=   0.9s\n",
      "[CV 3/17] END ..................n_components=3;, score=-6.069 total time=   0.9s\n",
      "[CV 7/17] END ..................n_components=3;, score=-9.876 total time=   0.9s\n",
      "[CV 11/17] END .................n_components=3;, score=-7.884 total time=   0.9s\n",
      "[CV 14/17] END .................n_components=3;, score=-5.856 total time=   0.8s\n",
      "[CV 1/17] END ..................n_components=4;, score=-4.562 total time=   1.0s\n",
      "[CV 5/17] END ..................n_components=4;, score=-8.210 total time=   1.1s\n",
      "[CV 9/17] END ..................n_components=4;, score=-8.588 total time=   1.2s\n",
      "[CV 13/17] END .................n_components=4;, score=-5.082 total time=   1.4s\n",
      "[CV 17/17] END .................n_components=4;, score=-7.092 total time=   1.6s\n",
      "[CV 4/17] END ..................n_components=5;, score=-7.045 total time=   1.4s\n",
      "[CV 8/17] END ..................n_components=5;, score=-9.010 total time=   1.2s\n",
      "[CV 12/17] END .................n_components=5;, score=-6.897 total time=   1.4s\n",
      "[CV 16/17] END .................n_components=5;, score=-6.946 total time=   1.5s\n",
      "[CV 3/17] END ..................n_components=6;, score=-6.340 total time=   1.4s\n",
      "[CV 7/17] END .................n_components=6;, score=-10.335 total time=   1.5s\n",
      "[CV 11/17] END .................n_components=6;, score=-7.593 total time=   1.5s\n",
      "[CV 15/17] END .................n_components=6;, score=-6.071 total time=   1.7s\n",
      "[CV 3/17] END ..................n_components=7;, score=-6.303 total time=   1.7s\n",
      "[CV 7/17] END .................n_components=7;, score=-10.113 total time=   1.7s\n",
      "[CV 11/17] END .................n_components=7;, score=-7.636 total time=   1.6s\n",
      "[CV 14/17] END .................n_components=7;, score=-5.738 total time=   1.8s\n",
      "[CV 17/17] END .................n_components=7;, score=-7.112 total time=   2.1s\n",
      "[CV 6/17] END ..................n_components=8;, score=-9.010 total time=   1.9s\n",
      "[CV 10/17] END .................n_components=8;, score=-9.634 total time=   2.2s\n",
      "[CV 14/17] END .................n_components=8;, score=-5.618 total time=   2.1s\n",
      "[CV 1/17] END ..................n_components=9;, score=-4.990 total time=   2.3s\n",
      "[CV 6/17] END ..................n_components=9;, score=-8.623 total time=   2.0s\n",
      "[CV 9/17] END ..................n_components=9;, score=-8.543 total time=   2.0s\n",
      "[CV 14/17] END .................n_components=9;, score=-5.288 total time=   2.2s\n",
      "[CV 2/17] END .................n_components=10;, score=-5.276 total time=   1.8s\n",
      "[CV 4/17] END .................n_components=10;, score=-6.978 total time=   2.3s\n",
      "[CV 9/17] END .................n_components=10;, score=-8.755 total time=   2.1s\n",
      "[CV 13/17] END ................n_components=10;, score=-4.928 total time=   2.4s\n",
      "[CV 1/17] END .................n_components=11;, score=-4.801 total time=   2.1s\n",
      "[CV 3/17] END .................n_components=11;, score=-5.953 total time=   2.2s\n",
      "[CV 6/17] END .................n_components=11;, score=-8.320 total time=   2.4s\n",
      "[CV 11/17] END ................n_components=11;, score=-7.829 total time=   2.1s\n",
      "[CV 14/17] END ................n_components=11;, score=-5.641 total time=   1.9s\n",
      "[CV 1/17] END .................n_components=12;, score=-4.792 total time=   2.5s\n",
      "[CV 5/17] END .................n_components=12;, score=-7.992 total time=   2.5s\n",
      "[CV 9/17] END .................n_components=12;, score=-9.095 total time=   2.5s\n",
      "[CV 12/17] END ................n_components=12;, score=-7.652 total time=   2.6s\n",
      "[CV 16/17] END ................n_components=12;, score=-7.312 total time=   2.5s\n",
      "[CV 3/17] END .................n_components=13;, score=-5.784 total time=   2.8s\n",
      "[CV 7/17] END .................n_components=13;, score=-9.367 total time=   2.9s\n",
      "[CV 11/17] END ................n_components=13;, score=-7.836 total time=   2.9s\n",
      "[CV 15/17] END ................n_components=13;, score=-6.028 total time=   3.2s\n",
      "[CV 2/17] END .................n_components=14;, score=-5.584 total time=   2.7s\n",
      "[CV 6/17] END .................n_components=14;, score=-7.892 total time=   2.9s\n",
      "[CV 10/17] END ................n_components=14;, score=-9.353 total time=   3.1s\n",
      "[CV 13/17] END ................n_components=14;, score=-5.011 total time=   2.7s\n",
      "[CV 17/17] END ................n_components=14;, score=-7.543 total time=   3.0s\n",
      "[CV 4/17] END .................n_components=15;, score=-6.718 total time=   3.3s\n",
      "[CV 8/17] END .................n_components=15;, score=-8.386 total time=   4.0s\n",
      "[CV 12/17] END ................n_components=15;, score=-7.550 total time=   3.2s\n",
      "[CV 16/17] END ................n_components=15;, score=-6.997 total time=   2.5s\n"
     ]
    },
    {
     "name": "stdout",
     "output_type": "stream",
     "text": [
      "[CV 3/17] END ..................n_components=1;, score=-6.582 total time=   0.6s\n",
      "[CV 8/17] END ..................n_components=1;, score=-9.513 total time=   0.6s\n",
      "[CV 12/17] END .................n_components=1;, score=-7.416 total time=   0.7s\n",
      "[CV 16/17] END .................n_components=1;, score=-8.093 total time=   0.7s\n",
      "[CV 3/17] END ..................n_components=2;, score=-6.404 total time=   0.6s\n",
      "[CV 6/17] END ..................n_components=2;, score=-8.166 total time=   0.8s\n",
      "[CV 10/17] END ................n_components=2;, score=-10.197 total time=   0.8s\n",
      "[CV 15/17] END .................n_components=2;, score=-6.449 total time=   0.9s\n",
      "[CV 2/17] END ..................n_components=3;, score=-5.883 total time=   0.9s\n",
      "[CV 6/17] END ..................n_components=3;, score=-8.717 total time=   1.1s\n",
      "[CV 10/17] END ................n_components=3;, score=-10.146 total time=   1.2s\n",
      "[CV 15/17] END .................n_components=3;, score=-6.382 total time=   1.3s\n",
      "[CV 2/17] END ..................n_components=4;, score=-5.900 total time=   1.1s\n",
      "[CV 6/17] END ..................n_components=4;, score=-8.309 total time=   1.3s\n",
      "[CV 10/17] END .................n_components=4;, score=-9.902 total time=   1.2s\n",
      "[CV 14/17] END .................n_components=4;, score=-5.896 total time=   1.2s\n",
      "[CV 1/17] END ..................n_components=5;, score=-4.859 total time=   1.3s\n",
      "[CV 5/17] END ..................n_components=5;, score=-8.326 total time=   1.4s\n",
      "[CV 10/17] END .................n_components=5;, score=-9.893 total time=   1.2s\n",
      "[CV 13/17] END .................n_components=5;, score=-5.273 total time=   1.3s\n",
      "[CV 17/17] END .................n_components=5;, score=-7.194 total time=   1.5s\n",
      "[CV 4/17] END ..................n_components=6;, score=-6.914 total time=   1.3s\n",
      "[CV 8/17] END ..................n_components=6;, score=-8.614 total time=   1.3s\n",
      "[CV 10/17] END .................n_components=6;, score=-9.730 total time=   1.6s\n",
      "[CV 14/17] END .................n_components=6;, score=-5.735 total time=   1.6s\n",
      "[CV 1/17] END ..................n_components=7;, score=-5.056 total time=   1.5s\n",
      "[CV 6/17] END ..................n_components=7;, score=-8.890 total time=   1.8s\n",
      "[CV 10/17] END .................n_components=7;, score=-9.494 total time=   1.8s\n",
      "[CV 15/17] END .................n_components=7;, score=-6.038 total time=   1.9s\n",
      "[CV 2/17] END ..................n_components=8;, score=-5.498 total time=   1.6s\n",
      "[CV 5/17] END ..................n_components=8;, score=-8.396 total time=   1.7s\n",
      "[CV 9/17] END ..................n_components=8;, score=-8.614 total time=   1.6s\n",
      "[CV 12/17] END .................n_components=8;, score=-7.091 total time=   1.9s\n",
      "[CV 16/17] END .................n_components=8;, score=-7.217 total time=   1.6s\n",
      "[CV 2/17] END ..................n_components=9;, score=-5.543 total time=   1.9s\n",
      "[CV 7/17] END ..................n_components=9;, score=-9.463 total time=   2.0s\n",
      "[CV 11/17] END .................n_components=9;, score=-7.818 total time=   2.0s\n",
      "[CV 15/17] END .................n_components=9;, score=-6.363 total time=   2.1s\n",
      "[CV 1/17] END .................n_components=10;, score=-4.789 total time=   2.1s\n",
      "[CV 6/17] END .................n_components=10;, score=-8.157 total time=   1.9s\n",
      "[CV 8/17] END .................n_components=10;, score=-8.719 total time=   2.1s\n",
      "[CV 12/17] END ................n_components=10;, score=-7.339 total time=   2.3s\n",
      "[CV 16/17] END ................n_components=10;, score=-6.881 total time=   2.6s\n",
      "[CV 4/17] END .................n_components=11;, score=-6.909 total time=   2.3s\n",
      "[CV 8/17] END .................n_components=11;, score=-8.412 total time=   2.6s\n",
      "[CV 13/17] END ................n_components=11;, score=-4.956 total time=   2.7s\n",
      "[CV 17/17] END ................n_components=11;, score=-7.397 total time=   3.2s\n",
      "[CV 4/17] END .................n_components=12;, score=-6.965 total time=   2.7s\n",
      "[CV 8/17] END .................n_components=12;, score=-8.314 total time=   2.9s\n",
      "[CV 13/17] END ................n_components=12;, score=-5.087 total time=   2.9s\n",
      "[CV 17/17] END ................n_components=12;, score=-7.486 total time=   3.3s\n",
      "[CV 4/17] END .................n_components=13;, score=-6.890 total time=   2.2s\n",
      "[CV 8/17] END .................n_components=13;, score=-8.293 total time=   2.8s\n",
      "[CV 12/17] END ................n_components=13;, score=-7.660 total time=   2.7s\n",
      "[CV 16/17] END ................n_components=13;, score=-7.098 total time=   3.1s\n",
      "[CV 3/17] END .................n_components=14;, score=-5.961 total time=   3.1s\n",
      "[CV 7/17] END .................n_components=14;, score=-9.377 total time=   3.1s\n",
      "[CV 11/17] END ................n_components=14;, score=-7.911 total time=   3.2s\n",
      "[CV 15/17] END ................n_components=14;, score=-6.153 total time=   3.2s\n",
      "[CV 2/17] END .................n_components=15;, score=-5.653 total time=   3.4s\n",
      "[CV 6/17] END .................n_components=15;, score=-7.887 total time=   3.5s\n",
      "[CV 10/17] END ................n_components=15;, score=-9.280 total time=   2.9s\n",
      "[CV 13/17] END ................n_components=15;, score=-4.910 total time=   3.3s\n",
      "[CV 17/17] END ................n_components=15;, score=-7.710 total time=   2.0s\n"
     ]
    }
   ],
   "source": [
    "import Code.SIMPLS\n",
    "importlib.reload(Code.SIMPLS)\n",
    "from Code.SIMPLS import SIMPLS\n",
    "\n",
    "n_comp_lst=list(range(1,16))\n",
    "parameters = {'n_components':n_comp_lst}\n",
    "clf = GridSearchCV(SIMPLS(),  parameters,\n",
    "                   cv=tscv, n_jobs=4, verbose=3,  \n",
    "                   scoring='neg_root_mean_squared_error')\n",
    "print(clf)\n",
    "tim.tic()\n",
    "clf.fit(X_train, Y_train)\n",
    "print(\"CV elapsed time: {:.2f}s\".format(tim.tocvalue()))\n",
    "print(\"best parameter: \", clf.best_params_,\n",
    "      \"; score: {:15.7e}\".format(-1.*clf.best_score_))\n"
   ]
  },
  {
   "cell_type": "code",
   "execution_count": 15,
   "id": "b4206cab-fa98-4e1f-af19-c3c4752fb99a",
   "metadata": {
    "collapsed": false
   },
   "outputs": [
    {
     "name": "stdout",
     "output_type": "stream",
     "text": [
      "params={'n_components': 1}, score=7.7670599e+00, elapsed time=3.9s\n"
     ]
    },
    {
     "name": "stdout",
     "output_type": "stream",
     "text": [
      "params={'n_components': 2}, score=7.5039548e+00, elapsed time=5.8s\n"
     ]
    },
    {
     "name": "stdout",
     "output_type": "stream",
     "text": [
      "params={'n_components': 3}, score=7.3682301e+00, elapsed time=6.7s\n"
     ]
    },
    {
     "name": "stdout",
     "output_type": "stream",
     "text": [
      "params={'n_components': 4}, score=7.3129378e+00, elapsed time=8.0s\n"
     ]
    },
    {
     "name": "stdout",
     "output_type": "stream",
     "text": [
      "params={'n_components': 5}, score=7.3165210e+00, elapsed time=10.7s\n"
     ]
    },
    {
     "name": "stdout",
     "output_type": "stream",
     "text": [
      "params={'n_components': 6}, score=7.2905419e+00, elapsed time=10.8s\n"
     ]
    },
    {
     "name": "stdout",
     "output_type": "stream",
     "text": [
      "params={'n_components': 7}, score=7.2979135e+00, elapsed time=13.4s\n"
     ]
    },
    {
     "name": "stdout",
     "output_type": "stream",
     "text": [
      "params={'n_components': 8}, score=7.2500481e+00, elapsed time=13.8s\n"
     ]
    },
    {
     "name": "stdout",
     "output_type": "stream",
     "text": [
      "params={'n_components': 9}, score=7.2397482e+00, elapsed time=15.5s\n"
     ]
    },
    {
     "name": "stdout",
     "output_type": "stream",
     "text": [
      "params={'n_components': 10}, score=7.1656709e+00, elapsed time=18.2s\n"
     ]
    },
    {
     "name": "stdout",
     "output_type": "stream",
     "text": [
      "params={'n_components': 11}, score=7.1476354e+00, elapsed time=19.4s\n"
     ]
    },
    {
     "name": "stdout",
     "output_type": "stream",
     "text": [
      "params={'n_components': 12}, score=7.1902018e+00, elapsed time=21.0s\n"
     ]
    },
    {
     "name": "stdout",
     "output_type": "stream",
     "text": [
      "params={'n_components': 13}, score=7.1989453e+00, elapsed time=23.3s\n"
     ]
    },
    {
     "name": "stdout",
     "output_type": "stream",
     "text": [
      "params={'n_components': 14}, score=7.2195319e+00, elapsed time=25.5s\n"
     ]
    },
    {
     "name": "stdout",
     "output_type": "stream",
     "text": [
      "params={'n_components': 15}, score=7.2495417e+00, elapsed time=26.3s\n",
      "\n",
      "best parameter: {'n_components': 11}; score: 7.1476354e+00; total time=222.2s\n"
     ]
    }
   ],
   "source": [
    "import Code.ISIMPLS\n",
    "importlib.reload(Code.ISIMPLS)\n",
    "from Code.ISIMPLS import ISIMPLS2 as ISIMPLS\n",
    "\n",
    "scores = []\n",
    "params = []\n",
    "n_comp_list=list(range(1,16))\n",
    "\n",
    "tim_tot.tic()\n",
    "for n_comp in n_comp_list:\n",
    "    tim.tic()\n",
    "    pls=ISIMPLS(n_components=n_comp)\n",
    "    scores.append(Comp_Model_Score(pls, RollingCV(tscv,X_train), X_train, Y_train) )\n",
    "    params.append({'n_components': n_comp})\n",
    "    print(f\"params={params[-1]}, score={scores[-1]:.7e}, \"\n",
    "          +f\"elapsed time={tim.tocvalue():.1f}s\")\n",
    "\n",
    "best_ind = np.nanargmin(scores)\n",
    "print(\"\")\n",
    "print(f\"best parameter: {params[best_ind]}; score: {scores[best_ind]:.7e}; \"\n",
    "      + f\"total time={tim_tot.tocvalue():.1f}s\")\n"
   ]
  },
  {
   "cell_type": "code",
   "execution_count": 21,
   "id": "0bc4a6fe-0a7b-4fd2-968b-31386fb12995",
   "metadata": {
    "collapsed": false
   },
   "outputs": [
    {
     "name": "stdout",
     "output_type": "stream",
     "text": [
      "mu: [1e-05, 1e-06, 1e-07, 1e-08]\n",
      "amnesic: [0.01, 0.1, 0.2, 0.30000000000000004, 0.4, 0.5, 0.6, 0.7000000000000001, 0.8, 0.9, 0.99]\n"
     ]
    },
    {
     "name": "stdout",
     "output_type": "stream",
     "text": [
      "params={'mu': 1e-05, 'amnesic': 0.01}, score=nan, elapsed time=25.3s\n"
     ]
    },
    {
     "name": "stdout",
     "output_type": "stream",
     "text": [
      "params={'mu': 1e-05, 'amnesic': 0.1}, score=nan, elapsed time=25.3s\n"
     ]
    },
    {
     "name": "stdout",
     "output_type": "stream",
     "text": [
      "params={'mu': 1e-05, 'amnesic': 0.2}, score=nan, elapsed time=25.3s\n"
     ]
    },
    {
     "name": "stdout",
     "output_type": "stream",
     "text": [
      "params={'mu': 1e-05, 'amnesic': 0.30000000000000004}, score=nan, elapsed time=25.3s\n"
     ]
    },
    {
     "name": "stdout",
     "output_type": "stream",
     "text": [
      "params={'mu': 1e-05, 'amnesic': 0.4}, score=nan, elapsed time=25.3s\n"
     ]
    },
    {
     "name": "stdout",
     "output_type": "stream",
     "text": [
      "params={'mu': 1e-05, 'amnesic': 0.5}, score=nan, elapsed time=25.3s\n"
     ]
    },
    {
     "name": "stdout",
     "output_type": "stream",
     "text": [
      "params={'mu': 1e-05, 'amnesic': 0.6}, score=nan, elapsed time=25.3s\n"
     ]
    },
    {
     "name": "stdout",
     "output_type": "stream",
     "text": [
      "params={'mu': 1e-05, 'amnesic': 0.7000000000000001}, score=nan, elapsed time=25.3s\n"
     ]
    },
    {
     "name": "stdout",
     "output_type": "stream",
     "text": [
      "params={'mu': 1e-05, 'amnesic': 0.8}, score=nan, elapsed time=25.3s\n"
     ]
    },
    {
     "name": "stdout",
     "output_type": "stream",
     "text": [
      "params={'mu': 1e-05, 'amnesic': 0.9}, score=nan, elapsed time=25.3s\n"
     ]
    },
    {
     "name": "stdout",
     "output_type": "stream",
     "text": [
      "params={'mu': 1e-05, 'amnesic': 0.99}, score=nan, elapsed time=25.2s\n"
     ]
    },
    {
     "name": "stdout",
     "output_type": "stream",
     "text": [
      "params={'mu': 1e-06, 'amnesic': 0.01}, score=nan, elapsed time=25.3s\n"
     ]
    },
    {
     "name": "stdout",
     "output_type": "stream",
     "text": [
      "params={'mu': 1e-06, 'amnesic': 0.1}, score=nan, elapsed time=25.3s\n"
     ]
    },
    {
     "name": "stdout",
     "output_type": "stream",
     "text": [
      "params={'mu': 1e-06, 'amnesic': 0.2}, score=nan, elapsed time=25.3s\n"
     ]
    },
    {
     "name": "stdout",
     "output_type": "stream",
     "text": [
      "params={'mu': 1e-06, 'amnesic': 0.30000000000000004}, score=nan, elapsed time=25.3s\n"
     ]
    },
    {
     "name": "stdout",
     "output_type": "stream",
     "text": [
      "params={'mu': 1e-06, 'amnesic': 0.4}, score=nan, elapsed time=25.3s\n"
     ]
    },
    {
     "name": "stdout",
     "output_type": "stream",
     "text": [
      "params={'mu': 1e-06, 'amnesic': 0.5}, score=nan, elapsed time=25.3s\n"
     ]
    },
    {
     "name": "stdout",
     "output_type": "stream",
     "text": [
      "params={'mu': 1e-06, 'amnesic': 0.6}, score=nan, elapsed time=25.3s\n"
     ]
    },
    {
     "name": "stdout",
     "output_type": "stream",
     "text": [
      "params={'mu': 1e-06, 'amnesic': 0.7000000000000001}, score=nan, elapsed time=25.3s\n"
     ]
    },
    {
     "name": "stdout",
     "output_type": "stream",
     "text": [
      "params={'mu': 1e-06, 'amnesic': 0.8}, score=nan, elapsed time=25.3s\n"
     ]
    },
    {
     "name": "stdout",
     "output_type": "stream",
     "text": [
      "params={'mu': 1e-06, 'amnesic': 0.9}, score=nan, elapsed time=25.3s\n"
     ]
    },
    {
     "name": "stdout",
     "output_type": "stream",
     "text": [
      "params={'mu': 1e-06, 'amnesic': 0.99}, score=nan, elapsed time=25.3s\n"
     ]
    },
    {
     "name": "stdout",
     "output_type": "stream",
     "text": [
      "params={'mu': 1e-07, 'amnesic': 0.01}, score=nan, elapsed time=25.3s\n"
     ]
    },
    {
     "name": "stdout",
     "output_type": "stream",
     "text": [
      "params={'mu': 1e-07, 'amnesic': 0.1}, score=nan, elapsed time=25.3s\n"
     ]
    },
    {
     "name": "stdout",
     "output_type": "stream",
     "text": [
      "params={'mu': 1e-07, 'amnesic': 0.2}, score=nan, elapsed time=25.3s\n"
     ]
    },
    {
     "name": "stdout",
     "output_type": "stream",
     "text": [
      "params={'mu': 1e-07, 'amnesic': 0.30000000000000004}, score=nan, elapsed time=25.3s\n"
     ]
    },
    {
     "name": "stdout",
     "output_type": "stream",
     "text": [
      "params={'mu': 1e-07, 'amnesic': 0.4}, score=nan, elapsed time=25.3s\n"
     ]
    },
    {
     "name": "stdout",
     "output_type": "stream",
     "text": [
      "params={'mu': 1e-07, 'amnesic': 0.5}, score=nan, elapsed time=25.3s\n"
     ]
    },
    {
     "name": "stdout",
     "output_type": "stream",
     "text": [
      "params={'mu': 1e-07, 'amnesic': 0.6}, score=nan, elapsed time=25.3s\n"
     ]
    },
    {
     "name": "stdout",
     "output_type": "stream",
     "text": [
      "params={'mu': 1e-07, 'amnesic': 0.7000000000000001}, score=nan, elapsed time=25.3s\n"
     ]
    },
    {
     "name": "stdout",
     "output_type": "stream",
     "text": [
      "params={'mu': 1e-07, 'amnesic': 0.8}, score=nan, elapsed time=25.3s\n"
     ]
    },
    {
     "name": "stdout",
     "output_type": "stream",
     "text": [
      "params={'mu': 1e-07, 'amnesic': 0.9}, score=nan, elapsed time=25.3s\n"
     ]
    },
    {
     "name": "stdout",
     "output_type": "stream",
     "text": [
      "params={'mu': 1e-07, 'amnesic': 0.99}, score=nan, elapsed time=25.3s\n"
     ]
    },
    {
     "name": "stdout",
     "output_type": "stream",
     "text": [
      "params={'mu': 1e-08, 'amnesic': 0.01}, score=nan, elapsed time=25.3s\n"
     ]
    },
    {
     "name": "stdout",
     "output_type": "stream",
     "text": [
      "params={'mu': 1e-08, 'amnesic': 0.1}, score=nan, elapsed time=25.3s\n"
     ]
    },
    {
     "name": "stdout",
     "output_type": "stream",
     "text": [
      "params={'mu': 1e-08, 'amnesic': 0.2}, score=nan, elapsed time=25.3s\n"
     ]
    },
    {
     "name": "stdout",
     "output_type": "stream",
     "text": [
      "params={'mu': 1e-08, 'amnesic': 0.30000000000000004}, score=nan, elapsed time=25.3s\n"
     ]
    },
    {
     "name": "stdout",
     "output_type": "stream",
     "text": [
      "params={'mu': 1e-08, 'amnesic': 0.4}, score=nan, elapsed time=25.3s\n"
     ]
    },
    {
     "name": "stdout",
     "output_type": "stream",
     "text": [
      "params={'mu': 1e-08, 'amnesic': 0.5}, score=nan, elapsed time=45.9s\n"
     ]
    },
    {
     "name": "stdout",
     "output_type": "stream",
     "text": [
      "params={'mu': 1e-08, 'amnesic': 0.6}, score=nan, elapsed time=25.3s\n"
     ]
    },
    {
     "name": "stdout",
     "output_type": "stream",
     "text": [
      "params={'mu': 1e-08, 'amnesic': 0.7000000000000001}, score=nan, elapsed time=25.3s\n"
     ]
    },
    {
     "name": "stdout",
     "output_type": "stream",
     "text": [
      "params={'mu': 1e-08, 'amnesic': 0.8}, score=nan, elapsed time=45.9s\n"
     ]
    },
    {
     "name": "stdout",
     "output_type": "stream",
     "text": [
      "params={'mu': 1e-08, 'amnesic': 0.9}, score=9.0979664e+00, elapsed time=58.2s\n"
     ]
    },
    {
     "name": "stdout",
     "output_type": "stream",
     "text": [
      "params={'mu': 1e-08, 'amnesic': 0.99}, score=9.0464381e+00, elapsed time=58.2s\n",
      "\n",
      "best parameter: {'mu': 1e-08, 'amnesic': 0.99}; score: 9.0464381e+00, total time=1219.2s\n"
     ]
    }
   ],
   "source": [
    "import Code.OLPLS\n",
    "importlib.reload(Code.OLPLS)\n",
    "from Code.OLPLS import OLPLS\n",
    "# with t = np.dot(x, self.W[:, 0])\n",
    "scores = []\n",
    "params = []\n",
    "mu_list= [1e-5, 1e-6, 1e-7, 1e-8]\n",
    "amnesic_list= [1e-2] + list(np.arange(0.1,1.0,0.1)) + [0.99]\n",
    "print(f\"mu: {mu_list}\")\n",
    "print(f\"amnesic: {amnesic_list}\")\n",
    "\n",
    "tim_tot.tic()\n",
    "for mu in mu_list:\n",
    "    for amnesic in amnesic_list:\n",
    "        tim.tic()\n",
    "        pls=OLPLS(n_components=10, mu=mu, amnesic=amnesic)\n",
    "        scores.append(Comp_Model_Score(pls, RollingCV(tscv,X_train), X_train, Y_train) )\n",
    "        params.append({'mu': mu, 'amnesic': amnesic})\n",
    "        print(f\"params={params[-1]}, score={scores[-1]:.7e}, \"\n",
    "              +f\"elapsed time={tim.tocvalue():.1f}s\")\n",
    "\n",
    "best_ind = np.nanargmin(scores)\n",
    "print(\"\")\n",
    "print(f\"best parameter: {params[best_ind]}; score: {scores[best_ind]:.7e}, \"\n",
    "      +f\"total time={tim_tot.tocvalue():.1f}s\")"
   ]
  },
  {
   "cell_type": "code",
   "execution_count": 13,
   "id": "db20086a-8c45-41c7-901d-67b3623d97d6",
   "metadata": {
    "collapsed": false
   },
   "outputs": [
    {
     "name": "stdout",
     "output_type": "stream",
     "text": [
      "mu: [1e-08, 1e-09]\n",
      "amnesic: [0.01, 0.1, 0.2, 0.30000000000000004, 0.4, 0.5, 0.6, 0.7000000000000001, 0.8, 0.9, 0.99]\n"
     ]
    },
    {
     "name": "stdout",
     "output_type": "stream",
     "text": [
      "params={'mu': 1e-08, 'amnesic': 0.01}, score=nan, elapsed time=25.1s\n"
     ]
    },
    {
     "name": "stdout",
     "output_type": "stream",
     "text": [
      "params={'mu': 1e-08, 'amnesic': 0.1}, score=nan, elapsed time=25.0s\n"
     ]
    },
    {
     "name": "stdout",
     "output_type": "stream",
     "text": [
      "params={'mu': 1e-08, 'amnesic': 0.2}, score=nan, elapsed time=25.1s\n"
     ]
    },
    {
     "name": "stdout",
     "output_type": "stream",
     "text": [
      "params={'mu': 1e-08, 'amnesic': 0.30000000000000004}, score=nan, elapsed time=24.7s\n"
     ]
    },
    {
     "name": "stdout",
     "output_type": "stream",
     "text": [
      "params={'mu': 1e-08, 'amnesic': 0.4}, score=nan, elapsed time=24.6s\n"
     ]
    },
    {
     "name": "stdout",
     "output_type": "stream",
     "text": [
      "params={'mu': 1e-08, 'amnesic': 0.5}, score=nan, elapsed time=24.7s\n"
     ]
    },
    {
     "name": "stdout",
     "output_type": "stream",
     "text": [
      "params={'mu': 1e-08, 'amnesic': 0.6}, score=nan, elapsed time=24.7s\n"
     ]
    },
    {
     "name": "stdout",
     "output_type": "stream",
     "text": [
      "params={'mu': 1e-08, 'amnesic': 0.7000000000000001}, score=nan, elapsed time=24.7s\n"
     ]
    },
    {
     "name": "stdout",
     "output_type": "stream",
     "text": [
      "params={'mu': 1e-08, 'amnesic': 0.8}, score=nan, elapsed time=25.3s\n"
     ]
    },
    {
     "name": "stdout",
     "output_type": "stream",
     "text": [
      "params={'mu': 1e-08, 'amnesic': 0.9}, score=9.1031945e+00, elapsed time=58.0s\n"
     ]
    },
    {
     "name": "stdout",
     "output_type": "stream",
     "text": [
      "params={'mu': 1e-08, 'amnesic': 0.99}, score=9.0463859e+00, elapsed time=58.0s\n"
     ]
    },
    {
     "name": "stdout",
     "output_type": "stream",
     "text": [
      "params={'mu': 1e-09, 'amnesic': 0.01}, score=nan, elapsed time=45.4s\n"
     ]
    },
    {
     "name": "stdout",
     "output_type": "stream",
     "text": [
      "params={'mu': 1e-09, 'amnesic': 0.1}, score=nan, elapsed time=45.4s\n"
     ]
    },
    {
     "name": "stdout",
     "output_type": "stream",
     "text": [
      "params={'mu': 1e-09, 'amnesic': 0.2}, score=9.4643183e+00, elapsed time=57.8s\n"
     ]
    },
    {
     "name": "stdout",
     "output_type": "stream",
     "text": [
      "params={'mu': 1e-09, 'amnesic': 0.30000000000000004}, score=9.4635734e+00, elapsed time=57.9s\n"
     ]
    },
    {
     "name": "stdout",
     "output_type": "stream",
     "text": [
      "params={'mu': 1e-09, 'amnesic': 0.4}, score=9.4633926e+00, elapsed time=57.9s\n"
     ]
    },
    {
     "name": "stdout",
     "output_type": "stream",
     "text": [
      "params={'mu': 1e-09, 'amnesic': 0.5}, score=9.4630730e+00, elapsed time=57.3s\n"
     ]
    },
    {
     "name": "stdout",
     "output_type": "stream",
     "text": [
      "params={'mu': 1e-09, 'amnesic': 0.6}, score=9.4626534e+00, elapsed time=57.0s\n"
     ]
    },
    {
     "name": "stdout",
     "output_type": "stream",
     "text": [
      "params={'mu': 1e-09, 'amnesic': 0.7000000000000001}, score=9.4621936e+00, elapsed time=57.0s\n"
     ]
    },
    {
     "name": "stdout",
     "output_type": "stream",
     "text": [
      "params={'mu': 1e-09, 'amnesic': 0.8}, score=9.4616873e+00, elapsed time=57.0s\n"
     ]
    },
    {
     "name": "stdout",
     "output_type": "stream",
     "text": [
      "params={'mu': 1e-09, 'amnesic': 0.9}, score=9.4610525e+00, elapsed time=57.1s\n"
     ]
    },
    {
     "name": "stdout",
     "output_type": "stream",
     "text": [
      "params={'mu': 1e-09, 'amnesic': 0.99}, score=9.4575165e+00, elapsed time=57.0s\n",
      "\n",
      "best parameter: {'mu': 1e-08, 'amnesic': 0.99}; score: 9.0463859e+00, total time=946.8s\n"
     ]
    }
   ],
   "source": [
    "import Code.OLPLS\n",
    "importlib.reload(Code.OLPLS)\n",
    "from Code.OLPLS import OLPLS\n",
    "# with t = np.dot(x, self.W[:, 0])\n",
    "scores = []\n",
    "params = []\n",
    "mu_list= [1e-8, 1e-9]\n",
    "amnesic_list= [1e-2] + list(np.arange(0.1,1.0,0.1)) + [0.99]\n",
    "print(f\"mu: {mu_list}\")\n",
    "print(f\"amnesic: {amnesic_list}\")\n",
    "\n",
    "tim_tot.tic()\n",
    "for mu in mu_list:\n",
    "    for amnesic in amnesic_list:\n",
    "        tim.tic()\n",
    "        pls=OLPLS(n_components=10, mu=mu, amnesic=amnesic)\n",
    "        scores.append(Comp_Model_Score(pls, RollingCV(tscv,X_train), X_train, Y_train) )\n",
    "        params.append({'mu': mu, 'amnesic': amnesic})\n",
    "        print(f\"params={params[-1]}, score={scores[-1]:.7e}, \"\n",
    "              +f\"elapsed time={tim.tocvalue():.1f}s\")\n",
    "\n",
    "best_ind = np.nanargmin(scores)\n",
    "print(\"\")\n",
    "print(f\"best parameter: {params[best_ind]}; score: {scores[best_ind]:.7e}, \"\n",
    "      +f\"total time={tim_tot.tocvalue():.1f}s\")"
   ]
  },
  {
   "cell_type": "code",
   "execution_count": 10,
   "id": "6a27d50d-6ecc-461e-a00e-12c4997adc12",
   "metadata": {
    "collapsed": false
   },
   "outputs": [
    {
     "name": "stdout",
     "output_type": "stream",
     "text": [
      "eta: [0.0001, 1e-05, 1e-06, 1e-07]\n"
     ]
    },
    {
     "name": "stdout",
     "output_type": "stream",
     "text": [
      "params={'eta': 0.0001}, score=nan, elapsed time=1178.1s\n"
     ]
    },
    {
     "name": "stdout",
     "output_type": "stream",
     "text": [
      "params={'eta': 1e-05}, score=nan, elapsed time=1172.8s\n"
     ]
    },
    {
     "name": "stdout",
     "output_type": "stream",
     "text": [
      "params={'eta': 1e-06}, score=nan, elapsed time=1172.7s\n"
     ]
    },
    {
     "name": "stdout",
     "output_type": "stream",
     "text": [
      "params={'eta': 1e-07}, score=nan, elapsed time=1174.6s\n"
     ]
    },
    {
     "ename": "ValueError",
     "evalue": "All-NaN slice encountered",
     "output_type": "error",
     "traceback": [
      "\u001b[0;31m---------------------------------------------------------------------------\u001b[0m",
      "\u001b[0;31mValueError\u001b[0m                                Traceback (most recent call last)",
      "Cell \u001b[0;32mIn[10], line 19\u001b[0m\n\u001b[1;32m     15\u001b[0m     params\u001b[38;5;241m.\u001b[39mappend({\u001b[38;5;124m'\u001b[39m\u001b[38;5;124meta\u001b[39m\u001b[38;5;124m'\u001b[39m: eta})\n\u001b[1;32m     16\u001b[0m     \u001b[38;5;28mprint\u001b[39m(\u001b[38;5;124mf\u001b[39m\u001b[38;5;124m\"\u001b[39m\u001b[38;5;124mparams=\u001b[39m\u001b[38;5;132;01m{\u001b[39;00mparams[\u001b[38;5;241m-\u001b[39m\u001b[38;5;241m1\u001b[39m]\u001b[38;5;132;01m}\u001b[39;00m\u001b[38;5;124m, score=\u001b[39m\u001b[38;5;132;01m{\u001b[39;00mscores[\u001b[38;5;241m-\u001b[39m\u001b[38;5;241m1\u001b[39m]\u001b[38;5;132;01m:\u001b[39;00m\u001b[38;5;124m.7e\u001b[39m\u001b[38;5;132;01m}\u001b[39;00m\u001b[38;5;124m, \u001b[39m\u001b[38;5;124m\"\u001b[39m\n\u001b[1;32m     17\u001b[0m           \u001b[38;5;241m+\u001b[39m\u001b[38;5;124mf\u001b[39m\u001b[38;5;124m\"\u001b[39m\u001b[38;5;124melapsed time=\u001b[39m\u001b[38;5;132;01m{\u001b[39;00mtim\u001b[38;5;241m.\u001b[39mtocvalue()\u001b[38;5;132;01m:\u001b[39;00m\u001b[38;5;124m.1f\u001b[39m\u001b[38;5;132;01m}\u001b[39;00m\u001b[38;5;124ms\u001b[39m\u001b[38;5;124m\"\u001b[39m)\n\u001b[0;32m---> 19\u001b[0m best_ind \u001b[38;5;241m=\u001b[39m \u001b[43mnp\u001b[49m\u001b[38;5;241;43m.\u001b[39;49m\u001b[43mnanargmin\u001b[49m\u001b[43m(\u001b[49m\u001b[43mscores\u001b[49m\u001b[43m)\u001b[49m\n\u001b[1;32m     20\u001b[0m \u001b[38;5;28mprint\u001b[39m(\u001b[38;5;124m\"\u001b[39m\u001b[38;5;124m\"\u001b[39m)\n\u001b[1;32m     21\u001b[0m \u001b[38;5;28mprint\u001b[39m(\u001b[38;5;124mf\u001b[39m\u001b[38;5;124m\"\u001b[39m\u001b[38;5;124mbest parameter: \u001b[39m\u001b[38;5;132;01m{\u001b[39;00mparams[best_ind]\u001b[38;5;132;01m}\u001b[39;00m\u001b[38;5;124m; score: \u001b[39m\u001b[38;5;132;01m{\u001b[39;00mscores[best_ind]\u001b[38;5;132;01m:\u001b[39;00m\u001b[38;5;124m.7e\u001b[39m\u001b[38;5;132;01m}\u001b[39;00m\u001b[38;5;124m, \u001b[39m\u001b[38;5;124m\"\u001b[39m\n\u001b[1;32m     22\u001b[0m       \u001b[38;5;241m+\u001b[39m\u001b[38;5;124mf\u001b[39m\u001b[38;5;124m\"\u001b[39m\u001b[38;5;124mtotal time=\u001b[39m\u001b[38;5;132;01m{\u001b[39;00mtim_tot\u001b[38;5;241m.\u001b[39mtocvalue()\u001b[38;5;132;01m:\u001b[39;00m\u001b[38;5;124m.1f\u001b[39m\u001b[38;5;132;01m}\u001b[39;00m\u001b[38;5;124ms\u001b[39m\u001b[38;5;124m\"\u001b[39m)\n",
      "File \u001b[0;32m<__array_function__ internals>:180\u001b[0m, in \u001b[0;36mnanargmin\u001b[0;34m(*args, **kwargs)\u001b[0m\n",
      "File \u001b[0;32m~/.local/lib/python3.9/site-packages/numpy/lib/nanfunctions.py:553\u001b[0m, in \u001b[0;36mnanargmin\u001b[0;34m(a, axis, out, keepdims)\u001b[0m\n\u001b[1;32m    551\u001b[0m     mask \u001b[38;5;241m=\u001b[39m np\u001b[38;5;241m.\u001b[39mall(mask, axis\u001b[38;5;241m=\u001b[39maxis)\n\u001b[1;32m    552\u001b[0m     \u001b[38;5;28;01mif\u001b[39;00m np\u001b[38;5;241m.\u001b[39many(mask):\n\u001b[0;32m--> 553\u001b[0m         \u001b[38;5;28;01mraise\u001b[39;00m \u001b[38;5;167;01mValueError\u001b[39;00m(\u001b[38;5;124m\"\u001b[39m\u001b[38;5;124mAll-NaN slice encountered\u001b[39m\u001b[38;5;124m\"\u001b[39m)\n\u001b[1;32m    554\u001b[0m res \u001b[38;5;241m=\u001b[39m np\u001b[38;5;241m.\u001b[39margmin(a, axis\u001b[38;5;241m=\u001b[39maxis, out\u001b[38;5;241m=\u001b[39mout, keepdims\u001b[38;5;241m=\u001b[39mkeepdims)\n\u001b[1;32m    555\u001b[0m \u001b[38;5;28;01mreturn\u001b[39;00m res\n",
      "\u001b[0;31mValueError\u001b[0m: All-NaN slice encountered"
     ]
    }
   ],
   "source": [
    "import Code.SGDPLS\n",
    "importlib.reload(Code.SGDPLS)\n",
    "from Code.SGDPLS import SGDPLS\n",
    "\n",
    "scores = []\n",
    "params = []\n",
    "eta_list= [1e-4, 1e-5, 1e-6, 1e-7]\n",
    "print(f\"eta: {eta_list}\")\n",
    "\n",
    "tim_tot.tic()\n",
    "for eta in eta_list:\n",
    "    tim.tic()\n",
    "    pls=SGDPLS(n_components=10, eta=eta)\n",
    "    scores.append(Comp_Model_Score(pls, RollingCV(tscv,X_train), X_train, Y_train) )\n",
    "    params.append({'eta': eta})\n",
    "    print(f\"params={params[-1]}, score={scores[-1]:.7e}, \"\n",
    "          +f\"elapsed time={tim.tocvalue():.1f}s\")\n",
    "\n",
    "best_ind = np.nanargmin(scores)\n",
    "print(\"\")\n",
    "print(f\"best parameter: {params[best_ind]}; score: {scores[best_ind]:.7e}, \"\n",
    "      +f\"total time={tim_tot.tocvalue():.1f}s\")\n"
   ]
  },
  {
   "cell_type": "code",
   "execution_count": 11,
   "id": "10624500-c04d-4c71-b640-a7f614c8f8db",
   "metadata": {
    "collapsed": false
   },
   "outputs": [
    {
     "name": "stdout",
     "output_type": "stream",
     "text": [
      "eta: [1e-08, 1e-09]\n"
     ]
    },
    {
     "name": "stdout",
     "output_type": "stream",
     "text": [
      "params={'eta': 1e-08}, score=nan, elapsed time=1192.3s\n"
     ]
    },
    {
     "name": "stdout",
     "output_type": "stream",
     "text": [
      "params={'eta': 1e-09}, score=nan, elapsed time=1183.9s\n"
     ]
    },
    {
     "ename": "ValueError",
     "evalue": "All-NaN slice encountered",
     "output_type": "error",
     "traceback": [
      "\u001b[0;31m---------------------------------------------------------------------------\u001b[0m",
      "\u001b[0;31mValueError\u001b[0m                                Traceback (most recent call last)",
      "Cell \u001b[0;32mIn[11], line 19\u001b[0m\n\u001b[1;32m     15\u001b[0m     params\u001b[38;5;241m.\u001b[39mappend({\u001b[38;5;124m'\u001b[39m\u001b[38;5;124meta\u001b[39m\u001b[38;5;124m'\u001b[39m: eta})\n\u001b[1;32m     16\u001b[0m     \u001b[38;5;28mprint\u001b[39m(\u001b[38;5;124mf\u001b[39m\u001b[38;5;124m\"\u001b[39m\u001b[38;5;124mparams=\u001b[39m\u001b[38;5;132;01m{\u001b[39;00mparams[\u001b[38;5;241m-\u001b[39m\u001b[38;5;241m1\u001b[39m]\u001b[38;5;132;01m}\u001b[39;00m\u001b[38;5;124m, score=\u001b[39m\u001b[38;5;132;01m{\u001b[39;00mscores[\u001b[38;5;241m-\u001b[39m\u001b[38;5;241m1\u001b[39m]\u001b[38;5;132;01m:\u001b[39;00m\u001b[38;5;124m.7e\u001b[39m\u001b[38;5;132;01m}\u001b[39;00m\u001b[38;5;124m, \u001b[39m\u001b[38;5;124m\"\u001b[39m\n\u001b[1;32m     17\u001b[0m           \u001b[38;5;241m+\u001b[39m\u001b[38;5;124mf\u001b[39m\u001b[38;5;124m\"\u001b[39m\u001b[38;5;124melapsed time=\u001b[39m\u001b[38;5;132;01m{\u001b[39;00mtim\u001b[38;5;241m.\u001b[39mtocvalue()\u001b[38;5;132;01m:\u001b[39;00m\u001b[38;5;124m.1f\u001b[39m\u001b[38;5;132;01m}\u001b[39;00m\u001b[38;5;124ms\u001b[39m\u001b[38;5;124m\"\u001b[39m)\n\u001b[0;32m---> 19\u001b[0m best_ind \u001b[38;5;241m=\u001b[39m \u001b[43mnp\u001b[49m\u001b[38;5;241;43m.\u001b[39;49m\u001b[43mnanargmin\u001b[49m\u001b[43m(\u001b[49m\u001b[43mscores\u001b[49m\u001b[43m)\u001b[49m\n\u001b[1;32m     20\u001b[0m \u001b[38;5;28mprint\u001b[39m(\u001b[38;5;124m\"\u001b[39m\u001b[38;5;124m\"\u001b[39m)\n\u001b[1;32m     21\u001b[0m \u001b[38;5;28mprint\u001b[39m(\u001b[38;5;124mf\u001b[39m\u001b[38;5;124m\"\u001b[39m\u001b[38;5;124mbest parameter: \u001b[39m\u001b[38;5;132;01m{\u001b[39;00mparams[best_ind]\u001b[38;5;132;01m}\u001b[39;00m\u001b[38;5;124m; score: \u001b[39m\u001b[38;5;132;01m{\u001b[39;00mscores[best_ind]\u001b[38;5;132;01m:\u001b[39;00m\u001b[38;5;124m.7e\u001b[39m\u001b[38;5;132;01m}\u001b[39;00m\u001b[38;5;124m, \u001b[39m\u001b[38;5;124m\"\u001b[39m\n\u001b[1;32m     22\u001b[0m       \u001b[38;5;241m+\u001b[39m\u001b[38;5;124mf\u001b[39m\u001b[38;5;124m\"\u001b[39m\u001b[38;5;124mtotal time=\u001b[39m\u001b[38;5;132;01m{\u001b[39;00mtim_tot\u001b[38;5;241m.\u001b[39mtocvalue()\u001b[38;5;132;01m:\u001b[39;00m\u001b[38;5;124m.1f\u001b[39m\u001b[38;5;132;01m}\u001b[39;00m\u001b[38;5;124ms\u001b[39m\u001b[38;5;124m\"\u001b[39m)\n",
      "File \u001b[0;32m<__array_function__ internals>:180\u001b[0m, in \u001b[0;36mnanargmin\u001b[0;34m(*args, **kwargs)\u001b[0m\n",
      "File \u001b[0;32m~/.local/lib/python3.9/site-packages/numpy/lib/nanfunctions.py:553\u001b[0m, in \u001b[0;36mnanargmin\u001b[0;34m(a, axis, out, keepdims)\u001b[0m\n\u001b[1;32m    551\u001b[0m     mask \u001b[38;5;241m=\u001b[39m np\u001b[38;5;241m.\u001b[39mall(mask, axis\u001b[38;5;241m=\u001b[39maxis)\n\u001b[1;32m    552\u001b[0m     \u001b[38;5;28;01mif\u001b[39;00m np\u001b[38;5;241m.\u001b[39many(mask):\n\u001b[0;32m--> 553\u001b[0m         \u001b[38;5;28;01mraise\u001b[39;00m \u001b[38;5;167;01mValueError\u001b[39;00m(\u001b[38;5;124m\"\u001b[39m\u001b[38;5;124mAll-NaN slice encountered\u001b[39m\u001b[38;5;124m\"\u001b[39m)\n\u001b[1;32m    554\u001b[0m res \u001b[38;5;241m=\u001b[39m np\u001b[38;5;241m.\u001b[39margmin(a, axis\u001b[38;5;241m=\u001b[39maxis, out\u001b[38;5;241m=\u001b[39mout, keepdims\u001b[38;5;241m=\u001b[39mkeepdims)\n\u001b[1;32m    555\u001b[0m \u001b[38;5;28;01mreturn\u001b[39;00m res\n",
      "\u001b[0;31mValueError\u001b[0m: All-NaN slice encountered"
     ]
    }
   ],
   "source": [
    "import Code.SGDPLS\n",
    "importlib.reload(Code.SGDPLS)\n",
    "from Code.SGDPLS import SGDPLS\n",
    "\n",
    "scores = []\n",
    "params = []\n",
    "eta_list= [1e-8, 1e-9]\n",
    "print(f\"eta: {eta_list}\")\n",
    "\n",
    "tim_tot.tic()\n",
    "for eta in eta_list:\n",
    "    tim.tic()\n",
    "    pls=SGDPLS(n_components=10, eta=eta)\n",
    "    scores.append(Comp_Model_Score(pls, RollingCV(tscv,X_train), X_train, Y_train) )\n",
    "    params.append({'eta': eta})\n",
    "    print(f\"params={params[-1]}, score={scores[-1]:.7e}, \"\n",
    "          +f\"elapsed time={tim.tocvalue():.1f}s\")\n",
    "\n",
    "best_ind = np.nanargmin(scores)\n",
    "print(\"\")\n",
    "print(f\"best parameter: {params[best_ind]}; score: {scores[best_ind]:.7e}, \"\n",
    "      +f\"total time={tim_tot.tocvalue():.1f}s\")\n"
   ]
  },
  {
   "cell_type": "code",
   "execution_count": 14,
   "id": "8958db19-dd6e-4a90-8029-ce1eeaa90900",
   "metadata": {
    "collapsed": false
   },
   "outputs": [
    {
     "name": "stdout",
     "output_type": "stream",
     "text": [
      "GridSearchCV(cv=TimeSeriesSplit(gap=0, max_train_size=None, n_splits=17, test_size=30),\n",
      "             estimator=SGDPLS(), n_jobs=3,\n",
      "             param_grid={'eta': [1e-05, 1e-06, 1e-07]},\n",
      "             scoring='neg_root_mean_squared_error', verbose=4)\n",
      "Fitting 17 folds for each of 3 candidates, totalling 51 fits\n"
     ]
    },
    {
     "name": "stderr",
     "output_type": "stream",
     "text": [
      "/video/data/tingan/GitRep/IPLSreview/Code/SGDPLS.py:95: RuntimeWarning: overflow encountered in matmul\n",
      "  self.x_rotations += self.eta * np.matmul(np.matmul(xi, yi.T), self.y_rotations)\n",
      "/video/data/tingan/GitRep/IPLSreview/Code/SGDPLS.py:96: RuntimeWarning: overflow encountered in matmul\n",
      "  self.y_rotations += self.eta * np.matmul(np.matmul(yi, xi.T), tmp)\n",
      "/video/data/tingan/GitRep/IPLSreview/Code/SGDPLS.py:96: RuntimeWarning: invalid value encountered in matmul\n",
      "  self.y_rotations += self.eta * np.matmul(np.matmul(yi, xi.T), tmp)\n",
      "/video/data/tingan/GitRep/IPLSreview/Code/SGDPLS.py:95: RuntimeWarning: invalid value encountered in matmul\n",
      "  self.x_rotations += self.eta * np.matmul(np.matmul(xi, yi.T), self.y_rotations)\n"
     ]
    },
    {
     "name": "stderr",
     "output_type": "stream",
     "text": [
      "/video/data/tingan/GitRep/IPLSreview/Code/SGDPLS.py:95: RuntimeWarning: overflow encountered in matmul\n",
      "  self.x_rotations += self.eta * np.matmul(np.matmul(xi, yi.T), self.y_rotations)\n",
      "/video/data/tingan/GitRep/IPLSreview/Code/SGDPLS.py:96: RuntimeWarning: overflow encountered in matmul\n",
      "  self.y_rotations += self.eta * np.matmul(np.matmul(yi, xi.T), tmp)\n",
      "/video/data/tingan/GitRep/IPLSreview/Code/SGDPLS.py:96: RuntimeWarning: invalid value encountered in matmul\n",
      "  self.y_rotations += self.eta * np.matmul(np.matmul(yi, xi.T), tmp)\n",
      "/video/data/tingan/GitRep/IPLSreview/Code/SGDPLS.py:95: RuntimeWarning: invalid value encountered in matmul\n",
      "  self.x_rotations += self.eta * np.matmul(np.matmul(xi, yi.T), self.y_rotations)\n"
     ]
    },
    {
     "name": "stderr",
     "output_type": "stream",
     "text": [
      "/video/data/tingan/GitRep/IPLSreview/Code/SGDPLS.py:96: RuntimeWarning: overflow encountered in matmul\n",
      "  self.y_rotations += self.eta * np.matmul(np.matmul(yi, xi.T), tmp)\n",
      "/video/data/tingan/GitRep/IPLSreview/Code/SGDPLS.py:95: RuntimeWarning: overflow encountered in matmul\n",
      "  self.x_rotations += self.eta * np.matmul(np.matmul(xi, yi.T), self.y_rotations)\n",
      "/video/data/tingan/GitRep/IPLSreview/Code/SGDPLS.py:96: RuntimeWarning: invalid value encountered in matmul\n",
      "  self.y_rotations += self.eta * np.matmul(np.matmul(yi, xi.T), tmp)\n",
      "/video/data/tingan/GitRep/IPLSreview/Code/SGDPLS.py:95: RuntimeWarning: invalid value encountered in matmul\n",
      "  self.x_rotations += self.eta * np.matmul(np.matmul(xi, yi.T), self.y_rotations)\n"
     ]
    },
    {
     "name": "stderr",
     "output_type": "stream",
     "text": [
      "/video/data/tingan/GitRep/IPLSreview/Code/SGDPLS.py:95: RuntimeWarning: overflow encountered in matmul\n",
      "  self.x_rotations += self.eta * np.matmul(np.matmul(xi, yi.T), self.y_rotations)\n",
      "/video/data/tingan/GitRep/IPLSreview/Code/SGDPLS.py:96: RuntimeWarning: overflow encountered in matmul\n",
      "  self.y_rotations += self.eta * np.matmul(np.matmul(yi, xi.T), tmp)\n",
      "/video/data/tingan/GitRep/IPLSreview/Code/SGDPLS.py:96: RuntimeWarning: invalid value encountered in matmul\n",
      "  self.y_rotations += self.eta * np.matmul(np.matmul(yi, xi.T), tmp)\n",
      "/video/data/tingan/GitRep/IPLSreview/Code/SGDPLS.py:95: RuntimeWarning: invalid value encountered in matmul\n",
      "  self.x_rotations += self.eta * np.matmul(np.matmul(xi, yi.T), self.y_rotations)\n"
     ]
    },
    {
     "name": "stderr",
     "output_type": "stream",
     "text": [
      "/video/data/tingan/GitRep/IPLSreview/Code/SGDPLS.py:95: RuntimeWarning: overflow encountered in matmul\n",
      "  self.x_rotations += self.eta * np.matmul(np.matmul(xi, yi.T), self.y_rotations)\n",
      "/video/data/tingan/GitRep/IPLSreview/Code/SGDPLS.py:96: RuntimeWarning: overflow encountered in matmul\n",
      "  self.y_rotations += self.eta * np.matmul(np.matmul(yi, xi.T), tmp)\n",
      "/video/data/tingan/GitRep/IPLSreview/Code/SGDPLS.py:96: RuntimeWarning: invalid value encountered in matmul\n",
      "  self.y_rotations += self.eta * np.matmul(np.matmul(yi, xi.T), tmp)\n",
      "/video/data/tingan/GitRep/IPLSreview/Code/SGDPLS.py:95: RuntimeWarning: invalid value encountered in matmul\n",
      "  self.x_rotations += self.eta * np.matmul(np.matmul(xi, yi.T), self.y_rotations)\n"
     ]
    },
    {
     "name": "stderr",
     "output_type": "stream",
     "text": [
      "/video/data/tingan/GitRep/IPLSreview/Code/SGDPLS.py:95: RuntimeWarning: overflow encountered in matmul\n",
      "  self.x_rotations += self.eta * np.matmul(np.matmul(xi, yi.T), self.y_rotations)\n",
      "/video/data/tingan/GitRep/IPLSreview/Code/SGDPLS.py:96: RuntimeWarning: overflow encountered in matmul\n",
      "  self.y_rotations += self.eta * np.matmul(np.matmul(yi, xi.T), tmp)\n",
      "/video/data/tingan/GitRep/IPLSreview/Code/SGDPLS.py:96: RuntimeWarning: invalid value encountered in matmul\n",
      "  self.y_rotations += self.eta * np.matmul(np.matmul(yi, xi.T), tmp)\n",
      "/video/data/tingan/GitRep/IPLSreview/Code/SGDPLS.py:95: RuntimeWarning: invalid value encountered in matmul\n",
      "  self.x_rotations += self.eta * np.matmul(np.matmul(xi, yi.T), self.y_rotations)\n"
     ]
    },
    {
     "name": "stderr",
     "output_type": "stream",
     "text": [
      "/video/data/tingan/GitRep/IPLSreview/Code/SGDPLS.py:95: RuntimeWarning: overflow encountered in matmul\n",
      "  self.x_rotations += self.eta * np.matmul(np.matmul(xi, yi.T), self.y_rotations)\n",
      "/video/data/tingan/GitRep/IPLSreview/Code/SGDPLS.py:96: RuntimeWarning: overflow encountered in matmul\n",
      "  self.y_rotations += self.eta * np.matmul(np.matmul(yi, xi.T), tmp)\n",
      "/video/data/tingan/GitRep/IPLSreview/Code/SGDPLS.py:96: RuntimeWarning: invalid value encountered in matmul\n",
      "  self.y_rotations += self.eta * np.matmul(np.matmul(yi, xi.T), tmp)\n",
      "/video/data/tingan/GitRep/IPLSreview/Code/SGDPLS.py:95: RuntimeWarning: invalid value encountered in matmul\n",
      "  self.x_rotations += self.eta * np.matmul(np.matmul(xi, yi.T), self.y_rotations)\n"
     ]
    },
    {
     "name": "stderr",
     "output_type": "stream",
     "text": [
      "/video/data/tingan/GitRep/IPLSreview/Code/SGDPLS.py:95: RuntimeWarning: overflow encountered in matmul\n",
      "  self.x_rotations += self.eta * np.matmul(np.matmul(xi, yi.T), self.y_rotations)\n",
      "/video/data/tingan/GitRep/IPLSreview/Code/SGDPLS.py:96: RuntimeWarning: overflow encountered in matmul\n",
      "  self.y_rotations += self.eta * np.matmul(np.matmul(yi, xi.T), tmp)\n",
      "/video/data/tingan/GitRep/IPLSreview/Code/SGDPLS.py:96: RuntimeWarning: invalid value encountered in matmul\n",
      "  self.y_rotations += self.eta * np.matmul(np.matmul(yi, xi.T), tmp)\n",
      "/video/data/tingan/GitRep/IPLSreview/Code/SGDPLS.py:95: RuntimeWarning: invalid value encountered in matmul\n",
      "  self.x_rotations += self.eta * np.matmul(np.matmul(xi, yi.T), self.y_rotations)\n"
     ]
    },
    {
     "name": "stderr",
     "output_type": "stream",
     "text": [
      "/video/data/tingan/GitRep/IPLSreview/Code/SGDPLS.py:95: RuntimeWarning: overflow encountered in matmul\n",
      "  self.x_rotations += self.eta * np.matmul(np.matmul(xi, yi.T), self.y_rotations)\n",
      "/video/data/tingan/GitRep/IPLSreview/Code/SGDPLS.py:96: RuntimeWarning: overflow encountered in matmul\n",
      "  self.y_rotations += self.eta * np.matmul(np.matmul(yi, xi.T), tmp)\n",
      "/video/data/tingan/GitRep/IPLSreview/Code/SGDPLS.py:96: RuntimeWarning: invalid value encountered in matmul\n",
      "  self.y_rotations += self.eta * np.matmul(np.matmul(yi, xi.T), tmp)\n",
      "/video/data/tingan/GitRep/IPLSreview/Code/SGDPLS.py:95: RuntimeWarning: invalid value encountered in matmul\n",
      "  self.x_rotations += self.eta * np.matmul(np.matmul(xi, yi.T), self.y_rotations)\n"
     ]
    },
    {
     "name": "stderr",
     "output_type": "stream",
     "text": [
      "/video/data/tingan/GitRep/IPLSreview/Code/SGDPLS.py:96: RuntimeWarning: overflow encountered in matmul\n",
      "  self.y_rotations += self.eta * np.matmul(np.matmul(yi, xi.T), tmp)\n",
      "/video/data/tingan/GitRep/IPLSreview/Code/SGDPLS.py:95: RuntimeWarning: overflow encountered in matmul\n",
      "  self.x_rotations += self.eta * np.matmul(np.matmul(xi, yi.T), self.y_rotations)\n",
      "/video/data/tingan/GitRep/IPLSreview/Code/SGDPLS.py:96: RuntimeWarning: invalid value encountered in matmul\n",
      "  self.y_rotations += self.eta * np.matmul(np.matmul(yi, xi.T), tmp)\n",
      "/video/data/tingan/GitRep/IPLSreview/Code/SGDPLS.py:95: RuntimeWarning: invalid value encountered in matmul\n",
      "  self.x_rotations += self.eta * np.matmul(np.matmul(xi, yi.T), self.y_rotations)\n"
     ]
    },
    {
     "name": "stderr",
     "output_type": "stream",
     "text": [
      "/video/data/tingan/GitRep/IPLSreview/Code/SGDPLS.py:95: RuntimeWarning: overflow encountered in matmul\n",
      "  self.x_rotations += self.eta * np.matmul(np.matmul(xi, yi.T), self.y_rotations)\n",
      "/video/data/tingan/GitRep/IPLSreview/Code/SGDPLS.py:96: RuntimeWarning: overflow encountered in matmul\n",
      "  self.y_rotations += self.eta * np.matmul(np.matmul(yi, xi.T), tmp)\n",
      "/video/data/tingan/GitRep/IPLSreview/Code/SGDPLS.py:96: RuntimeWarning: invalid value encountered in matmul\n",
      "  self.y_rotations += self.eta * np.matmul(np.matmul(yi, xi.T), tmp)\n",
      "/video/data/tingan/GitRep/IPLSreview/Code/SGDPLS.py:95: RuntimeWarning: invalid value encountered in matmul\n",
      "  self.x_rotations += self.eta * np.matmul(np.matmul(xi, yi.T), self.y_rotations)\n"
     ]
    },
    {
     "name": "stderr",
     "output_type": "stream",
     "text": [
      "/video/data/tingan/GitRep/IPLSreview/Code/SGDPLS.py:95: RuntimeWarning: overflow encountered in matmul\n",
      "  self.x_rotations += self.eta * np.matmul(np.matmul(xi, yi.T), self.y_rotations)\n",
      "/video/data/tingan/GitRep/IPLSreview/Code/SGDPLS.py:96: RuntimeWarning: overflow encountered in matmul\n",
      "  self.y_rotations += self.eta * np.matmul(np.matmul(yi, xi.T), tmp)\n",
      "/video/data/tingan/GitRep/IPLSreview/Code/SGDPLS.py:96: RuntimeWarning: invalid value encountered in matmul\n",
      "  self.y_rotations += self.eta * np.matmul(np.matmul(yi, xi.T), tmp)\n",
      "/video/data/tingan/GitRep/IPLSreview/Code/SGDPLS.py:95: RuntimeWarning: invalid value encountered in matmul\n",
      "  self.x_rotations += self.eta * np.matmul(np.matmul(xi, yi.T), self.y_rotations)\n"
     ]
    },
    {
     "name": "stderr",
     "output_type": "stream",
     "text": [
      "/video/data/tingan/GitRep/IPLSreview/Code/SGDPLS.py:95: RuntimeWarning: overflow encountered in matmul\n",
      "  self.x_rotations += self.eta * np.matmul(np.matmul(xi, yi.T), self.y_rotations)\n",
      "/video/data/tingan/GitRep/IPLSreview/Code/SGDPLS.py:96: RuntimeWarning: overflow encountered in matmul\n",
      "  self.y_rotations += self.eta * np.matmul(np.matmul(yi, xi.T), tmp)\n",
      "/video/data/tingan/GitRep/IPLSreview/Code/SGDPLS.py:96: RuntimeWarning: invalid value encountered in matmul\n",
      "  self.y_rotations += self.eta * np.matmul(np.matmul(yi, xi.T), tmp)\n",
      "/video/data/tingan/GitRep/IPLSreview/Code/SGDPLS.py:95: RuntimeWarning: invalid value encountered in matmul\n",
      "  self.x_rotations += self.eta * np.matmul(np.matmul(xi, yi.T), self.y_rotations)\n"
     ]
    },
    {
     "name": "stderr",
     "output_type": "stream",
     "text": [
      "/video/data/tingan/GitRep/IPLSreview/Code/SGDPLS.py:95: RuntimeWarning: overflow encountered in matmul\n",
      "  self.x_rotations += self.eta * np.matmul(np.matmul(xi, yi.T), self.y_rotations)\n",
      "/video/data/tingan/GitRep/IPLSreview/Code/SGDPLS.py:96: RuntimeWarning: overflow encountered in matmul\n",
      "  self.y_rotations += self.eta * np.matmul(np.matmul(yi, xi.T), tmp)\n",
      "/video/data/tingan/GitRep/IPLSreview/Code/SGDPLS.py:96: RuntimeWarning: invalid value encountered in matmul\n",
      "  self.y_rotations += self.eta * np.matmul(np.matmul(yi, xi.T), tmp)\n",
      "/video/data/tingan/GitRep/IPLSreview/Code/SGDPLS.py:95: RuntimeWarning: invalid value encountered in matmul\n",
      "  self.x_rotations += self.eta * np.matmul(np.matmul(xi, yi.T), self.y_rotations)\n"
     ]
    },
    {
     "name": "stderr",
     "output_type": "stream",
     "text": [
      "/video/data/tingan/GitRep/IPLSreview/Code/SGDPLS.py:95: RuntimeWarning: overflow encountered in matmul\n",
      "  self.x_rotations += self.eta * np.matmul(np.matmul(xi, yi.T), self.y_rotations)\n",
      "/video/data/tingan/GitRep/IPLSreview/Code/SGDPLS.py:96: RuntimeWarning: overflow encountered in matmul\n",
      "  self.y_rotations += self.eta * np.matmul(np.matmul(yi, xi.T), tmp)\n",
      "/video/data/tingan/GitRep/IPLSreview/Code/SGDPLS.py:96: RuntimeWarning: invalid value encountered in matmul\n",
      "  self.y_rotations += self.eta * np.matmul(np.matmul(yi, xi.T), tmp)\n",
      "/video/data/tingan/GitRep/IPLSreview/Code/SGDPLS.py:95: RuntimeWarning: invalid value encountered in matmul\n",
      "  self.x_rotations += self.eta * np.matmul(np.matmul(xi, yi.T), self.y_rotations)\n"
     ]
    },
    {
     "name": "stderr",
     "output_type": "stream",
     "text": [
      "/video/data/tingan/GitRep/IPLSreview/Code/SGDPLS.py:95: RuntimeWarning: overflow encountered in matmul\n",
      "  self.x_rotations += self.eta * np.matmul(np.matmul(xi, yi.T), self.y_rotations)\n",
      "/video/data/tingan/GitRep/IPLSreview/Code/SGDPLS.py:96: RuntimeWarning: overflow encountered in matmul\n",
      "  self.y_rotations += self.eta * np.matmul(np.matmul(yi, xi.T), tmp)\n",
      "/video/data/tingan/GitRep/IPLSreview/Code/SGDPLS.py:96: RuntimeWarning: invalid value encountered in matmul\n",
      "  self.y_rotations += self.eta * np.matmul(np.matmul(yi, xi.T), tmp)\n",
      "/video/data/tingan/GitRep/IPLSreview/Code/SGDPLS.py:95: RuntimeWarning: invalid value encountered in matmul\n",
      "  self.x_rotations += self.eta * np.matmul(np.matmul(xi, yi.T), self.y_rotations)\n"
     ]
    },
    {
     "name": "stderr",
     "output_type": "stream",
     "text": [
      "/video/data/tingan/GitRep/IPLSreview/Code/SGDPLS.py:95: RuntimeWarning: overflow encountered in matmul\n",
      "  self.x_rotations += self.eta * np.matmul(np.matmul(xi, yi.T), self.y_rotations)\n",
      "/video/data/tingan/GitRep/IPLSreview/Code/SGDPLS.py:96: RuntimeWarning: overflow encountered in matmul\n",
      "  self.y_rotations += self.eta * np.matmul(np.matmul(yi, xi.T), tmp)\n",
      "/video/data/tingan/GitRep/IPLSreview/Code/SGDPLS.py:96: RuntimeWarning: invalid value encountered in matmul\n",
      "  self.y_rotations += self.eta * np.matmul(np.matmul(yi, xi.T), tmp)\n",
      "/video/data/tingan/GitRep/IPLSreview/Code/SGDPLS.py:95: RuntimeWarning: invalid value encountered in matmul\n",
      "  self.x_rotations += self.eta * np.matmul(np.matmul(xi, yi.T), self.y_rotations)\n"
     ]
    },
    {
     "name": "stderr",
     "output_type": "stream",
     "text": [
      "/video/data/tingan/GitRep/IPLSreview/Code/SGDPLS.py:96: RuntimeWarning: overflow encountered in matmul\n",
      "  self.y_rotations += self.eta * np.matmul(np.matmul(yi, xi.T), tmp)\n",
      "/video/data/tingan/GitRep/IPLSreview/Code/SGDPLS.py:96: RuntimeWarning: invalid value encountered in matmul\n",
      "  self.y_rotations += self.eta * np.matmul(np.matmul(yi, xi.T), tmp)\n",
      "/video/data/tingan/GitRep/IPLSreview/Code/SGDPLS.py:95: RuntimeWarning: overflow encountered in matmul\n",
      "  self.x_rotations += self.eta * np.matmul(np.matmul(xi, yi.T), self.y_rotations)\n",
      "/video/data/tingan/GitRep/IPLSreview/Code/SGDPLS.py:95: RuntimeWarning: invalid value encountered in matmul\n",
      "  self.x_rotations += self.eta * np.matmul(np.matmul(xi, yi.T), self.y_rotations)\n"
     ]
    },
    {
     "name": "stderr",
     "output_type": "stream",
     "text": [
      "/video/data/tingan/GitRep/IPLSreview/Code/SGDPLS.py:95: RuntimeWarning: overflow encountered in matmul\n",
      "  self.x_rotations += self.eta * np.matmul(np.matmul(xi, yi.T), self.y_rotations)\n",
      "/video/data/tingan/GitRep/IPLSreview/Code/SGDPLS.py:96: RuntimeWarning: invalid value encountered in matmul\n",
      "  self.y_rotations += self.eta * np.matmul(np.matmul(yi, xi.T), tmp)\n",
      "/video/data/tingan/GitRep/IPLSreview/Code/SGDPLS.py:95: RuntimeWarning: invalid value encountered in matmul\n",
      "  self.x_rotations += self.eta * np.matmul(np.matmul(xi, yi.T), self.y_rotations)\n"
     ]
    },
    {
     "name": "stderr",
     "output_type": "stream",
     "text": [
      "/video/data/tingan/GitRep/IPLSreview/Code/SGDPLS.py:96: RuntimeWarning: overflow encountered in matmul\n",
      "  self.y_rotations += self.eta * np.matmul(np.matmul(yi, xi.T), tmp)\n"
     ]
    },
    {
     "name": "stderr",
     "output_type": "stream",
     "text": [
      "/video/data/tingan/GitRep/IPLSreview/Code/SGDPLS.py:96: RuntimeWarning: overflow encountered in matmul\n",
      "  self.y_rotations += self.eta * np.matmul(np.matmul(yi, xi.T), tmp)\n",
      "/video/data/tingan/GitRep/IPLSreview/Code/SGDPLS.py:95: RuntimeWarning: overflow encountered in matmul\n",
      "  self.x_rotations += self.eta * np.matmul(np.matmul(xi, yi.T), self.y_rotations)\n",
      "/video/data/tingan/GitRep/IPLSreview/Code/SGDPLS.py:96: RuntimeWarning: invalid value encountered in matmul\n",
      "  self.y_rotations += self.eta * np.matmul(np.matmul(yi, xi.T), tmp)\n",
      "/video/data/tingan/GitRep/IPLSreview/Code/SGDPLS.py:95: RuntimeWarning: invalid value encountered in matmul\n",
      "  self.x_rotations += self.eta * np.matmul(np.matmul(xi, yi.T), self.y_rotations)\n"
     ]
    },
    {
     "name": "stderr",
     "output_type": "stream",
     "text": [
      "/video/data/tingan/GitRep/IPLSreview/Code/SGDPLS.py:95: RuntimeWarning: overflow encountered in matmul\n",
      "  self.x_rotations += self.eta * np.matmul(np.matmul(xi, yi.T), self.y_rotations)\n",
      "/video/data/tingan/GitRep/IPLSreview/Code/SGDPLS.py:96: RuntimeWarning: overflow encountered in matmul\n",
      "  self.y_rotations += self.eta * np.matmul(np.matmul(yi, xi.T), tmp)\n",
      "/video/data/tingan/GitRep/IPLSreview/Code/SGDPLS.py:96: RuntimeWarning: invalid value encountered in matmul\n",
      "  self.y_rotations += self.eta * np.matmul(np.matmul(yi, xi.T), tmp)\n",
      "/video/data/tingan/GitRep/IPLSreview/Code/SGDPLS.py:95: RuntimeWarning: invalid value encountered in matmul\n",
      "  self.x_rotations += self.eta * np.matmul(np.matmul(xi, yi.T), self.y_rotations)\n"
     ]
    },
    {
     "name": "stderr",
     "output_type": "stream",
     "text": [
      "/video/data/tingan/GitRep/IPLSreview/Code/SGDPLS.py:95: RuntimeWarning: overflow encountered in matmul\n",
      "  self.x_rotations += self.eta * np.matmul(np.matmul(xi, yi.T), self.y_rotations)\n",
      "/video/data/tingan/GitRep/IPLSreview/Code/SGDPLS.py:96: RuntimeWarning: overflow encountered in matmul\n",
      "  self.y_rotations += self.eta * np.matmul(np.matmul(yi, xi.T), tmp)\n",
      "/video/data/tingan/GitRep/IPLSreview/Code/SGDPLS.py:96: RuntimeWarning: invalid value encountered in matmul\n",
      "  self.y_rotations += self.eta * np.matmul(np.matmul(yi, xi.T), tmp)\n",
      "/video/data/tingan/GitRep/IPLSreview/Code/SGDPLS.py:95: RuntimeWarning: invalid value encountered in matmul\n",
      "  self.x_rotations += self.eta * np.matmul(np.matmul(xi, yi.T), self.y_rotations)\n"
     ]
    },
    {
     "name": "stderr",
     "output_type": "stream",
     "text": [
      "/video/data/tingan/GitRep/IPLSreview/Code/SGDPLS.py:96: RuntimeWarning: overflow encountered in matmul\n",
      "  self.y_rotations += self.eta * np.matmul(np.matmul(yi, xi.T), tmp)\n",
      "/video/data/tingan/GitRep/IPLSreview/Code/SGDPLS.py:95: RuntimeWarning: overflow encountered in matmul\n",
      "  self.x_rotations += self.eta * np.matmul(np.matmul(xi, yi.T), self.y_rotations)\n",
      "/video/data/tingan/GitRep/IPLSreview/Code/SGDPLS.py:96: RuntimeWarning: invalid value encountered in matmul\n",
      "  self.y_rotations += self.eta * np.matmul(np.matmul(yi, xi.T), tmp)\n",
      "/video/data/tingan/GitRep/IPLSreview/Code/SGDPLS.py:95: RuntimeWarning: invalid value encountered in matmul\n",
      "  self.x_rotations += self.eta * np.matmul(np.matmul(xi, yi.T), self.y_rotations)\n"
     ]
    },
    {
     "name": "stderr",
     "output_type": "stream",
     "text": [
      "/video/data/tingan/GitRep/IPLSreview/Code/SGDPLS.py:96: RuntimeWarning: overflow encountered in matmul\n",
      "  self.y_rotations += self.eta * np.matmul(np.matmul(yi, xi.T), tmp)\n",
      "/video/data/tingan/GitRep/IPLSreview/Code/SGDPLS.py:95: RuntimeWarning: invalid value encountered in matmul\n",
      "  self.x_rotations += self.eta * np.matmul(np.matmul(xi, yi.T), self.y_rotations)\n",
      "/video/data/tingan/GitRep/IPLSreview/Code/SGDPLS.py:96: RuntimeWarning: invalid value encountered in matmul\n",
      "  self.y_rotations += self.eta * np.matmul(np.matmul(yi, xi.T), tmp)\n"
     ]
    },
    {
     "name": "stderr",
     "output_type": "stream",
     "text": [
      "/video/data/tingan/GitRep/IPLSreview/Code/SGDPLS.py:95: RuntimeWarning: overflow encountered in matmul\n",
      "  self.x_rotations += self.eta * np.matmul(np.matmul(xi, yi.T), self.y_rotations)\n",
      "/video/data/tingan/GitRep/IPLSreview/Code/SGDPLS.py:96: RuntimeWarning: invalid value encountered in matmul\n",
      "  self.y_rotations += self.eta * np.matmul(np.matmul(yi, xi.T), tmp)\n",
      "/video/data/tingan/GitRep/IPLSreview/Code/SGDPLS.py:95: RuntimeWarning: invalid value encountered in matmul\n",
      "  self.x_rotations += self.eta * np.matmul(np.matmul(xi, yi.T), self.y_rotations)\n",
      "/video/data/tingan/GitRep/IPLSreview/Code/SGDPLS.py:96: RuntimeWarning: overflow encountered in matmul\n",
      "  self.y_rotations += self.eta * np.matmul(np.matmul(yi, xi.T), tmp)\n"
     ]
    },
    {
     "name": "stderr",
     "output_type": "stream",
     "text": [
      "/video/data/tingan/GitRep/IPLSreview/Code/SGDPLS.py:95: RuntimeWarning: overflow encountered in matmul\n",
      "  self.x_rotations += self.eta * np.matmul(np.matmul(xi, yi.T), self.y_rotations)\n",
      "/video/data/tingan/GitRep/IPLSreview/Code/SGDPLS.py:96: RuntimeWarning: overflow encountered in matmul\n",
      "  self.y_rotations += self.eta * np.matmul(np.matmul(yi, xi.T), tmp)\n",
      "/video/data/tingan/GitRep/IPLSreview/Code/SGDPLS.py:96: RuntimeWarning: invalid value encountered in matmul\n",
      "  self.y_rotations += self.eta * np.matmul(np.matmul(yi, xi.T), tmp)\n",
      "/video/data/tingan/GitRep/IPLSreview/Code/SGDPLS.py:95: RuntimeWarning: invalid value encountered in matmul\n",
      "  self.x_rotations += self.eta * np.matmul(np.matmul(xi, yi.T), self.y_rotations)\n"
     ]
    },
    {
     "name": "stderr",
     "output_type": "stream",
     "text": [
      "/video/data/tingan/GitRep/IPLSreview/Code/SGDPLS.py:95: RuntimeWarning: overflow encountered in matmul\n",
      "  self.x_rotations += self.eta * np.matmul(np.matmul(xi, yi.T), self.y_rotations)\n",
      "/video/data/tingan/GitRep/IPLSreview/Code/SGDPLS.py:96: RuntimeWarning: invalid value encountered in matmul\n",
      "  self.y_rotations += self.eta * np.matmul(np.matmul(yi, xi.T), tmp)\n",
      "/video/data/tingan/GitRep/IPLSreview/Code/SGDPLS.py:95: RuntimeWarning: invalid value encountered in matmul\n",
      "  self.x_rotations += self.eta * np.matmul(np.matmul(xi, yi.T), self.y_rotations)\n",
      "/video/data/tingan/GitRep/IPLSreview/Code/SGDPLS.py:96: RuntimeWarning: overflow encountered in matmul\n",
      "  self.y_rotations += self.eta * np.matmul(np.matmul(yi, xi.T), tmp)\n"
     ]
    },
    {
     "name": "stderr",
     "output_type": "stream",
     "text": [
      "/video/data/tingan/GitRep/IPLSreview/Code/SGDPLS.py:95: RuntimeWarning: overflow encountered in matmul\n",
      "  self.x_rotations += self.eta * np.matmul(np.matmul(xi, yi.T), self.y_rotations)\n",
      "/video/data/tingan/GitRep/IPLSreview/Code/SGDPLS.py:96: RuntimeWarning: invalid value encountered in matmul\n",
      "  self.y_rotations += self.eta * np.matmul(np.matmul(yi, xi.T), tmp)\n",
      "/video/data/tingan/GitRep/IPLSreview/Code/SGDPLS.py:95: RuntimeWarning: invalid value encountered in matmul\n",
      "  self.x_rotations += self.eta * np.matmul(np.matmul(xi, yi.T), self.y_rotations)\n",
      "/video/data/tingan/GitRep/IPLSreview/Code/SGDPLS.py:96: RuntimeWarning: overflow encountered in matmul\n",
      "  self.y_rotations += self.eta * np.matmul(np.matmul(yi, xi.T), tmp)\n"
     ]
    },
    {
     "name": "stderr",
     "output_type": "stream",
     "text": [
      "/video/data/tingan/GitRep/IPLSreview/Code/SGDPLS.py:95: RuntimeWarning: overflow encountered in matmul\n",
      "  self.x_rotations += self.eta * np.matmul(np.matmul(xi, yi.T), self.y_rotations)\n",
      "/video/data/tingan/GitRep/IPLSreview/Code/SGDPLS.py:96: RuntimeWarning: overflow encountered in matmul\n",
      "  self.y_rotations += self.eta * np.matmul(np.matmul(yi, xi.T), tmp)\n",
      "/video/data/tingan/GitRep/IPLSreview/Code/SGDPLS.py:96: RuntimeWarning: invalid value encountered in matmul\n",
      "  self.y_rotations += self.eta * np.matmul(np.matmul(yi, xi.T), tmp)\n",
      "/video/data/tingan/GitRep/IPLSreview/Code/SGDPLS.py:95: RuntimeWarning: invalid value encountered in matmul\n",
      "  self.x_rotations += self.eta * np.matmul(np.matmul(xi, yi.T), self.y_rotations)\n"
     ]
    },
    {
     "name": "stderr",
     "output_type": "stream",
     "text": [
      "/video/data/tingan/GitRep/IPLSreview/Code/SGDPLS.py:96: RuntimeWarning: overflow encountered in matmul\n",
      "  self.y_rotations += self.eta * np.matmul(np.matmul(yi, xi.T), tmp)\n",
      "/video/data/tingan/GitRep/IPLSreview/Code/SGDPLS.py:95: RuntimeWarning: overflow encountered in matmul\n",
      "  self.x_rotations += self.eta * np.matmul(np.matmul(xi, yi.T), self.y_rotations)\n",
      "/video/data/tingan/GitRep/IPLSreview/Code/SGDPLS.py:96: RuntimeWarning: invalid value encountered in matmul\n",
      "  self.y_rotations += self.eta * np.matmul(np.matmul(yi, xi.T), tmp)\n",
      "/video/data/tingan/GitRep/IPLSreview/Code/SGDPLS.py:95: RuntimeWarning: invalid value encountered in matmul\n",
      "  self.x_rotations += self.eta * np.matmul(np.matmul(xi, yi.T), self.y_rotations)\n"
     ]
    },
    {
     "name": "stderr",
     "output_type": "stream",
     "text": [
      "/video/data/tingan/GitRep/IPLSreview/Code/SGDPLS.py:95: RuntimeWarning: overflow encountered in matmul\n",
      "  self.x_rotations += self.eta * np.matmul(np.matmul(xi, yi.T), self.y_rotations)\n",
      "/video/data/tingan/GitRep/IPLSreview/Code/SGDPLS.py:96: RuntimeWarning: overflow encountered in matmul\n",
      "  self.y_rotations += self.eta * np.matmul(np.matmul(yi, xi.T), tmp)\n",
      "/video/data/tingan/GitRep/IPLSreview/Code/SGDPLS.py:96: RuntimeWarning: invalid value encountered in matmul\n",
      "  self.y_rotations += self.eta * np.matmul(np.matmul(yi, xi.T), tmp)\n",
      "/video/data/tingan/GitRep/IPLSreview/Code/SGDPLS.py:95: RuntimeWarning: invalid value encountered in matmul\n",
      "  self.x_rotations += self.eta * np.matmul(np.matmul(xi, yi.T), self.y_rotations)\n"
     ]
    },
    {
     "name": "stderr",
     "output_type": "stream",
     "text": [
      "/video/data/tingan/GitRep/IPLSreview/Code/SGDPLS.py:96: RuntimeWarning: overflow encountered in matmul\n",
      "  self.y_rotations += self.eta * np.matmul(np.matmul(yi, xi.T), tmp)\n",
      "/video/data/tingan/GitRep/IPLSreview/Code/SGDPLS.py:95: RuntimeWarning: overflow encountered in matmul\n",
      "  self.x_rotations += self.eta * np.matmul(np.matmul(xi, yi.T), self.y_rotations)\n",
      "/video/data/tingan/GitRep/IPLSreview/Code/SGDPLS.py:95: RuntimeWarning: invalid value encountered in matmul\n",
      "  self.x_rotations += self.eta * np.matmul(np.matmul(xi, yi.T), self.y_rotations)\n",
      "/video/data/tingan/GitRep/IPLSreview/Code/SGDPLS.py:96: RuntimeWarning: invalid value encountered in matmul\n",
      "  self.y_rotations += self.eta * np.matmul(np.matmul(yi, xi.T), tmp)\n"
     ]
    },
    {
     "name": "stderr",
     "output_type": "stream",
     "text": [
      "/video/data/tingan/GitRep/IPLSreview/Code/SGDPLS.py:96: RuntimeWarning: overflow encountered in matmul\n",
      "  self.y_rotations += self.eta * np.matmul(np.matmul(yi, xi.T), tmp)\n",
      "/video/data/tingan/GitRep/IPLSreview/Code/SGDPLS.py:95: RuntimeWarning: overflow encountered in matmul\n",
      "  self.x_rotations += self.eta * np.matmul(np.matmul(xi, yi.T), self.y_rotations)\n",
      "/video/data/tingan/GitRep/IPLSreview/Code/SGDPLS.py:96: RuntimeWarning: invalid value encountered in matmul\n",
      "  self.y_rotations += self.eta * np.matmul(np.matmul(yi, xi.T), tmp)\n",
      "/video/data/tingan/GitRep/IPLSreview/Code/SGDPLS.py:95: RuntimeWarning: invalid value encountered in matmul\n",
      "  self.x_rotations += self.eta * np.matmul(np.matmul(xi, yi.T), self.y_rotations)\n"
     ]
    },
    {
     "name": "stderr",
     "output_type": "stream",
     "text": [
      "/video/data/tingan/GitRep/IPLSreview/Code/SGDPLS.py:96: RuntimeWarning: overflow encountered in matmul\n",
      "  self.y_rotations += self.eta * np.matmul(np.matmul(yi, xi.T), tmp)\n",
      "/video/data/tingan/GitRep/IPLSreview/Code/SGDPLS.py:96: RuntimeWarning: invalid value encountered in matmul\n",
      "  self.y_rotations += self.eta * np.matmul(np.matmul(yi, xi.T), tmp)\n",
      "/video/data/tingan/GitRep/IPLSreview/Code/SGDPLS.py:95: RuntimeWarning: invalid value encountered in matmul\n",
      "  self.x_rotations += self.eta * np.matmul(np.matmul(xi, yi.T), self.y_rotations)\n"
     ]
    },
    {
     "name": "stderr",
     "output_type": "stream",
     "text": [
      "/video/data/tingan/GitRep/IPLSreview/Code/SGDPLS.py:96: RuntimeWarning: overflow encountered in matmul\n",
      "  self.y_rotations += self.eta * np.matmul(np.matmul(yi, xi.T), tmp)\n",
      "/video/data/tingan/GitRep/IPLSreview/Code/SGDPLS.py:96: RuntimeWarning: invalid value encountered in matmul\n",
      "  self.y_rotations += self.eta * np.matmul(np.matmul(yi, xi.T), tmp)\n",
      "/video/data/tingan/GitRep/IPLSreview/Code/SGDPLS.py:95: RuntimeWarning: invalid value encountered in matmul\n",
      "  self.x_rotations += self.eta * np.matmul(np.matmul(xi, yi.T), self.y_rotations)\n"
     ]
    },
    {
     "name": "stderr",
     "output_type": "stream",
     "text": [
      "/video/data/tingan/GitRep/IPLSreview/Code/SGDPLS.py:95: RuntimeWarning: overflow encountered in matmul\n",
      "  self.x_rotations += self.eta * np.matmul(np.matmul(xi, yi.T), self.y_rotations)\n"
     ]
    },
    {
     "name": "stderr",
     "output_type": "stream",
     "text": [
      "/video/data/tingan/GitRep/IPLSreview/Code/SGDPLS.py:95: RuntimeWarning: overflow encountered in matmul\n",
      "  self.x_rotations += self.eta * np.matmul(np.matmul(xi, yi.T), self.y_rotations)\n",
      "/video/data/tingan/GitRep/IPLSreview/Code/SGDPLS.py:96: RuntimeWarning: invalid value encountered in matmul\n",
      "  self.y_rotations += self.eta * np.matmul(np.matmul(yi, xi.T), tmp)\n",
      "/video/data/tingan/GitRep/IPLSreview/Code/SGDPLS.py:95: RuntimeWarning: invalid value encountered in matmul\n",
      "  self.x_rotations += self.eta * np.matmul(np.matmul(xi, yi.T), self.y_rotations)\n"
     ]
    },
    {
     "name": "stderr",
     "output_type": "stream",
     "text": [
      "/video/data/tingan/GitRep/IPLSreview/Code/SGDPLS.py:96: RuntimeWarning: overflow encountered in matmul\n",
      "  self.y_rotations += self.eta * np.matmul(np.matmul(yi, xi.T), tmp)\n"
     ]
    },
    {
     "name": "stderr",
     "output_type": "stream",
     "text": [
      "/video/data/tingan/GitRep/IPLSreview/Code/SGDPLS.py:95: RuntimeWarning: overflow encountered in matmul\n",
      "  self.x_rotations += self.eta * np.matmul(np.matmul(xi, yi.T), self.y_rotations)\n",
      "/video/data/tingan/GitRep/IPLSreview/Code/SGDPLS.py:96: RuntimeWarning: overflow encountered in matmul\n",
      "  self.y_rotations += self.eta * np.matmul(np.matmul(yi, xi.T), tmp)\n",
      "/video/data/tingan/GitRep/IPLSreview/Code/SGDPLS.py:96: RuntimeWarning: invalid value encountered in matmul\n",
      "  self.y_rotations += self.eta * np.matmul(np.matmul(yi, xi.T), tmp)\n",
      "/video/data/tingan/GitRep/IPLSreview/Code/SGDPLS.py:95: RuntimeWarning: invalid value encountered in matmul\n",
      "  self.x_rotations += self.eta * np.matmul(np.matmul(xi, yi.T), self.y_rotations)\n"
     ]
    },
    {
     "name": "stderr",
     "output_type": "stream",
     "text": [
      "/video/data/tingan/GitRep/IPLSreview/Code/SGDPLS.py:96: RuntimeWarning: overflow encountered in matmul\n",
      "  self.y_rotations += self.eta * np.matmul(np.matmul(yi, xi.T), tmp)\n",
      "/video/data/tingan/GitRep/IPLSreview/Code/SGDPLS.py:96: RuntimeWarning: invalid value encountered in matmul\n",
      "  self.y_rotations += self.eta * np.matmul(np.matmul(yi, xi.T), tmp)\n",
      "/video/data/tingan/GitRep/IPLSreview/Code/SGDPLS.py:95: RuntimeWarning: invalid value encountered in matmul\n",
      "  self.x_rotations += self.eta * np.matmul(np.matmul(xi, yi.T), self.y_rotations)\n"
     ]
    },
    {
     "name": "stderr",
     "output_type": "stream",
     "text": [
      "/video/data/tingan/GitRep/IPLSreview/Code/SGDPLS.py:95: RuntimeWarning: overflow encountered in matmul\n",
      "  self.x_rotations += self.eta * np.matmul(np.matmul(xi, yi.T), self.y_rotations)\n"
     ]
    },
    {
     "name": "stderr",
     "output_type": "stream",
     "text": [
      "/video/data/tingan/GitRep/IPLSreview/Code/SGDPLS.py:95: RuntimeWarning: overflow encountered in matmul\n",
      "  self.x_rotations += self.eta * np.matmul(np.matmul(xi, yi.T), self.y_rotations)\n",
      "/video/data/tingan/GitRep/IPLSreview/Code/SGDPLS.py:96: RuntimeWarning: invalid value encountered in matmul\n",
      "  self.y_rotations += self.eta * np.matmul(np.matmul(yi, xi.T), tmp)\n",
      "/video/data/tingan/GitRep/IPLSreview/Code/SGDPLS.py:95: RuntimeWarning: invalid value encountered in matmul\n",
      "  self.x_rotations += self.eta * np.matmul(np.matmul(xi, yi.T), self.y_rotations)\n"
     ]
    },
    {
     "name": "stderr",
     "output_type": "stream",
     "text": [
      "/video/data/tingan/GitRep/IPLSreview/Code/SGDPLS.py:96: RuntimeWarning: overflow encountered in matmul\n",
      "  self.y_rotations += self.eta * np.matmul(np.matmul(yi, xi.T), tmp)\n"
     ]
    },
    {
     "name": "stderr",
     "output_type": "stream",
     "text": [
      "/video/data/tingan/GitRep/IPLSreview/Code/SGDPLS.py:95: RuntimeWarning: overflow encountered in matmul\n",
      "  self.x_rotations += self.eta * np.matmul(np.matmul(xi, yi.T), self.y_rotations)\n",
      "/video/data/tingan/GitRep/IPLSreview/Code/SGDPLS.py:96: RuntimeWarning: overflow encountered in matmul\n",
      "  self.y_rotations += self.eta * np.matmul(np.matmul(yi, xi.T), tmp)\n",
      "/video/data/tingan/GitRep/IPLSreview/Code/SGDPLS.py:96: RuntimeWarning: invalid value encountered in matmul\n",
      "  self.y_rotations += self.eta * np.matmul(np.matmul(yi, xi.T), tmp)\n",
      "/video/data/tingan/GitRep/IPLSreview/Code/SGDPLS.py:95: RuntimeWarning: invalid value encountered in matmul\n",
      "  self.x_rotations += self.eta * np.matmul(np.matmul(xi, yi.T), self.y_rotations)\n"
     ]
    },
    {
     "name": "stderr",
     "output_type": "stream",
     "text": [
      "/video/data/tingan/GitRep/IPLSreview/Code/SGDPLS.py:96: RuntimeWarning: overflow encountered in matmul\n",
      "  self.y_rotations += self.eta * np.matmul(np.matmul(yi, xi.T), tmp)\n",
      "/video/data/tingan/GitRep/IPLSreview/Code/SGDPLS.py:96: RuntimeWarning: invalid value encountered in matmul\n",
      "  self.y_rotations += self.eta * np.matmul(np.matmul(yi, xi.T), tmp)\n",
      "/video/data/tingan/GitRep/IPLSreview/Code/SGDPLS.py:95: RuntimeWarning: invalid value encountered in matmul\n",
      "  self.x_rotations += self.eta * np.matmul(np.matmul(xi, yi.T), self.y_rotations)\n"
     ]
    },
    {
     "name": "stderr",
     "output_type": "stream",
     "text": [
      "/video/data/tingan/GitRep/IPLSreview/Code/SGDPLS.py:95: RuntimeWarning: overflow encountered in matmul\n",
      "  self.x_rotations += self.eta * np.matmul(np.matmul(xi, yi.T), self.y_rotations)\n"
     ]
    },
    {
     "name": "stderr",
     "output_type": "stream",
     "text": [
      "/video/data/tingan/GitRep/IPLSreview/Code/SGDPLS.py:96: RuntimeWarning: overflow encountered in matmul\n",
      "  self.y_rotations += self.eta * np.matmul(np.matmul(yi, xi.T), tmp)\n",
      "/video/data/tingan/GitRep/IPLSreview/Code/SGDPLS.py:95: RuntimeWarning: invalid value encountered in matmul\n",
      "  self.x_rotations += self.eta * np.matmul(np.matmul(xi, yi.T), self.y_rotations)\n"
     ]
    },
    {
     "name": "stderr",
     "output_type": "stream",
     "text": [
      "/video/data/tingan/GitRep/IPLSreview/Code/SGDPLS.py:96: RuntimeWarning: invalid value encountered in matmul\n",
      "  self.y_rotations += self.eta * np.matmul(np.matmul(yi, xi.T), tmp)\n"
     ]
    },
    {
     "name": "stderr",
     "output_type": "stream",
     "text": [
      "/video/data/tingan/GitRep/IPLSreview/Code/SGDPLS.py:95: RuntimeWarning: overflow encountered in matmul\n",
      "  self.x_rotations += self.eta * np.matmul(np.matmul(xi, yi.T), self.y_rotations)\n",
      "/video/data/tingan/GitRep/IPLSreview/Code/SGDPLS.py:96: RuntimeWarning: invalid value encountered in matmul\n",
      "  self.y_rotations += self.eta * np.matmul(np.matmul(yi, xi.T), tmp)\n",
      "/video/data/tingan/GitRep/IPLSreview/Code/SGDPLS.py:95: RuntimeWarning: invalid value encountered in matmul\n",
      "  self.x_rotations += self.eta * np.matmul(np.matmul(xi, yi.T), self.y_rotations)\n"
     ]
    },
    {
     "name": "stderr",
     "output_type": "stream",
     "text": [
      "/video/data/tingan/GitRep/IPLSreview/Code/SGDPLS.py:96: RuntimeWarning: overflow encountered in matmul\n",
      "  self.y_rotations += self.eta * np.matmul(np.matmul(yi, xi.T), tmp)\n",
      "/video/data/tingan/GitRep/IPLSreview/Code/SGDPLS.py:96: RuntimeWarning: invalid value encountered in matmul\n",
      "  self.y_rotations += self.eta * np.matmul(np.matmul(yi, xi.T), tmp)\n",
      "/video/data/tingan/GitRep/IPLSreview/Code/SGDPLS.py:95: RuntimeWarning: invalid value encountered in matmul\n",
      "  self.x_rotations += self.eta * np.matmul(np.matmul(xi, yi.T), self.y_rotations)\n"
     ]
    },
    {
     "name": "stderr",
     "output_type": "stream",
     "text": [
      "/video/data/tingan/GitRep/IPLSreview/Code/SGDPLS.py:95: RuntimeWarning: overflow encountered in matmul\n",
      "  self.x_rotations += self.eta * np.matmul(np.matmul(xi, yi.T), self.y_rotations)\n"
     ]
    },
    {
     "name": "stderr",
     "output_type": "stream",
     "text": [
      "/video/data/tingan/GitRep/IPLSreview/Code/SGDPLS.py:96: RuntimeWarning: overflow encountered in matmul\n",
      "  self.y_rotations += self.eta * np.matmul(np.matmul(yi, xi.T), tmp)\n",
      "/video/data/tingan/GitRep/IPLSreview/Code/SGDPLS.py:96: RuntimeWarning: invalid value encountered in matmul\n",
      "  self.y_rotations += self.eta * np.matmul(np.matmul(yi, xi.T), tmp)\n",
      "/video/data/tingan/GitRep/IPLSreview/Code/SGDPLS.py:95: RuntimeWarning: invalid value encountered in matmul\n",
      "  self.x_rotations += self.eta * np.matmul(np.matmul(xi, yi.T), self.y_rotations)\n"
     ]
    },
    {
     "name": "stderr",
     "output_type": "stream",
     "text": [
      "/video/data/tingan/GitRep/IPLSreview/Code/SGDPLS.py:96: RuntimeWarning: overflow encountered in matmul\n",
      "  self.y_rotations += self.eta * np.matmul(np.matmul(yi, xi.T), tmp)\n",
      "/video/data/tingan/GitRep/IPLSreview/Code/SGDPLS.py:96: RuntimeWarning: invalid value encountered in matmul\n",
      "  self.y_rotations += self.eta * np.matmul(np.matmul(yi, xi.T), tmp)\n",
      "/video/data/tingan/GitRep/IPLSreview/Code/SGDPLS.py:95: RuntimeWarning: invalid value encountered in matmul\n",
      "  self.x_rotations += self.eta * np.matmul(np.matmul(xi, yi.T), self.y_rotations)\n"
     ]
    },
    {
     "name": "stderr",
     "output_type": "stream",
     "text": [
      "/video/data/tingan/GitRep/IPLSreview/Code/SGDPLS.py:96: RuntimeWarning: overflow encountered in matmul\n",
      "  self.y_rotations += self.eta * np.matmul(np.matmul(yi, xi.T), tmp)\n",
      "/video/data/tingan/GitRep/IPLSreview/Code/SGDPLS.py:96: RuntimeWarning: invalid value encountered in matmul\n",
      "  self.y_rotations += self.eta * np.matmul(np.matmul(yi, xi.T), tmp)\n",
      "/video/data/tingan/GitRep/IPLSreview/Code/SGDPLS.py:95: RuntimeWarning: invalid value encountered in matmul\n",
      "  self.x_rotations += self.eta * np.matmul(np.matmul(xi, yi.T), self.y_rotations)\n"
     ]
    },
    {
     "name": "stderr",
     "output_type": "stream",
     "text": [
      "/video/data/tingan/GitRep/IPLSreview/Code/SGDPLS.py:95: RuntimeWarning: overflow encountered in matmul\n",
      "  self.x_rotations += self.eta * np.matmul(np.matmul(xi, yi.T), self.y_rotations)\n"
     ]
    },
    {
     "name": "stderr",
     "output_type": "stream",
     "text": [
      "/video/data/tingan/GitRep/IPLSreview/Code/SGDPLS.py:95: RuntimeWarning: overflow encountered in matmul\n",
      "  self.x_rotations += self.eta * np.matmul(np.matmul(xi, yi.T), self.y_rotations)\n",
      "/video/data/tingan/GitRep/IPLSreview/Code/SGDPLS.py:96: RuntimeWarning: overflow encountered in matmul\n",
      "  self.y_rotations += self.eta * np.matmul(np.matmul(yi, xi.T), tmp)\n",
      "/video/data/tingan/GitRep/IPLSreview/Code/SGDPLS.py:96: RuntimeWarning: invalid value encountered in matmul\n",
      "  self.y_rotations += self.eta * np.matmul(np.matmul(yi, xi.T), tmp)\n",
      "/video/data/tingan/GitRep/IPLSreview/Code/SGDPLS.py:95: RuntimeWarning: invalid value encountered in matmul\n",
      "  self.x_rotations += self.eta * np.matmul(np.matmul(xi, yi.T), self.y_rotations)\n"
     ]
    },
    {
     "name": "stderr",
     "output_type": "stream",
     "text": [
      "/video/data/tingan/GitRep/IPLSreview/Code/SGDPLS.py:96: RuntimeWarning: overflow encountered in matmul\n",
      "  self.y_rotations += self.eta * np.matmul(np.matmul(yi, xi.T), tmp)\n",
      "/video/data/tingan/GitRep/IPLSreview/Code/SGDPLS.py:96: RuntimeWarning: invalid value encountered in matmul\n",
      "  self.y_rotations += self.eta * np.matmul(np.matmul(yi, xi.T), tmp)\n",
      "/video/data/tingan/GitRep/IPLSreview/Code/SGDPLS.py:95: RuntimeWarning: invalid value encountered in matmul\n",
      "  self.x_rotations += self.eta * np.matmul(np.matmul(xi, yi.T), self.y_rotations)\n"
     ]
    },
    {
     "name": "stderr",
     "output_type": "stream",
     "text": [
      "/video/data/tingan/GitRep/IPLSreview/Code/SGDPLS.py:95: RuntimeWarning: overflow encountered in matmul\n",
      "  self.x_rotations += self.eta * np.matmul(np.matmul(xi, yi.T), self.y_rotations)\n",
      "/video/data/tingan/GitRep/IPLSreview/Code/SGDPLS.py:96: RuntimeWarning: invalid value encountered in matmul\n",
      "  self.y_rotations += self.eta * np.matmul(np.matmul(yi, xi.T), tmp)\n",
      "/video/data/tingan/GitRep/IPLSreview/Code/SGDPLS.py:95: RuntimeWarning: invalid value encountered in matmul\n",
      "  self.x_rotations += self.eta * np.matmul(np.matmul(xi, yi.T), self.y_rotations)\n"
     ]
    },
    {
     "name": "stderr",
     "output_type": "stream",
     "text": [
      "/video/data/tingan/GitRep/IPLSreview/Code/SGDPLS.py:96: RuntimeWarning: overflow encountered in matmul\n",
      "  self.y_rotations += self.eta * np.matmul(np.matmul(yi, xi.T), tmp)\n"
     ]
    },
    {
     "name": "stderr",
     "output_type": "stream",
     "text": [
      "/video/data/tingan/GitRep/IPLSreview/Code/SGDPLS.py:95: RuntimeWarning: overflow encountered in matmul\n",
      "  self.x_rotations += self.eta * np.matmul(np.matmul(xi, yi.T), self.y_rotations)\n",
      "/video/data/tingan/GitRep/IPLSreview/Code/SGDPLS.py:96: RuntimeWarning: overflow encountered in matmul\n",
      "  self.y_rotations += self.eta * np.matmul(np.matmul(yi, xi.T), tmp)\n",
      "/video/data/tingan/GitRep/IPLSreview/Code/SGDPLS.py:96: RuntimeWarning: invalid value encountered in matmul\n",
      "  self.y_rotations += self.eta * np.matmul(np.matmul(yi, xi.T), tmp)\n",
      "/video/data/tingan/GitRep/IPLSreview/Code/SGDPLS.py:95: RuntimeWarning: invalid value encountered in matmul\n",
      "  self.x_rotations += self.eta * np.matmul(np.matmul(xi, yi.T), self.y_rotations)\n"
     ]
    },
    {
     "name": "stdout",
     "output_type": "stream",
     "text": [
      "[CV 2/17] END ..........................eta=1e-05;, score=nan total time=28.2min\n",
      "[CV 5/17] END ..........................eta=1e-05;, score=nan total time=38.7min\n",
      "[CV 8/17] END ..........................eta=1e-05;, score=nan total time=44.6min\n",
      "[CV 12/17] END .........................eta=1e-05;, score=nan total time=55.2min\n",
      "[CV 15/17] END .........................eta=1e-05;, score=nan total time=55.7min\n",
      "[CV 1/17] END ..........................eta=1e-06;, score=nan total time=26.0min\n",
      "[CV 2/17] END ..........................eta=1e-06;, score=nan total time=28.0min\n",
      "[CV 3/17] END ..........................eta=1e-06;, score=nan total time=30.0min\n",
      "[CV 6/17] END ..........................eta=1e-06;, score=nan total time=37.5min\n",
      "[CV 9/17] END ..........................eta=1e-06;, score=nan total time=44.9min\n",
      "[CV 12/17] END .........................eta=1e-06;, score=nan total time=51.6min\n",
      "[CV 15/17] END .........................eta=1e-06;, score=nan total time=63.3min\n",
      "[CV 1/17] END ..........................eta=1e-07;, score=nan total time=28.3min\n",
      "[CV 3/17] END ..........................eta=1e-07;, score=nan total time=29.4min\n",
      "[CV 6/17] END ..........................eta=1e-07;, score=nan total time=35.6min\n",
      "[CV 9/17] END ..........................eta=1e-07;, score=nan total time=44.0min\n",
      "[CV 12/17] END .........................eta=1e-07;, score=nan total time=51.7min\n",
      "[CV 15/17] END .........................eta=1e-07;, score=nan total time=62.7min\n"
     ]
    },
    {
     "name": "stdout",
     "output_type": "stream",
     "text": [
      "[CV 3/17] END ..........................eta=1e-05;, score=nan total time=31.0min\n",
      "[CV 6/17] END ..........................eta=1e-05;, score=nan total time=37.0min\n",
      "[CV 9/17] END ..........................eta=1e-05;, score=nan total time=43.2min\n",
      "[CV 11/17] END .........................eta=1e-05;, score=nan total time=47.1min\n",
      "[CV 14/17] END .........................eta=1e-05;, score=nan total time=59.6min\n",
      "[CV 17/17] END .........................eta=1e-05;, score=nan total time=68.1min\n",
      "[CV 5/17] END ..........................eta=1e-06;, score=nan total time=38.5min\n",
      "[CV 8/17] END ..........................eta=1e-06;, score=nan total time=43.2min\n",
      "[CV 11/17] END .........................eta=1e-06;, score=nan total time=49.1min\n",
      "[CV 14/17] END .........................eta=1e-06;, score=nan total time=54.8min\n",
      "[CV 17/17] END .........................eta=1e-06;, score=nan total time=61.5min\n",
      "[CV 4/17] END ..........................eta=1e-07;, score=nan total time=36.2min\n",
      "[CV 7/17] END ..........................eta=1e-07;, score=nan total time=42.9min\n",
      "[CV 10/17] END .........................eta=1e-07;, score=nan total time=47.4min\n",
      "[CV 13/17] END .........................eta=1e-07;, score=nan total time=52.8min\n",
      "[CV 16/17] END .........................eta=1e-07;, score=nan total time=56.3min\n"
     ]
    },
    {
     "ename": "ValueError",
     "evalue": "\nAll the 51 fits failed.\nIt is very likely that your model is misconfigured.\nYou can try to debug the error by setting error_score='raise'.\n\nBelow are more details about the failures:\n--------------------------------------------------------------------------------\n51 fits failed with the following error:\nTraceback (most recent call last):\n  File \"/home/tingan/miniconda3/envs/pls/lib/python3.9/site-packages/sklearn/model_selection/_validation.py\", line 888, in _fit_and_score\n    estimator.fit(X_train, y_train, **fit_params)\n  File \"/video/data/tingan/GitRep/IPLSreview/Code/SGDPLS.py\", line 98, in fit\n    self._find_projections(X,Y)\n  File \"/video/data/tingan/GitRep/IPLSreview/Code/SGDPLS.py\", line 104, in _find_projections\n    t = np.dot(X[i], gram_schmidt_normalize(self.x_rotations.T[c-1][:, np.newaxis]).ravel()  )\n  File \"/video/data/tingan/GitRep/IPLSreview/Code/SGDPLS.py\", line 14, in gram_schmidt_normalize\n    X = check_array(X, dtype=FLOAT_DTYPES, copy=copy, ensure_2d=True)\n  File \"/home/tingan/miniconda3/envs/pls/lib/python3.9/site-packages/sklearn/utils/validation.py\", line 1059, in check_array\n    _assert_all_finite(\n  File \"/home/tingan/miniconda3/envs/pls/lib/python3.9/site-packages/sklearn/utils/validation.py\", line 126, in _assert_all_finite\n    _assert_all_finite_element_wise(\n  File \"/home/tingan/miniconda3/envs/pls/lib/python3.9/site-packages/sklearn/utils/validation.py\", line 175, in _assert_all_finite_element_wise\n    raise ValueError(msg_err)\nValueError: Input contains NaN.\n",
     "output_type": "error",
     "traceback": [
      "\u001b[0;31m---------------------------------------------------------------------------\u001b[0m",
      "\u001b[0;31mValueError\u001b[0m                                Traceback (most recent call last)",
      "Cell \u001b[0;32mIn[14], line 12\u001b[0m\n\u001b[1;32m     10\u001b[0m \u001b[38;5;28mprint\u001b[39m(clf)\n\u001b[1;32m     11\u001b[0m tim\u001b[38;5;241m.\u001b[39mtic()\n\u001b[0;32m---> 12\u001b[0m \u001b[43mclf\u001b[49m\u001b[38;5;241;43m.\u001b[39;49m\u001b[43mfit\u001b[49m\u001b[43m(\u001b[49m\u001b[43mX_train\u001b[49m\u001b[43m,\u001b[49m\u001b[43m \u001b[49m\u001b[43mY_train\u001b[49m\u001b[43m)\u001b[49m\n\u001b[1;32m     13\u001b[0m \u001b[38;5;28mprint\u001b[39m(\u001b[38;5;124m\"\u001b[39m\u001b[38;5;124mCV elapsed time: \u001b[39m\u001b[38;5;132;01m{:.2f}\u001b[39;00m\u001b[38;5;124ms\u001b[39m\u001b[38;5;124m\"\u001b[39m\u001b[38;5;241m.\u001b[39mformat(tim\u001b[38;5;241m.\u001b[39mtocvalue()))\n\u001b[1;32m     14\u001b[0m \u001b[38;5;28mprint\u001b[39m(\u001b[38;5;124m\"\u001b[39m\u001b[38;5;124mbest parameter: \u001b[39m\u001b[38;5;124m\"\u001b[39m, clf\u001b[38;5;241m.\u001b[39mbest_params_,\n\u001b[1;32m     15\u001b[0m       \u001b[38;5;124m\"\u001b[39m\u001b[38;5;124m; score: \u001b[39m\u001b[38;5;132;01m{:15.7e}\u001b[39;00m\u001b[38;5;124m\"\u001b[39m\u001b[38;5;241m.\u001b[39mformat(clf\u001b[38;5;241m.\u001b[39mbest_score_))\n",
      "File \u001b[0;32m~/miniconda3/envs/pls/lib/python3.9/site-packages/sklearn/base.py:1473\u001b[0m, in \u001b[0;36m_fit_context.<locals>.decorator.<locals>.wrapper\u001b[0;34m(estimator, *args, **kwargs)\u001b[0m\n\u001b[1;32m   1466\u001b[0m     estimator\u001b[38;5;241m.\u001b[39m_validate_params()\n\u001b[1;32m   1468\u001b[0m \u001b[38;5;28;01mwith\u001b[39;00m config_context(\n\u001b[1;32m   1469\u001b[0m     skip_parameter_validation\u001b[38;5;241m=\u001b[39m(\n\u001b[1;32m   1470\u001b[0m         prefer_skip_nested_validation \u001b[38;5;129;01mor\u001b[39;00m global_skip_validation\n\u001b[1;32m   1471\u001b[0m     )\n\u001b[1;32m   1472\u001b[0m ):\n\u001b[0;32m-> 1473\u001b[0m     \u001b[38;5;28;01mreturn\u001b[39;00m \u001b[43mfit_method\u001b[49m\u001b[43m(\u001b[49m\u001b[43mestimator\u001b[49m\u001b[43m,\u001b[49m\u001b[43m \u001b[49m\u001b[38;5;241;43m*\u001b[39;49m\u001b[43margs\u001b[49m\u001b[43m,\u001b[49m\u001b[43m \u001b[49m\u001b[38;5;241;43m*\u001b[39;49m\u001b[38;5;241;43m*\u001b[39;49m\u001b[43mkwargs\u001b[49m\u001b[43m)\u001b[49m\n",
      "File \u001b[0;32m~/miniconda3/envs/pls/lib/python3.9/site-packages/sklearn/model_selection/_search.py:968\u001b[0m, in \u001b[0;36mBaseSearchCV.fit\u001b[0;34m(self, X, y, **params)\u001b[0m\n\u001b[1;32m    962\u001b[0m     results \u001b[38;5;241m=\u001b[39m \u001b[38;5;28mself\u001b[39m\u001b[38;5;241m.\u001b[39m_format_results(\n\u001b[1;32m    963\u001b[0m         all_candidate_params, n_splits, all_out, all_more_results\n\u001b[1;32m    964\u001b[0m     )\n\u001b[1;32m    966\u001b[0m     \u001b[38;5;28;01mreturn\u001b[39;00m results\n\u001b[0;32m--> 968\u001b[0m \u001b[38;5;28;43mself\u001b[39;49m\u001b[38;5;241;43m.\u001b[39;49m\u001b[43m_run_search\u001b[49m\u001b[43m(\u001b[49m\u001b[43mevaluate_candidates\u001b[49m\u001b[43m)\u001b[49m\n\u001b[1;32m    970\u001b[0m \u001b[38;5;66;03m# multimetric is determined here because in the case of a callable\u001b[39;00m\n\u001b[1;32m    971\u001b[0m \u001b[38;5;66;03m# self.scoring the return type is only known after calling\u001b[39;00m\n\u001b[1;32m    972\u001b[0m first_test_score \u001b[38;5;241m=\u001b[39m all_out[\u001b[38;5;241m0\u001b[39m][\u001b[38;5;124m\"\u001b[39m\u001b[38;5;124mtest_scores\u001b[39m\u001b[38;5;124m\"\u001b[39m]\n",
      "File \u001b[0;32m~/miniconda3/envs/pls/lib/python3.9/site-packages/sklearn/model_selection/_search.py:1543\u001b[0m, in \u001b[0;36mGridSearchCV._run_search\u001b[0;34m(self, evaluate_candidates)\u001b[0m\n\u001b[1;32m   1541\u001b[0m \u001b[38;5;28;01mdef\u001b[39;00m \u001b[38;5;21m_run_search\u001b[39m(\u001b[38;5;28mself\u001b[39m, evaluate_candidates):\n\u001b[1;32m   1542\u001b[0m \u001b[38;5;250m    \u001b[39m\u001b[38;5;124;03m\"\"\"Search all candidates in param_grid\"\"\"\u001b[39;00m\n\u001b[0;32m-> 1543\u001b[0m     \u001b[43mevaluate_candidates\u001b[49m\u001b[43m(\u001b[49m\u001b[43mParameterGrid\u001b[49m\u001b[43m(\u001b[49m\u001b[38;5;28;43mself\u001b[39;49m\u001b[38;5;241;43m.\u001b[39;49m\u001b[43mparam_grid\u001b[49m\u001b[43m)\u001b[49m\u001b[43m)\u001b[49m\n",
      "File \u001b[0;32m~/miniconda3/envs/pls/lib/python3.9/site-packages/sklearn/model_selection/_search.py:945\u001b[0m, in \u001b[0;36mBaseSearchCV.fit.<locals>.evaluate_candidates\u001b[0;34m(candidate_params, cv, more_results)\u001b[0m\n\u001b[1;32m    938\u001b[0m \u001b[38;5;28;01melif\u001b[39;00m \u001b[38;5;28mlen\u001b[39m(out) \u001b[38;5;241m!=\u001b[39m n_candidates \u001b[38;5;241m*\u001b[39m n_splits:\n\u001b[1;32m    939\u001b[0m     \u001b[38;5;28;01mraise\u001b[39;00m \u001b[38;5;167;01mValueError\u001b[39;00m(\n\u001b[1;32m    940\u001b[0m         \u001b[38;5;124m\"\u001b[39m\u001b[38;5;124mcv.split and cv.get_n_splits returned \u001b[39m\u001b[38;5;124m\"\u001b[39m\n\u001b[1;32m    941\u001b[0m         \u001b[38;5;124m\"\u001b[39m\u001b[38;5;124minconsistent results. Expected \u001b[39m\u001b[38;5;132;01m{}\u001b[39;00m\u001b[38;5;124m \u001b[39m\u001b[38;5;124m\"\u001b[39m\n\u001b[1;32m    942\u001b[0m         \u001b[38;5;124m\"\u001b[39m\u001b[38;5;124msplits, got \u001b[39m\u001b[38;5;132;01m{}\u001b[39;00m\u001b[38;5;124m\"\u001b[39m\u001b[38;5;241m.\u001b[39mformat(n_splits, \u001b[38;5;28mlen\u001b[39m(out) \u001b[38;5;241m/\u001b[39m\u001b[38;5;241m/\u001b[39m n_candidates)\n\u001b[1;32m    943\u001b[0m     )\n\u001b[0;32m--> 945\u001b[0m \u001b[43m_warn_or_raise_about_fit_failures\u001b[49m\u001b[43m(\u001b[49m\u001b[43mout\u001b[49m\u001b[43m,\u001b[49m\u001b[43m \u001b[49m\u001b[38;5;28;43mself\u001b[39;49m\u001b[38;5;241;43m.\u001b[39;49m\u001b[43merror_score\u001b[49m\u001b[43m)\u001b[49m\n\u001b[1;32m    947\u001b[0m \u001b[38;5;66;03m# For callable self.scoring, the return type is only know after\u001b[39;00m\n\u001b[1;32m    948\u001b[0m \u001b[38;5;66;03m# calling. If the return type is a dictionary, the error scores\u001b[39;00m\n\u001b[1;32m    949\u001b[0m \u001b[38;5;66;03m# can now be inserted with the correct key. The type checking\u001b[39;00m\n\u001b[1;32m    950\u001b[0m \u001b[38;5;66;03m# of out will be done in `_insert_error_scores`.\u001b[39;00m\n\u001b[1;32m    951\u001b[0m \u001b[38;5;28;01mif\u001b[39;00m \u001b[38;5;28mcallable\u001b[39m(\u001b[38;5;28mself\u001b[39m\u001b[38;5;241m.\u001b[39mscoring):\n",
      "File \u001b[0;32m~/miniconda3/envs/pls/lib/python3.9/site-packages/sklearn/model_selection/_validation.py:529\u001b[0m, in \u001b[0;36m_warn_or_raise_about_fit_failures\u001b[0;34m(results, error_score)\u001b[0m\n\u001b[1;32m    522\u001b[0m \u001b[38;5;28;01mif\u001b[39;00m num_failed_fits \u001b[38;5;241m==\u001b[39m num_fits:\n\u001b[1;32m    523\u001b[0m     all_fits_failed_message \u001b[38;5;241m=\u001b[39m (\n\u001b[1;32m    524\u001b[0m         \u001b[38;5;124mf\u001b[39m\u001b[38;5;124m\"\u001b[39m\u001b[38;5;130;01m\\n\u001b[39;00m\u001b[38;5;124mAll the \u001b[39m\u001b[38;5;132;01m{\u001b[39;00mnum_fits\u001b[38;5;132;01m}\u001b[39;00m\u001b[38;5;124m fits failed.\u001b[39m\u001b[38;5;130;01m\\n\u001b[39;00m\u001b[38;5;124m\"\u001b[39m\n\u001b[1;32m    525\u001b[0m         \u001b[38;5;124m\"\u001b[39m\u001b[38;5;124mIt is very likely that your model is misconfigured.\u001b[39m\u001b[38;5;130;01m\\n\u001b[39;00m\u001b[38;5;124m\"\u001b[39m\n\u001b[1;32m    526\u001b[0m         \u001b[38;5;124m\"\u001b[39m\u001b[38;5;124mYou can try to debug the error by setting error_score=\u001b[39m\u001b[38;5;124m'\u001b[39m\u001b[38;5;124mraise\u001b[39m\u001b[38;5;124m'\u001b[39m\u001b[38;5;124m.\u001b[39m\u001b[38;5;130;01m\\n\u001b[39;00m\u001b[38;5;130;01m\\n\u001b[39;00m\u001b[38;5;124m\"\u001b[39m\n\u001b[1;32m    527\u001b[0m         \u001b[38;5;124mf\u001b[39m\u001b[38;5;124m\"\u001b[39m\u001b[38;5;124mBelow are more details about the failures:\u001b[39m\u001b[38;5;130;01m\\n\u001b[39;00m\u001b[38;5;132;01m{\u001b[39;00mfit_errors_summary\u001b[38;5;132;01m}\u001b[39;00m\u001b[38;5;124m\"\u001b[39m\n\u001b[1;32m    528\u001b[0m     )\n\u001b[0;32m--> 529\u001b[0m     \u001b[38;5;28;01mraise\u001b[39;00m \u001b[38;5;167;01mValueError\u001b[39;00m(all_fits_failed_message)\n\u001b[1;32m    531\u001b[0m \u001b[38;5;28;01melse\u001b[39;00m:\n\u001b[1;32m    532\u001b[0m     some_fits_failed_message \u001b[38;5;241m=\u001b[39m (\n\u001b[1;32m    533\u001b[0m         \u001b[38;5;124mf\u001b[39m\u001b[38;5;124m\"\u001b[39m\u001b[38;5;130;01m\\n\u001b[39;00m\u001b[38;5;132;01m{\u001b[39;00mnum_failed_fits\u001b[38;5;132;01m}\u001b[39;00m\u001b[38;5;124m fits failed out of a total of \u001b[39m\u001b[38;5;132;01m{\u001b[39;00mnum_fits\u001b[38;5;132;01m}\u001b[39;00m\u001b[38;5;124m.\u001b[39m\u001b[38;5;130;01m\\n\u001b[39;00m\u001b[38;5;124m\"\u001b[39m\n\u001b[1;32m    534\u001b[0m         \u001b[38;5;124m\"\u001b[39m\u001b[38;5;124mThe score on these train-test partitions for these parameters\u001b[39m\u001b[38;5;124m\"\u001b[39m\n\u001b[0;32m   (...)\u001b[0m\n\u001b[1;32m    538\u001b[0m         \u001b[38;5;124mf\u001b[39m\u001b[38;5;124m\"\u001b[39m\u001b[38;5;124mBelow are more details about the failures:\u001b[39m\u001b[38;5;130;01m\\n\u001b[39;00m\u001b[38;5;132;01m{\u001b[39;00mfit_errors_summary\u001b[38;5;132;01m}\u001b[39;00m\u001b[38;5;124m\"\u001b[39m\n\u001b[1;32m    539\u001b[0m     )\n",
      "\u001b[0;31mValueError\u001b[0m: \nAll the 51 fits failed.\nIt is very likely that your model is misconfigured.\nYou can try to debug the error by setting error_score='raise'.\n\nBelow are more details about the failures:\n--------------------------------------------------------------------------------\n51 fits failed with the following error:\nTraceback (most recent call last):\n  File \"/home/tingan/miniconda3/envs/pls/lib/python3.9/site-packages/sklearn/model_selection/_validation.py\", line 888, in _fit_and_score\n    estimator.fit(X_train, y_train, **fit_params)\n  File \"/video/data/tingan/GitRep/IPLSreview/Code/SGDPLS.py\", line 98, in fit\n    self._find_projections(X,Y)\n  File \"/video/data/tingan/GitRep/IPLSreview/Code/SGDPLS.py\", line 104, in _find_projections\n    t = np.dot(X[i], gram_schmidt_normalize(self.x_rotations.T[c-1][:, np.newaxis]).ravel()  )\n  File \"/video/data/tingan/GitRep/IPLSreview/Code/SGDPLS.py\", line 14, in gram_schmidt_normalize\n    X = check_array(X, dtype=FLOAT_DTYPES, copy=copy, ensure_2d=True)\n  File \"/home/tingan/miniconda3/envs/pls/lib/python3.9/site-packages/sklearn/utils/validation.py\", line 1059, in check_array\n    _assert_all_finite(\n  File \"/home/tingan/miniconda3/envs/pls/lib/python3.9/site-packages/sklearn/utils/validation.py\", line 126, in _assert_all_finite\n    _assert_all_finite_element_wise(\n  File \"/home/tingan/miniconda3/envs/pls/lib/python3.9/site-packages/sklearn/utils/validation.py\", line 175, in _assert_all_finite_element_wise\n    raise ValueError(msg_err)\nValueError: Input contains NaN.\n"
     ]
    },
    {
     "name": "stdout",
     "output_type": "stream",
     "text": [
      "[CV 1/17] END ..........................eta=1e-05;, score=nan total time=26.1min\n",
      "[CV 4/17] END ..........................eta=1e-05;, score=nan total time=36.1min\n",
      "[CV 7/17] END ..........................eta=1e-05;, score=nan total time=43.6min\n",
      "[CV 10/17] END .........................eta=1e-05;, score=nan total time=50.9min\n",
      "[CV 13/17] END .........................eta=1e-05;, score=nan total time=57.2min\n",
      "[CV 16/17] END .........................eta=1e-05;, score=nan total time=65.6min\n",
      "[CV 4/17] END ..........................eta=1e-06;, score=nan total time=36.3min\n",
      "[CV 7/17] END ..........................eta=1e-06;, score=nan total time=41.3min\n",
      "[CV 10/17] END .........................eta=1e-06;, score=nan total time=45.7min\n",
      "[CV 13/17] END .........................eta=1e-06;, score=nan total time=54.7min\n",
      "[CV 16/17] END .........................eta=1e-06;, score=nan total time=67.0min\n",
      "[CV 2/17] END ..........................eta=1e-07;, score=nan total time=31.7min\n",
      "[CV 5/17] END ..........................eta=1e-07;, score=nan total time=38.3min\n",
      "[CV 8/17] END ..........................eta=1e-07;, score=nan total time=43.6min\n",
      "[CV 11/17] END .........................eta=1e-07;, score=nan total time=49.5min\n",
      "[CV 14/17] END .........................eta=1e-07;, score=nan total time=60.1min\n",
      "[CV 17/17] END .........................eta=1e-07;, score=nan total time=40.1min\n"
     ]
    }
   ],
   "source": [
    "import Code.SGDPLS\n",
    "importlib.reload(Code.SGDPLS)\n",
    "from Code.SGDPLS import SGDPLS\n",
    "\n",
    "eta_list= [1e-5, 1e-6, 1e-7]\n",
    "parameters = {'eta': eta_list}\n",
    "clf = GridSearchCV(SGDPLS(),  parameters,\n",
    "                   cv=tscv, verbose=4, n_jobs=3, \n",
    "                   scoring='neg_root_mean_squared_error')\n",
    "print(clf)\n",
    "tim.tic()\n",
    "clf.fit(X_train, Y_train)\n",
    "print(\"CV elapsed time: {:.2f}s\".format(tim.tocvalue()))\n",
    "print(\"best parameter: \", clf.best_params_,\n",
    "      \"; score: {:15.7e}\".format(clf.best_score_))\n"
   ]
  },
  {
   "cell_type": "code",
   "execution_count": 8,
   "id": "9b2a20fe-bdc2-4b56-a3d3-98b3b0af9ec2",
   "metadata": {
    "collapsed": false
   },
   "outputs": [
    {
     "name": "stdout",
     "output_type": "stream",
     "text": [
      "  4.7033004e-14\n"
     ]
    }
   ],
   "source": [
    "import Code.ISIMPLS\n",
    "importlib.reload(Code.ISIMPLS)\n",
    "from Code.ISIMPLS import ISIMPLS2 as ISIMPLS\n",
    "import Code.SIMPLS\n",
    "importlib.reload(Code.SIMPLS)\n",
    "from Code.SIMPLS import SIMPLS\n",
    "\n",
    "PLS1 = SIMPLS(n_components=5)\n",
    "ypred1 = PLS1.fit(X_train, Y_train).predict(X_train)\n",
    "PLS2 = ISIMPLS(n_components=5)\n",
    "ypred2 = PLS2.fit(X_train, Y_train).predict(X_train)\n",
    "\n",
    "print(\"{:15.7e}\".format(RMSE(ypred1, ypred2)))"
   ]
  },
  {
   "cell_type": "code",
   "execution_count": null,
   "id": "47aab183-76f8-44a7-8eed-3482a4b11f97",
   "metadata": {
    "collapsed": false
   },
   "outputs": [],
   "source": []
  }
 ],
 "metadata": {
  "kernelspec": {
   "argv": [
    "/home/tingan/miniconda3/envs/pls/bin/python",
    "-m",
    "ipykernel_launcher",
    "-f",
    "{connection_file}"
   ],
   "display_name": "Python 3 (ipykernel)",
   "env": null,
   "interrupt_mode": "signal",
   "language": "python",
   "metadata": {
    "debugger": true
   },
   "name": "python3"
  },
  "language_info": {
   "codemirror_mode": {
    "name": "ipython",
    "version": 3
   },
   "file_extension": ".py",
   "mimetype": "text/x-python",
   "name": "python",
   "nbconvert_exporter": "python",
   "pygments_lexer": "ipython3",
   "version": "3.10.11"
  },
  "name": "CV_PM25.ipynb"
 },
 "nbformat": 4,
 "nbformat_minor": 5
}
