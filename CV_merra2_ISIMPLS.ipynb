{
 "cells": [
  {
   "cell_type": "code",
   "execution_count": 1,
   "id": "16b94288-d84f-419e-8af7-4b2ef7b0625f",
   "metadata": {
    "collapsed": false,
    "jupyter": {
     "outputs_hidden": false
    }
   },
   "outputs": [],
   "source": [
    "import importlib\n",
    "import copy\n",
    "import pickle\n",
    "# --------------------\n",
    "from sklearn.utils import gen_batches, check_array\n",
    "from sklearn.model_selection import GridSearchCV, TimeSeriesSplit\n",
    "from sklearn.metrics import root_mean_squared_error as RMSE\n",
    "from sklearn.utils.validation import FLOAT_DTYPES\n",
    "import numpy as np\n",
    "from numpy.linalg import norm,inv,matrix_rank, pinv\n",
    "# --------------------\n",
    "from skopt.space import Integer\n",
    "from skopt.utils import use_named_args\n",
    "from skopt import gp_minimize\n",
    "# --------------------\n",
    "import h5py\n",
    "from sklearn.cross_decomposition import PLSRegression\n",
    "\n",
    "# import warnings\n",
    "# warnings.filterwarnings('ignore')\n",
    "\n",
    "from pytictoc import TicToc\n",
    "tim=TicToc()\n",
    "tim_tot = TicToc()"
   ]
  },
  {
   "cell_type": "code",
   "execution_count": 2,
   "id": "8119ca6a-990a-4d0d-98fb-1c5887f0434a",
   "metadata": {
    "collapsed": false
   },
   "outputs": [],
   "source": [
    "def RollingCV(tscv,X):\n",
    "    cv = tscv.split(X)\n",
    "    (train_index, test_index) = next(cv)\n",
    "    yield(\n",
    "        train_index,\n",
    "        test_index\n",
    "    )\n",
    "    test_size = len(test_index)\n",
    "\n",
    "    for (train_index, test_index) in (cv):\n",
    "        yield(\n",
    "            train_index[-test_size:],\n",
    "            test_index\n",
    "        )"
   ]
  },
  {
   "cell_type": "code",
   "execution_count": 3,
   "id": "c703a01b-3ed7-48b5-a535-e0b00865c920",
   "metadata": {
    "collapsed": false
   },
   "outputs": [
    {
     "name": "stdout",
     "output_type": "stream",
     "text": [
      "4412\n"
     ]
    }
   ],
   "source": [
    "with h5py.File('./data/merra2_t.h5', 'r') as f:\n",
    "    X_train, Y_train = f['X_train'], f['Y_train']\n",
    "    n_train = X_train.shape[0]\n",
    "    print(n_train)\n",
    "\n",
    "    X_train = X_train[0:n_train]\n",
    "    Y_train = Y_train[0:n_train]\n",
    "\n",
    "n_fold = 74\n",
    "test_size=30    "
   ]
  },
  {
   "cell_type": "code",
   "execution_count": null,
   "id": "fdaa85cb-13a7-4593-8ad4-abe969438b7b",
   "metadata": {
    "collapsed": false
   },
   "outputs": [],
   "source": [
    "with h5py.File('./data/TW_PM25.h5', 'r') as f:\n",
    "    X_train, Y_train = f['X_train'], f['Y_train']\n",
    "    n_train = X_train.shape[0]\n",
    "    print(n_train)\n",
    "        \n",
    "    X_train = X_train[0:n_train]\n",
    "    Y_train = Y_train[0:n_train]\n",
    "n_fold = 17\n",
    "test_size=30"
   ]
  },
  {
   "cell_type": "code",
   "execution_count": 4,
   "id": "5dc5eb64-8353-42ff-a5d7-7197ebdaa687",
   "metadata": {
    "collapsed": false
   },
   "outputs": [],
   "source": [
    "def dump_PLS(PLS, fn):\n",
    "    np.savez(fn,\n",
    "             n=PLS.n,\n",
    "             n_comp=PLS.n_components,\n",
    "             W = PLS.W,\n",
    "             y_loadings = np.dot(PLS.S.T, PLS.W),\n",
    "             CW = np.dot(PLS.C, PLS.W),\n",
    "             x_mean = PLS._x_mean,\n",
    "             y_mean = PLS._y_mean\n",
    "             )\n",
    "\n",
    "def predict(dat, X, n_comp):\n",
    "    X = check_array(X, copy=copy, dtype=FLOAT_DTYPES)\n",
    "    W = dat['W'][:,:n_comp]\n",
    "    CW = dat['CW'][:,:n_comp]\n",
    "    y_loadings = dat['y_loadings'][:,:n_comp]\n",
    "\n",
    "    x_rotaions = np.dot(\n",
    "        W,\n",
    "        pinv(np.dot(W.T,\n",
    "                    CW))\n",
    "    )\n",
    "\n",
    "    coef = np.dot(x_rotaions, y_loadings.T)\n",
    "    X -= dat['x_mean']\n",
    "    ypred = np.dot(X, coef)\n",
    "    ypred += dat['y_mean']\n",
    "\n",
    "    return ypred\n"
   ]
  },
  {
   "cell_type": "code",
   "execution_count": 5,
   "id": "ce21d931-3053-42b2-abe4-7e221acd0e4c",
   "metadata": {
    "collapsed": false,
    "jupyter": {
     "outputs_hidden": false
    }
   },
   "outputs": [
    {
     "name": "stdout",
     "output_type": "stream",
     "text": [
      "(4412, 30456)\n",
      "(4412, 30456)\n",
      "Fold 0:\n",
      "  Train: len=2192\n",
      "  Test:  len=30\n",
      "Fold 1:\n",
      "  Train: len=2222\n",
      "  Test:  len=30\n",
      "Fold 2:\n",
      "  Train: len=2252\n",
      "  Test:  len=30\n",
      "Fold 3:\n",
      "  Train: len=2282\n",
      "  Test:  len=30\n",
      "Fold 4:\n",
      "  Train: len=2312\n",
      "  Test:  len=30\n",
      "  Train: [   0    1    2 ... 2309 2310 2311]\n",
      "  Test:  [2312 2313 2314 2315 2316 2317 2318 2319 2320 2321 2322 2323 2324 2325\n",
      " 2326 2327 2328 2329 2330 2331 2332 2333 2334 2335 2336 2337 2338 2339\n",
      " 2340 2341]\n",
      "========================================\n",
      "Fold 0:\n",
      "  Train: len=2192\n",
      "  Test:  len=30\n",
      "Fold 1:\n",
      "  Train: len=30\n",
      "  Test:  len=30\n",
      "Fold 2:\n",
      "  Train: len=30\n",
      "  Test:  len=30\n",
      "Fold 3:\n",
      "  Train: len=30\n",
      "  Test:  len=30\n",
      "Fold 4:\n",
      "  Train: len=30\n",
      "  Test:  len=30\n",
      "  Train: [2282 2283 2284 2285 2286 2287 2288 2289 2290 2291 2292 2293 2294 2295\n",
      " 2296 2297 2298 2299 2300 2301 2302 2303 2304 2305 2306 2307 2308 2309\n",
      " 2310 2311]\n",
      "  Test:  [2312 2313 2314 2315 2316 2317 2318 2319 2320 2321 2322 2323 2324 2325\n",
      " 2326 2327 2328 2329 2330 2331 2332 2333 2334 2335 2336 2337 2338 2339\n",
      " 2340 2341]\n"
     ]
    }
   ],
   "source": [
    "print(X_train.shape)\n",
    "print(Y_train.shape)\n",
    "\n",
    "tscv = TimeSeriesSplit(n_splits=n_fold, test_size=test_size)\n",
    "for i, (train_index, test_index) in enumerate(tscv.split(X_train)):\n",
    "    print(f\"Fold {i}:\")\n",
    "    print(f\"  Train: len={len(train_index)}\")\n",
    "    print(f\"  Test:  len={len(test_index)}\")\n",
    "    if(i>3):\n",
    "        print(f\"  Train: {train_index}\")\n",
    "        print(f\"  Test:  {test_index}\")\n",
    "        break\n",
    "\n",
    "print(\"=\"*40)\n",
    "for i, (train_index, test_index) in enumerate(RollingCV(tscv,X_train)):\n",
    "    print(f\"Fold {i}:\")\n",
    "    print(f\"  Train: len={len(train_index)}\")\n",
    "    print(f\"  Test:  len={len(test_index)}\")\n",
    "    if(i>3):\n",
    "        print(f\"  Train: {train_index}\")\n",
    "        print(f\"  Test:  {test_index}\")\n",
    "        break"
   ]
  },
  {
   "cell_type": "code",
   "execution_count": null,
   "id": "e0323b72-ef5c-4fd1-80fa-d5c3878688b8",
   "metadata": {
    "collapsed": false
   },
   "outputs": [],
   "source": [
    "import Code.ISIMPLS\n",
    "importlib.reload(Code.ISIMPLS)\n",
    "from Code.ISIMPLS import ISIMPLS2 as ISIMPLS\n",
    "\n",
    "n_comp_list=list(range(1,21))\n",
    "print(\"n_comp:\", n_comp_list)\n",
    "score_all = np.zeros((n_fold, len(n_comp_list)))\n",
    "\n",
    "n_comp_max=20\n",
    "PLS = ISIMPLS(n_components=n_comp_max)\n",
    "\n",
    "tim_tot.tic()\n",
    "tim.tic()\n",
    "for i,(train_index, test_index) in enumerate(RollingCV(tscv, X_train)):\n",
    "    PLS.fit(X_train[train_index], Y_train[train_index])\n",
    "    y_true = Y_train[test_index]\n",
    "    for j,n_comp in enumerate(n_comp_list):\n",
    "        y_pred = PLS.predict(X_train[test_index], n_comp)\n",
    "        score_all[i,j] = RMSE(y_true, y_pred)\n",
    "    if (i%5==0): \n",
    "        print(f\"fold: {i+1:02d}, elapsed time: {tim.tocvalue():.1f}s\")\n",
    "        tim.tic()\n",
    "\n",
    "scores = score_all.mean(axis=0)\n",
    "best_ind = np.nanargmin(scores)\n",
    "print(\"\")\n",
    "print(f\"best parameter: {n_comp_list[best_ind]}; score: {scores[best_ind]:.7e}; \"\n",
    "      + f\"total time={tim_tot.tocvalue():.1f}s\")\n",
    "print(scores)"
   ]
  },
  {
   "cell_type": "code",
   "execution_count": 6,
   "id": "90b3f0e3-2e5f-4f09-91e9-1e003720890e",
   "metadata": {
    "collapsed": false
   },
   "outputs": [
    {
     "name": "stdout",
     "output_type": "stream",
     "text": [
      "fold: 01, elapsed time: 1896.0s\n"
     ]
    },
    {
     "name": "stdout",
     "output_type": "stream",
     "text": [
      "fold: 06, elapsed time: 8730.3s\n"
     ]
    },
    {
     "name": "stdout",
     "output_type": "stream",
     "text": [
      "fold: 11, elapsed time: 7269.3s\n"
     ]
    },
    {
     "name": "stdout",
     "output_type": "stream",
     "text": [
      "fold: 16, elapsed time: 7354.7s\n"
     ]
    },
    {
     "name": "stdout",
     "output_type": "stream",
     "text": [
      "fold: 21, elapsed time: 7604.7s\n"
     ]
    },
    {
     "name": "stdout",
     "output_type": "stream",
     "text": [
      "fold: 26, elapsed time: 7628.7s\n"
     ]
    },
    {
     "name": "stdout",
     "output_type": "stream",
     "text": [
      "fold: 31, elapsed time: 8309.6s\n"
     ]
    },
    {
     "name": "stdout",
     "output_type": "stream",
     "text": [
      "fold: 36, elapsed time: 8442.2s\n"
     ]
    },
    {
     "name": "stdout",
     "output_type": "stream",
     "text": [
      "fold: 41, elapsed time: 6865.4s\n"
     ]
    },
    {
     "name": "stdout",
     "output_type": "stream",
     "text": [
      "fold: 46, elapsed time: 7307.8s\n"
     ]
    },
    {
     "name": "stdout",
     "output_type": "stream",
     "text": [
      "fold: 51, elapsed time: 7089.4s\n"
     ]
    },
    {
     "name": "stdout",
     "output_type": "stream",
     "text": [
      "fold: 56, elapsed time: 7203.6s\n"
     ]
    },
    {
     "name": "stdout",
     "output_type": "stream",
     "text": [
      "fold: 61, elapsed time: 6216.3s\n"
     ]
    },
    {
     "name": "stdout",
     "output_type": "stream",
     "text": [
      "fold: 66, elapsed time: 6816.0s\n"
     ]
    },
    {
     "name": "stdout",
     "output_type": "stream",
     "text": [
      "fold: 71, elapsed time: 6431.9s\n"
     ]
    },
    {
     "name": "stdout",
     "output_type": "stream",
     "text": [
      "total time=109200.4s\n"
     ]
    }
   ],
   "source": [
    "import Code.ISIMPLS\n",
    "importlib.reload(Code.ISIMPLS)\n",
    "from Code.ISIMPLS import ISIMPLS2 as ISIMPLS\n",
    "\n",
    "n_comp_max=100\n",
    "PLS = ISIMPLS(n_components=n_comp_max)\n",
    "tim_tot.tic()\n",
    "tim.tic()\n",
    "for i,(train_index, test_index) in enumerate(RollingCV(tscv, X_train)):\n",
    "    PLS.fit(X_train[train_index], Y_train[train_index])\n",
    "    dump_PLS(PLS, f'./data/wrk/ISIMPLS_fold{i:02d}.npz')\n",
    "    if (i%5==0):\n",
    "        print(f\"fold: {i+1:02d}, elapsed time: {tim.tocvalue():.1f}s\")\n",
    "        tim.tic()\n",
    "print(f\"total time={tim_tot.tocvalue():.1f}s\")"
   ]
  },
  {
   "cell_type": "code",
   "execution_count": 7,
   "id": "5763f7d3-fd64-4513-b3bf-f3d5fff79d97",
   "metadata": {
    "collapsed": false
   },
   "outputs": [],
   "source": [
    "PLS_list = []\n",
    "for i in range(n_fold):\n",
    "    PLS_list.append(np.load(f'./data/wrk/ISIMPLS_fold{i:02d}.npz'))\n"
   ]
  },
  {
   "cell_type": "code",
   "execution_count": 8,
   "id": "e3f96cee-79ca-40fa-93bd-0113929221fa",
   "metadata": {
    "collapsed": false
   },
   "outputs": [],
   "source": [
    "space  = [Integer(1, n_comp_max, name='n_components')]\n",
    "@use_named_args(space)\n",
    "def Comp_Model_Score(n_components):\n",
    "    scores = np.zeros((n_fold,))\n",
    "    for i,(train_index, test_index) in enumerate(RollingCV(tscv, X_train)):\n",
    "        y_true = Y_train[test_index]\n",
    "        y_pred = predict(PLS_list[i], X_train[test_index], n_components)\n",
    "        # y_pred = predict(np.load(f'./data/wrk/ISIMPLS_fold{i:02d}.npz'),\n",
    "        #                  X_train[test_index], n_components)\n",
    "        scores[i] = RMSE(y_true, y_pred)\n",
    "    return np.mean(scores)\n"
   ]
  },
  {
   "cell_type": "code",
   "execution_count": 9,
   "id": "59af0678-6b19-43b5-a43e-912132659ebe",
   "metadata": {
    "collapsed": false
   },
   "outputs": [
    {
     "name": "stdout",
     "output_type": "stream",
     "text": [
      "n_calls = 5\n",
      "Iteration No: 1 started. Evaluating function at random point.\n"
     ]
    },
    {
     "name": "stdout",
     "output_type": "stream",
     "text": [
      "Iteration No: 1 ended. Evaluation done at random point.\n",
      "Time taken: 198.1572\n",
      "Function value obtained: 2.1518\n",
      "Current minimum: 2.1518\n",
      "Iteration No: 2 started. Evaluating function at random point.\n"
     ]
    },
    {
     "name": "stdout",
     "output_type": "stream",
     "text": [
      "Iteration No: 2 ended. Evaluation done at random point.\n",
      "Time taken: 198.8516\n",
      "Function value obtained: 2.1548\n",
      "Current minimum: 2.1518\n",
      "Iteration No: 3 started. Evaluating function at random point.\n"
     ]
    },
    {
     "name": "stdout",
     "output_type": "stream",
     "text": [
      "Iteration No: 3 ended. Evaluation done at random point.\n",
      "Time taken: 198.9420\n",
      "Function value obtained: 2.1561\n",
      "Current minimum: 2.1518\n",
      "Iteration No: 4 started. Evaluating function at random point.\n"
     ]
    },
    {
     "name": "stdout",
     "output_type": "stream",
     "text": [
      "Iteration No: 4 ended. Evaluation done at random point.\n",
      "Time taken: 198.4083\n",
      "Function value obtained: 2.1548\n",
      "Current minimum: 2.1518\n",
      "Iteration No: 5 started. Evaluating function at random point.\n"
     ]
    },
    {
     "name": "stdout",
     "output_type": "stream",
     "text": [
      "Iteration No: 5 ended. Evaluation done at random point.\n",
      "Time taken: 195.9304\n",
      "Function value obtained: 2.1495\n",
      "Current minimum: 2.1495\n",
      "Iteration No: 6 started. Evaluating function at random point.\n"
     ]
    },
    {
     "name": "stdout",
     "output_type": "stream",
     "text": [
      "Iteration No: 6 ended. Evaluation done at random point.\n",
      "Time taken: 193.6934\n",
      "Function value obtained: 2.1936\n",
      "Current minimum: 2.1495\n",
      "Iteration No: 7 started. Evaluating function at random point.\n"
     ]
    },
    {
     "name": "stdout",
     "output_type": "stream",
     "text": [
      "Iteration No: 7 ended. Evaluation done at random point.\n",
      "Time taken: 194.3763\n",
      "Function value obtained: 2.2463\n",
      "Current minimum: 2.1495\n",
      "Iteration No: 8 started. Evaluating function at random point.\n"
     ]
    },
    {
     "name": "stdout",
     "output_type": "stream",
     "text": [
      "Iteration No: 8 ended. Evaluation done at random point.\n",
      "Time taken: 193.4198\n",
      "Function value obtained: 2.9291\n",
      "Current minimum: 2.1495\n",
      "Iteration No: 9 started. Evaluating function at random point.\n"
     ]
    },
    {
     "name": "stdout",
     "output_type": "stream",
     "text": [
      "Iteration No: 9 ended. Evaluation done at random point.\n",
      "Time taken: 214.8643\n",
      "Function value obtained: 2.2605\n",
      "Current minimum: 2.1495\n",
      "Iteration No: 10 started. Evaluating function at random point.\n"
     ]
    },
    {
     "name": "stdout",
     "output_type": "stream",
     "text": [
      "Iteration No: 10 ended. Evaluation done at random point.\n",
      "Time taken: 215.6045\n",
      "Function value obtained: 2.1711\n",
      "Current minimum: 2.1495\n",
      "----------------------------------------\n",
      "Best param = 63\n",
      "Best score = 2.1495\n",
      "total time = 2002.3s\n"
     ]
    }
   ],
   "source": [
    "n_calls = int(np.log(n_comp_max)) + 1\n",
    "print(f\"n_calls = {n_calls:d}\")\n",
    "n_calls *= 2\n",
    "\n",
    "tim_tot.tic()\n",
    "res_gp = gp_minimize(Comp_Model_Score, space, n_calls=max(n_calls,10), \n",
    "                     random_state=0, verbose=True)\n",
    "\n",
    "print(\"-\"*40)\n",
    "print(f\"Best param = {res_gp.x[0]:02d}\")\n",
    "print(f\"Best score = {res_gp.fun:.4f}\")\n",
    "print(f\"total time = {tim_tot.tocvalue():.1f}s\")\n"
   ]
  },
  {
   "cell_type": "code",
   "execution_count": null,
   "id": "01599a37-539f-446d-a6e9-3253c0547103",
   "metadata": {
    "collapsed": false
   },
   "outputs": [],
   "source": [
    "n_calls = int(np.log(n_comp_max)) + 1\n",
    "print(f\"n_calls = {n_calls:d}\")\n",
    "n_calls *= 3\n",
    "\n",
    "tim_tot.tic()\n",
    "res_gp = gp_minimize(Comp_Model_Score, space, n_calls=max(n_calls,10), \n",
    "                     random_state=0, verbose=True)\n",
    "\n",
    "print(\"-\"*40)\n",
    "print(f\"Best param = {res_gp.x[0]:02d}\")\n",
    "print(f\"Best score = {res_gp.fun:.4f}\")\n",
    "print(f\"total time = {tim_tot.tocvalue():.1f}s\")\n"
   ]
  },
  {
   "cell_type": "code",
   "execution_count": null,
   "id": "b4206cab-fa98-4e1f-af19-c3c4752fb99a",
   "metadata": {
    "collapsed": false
   },
   "outputs": [
    {
     "name": "stdout",
     "output_type": "stream",
     "text": [
      "params={'n_components': 100}, score=2.1730468e+00, elapsed time=97598.1s\n"
     ]
    },
    {
     "name": "stdout",
     "output_type": "stream",
     "text": [
      "params={'n_components': 150}, score=2.2380231e+00, elapsed time=159673.6s\n"
     ]
    }
   ],
   "source": [
    "import Code.ISIMPLS\n",
    "importlib.reload(Code.ISIMPLS)\n",
    "from Code.ISIMPLS import ISIMPLS2 as ISIMPLS\n",
    "\n",
    "scores = []\n",
    "params = []\n",
    "n_comp_list=list(range(100,401,50))\n",
    "\n",
    "tim_tot.tic()\n",
    "for n_comp in n_comp_list:\n",
    "    tim.tic()\n",
    "    pls=ISIMPLS(n_components=n_comp)\n",
    "    scores.append(Comp_Model_Score(pls, RollingCV(tscv,X_train), X_train, Y_train) )\n",
    "    params.append({'n_components': n_comp})\n",
    "    print(f\"params={params[-1]}, score={scores[-1]:.7e}, \"\n",
    "          +f\"elapsed time={tim.tocvalue():.1f}s\")\n",
    "\n",
    "best_ind = np.nanargmin(scores)\n",
    "print(\"\")\n",
    "print(f\"best parameter: {params[best_ind]}; score: {scores[best_ind]:.7e}; \"\n",
    "      + f\"total time={tim_tot.tocvalue():.1f}s\")\n"
   ]
  }
 ],
 "metadata": {
  "kernelspec": {
   "argv": [
    "python",
    "-m",
    "ipykernel_launcher",
    "-f",
    "{connection_file}"
   ],
   "display_name": "Python 3 (ipykernel)",
   "env": null,
   "interrupt_mode": "signal",
   "language": "python",
   "metadata": {
    "debugger": true
   },
   "name": "python3"
  },
  "language_info": {
   "codemirror_mode": {
    "name": "ipython",
    "version": 3
   },
   "file_extension": ".py",
   "mimetype": "text/x-python",
   "name": "python",
   "nbconvert_exporter": "python",
   "pygments_lexer": "ipython3",
   "version": "3.10.11"
  },
  "name": "CV_merra2_ISIMPLS.ipynb"
 },
 "nbformat": 4,
 "nbformat_minor": 5
}
