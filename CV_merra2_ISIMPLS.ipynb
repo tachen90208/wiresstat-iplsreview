{
 "cells": [
  {
   "cell_type": "code",
   "execution_count": 1,
   "id": "16b94288-d84f-419e-8af7-4b2ef7b0625f",
   "metadata": {
    "collapsed": false,
    "jupyter": {
     "outputs_hidden": false
    }
   },
   "outputs": [],
   "source": [
    "import importlib\n",
    "import copy\n",
    "import pickle\n",
    "# --------------------\n",
    "from sklearn.utils import gen_batches\n",
    "from sklearn.model_selection import GridSearchCV, TimeSeriesSplit\n",
    "from sklearn.metrics import root_mean_squared_error as RMSE\n",
    "import numpy as np\n",
    "from numpy.linalg import norm,inv,matrix_rank\n",
    "# --------------------\n",
    "from skopt.space import Integer\n",
    "from skopt.utils import use_named_args\n",
    "from skopt import gp_minimize\n",
    "# --------------------\n",
    "import h5py\n",
    "from sklearn.cross_decomposition import PLSRegression\n",
    "\n",
    "# import warnings\n",
    "# warnings.filterwarnings('ignore')\n",
    "\n",
    "from pytictoc import TicToc\n",
    "tim=TicToc()\n",
    "tim_tot = TicToc()"
   ]
  },
  {
   "cell_type": "code",
   "execution_count": 2,
   "id": "8119ca6a-990a-4d0d-98fb-1c5887f0434a",
   "metadata": {
    "collapsed": false
   },
   "outputs": [],
   "source": [
    "def RollingCV(tscv,X):\n",
    "    cv = tscv.split(X)\n",
    "    (train_index, test_index) = next(cv)\n",
    "    yield(\n",
    "        train_index,\n",
    "        test_index\n",
    "    )\n",
    "    test_size = len(test_index)\n",
    "\n",
    "    for (train_index, test_index) in (cv):\n",
    "        yield(\n",
    "            train_index[-test_size:],\n",
    "            test_index\n",
    "        )"
   ]
  },
  {
   "cell_type": "code",
   "execution_count": null,
   "id": "c703a01b-3ed7-48b5-a535-e0b00865c920",
   "metadata": {
    "collapsed": false
   },
   "outputs": [],
   "source": [
    "with h5py.File('./data/merra2_t.h5', 'r') as f:\n",
    "    X_train, Y_train = f['X_train'], f['Y_train']\n",
    "    n_train = X_train.shape[0]\n",
    "    print(n_train)\n",
    "\n",
    "    X_train = X_train[0:n_train]\n",
    "    Y_train = Y_train[0:n_train]\n"
   ]
  },
  {
   "cell_type": "code",
   "execution_count": null,
   "id": "ce21d931-3053-42b2-abe4-7e221acd0e4c",
   "metadata": {
    "collapsed": false,
    "jupyter": {
     "outputs_hidden": false
    }
   },
   "outputs": [],
   "source": [
    "print(X_train.shape)\n",
    "print(Y_train.shape)\n",
    "n_fold = 74\n",
    "test_size=30\n",
    "tscv = TimeSeriesSplit(n_splits=n_fold, test_size=test_size)\n",
    "for i, (train_index, test_index) in enumerate(tscv.split(X_train)):\n",
    "    print(f\"Fold {i}:\")\n",
    "    print(f\"  Train: len={len(train_index)}\")\n",
    "    print(f\"  Test:  len={len(test_index)}\")\n",
    "    if(i>3):\n",
    "        print(f\"  Train: {train_index}\")\n",
    "        print(f\"  Test:  {test_index}\")\n",
    "        break\n",
    "\n",
    "print(\"=\"*40)\n",
    "for i, (train_index, test_index) in enumerate(RollingCV(tscv,X_train)):\n",
    "    print(f\"Fold {i}:\")\n",
    "    print(f\"  Train: len={len(train_index)}\")\n",
    "    print(f\"  Test:  len={len(test_index)}\")\n",
    "    if(i>3):\n",
    "        print(f\"  Train: {train_index}\")\n",
    "        print(f\"  Test:  {test_index}\")\n",
    "        break"
   ]
  },
  {
   "cell_type": "code",
   "execution_count": null,
   "id": "90b3f0e3-2e5f-4f09-91e9-1e003720890e",
   "metadata": {
    "collapsed": false
   },
   "outputs": [],
   "source": [
    "import Code.ISIMPLS\n",
    "importlib.reload(Code.ISIMPLS)\n",
    "from Code.ISIMPLS import ISIMPLS2 as ISIMPLS\n",
    "\n",
    "PLS_list = []\n",
    "n_comp_max=100\n",
    "PLS = ISIMPLS(n_components=n_comp_max)\n",
    "tim_tot.tic()\n",
    "tim.tic()\n",
    "for i,(train_index, test_index) in enumerate(RollingCV(tscv, X_train)):\n",
    "    PLS.fit(X_train[train_index], Y_train[train_index])\n",
    "    with open(f'./data/wrk/ISIMPLS_fold{i:02d}.pkl', 'wb') as f:\n",
    "        pickle.dump(PLS, f)\n",
    "    # PLS_list.append(copy.deepcopy(PLS))\n",
    "    if (i%5==0):\n",
    "        print(f\"fold: {i+1:02d}, elapsed time: {tim.tocvalue():.1f}s\")\n",
    "        tim.tic()\n",
    "print(f\"total time={tim_tot.tocvalue():.1f}s\")"
   ]
  },
  {
   "cell_type": "code",
   "execution_count": null,
   "id": "cd7f18f0-8bf2-45e2-9ea7-4d23a912300d",
   "metadata": {
    "collapsed": false
   },
   "outputs": [],
   "source": [
    "PLS_list = []\n",
    "for i in range(n_fold):\n",
    "    with open(f'./data/wrk/ISIMPLS_fold{i:02d}.pkl', 'rb') as f:\n",
    "        PLS_list.append(pickle.load(f))"
   ]
  },
  {
   "cell_type": "code",
   "execution_count": null,
   "id": "e3f96cee-79ca-40fa-93bd-0113929221fa",
   "metadata": {
    "collapsed": false
   },
   "outputs": [],
   "source": [
    "model = PLS_list\n",
    "space  = [Integer(1, n_comp_max, name='n_components')]\n",
    "@use_named_args(space)\n",
    "def Comp_Model_Score(n_components):\n",
    "    scores = np.zeros((n_fold,))\n",
    "    for i,(train_index, test_index) in enumerate(RollingCV(tscv, X_train)):\n",
    "        y_true = Y_train[test_index]\n",
    "        y_pred = model[i].predict(X_train[test_index], n_components)\n",
    "        scores[i] = RMSE(y_true, y_pred)\n",
    "    return np.mean(scores)\n"
   ]
  },
  {
   "cell_type": "code",
   "execution_count": null,
   "id": "59af0678-6b19-43b5-a43e-912132659ebe",
   "metadata": {
    "collapsed": false
   },
   "outputs": [
    {
     "name": "stdout",
     "output_type": "stream",
     "text": [
      "Iteration No: 1 started. Evaluating function at random point.\n"
     ]
    },
    {
     "name": "stdout",
     "output_type": "stream",
     "text": [
      "Iteration No: 1 ended. Evaluation done at random point.\n",
      "Time taken: 0.4854\n",
      "Function value obtained: 7.1476\n",
      "Current minimum: 7.1476\n",
      "Iteration No: 2 started. Evaluating function at random point.\n"
     ]
    },
    {
     "name": "stdout",
     "output_type": "stream",
     "text": [
      "Iteration No: 2 ended. Evaluation done at random point.\n",
      "Time taken: 0.5410\n",
      "Function value obtained: 7.2758\n",
      "Current minimum: 7.1476\n",
      "Iteration No: 3 started. Evaluating function at random point.\n"
     ]
    },
    {
     "name": "stdout",
     "output_type": "stream",
     "text": [
      "Iteration No: 3 ended. Evaluation done at random point.\n",
      "Time taken: 0.5472\n",
      "Function value obtained: 7.2758\n",
      "Current minimum: 7.1476\n",
      "Iteration No: 4 started. Evaluating function at random point.\n"
     ]
    },
    {
     "name": "stdout",
     "output_type": "stream",
     "text": [
      "Iteration No: 4 ended. Evaluation done at random point.\n",
      "Time taken: 0.5213\n",
      "Function value obtained: 7.2758\n",
      "Current minimum: 7.1476\n",
      "Iteration No: 5 started. Evaluating function at random point.\n"
     ]
    },
    {
     "name": "stdout",
     "output_type": "stream",
     "text": [
      "Iteration No: 5 ended. Evaluation done at random point.\n",
      "Time taken: 1.0420\n",
      "Function value obtained: 7.1902\n",
      "Current minimum: 7.1476\n",
      "----------------------------------------\n",
      "Best index = 11\n",
      "Best score = 7.1476\n",
      "total time = 3.1s\n"
     ]
    }
   ],
   "source": [
    "n_calls = int(np.log(n_comp_max)) + 1\n",
    "print(f\"n_calls = {n_calls:d}\")\n",
    "\n",
    "tim_tot.tic()\n",
    "res_gp = gp_minimize(Comp_Model_Score, space, n_calls=n_calls,\n",
    "                     n_initial_points=n_calls,\n",
    "                     random_state=0, verbose=True)\n",
    "\n",
    "print(\"-\"*40)\n",
    "print(f\"Best index = {res_gp.x[0]:02d}\")\n",
    "print(f\"Best score = {res_gp.fun:.4f}\")\n",
    "print(f\"total time = {tim_tot.tocvalue():.1f}s\")\n"
   ]
  },
  {
   "cell_type": "code",
   "execution_count": null,
   "id": "b4206cab-fa98-4e1f-af19-c3c4752fb99a",
   "metadata": {
    "collapsed": false
   },
   "outputs": [
    {
     "name": "stdout",
     "output_type": "stream",
     "text": [
      "params={'n_components': 100}, score=2.1730468e+00, elapsed time=97598.1s\n"
     ]
    },
    {
     "name": "stdout",
     "output_type": "stream",
     "text": [
      "params={'n_components': 150}, score=2.2380231e+00, elapsed time=159673.6s\n"
     ]
    }
   ],
   "source": [
    "import Code.ISIMPLS\n",
    "importlib.reload(Code.ISIMPLS)\n",
    "from Code.ISIMPLS import ISIMPLS2 as ISIMPLS\n",
    "\n",
    "scores = []\n",
    "params = []\n",
    "n_comp_list=list(range(100,401,50))\n",
    "\n",
    "tim_tot.tic()\n",
    "for n_comp in n_comp_list:\n",
    "    tim.tic()\n",
    "    pls=ISIMPLS(n_components=n_comp)\n",
    "    scores.append(Comp_Model_Score(pls, RollingCV(tscv,X_train), X_train, Y_train) )\n",
    "    params.append({'n_components': n_comp})\n",
    "    print(f\"params={params[-1]}, score={scores[-1]:.7e}, \"\n",
    "          +f\"elapsed time={tim.tocvalue():.1f}s\")\n",
    "\n",
    "best_ind = np.nanargmin(scores)\n",
    "print(\"\")\n",
    "print(f\"best parameter: {params[best_ind]}; score: {scores[best_ind]:.7e}; \"\n",
    "      + f\"total time={tim_tot.tocvalue():.1f}s\")\n"
   ]
  }
 ],
 "metadata": {
  "kernelspec": {
   "argv": [
    "/home/tingan/miniconda3/envs/pls/bin/python",
    "-m",
    "ipykernel_launcher",
    "-f",
    "{connection_file}"
   ],
   "display_name": "Python 3 (ipykernel)",
   "env": null,
   "interrupt_mode": "signal",
   "language": "python",
   "metadata": {
    "debugger": true
   },
   "name": "python3"
  },
  "language_info": {
   "codemirror_mode": {
    "name": "ipython",
    "version": 3
   },
   "file_extension": ".py",
   "mimetype": "text/x-python",
   "name": "python",
   "nbconvert_exporter": "python",
   "pygments_lexer": "ipython3",
   "version": "3.10.11"
  },
  "name": "CV_merra2_ISIMPLS.ipynb"
 },
 "nbformat": 4,
 "nbformat_minor": 5
}
