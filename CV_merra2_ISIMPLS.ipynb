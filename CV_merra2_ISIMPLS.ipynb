{
 "cells": [
  {
   "cell_type": "code",
   "execution_count": 40,
   "id": "16b94288-d84f-419e-8af7-4b2ef7b0625f",
   "metadata": {
    "collapsed": false,
    "jupyter": {
     "outputs_hidden": false
    }
   },
   "outputs": [],
   "source": [
    "import importlib\n",
    "import copy\n",
    "import pickle\n",
    "# --------------------\n",
    "from sklearn.utils import gen_batches, check_array\n",
    "from sklearn.model_selection import GridSearchCV, TimeSeriesSplit\n",
    "from sklearn.metrics import root_mean_squared_error as RMSE\n",
    "from sklearn.utils.validation import FLOAT_DTYPES\n",
    "import numpy as np\n",
    "from numpy.linalg import norm,inv,matrix_rank, pinv\n",
    "# --------------------\n",
    "from skopt.space import Integer\n",
    "from skopt.utils import use_named_args\n",
    "from skopt import gp_minimize\n",
    "# --------------------\n",
    "import h5py\n",
    "from sklearn.cross_decomposition import PLSRegression\n",
    "\n",
    "# import warnings\n",
    "# warnings.filterwarnings('ignore')\n",
    "\n",
    "from pytictoc import TicToc\n",
    "tim=TicToc()\n",
    "tim_tot = TicToc()"
   ]
  },
  {
   "cell_type": "code",
   "execution_count": 41,
   "id": "8119ca6a-990a-4d0d-98fb-1c5887f0434a",
   "metadata": {
    "collapsed": false
   },
   "outputs": [],
   "source": [
    "def RollingCV(tscv,X):\n",
    "    cv = tscv.split(X)\n",
    "    (train_index, test_index) = next(cv)\n",
    "    yield(\n",
    "        train_index,\n",
    "        test_index\n",
    "    )\n",
    "    test_size = len(test_index)\n",
    "\n",
    "    for (train_index, test_index) in (cv):\n",
    "        yield(\n",
    "            train_index[-test_size:],\n",
    "            test_index\n",
    "        )"
   ]
  },
  {
   "cell_type": "code",
   "execution_count": null,
   "id": "c703a01b-3ed7-48b5-a535-e0b00865c920",
   "metadata": {
    "collapsed": false
   },
   "outputs": [],
   "source": [
    "with h5py.File('./data/merra2_t.h5', 'r') as f:\n",
    "    X_train, Y_train = f['X_train'], f['Y_train']\n",
    "    n_train = X_train.shape[0]\n",
    "    print(n_train)\n",
    "\n",
    "    X_train = X_train[0:n_train]\n",
    "    Y_train = Y_train[0:n_train]\n",
    "\n",
    "n_fold = 74\n",
    "test_size=30    "
   ]
  },
  {
   "cell_type": "code",
   "execution_count": 42,
   "id": "fdaa85cb-13a7-4593-8ad4-abe969438b7b",
   "metadata": {
    "collapsed": false
   },
   "outputs": [
    {
     "name": "stdout",
     "output_type": "stream",
     "text": [
      "877\n"
     ]
    }
   ],
   "source": [
    "with h5py.File('./data/TW_PM25.h5', 'r') as f:\n",
    "    X_train, Y_train = f['X_train'], f['Y_train']\n",
    "    n_train = X_train.shape[0]\n",
    "    print(n_train)\n",
    "        \n",
    "    X_train = X_train[0:n_train]\n",
    "    Y_train = Y_train[0:n_train]\n",
    "n_fold = 17\n",
    "test_size=30"
   ]
  },
  {
   "cell_type": "code",
   "execution_count": 60,
   "id": "5dc5eb64-8353-42ff-a5d7-7197ebdaa687",
   "metadata": {
    "collapsed": false
   },
   "outputs": [],
   "source": [
    "def dump_PLS(PLS, fn):\n",
    "    np.savez(fn,\n",
    "             n=PLS.n,\n",
    "             n_comp=PLS.n_components,\n",
    "             W = PLS.W,\n",
    "             y_loadings = np.dot(PLS.S.T, PLS.W),\n",
    "             CW = np.dot(PLS.C, PLS.W),\n",
    "             x_mean = PLS._x_mean,\n",
    "             y_mean = PLS._y_mean\n",
    "             )\n",
    "\n",
    "def predict(dat, X, n_comp):\n",
    "    X = check_array(X, copy=copy, dtype=FLOAT_DTYPES)\n",
    "    W = dat['W'][:,:n_comp]\n",
    "    CW = dat['CW'][:,:n_comp]\n",
    "    y_loadings = dat['y_loadings'][:,:n_comp]\n",
    "\n",
    "    x_rotaions = np.dot(\n",
    "        W,\n",
    "        pinv(np.dot(W.T,\n",
    "                    CW))\n",
    "    )\n",
    "\n",
    "    coef = np.dot(x_rotaions, y_loadings.T)\n",
    "    X -= dat['x_mean']\n",
    "    ypred = np.dot(X, coef)\n",
    "    ypred += dat['y_mean']\n",
    "\n",
    "    return ypred\n"
   ]
  },
  {
   "cell_type": "code",
   "execution_count": 53,
   "id": "ce21d931-3053-42b2-abe4-7e221acd0e4c",
   "metadata": {
    "collapsed": false,
    "jupyter": {
     "outputs_hidden": false
    }
   },
   "outputs": [
    {
     "name": "stdout",
     "output_type": "stream",
     "text": [
      "(877, 1800)\n",
      "(877, 1800)\n",
      "Fold 0:\n",
      "  Train: len=367\n",
      "  Test:  len=30\n",
      "Fold 1:\n",
      "  Train: len=397\n",
      "  Test:  len=30\n",
      "Fold 2:\n",
      "  Train: len=427\n",
      "  Test:  len=30\n",
      "Fold 3:\n",
      "  Train: len=457\n",
      "  Test:  len=30\n",
      "Fold 4:\n",
      "  Train: len=487\n",
      "  Test:  len=30\n",
      "  Train: [  0   1   2   3   4   5   6   7   8   9  10  11  12  13  14  15  16  17\n",
      "  18  19  20  21  22  23  24  25  26  27  28  29  30  31  32  33  34  35\n",
      "  36  37  38  39  40  41  42  43  44  45  46  47  48  49  50  51  52  53\n",
      "  54  55  56  57  58  59  60  61  62  63  64  65  66  67  68  69  70  71\n",
      "  72  73  74  75  76  77  78  79  80  81  82  83  84  85  86  87  88  89\n",
      "  90  91  92  93  94  95  96  97  98  99 100 101 102 103 104 105 106 107\n",
      " 108 109 110 111 112 113 114 115 116 117 118 119 120 121 122 123 124 125\n",
      " 126 127 128 129 130 131 132 133 134 135 136 137 138 139 140 141 142 143\n",
      " 144 145 146 147 148 149 150 151 152 153 154 155 156 157 158 159 160 161\n",
      " 162 163 164 165 166 167 168 169 170 171 172 173 174 175 176 177 178 179\n",
      " 180 181 182 183 184 185 186 187 188 189 190 191 192 193 194 195 196 197\n",
      " 198 199 200 201 202 203 204 205 206 207 208 209 210 211 212 213 214 215\n",
      " 216 217 218 219 220 221 222 223 224 225 226 227 228 229 230 231 232 233\n",
      " 234 235 236 237 238 239 240 241 242 243 244 245 246 247 248 249 250 251\n",
      " 252 253 254 255 256 257 258 259 260 261 262 263 264 265 266 267 268 269\n",
      " 270 271 272 273 274 275 276 277 278 279 280 281 282 283 284 285 286 287\n",
      " 288 289 290 291 292 293 294 295 296 297 298 299 300 301 302 303 304 305\n",
      " 306 307 308 309 310 311 312 313 314 315 316 317 318 319 320 321 322 323\n",
      " 324 325 326 327 328 329 330 331 332 333 334 335 336 337 338 339 340 341\n",
      " 342 343 344 345 346 347 348 349 350 351 352 353 354 355 356 357 358 359\n",
      " 360 361 362 363 364 365 366 367 368 369 370 371 372 373 374 375 376 377\n",
      " 378 379 380 381 382 383 384 385 386 387 388 389 390 391 392 393 394 395\n",
      " 396 397 398 399 400 401 402 403 404 405 406 407 408 409 410 411 412 413\n",
      " 414 415 416 417 418 419 420 421 422 423 424 425 426 427 428 429 430 431\n",
      " 432 433 434 435 436 437 438 439 440 441 442 443 444 445 446 447 448 449\n",
      " 450 451 452 453 454 455 456 457 458 459 460 461 462 463 464 465 466 467\n",
      " 468 469 470 471 472 473 474 475 476 477 478 479 480 481 482 483 484 485\n",
      " 486]\n",
      "  Test:  [487 488 489 490 491 492 493 494 495 496 497 498 499 500 501 502 503 504\n",
      " 505 506 507 508 509 510 511 512 513 514 515 516]\n",
      "========================================\n",
      "Fold 0:\n",
      "  Train: len=367\n",
      "  Test:  len=30\n",
      "Fold 1:\n",
      "  Train: len=30\n",
      "  Test:  len=30\n",
      "Fold 2:\n",
      "  Train: len=30\n",
      "  Test:  len=30\n",
      "Fold 3:\n",
      "  Train: len=30\n",
      "  Test:  len=30\n",
      "Fold 4:\n",
      "  Train: len=30\n",
      "  Test:  len=30\n",
      "  Train: [457 458 459 460 461 462 463 464 465 466 467 468 469 470 471 472 473 474\n",
      " 475 476 477 478 479 480 481 482 483 484 485 486]\n",
      "  Test:  [487 488 489 490 491 492 493 494 495 496 497 498 499 500 501 502 503 504\n",
      " 505 506 507 508 509 510 511 512 513 514 515 516]\n"
     ]
    }
   ],
   "source": [
    "print(X_train.shape)\n",
    "print(Y_train.shape)\n",
    "\n",
    "tscv = TimeSeriesSplit(n_splits=n_fold, test_size=test_size)\n",
    "for i, (train_index, test_index) in enumerate(tscv.split(X_train)):\n",
    "    print(f\"Fold {i}:\")\n",
    "    print(f\"  Train: len={len(train_index)}\")\n",
    "    print(f\"  Test:  len={len(test_index)}\")\n",
    "    if(i>3):\n",
    "        print(f\"  Train: {train_index}\")\n",
    "        print(f\"  Test:  {test_index}\")\n",
    "        break\n",
    "\n",
    "print(\"=\"*40)\n",
    "for i, (train_index, test_index) in enumerate(RollingCV(tscv,X_train)):\n",
    "    print(f\"Fold {i}:\")\n",
    "    print(f\"  Train: len={len(train_index)}\")\n",
    "    print(f\"  Test:  len={len(test_index)}\")\n",
    "    if(i>3):\n",
    "        print(f\"  Train: {train_index}\")\n",
    "        print(f\"  Test:  {test_index}\")\n",
    "        break"
   ]
  },
  {
   "cell_type": "code",
   "execution_count": 54,
   "id": "e0323b72-ef5c-4fd1-80fa-d5c3878688b8",
   "metadata": {
    "collapsed": false
   },
   "outputs": [
    {
     "name": "stdout",
     "output_type": "stream",
     "text": [
      "n_comp: [1, 2, 3, 4, 5, 6, 7, 8, 9, 10, 11, 12, 13, 14, 15, 16, 17, 18, 19, 20]\n"
     ]
    },
    {
     "name": "stdout",
     "output_type": "stream",
     "text": [
      "fold: 01, elapsed time: 3.0s\n"
     ]
    },
    {
     "name": "stdout",
     "output_type": "stream",
     "text": [
      "fold: 06, elapsed time: 13.0s\n"
     ]
    },
    {
     "name": "stdout",
     "output_type": "stream",
     "text": [
      "fold: 11, elapsed time: 12.8s\n"
     ]
    },
    {
     "name": "stdout",
     "output_type": "stream",
     "text": [
      "fold: 16, elapsed time: 12.0s\n"
     ]
    },
    {
     "name": "stdout",
     "output_type": "stream",
     "text": [
      "\n",
      "best parameter: 11; score: 7.1476354e+00; total time=43.2s\n",
      "[7.76705994 7.50395476 7.36823013 7.31293782 7.31652096 7.29054187\n",
      " 7.2979135  7.2500481  7.23974823 7.16567089 7.14763537 7.19020176\n",
      " 7.19894527 7.21953187 7.24954174 7.27576464 7.32228498 7.33506288\n",
      " 7.33961495 7.38431746]\n"
     ]
    }
   ],
   "source": [
    "import Code.ISIMPLS\n",
    "importlib.reload(Code.ISIMPLS)\n",
    "from Code.ISIMPLS import ISIMPLS2 as ISIMPLS\n",
    "\n",
    "n_comp_list=list(range(1,21))\n",
    "print(\"n_comp:\", n_comp_list)\n",
    "score_all = np.zeros((n_fold, len(n_comp_list)))\n",
    "\n",
    "n_comp_max=20\n",
    "PLS = ISIMPLS(n_components=n_comp_max)\n",
    "\n",
    "tim_tot.tic()\n",
    "tim.tic()\n",
    "for i,(train_index, test_index) in enumerate(RollingCV(tscv, X_train)):\n",
    "    PLS.fit(X_train[train_index], Y_train[train_index])\n",
    "    y_true = Y_train[test_index]\n",
    "    for j,n_comp in enumerate(n_comp_list):\n",
    "        y_pred = PLS.predict(X_train[test_index], n_comp)\n",
    "        score_all[i,j] = RMSE(y_true, y_pred)\n",
    "    if (i%5==0): \n",
    "        print(f\"fold: {i+1:02d}, elapsed time: {tim.tocvalue():.1f}s\")\n",
    "        tim.tic()\n",
    "\n",
    "scores = score_all.mean(axis=0)\n",
    "best_ind = np.nanargmin(scores)\n",
    "print(\"\")\n",
    "print(f\"best parameter: {n_comp_list[best_ind]}; score: {scores[best_ind]:.7e}; \"\n",
    "      + f\"total time={tim_tot.tocvalue():.1f}s\")\n",
    "print(scores)"
   ]
  },
  {
   "cell_type": "code",
   "execution_count": 81,
   "id": "90b3f0e3-2e5f-4f09-91e9-1e003720890e",
   "metadata": {
    "collapsed": false
   },
   "outputs": [
    {
     "name": "stdout",
     "output_type": "stream",
     "text": [
      "fold: 01, elapsed time: 16.9s\n"
     ]
    },
    {
     "name": "stdout",
     "output_type": "stream",
     "text": [
      "fold: 06, elapsed time: 78.0s\n"
     ]
    },
    {
     "name": "stdout",
     "output_type": "stream",
     "text": [
      "fold: 11, elapsed time: 76.4s\n"
     ]
    },
    {
     "name": "stdout",
     "output_type": "stream",
     "text": [
      "fold: 16, elapsed time: 79.3s\n"
     ]
    },
    {
     "name": "stdout",
     "output_type": "stream",
     "text": [
      "total time=266.3s\n"
     ]
    }
   ],
   "source": [
    "import Code.ISIMPLS\n",
    "importlib.reload(Code.ISIMPLS)\n",
    "from Code.ISIMPLS import ISIMPLS2 as ISIMPLS\n",
    "\n",
    "n_comp_max=100\n",
    "PLS = ISIMPLS(n_components=n_comp_max)\n",
    "tim_tot.tic()\n",
    "tim.tic()\n",
    "for i,(train_index, test_index) in enumerate(RollingCV(tscv, X_train)):\n",
    "    PLS.fit(X_train[train_index], Y_train[train_index])\n",
    "    dump_PLS(PLS, f'./data/wrk/ISIMPLS_fold{i:02d}.npz')\n",
    "    if (i%5==0):\n",
    "        print(f\"fold: {i+1:02d}, elapsed time: {tim.tocvalue():.1f}s\")\n",
    "        tim.tic()\n",
    "print(f\"total time={tim_tot.tocvalue():.1f}s\")"
   ]
  },
  {
   "cell_type": "code",
   "execution_count": 82,
   "id": "5763f7d3-fd64-4513-b3bf-f3d5fff79d97",
   "metadata": {
    "collapsed": false
   },
   "outputs": [],
   "source": [
    "PLS_list = []\n",
    "for i in range(n_fold):\n",
    "    PLS_list.append(np.load(f'./data/wrk/ISIMPLS_fold{i:02d}.npz'))\n"
   ]
  },
  {
   "cell_type": "code",
   "execution_count": 83,
   "id": "e3f96cee-79ca-40fa-93bd-0113929221fa",
   "metadata": {
    "collapsed": false
   },
   "outputs": [],
   "source": [
    "space  = [Integer(1, n_comp_max, name='n_components')]\n",
    "@use_named_args(space)\n",
    "def Comp_Model_Score(n_components):\n",
    "    scores = np.zeros((n_fold,))\n",
    "    for i,(train_index, test_index) in enumerate(RollingCV(tscv, X_train)):\n",
    "        y_true = Y_train[test_index]\n",
    "        y_pred = predict(PLS_list[i], X_train[test_index], n_components)\n",
    "        # y_pred = predict(np.load(f'./data/wrk/ISIMPLS_fold{i:02d}.npz'),\n",
    "        #                  X_train[test_index], n_components)\n",
    "        scores[i] = RMSE(y_true, y_pred)\n",
    "    return np.mean(scores)\n"
   ]
  },
  {
   "cell_type": "code",
   "execution_count": 84,
   "id": "59af0678-6b19-43b5-a43e-912132659ebe",
   "metadata": {
    "collapsed": false
   },
   "outputs": [
    {
     "name": "stdout",
     "output_type": "stream",
     "text": [
      "n_calls = 5\n",
      "Iteration No: 1 started. Evaluating function at random point.\n"
     ]
    },
    {
     "name": "stdout",
     "output_type": "stream",
     "text": [
      "Iteration No: 1 ended. Evaluation done at random point.\n",
      "Time taken: 0.6960\n",
      "Function value obtained: 8.1527\n",
      "Current minimum: 8.1527\n",
      "Iteration No: 2 started. Evaluating function at random point.\n"
     ]
    },
    {
     "name": "stdout",
     "output_type": "stream",
     "text": [
      "Iteration No: 2 ended. Evaluation done at random point.\n",
      "Time taken: 0.7123\n",
      "Function value obtained: 8.3838\n",
      "Current minimum: 8.1527\n",
      "Iteration No: 3 started. Evaluating function at random point.\n"
     ]
    },
    {
     "name": "stdout",
     "output_type": "stream",
     "text": [
      "Iteration No: 3 ended. Evaluation done at random point.\n",
      "Time taken: 0.7060\n",
      "Function value obtained: 8.3889\n",
      "Current minimum: 8.1527\n",
      "Iteration No: 4 started. Evaluating function at random point.\n"
     ]
    },
    {
     "name": "stdout",
     "output_type": "stream",
     "text": [
      "Iteration No: 4 ended. Evaluation done at random point.\n",
      "Time taken: 0.7026\n",
      "Function value obtained: 8.3838\n",
      "Current minimum: 8.1527\n",
      "Iteration No: 5 started. Evaluating function at random point.\n"
     ]
    },
    {
     "name": "stdout",
     "output_type": "stream",
     "text": [
      "Iteration No: 5 ended. Evaluation done at random point.\n",
      "Time taken: 0.6327\n",
      "Function value obtained: 8.1783\n",
      "Current minimum: 8.1527\n",
      "Iteration No: 6 started. Evaluating function at random point.\n"
     ]
    },
    {
     "name": "stdout",
     "output_type": "stream",
     "text": [
      "Iteration No: 6 ended. Evaluation done at random point.\n",
      "Time taken: 0.6009\n",
      "Function value obtained: 7.8384\n",
      "Current minimum: 7.8384\n",
      "Iteration No: 7 started. Evaluating function at random point.\n"
     ]
    },
    {
     "name": "stdout",
     "output_type": "stream",
     "text": [
      "Iteration No: 7 ended. Evaluation done at random point.\n",
      "Time taken: 0.5468\n",
      "Function value obtained: 7.6128\n",
      "Current minimum: 7.6128\n",
      "Iteration No: 8 started. Evaluating function at random point.\n"
     ]
    },
    {
     "name": "stdout",
     "output_type": "stream",
     "text": [
      "Iteration No: 8 ended. Evaluation done at random point.\n",
      "Time taken: 0.5231\n",
      "Function value obtained: 7.2979\n",
      "Current minimum: 7.2979\n",
      "Iteration No: 9 started. Evaluating function at random point.\n"
     ]
    },
    {
     "name": "stdout",
     "output_type": "stream",
     "text": [
      "Iteration No: 9 ended. Evaluation done at random point.\n",
      "Time taken: 0.5547\n",
      "Function value obtained: 7.5730\n",
      "Current minimum: 7.2979\n",
      "Iteration No: 10 started. Evaluating function at random point.\n"
     ]
    },
    {
     "name": "stdout",
     "output_type": "stream",
     "text": [
      "Iteration No: 10 ended. Evaluation done at random point.\n",
      "Time taken: 0.9994\n",
      "Function value obtained: 7.9823\n",
      "Current minimum: 7.2979\n",
      "----------------------------------------\n",
      "Best param = 07\n",
      "Best score = 7.2979\n",
      "total time = 6.7s\n"
     ]
    }
   ],
   "source": [
    "n_calls = int(np.log(n_comp_max)) + 1\n",
    "print(f\"n_calls = {n_calls:d}\")\n",
    "n_calls *= 2\n",
    "\n",
    "tim_tot.tic()\n",
    "res_gp = gp_minimize(Comp_Model_Score, space, n_calls=max(n_calls,10), \n",
    "                     random_state=0, verbose=True)\n",
    "\n",
    "print(\"-\"*40)\n",
    "print(f\"Best param = {res_gp.x[0]:02d}\")\n",
    "print(f\"Best score = {res_gp.fun:.4f}\")\n",
    "print(f\"total time = {tim_tot.tocvalue():.1f}s\")\n"
   ]
  },
  {
   "cell_type": "code",
   "execution_count": null,
   "id": "b4206cab-fa98-4e1f-af19-c3c4752fb99a",
   "metadata": {
    "collapsed": false
   },
   "outputs": [
    {
     "name": "stdout",
     "output_type": "stream",
     "text": [
      "params={'n_components': 100}, score=2.1730468e+00, elapsed time=97598.1s\n"
     ]
    },
    {
     "name": "stdout",
     "output_type": "stream",
     "text": [
      "params={'n_components': 150}, score=2.2380231e+00, elapsed time=159673.6s\n"
     ]
    }
   ],
   "source": [
    "import Code.ISIMPLS\n",
    "importlib.reload(Code.ISIMPLS)\n",
    "from Code.ISIMPLS import ISIMPLS2 as ISIMPLS\n",
    "\n",
    "scores = []\n",
    "params = []\n",
    "n_comp_list=list(range(100,401,50))\n",
    "\n",
    "tim_tot.tic()\n",
    "for n_comp in n_comp_list:\n",
    "    tim.tic()\n",
    "    pls=ISIMPLS(n_components=n_comp)\n",
    "    scores.append(Comp_Model_Score(pls, RollingCV(tscv,X_train), X_train, Y_train) )\n",
    "    params.append({'n_components': n_comp})\n",
    "    print(f\"params={params[-1]}, score={scores[-1]:.7e}, \"\n",
    "          +f\"elapsed time={tim.tocvalue():.1f}s\")\n",
    "\n",
    "best_ind = np.nanargmin(scores)\n",
    "print(\"\")\n",
    "print(f\"best parameter: {params[best_ind]}; score: {scores[best_ind]:.7e}; \"\n",
    "      + f\"total time={tim_tot.tocvalue():.1f}s\")\n"
   ]
  }
 ],
 "metadata": {
  "kernelspec": {
   "argv": [
    "/home/tingan/miniconda3/envs/pls/bin/python",
    "-m",
    "ipykernel_launcher",
    "-f",
    "{connection_file}"
   ],
   "display_name": "Python 3 (ipykernel)",
   "env": null,
   "interrupt_mode": "signal",
   "language": "python",
   "metadata": {
    "debugger": true
   },
   "name": "python3"
  },
  "language_info": {
   "codemirror_mode": {
    "name": "ipython",
    "version": 3
   },
   "file_extension": ".py",
   "mimetype": "text/x-python",
   "name": "python",
   "nbconvert_exporter": "python",
   "pygments_lexer": "ipython3",
   "version": "3.10.11"
  },
  "name": "CV_merra2_ISIMPLS.ipynb"
 },
 "nbformat": 4,
 "nbformat_minor": 5
}
