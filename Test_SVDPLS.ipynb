{
 "cells": [
  {
   "cell_type": "code",
   "execution_count": 2,
   "id": "b53cd1a2-5ace-4e3f-9f8f-556cea883d22",
   "metadata": {
    "collapsed": false,
    "jupyter": {
     "outputs_hidden": false
    }
   },
   "outputs": [],
   "source": [
    "import importlib\n",
    "# --------------------\n",
    "from sklearn.utils import gen_batches\n",
    "from sklearn.model_selection import GridSearchCV, KFold, TimeSeriesSplit\n",
    "import numpy as np\n",
    "from numpy.linalg import norm,inv,matrix_rank\n",
    "import h5py\n",
    "\n",
    "# ----------\n",
    "from sklearn.cross_decomposition import PLSRegression\n",
    "from pytictoc import TicToc\n",
    "tictoc=TicToc()"
   ]
  },
  {
   "cell_type": "code",
   "execution_count": 3,
   "id": "6f7f3a23-bf09-4852-acca-cb1adbdb7ee5",
   "metadata": {
    "collapsed": false,
    "jupyter": {
     "outputs_hidden": false
    }
   },
   "outputs": [],
   "source": [
    "tmp = h5py.File('./data/TW_PM25.h5', 'r')\n",
    "X_train, Y_train = tmp['X_train'], tmp['Y_train']\n",
    "n_train = X_train.shape[0]\n",
    "\n",
    "X_train = X_train[0:n_train]\n",
    "Y_train = Y_train[0:n_train]\n",
    "tmp.close()"
   ]
  },
  {
   "cell_type": "code",
   "execution_count": 3,
   "id": "a3b488d1-5a27-4f7f-901f-bc8e86f13cd8",
   "metadata": {
    "collapsed": false,
    "jupyter": {
     "outputs_hidden": false
    }
   },
   "outputs": [
    {
     "name": "stdout",
     "output_type": "stream",
     "text": [
      "(877, 1800)\n",
      "(877, 1800)\n",
      "Fold 0:\n",
      "  Train: len=367\n",
      "  Test:  len=30\n",
      "Fold 1:\n",
      "  Train: len=397\n",
      "  Test:  len=30\n",
      "Fold 2:\n",
      "  Train: len=427\n",
      "  Test:  len=30\n",
      "Fold 3:\n",
      "  Train: len=457\n",
      "  Test:  len=30\n",
      "Fold 4:\n",
      "  Train: len=487\n",
      "  Test:  len=30\n"
     ]
    }
   ],
   "source": [
    "print(X_train.shape)\n",
    "print(Y_train.shape)\n",
    "\n",
    "tscv = TimeSeriesSplit(n_splits=17, test_size=30)\n",
    "for i, (train_index, test_index) in enumerate(tscv.split(X_train)):\n",
    "    print(f\"Fold {i}:\")\n",
    "    print(f\"  Train: len={len(train_index)}\")\n",
    "    print(f\"  Test:  len={len(test_index)}\")\n",
    "    if(i>3):\n",
    "        break"
   ]
  },
  {
   "cell_type": "code",
   "execution_count": 4,
   "id": "99244c52-403e-461a-ad4d-0393414f4240",
   "metadata": {
    "collapsed": false,
    "jupyter": {
     "outputs_hidden": false
    }
   },
   "outputs": [],
   "source": [
    "import rpy2\n",
    "import rpy2.robjects as robjects\n",
    "from rpy2.robjects.packages import importr, data\n",
    "from rpy2.robjects.vectors import StrVector\n",
    "from rpy2.robjects import numpy2ri\n",
    "numpy2ri.activate()\n",
    "\n",
    "bigsgpls = importr(\"bigsgPLS\")\n",
    "stats = importr(\"stats\")\n",
    "pls = bigsgpls.bigsgpls(X_train[:-100], Y_train[:-100], case=1, H=7, scale=False)\n"
   ]
  },
  {
   "cell_type": "code",
   "execution_count": 5,
   "id": "9e12a3ce-7ec5-4cda-8fdd-397d4a5c9708",
   "metadata": {
    "collapsed": false,
    "jupyter": {
     "outputs_hidden": false
    }
   },
   "outputs": [
    {
     "name": "stdout",
     "output_type": "stream",
     "text": [
      "(777, 7)\n",
      "[8.11062024 8.08642901 6.66353196 ... 9.25611338 5.5254836  4.56575435]\n",
      "<rpy2.rinterface_lib.sexp.StrSexpVector object at 0x7f98ed20e500> [RTYPES.STRSXP]\n",
      "['adjloadings' 'loadings' 'CEmat' 'variates' 'ncomp' 'scales' 'Y']\n",
      "(1800, 7)\n",
      "(1800,)\n",
      "(1800,)\n"
     ]
    }
   ],
   "source": [
    "print(pls.rx2('variates').rx2('X').shape)\n",
    "print(pls.rx2('scales').rx2('x_scale'))\n",
    "print(pls.rclass)\n",
    "print(pls.names)\n",
    "\n",
    "print(pls.rx2('loadings').rx2('X').shape)\n",
    "print(pls.rx2('scales').rx2('x_means').shape)\n",
    "print(pls.rx2('scales').rx2('y_means').shape)"
   ]
  },
  {
   "cell_type": "code",
   "execution_count": 6,
   "id": "3820d9bd-e750-49b0-b1f0-214d009116e5",
   "metadata": {
    "collapsed": false,
    "jupyter": {
     "outputs_hidden": false
    }
   },
   "outputs": [
    {
     "name": "stderr",
     "output_type": "stream",
     "text": [
      "R[write to console]: Error in scale.default(B, center = FALSE, scale = 1/y_scale) : \n",
      "  length of 'scale' must equal the number of columns of 'x'\n",
      "\n"
     ]
    },
    {
     "name": "stderr",
     "output_type": "stream",
     "text": [
      "R[write to console]: In addition: \n"
     ]
    },
    {
     "name": "stderr",
     "output_type": "stream",
     "text": [
      "R[write to console]: There were 33 warnings (use warnings() to see them)\n"
     ]
    },
    {
     "name": "stderr",
     "output_type": "stream",
     "text": [
      "R[write to console]: \n",
      "\n"
     ]
    },
    {
     "ename": "RRuntimeError",
     "evalue": "Error in scale.default(B, center = FALSE, scale = 1/y_scale) : \n  length of 'scale' must equal the number of columns of 'x'\n",
     "output_type": "error",
     "traceback": [
      "\u001b[0;31m---------------------------------------------------------------------------\u001b[0m",
      "\u001b[0;31mRRuntimeError\u001b[0m                             Traceback (most recent call last)",
      "Cell \u001b[0;32mIn[6], line 1\u001b[0m\n\u001b[0;32m----> 1\u001b[0m ypred \u001b[38;5;241m=\u001b[39m \u001b[43mrobjects\u001b[49m\u001b[38;5;241;43m.\u001b[39;49m\u001b[43mr\u001b[49m\u001b[38;5;241;43m.\u001b[39;49m\u001b[43mpredict\u001b[49m\u001b[43m(\u001b[49m\u001b[43mpls\u001b[49m\u001b[43m,\u001b[49m\u001b[43m \u001b[49m\u001b[43mX_train\u001b[49m\u001b[43m[\u001b[49m\u001b[38;5;241;43m-\u001b[39;49m\u001b[38;5;241;43m100\u001b[39;49m\u001b[43m:\u001b[49m\u001b[43m]\u001b[49m\u001b[43m,\u001b[49m\u001b[43m \u001b[49m\u001b[43mng\u001b[49m\u001b[38;5;241;43m=\u001b[39;49m\u001b[38;5;241;43m1\u001b[39;49m\u001b[43m)\u001b[49m\n",
      "File \u001b[0;32m~/miniconda3/envs/pls/lib/python3.10/site-packages/rpy2/robjects/functions.py:208\u001b[0m, in \u001b[0;36mSignatureTranslatedFunction.__call__\u001b[0;34m(self, *args, **kwargs)\u001b[0m\n\u001b[1;32m    206\u001b[0m         v \u001b[38;5;241m=\u001b[39m kwargs\u001b[38;5;241m.\u001b[39mpop(k)\n\u001b[1;32m    207\u001b[0m         kwargs[r_k] \u001b[38;5;241m=\u001b[39m v\n\u001b[0;32m--> 208\u001b[0m \u001b[38;5;28;01mreturn\u001b[39;00m (\u001b[38;5;28;43msuper\u001b[39;49m\u001b[43m(\u001b[49m\u001b[43mSignatureTranslatedFunction\u001b[49m\u001b[43m,\u001b[49m\u001b[43m \u001b[49m\u001b[38;5;28;43mself\u001b[39;49m\u001b[43m)\u001b[49m\n\u001b[1;32m    209\u001b[0m \u001b[43m        \u001b[49m\u001b[38;5;241;43m.\u001b[39;49m\u001b[38;5;21;43m__call__\u001b[39;49m\u001b[43m(\u001b[49m\u001b[38;5;241;43m*\u001b[39;49m\u001b[43margs\u001b[49m\u001b[43m,\u001b[49m\u001b[43m \u001b[49m\u001b[38;5;241;43m*\u001b[39;49m\u001b[38;5;241;43m*\u001b[39;49m\u001b[43mkwargs\u001b[49m\u001b[43m)\u001b[49m)\n",
      "File \u001b[0;32m~/miniconda3/envs/pls/lib/python3.10/site-packages/rpy2/robjects/functions.py:131\u001b[0m, in \u001b[0;36mFunction.__call__\u001b[0;34m(self, *args, **kwargs)\u001b[0m\n\u001b[1;32m    129\u001b[0m     \u001b[38;5;28;01melse\u001b[39;00m:\n\u001b[1;32m    130\u001b[0m         new_kwargs[k] \u001b[38;5;241m=\u001b[39m cv\u001b[38;5;241m.\u001b[39mpy2rpy(v)\n\u001b[0;32m--> 131\u001b[0m res \u001b[38;5;241m=\u001b[39m \u001b[38;5;28;43msuper\u001b[39;49m\u001b[43m(\u001b[49m\u001b[43mFunction\u001b[49m\u001b[43m,\u001b[49m\u001b[43m \u001b[49m\u001b[38;5;28;43mself\u001b[39;49m\u001b[43m)\u001b[49m\u001b[38;5;241;43m.\u001b[39;49m\u001b[38;5;21;43m__call__\u001b[39;49m\u001b[43m(\u001b[49m\u001b[38;5;241;43m*\u001b[39;49m\u001b[43mnew_args\u001b[49m\u001b[43m,\u001b[49m\u001b[43m \u001b[49m\u001b[38;5;241;43m*\u001b[39;49m\u001b[38;5;241;43m*\u001b[39;49m\u001b[43mnew_kwargs\u001b[49m\u001b[43m)\u001b[49m\n\u001b[1;32m    132\u001b[0m res \u001b[38;5;241m=\u001b[39m cv\u001b[38;5;241m.\u001b[39mrpy2py(res)\n\u001b[1;32m    133\u001b[0m \u001b[38;5;28;01mreturn\u001b[39;00m res\n",
      "File \u001b[0;32m~/miniconda3/envs/pls/lib/python3.10/site-packages/rpy2/rinterface_lib/conversion.py:45\u001b[0m, in \u001b[0;36m_cdata_res_to_rinterface.<locals>._\u001b[0;34m(*args, **kwargs)\u001b[0m\n\u001b[1;32m     44\u001b[0m \u001b[38;5;28;01mdef\u001b[39;00m \u001b[38;5;21m_\u001b[39m(\u001b[38;5;241m*\u001b[39margs, \u001b[38;5;241m*\u001b[39m\u001b[38;5;241m*\u001b[39mkwargs):\n\u001b[0;32m---> 45\u001b[0m     cdata \u001b[38;5;241m=\u001b[39m \u001b[43mfunction\u001b[49m\u001b[43m(\u001b[49m\u001b[38;5;241;43m*\u001b[39;49m\u001b[43margs\u001b[49m\u001b[43m,\u001b[49m\u001b[43m \u001b[49m\u001b[38;5;241;43m*\u001b[39;49m\u001b[38;5;241;43m*\u001b[39;49m\u001b[43mkwargs\u001b[49m\u001b[43m)\u001b[49m\n\u001b[1;32m     46\u001b[0m     \u001b[38;5;66;03m# TODO: test cdata is of the expected CType\u001b[39;00m\n\u001b[1;32m     47\u001b[0m     \u001b[38;5;28;01mreturn\u001b[39;00m _cdata_to_rinterface(cdata)\n",
      "File \u001b[0;32m~/miniconda3/envs/pls/lib/python3.10/site-packages/rpy2/rinterface.py:869\u001b[0m, in \u001b[0;36mSexpClosure.__call__\u001b[0;34m(self, *args, **kwargs)\u001b[0m\n\u001b[1;32m    862\u001b[0m     res \u001b[38;5;241m=\u001b[39m rmemory\u001b[38;5;241m.\u001b[39mprotect(\n\u001b[1;32m    863\u001b[0m         openrlib\u001b[38;5;241m.\u001b[39mrlib\u001b[38;5;241m.\u001b[39mR_tryEval(\n\u001b[1;32m    864\u001b[0m             call_r,\n\u001b[1;32m    865\u001b[0m             call_context\u001b[38;5;241m.\u001b[39m__sexp__\u001b[38;5;241m.\u001b[39m_cdata,\n\u001b[1;32m    866\u001b[0m             error_occured)\n\u001b[1;32m    867\u001b[0m     )\n\u001b[1;32m    868\u001b[0m     \u001b[38;5;28;01mif\u001b[39;00m error_occured[\u001b[38;5;241m0\u001b[39m]:\n\u001b[0;32m--> 869\u001b[0m         \u001b[38;5;28;01mraise\u001b[39;00m embedded\u001b[38;5;241m.\u001b[39mRRuntimeError(_rinterface\u001b[38;5;241m.\u001b[39m_geterrmessage())\n\u001b[1;32m    870\u001b[0m \u001b[38;5;28;01mreturn\u001b[39;00m res\n",
      "\u001b[0;31mRRuntimeError\u001b[0m: Error in scale.default(B, center = FALSE, scale = 1/y_scale) : \n  length of 'scale' must equal the number of columns of 'x'\n"
     ]
    }
   ],
   "source": [
    "ypred = robjects.r.predict(pls, X_train[-100:], ng=1)"
   ]
  },
  {
   "cell_type": "code",
   "execution_count": null,
   "id": "24cf0f56-e7c7-4754-81d5-d4ebedff7db7",
   "metadata": {
    "collapsed": false,
    "jupyter": {
     "outputs_hidden": false
    }
   },
   "outputs": [],
   "source": []
  },
  {
   "cell_type": "code",
   "execution_count": null,
   "id": "07d9559e-be5e-4341-87dc-6dfd10be064a",
   "metadata": {
    "collapsed": false,
    "jupyter": {
     "outputs_hidden": false
    }
   },
   "outputs": [],
   "source": [
    "n_comp_lst=list(range(1,16))\n",
    "parameters = {'n_components':n_comp_lst}\n",
    "clf = GridSearchCV(PLSRegression(), parameters,\n",
    "                   cv=tscv, n_jobs=4,\n",
    "                   scoring='neg_root_mean_squared_error')\n",
    "print(clf)\n",
    "tictoc.tic()\n",
    "clf.fit(X_train, Y_train)\n",
    "print(\"CV elapsed time: {:.2f}s\".format(tictoc.tocvalue()))\n",
    "print(\"best parameter: \", clf.best_params_,\n",
    "      \"; score: {:15.7e}\".format(clf.best_score_))"
   ]
  }
 ],
 "metadata": {
  "kernelspec": {
   "argv": [
    "python",
    "-m",
    "ipykernel_launcher",
    "-f",
    "{connection_file}"
   ],
   "display_name": "Python 3 (ipykernel)",
   "env": null,
   "interrupt_mode": "signal",
   "language": "python",
   "metadata": {
    "debugger": true
   },
   "name": "python3"
  },
  "language_info": {
   "codemirror_mode": {
    "name": "ipython",
    "version": 3
   },
   "file_extension": ".py",
   "mimetype": "text/x-python",
   "name": "python",
   "nbconvert_exporter": "python",
   "pygments_lexer": "ipython3",
   "version": "3.10.11"
  },
  "name": "Test_SVDPLS.ipynb"
 },
 "nbformat": 4,
 "nbformat_minor": 5
}
